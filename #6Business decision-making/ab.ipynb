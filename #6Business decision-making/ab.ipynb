{
 "cells": [
  {
   "cell_type": "markdown",
   "metadata": {},
   "source": [
    "# Принятие решений в бизнесе на основе данных"
   ]
  },
  {
   "cell_type": "markdown",
   "metadata": {},
   "source": [
    "**Описание проекта**  \n",
    "\n",
    "Вы — аналитик крупного интернет-магазина. Вместе с отделом маркетинга вы подготовили список гипотез для увеличения выручки. Приоритизируйте гипотезы, запустите A/B-тест и проанализируйте результаты."
   ]
  },
  {
   "cell_type": "markdown",
   "metadata": {},
   "source": [
    "### 1. Загрузим данные\n"
   ]
  },
  {
   "cell_type": "markdown",
   "metadata": {},
   "source": [
    "В файле **/datasets/hypothesis.csv** 9 гипотез по увеличению выручки интернет-магазина с указанными параметрами **Reach, Impact, Confidence, Effort.** \n",
    "\n",
    "**Задача:**    \n",
    "Применить фреймворк **ICE** для приоритизации гипотез. Отсортировать их по убыванию приоритета.  \n",
    "Применить фреймворк **RICE** для приоритизации гипотез. Отсортировать их по убыванию приоритета.  \n",
    "Указать, как изменилась приоритизация гипотез при применении **RICE** вместо **ICE**. Объяснить, почему так произошло.  \n"
   ]
  },
  {
   "cell_type": "code",
   "execution_count": 2,
   "metadata": {},
   "outputs": [],
   "source": [
    "import numpy as np\n",
    "import pandas as pd\n",
    "import matplotlib as mpl\n",
    "import matplotlib.pyplot as plt\n",
    "import seaborn as sns\n",
    "from scipy import stats as st\n",
    "import scipy.stats as stats\n",
    "import math as mth\n",
    "import datetime as dt"
   ]
  },
  {
   "cell_type": "code",
   "execution_count": 3,
   "metadata": {
    "scrolled": true
   },
   "outputs": [
    {
     "data": {
      "text/html": [
       "<div>\n",
       "<style scoped>\n",
       "    .dataframe tbody tr th:only-of-type {\n",
       "        vertical-align: middle;\n",
       "    }\n",
       "\n",
       "    .dataframe tbody tr th {\n",
       "        vertical-align: top;\n",
       "    }\n",
       "\n",
       "    .dataframe thead th {\n",
       "        text-align: right;\n",
       "    }\n",
       "</style>\n",
       "<table border=\"1\" class=\"dataframe\">\n",
       "  <thead>\n",
       "    <tr style=\"text-align: right;\">\n",
       "      <th></th>\n",
       "      <th>Hypothesis</th>\n",
       "      <th>Reach</th>\n",
       "      <th>Impact</th>\n",
       "      <th>Confidence</th>\n",
       "      <th>Efforts</th>\n",
       "    </tr>\n",
       "  </thead>\n",
       "  <tbody>\n",
       "    <tr>\n",
       "      <td>0</td>\n",
       "      <td>Добавить два новых канала привлечения трафика, что позволит привлекать на 30% больше пользователей</td>\n",
       "      <td>3</td>\n",
       "      <td>10</td>\n",
       "      <td>8</td>\n",
       "      <td>6</td>\n",
       "    </tr>\n",
       "    <tr>\n",
       "      <td>1</td>\n",
       "      <td>Запустить собственную службу доставки, что сократит срок доставки заказов</td>\n",
       "      <td>2</td>\n",
       "      <td>5</td>\n",
       "      <td>4</td>\n",
       "      <td>10</td>\n",
       "    </tr>\n",
       "    <tr>\n",
       "      <td>2</td>\n",
       "      <td>Добавить блоки рекомендаций товаров на сайт интернет магазина, чтобы повысить конверсию и средний чек заказа</td>\n",
       "      <td>8</td>\n",
       "      <td>3</td>\n",
       "      <td>7</td>\n",
       "      <td>3</td>\n",
       "    </tr>\n",
       "    <tr>\n",
       "      <td>3</td>\n",
       "      <td>Изменить структура категорий, что увеличит конверсию, т.к. пользователи быстрее найдут нужный товар</td>\n",
       "      <td>8</td>\n",
       "      <td>3</td>\n",
       "      <td>3</td>\n",
       "      <td>8</td>\n",
       "    </tr>\n",
       "    <tr>\n",
       "      <td>4</td>\n",
       "      <td>Изменить цвет фона главной страницы, чтобы увеличить вовлеченность пользователей</td>\n",
       "      <td>3</td>\n",
       "      <td>1</td>\n",
       "      <td>1</td>\n",
       "      <td>1</td>\n",
       "    </tr>\n",
       "    <tr>\n",
       "      <td>5</td>\n",
       "      <td>Добавить страницу отзывов клиентов о магазине, что позволит увеличить количество заказов</td>\n",
       "      <td>3</td>\n",
       "      <td>2</td>\n",
       "      <td>2</td>\n",
       "      <td>3</td>\n",
       "    </tr>\n",
       "    <tr>\n",
       "      <td>6</td>\n",
       "      <td>Показать на главной странице баннеры с актуальными акциями и распродажами, чтобы увеличить конверсию</td>\n",
       "      <td>5</td>\n",
       "      <td>3</td>\n",
       "      <td>8</td>\n",
       "      <td>3</td>\n",
       "    </tr>\n",
       "    <tr>\n",
       "      <td>7</td>\n",
       "      <td>Добавить форму подписки на все основные страницы, чтобы собрать базу клиентов для email-рассылок</td>\n",
       "      <td>10</td>\n",
       "      <td>7</td>\n",
       "      <td>8</td>\n",
       "      <td>5</td>\n",
       "    </tr>\n",
       "    <tr>\n",
       "      <td>8</td>\n",
       "      <td>Запустить акцию, дающую скидку на товар в день рождения</td>\n",
       "      <td>1</td>\n",
       "      <td>9</td>\n",
       "      <td>9</td>\n",
       "      <td>5</td>\n",
       "    </tr>\n",
       "  </tbody>\n",
       "</table>\n",
       "</div>"
      ],
      "text/plain": [
       "                                                                                                     Hypothesis  \\\n",
       "0            Добавить два новых канала привлечения трафика, что позволит привлекать на 30% больше пользователей   \n",
       "1                                     Запустить собственную службу доставки, что сократит срок доставки заказов   \n",
       "2  Добавить блоки рекомендаций товаров на сайт интернет магазина, чтобы повысить конверсию и средний чек заказа   \n",
       "3           Изменить структура категорий, что увеличит конверсию, т.к. пользователи быстрее найдут нужный товар   \n",
       "4                              Изменить цвет фона главной страницы, чтобы увеличить вовлеченность пользователей   \n",
       "5                      Добавить страницу отзывов клиентов о магазине, что позволит увеличить количество заказов   \n",
       "6          Показать на главной странице баннеры с актуальными акциями и распродажами, чтобы увеличить конверсию   \n",
       "7              Добавить форму подписки на все основные страницы, чтобы собрать базу клиентов для email-рассылок   \n",
       "8                                                       Запустить акцию, дающую скидку на товар в день рождения   \n",
       "\n",
       "   Reach  Impact  Confidence  Efforts  \n",
       "0      3      10           8        6  \n",
       "1      2       5           4       10  \n",
       "2      8       3           7        3  \n",
       "3      8       3           3        8  \n",
       "4      3       1           1        1  \n",
       "5      3       2           2        3  \n",
       "6      5       3           8        3  \n",
       "7     10       7           8        5  \n",
       "8      1       9           9        5  "
      ]
     },
     "execution_count": 3,
     "metadata": {},
     "output_type": "execute_result"
    }
   ],
   "source": [
    "hypothesis = pd.read_csv('/datasets/hypothesis.csv')\n",
    "pd.set_option(\"max_colwidth\", 150)\n",
    "\n",
    "hypothesis"
   ]
  },
  {
   "cell_type": "markdown",
   "metadata": {},
   "source": [
    "Применим фреймворк **ICE:**"
   ]
  },
  {
   "cell_type": "code",
   "execution_count": 4,
   "metadata": {
    "scrolled": true
   },
   "outputs": [
    {
     "data": {
      "text/html": [
       "<div>\n",
       "<style scoped>\n",
       "    .dataframe tbody tr th:only-of-type {\n",
       "        vertical-align: middle;\n",
       "    }\n",
       "\n",
       "    .dataframe tbody tr th {\n",
       "        vertical-align: top;\n",
       "    }\n",
       "\n",
       "    .dataframe thead th {\n",
       "        text-align: right;\n",
       "    }\n",
       "</style>\n",
       "<table border=\"1\" class=\"dataframe\">\n",
       "  <thead>\n",
       "    <tr style=\"text-align: right;\">\n",
       "      <th></th>\n",
       "      <th>Hypothesis</th>\n",
       "      <th>ICE</th>\n",
       "    </tr>\n",
       "  </thead>\n",
       "  <tbody>\n",
       "    <tr>\n",
       "      <td>9</td>\n",
       "      <td>Запустить акцию, дающую скидку на товар в день рождения</td>\n",
       "      <td>16.200000</td>\n",
       "    </tr>\n",
       "    <tr>\n",
       "      <td>1</td>\n",
       "      <td>Добавить два новых канала привлечения трафика, что позволит привлекать на 30% больше пользователей</td>\n",
       "      <td>13.333333</td>\n",
       "    </tr>\n",
       "    <tr>\n",
       "      <td>8</td>\n",
       "      <td>Добавить форму подписки на все основные страницы, чтобы собрать базу клиентов для email-рассылок</td>\n",
       "      <td>11.200000</td>\n",
       "    </tr>\n",
       "    <tr>\n",
       "      <td>7</td>\n",
       "      <td>Показать на главной странице баннеры с актуальными акциями и распродажами, чтобы увеличить конверсию</td>\n",
       "      <td>8.000000</td>\n",
       "    </tr>\n",
       "    <tr>\n",
       "      <td>3</td>\n",
       "      <td>Добавить блоки рекомендаций товаров на сайт интернет магазина, чтобы повысить конверсию и средний чек заказа</td>\n",
       "      <td>7.000000</td>\n",
       "    </tr>\n",
       "    <tr>\n",
       "      <td>2</td>\n",
       "      <td>Запустить собственную службу доставки, что сократит срок доставки заказов</td>\n",
       "      <td>2.000000</td>\n",
       "    </tr>\n",
       "    <tr>\n",
       "      <td>6</td>\n",
       "      <td>Добавить страницу отзывов клиентов о магазине, что позволит увеличить количество заказов</td>\n",
       "      <td>1.333333</td>\n",
       "    </tr>\n",
       "    <tr>\n",
       "      <td>4</td>\n",
       "      <td>Изменить структура категорий, что увеличит конверсию, т.к. пользователи быстрее найдут нужный товар</td>\n",
       "      <td>1.125000</td>\n",
       "    </tr>\n",
       "    <tr>\n",
       "      <td>5</td>\n",
       "      <td>Изменить цвет фона главной страницы, чтобы увеличить вовлеченность пользователей</td>\n",
       "      <td>1.000000</td>\n",
       "    </tr>\n",
       "  </tbody>\n",
       "</table>\n",
       "</div>"
      ],
      "text/plain": [
       "                                                                                                     Hypothesis  \\\n",
       "9                                                       Запустить акцию, дающую скидку на товар в день рождения   \n",
       "1            Добавить два новых канала привлечения трафика, что позволит привлекать на 30% больше пользователей   \n",
       "8              Добавить форму подписки на все основные страницы, чтобы собрать базу клиентов для email-рассылок   \n",
       "7          Показать на главной странице баннеры с актуальными акциями и распродажами, чтобы увеличить конверсию   \n",
       "3  Добавить блоки рекомендаций товаров на сайт интернет магазина, чтобы повысить конверсию и средний чек заказа   \n",
       "2                                     Запустить собственную службу доставки, что сократит срок доставки заказов   \n",
       "6                      Добавить страницу отзывов клиентов о магазине, что позволит увеличить количество заказов   \n",
       "4           Изменить структура категорий, что увеличит конверсию, т.к. пользователи быстрее найдут нужный товар   \n",
       "5                              Изменить цвет фона главной страницы, чтобы увеличить вовлеченность пользователей   \n",
       "\n",
       "         ICE  \n",
       "9  16.200000  \n",
       "1  13.333333  \n",
       "8  11.200000  \n",
       "7   8.000000  \n",
       "3   7.000000  \n",
       "2   2.000000  \n",
       "6   1.333333  \n",
       "4   1.125000  \n",
       "5   1.000000  "
      ]
     },
     "execution_count": 4,
     "metadata": {},
     "output_type": "execute_result"
    }
   ],
   "source": [
    "hypothesis.index = hypothesis.index + 1\n",
    "hypothesis['ICE'] = (hypothesis['Impact'] * hypothesis['Confidence']) / hypothesis['Efforts']\n",
    "hypothesis[['Hypothesis','ICE']].sort_values(by='ICE', ascending=False)"
   ]
  },
  {
   "cell_type": "markdown",
   "metadata": {},
   "source": [
    "Самые перспективные гипотезы **9, 1 и 8**"
   ]
  },
  {
   "cell_type": "markdown",
   "metadata": {},
   "source": [
    "Применим фреймворк **RICE:**"
   ]
  },
  {
   "cell_type": "code",
   "execution_count": 5,
   "metadata": {},
   "outputs": [
    {
     "data": {
      "text/html": [
       "<div>\n",
       "<style scoped>\n",
       "    .dataframe tbody tr th:only-of-type {\n",
       "        vertical-align: middle;\n",
       "    }\n",
       "\n",
       "    .dataframe tbody tr th {\n",
       "        vertical-align: top;\n",
       "    }\n",
       "\n",
       "    .dataframe thead th {\n",
       "        text-align: right;\n",
       "    }\n",
       "</style>\n",
       "<table border=\"1\" class=\"dataframe\">\n",
       "  <thead>\n",
       "    <tr style=\"text-align: right;\">\n",
       "      <th></th>\n",
       "      <th>Hypothesis</th>\n",
       "      <th>RICE</th>\n",
       "    </tr>\n",
       "  </thead>\n",
       "  <tbody>\n",
       "    <tr>\n",
       "      <td>8</td>\n",
       "      <td>Добавить форму подписки на все основные страницы, чтобы собрать базу клиентов для email-рассылок</td>\n",
       "      <td>112.0</td>\n",
       "    </tr>\n",
       "    <tr>\n",
       "      <td>3</td>\n",
       "      <td>Добавить блоки рекомендаций товаров на сайт интернет магазина, чтобы повысить конверсию и средний чек заказа</td>\n",
       "      <td>56.0</td>\n",
       "    </tr>\n",
       "    <tr>\n",
       "      <td>1</td>\n",
       "      <td>Добавить два новых канала привлечения трафика, что позволит привлекать на 30% больше пользователей</td>\n",
       "      <td>40.0</td>\n",
       "    </tr>\n",
       "    <tr>\n",
       "      <td>7</td>\n",
       "      <td>Показать на главной странице баннеры с актуальными акциями и распродажами, чтобы увеличить конверсию</td>\n",
       "      <td>40.0</td>\n",
       "    </tr>\n",
       "    <tr>\n",
       "      <td>9</td>\n",
       "      <td>Запустить акцию, дающую скидку на товар в день рождения</td>\n",
       "      <td>16.2</td>\n",
       "    </tr>\n",
       "    <tr>\n",
       "      <td>4</td>\n",
       "      <td>Изменить структура категорий, что увеличит конверсию, т.к. пользователи быстрее найдут нужный товар</td>\n",
       "      <td>9.0</td>\n",
       "    </tr>\n",
       "    <tr>\n",
       "      <td>2</td>\n",
       "      <td>Запустить собственную службу доставки, что сократит срок доставки заказов</td>\n",
       "      <td>4.0</td>\n",
       "    </tr>\n",
       "    <tr>\n",
       "      <td>6</td>\n",
       "      <td>Добавить страницу отзывов клиентов о магазине, что позволит увеличить количество заказов</td>\n",
       "      <td>4.0</td>\n",
       "    </tr>\n",
       "    <tr>\n",
       "      <td>5</td>\n",
       "      <td>Изменить цвет фона главной страницы, чтобы увеличить вовлеченность пользователей</td>\n",
       "      <td>3.0</td>\n",
       "    </tr>\n",
       "  </tbody>\n",
       "</table>\n",
       "</div>"
      ],
      "text/plain": [
       "                                                                                                     Hypothesis  \\\n",
       "8              Добавить форму подписки на все основные страницы, чтобы собрать базу клиентов для email-рассылок   \n",
       "3  Добавить блоки рекомендаций товаров на сайт интернет магазина, чтобы повысить конверсию и средний чек заказа   \n",
       "1            Добавить два новых канала привлечения трафика, что позволит привлекать на 30% больше пользователей   \n",
       "7          Показать на главной странице баннеры с актуальными акциями и распродажами, чтобы увеличить конверсию   \n",
       "9                                                       Запустить акцию, дающую скидку на товар в день рождения   \n",
       "4           Изменить структура категорий, что увеличит конверсию, т.к. пользователи быстрее найдут нужный товар   \n",
       "2                                     Запустить собственную службу доставки, что сократит срок доставки заказов   \n",
       "6                      Добавить страницу отзывов клиентов о магазине, что позволит увеличить количество заказов   \n",
       "5                              Изменить цвет фона главной страницы, чтобы увеличить вовлеченность пользователей   \n",
       "\n",
       "    RICE  \n",
       "8  112.0  \n",
       "3   56.0  \n",
       "1   40.0  \n",
       "7   40.0  \n",
       "9   16.2  \n",
       "4    9.0  \n",
       "2    4.0  \n",
       "6    4.0  \n",
       "5    3.0  "
      ]
     },
     "execution_count": 5,
     "metadata": {},
     "output_type": "execute_result"
    }
   ],
   "source": [
    "hypothesis['RICE'] = (hypothesis['Reach'] * hypothesis['Impact'] * hypothesis['Confidence']) / hypothesis['Efforts']\n",
    "hypothesis[['Hypothesis','RICE']].sort_values(by='RICE', ascending=False)"
   ]
  },
  {
   "cell_type": "markdown",
   "metadata": {},
   "source": [
    "Самые перспективные гипотезы с индексами **8, 3, 1**"
   ]
  },
  {
   "cell_type": "markdown",
   "metadata": {},
   "source": [
    "Из тройки лидеров выпала **9** гипотеза, все потому что для анализа в фреймворке **RICE** появляется параметр **Reach**, а он у гипотезы **9** имеет показатель **1** (крайне низкий)"
   ]
  },
  {
   "cell_type": "markdown",
   "metadata": {},
   "source": [
    "### 2.  Анализ A/B-теста"
   ]
  },
  {
   "cell_type": "markdown",
   "metadata": {},
   "source": [
    "**Задача:**  \n",
    "\n",
    "Проанализируйте A/B-тест:  \n",
    "\n",
    "* Постройте график кумулятивной выручки по группам. Сделайте выводы и предположения.  \n",
    "* Постройте график кумулятивного среднего чека по группам. Сделайте выводы и предположения.  \n",
    "* Постройте график относительного изменения кумулятивного среднего чека группы B к группе A. Сделайте выводы и предположения.  \n",
    "* Постройте график кумулятивной конверсии по группам. Сделайте выводы и предположения.  \n",
    "* Постройте график относительного изменения кумулятивной конверсии группы B к группе A. Сделайте выводы и предположения.  \n",
    "* Постройте точечный график количества заказов по пользователям. Сделайте выводы и предположения.  \n",
    "* Посчитайте 95-й и 99-й перцентили количества заказов на пользователя. Выберите границу для определения аномальных пользователей.  \n",
    "* Постройте точечный график стоимостей заказов. Сделайте выводы и предположения.  \n",
    "* Посчитайте 95-й и 99-й перцентили стоимости заказов. Выберите границу для определения аномальных заказов.  \n",
    "* Посчитайте статистическую значимость различий в конверсии между группами по «сырым» данным. Сделайте выводы и предположения.  \n",
    "* Посчитайте статистическую значимость различий в среднем чеке заказа между группами по «сырым» данным. Сделайте выводы и предположения.  \n",
    "* Посчитайте статистическую значимость различий в конверсии между группами по «очищенным» данным. Сделайте выводы и предположения.  \n",
    "* Посчитайте статистическую значимость различий в среднем чеке заказа между группами по «очищенным» данным. Сделайте выводы и предположения.  \n",
    "\n",
    "Примите решение по результатам теста и объясните его. Варианты решений:    \n",
    "1. Остановить тест, зафиксировать победу одной из групп.   \n",
    "2. Остановить тест, зафиксировать отсутствие различий между группами.   \n",
    "3. Продолжить тест.  "
   ]
  },
  {
   "cell_type": "markdown",
   "metadata": {},
   "source": [
    "Загрузим данные:"
   ]
  },
  {
   "cell_type": "code",
   "execution_count": 6,
   "metadata": {},
   "outputs": [],
   "source": [
    "orders = pd.read_csv('/datasets/orders.csv')\n",
    "visitors = pd.read_csv('/datasets/visitors.csv')"
   ]
  },
  {
   "cell_type": "markdown",
   "metadata": {},
   "source": [
    "Более детально посмотрим на данные и изучим их:"
   ]
  },
  {
   "cell_type": "code",
   "execution_count": 7,
   "metadata": {
    "scrolled": false
   },
   "outputs": [
    {
     "data": {
      "text/html": [
       "<div>\n",
       "<style scoped>\n",
       "    .dataframe tbody tr th:only-of-type {\n",
       "        vertical-align: middle;\n",
       "    }\n",
       "\n",
       "    .dataframe tbody tr th {\n",
       "        vertical-align: top;\n",
       "    }\n",
       "\n",
       "    .dataframe thead th {\n",
       "        text-align: right;\n",
       "    }\n",
       "</style>\n",
       "<table border=\"1\" class=\"dataframe\">\n",
       "  <thead>\n",
       "    <tr style=\"text-align: right;\">\n",
       "      <th></th>\n",
       "      <th>transactionId</th>\n",
       "      <th>visitorId</th>\n",
       "      <th>date</th>\n",
       "      <th>revenue</th>\n",
       "      <th>group</th>\n",
       "    </tr>\n",
       "  </thead>\n",
       "  <tbody>\n",
       "    <tr>\n",
       "      <td>0</td>\n",
       "      <td>3667963787</td>\n",
       "      <td>3312258926</td>\n",
       "      <td>2019-08-15</td>\n",
       "      <td>1650</td>\n",
       "      <td>B</td>\n",
       "    </tr>\n",
       "    <tr>\n",
       "      <td>1</td>\n",
       "      <td>2804400009</td>\n",
       "      <td>3642806036</td>\n",
       "      <td>2019-08-15</td>\n",
       "      <td>730</td>\n",
       "      <td>B</td>\n",
       "    </tr>\n",
       "    <tr>\n",
       "      <td>2</td>\n",
       "      <td>2961555356</td>\n",
       "      <td>4069496402</td>\n",
       "      <td>2019-08-15</td>\n",
       "      <td>400</td>\n",
       "      <td>A</td>\n",
       "    </tr>\n",
       "    <tr>\n",
       "      <td>3</td>\n",
       "      <td>3797467345</td>\n",
       "      <td>1196621759</td>\n",
       "      <td>2019-08-15</td>\n",
       "      <td>9759</td>\n",
       "      <td>B</td>\n",
       "    </tr>\n",
       "    <tr>\n",
       "      <td>4</td>\n",
       "      <td>2282983706</td>\n",
       "      <td>2322279887</td>\n",
       "      <td>2019-08-15</td>\n",
       "      <td>2308</td>\n",
       "      <td>B</td>\n",
       "    </tr>\n",
       "  </tbody>\n",
       "</table>\n",
       "</div>"
      ],
      "text/plain": [
       "   transactionId   visitorId        date  revenue group\n",
       "0     3667963787  3312258926  2019-08-15     1650     B\n",
       "1     2804400009  3642806036  2019-08-15      730     B\n",
       "2     2961555356  4069496402  2019-08-15      400     A\n",
       "3     3797467345  1196621759  2019-08-15     9759     B\n",
       "4     2282983706  2322279887  2019-08-15     2308     B"
      ]
     },
     "execution_count": 7,
     "metadata": {},
     "output_type": "execute_result"
    }
   ],
   "source": [
    "orders.head()"
   ]
  },
  {
   "cell_type": "code",
   "execution_count": 8,
   "metadata": {
    "scrolled": true
   },
   "outputs": [
    {
     "name": "stdout",
     "output_type": "stream",
     "text": [
      "<class 'pandas.core.frame.DataFrame'>\n",
      "RangeIndex: 1197 entries, 0 to 1196\n",
      "Data columns (total 5 columns):\n",
      "transactionId    1197 non-null int64\n",
      "visitorId        1197 non-null int64\n",
      "date             1197 non-null object\n",
      "revenue          1197 non-null int64\n",
      "group            1197 non-null object\n",
      "dtypes: int64(3), object(2)\n",
      "memory usage: 46.9+ KB\n"
     ]
    }
   ],
   "source": [
    "orders.info()"
   ]
  },
  {
   "cell_type": "code",
   "execution_count": 9,
   "metadata": {
    "scrolled": true
   },
   "outputs": [
    {
     "data": {
      "text/plain": [
       "0"
      ]
     },
     "execution_count": 9,
     "metadata": {},
     "output_type": "execute_result"
    }
   ],
   "source": [
    "orders[['transactionId','visitorId']].duplicated().sum()"
   ]
  },
  {
   "cell_type": "code",
   "execution_count": 10,
   "metadata": {
    "scrolled": true
   },
   "outputs": [
    {
     "data": {
      "text/plain": [
       "4256040402    11\n",
       "2458001652    11\n",
       "2378935119     9\n",
       "2038680547     8\n",
       "3717692402     5\n",
       "              ..\n",
       "3254689071     1\n",
       "4186744110     1\n",
       "1455861274     1\n",
       "3612778094     1\n",
       "3149228032     1\n",
       "Name: visitorId, Length: 1031, dtype: int64"
      ]
     },
     "execution_count": 10,
     "metadata": {},
     "output_type": "execute_result"
    }
   ],
   "source": [
    "orders['visitorId'].value_counts()"
   ]
  },
  {
   "cell_type": "code",
   "execution_count": 11,
   "metadata": {
    "scrolled": true
   },
   "outputs": [
    {
     "data": {
      "text/html": [
       "<div>\n",
       "<style scoped>\n",
       "    .dataframe tbody tr th:only-of-type {\n",
       "        vertical-align: middle;\n",
       "    }\n",
       "\n",
       "    .dataframe tbody tr th {\n",
       "        vertical-align: top;\n",
       "    }\n",
       "\n",
       "    .dataframe thead th {\n",
       "        text-align: right;\n",
       "    }\n",
       "</style>\n",
       "<table border=\"1\" class=\"dataframe\">\n",
       "  <thead>\n",
       "    <tr style=\"text-align: right;\">\n",
       "      <th></th>\n",
       "      <th>transactionId</th>\n",
       "      <th>visitorId</th>\n",
       "      <th>date</th>\n",
       "      <th>revenue</th>\n",
       "      <th>group</th>\n",
       "    </tr>\n",
       "  </thead>\n",
       "  <tbody>\n",
       "    <tr>\n",
       "      <td>60</td>\n",
       "      <td>1421016313</td>\n",
       "      <td>4256040402</td>\n",
       "      <td>2019-08-16</td>\n",
       "      <td>56650</td>\n",
       "      <td>B</td>\n",
       "    </tr>\n",
       "    <tr>\n",
       "      <td>114</td>\n",
       "      <td>1120327437</td>\n",
       "      <td>4256040402</td>\n",
       "      <td>2019-08-01</td>\n",
       "      <td>5800</td>\n",
       "      <td>A</td>\n",
       "    </tr>\n",
       "    <tr>\n",
       "      <td>187</td>\n",
       "      <td>2048878902</td>\n",
       "      <td>4256040402</td>\n",
       "      <td>2019-08-17</td>\n",
       "      <td>1550</td>\n",
       "      <td>A</td>\n",
       "    </tr>\n",
       "    <tr>\n",
       "      <td>253</td>\n",
       "      <td>1610091760</td>\n",
       "      <td>4256040402</td>\n",
       "      <td>2019-08-23</td>\n",
       "      <td>16950</td>\n",
       "      <td>A</td>\n",
       "    </tr>\n",
       "    <tr>\n",
       "      <td>263</td>\n",
       "      <td>2575861846</td>\n",
       "      <td>4256040402</td>\n",
       "      <td>2019-08-18</td>\n",
       "      <td>10970</td>\n",
       "      <td>B</td>\n",
       "    </tr>\n",
       "    <tr>\n",
       "      <td>588</td>\n",
       "      <td>3700356838</td>\n",
       "      <td>4256040402</td>\n",
       "      <td>2019-08-20</td>\n",
       "      <td>17650</td>\n",
       "      <td>A</td>\n",
       "    </tr>\n",
       "    <tr>\n",
       "      <td>873</td>\n",
       "      <td>2519737434</td>\n",
       "      <td>4256040402</td>\n",
       "      <td>2019-08-08</td>\n",
       "      <td>58220</td>\n",
       "      <td>B</td>\n",
       "    </tr>\n",
       "    <tr>\n",
       "      <td>901</td>\n",
       "      <td>3402467119</td>\n",
       "      <td>4256040402</td>\n",
       "      <td>2019-08-27</td>\n",
       "      <td>1630</td>\n",
       "      <td>A</td>\n",
       "    </tr>\n",
       "    <tr>\n",
       "      <td>1018</td>\n",
       "      <td>1415970216</td>\n",
       "      <td>4256040402</td>\n",
       "      <td>2019-08-31</td>\n",
       "      <td>5170</td>\n",
       "      <td>A</td>\n",
       "    </tr>\n",
       "    <tr>\n",
       "      <td>1019</td>\n",
       "      <td>453824282</td>\n",
       "      <td>4256040402</td>\n",
       "      <td>2019-08-31</td>\n",
       "      <td>1850</td>\n",
       "      <td>B</td>\n",
       "    </tr>\n",
       "    <tr>\n",
       "      <td>1091</td>\n",
       "      <td>750632879</td>\n",
       "      <td>4256040402</td>\n",
       "      <td>2019-08-12</td>\n",
       "      <td>50</td>\n",
       "      <td>A</td>\n",
       "    </tr>\n",
       "  </tbody>\n",
       "</table>\n",
       "</div>"
      ],
      "text/plain": [
       "      transactionId   visitorId        date  revenue group\n",
       "60       1421016313  4256040402  2019-08-16    56650     B\n",
       "114      1120327437  4256040402  2019-08-01     5800     A\n",
       "187      2048878902  4256040402  2019-08-17     1550     A\n",
       "253      1610091760  4256040402  2019-08-23    16950     A\n",
       "263      2575861846  4256040402  2019-08-18    10970     B\n",
       "588      3700356838  4256040402  2019-08-20    17650     A\n",
       "873      2519737434  4256040402  2019-08-08    58220     B\n",
       "901      3402467119  4256040402  2019-08-27     1630     A\n",
       "1018     1415970216  4256040402  2019-08-31     5170     A\n",
       "1019      453824282  4256040402  2019-08-31     1850     B\n",
       "1091      750632879  4256040402  2019-08-12       50     A"
      ]
     },
     "execution_count": 11,
     "metadata": {},
     "output_type": "execute_result"
    }
   ],
   "source": [
    "orders[orders['visitorId'] == 4256040402]"
   ]
  },
  {
   "cell_type": "code",
   "execution_count": 12,
   "metadata": {
    "scrolled": true
   },
   "outputs": [
    {
     "data": {
      "text/html": [
       "<div>\n",
       "<style scoped>\n",
       "    .dataframe tbody tr th:only-of-type {\n",
       "        vertical-align: middle;\n",
       "    }\n",
       "\n",
       "    .dataframe tbody tr th {\n",
       "        vertical-align: top;\n",
       "    }\n",
       "\n",
       "    .dataframe thead th {\n",
       "        text-align: right;\n",
       "    }\n",
       "</style>\n",
       "<table border=\"1\" class=\"dataframe\">\n",
       "  <thead>\n",
       "    <tr style=\"text-align: right;\">\n",
       "      <th></th>\n",
       "      <th>date</th>\n",
       "      <th>group</th>\n",
       "      <th>visitors</th>\n",
       "    </tr>\n",
       "  </thead>\n",
       "  <tbody>\n",
       "    <tr>\n",
       "      <td>0</td>\n",
       "      <td>2019-08-01</td>\n",
       "      <td>A</td>\n",
       "      <td>719</td>\n",
       "    </tr>\n",
       "    <tr>\n",
       "      <td>1</td>\n",
       "      <td>2019-08-02</td>\n",
       "      <td>A</td>\n",
       "      <td>619</td>\n",
       "    </tr>\n",
       "    <tr>\n",
       "      <td>2</td>\n",
       "      <td>2019-08-03</td>\n",
       "      <td>A</td>\n",
       "      <td>507</td>\n",
       "    </tr>\n",
       "    <tr>\n",
       "      <td>3</td>\n",
       "      <td>2019-08-04</td>\n",
       "      <td>A</td>\n",
       "      <td>717</td>\n",
       "    </tr>\n",
       "    <tr>\n",
       "      <td>4</td>\n",
       "      <td>2019-08-05</td>\n",
       "      <td>A</td>\n",
       "      <td>756</td>\n",
       "    </tr>\n",
       "  </tbody>\n",
       "</table>\n",
       "</div>"
      ],
      "text/plain": [
       "         date group  visitors\n",
       "0  2019-08-01     A       719\n",
       "1  2019-08-02     A       619\n",
       "2  2019-08-03     A       507\n",
       "3  2019-08-04     A       717\n",
       "4  2019-08-05     A       756"
      ]
     },
     "execution_count": 12,
     "metadata": {},
     "output_type": "execute_result"
    }
   ],
   "source": [
    "visitors.head()"
   ]
  },
  {
   "cell_type": "code",
   "execution_count": 13,
   "metadata": {
    "scrolled": true
   },
   "outputs": [
    {
     "name": "stdout",
     "output_type": "stream",
     "text": [
      "<class 'pandas.core.frame.DataFrame'>\n",
      "RangeIndex: 62 entries, 0 to 61\n",
      "Data columns (total 3 columns):\n",
      "date        62 non-null object\n",
      "group       62 non-null object\n",
      "visitors    62 non-null int64\n",
      "dtypes: int64(1), object(2)\n",
      "memory usage: 1.6+ KB\n"
     ]
    }
   ],
   "source": [
    "visitors.info()"
   ]
  },
  {
   "cell_type": "code",
   "execution_count": 14,
   "metadata": {},
   "outputs": [
    {
     "data": {
      "text/plain": [
       "0"
      ]
     },
     "execution_count": 14,
     "metadata": {},
     "output_type": "execute_result"
    }
   ],
   "source": [
    "visitors.duplicated().sum()"
   ]
  },
  {
   "cell_type": "markdown",
   "metadata": {},
   "source": [
    "#### 2.1 Построим график кумулятивной выручки по группам"
   ]
  },
  {
   "cell_type": "markdown",
   "metadata": {},
   "source": [
    "Создаем массив уникальных пар значений дат и групп теста:"
   ]
  },
  {
   "cell_type": "code",
   "execution_count": 15,
   "metadata": {
    "scrolled": true
   },
   "outputs": [
    {
     "data": {
      "text/html": [
       "<div>\n",
       "<style scoped>\n",
       "    .dataframe tbody tr th:only-of-type {\n",
       "        vertical-align: middle;\n",
       "    }\n",
       "\n",
       "    .dataframe tbody tr th {\n",
       "        vertical-align: top;\n",
       "    }\n",
       "\n",
       "    .dataframe thead th {\n",
       "        text-align: right;\n",
       "    }\n",
       "</style>\n",
       "<table border=\"1\" class=\"dataframe\">\n",
       "  <thead>\n",
       "    <tr style=\"text-align: right;\">\n",
       "      <th></th>\n",
       "      <th>date</th>\n",
       "      <th>group</th>\n",
       "    </tr>\n",
       "  </thead>\n",
       "  <tbody>\n",
       "    <tr>\n",
       "      <td>0</td>\n",
       "      <td>2019-08-15</td>\n",
       "      <td>B</td>\n",
       "    </tr>\n",
       "    <tr>\n",
       "      <td>2</td>\n",
       "      <td>2019-08-15</td>\n",
       "      <td>A</td>\n",
       "    </tr>\n",
       "    <tr>\n",
       "      <td>45</td>\n",
       "      <td>2019-08-16</td>\n",
       "      <td>A</td>\n",
       "    </tr>\n",
       "    <tr>\n",
       "      <td>47</td>\n",
       "      <td>2019-08-16</td>\n",
       "      <td>B</td>\n",
       "    </tr>\n",
       "    <tr>\n",
       "      <td>55</td>\n",
       "      <td>2019-08-01</td>\n",
       "      <td>A</td>\n",
       "    </tr>\n",
       "  </tbody>\n",
       "</table>\n",
       "</div>"
      ],
      "text/plain": [
       "          date group\n",
       "0   2019-08-15     B\n",
       "2   2019-08-15     A\n",
       "45  2019-08-16     A\n",
       "47  2019-08-16     B\n",
       "55  2019-08-01     A"
      ]
     },
     "execution_count": 15,
     "metadata": {},
     "output_type": "execute_result"
    }
   ],
   "source": [
    "datesGroups = orders[['date','group']].drop_duplicates() \n",
    "datesGroups.head()"
   ]
  },
  {
   "cell_type": "code",
   "execution_count": 16,
   "metadata": {},
   "outputs": [],
   "source": [
    "ordersAggregated = datesGroups.apply(\n",
    "    lambda x: orders[np.logical_and(orders['date'] <= x['date'], orders['group'] == x['group'])]\\\n",
    ".agg({'date' : 'max', 'group' : 'max', \n",
    "      'transactionId' : pd.Series.nunique, 'visitorId' : pd.Series.nunique, 'revenue' : 'sum'}), \n",
    "    axis=1).sort_values(by=['date','group'])"
   ]
  },
  {
   "cell_type": "code",
   "execution_count": 17,
   "metadata": {},
   "outputs": [],
   "source": [
    "visitorsAggregated = datesGroups.apply(\n",
    "    lambda x: visitors[np.logical_and(visitors['date'] <= x['date'], \n",
    "                                      visitors['group'] == x['group'])].agg(\n",
    "        {'date' : 'max', 'group' : 'max', 'visitors' : 'sum'}), axis=1).sort_values(by=['date','group'])"
   ]
  },
  {
   "cell_type": "code",
   "execution_count": 18,
   "metadata": {
    "scrolled": true
   },
   "outputs": [
    {
     "data": {
      "text/html": [
       "<div>\n",
       "<style scoped>\n",
       "    .dataframe tbody tr th:only-of-type {\n",
       "        vertical-align: middle;\n",
       "    }\n",
       "\n",
       "    .dataframe tbody tr th {\n",
       "        vertical-align: top;\n",
       "    }\n",
       "\n",
       "    .dataframe thead th {\n",
       "        text-align: right;\n",
       "    }\n",
       "</style>\n",
       "<table border=\"1\" class=\"dataframe\">\n",
       "  <thead>\n",
       "    <tr style=\"text-align: right;\">\n",
       "      <th></th>\n",
       "      <th>date</th>\n",
       "      <th>group</th>\n",
       "      <th>orders</th>\n",
       "      <th>buyers</th>\n",
       "      <th>revenue</th>\n",
       "      <th>visitors</th>\n",
       "    </tr>\n",
       "  </thead>\n",
       "  <tbody>\n",
       "    <tr>\n",
       "      <td>0</td>\n",
       "      <td>2019-08-01</td>\n",
       "      <td>A</td>\n",
       "      <td>24</td>\n",
       "      <td>20</td>\n",
       "      <td>148579</td>\n",
       "      <td>719</td>\n",
       "    </tr>\n",
       "    <tr>\n",
       "      <td>1</td>\n",
       "      <td>2019-08-01</td>\n",
       "      <td>B</td>\n",
       "      <td>21</td>\n",
       "      <td>20</td>\n",
       "      <td>101217</td>\n",
       "      <td>713</td>\n",
       "    </tr>\n",
       "    <tr>\n",
       "      <td>2</td>\n",
       "      <td>2019-08-02</td>\n",
       "      <td>A</td>\n",
       "      <td>44</td>\n",
       "      <td>38</td>\n",
       "      <td>242401</td>\n",
       "      <td>1338</td>\n",
       "    </tr>\n",
       "    <tr>\n",
       "      <td>3</td>\n",
       "      <td>2019-08-02</td>\n",
       "      <td>B</td>\n",
       "      <td>45</td>\n",
       "      <td>43</td>\n",
       "      <td>266748</td>\n",
       "      <td>1294</td>\n",
       "    </tr>\n",
       "    <tr>\n",
       "      <td>4</td>\n",
       "      <td>2019-08-03</td>\n",
       "      <td>A</td>\n",
       "      <td>68</td>\n",
       "      <td>62</td>\n",
       "      <td>354874</td>\n",
       "      <td>1845</td>\n",
       "    </tr>\n",
       "  </tbody>\n",
       "</table>\n",
       "</div>"
      ],
      "text/plain": [
       "         date group  orders  buyers  revenue  visitors\n",
       "0  2019-08-01     A      24      20   148579       719\n",
       "1  2019-08-01     B      21      20   101217       713\n",
       "2  2019-08-02     A      44      38   242401      1338\n",
       "3  2019-08-02     B      45      43   266748      1294\n",
       "4  2019-08-03     A      68      62   354874      1845"
      ]
     },
     "execution_count": 18,
     "metadata": {},
     "output_type": "execute_result"
    }
   ],
   "source": [
    "# создаем массив уникальных пар значений дат и групп теста\n",
    "datesGroups = orders[['date','group']].drop_duplicates()\n",
    "\n",
    "# получаем агрегированные кумулятивные по дням данные о заказах \n",
    "ordersAggregated = datesGroups.apply(\n",
    "    lambda x: orders[np.logical_and(\n",
    "        orders['date'] <= x['date'], orders['group'] == x['group'])].agg(\n",
    "        {'date' : 'max', 'group' : 'max', \n",
    "         'transactionId' : pd.Series.nunique, 'visitorId' : pd.Series.nunique,\n",
    "         'revenue' : 'sum'}), axis=1).sort_values(by=['date','group'])\n",
    "\n",
    "# получаем агрегированные кумулятивные по дням данные о посетителях интернет-магазина \n",
    "visitorsAggregated = datesGroups.apply(\n",
    "    lambda x: visitors[np.logical_and(\n",
    "        visitors['date'] <= x['date'], visitors['group'] == x['group'])].agg(\n",
    "        {'date' : 'max', 'group' : 'max', 'visitors' : 'sum'}), axis=1).sort_values(by=['date','group'])\n",
    "\n",
    "# объединяем кумулятивные данные в одной таблице и присваиваем ее столбцам понятные названия\n",
    "cumulativeData = ordersAggregated.merge(visitorsAggregated, left_on=['date', 'group'], right_on=['date', 'group'])\n",
    "cumulativeData.columns = ['date', 'group', 'orders', 'buyers', 'revenue', 'visitors']\n",
    "\n",
    "cumulativeData.head()"
   ]
  },
  {
   "cell_type": "markdown",
   "metadata": {},
   "source": [
    "Построим графики кумулятивной выручки по дням и группам A/B-тестирования:"
   ]
  },
  {
   "cell_type": "code",
   "execution_count": 19,
   "metadata": {},
   "outputs": [
    {
     "data": {
      "image/png": "[encoded data removed]",
      "text/plain": [
       "<Figure size 792x648 with 1 Axes>"
      ]
     },
     "metadata": {
      "needs_background": "light"
     },
     "output_type": "display_data"
    }
   ],
   "source": [
    "# датафрейм с кумулятивным количеством заказов и кумулятивной выручкой по дням в группе А\n",
    "cumulativeRevenueA = cumulativeData[cumulativeData['group']=='A'][['date','revenue', 'orders']]\n",
    "\n",
    "# датафрейм с кумулятивным количеством заказов и кумулятивной выручкой по дням в группе B\n",
    "cumulativeRevenueB = cumulativeData[cumulativeData['group']=='B'][['date','revenue', 'orders']]\n",
    "\n",
    "plt.figure(figsize=(11,9))\n",
    "plt.xticks(rotation=45, fontsize=12)\n",
    "plt.title(\"График кумулятивной выручки по дням и группам A/B-тестирования\")\n",
    "\n",
    "# Строим график выручки группы А\n",
    "plt.plot(cumulativeRevenueA['date'], cumulativeRevenueA['revenue'], label='A')\n",
    "\n",
    "# Строим график выручки группы B\n",
    "plt.plot(cumulativeRevenueB['date'], cumulativeRevenueB['revenue'], label='B')\n",
    "plt.grid()\n",
    "plt.legend() \n",
    "plt.show()"
   ]
  },
  {
   "cell_type": "markdown",
   "metadata": {},
   "source": [
    "**Вывод:** группа **В** доминирует на всей дистанции, кроме самого начала, несколько дней держался паритет. **18.08.21** произошел резкий всплеск, это связано либо с резким ростом числа заказов, либо с появлением очень дорогих заказов в выборке."
   ]
  },
  {
   "cell_type": "markdown",
   "metadata": {},
   "source": [
    "#### 2.2.Построим график кумулятивного среднего чека по группам"
   ]
  },
  {
   "cell_type": "code",
   "execution_count": 20,
   "metadata": {},
   "outputs": [
    {
     "data": {
      "image/png": "[encoded data removed]",
      "text/plain": [
       "<Figure size 792x648 with 1 Axes>"
      ]
     },
     "metadata": {
      "needs_background": "light"
     },
     "output_type": "display_data"
    }
   ],
   "source": [
    "plt.figure(figsize=(11,9))\n",
    "plt.xticks(rotation=45, fontsize=12)\n",
    "plt.grid()\n",
    "plt.plot(cumulativeRevenueA['date'], cumulativeRevenueA['revenue']/cumulativeRevenueA['orders'], label='A')\n",
    "plt.plot(cumulativeRevenueB['date'], cumulativeRevenueB['revenue']/cumulativeRevenueB['orders'], label='B')\n",
    "plt.title(\"График кумулятивного среднего чека по группам\")\n",
    "plt.legend()\n",
    "plt.show()"
   ]
  },
  {
   "cell_type": "markdown",
   "metadata": {},
   "source": [
    "**Вывод:** а вот и причина скачка **18.08.21** на графике **кумулятивной выручки** - появились дорогие заказы."
   ]
  },
  {
   "cell_type": "markdown",
   "metadata": {},
   "source": [
    "#### 2.3 Построим график относительного изменения кумулятивного среднего чека группы B к группе A"
   ]
  },
  {
   "cell_type": "code",
   "execution_count": 21,
   "metadata": {},
   "outputs": [
    {
     "data": {
      "image/png": "[encoded data removed]",
      "text/plain": [
       "<Figure size 792x648 with 1 Axes>"
      ]
     },
     "metadata": {
      "needs_background": "light"
     },
     "output_type": "display_data"
    }
   ],
   "source": [
    "# собираем данные в одном датафрейме\n",
    "mergedCumulativeRevenue = cumulativeRevenueA.merge(\n",
    "    cumulativeRevenueB, left_on='date',\n",
    "    right_on='date', how='left', suffixes=['A', 'B'])\n",
    "\n",
    "# cтроим отношение средних чеков\n",
    "plt.figure(figsize=(11,9))\n",
    "plt.xticks(rotation=45, fontsize=10)\n",
    "plt.title(\"График относительного изменения кумулятивного среднего чека группы B к группе A\")\n",
    "plt.plot(mergedCumulativeRevenue['date'],\n",
    "         (mergedCumulativeRevenue['revenueB']/mergedCumulativeRevenue['ordersB'])/(\n",
    "             mergedCumulativeRevenue['revenueA']/mergedCumulativeRevenue['ordersA'])-1)\n",
    "\n",
    "# добавляем ось X\n",
    "plt.axhline(y=0, color='black', linestyle='--')\n",
    "plt.show()"
   ]
  },
  {
   "cell_type": "markdown",
   "metadata": {},
   "source": [
    "**Вывод:** судя по графику, однозначно есть выбросы и крупные заказы, скачки очень серьезные."
   ]
  },
  {
   "cell_type": "markdown",
   "metadata": {},
   "source": [
    "#### 2.4 Построим график кумулятивной конверсии по группам"
   ]
  },
  {
   "cell_type": "code",
   "execution_count": 22,
   "metadata": {},
   "outputs": [
    {
     "data": {
      "text/plain": [
       "('2019-08-01', '2019-08-31')"
      ]
     },
     "execution_count": 22,
     "metadata": {},
     "output_type": "execute_result"
    }
   ],
   "source": [
    "cumulativeData['date'].min(), cumulativeData['date'].max()"
   ]
  },
  {
   "cell_type": "code",
   "execution_count": 23,
   "metadata": {},
   "outputs": [
    {
     "data": {
      "image/png": "[encoded data removed]",
      "text/plain": [
       "<Figure size 720x576 with 1 Axes>"
      ]
     },
     "metadata": {
      "needs_background": "light"
     },
     "output_type": "display_data"
    }
   ],
   "source": [
    "# считаем кумулятивную конверсию\n",
    "cumulativeData['conversion'] = cumulativeData['orders']/cumulativeData['visitors']\n",
    "\n",
    "# отделяем данные по группе A\n",
    "cumulativeDataA = cumulativeData[cumulativeData['group']=='A']\n",
    "\n",
    "# отделяем данные по группе B\n",
    "cumulativeDataB = cumulativeData[cumulativeData['group']=='B']\n",
    "\n",
    "# строим графики\n",
    "plt.figure(figsize=(10,8))\n",
    "plt.xticks(rotation=45, fontsize=10)\n",
    "plt.title(\"График кумулятивной конверсии по группам\")\n",
    "\n",
    "plt.plot(cumulativeDataA['date'], cumulativeDataA['conversion'], label='A')\n",
    "plt.plot(cumulativeDataB['date'], cumulativeDataB['conversion'], label='B')\n",
    "\n",
    "# задаем масштаб осей\n",
    "plt.axis([\"2019-08-01\", '2019-08-31', 0.02, 0.045])\n",
    "plt.legend()\n",
    "plt.show()"
   ]
  },
  {
   "cell_type": "markdown",
   "metadata": {},
   "source": [
    "**Вывод:** несколько дней группа **А** доминировала, но затем окончательно группа **В** выбилась в лидерство по **конверсии** и больше не уступала группе **А**."
   ]
  },
  {
   "cell_type": "markdown",
   "metadata": {},
   "source": [
    "#### 2.5 Построим график относительного изменения кумулятивной конверсии группы B к группе A"
   ]
  },
  {
   "cell_type": "code",
   "execution_count": 24,
   "metadata": {},
   "outputs": [
    {
     "data": {
      "image/png": "[encoded data removed]",
      "text/plain": [
       "<Figure size 720x576 with 1 Axes>"
      ]
     },
     "metadata": {
      "needs_background": "light"
     },
     "output_type": "display_data"
    }
   ],
   "source": [
    "mergedCumulativeConversions = cumulativeDataA[['date','conversion']].merge(\n",
    "    cumulativeDataB[['date','conversion']], \n",
    "    left_on='date', right_on='date', how='left', suffixes=['A', 'B'])\n",
    "\n",
    "plt.figure(figsize=(10,8))\n",
    "plt.xticks(rotation=45, fontsize=10)\n",
    "plt.title(\"График относительного изменения кумулятивной конверсии группы B к группе A\")\n",
    "plt.plot(mergedCumulativeConversions['date'], \n",
    "         mergedCumulativeConversions['conversionB']/mergedCumulativeConversions['conversionA']-1, \n",
    "         label=\"Относительный прирост конверсии группы B относительно группы A\")\n",
    "\n",
    "plt.axhline(y=0, color='black', linestyle='--')\n",
    "plt.axhline(y=0.15, color='grey', linestyle='--')\n",
    "plt.axis([\"2019-08-01\", '2019-08-31', -0.3, 0.3]) \n",
    "plt.legend()\n",
    "plt.show()"
   ]
  },
  {
   "cell_type": "markdown",
   "metadata": {},
   "source": [
    "**Вывод:** вначала группа **В** проигрывала, но затем вышла вперед с существенным отрывом."
   ]
  },
  {
   "cell_type": "markdown",
   "metadata": {},
   "source": [
    "#### 2.6 Построим точечный график количества заказов по пользователям "
   ]
  },
  {
   "cell_type": "code",
   "execution_count": 25,
   "metadata": {},
   "outputs": [
    {
     "data": {
      "text/html": [
       "<div>\n",
       "<style scoped>\n",
       "    .dataframe tbody tr th:only-of-type {\n",
       "        vertical-align: middle;\n",
       "    }\n",
       "\n",
       "    .dataframe tbody tr th {\n",
       "        vertical-align: top;\n",
       "    }\n",
       "\n",
       "    .dataframe thead th {\n",
       "        text-align: right;\n",
       "    }\n",
       "</style>\n",
       "<table border=\"1\" class=\"dataframe\">\n",
       "  <thead>\n",
       "    <tr style=\"text-align: right;\">\n",
       "      <th></th>\n",
       "      <th>userId</th>\n",
       "      <th>orders</th>\n",
       "    </tr>\n",
       "  </thead>\n",
       "  <tbody>\n",
       "    <tr>\n",
       "      <td>1023</td>\n",
       "      <td>4256040402</td>\n",
       "      <td>11</td>\n",
       "    </tr>\n",
       "    <tr>\n",
       "      <td>591</td>\n",
       "      <td>2458001652</td>\n",
       "      <td>11</td>\n",
       "    </tr>\n",
       "    <tr>\n",
       "      <td>569</td>\n",
       "      <td>2378935119</td>\n",
       "      <td>9</td>\n",
       "    </tr>\n",
       "    <tr>\n",
       "      <td>487</td>\n",
       "      <td>2038680547</td>\n",
       "      <td>8</td>\n",
       "    </tr>\n",
       "    <tr>\n",
       "      <td>44</td>\n",
       "      <td>199603092</td>\n",
       "      <td>5</td>\n",
       "    </tr>\n",
       "    <tr>\n",
       "      <td>...</td>\n",
       "      <td>...</td>\n",
       "      <td>...</td>\n",
       "    </tr>\n",
       "    <tr>\n",
       "      <td>359</td>\n",
       "      <td>1484903144</td>\n",
       "      <td>1</td>\n",
       "    </tr>\n",
       "    <tr>\n",
       "      <td>360</td>\n",
       "      <td>1485964287</td>\n",
       "      <td>1</td>\n",
       "    </tr>\n",
       "    <tr>\n",
       "      <td>361</td>\n",
       "      <td>1494664757</td>\n",
       "      <td>1</td>\n",
       "    </tr>\n",
       "    <tr>\n",
       "      <td>362</td>\n",
       "      <td>1495112755</td>\n",
       "      <td>1</td>\n",
       "    </tr>\n",
       "    <tr>\n",
       "      <td>1030</td>\n",
       "      <td>4283872382</td>\n",
       "      <td>1</td>\n",
       "    </tr>\n",
       "  </tbody>\n",
       "</table>\n",
       "<p>1031 rows × 2 columns</p>\n",
       "</div>"
      ],
      "text/plain": [
       "          userId  orders\n",
       "1023  4256040402      11\n",
       "591   2458001652      11\n",
       "569   2378935119       9\n",
       "487   2038680547       8\n",
       "44     199603092       5\n",
       "...          ...     ...\n",
       "359   1484903144       1\n",
       "360   1485964287       1\n",
       "361   1494664757       1\n",
       "362   1495112755       1\n",
       "1030  4283872382       1\n",
       "\n",
       "[1031 rows x 2 columns]"
      ]
     },
     "execution_count": 25,
     "metadata": {},
     "output_type": "execute_result"
    }
   ],
   "source": [
    "ordersbyusers =  orders.groupby('visitorId', as_index=False).agg({'transactionId': 'count'})\n",
    "ordersbyusers.columns = ['userId', 'orders']\n",
    "ordersbyusers.sort_values(by='orders', ascending=False)"
   ]
  },
  {
   "cell_type": "code",
   "execution_count": 26,
   "metadata": {},
   "outputs": [
    {
     "data": {
      "image/png": "[encoded data removed]",
      "text/plain": [
       "<Figure size 720x576 with 1 Axes>"
      ]
     },
     "metadata": {
      "needs_background": "light"
     },
     "output_type": "display_data"
    }
   ],
   "source": [
    "x_values = pd.Series(range(0,len(ordersbyusers)))\n",
    "plt.figure(figsize=(10,8))\n",
    "plt.title(\"Точечный график количества заказов по пользователям\")\n",
    "plt.xticks(fontsize=10)\n",
    "plt.scatter(x_values, ordersbyusers['orders']) \n",
    "plt.show()"
   ]
  },
  {
   "cell_type": "markdown",
   "metadata": {},
   "source": [
    "**Вывод:** много пользователей с 2-3 заказами"
   ]
  },
  {
   "cell_type": "markdown",
   "metadata": {},
   "source": [
    "#### 2.7 Посчитаем 95-й и 99-й перцентили количества заказов на пользователя"
   ]
  },
  {
   "cell_type": "code",
   "execution_count": 27,
   "metadata": {},
   "outputs": [
    {
     "name": "stdout",
     "output_type": "stream",
     "text": [
      "[2. 4.]\n"
     ]
    }
   ],
   "source": [
    "print(np.percentile(ordersbyusers['orders'], [95, 99]))"
   ]
  },
  {
   "cell_type": "markdown",
   "metadata": {},
   "source": [
    "**Вывод:** нижнюю границу определим, как **4** заказа."
   ]
  },
  {
   "cell_type": "markdown",
   "metadata": {},
   "source": [
    "#### 2.8 Построим точечный график стоимостей заказов"
   ]
  },
  {
   "cell_type": "code",
   "execution_count": 28,
   "metadata": {},
   "outputs": [
    {
     "data": {
      "image/png": "[encoded data removed]",
      "text/plain": [
       "<Figure size 720x576 with 1 Axes>"
      ]
     },
     "metadata": {
      "needs_background": "light"
     },
     "output_type": "display_data"
    }
   ],
   "source": [
    "x_values = pd.Series(range(0,len(orders['revenue'])))\n",
    "plt.figure(figsize=(10,8))\n",
    "plt.xticks(fontsize=10)\n",
    "plt.title(\"Точечный график стоимостей заказов\")\n",
    "plt.scatter(x_values, orders['revenue'])\n",
    "plt.show()"
   ]
  },
  {
   "cell_type": "markdown",
   "metadata": {},
   "source": [
    "**Вывод:** дорогих заказов крайне мало."
   ]
  },
  {
   "cell_type": "markdown",
   "metadata": {},
   "source": [
    "#### 2.9 Посчитаем 95-й и 99-й перцентили стоимости заказов. Выберем границу для определения аномальных заказов"
   ]
  },
  {
   "cell_type": "code",
   "execution_count": 29,
   "metadata": {},
   "outputs": [
    {
     "name": "stdout",
     "output_type": "stream",
     "text": [
      "[28000.  58233.2]\n"
     ]
    }
   ],
   "source": [
    "print(np.percentile(orders['revenue'], [95, 99])) "
   ]
  },
  {
   "cell_type": "markdown",
   "metadata": {},
   "source": [
    "**Вывод:** нижнюю границу определим, как **28000**."
   ]
  },
  {
   "cell_type": "markdown",
   "metadata": {},
   "source": [
    "#### 2.10 Посчитаем статистическую значимость различий в конверсии между группами по «сырым» данным"
   ]
  },
  {
   "cell_type": "markdown",
   "metadata": {},
   "source": [
    "Подготовим данные:"
   ]
  },
  {
   "cell_type": "code",
   "execution_count": 30,
   "metadata": {
    "scrolled": true
   },
   "outputs": [
    {
     "data": {
      "text/html": [
       "<div>\n",
       "<style scoped>\n",
       "    .dataframe tbody tr th:only-of-type {\n",
       "        vertical-align: middle;\n",
       "    }\n",
       "\n",
       "    .dataframe tbody tr th {\n",
       "        vertical-align: top;\n",
       "    }\n",
       "\n",
       "    .dataframe thead th {\n",
       "        text-align: right;\n",
       "    }\n",
       "</style>\n",
       "<table border=\"1\" class=\"dataframe\">\n",
       "  <thead>\n",
       "    <tr style=\"text-align: right;\">\n",
       "      <th></th>\n",
       "      <th>transactionId</th>\n",
       "      <th>visitorId</th>\n",
       "      <th>date</th>\n",
       "      <th>revenue</th>\n",
       "      <th>group</th>\n",
       "    </tr>\n",
       "  </thead>\n",
       "  <tbody>\n",
       "    <tr>\n",
       "      <td>0</td>\n",
       "      <td>3667963787</td>\n",
       "      <td>3312258926</td>\n",
       "      <td>2019-08-15</td>\n",
       "      <td>1650</td>\n",
       "      <td>B</td>\n",
       "    </tr>\n",
       "    <tr>\n",
       "      <td>1</td>\n",
       "      <td>2804400009</td>\n",
       "      <td>3642806036</td>\n",
       "      <td>2019-08-15</td>\n",
       "      <td>730</td>\n",
       "      <td>B</td>\n",
       "    </tr>\n",
       "    <tr>\n",
       "      <td>2</td>\n",
       "      <td>2961555356</td>\n",
       "      <td>4069496402</td>\n",
       "      <td>2019-08-15</td>\n",
       "      <td>400</td>\n",
       "      <td>A</td>\n",
       "    </tr>\n",
       "    <tr>\n",
       "      <td>3</td>\n",
       "      <td>3797467345</td>\n",
       "      <td>1196621759</td>\n",
       "      <td>2019-08-15</td>\n",
       "      <td>9759</td>\n",
       "      <td>B</td>\n",
       "    </tr>\n",
       "    <tr>\n",
       "      <td>4</td>\n",
       "      <td>2282983706</td>\n",
       "      <td>2322279887</td>\n",
       "      <td>2019-08-15</td>\n",
       "      <td>2308</td>\n",
       "      <td>B</td>\n",
       "    </tr>\n",
       "    <tr>\n",
       "      <td>...</td>\n",
       "      <td>...</td>\n",
       "      <td>...</td>\n",
       "      <td>...</td>\n",
       "      <td>...</td>\n",
       "      <td>...</td>\n",
       "    </tr>\n",
       "    <tr>\n",
       "      <td>1192</td>\n",
       "      <td>2662137336</td>\n",
       "      <td>3733762160</td>\n",
       "      <td>2019-08-14</td>\n",
       "      <td>6490</td>\n",
       "      <td>B</td>\n",
       "    </tr>\n",
       "    <tr>\n",
       "      <td>1193</td>\n",
       "      <td>2203539145</td>\n",
       "      <td>370388673</td>\n",
       "      <td>2019-08-14</td>\n",
       "      <td>3190</td>\n",
       "      <td>A</td>\n",
       "    </tr>\n",
       "    <tr>\n",
       "      <td>1194</td>\n",
       "      <td>1807773912</td>\n",
       "      <td>573423106</td>\n",
       "      <td>2019-08-14</td>\n",
       "      <td>10550</td>\n",
       "      <td>A</td>\n",
       "    </tr>\n",
       "    <tr>\n",
       "      <td>1195</td>\n",
       "      <td>1947021204</td>\n",
       "      <td>1614305549</td>\n",
       "      <td>2019-08-14</td>\n",
       "      <td>100</td>\n",
       "      <td>A</td>\n",
       "    </tr>\n",
       "    <tr>\n",
       "      <td>1196</td>\n",
       "      <td>3936777065</td>\n",
       "      <td>2108080724</td>\n",
       "      <td>2019-08-15</td>\n",
       "      <td>202740</td>\n",
       "      <td>B</td>\n",
       "    </tr>\n",
       "  </tbody>\n",
       "</table>\n",
       "<p>1197 rows × 5 columns</p>\n",
       "</div>"
      ],
      "text/plain": [
       "      transactionId   visitorId        date  revenue group\n",
       "0        3667963787  3312258926  2019-08-15     1650     B\n",
       "1        2804400009  3642806036  2019-08-15      730     B\n",
       "2        2961555356  4069496402  2019-08-15      400     A\n",
       "3        3797467345  1196621759  2019-08-15     9759     B\n",
       "4        2282983706  2322279887  2019-08-15     2308     B\n",
       "...             ...         ...         ...      ...   ...\n",
       "1192     2662137336  3733762160  2019-08-14     6490     B\n",
       "1193     2203539145   370388673  2019-08-14     3190     A\n",
       "1194     1807773912   573423106  2019-08-14    10550     A\n",
       "1195     1947021204  1614305549  2019-08-14      100     A\n",
       "1196     3936777065  2108080724  2019-08-15   202740     B\n",
       "\n",
       "[1197 rows x 5 columns]"
      ]
     },
     "execution_count": 30,
     "metadata": {},
     "output_type": "execute_result"
    }
   ],
   "source": [
    "orders"
   ]
  },
  {
   "cell_type": "markdown",
   "metadata": {},
   "source": [
    "Сформируем **нулевую** и **альтернативную** гипотезу для каждого задания: \n",
    "    \n",
    "1. **Нулевая** гипотеза для теста **конверсии** гласит - конверсии групп **А** и **В** не различаются.  \n",
    "   **Альтернативная** гипотеза - различаются.  \n",
    "      \n",
    "2. **Нулевая** гипотеза для теста **среднего чека** гласит - средний чек групп **А** и **В** не различается.  \n",
    "   **Альтернативная** гипотеза - различается."
   ]
  },
  {
   "cell_type": "code",
   "execution_count": 31,
   "metadata": {},
   "outputs": [],
   "source": [
    "visitorsADaily = visitors[visitors['group'] == 'A'][['date', 'visitors']]\n",
    "visitorsADaily.columns = ['date', 'visitorsPerDateA']\n",
    "\n",
    "visitorsACummulative = visitorsADaily.apply(\n",
    "    lambda x: visitorsADaily[visitorsADaily['date'] <= x['date']].agg(\n",
    "        {'date': 'max', 'visitorsPerDateA': 'sum'}\n",
    "    ),\n",
    "    axis=1,\n",
    ")\n",
    "visitorsACummulative.columns = ['date', 'visitorsCummulativeA']\n",
    "\n",
    "visitorsBDaily = visitors[visitors['group'] == 'B'][['date', 'visitors']]\n",
    "visitorsBDaily.columns = ['date', 'visitorsPerDateB']\n",
    "\n",
    "visitorsBCummulative = visitorsBDaily.apply(\n",
    "    lambda x: visitorsBDaily[visitorsBDaily['date'] <= x['date']].agg(\n",
    "        {'date': 'max', 'visitorsPerDateB': 'sum'}\n",
    "    ),\n",
    "    axis=1,\n",
    ")\n",
    "visitorsBCummulative.columns = ['date', 'visitorsCummulativeB']\n",
    "\n",
    "ordersADaily = (\n",
    "    orders[orders['group'] == 'A'][['date', 'transactionId', 'visitorId', 'revenue']]\n",
    "    .groupby('date', as_index=False)\n",
    "    .agg({'transactionId': pd.Series.nunique, 'revenue': 'sum'})\n",
    ")\n",
    "ordersADaily.columns = ['date', 'ordersPerDateA', 'revenuePerDateA']\n",
    "\n",
    "\n",
    "ordersACummulative = ordersADaily.apply(\n",
    "    lambda x: ordersADaily[ordersADaily['date'] <= x['date']].agg(\n",
    "        {'date': 'max', 'ordersPerDateA': 'sum', 'revenuePerDateA': 'sum'}\n",
    "    ),\n",
    "    axis=1,\n",
    ").sort_values(by=['date'])\n",
    "ordersACummulative.columns = [\n",
    "    'date',\n",
    "    'ordersCummulativeA',\n",
    "    'revenueCummulativeA',\n",
    "]\n",
    "\n",
    "ordersBDaily = (\n",
    "    orders[orders['group'] == 'B'][['date', 'transactionId', 'visitorId', 'revenue']]\n",
    "    .groupby('date', as_index=False)\n",
    "    .agg({'transactionId': pd.Series.nunique, 'revenue': 'sum'})\n",
    ")\n",
    "ordersBDaily.columns = ['date', 'ordersPerDateB', 'revenuePerDateB']\n",
    "\n",
    "ordersBCummulative = ordersBDaily.apply(\n",
    "    lambda x: ordersBDaily[ordersBDaily['date'] <= x['date']].agg(\n",
    "        {'date': 'max', 'ordersPerDateB': 'sum', 'revenuePerDateB': 'sum'}\n",
    "    ),\n",
    "    axis=1,\n",
    ").sort_values(by=['date'])\n",
    "ordersBCummulative.columns = [\n",
    "    'date',\n",
    "    'ordersCummulativeB',\n",
    "    'revenueCummulativeB',\n",
    "]\n",
    "\n",
    "data = (\n",
    "    ordersADaily.merge(\n",
    "        ordersBDaily, left_on='date', right_on='date', how='left'\n",
    "    )\n",
    "    .merge(ordersACummulative, left_on='date', right_on='date', how='left')\n",
    "    .merge(ordersBCummulative, left_on='date', right_on='date', how='left')\n",
    "    .merge(visitorsADaily, left_on='date', right_on='date', how='left')\n",
    "    .merge(visitorsBDaily, left_on='date', right_on='date', how='left')\n",
    "    .merge(visitorsACummulative, left_on='date', right_on='date', how='left')\n",
    "    .merge(visitorsBCummulative, left_on='date', right_on='date', how='left')\n",
    ")"
   ]
  },
  {
   "cell_type": "markdown",
   "metadata": {},
   "source": [
    "Создадим переменные **ordersByUsersA** и **ordersByUsersB** со столбцами **userId и orders**. В них для пользователей, которые заказывали хотя бы 1 раз, укажем число совершённых заказов."
   ]
  },
  {
   "cell_type": "code",
   "execution_count": 32,
   "metadata": {},
   "outputs": [],
   "source": [
    "ordersByUsersA = (\n",
    "    orders[orders['group'] == 'A']\n",
    "    .groupby('visitorId', as_index=False)\n",
    "    .agg({'transactionId': pd.Series.nunique})\n",
    ")\n",
    "ordersByUsersA.columns = ['userId', 'orders']\n",
    "\n",
    "ordersByUsersB = (\n",
    "    orders[orders['group'] == 'B']\n",
    "    .groupby('visitorId', as_index=False)\n",
    "    .agg({'transactionId': pd.Series.nunique})\n",
    ")\n",
    "ordersByUsersB.columns = ['userId', 'orders'] "
   ]
  },
  {
   "cell_type": "markdown",
   "metadata": {},
   "source": [
    "Объявим переменные **sampleA** и **sampleB**, в которых пользователям из разных групп будет соответствовать количество заказов.    \n",
    "Тем, кто ничего не заказал, будут соответствовать нули. Это нужно, чтобы подготовить выборки к проверке критерием **Манна-Уитни.**"
   ]
  },
  {
   "cell_type": "code",
   "execution_count": 33,
   "metadata": {},
   "outputs": [],
   "source": [
    "sampleA = pd.concat(\n",
    "    [\n",
    "        ordersByUsersA['orders'],\n",
    "        pd.Series(\n",
    "            0,\n",
    "            index=np.arange(\n",
    "                data['visitorsPerDateA'].sum() - len(ordersByUsersA['orders'])\n",
    "            ),\n",
    "            name='orders',\n",
    "        ),\n",
    "    ],\n",
    "    axis=0,\n",
    ")\n",
    "\n",
    "sampleB = pd.concat(\n",
    "    [\n",
    "        ordersByUsersB['orders'],\n",
    "        pd.Series(\n",
    "            0,\n",
    "            index=np.arange(\n",
    "                data['visitorsPerDateB'].sum() - len(ordersByUsersB['orders'])\n",
    "            ),\n",
    "            name='orders',\n",
    "        ),\n",
    "    ],\n",
    "    axis=0,\n",
    ")"
   ]
  },
  {
   "cell_type": "code",
   "execution_count": 34,
   "metadata": {},
   "outputs": [
    {
     "name": "stdout",
     "output_type": "stream",
     "text": [
      "0.017\n",
      "0.138\n"
     ]
    }
   ],
   "source": [
    "print(\"{0:.3f}\".format(stats.mannwhitneyu(sampleA, sampleB, alternative=\"two-sided\")[1]))\n",
    "\n",
    "print(\"{0:.3f}\".format(sampleB.mean() / sampleA.mean() - 1))"
   ]
  },
  {
   "cell_type": "markdown",
   "metadata": {},
   "source": [
    "**Вывод:**   \n",
    "Первое число — **p-value = 0.017 < 0.05.** Значит, **нулевую гипотезу** о том, что статистически значимых различий в конверсии между группами нет, **отвергаем.**   \n",
    "Относительный выигрыш группы **B** равен **13.8%** — второе число в выводе."
   ]
  },
  {
   "cell_type": "markdown",
   "metadata": {},
   "source": [
    "#### 2.11 Посчитаем статистическую значимость различий в среднем чеке заказа между группами по «сырым» данным"
   ]
  },
  {
   "cell_type": "code",
   "execution_count": 35,
   "metadata": {},
   "outputs": [
    {
     "name": "stdout",
     "output_type": "stream",
     "text": [
      "0.729\n",
      "0.259\n"
     ]
    }
   ],
   "source": [
    "print('{0:.3f}'.format(\n",
    "    stats.mannwhitneyu(orders[orders['group']=='A']['revenue'], \n",
    "                       orders[orders['group']=='B']['revenue'], alternative=\"two-sided\")[1]))\n",
    "print('{0:.3f}'.format(\n",
    "    orders[orders['group']=='B']['revenue'].mean()/\n",
    "    orders[orders['group']=='A']['revenue'].mean()-1))"
   ]
  },
  {
   "cell_type": "markdown",
   "metadata": {},
   "source": [
    "**Вывод:**     \n",
    "**P-value больше 0.05.** Значит, причин отвергать нулевую гипотезу и считать, что в среднем чеке есть различия, нет. Средний чек группы **B** выше среднего чека группы **A.**"
   ]
  },
  {
   "cell_type": "markdown",
   "metadata": {},
   "source": [
    "#### 2.12 Посчитаем статистическую значимость различий в конверсии между группами по «очищенным» данным"
   ]
  },
  {
   "cell_type": "code",
   "execution_count": 36,
   "metadata": {},
   "outputs": [
    {
     "data": {
      "text/html": [
       "<div>\n",
       "<style scoped>\n",
       "    .dataframe tbody tr th:only-of-type {\n",
       "        vertical-align: middle;\n",
       "    }\n",
       "\n",
       "    .dataframe tbody tr th {\n",
       "        vertical-align: top;\n",
       "    }\n",
       "\n",
       "    .dataframe thead th {\n",
       "        text-align: right;\n",
       "    }\n",
       "</style>\n",
       "<table border=\"1\" class=\"dataframe\">\n",
       "  <thead>\n",
       "    <tr style=\"text-align: right;\">\n",
       "      <th></th>\n",
       "      <th>userId</th>\n",
       "      <th>orders</th>\n",
       "    </tr>\n",
       "  </thead>\n",
       "  <tbody>\n",
       "    <tr>\n",
       "      <td>0</td>\n",
       "      <td>8300375</td>\n",
       "      <td>1</td>\n",
       "    </tr>\n",
       "    <tr>\n",
       "      <td>1</td>\n",
       "      <td>11685486</td>\n",
       "      <td>1</td>\n",
       "    </tr>\n",
       "    <tr>\n",
       "      <td>2</td>\n",
       "      <td>54447517</td>\n",
       "      <td>1</td>\n",
       "    </tr>\n",
       "    <tr>\n",
       "      <td>3</td>\n",
       "      <td>66685450</td>\n",
       "      <td>1</td>\n",
       "    </tr>\n",
       "    <tr>\n",
       "      <td>4</td>\n",
       "      <td>78758296</td>\n",
       "      <td>1</td>\n",
       "    </tr>\n",
       "    <tr>\n",
       "      <td>...</td>\n",
       "      <td>...</td>\n",
       "      <td>...</td>\n",
       "    </tr>\n",
       "    <tr>\n",
       "      <td>498</td>\n",
       "      <td>4243832526</td>\n",
       "      <td>1</td>\n",
       "    </tr>\n",
       "    <tr>\n",
       "      <td>499</td>\n",
       "      <td>4256040402</td>\n",
       "      <td>7</td>\n",
       "    </tr>\n",
       "    <tr>\n",
       "      <td>500</td>\n",
       "      <td>4259830713</td>\n",
       "      <td>1</td>\n",
       "    </tr>\n",
       "    <tr>\n",
       "      <td>501</td>\n",
       "      <td>4266935830</td>\n",
       "      <td>1</td>\n",
       "    </tr>\n",
       "    <tr>\n",
       "      <td>502</td>\n",
       "      <td>4278982564</td>\n",
       "      <td>1</td>\n",
       "    </tr>\n",
       "  </tbody>\n",
       "</table>\n",
       "<p>503 rows × 2 columns</p>\n",
       "</div>"
      ],
      "text/plain": [
       "         userId  orders\n",
       "0       8300375       1\n",
       "1      11685486       1\n",
       "2      54447517       1\n",
       "3      66685450       1\n",
       "4      78758296       1\n",
       "..          ...     ...\n",
       "498  4243832526       1\n",
       "499  4256040402       7\n",
       "500  4259830713       1\n",
       "501  4266935830       1\n",
       "502  4278982564       1\n",
       "\n",
       "[503 rows x 2 columns]"
      ]
     },
     "execution_count": 36,
     "metadata": {},
     "output_type": "execute_result"
    }
   ],
   "source": [
    "ordersByUsersA"
   ]
  },
  {
   "cell_type": "code",
   "execution_count": 37,
   "metadata": {},
   "outputs": [
    {
     "name": "stdout",
     "output_type": "stream",
     "text": [
      "(68,)\n"
     ]
    }
   ],
   "source": [
    "usersWithManyOrders = pd.concat(\n",
    "    [\n",
    "        ordersByUsersA[ordersByUsersA['orders'] > 3]['userId'],\n",
    "        ordersByUsersB[ordersByUsersB['orders'] > 3]['userId'],\n",
    "    ],\n",
    "    axis=0,\n",
    ")\n",
    "usersWithExpensiveOrders = orders[orders['revenue'] > 27000]['visitorId']\n",
    "abnormalUsers = (\n",
    "    pd.concat([usersWithManyOrders, usersWithExpensiveOrders], axis=0)\n",
    "    .drop_duplicates()\n",
    "    .sort_values()\n",
    ")\n",
    "print(abnormalUsers.shape)"
   ]
  },
  {
   "cell_type": "markdown",
   "metadata": {},
   "source": [
    "В ходе очистки данных выявился **68** аномальный пользователь."
   ]
  },
  {
   "cell_type": "markdown",
   "metadata": {},
   "source": [
    "Подготовим выборки количества заказов по пользователям по группам теста:"
   ]
  },
  {
   "cell_type": "code",
   "execution_count": 39,
   "metadata": {},
   "outputs": [],
   "source": [
    "sampleAFiltered = pd.concat(\n",
    "    [\n",
    "        ordersByUsersA[\n",
    "            np.logical_not(ordersByUsersA['userId'].isin(abnormalUsers))\n",
    "        ]['orders'],\n",
    "        pd.Series(\n",
    "            0,\n",
    "            index=np.arange(\n",
    "                data['visitorsPerDateA'].sum() - len(ordersByUsersA['orders'])\n",
    "            ),\n",
    "            name='orders',\n",
    "        ),\n",
    "    ],\n",
    "    axis=0,\n",
    ")\n",
    "\n",
    "sampleBFiltered = pd.concat(\n",
    "    [\n",
    "        ordersByUsersB[\n",
    "            np.logical_not(ordersByUsersB['userId'].isin(abnormalUsers))\n",
    "        ]['orders'],\n",
    "        pd.Series(\n",
    "            0,\n",
    "            index=np.arange(\n",
    "                data['visitorsPerDateB'].sum() - len(ordersByUsersB['orders'])\n",
    "            ),\n",
    "            name='orders',\n",
    "        ),\n",
    "    ],\n",
    "    axis=0,\n",
    ")"
   ]
  },
  {
   "cell_type": "code",
   "execution_count": 40,
   "metadata": {},
   "outputs": [
    {
     "name": "stdout",
     "output_type": "stream",
     "text": [
      "0.022\n",
      "0.146\n"
     ]
    }
   ],
   "source": [
    "print('{0:.3f}'.format(stats.mannwhitneyu(sampleAFiltered, sampleBFiltered, alternative=\"two-sided\")[1]))\n",
    "print('{0:.3f}'.format(sampleBFiltered.mean()/sampleAFiltered.mean()-1)) "
   ]
  },
  {
   "cell_type": "markdown",
   "metadata": {},
   "source": [
    "**Вывод:**     \n",
    "**P-value увеличился, но он все еще ниже 0.05.** Разница между сегментами **B** и **A** увеличилась незначительно."
   ]
  },
  {
   "cell_type": "markdown",
   "metadata": {},
   "source": [
    "#### 2.13 Посчитаем статистическую значимость различий в среднем чеке заказа между группами по «очищенным» данным"
   ]
  },
  {
   "cell_type": "code",
   "execution_count": 41,
   "metadata": {},
   "outputs": [
    {
     "name": "stdout",
     "output_type": "stream",
     "text": [
      "0.918\n",
      "-0.023\n"
     ]
    }
   ],
   "source": [
    "print(\n",
    "    '{0:.3f}'.format(\n",
    "        stats.mannwhitneyu(\n",
    "            orders[\n",
    "                np.logical_and(\n",
    "                    orders['group'] == 'A',\n",
    "                    np.logical_not(orders['visitorId'].isin(abnormalUsers)),\n",
    "                )\n",
    "            ]['revenue'],\n",
    "            orders[\n",
    "                np.logical_and(\n",
    "                    orders['group'] == 'B',\n",
    "                    np.logical_not(orders['visitorId'].isin(abnormalUsers)),\n",
    "                )\n",
    "            ]['revenue'], alternative=\"two-sided\"\n",
    "        )[1]\n",
    "    )\n",
    ")\n",
    "\n",
    "print(\n",
    "    \"{0:.3f}\".format(\n",
    "        orders[\n",
    "            np.logical_and(\n",
    "                orders['group'] == 'B',\n",
    "                np.logical_not(orders['visitorId'].isin(abnormalUsers)),\n",
    "            )\n",
    "        ]['revenue'].mean()\n",
    "        / orders[\n",
    "            np.logical_and(\n",
    "                orders['group'] == 'A',\n",
    "                np.logical_not(orders['visitorId'].isin(abnormalUsers)),\n",
    "            )\n",
    "        ]['revenue'].mean()\n",
    "        - 1\n",
    "    )\n",
    ")"
   ]
  },
  {
   "cell_type": "markdown",
   "metadata": {},
   "source": [
    "**Вывод:**     \n",
    "**P-value увеличился, он выше 0.05, мы не можем отвергнуть нулевую гипотезу**. Отношение между сегментами **B** / **A** теперь со знаком минус."
   ]
  },
  {
   "cell_type": "markdown",
   "metadata": {},
   "source": [
    "#### 2.14 Примите решение по результатам теста и объясните его\n",
    "\n",
    "Варианты решений: \n",
    "1. Остановить тест, зафиксировать победу одной из групп. \n",
    "2. Остановить тест, зафиксировать отсутствие различий между группами. \n",
    "3. Продолжить тест."
   ]
  },
  {
   "cell_type": "markdown",
   "metadata": {},
   "source": [
    "**Результаты:**\n",
    "\n",
    "до очистки  |  после  \n",
    "\n",
    "**конверсия**                  \n",
    "**p-value:** 0.017 |  0.022   \n",
    "**отношение групп:** 0.138  |  0.146   \n",
    "\n",
    "**ср.чек**     \n",
    "**p-value:** 0.729 |  0.918   \n",
    "**отношение групп:** 0.259  |  -0.023  "
   ]
  },
  {
   "cell_type": "markdown",
   "metadata": {},
   "source": [
    "**Конверсия:**\n",
    "\n",
    "До очистки данных **p-value** был **меньше 0.05**, после очистки **p-value** остался таковым, поэтому мы признаем существование статистически значимой разницы **конверсий.** Отношение конверсий двух групп изменилось после очистки не сильно, группа **B** на **14.6%** лучше."
   ]
  },
  {
   "cell_type": "markdown",
   "metadata": {},
   "source": [
    "**Средний чек:**    \n",
    "\n",
    "При анализе данной метрики получилось увидеть наглядно разницу между конечными результатами **сырых** и **очищенных** данных и как **выбросы** могут влиять на результаты. Отношение средних чеков после очистки данных изменилось в пользу группы **А.**  \n",
    "\n",
    "До очистки данных **p-value** был **больше 0.05** и мы не могли сказать, что существует статистическая разница между **ср.чеками** двух групп, после очистки **p-value** так же остался выше порогового значения и мы не смогли отвергнуть нулевую гипотезу."
   ]
  },
  {
   "cell_type": "markdown",
   "metadata": {},
   "source": [
    "### 3. Общий вывод\n",
    "\n",
    "По **конверсии** оказалась лучше группа **B** на целых **14.6%**, статистически значимая разница подтверждена.  \n",
    "По **среднему чеку** группа **А** лучше на **2.3%**, но подтвердить существование статистически значимой разницы в этом тесте не получилось."
   ]
  },
  {
   "cell_type": "markdown",
   "metadata": {},
   "source": [
    "**Решение:** Остановить тест, зафиксировать победу группы **B**"
   ]
  }
 ],
 "metadata": {
  "ExecuteTimeLog": [
   {
    "duration": 208,
    "start_time": "2021-11-28T12:54:56.110Z"
   },
   {
    "duration": 1140,
    "start_time": "2021-11-28T12:55:01.431Z"
   },
   {
    "duration": 31,
    "start_time": "2021-11-28T12:55:02.573Z"
   },
   {
    "duration": 8,
    "start_time": "2021-11-28T13:08:07.662Z"
   },
   {
    "duration": 1933,
    "start_time": "2021-11-28T13:09:05.053Z"
   },
   {
    "duration": 3,
    "start_time": "2021-11-28T13:09:10.448Z"
   },
   {
    "duration": 22,
    "start_time": "2021-11-28T13:09:10.829Z"
   },
   {
    "duration": 174,
    "start_time": "2021-11-28T13:09:11.269Z"
   },
   {
    "duration": 10,
    "start_time": "2021-11-28T13:09:51.857Z"
   },
   {
    "duration": 17,
    "start_time": "2021-11-28T13:10:32.284Z"
   },
   {
    "duration": 11,
    "start_time": "2021-11-28T13:10:37.348Z"
   },
   {
    "duration": 4371,
    "start_time": "2021-11-28T13:11:50.211Z"
   },
   {
    "duration": 5037,
    "start_time": "2021-11-28T13:12:00.692Z"
   },
   {
    "duration": 10,
    "start_time": "2021-11-28T13:12:21.197Z"
   },
   {
    "duration": 15,
    "start_time": "2021-11-28T13:18:06.395Z"
   },
   {
    "duration": 27,
    "start_time": "2021-11-28T13:18:07.769Z"
   },
   {
    "duration": 12,
    "start_time": "2021-11-28T13:18:51.233Z"
   },
   {
    "duration": 13,
    "start_time": "2021-11-28T13:21:19.732Z"
   },
   {
    "duration": 10,
    "start_time": "2021-11-28T13:22:32.972Z"
   },
   {
    "duration": 10,
    "start_time": "2021-11-28T13:22:49.527Z"
   },
   {
    "duration": 16,
    "start_time": "2021-11-28T13:41:47.717Z"
   },
   {
    "duration": 16,
    "start_time": "2021-11-28T13:49:23.754Z"
   },
   {
    "duration": 11,
    "start_time": "2021-11-28T13:49:50.561Z"
   },
   {
    "duration": 39,
    "start_time": "2021-11-28T13:51:10.672Z"
   },
   {
    "duration": 50,
    "start_time": "2021-11-28T13:51:33.375Z"
   },
   {
    "duration": 53,
    "start_time": "2021-11-28T13:53:52.051Z"
   },
   {
    "duration": 53,
    "start_time": "2021-11-28T13:54:11.134Z"
   },
   {
    "duration": 58,
    "start_time": "2021-11-28T13:54:19.063Z"
   },
   {
    "duration": 66,
    "start_time": "2021-11-28T13:54:25.591Z"
   },
   {
    "duration": 54,
    "start_time": "2021-11-28T13:54:29.214Z"
   },
   {
    "duration": 60,
    "start_time": "2021-11-28T13:54:37.757Z"
   },
   {
    "duration": 7,
    "start_time": "2021-11-28T13:54:40.670Z"
   },
   {
    "duration": 51,
    "start_time": "2021-11-28T13:54:47.646Z"
   },
   {
    "duration": 16,
    "start_time": "2021-11-28T15:02:43.413Z"
   },
   {
    "duration": 12,
    "start_time": "2021-11-28T15:02:47.692Z"
   },
   {
    "duration": 10,
    "start_time": "2021-11-28T15:02:49.188Z"
   },
   {
    "duration": 5,
    "start_time": "2021-11-28T15:04:10.684Z"
   },
   {
    "duration": 170,
    "start_time": "2021-11-28T15:04:26.210Z"
   },
   {
    "duration": 264,
    "start_time": "2021-12-06T19:06:31.459Z"
   },
   {
    "duration": 984,
    "start_time": "2021-12-06T19:06:34.826Z"
   },
   {
    "duration": 24,
    "start_time": "2021-12-06T19:06:35.812Z"
   },
   {
    "duration": 13,
    "start_time": "2021-12-06T19:06:35.838Z"
   },
   {
    "duration": 9,
    "start_time": "2021-12-06T19:06:35.853Z"
   },
   {
    "duration": 57,
    "start_time": "2021-12-06T19:06:35.863Z"
   },
   {
    "duration": 10,
    "start_time": "2021-12-06T19:06:35.922Z"
   },
   {
    "duration": 9,
    "start_time": "2021-12-06T19:06:35.933Z"
   },
   {
    "duration": 370,
    "start_time": "2021-12-08T06:16:59.899Z"
   },
   {
    "duration": 1506,
    "start_time": "2021-12-08T06:17:03.086Z"
   },
   {
    "duration": 31,
    "start_time": "2021-12-08T06:17:04.594Z"
   },
   {
    "duration": 19,
    "start_time": "2021-12-08T06:17:04.628Z"
   },
   {
    "duration": 16,
    "start_time": "2021-12-08T06:17:04.651Z"
   },
   {
    "duration": 64,
    "start_time": "2021-12-08T06:17:04.669Z"
   },
   {
    "duration": 12,
    "start_time": "2021-12-08T06:17:04.735Z"
   },
   {
    "duration": 19,
    "start_time": "2021-12-08T06:17:04.750Z"
   },
   {
    "duration": 12,
    "start_time": "2021-12-08T06:17:08.622Z"
   },
   {
    "duration": 8,
    "start_time": "2021-12-08T06:22:10.977Z"
   },
   {
    "duration": 17,
    "start_time": "2021-12-08T06:22:17.341Z"
   },
   {
    "duration": 381,
    "start_time": "2021-12-08T06:22:26.918Z"
   },
   {
    "duration": 12,
    "start_time": "2021-12-08T06:22:31.277Z"
   },
   {
    "duration": 12,
    "start_time": "2021-12-08T06:22:37.907Z"
   },
   {
    "duration": 14,
    "start_time": "2021-12-08T06:42:44.632Z"
   },
   {
    "duration": 344,
    "start_time": "2021-12-08T06:42:47.299Z"
   },
   {
    "duration": 4,
    "start_time": "2021-12-08T06:43:21.112Z"
   },
   {
    "duration": 35,
    "start_time": "2021-12-08T06:43:21.118Z"
   },
   {
    "duration": 30,
    "start_time": "2021-12-08T06:43:21.156Z"
   },
   {
    "duration": 30,
    "start_time": "2021-12-08T06:43:21.189Z"
   },
   {
    "duration": 55,
    "start_time": "2021-12-08T06:43:21.221Z"
   },
   {
    "duration": 11,
    "start_time": "2021-12-08T06:43:21.278Z"
   },
   {
    "duration": 21,
    "start_time": "2021-12-08T06:43:21.292Z"
   },
   {
    "duration": 18,
    "start_time": "2021-12-08T06:43:21.315Z"
   },
   {
    "duration": 322,
    "start_time": "2021-12-08T06:43:21.336Z"
   },
   {
    "duration": 9265,
    "start_time": "2021-12-08T08:03:33.022Z"
   },
   {
    "duration": 5,
    "start_time": "2021-12-08T08:03:52.160Z"
   },
   {
    "duration": 28,
    "start_time": "2021-12-08T08:03:52.167Z"
   },
   {
    "duration": 18,
    "start_time": "2021-12-08T08:03:52.198Z"
   },
   {
    "duration": 18,
    "start_time": "2021-12-08T08:03:52.219Z"
   },
   {
    "duration": 52,
    "start_time": "2021-12-08T08:03:52.240Z"
   },
   {
    "duration": 13,
    "start_time": "2021-12-08T08:03:52.294Z"
   },
   {
    "duration": 12,
    "start_time": "2021-12-08T08:03:52.311Z"
   },
   {
    "duration": 18,
    "start_time": "2021-12-08T08:03:52.326Z"
   },
   {
    "duration": 8974,
    "start_time": "2021-12-08T08:03:52.347Z"
   },
   {
    "duration": 336,
    "start_time": "2021-12-08T08:04:30.643Z"
   },
   {
    "duration": 249,
    "start_time": "2021-12-08T08:11:39.874Z"
   },
   {
    "duration": 8457,
    "start_time": "2021-12-08T08:12:40.058Z"
   },
   {
    "duration": 565,
    "start_time": "2021-12-08T08:13:10.929Z"
   },
   {
    "duration": 442,
    "start_time": "2021-12-08T09:30:56.084Z"
   },
   {
    "duration": 444,
    "start_time": "2021-12-08T09:31:12.041Z"
   },
   {
    "duration": 722,
    "start_time": "2021-12-08T11:08:37.517Z"
   },
   {
    "duration": 591,
    "start_time": "2021-12-08T11:09:57.150Z"
   },
   {
    "duration": 910,
    "start_time": "2021-12-08T11:10:17.664Z"
   },
   {
    "duration": 1454,
    "start_time": "2021-12-08T11:10:27.957Z"
   },
   {
    "duration": 664,
    "start_time": "2021-12-08T11:10:32.413Z"
   },
   {
    "duration": 590,
    "start_time": "2021-12-08T11:10:46.290Z"
   },
   {
    "duration": 572,
    "start_time": "2021-12-08T13:30:58.669Z"
   },
   {
    "duration": 838,
    "start_time": "2021-12-09T06:26:17.860Z"
   },
   {
    "duration": 816,
    "start_time": "2021-12-09T06:26:26.289Z"
   },
   {
    "duration": 69,
    "start_time": "2021-12-09T06:29:13.645Z"
   },
   {
    "duration": 652,
    "start_time": "2021-12-09T06:32:56.274Z"
   },
   {
    "duration": 903,
    "start_time": "2021-12-09T06:33:10.680Z"
   },
   {
    "duration": 610,
    "start_time": "2021-12-09T06:34:03.754Z"
   },
   {
    "duration": 521,
    "start_time": "2021-12-09T06:34:08.098Z"
   },
   {
    "duration": 446,
    "start_time": "2021-12-09T06:34:24.867Z"
   },
   {
    "duration": 486,
    "start_time": "2021-12-09T06:34:35.676Z"
   },
   {
    "duration": 575,
    "start_time": "2021-12-09T06:34:48.578Z"
   },
   {
    "duration": 702,
    "start_time": "2021-12-09T06:34:59.407Z"
   },
   {
    "duration": 682,
    "start_time": "2021-12-09T06:35:13.692Z"
   },
   {
    "duration": 624,
    "start_time": "2021-12-09T06:35:37.665Z"
   },
   {
    "duration": 154,
    "start_time": "2021-12-09T07:20:56.133Z"
   },
   {
    "duration": 289,
    "start_time": "2021-12-09T07:21:01.992Z"
   },
   {
    "duration": 673,
    "start_time": "2021-12-09T07:21:23.193Z"
   },
   {
    "duration": 684,
    "start_time": "2021-12-09T07:45:59.512Z"
   },
   {
    "duration": 709,
    "start_time": "2021-12-09T07:46:11.338Z"
   },
   {
    "duration": 583,
    "start_time": "2021-12-09T07:46:20.520Z"
   },
   {
    "duration": 571,
    "start_time": "2021-12-09T07:46:27.674Z"
   },
   {
    "duration": 570,
    "start_time": "2021-12-09T07:46:44.431Z"
   },
   {
    "duration": 591,
    "start_time": "2021-12-09T08:54:52.577Z"
   },
   {
    "duration": 564,
    "start_time": "2021-12-09T08:55:04.501Z"
   },
   {
    "duration": 638,
    "start_time": "2021-12-09T08:55:17.860Z"
   },
   {
    "duration": 434,
    "start_time": "2021-12-09T09:12:56.747Z"
   },
   {
    "duration": 751,
    "start_time": "2021-12-09T09:13:12.954Z"
   },
   {
    "duration": 656,
    "start_time": "2021-12-09T09:13:56.912Z"
   },
   {
    "duration": 961,
    "start_time": "2021-12-09T09:14:14.882Z"
   },
   {
    "duration": 878,
    "start_time": "2021-12-09T09:14:27.721Z"
   },
   {
    "duration": 617,
    "start_time": "2021-12-09T09:15:11.511Z"
   },
   {
    "duration": 745,
    "start_time": "2021-12-09T09:15:15.915Z"
   },
   {
    "duration": 692,
    "start_time": "2021-12-09T09:15:32.500Z"
   },
   {
    "duration": 643,
    "start_time": "2021-12-09T09:15:45.687Z"
   },
   {
    "duration": 754,
    "start_time": "2021-12-09T09:15:52.938Z"
   },
   {
    "duration": 550,
    "start_time": "2021-12-09T13:16:16.827Z"
   },
   {
    "duration": 568,
    "start_time": "2021-12-09T13:16:23.735Z"
   },
   {
    "duration": 952,
    "start_time": "2021-12-09T13:17:07.006Z"
   },
   {
    "duration": 998,
    "start_time": "2021-12-09T13:17:13.755Z"
   },
   {
    "duration": 928,
    "start_time": "2021-12-09T13:17:33.838Z"
   },
   {
    "duration": 710,
    "start_time": "2021-12-09T13:17:52.051Z"
   },
   {
    "duration": 671,
    "start_time": "2021-12-09T13:18:01.233Z"
   },
   {
    "duration": 760,
    "start_time": "2021-12-09T13:18:05.661Z"
   },
   {
    "duration": 616,
    "start_time": "2021-12-09T13:18:12.044Z"
   },
   {
    "duration": 669,
    "start_time": "2021-12-09T13:19:05.563Z"
   },
   {
    "duration": 657,
    "start_time": "2021-12-09T13:19:13.244Z"
   },
   {
    "duration": 670,
    "start_time": "2021-12-09T13:21:58.709Z"
   },
   {
    "duration": 662,
    "start_time": "2021-12-09T13:22:05.145Z"
   },
   {
    "duration": 680,
    "start_time": "2021-12-09T13:22:22.008Z"
   },
   {
    "duration": 172,
    "start_time": "2021-12-09T13:33:07.427Z"
   },
   {
    "duration": 695,
    "start_time": "2021-12-09T13:37:02.671Z"
   },
   {
    "duration": 718,
    "start_time": "2021-12-09T13:37:14.893Z"
   },
   {
    "duration": 662,
    "start_time": "2021-12-09T13:37:23.537Z"
   },
   {
    "duration": 611,
    "start_time": "2021-12-09T13:37:43.547Z"
   },
   {
    "duration": 425,
    "start_time": "2021-12-10T09:32:58.904Z"
   },
   {
    "duration": 5,
    "start_time": "2021-12-10T09:33:01.847Z"
   },
   {
    "duration": 38,
    "start_time": "2021-12-10T09:33:01.862Z"
   },
   {
    "duration": 25,
    "start_time": "2021-12-10T09:33:01.903Z"
   },
   {
    "duration": 22,
    "start_time": "2021-12-10T09:33:01.931Z"
   },
   {
    "duration": 57,
    "start_time": "2021-12-10T09:33:01.956Z"
   },
   {
    "duration": 11,
    "start_time": "2021-12-10T09:33:02.016Z"
   },
   {
    "duration": 14,
    "start_time": "2021-12-10T09:33:02.030Z"
   },
   {
    "duration": 180,
    "start_time": "2021-12-10T09:33:02.046Z"
   },
   {
    "duration": 359,
    "start_time": "2021-12-10T09:33:02.229Z"
   },
   {
    "duration": 278,
    "start_time": "2021-12-10T09:33:02.592Z"
   },
   {
    "duration": 996,
    "start_time": "2021-12-10T09:33:02.874Z"
   },
   {
    "duration": 963,
    "start_time": "2021-12-10T09:33:03.873Z"
   },
   {
    "duration": 941,
    "start_time": "2021-12-10T09:33:04.840Z"
   },
   {
    "duration": 680,
    "start_time": "2021-12-10T09:33:05.784Z"
   },
   {
    "duration": 284,
    "start_time": "2021-12-10T09:33:06.467Z"
   },
   {
    "duration": -21,
    "start_time": "2021-12-10T09:33:06.774Z"
   },
   {
    "duration": 10,
    "start_time": "2021-12-10T09:33:49.600Z"
   },
   {
    "duration": 291,
    "start_time": "2021-12-10T09:33:58.116Z"
   },
   {
    "duration": 9,
    "start_time": "2021-12-10T09:34:03.788Z"
   },
   {
    "duration": 30,
    "start_time": "2021-12-10T09:34:10.143Z"
   },
   {
    "duration": 23,
    "start_time": "2021-12-10T09:34:23.562Z"
   },
   {
    "duration": 8,
    "start_time": "2021-12-10T09:34:31.091Z"
   },
   {
    "duration": 6,
    "start_time": "2021-12-10T09:34:36.725Z"
   },
   {
    "duration": 120,
    "start_time": "2021-12-10T09:34:44.949Z"
   },
   {
    "duration": 6,
    "start_time": "2021-12-10T09:34:48.463Z"
   },
   {
    "duration": 460,
    "start_time": "2021-12-10T09:35:07.611Z"
   },
   {
    "duration": 498,
    "start_time": "2021-12-10T09:35:18.634Z"
   },
   {
    "duration": 567,
    "start_time": "2021-12-10T10:25:29.100Z"
   },
   {
    "duration": 18,
    "start_time": "2021-12-10T10:32:40.181Z"
   },
   {
    "duration": 744,
    "start_time": "2021-12-10T10:33:14.218Z"
   },
   {
    "duration": 6,
    "start_time": "2021-12-10T10:33:17.549Z"
   },
   {
    "duration": 49,
    "start_time": "2021-12-10T10:33:17.560Z"
   },
   {
    "duration": 31,
    "start_time": "2021-12-10T10:33:17.613Z"
   },
   {
    "duration": 19,
    "start_time": "2021-12-10T10:33:17.648Z"
   },
   {
    "duration": 65,
    "start_time": "2021-12-10T10:33:17.669Z"
   },
   {
    "duration": 16,
    "start_time": "2021-12-10T10:33:17.737Z"
   },
   {
    "duration": 22,
    "start_time": "2021-12-10T10:33:17.755Z"
   },
   {
    "duration": 36,
    "start_time": "2021-12-10T10:33:17.781Z"
   },
   {
    "duration": 377,
    "start_time": "2021-12-10T10:33:17.820Z"
   },
   {
    "duration": 268,
    "start_time": "2021-12-10T10:33:18.200Z"
   },
   {
    "duration": 599,
    "start_time": "2021-12-10T10:33:18.471Z"
   },
   {
    "duration": 659,
    "start_time": "2021-12-10T10:33:19.072Z"
   },
   {
    "duration": 649,
    "start_time": "2021-12-10T10:33:19.733Z"
   },
   {
    "duration": 704,
    "start_time": "2021-12-10T10:33:20.385Z"
   },
   {
    "duration": 7,
    "start_time": "2021-12-10T10:33:21.091Z"
   },
   {
    "duration": 30,
    "start_time": "2021-12-10T10:33:21.101Z"
   },
   {
    "duration": 729,
    "start_time": "2021-12-10T10:33:21.134Z"
   },
   {
    "duration": 696,
    "start_time": "2021-12-10T10:33:24.112Z"
   },
   {
    "duration": 416,
    "start_time": "2021-12-10T10:33:34.136Z"
   },
   {
    "duration": 579,
    "start_time": "2021-12-10T10:35:05.898Z"
   },
   {
    "duration": 840,
    "start_time": "2021-12-10T10:43:15.198Z"
   },
   {
    "duration": 593,
    "start_time": "2021-12-10T10:43:42.927Z"
   },
   {
    "duration": 967,
    "start_time": "2021-12-10T10:43:51.758Z"
   },
   {
    "duration": 578,
    "start_time": "2021-12-10T10:44:17.387Z"
   },
   {
    "duration": 680,
    "start_time": "2021-12-10T10:44:23.914Z"
   },
   {
    "duration": 572,
    "start_time": "2021-12-10T10:44:53.719Z"
   },
   {
    "duration": 526,
    "start_time": "2021-12-10T10:45:04.876Z"
   },
   {
    "duration": 650,
    "start_time": "2021-12-10T10:45:09.314Z"
   },
   {
    "duration": 565,
    "start_time": "2021-12-10T10:51:09.489Z"
   },
   {
    "duration": 398,
    "start_time": "2021-12-10T11:13:41.431Z"
   },
   {
    "duration": 532,
    "start_time": "2021-12-10T11:13:57.831Z"
   },
   {
    "duration": 538,
    "start_time": "2021-12-10T11:14:09.452Z"
   },
   {
    "duration": 854,
    "start_time": "2021-12-10T11:14:20.157Z"
   },
   {
    "duration": 685,
    "start_time": "2021-12-10T11:14:43.677Z"
   },
   {
    "duration": 685,
    "start_time": "2021-12-10T11:18:51.591Z"
   },
   {
    "duration": 666,
    "start_time": "2021-12-10T11:40:48.339Z"
   },
   {
    "duration": 654,
    "start_time": "2021-12-10T11:40:52.241Z"
   },
   {
    "duration": 794,
    "start_time": "2021-12-10T11:40:59.311Z"
   },
   {
    "duration": 4,
    "start_time": "2021-12-11T11:48:12.841Z"
   },
   {
    "duration": 29,
    "start_time": "2021-12-11T11:48:12.849Z"
   },
   {
    "duration": 17,
    "start_time": "2021-12-11T11:48:12.883Z"
   },
   {
    "duration": 21,
    "start_time": "2021-12-11T11:48:12.919Z"
   },
   {
    "duration": 53,
    "start_time": "2021-12-11T11:48:12.944Z"
   },
   {
    "duration": 20,
    "start_time": "2021-12-11T11:48:12.999Z"
   },
   {
    "duration": 25,
    "start_time": "2021-12-11T11:48:13.022Z"
   },
   {
    "duration": 15,
    "start_time": "2021-12-11T11:48:13.050Z"
   },
   {
    "duration": 386,
    "start_time": "2021-12-11T11:48:13.070Z"
   },
   {
    "duration": 265,
    "start_time": "2021-12-11T11:48:13.460Z"
   },
   {
    "duration": 614,
    "start_time": "2021-12-11T11:48:13.728Z"
   },
   {
    "duration": 636,
    "start_time": "2021-12-11T11:48:14.345Z"
   },
   {
    "duration": 612,
    "start_time": "2021-12-11T11:48:14.984Z"
   },
   {
    "duration": 689,
    "start_time": "2021-12-11T11:48:15.599Z"
   },
   {
    "duration": 7,
    "start_time": "2021-12-11T11:48:16.290Z"
   },
   {
    "duration": 834,
    "start_time": "2021-12-11T11:48:16.318Z"
   },
   {
    "duration": 963,
    "start_time": "2021-12-11T11:48:17.155Z"
   },
   {
    "duration": 5,
    "start_time": "2021-12-11T11:54:02.764Z"
   },
   {
    "duration": 26,
    "start_time": "2021-12-11T11:54:02.771Z"
   },
   {
    "duration": 22,
    "start_time": "2021-12-11T11:54:02.800Z"
   },
   {
    "duration": 16,
    "start_time": "2021-12-11T11:54:02.825Z"
   },
   {
    "duration": 50,
    "start_time": "2021-12-11T11:54:02.843Z"
   },
   {
    "duration": 11,
    "start_time": "2021-12-11T11:54:02.895Z"
   },
   {
    "duration": 16,
    "start_time": "2021-12-11T11:54:02.908Z"
   },
   {
    "duration": 13,
    "start_time": "2021-12-11T11:54:02.928Z"
   },
   {
    "duration": 424,
    "start_time": "2021-12-11T11:54:02.944Z"
   },
   {
    "duration": 282,
    "start_time": "2021-12-11T11:54:03.371Z"
   },
   {
    "duration": 611,
    "start_time": "2021-12-11T11:54:03.656Z"
   },
   {
    "duration": 641,
    "start_time": "2021-12-11T11:54:04.270Z"
   },
   {
    "duration": 629,
    "start_time": "2021-12-11T11:54:04.918Z"
   },
   {
    "duration": 727,
    "start_time": "2021-12-11T11:54:05.549Z"
   },
   {
    "duration": 8,
    "start_time": "2021-12-11T11:54:06.280Z"
   },
   {
    "duration": 599,
    "start_time": "2021-12-11T11:54:06.290Z"
   },
   {
    "duration": 815,
    "start_time": "2021-12-11T11:54:06.892Z"
   },
   {
    "duration": 18,
    "start_time": "2021-12-11T12:07:37.541Z"
   },
   {
    "duration": 14,
    "start_time": "2021-12-11T12:08:20.133Z"
   },
   {
    "duration": 1149,
    "start_time": "2021-12-11T12:12:46.774Z"
   },
   {
    "duration": 3976,
    "start_time": "2021-12-11T12:13:04.142Z"
   },
   {
    "duration": 188,
    "start_time": "2021-12-11T12:13:38.910Z"
   },
   {
    "duration": 358,
    "start_time": "2021-12-11T12:30:32.563Z"
   },
   {
    "duration": 1506,
    "start_time": "2021-12-11T12:30:45.991Z"
   },
   {
    "duration": 186,
    "start_time": "2021-12-11T12:30:55.998Z"
   },
   {
    "duration": 205,
    "start_time": "2021-12-11T12:31:27.581Z"
   },
   {
    "duration": 17,
    "start_time": "2021-12-11T12:33:54.701Z"
   },
   {
    "duration": 277,
    "start_time": "2021-12-11T12:34:27.628Z"
   },
   {
    "duration": 309,
    "start_time": "2021-12-11T12:34:33.628Z"
   },
   {
    "duration": 380,
    "start_time": "2021-12-11T12:34:37.404Z"
   },
   {
    "duration": 374,
    "start_time": "2021-12-11T12:35:19.684Z"
   },
   {
    "duration": 493,
    "start_time": "2021-12-11T12:35:45.096Z"
   },
   {
    "duration": 466,
    "start_time": "2021-12-11T12:35:49.907Z"
   },
   {
    "duration": 577,
    "start_time": "2021-12-11T12:41:56.473Z"
   },
   {
    "duration": 567,
    "start_time": "2021-12-11T12:42:08.277Z"
   },
   {
    "duration": 658,
    "start_time": "2021-12-11T12:58:41.834Z"
   },
   {
    "duration": 706,
    "start_time": "2021-12-11T12:59:35.366Z"
   },
   {
    "duration": 91,
    "start_time": "2021-12-11T13:37:53.056Z"
   },
   {
    "duration": 203,
    "start_time": "2021-12-11T14:15:06.266Z"
   },
   {
    "duration": 301,
    "start_time": "2021-12-11T14:15:10.281Z"
   },
   {
    "duration": 8,
    "start_time": "2021-12-11T14:15:16.981Z"
   },
   {
    "duration": 5,
    "start_time": "2021-12-11T14:15:30.678Z"
   },
   {
    "duration": 278,
    "start_time": "2021-12-11T14:35:13.115Z"
   },
   {
    "duration": 370,
    "start_time": "2021-12-11T14:35:29.755Z"
   },
   {
    "duration": 252,
    "start_time": "2021-12-11T14:35:36.534Z"
   },
   {
    "duration": 336,
    "start_time": "2021-12-11T14:35:42.430Z"
   },
   {
    "duration": 513,
    "start_time": "2021-12-11T14:42:43.674Z"
   },
   {
    "duration": 735,
    "start_time": "2021-12-11T14:42:52.474Z"
   },
   {
    "duration": 525,
    "start_time": "2021-12-11T14:42:59.380Z"
   },
   {
    "duration": 518,
    "start_time": "2021-12-11T14:45:25.002Z"
   },
   {
    "duration": 514,
    "start_time": "2021-12-11T14:45:31.467Z"
   },
   {
    "duration": 301,
    "start_time": "2021-12-11T14:50:04.165Z"
   },
   {
    "duration": 6,
    "start_time": "2021-12-11T14:50:10.856Z"
   },
   {
    "duration": 1480,
    "start_time": "2021-12-12T16:28:48.295Z"
   },
   {
    "duration": 5,
    "start_time": "2021-12-12T16:30:28.694Z"
   },
   {
    "duration": 26,
    "start_time": "2021-12-12T16:30:28.702Z"
   },
   {
    "duration": 17,
    "start_time": "2021-12-12T16:30:28.731Z"
   },
   {
    "duration": 18,
    "start_time": "2021-12-12T16:30:28.751Z"
   },
   {
    "duration": 90,
    "start_time": "2021-12-12T16:30:28.772Z"
   },
   {
    "duration": 12,
    "start_time": "2021-12-12T16:30:28.864Z"
   },
   {
    "duration": 15,
    "start_time": "2021-12-12T16:30:28.878Z"
   },
   {
    "duration": 36,
    "start_time": "2021-12-12T16:30:28.897Z"
   },
   {
    "duration": 559,
    "start_time": "2021-12-12T16:30:28.939Z"
   },
   {
    "duration": 394,
    "start_time": "2021-12-12T16:30:29.501Z"
   },
   {
    "duration": 632,
    "start_time": "2021-12-12T16:30:29.899Z"
   },
   {
    "duration": 679,
    "start_time": "2021-12-12T16:30:30.534Z"
   },
   {
    "duration": 737,
    "start_time": "2021-12-12T16:30:31.217Z"
   },
   {
    "duration": 713,
    "start_time": "2021-12-12T16:30:31.957Z"
   },
   {
    "duration": 6,
    "start_time": "2021-12-12T16:30:32.672Z"
   },
   {
    "duration": 591,
    "start_time": "2021-12-12T16:30:32.681Z"
   },
   {
    "duration": 708,
    "start_time": "2021-12-12T16:30:33.275Z"
   },
   {
    "duration": 35,
    "start_time": "2021-12-12T16:30:33.986Z"
   },
   {
    "duration": 477,
    "start_time": "2021-12-12T16:30:34.023Z"
   },
   {
    "duration": 6,
    "start_time": "2021-12-12T16:30:34.502Z"
   },
   {
    "duration": 501,
    "start_time": "2021-12-12T16:30:34.518Z"
   },
   {
    "duration": 6,
    "start_time": "2021-12-12T16:30:35.022Z"
   },
   {
    "duration": 1830,
    "start_time": "2021-12-12T16:30:35.030Z"
   },
   {
    "duration": 424,
    "start_time": "2021-12-12T16:30:52.754Z"
   },
   {
    "duration": 604,
    "start_time": "2021-12-12T17:06:46.603Z"
   },
   {
    "duration": 606,
    "start_time": "2021-12-12T17:06:51.156Z"
   },
   {
    "duration": 1551,
    "start_time": "2021-12-12T17:09:26.306Z"
   },
   {
    "duration": 6,
    "start_time": "2021-12-12T17:09:41.900Z"
   },
   {
    "duration": 33,
    "start_time": "2021-12-12T17:09:41.909Z"
   },
   {
    "duration": 16,
    "start_time": "2021-12-12T17:09:41.946Z"
   },
   {
    "duration": 71,
    "start_time": "2021-12-12T17:09:41.965Z"
   },
   {
    "duration": 47,
    "start_time": "2021-12-12T17:09:42.039Z"
   },
   {
    "duration": 11,
    "start_time": "2021-12-12T17:09:42.089Z"
   },
   {
    "duration": 14,
    "start_time": "2021-12-12T17:09:42.118Z"
   },
   {
    "duration": 19,
    "start_time": "2021-12-12T17:09:42.135Z"
   },
   {
    "duration": 458,
    "start_time": "2021-12-12T17:09:42.159Z"
   },
   {
    "duration": 352,
    "start_time": "2021-12-12T17:09:42.621Z"
   },
   {
    "duration": 737,
    "start_time": "2021-12-12T17:09:42.977Z"
   },
   {
    "duration": 759,
    "start_time": "2021-12-12T17:09:43.718Z"
   },
   {
    "duration": 691,
    "start_time": "2021-12-12T17:09:44.480Z"
   },
   {
    "duration": 743,
    "start_time": "2021-12-12T17:09:45.174Z"
   },
   {
    "duration": 9,
    "start_time": "2021-12-12T17:09:45.921Z"
   },
   {
    "duration": 787,
    "start_time": "2021-12-12T17:09:45.934Z"
   },
   {
    "duration": 709,
    "start_time": "2021-12-12T17:09:46.724Z"
   },
   {
    "duration": 21,
    "start_time": "2021-12-12T17:09:47.436Z"
   },
   {
    "duration": 552,
    "start_time": "2021-12-12T17:09:47.459Z"
   },
   {
    "duration": 5,
    "start_time": "2021-12-12T17:09:48.017Z"
   },
   {
    "duration": 597,
    "start_time": "2021-12-12T17:09:48.025Z"
   },
   {
    "duration": 9,
    "start_time": "2021-12-12T17:09:48.626Z"
   },
   {
    "duration": 2109,
    "start_time": "2021-12-12T17:09:48.638Z"
   },
   {
    "duration": 626,
    "start_time": "2021-12-12T17:10:18.122Z"
   },
   {
    "duration": 542,
    "start_time": "2021-12-12T17:13:52.592Z"
   },
   {
    "duration": 4,
    "start_time": "2021-12-12T17:14:36.067Z"
   },
   {
    "duration": 6,
    "start_time": "2021-12-12T17:14:39.126Z"
   },
   {
    "duration": 28,
    "start_time": "2021-12-12T17:14:39.136Z"
   },
   {
    "duration": 52,
    "start_time": "2021-12-12T17:14:39.167Z"
   },
   {
    "duration": 19,
    "start_time": "2021-12-12T17:14:39.222Z"
   },
   {
    "duration": 48,
    "start_time": "2021-12-12T17:14:39.243Z"
   },
   {
    "duration": 31,
    "start_time": "2021-12-12T17:14:39.294Z"
   },
   {
    "duration": 12,
    "start_time": "2021-12-12T17:14:39.328Z"
   },
   {
    "duration": 17,
    "start_time": "2021-12-12T17:14:39.343Z"
   },
   {
    "duration": 397,
    "start_time": "2021-12-12T17:14:39.366Z"
   },
   {
    "duration": 263,
    "start_time": "2021-12-12T17:14:39.766Z"
   },
   {
    "duration": 609,
    "start_time": "2021-12-12T17:14:40.031Z"
   },
   {
    "duration": 685,
    "start_time": "2021-12-12T17:14:40.643Z"
   },
   {
    "duration": 614,
    "start_time": "2021-12-12T17:14:41.331Z"
   },
   {
    "duration": 695,
    "start_time": "2021-12-12T17:14:41.947Z"
   },
   {
    "duration": 6,
    "start_time": "2021-12-12T17:14:42.645Z"
   },
   {
    "duration": 586,
    "start_time": "2021-12-12T17:14:42.653Z"
   },
   {
    "duration": 707,
    "start_time": "2021-12-12T17:14:43.242Z"
   },
   {
    "duration": 17,
    "start_time": "2021-12-12T17:14:43.952Z"
   },
   {
    "duration": 500,
    "start_time": "2021-12-12T17:14:43.971Z"
   },
   {
    "duration": 6,
    "start_time": "2021-12-12T17:14:44.473Z"
   },
   {
    "duration": 509,
    "start_time": "2021-12-12T17:14:44.483Z"
   },
   {
    "duration": 8,
    "start_time": "2021-12-12T17:14:44.995Z"
   },
   {
    "duration": 566,
    "start_time": "2021-12-12T17:14:45.005Z"
   },
   {
    "duration": 14,
    "start_time": "2021-12-12T18:27:45.768Z"
   },
   {
    "duration": 487,
    "start_time": "2021-12-12T18:30:13.447Z"
   },
   {
    "duration": 124,
    "start_time": "2021-12-12T18:31:20.722Z"
   },
   {
    "duration": 7,
    "start_time": "2021-12-12T18:32:53.015Z"
   },
   {
    "duration": 33,
    "start_time": "2021-12-12T18:32:53.025Z"
   },
   {
    "duration": 18,
    "start_time": "2021-12-12T18:32:53.063Z"
   },
   {
    "duration": 23,
    "start_time": "2021-12-12T18:32:53.119Z"
   },
   {
    "duration": 49,
    "start_time": "2021-12-12T18:32:53.144Z"
   },
   {
    "duration": 25,
    "start_time": "2021-12-12T18:32:53.195Z"
   },
   {
    "duration": 14,
    "start_time": "2021-12-12T18:32:53.223Z"
   },
   {
    "duration": 25,
    "start_time": "2021-12-12T18:32:53.240Z"
   },
   {
    "duration": 416,
    "start_time": "2021-12-12T18:32:53.269Z"
   },
   {
    "duration": 290,
    "start_time": "2021-12-12T18:32:53.687Z"
   },
   {
    "duration": 719,
    "start_time": "2021-12-12T18:32:53.979Z"
   },
   {
    "duration": 717,
    "start_time": "2021-12-12T18:32:54.700Z"
   },
   {
    "duration": 797,
    "start_time": "2021-12-12T18:32:55.420Z"
   },
   {
    "duration": 679,
    "start_time": "2021-12-12T18:32:56.221Z"
   },
   {
    "duration": 16,
    "start_time": "2021-12-12T18:32:56.903Z"
   },
   {
    "duration": 600,
    "start_time": "2021-12-12T18:32:56.923Z"
   },
   {
    "duration": 683,
    "start_time": "2021-12-12T18:32:57.525Z"
   },
   {
    "duration": 23,
    "start_time": "2021-12-12T18:32:58.211Z"
   },
   {
    "duration": 681,
    "start_time": "2021-12-12T18:32:58.237Z"
   },
   {
    "duration": 6,
    "start_time": "2021-12-12T18:32:58.921Z"
   },
   {
    "duration": 720,
    "start_time": "2021-12-12T18:32:58.930Z"
   },
   {
    "duration": 8,
    "start_time": "2021-12-12T18:32:59.653Z"
   },
   {
    "duration": 55,
    "start_time": "2021-12-12T18:32:59.664Z"
   },
   {
    "duration": 158,
    "start_time": "2021-12-12T18:32:59.722Z"
   },
   {
    "duration": 2265,
    "start_time": "2021-12-12T18:35:01.215Z"
   },
   {
    "duration": 1366,
    "start_time": "2021-12-12T18:35:23.165Z"
   },
   {
    "duration": 702,
    "start_time": "2021-12-12T18:35:41.148Z"
   },
   {
    "duration": 698,
    "start_time": "2021-12-12T18:36:09.739Z"
   },
   {
    "duration": 1022,
    "start_time": "2021-12-12T18:38:09.270Z"
   },
   {
    "duration": 926,
    "start_time": "2021-12-12T18:38:47.205Z"
   },
   {
    "duration": 1004,
    "start_time": "2021-12-12T18:49:21.204Z"
   },
   {
    "duration": 938,
    "start_time": "2021-12-12T18:50:03.409Z"
   },
   {
    "duration": 25,
    "start_time": "2021-12-12T18:50:05.286Z"
   },
   {
    "duration": 939,
    "start_time": "2021-12-12T19:12:49.799Z"
   },
   {
    "duration": 298,
    "start_time": "2021-12-12T19:12:51.737Z"
   },
   {
    "duration": 921,
    "start_time": "2021-12-12T19:14:13.437Z"
   },
   {
    "duration": 5,
    "start_time": "2021-12-12T19:14:22.964Z"
   },
   {
    "duration": 28,
    "start_time": "2021-12-12T19:14:22.971Z"
   },
   {
    "duration": 16,
    "start_time": "2021-12-12T19:14:23.002Z"
   },
   {
    "duration": 16,
    "start_time": "2021-12-12T19:14:23.021Z"
   },
   {
    "duration": 49,
    "start_time": "2021-12-12T19:14:23.040Z"
   },
   {
    "duration": 12,
    "start_time": "2021-12-12T19:14:23.091Z"
   },
   {
    "duration": 11,
    "start_time": "2021-12-12T19:14:23.117Z"
   },
   {
    "duration": 19,
    "start_time": "2021-12-12T19:14:23.135Z"
   },
   {
    "duration": 590,
    "start_time": "2021-12-12T19:14:23.158Z"
   },
   {
    "duration": 341,
    "start_time": "2021-12-12T19:14:23.751Z"
   },
   {
    "duration": 729,
    "start_time": "2021-12-12T19:14:24.095Z"
   },
   {
    "duration": 647,
    "start_time": "2021-12-12T19:14:24.827Z"
   },
   {
    "duration": 707,
    "start_time": "2021-12-12T19:14:25.478Z"
   },
   {
    "duration": 686,
    "start_time": "2021-12-12T19:14:26.189Z"
   },
   {
    "duration": 8,
    "start_time": "2021-12-12T19:14:26.878Z"
   },
   {
    "duration": 668,
    "start_time": "2021-12-12T19:14:26.889Z"
   },
   {
    "duration": 783,
    "start_time": "2021-12-12T19:14:27.560Z"
   },
   {
    "duration": 16,
    "start_time": "2021-12-12T19:14:28.346Z"
   },
   {
    "duration": 699,
    "start_time": "2021-12-12T19:14:28.365Z"
   },
   {
    "duration": 6,
    "start_time": "2021-12-12T19:14:29.068Z"
   },
   {
    "duration": 569,
    "start_time": "2021-12-12T19:14:29.076Z"
   },
   {
    "duration": 6,
    "start_time": "2021-12-12T19:14:29.647Z"
   },
   {
    "duration": 14,
    "start_time": "2021-12-12T19:14:29.657Z"
   },
   {
    "duration": 581,
    "start_time": "2021-12-12T19:14:29.674Z"
   },
   {
    "duration": -295,
    "start_time": "2021-12-12T19:14:30.553Z"
   },
   {
    "duration": -295,
    "start_time": "2021-12-12T19:14:30.554Z"
   },
   {
    "duration": 6,
    "start_time": "2021-12-12T19:14:38.114Z"
   },
   {
    "duration": 33,
    "start_time": "2021-12-12T19:14:38.124Z"
   },
   {
    "duration": 22,
    "start_time": "2021-12-12T19:14:38.161Z"
   },
   {
    "duration": 25,
    "start_time": "2021-12-12T19:14:38.220Z"
   },
   {
    "duration": 47,
    "start_time": "2021-12-12T19:14:38.247Z"
   },
   {
    "duration": 34,
    "start_time": "2021-12-12T19:14:38.297Z"
   },
   {
    "duration": 20,
    "start_time": "2021-12-12T19:14:38.335Z"
   },
   {
    "duration": 62,
    "start_time": "2021-12-12T19:14:38.357Z"
   },
   {
    "duration": 538,
    "start_time": "2021-12-12T19:14:38.424Z"
   },
   {
    "duration": 339,
    "start_time": "2021-12-12T19:14:38.967Z"
   },
   {
    "duration": 653,
    "start_time": "2021-12-12T19:14:39.309Z"
   },
   {
    "duration": 869,
    "start_time": "2021-12-12T19:14:39.965Z"
   },
   {
    "duration": 712,
    "start_time": "2021-12-12T19:14:40.837Z"
   },
   {
    "duration": 700,
    "start_time": "2021-12-12T19:14:41.552Z"
   },
   {
    "duration": 7,
    "start_time": "2021-12-12T19:14:42.254Z"
   },
   {
    "duration": 623,
    "start_time": "2021-12-12T19:14:42.263Z"
   },
   {
    "duration": 744,
    "start_time": "2021-12-12T19:14:42.889Z"
   },
   {
    "duration": 20,
    "start_time": "2021-12-12T19:14:43.636Z"
   },
   {
    "duration": 504,
    "start_time": "2021-12-12T19:14:43.658Z"
   },
   {
    "duration": 7,
    "start_time": "2021-12-12T19:14:44.165Z"
   },
   {
    "duration": 689,
    "start_time": "2021-12-12T19:14:44.175Z"
   },
   {
    "duration": 6,
    "start_time": "2021-12-12T19:14:44.867Z"
   },
   {
    "duration": 52,
    "start_time": "2021-12-12T19:14:44.876Z"
   },
   {
    "duration": 630,
    "start_time": "2021-12-12T19:14:44.932Z"
   },
   {
    "duration": -282,
    "start_time": "2021-12-12T19:14:45.847Z"
   },
   {
    "duration": -285,
    "start_time": "2021-12-12T19:14:45.854Z"
   },
   {
    "duration": 500,
    "start_time": "2021-12-12T19:15:47.917Z"
   },
   {
    "duration": 5,
    "start_time": "2021-12-12T19:15:52.592Z"
   },
   {
    "duration": 33,
    "start_time": "2021-12-12T19:15:52.600Z"
   },
   {
    "duration": 30,
    "start_time": "2021-12-12T19:15:52.636Z"
   },
   {
    "duration": 52,
    "start_time": "2021-12-12T19:15:52.669Z"
   },
   {
    "duration": 48,
    "start_time": "2021-12-12T19:15:52.724Z"
   },
   {
    "duration": 11,
    "start_time": "2021-12-12T19:15:52.774Z"
   },
   {
    "duration": 29,
    "start_time": "2021-12-12T19:15:52.788Z"
   },
   {
    "duration": 26,
    "start_time": "2021-12-12T19:15:52.821Z"
   },
   {
    "duration": 387,
    "start_time": "2021-12-12T19:15:52.853Z"
   },
   {
    "duration": 333,
    "start_time": "2021-12-12T19:15:53.243Z"
   },
   {
    "duration": 844,
    "start_time": "2021-12-12T19:15:53.578Z"
   },
   {
    "duration": 678,
    "start_time": "2021-12-12T19:15:54.425Z"
   },
   {
    "duration": 642,
    "start_time": "2021-12-12T19:15:55.117Z"
   },
   {
    "duration": 807,
    "start_time": "2021-12-12T19:15:55.763Z"
   },
   {
    "duration": 7,
    "start_time": "2021-12-12T19:15:56.572Z"
   },
   {
    "duration": 635,
    "start_time": "2021-12-12T19:15:56.582Z"
   },
   {
    "duration": 850,
    "start_time": "2021-12-12T19:15:57.219Z"
   },
   {
    "duration": 20,
    "start_time": "2021-12-12T19:15:58.071Z"
   },
   {
    "duration": 528,
    "start_time": "2021-12-12T19:15:58.093Z"
   },
   {
    "duration": 7,
    "start_time": "2021-12-12T19:15:58.624Z"
   },
   {
    "duration": 716,
    "start_time": "2021-12-12T19:15:58.634Z"
   },
   {
    "duration": 6,
    "start_time": "2021-12-12T19:15:59.353Z"
   },
   {
    "duration": 19,
    "start_time": "2021-12-12T19:15:59.361Z"
   },
   {
    "duration": 555,
    "start_time": "2021-12-12T19:15:59.417Z"
   },
   {
    "duration": 16,
    "start_time": "2021-12-12T19:16:05.248Z"
   },
   {
    "duration": 37,
    "start_time": "2021-12-12T19:17:33.656Z"
   },
   {
    "duration": 532,
    "start_time": "2021-12-12T19:17:54.567Z"
   },
   {
    "duration": 631,
    "start_time": "2021-12-12T19:19:15.967Z"
   },
   {
    "duration": 762,
    "start_time": "2021-12-12T19:19:18.824Z"
   },
   {
    "duration": 515,
    "start_time": "2021-12-12T19:20:24.167Z"
   },
   {
    "duration": 528,
    "start_time": "2021-12-12T19:20:49.225Z"
   },
   {
    "duration": 499,
    "start_time": "2021-12-12T19:21:53.430Z"
   },
   {
    "duration": 746,
    "start_time": "2021-12-12T19:22:37.078Z"
   },
   {
    "duration": 1437,
    "start_time": "2021-12-12T19:22:52.918Z"
   },
   {
    "duration": 706,
    "start_time": "2021-12-12T19:23:04.910Z"
   },
   {
    "duration": 35,
    "start_time": "2021-12-12T19:23:15.772Z"
   },
   {
    "duration": 383,
    "start_time": "2021-12-12T19:33:20.050Z"
   },
   {
    "duration": 14,
    "start_time": "2021-12-12T19:33:25.465Z"
   },
   {
    "duration": 359,
    "start_time": "2021-12-12T19:33:29.866Z"
   },
   {
    "duration": 8,
    "start_time": "2021-12-12T19:34:02.081Z"
   },
   {
    "duration": 7,
    "start_time": "2021-12-12T19:34:05.680Z"
   },
   {
    "duration": 8,
    "start_time": "2021-12-12T19:34:57.533Z"
   },
   {
    "duration": 11,
    "start_time": "2021-12-12T19:34:58.617Z"
   },
   {
    "duration": 311,
    "start_time": "2021-12-12T19:35:12.609Z"
   },
   {
    "duration": 294,
    "start_time": "2021-12-12T19:35:17.929Z"
   },
   {
    "duration": 8,
    "start_time": "2021-12-12T19:35:20.777Z"
   },
   {
    "duration": 302,
    "start_time": "2021-12-12T19:35:21.569Z"
   },
   {
    "duration": 12,
    "start_time": "2021-12-12T19:35:24.208Z"
   },
   {
    "duration": 12,
    "start_time": "2021-12-12T19:35:29.865Z"
   },
   {
    "duration": 12,
    "start_time": "2021-12-12T19:35:35.753Z"
   },
   {
    "duration": 354,
    "start_time": "2021-12-12T19:37:18.992Z"
   },
   {
    "duration": 16,
    "start_time": "2021-12-12T19:43:03.913Z"
   },
   {
    "duration": 16,
    "start_time": "2021-12-12T19:55:24.355Z"
   },
   {
    "duration": 15,
    "start_time": "2021-12-12T19:56:07.323Z"
   },
   {
    "duration": 13,
    "start_time": "2021-12-12T19:57:52.634Z"
   },
   {
    "duration": 11,
    "start_time": "2021-12-12T19:58:02.818Z"
   },
   {
    "duration": 11,
    "start_time": "2021-12-12T19:58:07.435Z"
   },
   {
    "duration": 12,
    "start_time": "2021-12-12T19:58:11.706Z"
   },
   {
    "duration": 27,
    "start_time": "2021-12-12T20:12:24.445Z"
   },
   {
    "duration": 23,
    "start_time": "2021-12-12T20:16:02.188Z"
   },
   {
    "duration": 14,
    "start_time": "2021-12-12T20:26:21.191Z"
   },
   {
    "duration": 388,
    "start_time": "2021-12-12T21:02:40.963Z"
   },
   {
    "duration": 6,
    "start_time": "2021-12-12T21:10:09.063Z"
   },
   {
    "duration": 34,
    "start_time": "2021-12-12T21:10:09.073Z"
   },
   {
    "duration": 21,
    "start_time": "2021-12-12T21:10:09.112Z"
   },
   {
    "duration": 29,
    "start_time": "2021-12-12T21:10:09.137Z"
   },
   {
    "duration": 52,
    "start_time": "2021-12-12T21:10:09.170Z"
   },
   {
    "duration": 11,
    "start_time": "2021-12-12T21:10:09.224Z"
   },
   {
    "duration": 12,
    "start_time": "2021-12-12T21:10:09.237Z"
   },
   {
    "duration": 14,
    "start_time": "2021-12-12T21:10:09.252Z"
   },
   {
    "duration": 401,
    "start_time": "2021-12-12T21:10:09.270Z"
   },
   {
    "duration": 256,
    "start_time": "2021-12-12T21:10:09.674Z"
   },
   {
    "duration": 730,
    "start_time": "2021-12-12T21:10:09.932Z"
   },
   {
    "duration": 743,
    "start_time": "2021-12-12T21:10:10.665Z"
   },
   {
    "duration": 621,
    "start_time": "2021-12-12T21:10:11.417Z"
   },
   {
    "duration": 706,
    "start_time": "2021-12-12T21:10:12.041Z"
   },
   {
    "duration": 8,
    "start_time": "2021-12-12T21:10:12.751Z"
   },
   {
    "duration": 599,
    "start_time": "2021-12-12T21:10:12.762Z"
   },
   {
    "duration": 792,
    "start_time": "2021-12-12T21:10:13.364Z"
   },
   {
    "duration": 24,
    "start_time": "2021-12-12T21:10:14.159Z"
   },
   {
    "duration": 464,
    "start_time": "2021-12-12T21:10:14.218Z"
   },
   {
    "duration": 7,
    "start_time": "2021-12-12T21:10:14.685Z"
   },
   {
    "duration": 516,
    "start_time": "2021-12-12T21:10:14.695Z"
   },
   {
    "duration": 7,
    "start_time": "2021-12-12T21:10:15.218Z"
   },
   {
    "duration": 562,
    "start_time": "2021-12-12T21:10:15.228Z"
   },
   {
    "duration": -338,
    "start_time": "2021-12-12T21:10:16.131Z"
   },
   {
    "duration": -337,
    "start_time": "2021-12-12T21:10:16.133Z"
   },
   {
    "duration": -336,
    "start_time": "2021-12-12T21:10:16.134Z"
   },
   {
    "duration": -338,
    "start_time": "2021-12-12T21:10:16.138Z"
   },
   {
    "duration": -341,
    "start_time": "2021-12-12T21:10:16.143Z"
   },
   {
    "duration": -343,
    "start_time": "2021-12-12T21:10:16.148Z"
   },
   {
    "duration": -342,
    "start_time": "2021-12-12T21:10:16.149Z"
   },
   {
    "duration": -344,
    "start_time": "2021-12-12T21:10:16.153Z"
   },
   {
    "duration": 22,
    "start_time": "2021-12-12T21:13:58.654Z"
   },
   {
    "duration": 449,
    "start_time": "2021-12-12T21:15:33.798Z"
   },
   {
    "duration": 284,
    "start_time": "2021-12-12T21:15:37.670Z"
   },
   {
    "duration": 206,
    "start_time": "2021-12-12T21:16:08.197Z"
   },
   {
    "duration": 8,
    "start_time": "2021-12-12T21:16:11.350Z"
   },
   {
    "duration": 9,
    "start_time": "2021-12-12T21:16:12.415Z"
   },
   {
    "duration": 215,
    "start_time": "2021-12-12T21:18:17.469Z"
   },
   {
    "duration": 9,
    "start_time": "2021-12-12T21:18:20.957Z"
   },
   {
    "duration": 10,
    "start_time": "2021-12-12T21:18:22.212Z"
   },
   {
    "duration": 18,
    "start_time": "2021-12-12T21:18:26.100Z"
   },
   {
    "duration": 8207,
    "start_time": "2021-12-12T21:19:17.515Z"
   },
   {
    "duration": 7332,
    "start_time": "2021-12-12T21:19:42.788Z"
   },
   {
    "duration": 11,
    "start_time": "2021-12-12T21:20:21.788Z"
   },
   {
    "duration": 9766,
    "start_time": "2021-12-12T21:20:44.341Z"
   },
   {
    "duration": 13,
    "start_time": "2021-12-12T21:21:24.084Z"
   },
   {
    "duration": 13,
    "start_time": "2021-12-12T21:21:31.419Z"
   },
   {
    "duration": 9,
    "start_time": "2021-12-12T21:21:31.939Z"
   },
   {
    "duration": 8626,
    "start_time": "2021-12-12T21:22:11.475Z"
   },
   {
    "duration": 23,
    "start_time": "2021-12-12T21:22:35.324Z"
   },
   {
    "duration": 9,
    "start_time": "2021-12-12T21:33:02.815Z"
   },
   {
    "duration": 5,
    "start_time": "2021-12-12T21:44:40.666Z"
   },
   {
    "duration": 28,
    "start_time": "2021-12-12T21:44:40.674Z"
   },
   {
    "duration": 16,
    "start_time": "2021-12-12T21:44:40.705Z"
   },
   {
    "duration": 19,
    "start_time": "2021-12-12T21:44:40.724Z"
   },
   {
    "duration": 50,
    "start_time": "2021-12-12T21:44:40.745Z"
   },
   {
    "duration": 11,
    "start_time": "2021-12-12T21:44:40.797Z"
   },
   {
    "duration": 16,
    "start_time": "2021-12-12T21:44:40.812Z"
   },
   {
    "duration": 19,
    "start_time": "2021-12-12T21:44:40.831Z"
   },
   {
    "duration": 431,
    "start_time": "2021-12-12T21:44:40.856Z"
   },
   {
    "duration": 272,
    "start_time": "2021-12-12T21:44:41.290Z"
   },
   {
    "duration": 609,
    "start_time": "2021-12-12T21:44:41.565Z"
   },
   {
    "duration": 647,
    "start_time": "2021-12-12T21:44:42.178Z"
   },
   {
    "duration": 676,
    "start_time": "2021-12-12T21:44:42.828Z"
   },
   {
    "duration": 846,
    "start_time": "2021-12-12T21:44:43.506Z"
   },
   {
    "duration": 6,
    "start_time": "2021-12-12T21:44:44.355Z"
   },
   {
    "duration": 686,
    "start_time": "2021-12-12T21:44:44.363Z"
   },
   {
    "duration": 707,
    "start_time": "2021-12-12T21:44:45.052Z"
   },
   {
    "duration": 18,
    "start_time": "2021-12-12T21:44:45.762Z"
   },
   {
    "duration": 489,
    "start_time": "2021-12-12T21:44:45.783Z"
   },
   {
    "duration": 6,
    "start_time": "2021-12-12T21:44:46.275Z"
   },
   {
    "duration": 518,
    "start_time": "2021-12-12T21:44:46.285Z"
   },
   {
    "duration": 14,
    "start_time": "2021-12-12T21:44:46.806Z"
   },
   {
    "duration": 26,
    "start_time": "2021-12-12T21:44:46.823Z"
   },
   {
    "duration": 491,
    "start_time": "2021-12-12T21:44:46.851Z"
   },
   {
    "duration": 234,
    "start_time": "2021-12-12T21:44:47.345Z"
   },
   {
    "duration": 8,
    "start_time": "2021-12-12T21:44:47.582Z"
   },
   {
    "duration": 24,
    "start_time": "2021-12-12T21:44:47.595Z"
   },
   {
    "duration": 15,
    "start_time": "2021-12-12T21:44:47.622Z"
   },
   {
    "duration": 12,
    "start_time": "2021-12-12T21:44:47.639Z"
   },
   {
    "duration": 69,
    "start_time": "2021-12-12T21:44:47.654Z"
   },
   {
    "duration": 14,
    "start_time": "2021-12-12T21:44:47.725Z"
   },
   {
    "duration": 9,
    "start_time": "2021-12-12T21:44:47.741Z"
   },
   {
    "duration": 74,
    "start_time": "2021-12-12T21:44:47.752Z"
   },
   {
    "duration": 10,
    "start_time": "2021-12-12T21:44:51.626Z"
   },
   {
    "duration": 789,
    "start_time": "2021-12-12T21:47:59.093Z"
   },
   {
    "duration": 771,
    "start_time": "2021-12-12T21:48:06.977Z"
   },
   {
    "duration": 749,
    "start_time": "2021-12-12T21:48:15.561Z"
   },
   {
    "duration": 574,
    "start_time": "2021-12-12T21:48:31.081Z"
   },
   {
    "duration": 587,
    "start_time": "2021-12-12T21:50:02.313Z"
   },
   {
    "duration": 670,
    "start_time": "2021-12-12T21:50:51.497Z"
   },
   {
    "duration": 620,
    "start_time": "2021-12-12T21:50:53.293Z"
   },
   {
    "duration": 636,
    "start_time": "2021-12-12T21:51:00.617Z"
   },
   {
    "duration": 593,
    "start_time": "2021-12-12T21:51:23.432Z"
   },
   {
    "duration": 691,
    "start_time": "2021-12-12T21:52:00.712Z"
   },
   {
    "duration": 701,
    "start_time": "2021-12-12T21:52:37.956Z"
   },
   {
    "duration": 702,
    "start_time": "2021-12-12T21:53:02.852Z"
   },
   {
    "duration": 485,
    "start_time": "2021-12-12T21:53:42.908Z"
   },
   {
    "duration": 600,
    "start_time": "2021-12-12T21:54:09.311Z"
   },
   {
    "duration": 1150,
    "start_time": "2021-12-13T04:42:40.865Z"
   },
   {
    "duration": 25,
    "start_time": "2021-12-13T04:42:42.016Z"
   },
   {
    "duration": 10,
    "start_time": "2021-12-13T04:42:42.043Z"
   },
   {
    "duration": 13,
    "start_time": "2021-12-13T04:42:42.055Z"
   },
   {
    "duration": 51,
    "start_time": "2021-12-13T04:42:42.070Z"
   },
   {
    "duration": 7,
    "start_time": "2021-12-13T04:42:42.123Z"
   },
   {
    "duration": 8,
    "start_time": "2021-12-13T04:42:42.132Z"
   },
   {
    "duration": 11,
    "start_time": "2021-12-13T04:42:42.141Z"
   },
   {
    "duration": 184,
    "start_time": "2021-12-13T04:42:42.154Z"
   },
   {
    "duration": 145,
    "start_time": "2021-12-13T04:42:42.340Z"
   },
   {
    "duration": 311,
    "start_time": "2021-12-13T04:42:42.487Z"
   },
   {
    "duration": 366,
    "start_time": "2021-12-13T04:42:42.800Z"
   },
   {
    "duration": 372,
    "start_time": "2021-12-13T04:42:43.168Z"
   },
   {
    "duration": 487,
    "start_time": "2021-12-13T04:42:43.542Z"
   },
   {
    "duration": 5,
    "start_time": "2021-12-13T04:42:44.030Z"
   },
   {
    "duration": 349,
    "start_time": "2021-12-13T04:42:44.036Z"
   },
   {
    "duration": 440,
    "start_time": "2021-12-13T04:42:44.387Z"
   },
   {
    "duration": 13,
    "start_time": "2021-12-13T04:42:44.828Z"
   },
   {
    "duration": 370,
    "start_time": "2021-12-13T04:42:44.842Z"
   },
   {
    "duration": 4,
    "start_time": "2021-12-13T04:42:45.214Z"
   },
   {
    "duration": 409,
    "start_time": "2021-12-13T04:42:45.219Z"
   },
   {
    "duration": 4,
    "start_time": "2021-12-13T04:42:45.630Z"
   },
   {
    "duration": 14,
    "start_time": "2021-12-13T04:42:45.635Z"
   },
   {
    "duration": 244,
    "start_time": "2021-12-13T04:42:45.663Z"
   },
   {
    "duration": 119,
    "start_time": "2021-12-13T04:42:45.909Z"
   },
   {
    "duration": 5,
    "start_time": "2021-12-13T04:42:46.030Z"
   },
   {
    "duration": 27,
    "start_time": "2021-12-13T04:42:46.038Z"
   },
   {
    "duration": 9,
    "start_time": "2021-12-13T04:42:46.067Z"
   },
   {
    "duration": 8,
    "start_time": "2021-12-13T04:42:46.077Z"
   },
   {
    "duration": 8,
    "start_time": "2021-12-13T04:42:46.086Z"
   },
   {
    "duration": 10,
    "start_time": "2021-12-13T04:42:46.095Z"
   },
   {
    "duration": 6,
    "start_time": "2021-12-13T04:42:46.107Z"
   },
   {
    "duration": 12,
    "start_time": "2021-12-13T04:42:46.115Z"
   },
   {
    "duration": 25,
    "start_time": "2021-12-13T07:18:25.277Z"
   },
   {
    "duration": 5,
    "start_time": "2021-12-13T07:18:27.963Z"
   },
   {
    "duration": 25,
    "start_time": "2021-12-13T07:18:28.400Z"
   },
   {
    "duration": 15,
    "start_time": "2021-12-13T07:18:29.825Z"
   },
   {
    "duration": 25,
    "start_time": "2021-12-13T07:18:36.807Z"
   },
   {
    "duration": 17,
    "start_time": "2021-12-13T07:18:42.759Z"
   },
   {
    "duration": 24,
    "start_time": "2021-12-13T07:19:20.757Z"
   },
   {
    "duration": 16,
    "start_time": "2021-12-13T07:19:27.118Z"
   },
   {
    "duration": 24,
    "start_time": "2021-12-13T07:19:43.872Z"
   },
   {
    "duration": 15,
    "start_time": "2021-12-13T07:19:46.640Z"
   },
   {
    "duration": 30,
    "start_time": "2021-12-13T07:20:09.074Z"
   },
   {
    "duration": 16,
    "start_time": "2021-12-13T07:20:11.474Z"
   },
   {
    "duration": 17,
    "start_time": "2021-12-13T07:20:15.846Z"
   },
   {
    "duration": 9,
    "start_time": "2021-12-13T07:21:26.371Z"
   },
   {
    "duration": 8,
    "start_time": "2021-12-13T07:21:37.812Z"
   },
   {
    "duration": 301,
    "start_time": "2021-12-13T07:22:20.158Z"
   },
   {
    "duration": 320,
    "start_time": "2021-12-13T07:22:23.775Z"
   },
   {
    "duration": 302,
    "start_time": "2021-12-13T07:22:32.062Z"
   },
   {
    "duration": 9,
    "start_time": "2021-12-13T07:23:11.732Z"
   },
   {
    "duration": 9,
    "start_time": "2021-12-13T07:30:53.551Z"
   },
   {
    "duration": 9,
    "start_time": "2021-12-13T07:31:08.383Z"
   },
   {
    "duration": 322,
    "start_time": "2021-12-13T07:31:40.291Z"
   },
   {
    "duration": 11,
    "start_time": "2021-12-13T07:31:45.564Z"
   },
   {
    "duration": 12,
    "start_time": "2021-12-13T07:33:45.728Z"
   },
   {
    "duration": 12,
    "start_time": "2021-12-13T07:34:05.086Z"
   },
   {
    "duration": 11,
    "start_time": "2021-12-13T07:34:23.798Z"
   },
   {
    "duration": 14,
    "start_time": "2021-12-13T07:34:48.875Z"
   },
   {
    "duration": 13,
    "start_time": "2021-12-13T07:36:29.926Z"
   },
   {
    "duration": 13,
    "start_time": "2021-12-13T07:36:40.333Z"
   },
   {
    "duration": 16,
    "start_time": "2021-12-13T07:37:40.284Z"
   },
   {
    "duration": 98,
    "start_time": "2021-12-13T07:38:45.551Z"
   },
   {
    "duration": 16,
    "start_time": "2021-12-13T07:39:08.018Z"
   },
   {
    "duration": 284,
    "start_time": "2021-12-13T07:41:40.014Z"
   },
   {
    "duration": 13,
    "start_time": "2021-12-13T07:42:05.073Z"
   },
   {
    "duration": 10654,
    "start_time": "2021-12-13T07:42:51.929Z"
   },
   {
    "duration": 8332,
    "start_time": "2021-12-13T07:43:03.070Z"
   },
   {
    "duration": 502,
    "start_time": "2021-12-13T07:43:22.443Z"
   },
   {
    "duration": 12,
    "start_time": "2021-12-13T07:43:30.871Z"
   },
   {
    "duration": 8532,
    "start_time": "2021-12-13T07:43:36.100Z"
   },
   {
    "duration": 112,
    "start_time": "2021-12-13T07:43:46.865Z"
   },
   {
    "duration": 9,
    "start_time": "2021-12-13T07:43:48.347Z"
   },
   {
    "duration": 9,
    "start_time": "2021-12-13T07:44:54.654Z"
   },
   {
    "duration": 7,
    "start_time": "2021-12-13T07:44:58.507Z"
   },
   {
    "duration": 405,
    "start_time": "2021-12-13T07:46:21.013Z"
   },
   {
    "duration": 14,
    "start_time": "2021-12-13T07:46:54.144Z"
   },
   {
    "duration": 14,
    "start_time": "2021-12-13T07:47:42.786Z"
   },
   {
    "duration": 10,
    "start_time": "2021-12-13T07:50:54.717Z"
   },
   {
    "duration": 8,
    "start_time": "2021-12-13T07:51:07.779Z"
   },
   {
    "duration": 15,
    "start_time": "2021-12-13T07:54:44.906Z"
   },
   {
    "duration": 15,
    "start_time": "2021-12-13T07:55:33.728Z"
   },
   {
    "duration": 13,
    "start_time": "2021-12-13T07:55:50.552Z"
   },
   {
    "duration": 10,
    "start_time": "2021-12-13T07:57:15.995Z"
   },
   {
    "duration": 10,
    "start_time": "2021-12-13T07:58:07.060Z"
   },
   {
    "duration": 19,
    "start_time": "2021-12-13T07:58:16.725Z"
   },
   {
    "duration": 13,
    "start_time": "2021-12-13T07:59:15.451Z"
   },
   {
    "duration": 13,
    "start_time": "2021-12-13T07:59:38.585Z"
   },
   {
    "duration": 14,
    "start_time": "2021-12-13T07:59:51.324Z"
   },
   {
    "duration": 13,
    "start_time": "2021-12-13T08:00:17.590Z"
   },
   {
    "duration": 9,
    "start_time": "2021-12-13T08:01:17.253Z"
   },
   {
    "duration": 332,
    "start_time": "2021-12-13T08:01:51.706Z"
   },
   {
    "duration": 10,
    "start_time": "2021-12-13T08:02:00.180Z"
   },
   {
    "duration": 22,
    "start_time": "2021-12-13T08:02:55.225Z"
   },
   {
    "duration": 353,
    "start_time": "2021-12-13T08:10:22.119Z"
   },
   {
    "duration": 258,
    "start_time": "2021-12-13T08:10:36.224Z"
   },
   {
    "duration": 622,
    "start_time": "2021-12-13T08:10:59.581Z"
   },
   {
    "duration": 667,
    "start_time": "2021-12-13T08:12:23.964Z"
   },
   {
    "duration": 7,
    "start_time": "2021-12-13T08:12:28.717Z"
   },
   {
    "duration": 34,
    "start_time": "2021-12-13T08:12:28.728Z"
   },
   {
    "duration": 54,
    "start_time": "2021-12-13T08:12:28.765Z"
   },
   {
    "duration": 25,
    "start_time": "2021-12-13T08:12:28.824Z"
   },
   {
    "duration": 44,
    "start_time": "2021-12-13T08:12:28.852Z"
   },
   {
    "duration": 12,
    "start_time": "2021-12-13T08:12:28.898Z"
   },
   {
    "duration": 14,
    "start_time": "2021-12-13T08:12:28.913Z"
   },
   {
    "duration": 15,
    "start_time": "2021-12-13T08:12:28.932Z"
   },
   {
    "duration": 11,
    "start_time": "2021-12-13T08:12:28.951Z"
   },
   {
    "duration": 58,
    "start_time": "2021-12-13T08:12:28.965Z"
   },
   {
    "duration": 13,
    "start_time": "2021-12-13T08:12:29.026Z"
   },
   {
    "duration": 23,
    "start_time": "2021-12-13T08:12:29.042Z"
   },
   {
    "duration": 9,
    "start_time": "2021-12-13T08:12:29.068Z"
   },
   {
    "duration": 53,
    "start_time": "2021-12-13T08:12:29.080Z"
   },
   {
    "duration": 458,
    "start_time": "2021-12-13T08:12:29.137Z"
   },
   {
    "duration": 352,
    "start_time": "2021-12-13T08:12:29.598Z"
   },
   {
    "duration": 770,
    "start_time": "2021-12-13T08:12:29.954Z"
   },
   {
    "duration": 735,
    "start_time": "2021-12-13T08:12:30.727Z"
   },
   {
    "duration": 714,
    "start_time": "2021-12-13T08:12:31.465Z"
   },
   {
    "duration": 743,
    "start_time": "2021-12-13T08:12:32.181Z"
   },
   {
    "duration": 7,
    "start_time": "2021-12-13T08:12:32.926Z"
   },
   {
    "duration": 607,
    "start_time": "2021-12-13T08:12:32.936Z"
   },
   {
    "duration": 731,
    "start_time": "2021-12-13T08:12:33.547Z"
   },
   {
    "duration": 18,
    "start_time": "2021-12-13T08:12:34.281Z"
   },
   {
    "duration": 546,
    "start_time": "2021-12-13T08:12:34.317Z"
   },
   {
    "duration": 6,
    "start_time": "2021-12-13T08:12:34.866Z"
   },
   {
    "duration": 563,
    "start_time": "2021-12-13T08:12:34.875Z"
   },
   {
    "duration": 9,
    "start_time": "2021-12-13T08:12:35.442Z"
   },
   {
    "duration": 36,
    "start_time": "2021-12-13T08:12:35.454Z"
   },
   {
    "duration": 552,
    "start_time": "2021-12-13T08:12:35.493Z"
   },
   {
    "duration": 261,
    "start_time": "2021-12-13T08:12:36.048Z"
   },
   {
    "duration": 14,
    "start_time": "2021-12-13T08:12:36.311Z"
   },
   {
    "duration": 16,
    "start_time": "2021-12-13T08:12:36.328Z"
   },
   {
    "duration": 15,
    "start_time": "2021-12-13T08:12:36.347Z"
   },
   {
    "duration": 11,
    "start_time": "2021-12-13T08:12:36.364Z"
   },
   {
    "duration": 62,
    "start_time": "2021-12-13T08:12:36.377Z"
   },
   {
    "duration": 16,
    "start_time": "2021-12-13T08:12:36.443Z"
   },
   {
    "duration": 10,
    "start_time": "2021-12-13T08:12:36.462Z"
   },
   {
    "duration": 62,
    "start_time": "2021-12-13T08:12:36.474Z"
   },
   {
    "duration": 18,
    "start_time": "2021-12-13T08:13:17.174Z"
   },
   {
    "duration": 20,
    "start_time": "2021-12-13T08:13:21.926Z"
   },
   {
    "duration": 13,
    "start_time": "2021-12-13T08:13:51.058Z"
   },
   {
    "duration": 18,
    "start_time": "2021-12-13T08:13:51.925Z"
   },
   {
    "duration": 9,
    "start_time": "2021-12-13T08:16:24.246Z"
   },
   {
    "duration": 19,
    "start_time": "2021-12-13T08:16:37.053Z"
   },
   {
    "duration": 4,
    "start_time": "2021-12-13T08:18:12.113Z"
   },
   {
    "duration": 36,
    "start_time": "2021-12-13T08:18:12.120Z"
   },
   {
    "duration": 16,
    "start_time": "2021-12-13T08:18:12.160Z"
   },
   {
    "duration": 54,
    "start_time": "2021-12-13T08:18:12.179Z"
   },
   {
    "duration": 43,
    "start_time": "2021-12-13T08:18:12.236Z"
   },
   {
    "duration": 12,
    "start_time": "2021-12-13T08:18:12.282Z"
   },
   {
    "duration": 21,
    "start_time": "2021-12-13T08:18:12.297Z"
   },
   {
    "duration": 12,
    "start_time": "2021-12-13T08:18:12.324Z"
   },
   {
    "duration": 10,
    "start_time": "2021-12-13T08:18:12.340Z"
   },
   {
    "duration": 16,
    "start_time": "2021-12-13T08:18:12.353Z"
   },
   {
    "duration": 56,
    "start_time": "2021-12-13T08:18:12.371Z"
   },
   {
    "duration": 11,
    "start_time": "2021-12-13T08:18:12.430Z"
   },
   {
    "duration": 11,
    "start_time": "2021-12-13T08:18:12.443Z"
   },
   {
    "duration": 19,
    "start_time": "2021-12-13T08:18:12.457Z"
   },
   {
    "duration": 390,
    "start_time": "2021-12-13T08:18:12.478Z"
   },
   {
    "duration": 277,
    "start_time": "2021-12-13T08:18:12.870Z"
   },
   {
    "duration": 646,
    "start_time": "2021-12-13T08:18:13.150Z"
   },
   {
    "duration": 745,
    "start_time": "2021-12-13T08:18:13.799Z"
   },
   {
    "duration": 884,
    "start_time": "2021-12-13T08:18:14.547Z"
   },
   {
    "duration": 704,
    "start_time": "2021-12-13T08:18:15.434Z"
   },
   {
    "duration": 7,
    "start_time": "2021-12-13T08:18:16.140Z"
   },
   {
    "duration": 617,
    "start_time": "2021-12-13T08:18:16.149Z"
   },
   {
    "duration": 726,
    "start_time": "2021-12-13T08:18:16.771Z"
   },
   {
    "duration": 33,
    "start_time": "2021-12-13T08:18:17.500Z"
   },
   {
    "duration": 494,
    "start_time": "2021-12-13T08:18:17.535Z"
   },
   {
    "duration": 10,
    "start_time": "2021-12-13T08:18:18.032Z"
   },
   {
    "duration": 601,
    "start_time": "2021-12-13T08:18:18.046Z"
   },
   {
    "duration": 6,
    "start_time": "2021-12-13T08:18:18.650Z"
   },
   {
    "duration": 31,
    "start_time": "2021-12-13T08:18:18.659Z"
   },
   {
    "duration": 472,
    "start_time": "2021-12-13T08:18:18.693Z"
   },
   {
    "duration": 250,
    "start_time": "2021-12-13T08:18:19.167Z"
   },
   {
    "duration": 10,
    "start_time": "2021-12-13T08:18:19.426Z"
   },
   {
    "duration": 17,
    "start_time": "2021-12-13T08:18:19.439Z"
   },
   {
    "duration": 33,
    "start_time": "2021-12-13T08:18:19.458Z"
   },
   {
    "duration": 21,
    "start_time": "2021-12-13T08:18:19.493Z"
   },
   {
    "duration": 23,
    "start_time": "2021-12-13T08:18:19.516Z"
   },
   {
    "duration": 17,
    "start_time": "2021-12-13T08:18:19.542Z"
   },
   {
    "duration": 25,
    "start_time": "2021-12-13T08:18:19.561Z"
   },
   {
    "duration": 19,
    "start_time": "2021-12-13T08:18:19.589Z"
   },
   {
    "duration": 1117,
    "start_time": "2021-12-13T09:04:07.960Z"
   },
   {
    "duration": 45,
    "start_time": "2021-12-13T09:04:09.079Z"
   },
   {
    "duration": 12,
    "start_time": "2021-12-13T09:04:09.128Z"
   },
   {
    "duration": 12,
    "start_time": "2021-12-13T09:04:09.142Z"
   },
   {
    "duration": 81,
    "start_time": "2021-12-13T09:04:09.156Z"
   },
   {
    "duration": 8,
    "start_time": "2021-12-13T09:04:09.239Z"
   },
   {
    "duration": 7,
    "start_time": "2021-12-13T09:04:09.249Z"
   },
   {
    "duration": 7,
    "start_time": "2021-12-13T09:04:09.265Z"
   },
   {
    "duration": 9,
    "start_time": "2021-12-13T09:04:09.274Z"
   },
   {
    "duration": 10,
    "start_time": "2021-12-13T09:04:09.284Z"
   },
   {
    "duration": 15,
    "start_time": "2021-12-13T09:04:09.296Z"
   },
   {
    "duration": 5,
    "start_time": "2021-12-13T09:04:09.313Z"
   },
   {
    "duration": 7,
    "start_time": "2021-12-13T09:04:09.320Z"
   },
   {
    "duration": 13,
    "start_time": "2021-12-13T09:04:09.328Z"
   },
   {
    "duration": 231,
    "start_time": "2021-12-13T09:04:09.342Z"
   },
   {
    "duration": 169,
    "start_time": "2021-12-13T09:04:09.575Z"
   },
   {
    "duration": 359,
    "start_time": "2021-12-13T09:04:09.746Z"
   },
   {
    "duration": 396,
    "start_time": "2021-12-13T09:04:10.107Z"
   },
   {
    "duration": 383,
    "start_time": "2021-12-13T09:04:10.507Z"
   },
   {
    "duration": 518,
    "start_time": "2021-12-13T09:04:10.891Z"
   },
   {
    "duration": 5,
    "start_time": "2021-12-13T09:04:11.412Z"
   },
   {
    "duration": 357,
    "start_time": "2021-12-13T09:04:11.422Z"
   },
   {
    "duration": 503,
    "start_time": "2021-12-13T09:04:11.781Z"
   },
   {
    "duration": 21,
    "start_time": "2021-12-13T09:04:12.286Z"
   },
   {
    "duration": 364,
    "start_time": "2021-12-13T09:04:12.309Z"
   },
   {
    "duration": 4,
    "start_time": "2021-12-13T09:04:12.675Z"
   },
   {
    "duration": 418,
    "start_time": "2021-12-13T09:04:12.680Z"
   },
   {
    "duration": 8,
    "start_time": "2021-12-13T09:04:13.100Z"
   },
   {
    "duration": 13,
    "start_time": "2021-12-13T09:04:13.110Z"
   },
   {
    "duration": 273,
    "start_time": "2021-12-13T09:04:13.124Z"
   },
   {
    "duration": 132,
    "start_time": "2021-12-13T09:04:13.399Z"
   },
   {
    "duration": 6,
    "start_time": "2021-12-13T09:04:13.533Z"
   },
   {
    "duration": 12,
    "start_time": "2021-12-13T09:04:13.541Z"
   },
   {
    "duration": 10,
    "start_time": "2021-12-13T09:04:13.555Z"
   },
   {
    "duration": 9,
    "start_time": "2021-12-13T09:04:13.567Z"
   },
   {
    "duration": 34,
    "start_time": "2021-12-13T09:04:13.577Z"
   },
   {
    "duration": 18,
    "start_time": "2021-12-13T09:04:13.613Z"
   },
   {
    "duration": 19,
    "start_time": "2021-12-13T09:04:13.633Z"
   },
   {
    "duration": 12,
    "start_time": "2021-12-13T09:04:13.654Z"
   },
   {
    "duration": 170,
    "start_time": "2021-12-29T19:41:09.885Z"
   },
   {
    "duration": 1007,
    "start_time": "2021-12-29T19:41:12.834Z"
   },
   {
    "duration": 25,
    "start_time": "2021-12-29T19:41:13.842Z"
   },
   {
    "duration": 12,
    "start_time": "2021-12-29T19:41:13.870Z"
   },
   {
    "duration": 16,
    "start_time": "2021-12-29T19:41:13.884Z"
   },
   {
    "duration": 48,
    "start_time": "2021-12-29T19:41:13.902Z"
   },
   {
    "duration": 8,
    "start_time": "2021-12-29T19:41:13.952Z"
   },
   {
    "duration": 8,
    "start_time": "2021-12-29T19:41:13.962Z"
   },
   {
    "duration": 6,
    "start_time": "2021-12-29T19:41:13.974Z"
   },
   {
    "duration": 6,
    "start_time": "2021-12-29T19:41:13.983Z"
   },
   {
    "duration": 10,
    "start_time": "2021-12-29T19:41:13.991Z"
   },
   {
    "duration": 8,
    "start_time": "2021-12-29T19:41:14.003Z"
   },
   {
    "duration": 7,
    "start_time": "2021-12-29T19:41:14.013Z"
   },
   {
    "duration": 7,
    "start_time": "2021-12-29T19:41:14.021Z"
   },
   {
    "duration": 10,
    "start_time": "2021-12-29T19:41:14.030Z"
   },
   {
    "duration": 236,
    "start_time": "2021-12-29T19:41:14.041Z"
   },
   {
    "duration": 154,
    "start_time": "2021-12-29T19:41:14.279Z"
   },
   {
    "duration": 343,
    "start_time": "2021-12-29T19:41:14.434Z"
   },
   {
    "duration": 453,
    "start_time": "2021-12-29T19:41:14.779Z"
   },
   {
    "duration": 396,
    "start_time": "2021-12-29T19:41:15.233Z"
   },
   {
    "duration": 471,
    "start_time": "2021-12-29T19:41:15.630Z"
   },
   {
    "duration": 5,
    "start_time": "2021-12-29T19:41:16.102Z"
   },
   {
    "duration": 361,
    "start_time": "2021-12-29T19:41:16.109Z"
   },
   {
    "duration": 518,
    "start_time": "2021-12-29T19:41:16.473Z"
   },
   {
    "duration": 12,
    "start_time": "2021-12-29T19:41:16.993Z"
   },
   {
    "duration": 348,
    "start_time": "2021-12-29T19:41:17.007Z"
   },
   {
    "duration": 5,
    "start_time": "2021-12-29T19:41:17.356Z"
   },
   {
    "duration": 418,
    "start_time": "2021-12-29T19:41:17.362Z"
   },
   {
    "duration": 4,
    "start_time": "2021-12-29T19:41:17.781Z"
   },
   {
    "duration": 12,
    "start_time": "2021-12-29T19:41:17.792Z"
   },
   {
    "duration": 270,
    "start_time": "2021-12-29T19:41:17.806Z"
   },
   {
    "duration": 132,
    "start_time": "2021-12-29T19:41:18.078Z"
   },
   {
    "duration": 8,
    "start_time": "2021-12-29T19:41:18.211Z"
   },
   {
    "duration": 10,
    "start_time": "2021-12-29T19:41:18.220Z"
   },
   {
    "duration": 10,
    "start_time": "2021-12-29T19:41:18.232Z"
   },
   {
    "duration": 9,
    "start_time": "2021-12-29T19:41:18.244Z"
   },
   {
    "duration": 38,
    "start_time": "2021-12-29T19:41:18.254Z"
   },
   {
    "duration": 10,
    "start_time": "2021-12-29T19:41:18.294Z"
   },
   {
    "duration": 10,
    "start_time": "2021-12-29T19:41:18.306Z"
   },
   {
    "duration": 6,
    "start_time": "2021-12-29T19:41:18.318Z"
   },
   {
    "duration": 12,
    "start_time": "2021-12-29T19:41:18.326Z"
   },
   {
    "duration": 39,
    "start_time": "2021-12-29T19:41:31.999Z"
   },
   {
    "duration": 5,
    "start_time": "2021-12-29T19:41:36.135Z"
   },
   {
    "duration": 6,
    "start_time": "2021-12-29T19:41:40.288Z"
   }
  ],
  "kernelspec": {
   "display_name": "Python 3 (ipykernel)",
   "language": "python",
   "name": "python3"
  },
  "language_info": {
   "codemirror_mode": {
    "name": "ipython",
    "version": 3
   },
   "file_extension": ".py",
   "mimetype": "text/x-python",
   "name": "python",
   "nbconvert_exporter": "python",
   "pygments_lexer": "ipython3",
   "version": "3.9.7"
  },
  "toc": {
   "base_numbering": 1,
   "nav_menu": {},
   "number_sections": false,
   "sideBar": true,
   "skip_h1_title": true,
   "title_cell": "Table of Contents",
   "title_sidebar": "Contents",
   "toc_cell": false,
   "toc_position": {},
   "toc_section_display": true,
   "toc_window_display": true
  }
 },
 "nbformat": 4,
 "nbformat_minor": 2
}
