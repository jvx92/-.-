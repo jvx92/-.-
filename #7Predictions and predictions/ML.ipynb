{
 "cells": [
  {
   "cell_type": "markdown",
   "metadata": {},
   "source": [
    "## Прогнозы и предсказания"
   ]
  },
  {
   "cell_type": "markdown",
   "metadata": {},
   "source": [
    "**Описание проекта**"
   ]
  },
  {
   "cell_type": "markdown",
   "metadata": {},
   "source": [
    "Сеть фитнес-центров «Культурист-датасаентист» разрабатывает стратегию взаимодействия с клиентами на основе аналитических данных.  \n",
    "\n",
    "Распространённая проблема фитнес-клубов и других сервисов — отток клиентов. Как понять, что клиент больше не с вами? Можно записать в отток тех, кто попросил закрыть договор или удалил аккаунт. Однако клиенты не всегда уходят демонстративно: чаще перестают пользоваться сервисом тихо.  \n",
    "\n",
    "Индикаторы оттока зависят от специфики отрасли. Когда пользователь редко, но стабильно закупается в интернет-магазине — не похоже, что он «отвалился». А вот если две недели не заходит на канал с ежедневно обновляемым контентом, дела плохи: подписчик заскучал и, кажется, оставил вас.  \n",
    "\n",
    "Для фитнес-центра можно считать, что клиент попал в отток, если за последний месяц ни разу не посетил спортзал. Конечно, не исключено, что он уехал на Бали и по приезде обязательно продолжит ходить на фитнес. Однако чаще бывает наоборот. Если клиент начал новую жизнь с понедельника, немного походил в спортзал, а потом пропал — скорее всего, он не вернётся.  \n",
    "Чтобы бороться с оттоком, отдел по работе с клиентами «Культуриста-датасаентиста» перевёл в электронный вид множество клиентских анкет. Ваша задача — провести анализ и подготовить план действий по удержанию клиентов."
   ]
  },
  {
   "cell_type": "markdown",
   "metadata": {},
   "source": [
    "**Описание метрик**  \n",
    "\n",
    "**Gender** — пол;  \n",
    "**Near_Location** — проживание или работа в районе, где находится фитнес-центр;  \n",
    "**Partner** — сотрудник компании-партнёра клуба (сотрудничество с компаниями, чьи сотрудники могут получать скидки на абонемент — в таком случае фитнес-центр хранит информацию о работодателе клиента);  \n",
    "**Promo_friends** — факт первоначальной записи в рамках акции «приведи друга» (использовал промо-код от знакомого при оплате первого абонемента);  \n",
    "**Phone** — наличие контактного телефона;  \n",
    "**Age** — возраст;  \n",
    "**Lifetime** — время с момента первого обращения в фитнес-центр (в месяцах).  \n",
    "\n",
    "**Contract_period** — длительность текущего действующего абонемента (месяц, 3 месяца, 6 месяцев, год);  \n",
    "**Month_to_end_contract** — срок до окончания текущего действующего абонемента (в месяцах);  \n",
    "**Group_visits** — факт посещения групповых занятий;  \n",
    "**Avg_class_frequency_total** — средняя частота посещений в неделю за все время с начала действия абонемента;  \n",
    "**Avg_class_frequency_current_month** — средняя частота посещений в неделю за предыдущий месяц;  \n",
    "**Avg_additional_charges_total** — суммарная выручка от других услуг фитнес-центра: кафе, спорт-товары, косметический и массажный салон."
   ]
  },
  {
   "cell_type": "markdown",
   "metadata": {},
   "source": [
    "### 1. Загрузим данные"
   ]
  },
  {
   "cell_type": "code",
   "execution_count": 31,
   "metadata": {},
   "outputs": [],
   "source": [
    "import pandas as pd\n",
    "import numpy as np\n",
    "import seaborn as sns\n",
    "import math as mth\n",
    "import matplotlib.pyplot as plt\n",
    "import plotly.express as px\n",
    "from scipy import stats as st\n",
    "import scipy.stats as stats\n",
    "from plotly import graph_objects as go\n",
    "from io import BytesIO\n",
    "import requests\n",
    "import re\n",
    "import warnings\n",
    "warnings.simplefilter(\"ignore\")\n",
    "\n",
    "from sklearn.model_selection import train_test_split\n",
    "from sklearn.linear_model import LogisticRegression\n",
    "from sklearn.ensemble import RandomForestClassifier\n",
    "from sklearn.ensemble import RandomForestRegressor\n",
    "from sklearn.metrics import accuracy_score, precision_score, recall_score, f1_score\n",
    "from sklearn.preprocessing import StandardScaler\n",
    "from sklearn.cluster import KMeans\n",
    "from scipy.cluster.hierarchy import dendrogram, linkage "
   ]
  },
  {
   "cell_type": "code",
   "execution_count": 32,
   "metadata": {},
   "outputs": [],
   "source": [
    "df = pd.read_csv('/datasets/gym_churn.csv')"
   ]
  },
  {
   "cell_type": "code",
   "execution_count": 33,
   "metadata": {
    "scrolled": true
   },
   "outputs": [
    {
     "data": {
      "text/html": [
       "<div>\n",
       "<style scoped>\n",
       "    .dataframe tbody tr th:only-of-type {\n",
       "        vertical-align: middle;\n",
       "    }\n",
       "\n",
       "    .dataframe tbody tr th {\n",
       "        vertical-align: top;\n",
       "    }\n",
       "\n",
       "    .dataframe thead th {\n",
       "        text-align: right;\n",
       "    }\n",
       "</style>\n",
       "<table border=\"1\" class=\"dataframe\">\n",
       "  <thead>\n",
       "    <tr style=\"text-align: right;\">\n",
       "      <th></th>\n",
       "      <th>gender</th>\n",
       "      <th>Near_Location</th>\n",
       "      <th>Partner</th>\n",
       "      <th>Promo_friends</th>\n",
       "      <th>Phone</th>\n",
       "      <th>Contract_period</th>\n",
       "      <th>Group_visits</th>\n",
       "      <th>Age</th>\n",
       "      <th>Avg_additional_charges_total</th>\n",
       "      <th>Month_to_end_contract</th>\n",
       "      <th>Lifetime</th>\n",
       "      <th>Avg_class_frequency_total</th>\n",
       "      <th>Avg_class_frequency_current_month</th>\n",
       "      <th>Churn</th>\n",
       "    </tr>\n",
       "  </thead>\n",
       "  <tbody>\n",
       "    <tr>\n",
       "      <td>0</td>\n",
       "      <td>1</td>\n",
       "      <td>1</td>\n",
       "      <td>1</td>\n",
       "      <td>1</td>\n",
       "      <td>0</td>\n",
       "      <td>6</td>\n",
       "      <td>1</td>\n",
       "      <td>29</td>\n",
       "      <td>14.227470</td>\n",
       "      <td>5.0</td>\n",
       "      <td>3</td>\n",
       "      <td>0.020398</td>\n",
       "      <td>0.000000</td>\n",
       "      <td>0</td>\n",
       "    </tr>\n",
       "    <tr>\n",
       "      <td>1</td>\n",
       "      <td>0</td>\n",
       "      <td>1</td>\n",
       "      <td>0</td>\n",
       "      <td>0</td>\n",
       "      <td>1</td>\n",
       "      <td>12</td>\n",
       "      <td>1</td>\n",
       "      <td>31</td>\n",
       "      <td>113.202938</td>\n",
       "      <td>12.0</td>\n",
       "      <td>7</td>\n",
       "      <td>1.922936</td>\n",
       "      <td>1.910244</td>\n",
       "      <td>0</td>\n",
       "    </tr>\n",
       "    <tr>\n",
       "      <td>2</td>\n",
       "      <td>0</td>\n",
       "      <td>1</td>\n",
       "      <td>1</td>\n",
       "      <td>0</td>\n",
       "      <td>1</td>\n",
       "      <td>1</td>\n",
       "      <td>0</td>\n",
       "      <td>28</td>\n",
       "      <td>129.448479</td>\n",
       "      <td>1.0</td>\n",
       "      <td>2</td>\n",
       "      <td>1.859098</td>\n",
       "      <td>1.736502</td>\n",
       "      <td>0</td>\n",
       "    </tr>\n",
       "    <tr>\n",
       "      <td>3</td>\n",
       "      <td>0</td>\n",
       "      <td>1</td>\n",
       "      <td>1</td>\n",
       "      <td>1</td>\n",
       "      <td>1</td>\n",
       "      <td>12</td>\n",
       "      <td>1</td>\n",
       "      <td>33</td>\n",
       "      <td>62.669863</td>\n",
       "      <td>12.0</td>\n",
       "      <td>2</td>\n",
       "      <td>3.205633</td>\n",
       "      <td>3.357215</td>\n",
       "      <td>0</td>\n",
       "    </tr>\n",
       "    <tr>\n",
       "      <td>4</td>\n",
       "      <td>1</td>\n",
       "      <td>1</td>\n",
       "      <td>1</td>\n",
       "      <td>1</td>\n",
       "      <td>1</td>\n",
       "      <td>1</td>\n",
       "      <td>0</td>\n",
       "      <td>26</td>\n",
       "      <td>198.362265</td>\n",
       "      <td>1.0</td>\n",
       "      <td>3</td>\n",
       "      <td>1.113884</td>\n",
       "      <td>1.120078</td>\n",
       "      <td>0</td>\n",
       "    </tr>\n",
       "    <tr>\n",
       "      <td>...</td>\n",
       "      <td>...</td>\n",
       "      <td>...</td>\n",
       "      <td>...</td>\n",
       "      <td>...</td>\n",
       "      <td>...</td>\n",
       "      <td>...</td>\n",
       "      <td>...</td>\n",
       "      <td>...</td>\n",
       "      <td>...</td>\n",
       "      <td>...</td>\n",
       "      <td>...</td>\n",
       "      <td>...</td>\n",
       "      <td>...</td>\n",
       "      <td>...</td>\n",
       "    </tr>\n",
       "    <tr>\n",
       "      <td>3995</td>\n",
       "      <td>1</td>\n",
       "      <td>1</td>\n",
       "      <td>1</td>\n",
       "      <td>0</td>\n",
       "      <td>1</td>\n",
       "      <td>12</td>\n",
       "      <td>0</td>\n",
       "      <td>33</td>\n",
       "      <td>2.406023</td>\n",
       "      <td>12.0</td>\n",
       "      <td>8</td>\n",
       "      <td>2.284497</td>\n",
       "      <td>2.349070</td>\n",
       "      <td>0</td>\n",
       "    </tr>\n",
       "    <tr>\n",
       "      <td>3996</td>\n",
       "      <td>0</td>\n",
       "      <td>1</td>\n",
       "      <td>0</td>\n",
       "      <td>0</td>\n",
       "      <td>1</td>\n",
       "      <td>1</td>\n",
       "      <td>1</td>\n",
       "      <td>29</td>\n",
       "      <td>68.883764</td>\n",
       "      <td>1.0</td>\n",
       "      <td>1</td>\n",
       "      <td>1.277168</td>\n",
       "      <td>0.292859</td>\n",
       "      <td>1</td>\n",
       "    </tr>\n",
       "    <tr>\n",
       "      <td>3997</td>\n",
       "      <td>1</td>\n",
       "      <td>1</td>\n",
       "      <td>1</td>\n",
       "      <td>1</td>\n",
       "      <td>1</td>\n",
       "      <td>12</td>\n",
       "      <td>0</td>\n",
       "      <td>28</td>\n",
       "      <td>78.250542</td>\n",
       "      <td>11.0</td>\n",
       "      <td>2</td>\n",
       "      <td>2.786146</td>\n",
       "      <td>2.831439</td>\n",
       "      <td>0</td>\n",
       "    </tr>\n",
       "    <tr>\n",
       "      <td>3998</td>\n",
       "      <td>0</td>\n",
       "      <td>1</td>\n",
       "      <td>1</td>\n",
       "      <td>1</td>\n",
       "      <td>1</td>\n",
       "      <td>6</td>\n",
       "      <td>0</td>\n",
       "      <td>32</td>\n",
       "      <td>61.912657</td>\n",
       "      <td>5.0</td>\n",
       "      <td>3</td>\n",
       "      <td>1.630108</td>\n",
       "      <td>1.596237</td>\n",
       "      <td>0</td>\n",
       "    </tr>\n",
       "    <tr>\n",
       "      <td>3999</td>\n",
       "      <td>1</td>\n",
       "      <td>0</td>\n",
       "      <td>1</td>\n",
       "      <td>0</td>\n",
       "      <td>0</td>\n",
       "      <td>12</td>\n",
       "      <td>1</td>\n",
       "      <td>30</td>\n",
       "      <td>178.861814</td>\n",
       "      <td>12.0</td>\n",
       "      <td>1</td>\n",
       "      <td>1.101832</td>\n",
       "      <td>1.035270</td>\n",
       "      <td>0</td>\n",
       "    </tr>\n",
       "  </tbody>\n",
       "</table>\n",
       "<p>4000 rows × 14 columns</p>\n",
       "</div>"
      ],
      "text/plain": [
       "      gender  Near_Location  Partner  Promo_friends  Phone  Contract_period  \\\n",
       "0          1              1        1              1      0                6   \n",
       "1          0              1        0              0      1               12   \n",
       "2          0              1        1              0      1                1   \n",
       "3          0              1        1              1      1               12   \n",
       "4          1              1        1              1      1                1   \n",
       "...      ...            ...      ...            ...    ...              ...   \n",
       "3995       1              1        1              0      1               12   \n",
       "3996       0              1        0              0      1                1   \n",
       "3997       1              1        1              1      1               12   \n",
       "3998       0              1        1              1      1                6   \n",
       "3999       1              0        1              0      0               12   \n",
       "\n",
       "      Group_visits  Age  Avg_additional_charges_total  Month_to_end_contract  \\\n",
       "0                1   29                     14.227470                    5.0   \n",
       "1                1   31                    113.202938                   12.0   \n",
       "2                0   28                    129.448479                    1.0   \n",
       "3                1   33                     62.669863                   12.0   \n",
       "4                0   26                    198.362265                    1.0   \n",
       "...            ...  ...                           ...                    ...   \n",
       "3995             0   33                      2.406023                   12.0   \n",
       "3996             1   29                     68.883764                    1.0   \n",
       "3997             0   28                     78.250542                   11.0   \n",
       "3998             0   32                     61.912657                    5.0   \n",
       "3999             1   30                    178.861814                   12.0   \n",
       "\n",
       "      Lifetime  Avg_class_frequency_total  Avg_class_frequency_current_month  \\\n",
       "0            3                   0.020398                           0.000000   \n",
       "1            7                   1.922936                           1.910244   \n",
       "2            2                   1.859098                           1.736502   \n",
       "3            2                   3.205633                           3.357215   \n",
       "4            3                   1.113884                           1.120078   \n",
       "...        ...                        ...                                ...   \n",
       "3995         8                   2.284497                           2.349070   \n",
       "3996         1                   1.277168                           0.292859   \n",
       "3997         2                   2.786146                           2.831439   \n",
       "3998         3                   1.630108                           1.596237   \n",
       "3999         1                   1.101832                           1.035270   \n",
       "\n",
       "      Churn  \n",
       "0         0  \n",
       "1         0  \n",
       "2         0  \n",
       "3         0  \n",
       "4         0  \n",
       "...     ...  \n",
       "3995      0  \n",
       "3996      1  \n",
       "3997      0  \n",
       "3998      0  \n",
       "3999      0  \n",
       "\n",
       "[4000 rows x 14 columns]"
      ]
     },
     "execution_count": 33,
     "metadata": {},
     "output_type": "execute_result"
    }
   ],
   "source": [
    "df"
   ]
  },
  {
   "cell_type": "markdown",
   "metadata": {},
   "source": [
    "### 2. Проведем исследовательский анализ данных (EDA)"
   ]
  },
  {
   "cell_type": "markdown",
   "metadata": {},
   "source": [
    "#### 2.1 Посмотрим на датасет: есть ли в нем отсутствующие признаки, изучите средние значения и стандартные отклонения "
   ]
  },
  {
   "cell_type": "code",
   "execution_count": 34,
   "metadata": {
    "scrolled": false
   },
   "outputs": [
    {
     "name": "stdout",
     "output_type": "stream",
     "text": [
      "<class 'pandas.core.frame.DataFrame'>\n",
      "RangeIndex: 4000 entries, 0 to 3999\n",
      "Data columns (total 14 columns):\n",
      "gender                               4000 non-null int64\n",
      "Near_Location                        4000 non-null int64\n",
      "Partner                              4000 non-null int64\n",
      "Promo_friends                        4000 non-null int64\n",
      "Phone                                4000 non-null int64\n",
      "Contract_period                      4000 non-null int64\n",
      "Group_visits                         4000 non-null int64\n",
      "Age                                  4000 non-null int64\n",
      "Avg_additional_charges_total         4000 non-null float64\n",
      "Month_to_end_contract                4000 non-null float64\n",
      "Lifetime                             4000 non-null int64\n",
      "Avg_class_frequency_total            4000 non-null float64\n",
      "Avg_class_frequency_current_month    4000 non-null float64\n",
      "Churn                                4000 non-null int64\n",
      "dtypes: float64(4), int64(10)\n",
      "memory usage: 437.6 KB\n",
      "\n",
      "Количество дубликатов: 0\n",
      "\n",
      "\n",
      "Количество пропусков:\n",
      "gender                               0\n",
      "Near_Location                        0\n",
      "Partner                              0\n",
      "Promo_friends                        0\n",
      "Phone                                0\n",
      "Contract_period                      0\n",
      "Group_visits                         0\n",
      "Age                                  0\n",
      "Avg_additional_charges_total         0\n",
      "Month_to_end_contract                0\n",
      "Lifetime                             0\n",
      "Avg_class_frequency_total            0\n",
      "Avg_class_frequency_current_month    0\n",
      "Churn                                0\n",
      "dtype: int64\n"
     ]
    }
   ],
   "source": [
    "df.info()\n",
    "print()\n",
    "print('Количество дубликатов:', df.duplicated().sum())\n",
    "print()\n",
    "print()\n",
    "print('Количество пропусков:')\n",
    "print(df.isnull().sum())"
   ]
  },
  {
   "cell_type": "code",
   "execution_count": 35,
   "metadata": {},
   "outputs": [
    {
     "data": {
      "text/html": [
       "<div>\n",
       "<style scoped>\n",
       "    .dataframe tbody tr th:only-of-type {\n",
       "        vertical-align: middle;\n",
       "    }\n",
       "\n",
       "    .dataframe tbody tr th {\n",
       "        vertical-align: top;\n",
       "    }\n",
       "\n",
       "    .dataframe thead th {\n",
       "        text-align: right;\n",
       "    }\n",
       "</style>\n",
       "<table border=\"1\" class=\"dataframe\">\n",
       "  <thead>\n",
       "    <tr style=\"text-align: right;\">\n",
       "      <th></th>\n",
       "      <th>gender</th>\n",
       "      <th>Near_Location</th>\n",
       "      <th>Partner</th>\n",
       "      <th>Promo_friends</th>\n",
       "      <th>Phone</th>\n",
       "      <th>Contract_period</th>\n",
       "      <th>Group_visits</th>\n",
       "      <th>Age</th>\n",
       "      <th>Avg_additional_charges_total</th>\n",
       "      <th>Month_to_end_contract</th>\n",
       "      <th>Lifetime</th>\n",
       "      <th>Avg_class_frequency_total</th>\n",
       "      <th>Avg_class_frequency_current_month</th>\n",
       "      <th>Churn</th>\n",
       "    </tr>\n",
       "  </thead>\n",
       "  <tbody>\n",
       "    <tr>\n",
       "      <td>count</td>\n",
       "      <td>4000.000000</td>\n",
       "      <td>4000.000000</td>\n",
       "      <td>4000.000000</td>\n",
       "      <td>4000.000000</td>\n",
       "      <td>4000.000000</td>\n",
       "      <td>4000.000000</td>\n",
       "      <td>4000.000000</td>\n",
       "      <td>4000.000000</td>\n",
       "      <td>4000.000000</td>\n",
       "      <td>4000.000000</td>\n",
       "      <td>4000.000000</td>\n",
       "      <td>4000.000000</td>\n",
       "      <td>4000.000000</td>\n",
       "      <td>4000.000000</td>\n",
       "    </tr>\n",
       "    <tr>\n",
       "      <td>mean</td>\n",
       "      <td>0.510250</td>\n",
       "      <td>0.845250</td>\n",
       "      <td>0.486750</td>\n",
       "      <td>0.308500</td>\n",
       "      <td>0.903500</td>\n",
       "      <td>4.681250</td>\n",
       "      <td>0.412250</td>\n",
       "      <td>29.184250</td>\n",
       "      <td>146.943728</td>\n",
       "      <td>4.322750</td>\n",
       "      <td>3.724750</td>\n",
       "      <td>1.879020</td>\n",
       "      <td>1.767052</td>\n",
       "      <td>0.265250</td>\n",
       "    </tr>\n",
       "    <tr>\n",
       "      <td>std</td>\n",
       "      <td>0.499957</td>\n",
       "      <td>0.361711</td>\n",
       "      <td>0.499887</td>\n",
       "      <td>0.461932</td>\n",
       "      <td>0.295313</td>\n",
       "      <td>4.549706</td>\n",
       "      <td>0.492301</td>\n",
       "      <td>3.258367</td>\n",
       "      <td>96.355602</td>\n",
       "      <td>4.191297</td>\n",
       "      <td>3.749267</td>\n",
       "      <td>0.972245</td>\n",
       "      <td>1.052906</td>\n",
       "      <td>0.441521</td>\n",
       "    </tr>\n",
       "    <tr>\n",
       "      <td>min</td>\n",
       "      <td>0.000000</td>\n",
       "      <td>0.000000</td>\n",
       "      <td>0.000000</td>\n",
       "      <td>0.000000</td>\n",
       "      <td>0.000000</td>\n",
       "      <td>1.000000</td>\n",
       "      <td>0.000000</td>\n",
       "      <td>18.000000</td>\n",
       "      <td>0.148205</td>\n",
       "      <td>1.000000</td>\n",
       "      <td>0.000000</td>\n",
       "      <td>0.000000</td>\n",
       "      <td>0.000000</td>\n",
       "      <td>0.000000</td>\n",
       "    </tr>\n",
       "    <tr>\n",
       "      <td>25%</td>\n",
       "      <td>0.000000</td>\n",
       "      <td>1.000000</td>\n",
       "      <td>0.000000</td>\n",
       "      <td>0.000000</td>\n",
       "      <td>1.000000</td>\n",
       "      <td>1.000000</td>\n",
       "      <td>0.000000</td>\n",
       "      <td>27.000000</td>\n",
       "      <td>68.868830</td>\n",
       "      <td>1.000000</td>\n",
       "      <td>1.000000</td>\n",
       "      <td>1.180875</td>\n",
       "      <td>0.963003</td>\n",
       "      <td>0.000000</td>\n",
       "    </tr>\n",
       "    <tr>\n",
       "      <td>50%</td>\n",
       "      <td>1.000000</td>\n",
       "      <td>1.000000</td>\n",
       "      <td>0.000000</td>\n",
       "      <td>0.000000</td>\n",
       "      <td>1.000000</td>\n",
       "      <td>1.000000</td>\n",
       "      <td>0.000000</td>\n",
       "      <td>29.000000</td>\n",
       "      <td>136.220159</td>\n",
       "      <td>1.000000</td>\n",
       "      <td>3.000000</td>\n",
       "      <td>1.832768</td>\n",
       "      <td>1.719574</td>\n",
       "      <td>0.000000</td>\n",
       "    </tr>\n",
       "    <tr>\n",
       "      <td>75%</td>\n",
       "      <td>1.000000</td>\n",
       "      <td>1.000000</td>\n",
       "      <td>1.000000</td>\n",
       "      <td>1.000000</td>\n",
       "      <td>1.000000</td>\n",
       "      <td>6.000000</td>\n",
       "      <td>1.000000</td>\n",
       "      <td>31.000000</td>\n",
       "      <td>210.949625</td>\n",
       "      <td>6.000000</td>\n",
       "      <td>5.000000</td>\n",
       "      <td>2.536078</td>\n",
       "      <td>2.510336</td>\n",
       "      <td>1.000000</td>\n",
       "    </tr>\n",
       "    <tr>\n",
       "      <td>max</td>\n",
       "      <td>1.000000</td>\n",
       "      <td>1.000000</td>\n",
       "      <td>1.000000</td>\n",
       "      <td>1.000000</td>\n",
       "      <td>1.000000</td>\n",
       "      <td>12.000000</td>\n",
       "      <td>1.000000</td>\n",
       "      <td>41.000000</td>\n",
       "      <td>552.590740</td>\n",
       "      <td>12.000000</td>\n",
       "      <td>31.000000</td>\n",
       "      <td>6.023668</td>\n",
       "      <td>6.146783</td>\n",
       "      <td>1.000000</td>\n",
       "    </tr>\n",
       "  </tbody>\n",
       "</table>\n",
       "</div>"
      ],
      "text/plain": [
       "            gender  Near_Location      Partner  Promo_friends        Phone  \\\n",
       "count  4000.000000    4000.000000  4000.000000    4000.000000  4000.000000   \n",
       "mean      0.510250       0.845250     0.486750       0.308500     0.903500   \n",
       "std       0.499957       0.361711     0.499887       0.461932     0.295313   \n",
       "min       0.000000       0.000000     0.000000       0.000000     0.000000   \n",
       "25%       0.000000       1.000000     0.000000       0.000000     1.000000   \n",
       "50%       1.000000       1.000000     0.000000       0.000000     1.000000   \n",
       "75%       1.000000       1.000000     1.000000       1.000000     1.000000   \n",
       "max       1.000000       1.000000     1.000000       1.000000     1.000000   \n",
       "\n",
       "       Contract_period  Group_visits          Age  \\\n",
       "count      4000.000000   4000.000000  4000.000000   \n",
       "mean          4.681250      0.412250    29.184250   \n",
       "std           4.549706      0.492301     3.258367   \n",
       "min           1.000000      0.000000    18.000000   \n",
       "25%           1.000000      0.000000    27.000000   \n",
       "50%           1.000000      0.000000    29.000000   \n",
       "75%           6.000000      1.000000    31.000000   \n",
       "max          12.000000      1.000000    41.000000   \n",
       "\n",
       "       Avg_additional_charges_total  Month_to_end_contract     Lifetime  \\\n",
       "count                   4000.000000            4000.000000  4000.000000   \n",
       "mean                     146.943728               4.322750     3.724750   \n",
       "std                       96.355602               4.191297     3.749267   \n",
       "min                        0.148205               1.000000     0.000000   \n",
       "25%                       68.868830               1.000000     1.000000   \n",
       "50%                      136.220159               1.000000     3.000000   \n",
       "75%                      210.949625               6.000000     5.000000   \n",
       "max                      552.590740              12.000000    31.000000   \n",
       "\n",
       "       Avg_class_frequency_total  Avg_class_frequency_current_month  \\\n",
       "count                4000.000000                        4000.000000   \n",
       "mean                    1.879020                           1.767052   \n",
       "std                     0.972245                           1.052906   \n",
       "min                     0.000000                           0.000000   \n",
       "25%                     1.180875                           0.963003   \n",
       "50%                     1.832768                           1.719574   \n",
       "75%                     2.536078                           2.510336   \n",
       "max                     6.023668                           6.146783   \n",
       "\n",
       "             Churn  \n",
       "count  4000.000000  \n",
       "mean      0.265250  \n",
       "std       0.441521  \n",
       "min       0.000000  \n",
       "25%       0.000000  \n",
       "50%       0.000000  \n",
       "75%       1.000000  \n",
       "max       1.000000  "
      ]
     },
     "execution_count": 35,
     "metadata": {},
     "output_type": "execute_result"
    }
   ],
   "source": [
    "df.describe()"
   ]
  },
  {
   "cell_type": "markdown",
   "metadata": {},
   "source": [
    "**Вывод:** пропуски и дубликаты отсутствуют, все типы данных корректные"
   ]
  },
  {
   "cell_type": "markdown",
   "metadata": {},
   "source": [
    "Изменим регистр названия столбцов"
   ]
  },
  {
   "cell_type": "code",
   "execution_count": 36,
   "metadata": {},
   "outputs": [
    {
     "data": {
      "text/html": [
       "<div>\n",
       "<style scoped>\n",
       "    .dataframe tbody tr th:only-of-type {\n",
       "        vertical-align: middle;\n",
       "    }\n",
       "\n",
       "    .dataframe tbody tr th {\n",
       "        vertical-align: top;\n",
       "    }\n",
       "\n",
       "    .dataframe thead th {\n",
       "        text-align: right;\n",
       "    }\n",
       "</style>\n",
       "<table border=\"1\" class=\"dataframe\">\n",
       "  <thead>\n",
       "    <tr style=\"text-align: right;\">\n",
       "      <th></th>\n",
       "      <th>gender</th>\n",
       "      <th>near_location</th>\n",
       "      <th>partner</th>\n",
       "      <th>promo_friends</th>\n",
       "      <th>phone</th>\n",
       "      <th>contract_period</th>\n",
       "      <th>group_visits</th>\n",
       "      <th>age</th>\n",
       "      <th>avg_additional_charges_total</th>\n",
       "      <th>month_to_end_contract</th>\n",
       "      <th>lifetime</th>\n",
       "      <th>avg_class_frequency_total</th>\n",
       "      <th>avg_class_frequency_current_month</th>\n",
       "      <th>churn</th>\n",
       "    </tr>\n",
       "  </thead>\n",
       "  <tbody>\n",
       "    <tr>\n",
       "      <td>0</td>\n",
       "      <td>1</td>\n",
       "      <td>1</td>\n",
       "      <td>1</td>\n",
       "      <td>1</td>\n",
       "      <td>0</td>\n",
       "      <td>6</td>\n",
       "      <td>1</td>\n",
       "      <td>29</td>\n",
       "      <td>14.227470</td>\n",
       "      <td>5.0</td>\n",
       "      <td>3</td>\n",
       "      <td>0.020398</td>\n",
       "      <td>0.000000</td>\n",
       "      <td>0</td>\n",
       "    </tr>\n",
       "    <tr>\n",
       "      <td>1</td>\n",
       "      <td>0</td>\n",
       "      <td>1</td>\n",
       "      <td>0</td>\n",
       "      <td>0</td>\n",
       "      <td>1</td>\n",
       "      <td>12</td>\n",
       "      <td>1</td>\n",
       "      <td>31</td>\n",
       "      <td>113.202938</td>\n",
       "      <td>12.0</td>\n",
       "      <td>7</td>\n",
       "      <td>1.922936</td>\n",
       "      <td>1.910244</td>\n",
       "      <td>0</td>\n",
       "    </tr>\n",
       "    <tr>\n",
       "      <td>2</td>\n",
       "      <td>0</td>\n",
       "      <td>1</td>\n",
       "      <td>1</td>\n",
       "      <td>0</td>\n",
       "      <td>1</td>\n",
       "      <td>1</td>\n",
       "      <td>0</td>\n",
       "      <td>28</td>\n",
       "      <td>129.448479</td>\n",
       "      <td>1.0</td>\n",
       "      <td>2</td>\n",
       "      <td>1.859098</td>\n",
       "      <td>1.736502</td>\n",
       "      <td>0</td>\n",
       "    </tr>\n",
       "    <tr>\n",
       "      <td>3</td>\n",
       "      <td>0</td>\n",
       "      <td>1</td>\n",
       "      <td>1</td>\n",
       "      <td>1</td>\n",
       "      <td>1</td>\n",
       "      <td>12</td>\n",
       "      <td>1</td>\n",
       "      <td>33</td>\n",
       "      <td>62.669863</td>\n",
       "      <td>12.0</td>\n",
       "      <td>2</td>\n",
       "      <td>3.205633</td>\n",
       "      <td>3.357215</td>\n",
       "      <td>0</td>\n",
       "    </tr>\n",
       "    <tr>\n",
       "      <td>4</td>\n",
       "      <td>1</td>\n",
       "      <td>1</td>\n",
       "      <td>1</td>\n",
       "      <td>1</td>\n",
       "      <td>1</td>\n",
       "      <td>1</td>\n",
       "      <td>0</td>\n",
       "      <td>26</td>\n",
       "      <td>198.362265</td>\n",
       "      <td>1.0</td>\n",
       "      <td>3</td>\n",
       "      <td>1.113884</td>\n",
       "      <td>1.120078</td>\n",
       "      <td>0</td>\n",
       "    </tr>\n",
       "  </tbody>\n",
       "</table>\n",
       "</div>"
      ],
      "text/plain": [
       "   gender  near_location  partner  promo_friends  phone  contract_period  \\\n",
       "0       1              1        1              1      0                6   \n",
       "1       0              1        0              0      1               12   \n",
       "2       0              1        1              0      1                1   \n",
       "3       0              1        1              1      1               12   \n",
       "4       1              1        1              1      1                1   \n",
       "\n",
       "   group_visits  age  avg_additional_charges_total  month_to_end_contract  \\\n",
       "0             1   29                     14.227470                    5.0   \n",
       "1             1   31                    113.202938                   12.0   \n",
       "2             0   28                    129.448479                    1.0   \n",
       "3             1   33                     62.669863                   12.0   \n",
       "4             0   26                    198.362265                    1.0   \n",
       "\n",
       "   lifetime  avg_class_frequency_total  avg_class_frequency_current_month  \\\n",
       "0         3                   0.020398                           0.000000   \n",
       "1         7                   1.922936                           1.910244   \n",
       "2         2                   1.859098                           1.736502   \n",
       "3         2                   3.205633                           3.357215   \n",
       "4         3                   1.113884                           1.120078   \n",
       "\n",
       "   churn  \n",
       "0      0  \n",
       "1      0  \n",
       "2      0  \n",
       "3      0  \n",
       "4      0  "
      ]
     },
     "execution_count": 36,
     "metadata": {},
     "output_type": "execute_result"
    }
   ],
   "source": [
    "df.columns = df.columns.str.lower()\n",
    "df.head()"
   ]
  },
  {
   "cell_type": "markdown",
   "metadata": {},
   "source": [
    "#### 2.2  Посмотрим на средние значения признаков в двух группах — тех, кто ушел в отток и тех, кто остался"
   ]
  },
  {
   "cell_type": "code",
   "execution_count": 37,
   "metadata": {},
   "outputs": [
    {
     "data": {
      "text/html": [
       "<div>\n",
       "<style scoped>\n",
       "    .dataframe tbody tr th:only-of-type {\n",
       "        vertical-align: middle;\n",
       "    }\n",
       "\n",
       "    .dataframe tbody tr th {\n",
       "        vertical-align: top;\n",
       "    }\n",
       "\n",
       "    .dataframe thead th {\n",
       "        text-align: right;\n",
       "    }\n",
       "</style>\n",
       "<table border=\"1\" class=\"dataframe\">\n",
       "  <thead>\n",
       "    <tr style=\"text-align: right;\">\n",
       "      <th>churn</th>\n",
       "      <th>0</th>\n",
       "      <th>1</th>\n",
       "    </tr>\n",
       "  </thead>\n",
       "  <tbody>\n",
       "    <tr>\n",
       "      <td>gender</td>\n",
       "      <td>0.510037</td>\n",
       "      <td>0.510839</td>\n",
       "    </tr>\n",
       "    <tr>\n",
       "      <td>near_location</td>\n",
       "      <td>0.873086</td>\n",
       "      <td>0.768143</td>\n",
       "    </tr>\n",
       "    <tr>\n",
       "      <td>partner</td>\n",
       "      <td>0.534195</td>\n",
       "      <td>0.355325</td>\n",
       "    </tr>\n",
       "    <tr>\n",
       "      <td>promo_friends</td>\n",
       "      <td>0.353522</td>\n",
       "      <td>0.183789</td>\n",
       "    </tr>\n",
       "    <tr>\n",
       "      <td>phone</td>\n",
       "      <td>0.903709</td>\n",
       "      <td>0.902922</td>\n",
       "    </tr>\n",
       "    <tr>\n",
       "      <td>contract_period</td>\n",
       "      <td>5.747193</td>\n",
       "      <td>1.728558</td>\n",
       "    </tr>\n",
       "    <tr>\n",
       "      <td>group_visits</td>\n",
       "      <td>0.464103</td>\n",
       "      <td>0.268615</td>\n",
       "    </tr>\n",
       "    <tr>\n",
       "      <td>age</td>\n",
       "      <td>29.976523</td>\n",
       "      <td>26.989632</td>\n",
       "    </tr>\n",
       "    <tr>\n",
       "      <td>avg_additional_charges_total</td>\n",
       "      <td>158.445715</td>\n",
       "      <td>115.082899</td>\n",
       "    </tr>\n",
       "    <tr>\n",
       "      <td>month_to_end_contract</td>\n",
       "      <td>5.283089</td>\n",
       "      <td>1.662582</td>\n",
       "    </tr>\n",
       "    <tr>\n",
       "      <td>lifetime</td>\n",
       "      <td>4.711807</td>\n",
       "      <td>0.990575</td>\n",
       "    </tr>\n",
       "    <tr>\n",
       "      <td>avg_class_frequency_total</td>\n",
       "      <td>2.024876</td>\n",
       "      <td>1.474995</td>\n",
       "    </tr>\n",
       "    <tr>\n",
       "      <td>avg_class_frequency_current_month</td>\n",
       "      <td>2.027882</td>\n",
       "      <td>1.044546</td>\n",
       "    </tr>\n",
       "  </tbody>\n",
       "</table>\n",
       "</div>"
      ],
      "text/plain": [
       "churn                                       0           1\n",
       "gender                               0.510037    0.510839\n",
       "near_location                        0.873086    0.768143\n",
       "partner                              0.534195    0.355325\n",
       "promo_friends                        0.353522    0.183789\n",
       "phone                                0.903709    0.902922\n",
       "contract_period                      5.747193    1.728558\n",
       "group_visits                         0.464103    0.268615\n",
       "age                                 29.976523   26.989632\n",
       "avg_additional_charges_total       158.445715  115.082899\n",
       "month_to_end_contract                5.283089    1.662582\n",
       "lifetime                             4.711807    0.990575\n",
       "avg_class_frequency_total            2.024876    1.474995\n",
       "avg_class_frequency_current_month    2.027882    1.044546"
      ]
     },
     "execution_count": 37,
     "metadata": {},
     "output_type": "execute_result"
    }
   ],
   "source": [
    "df.groupby('churn').mean().T"
   ]
  },
  {
   "cell_type": "markdown",
   "metadata": {},
   "source": [
    "Те кто ушли:"
   ]
  },
  {
   "cell_type": "code",
   "execution_count": 38,
   "metadata": {
    "scrolled": false
   },
   "outputs": [
    {
     "data": {
      "text/plain": [
       "gender                                 0.510839\n",
       "near_location                          0.768143\n",
       "partner                                0.355325\n",
       "promo_friends                          0.183789\n",
       "phone                                  0.902922\n",
       "contract_period                        1.728558\n",
       "group_visits                           0.268615\n",
       "age                                   26.989632\n",
       "avg_additional_charges_total         115.082899\n",
       "month_to_end_contract                  1.662582\n",
       "lifetime                               0.990575\n",
       "avg_class_frequency_total              1.474995\n",
       "avg_class_frequency_current_month      1.044546\n",
       "churn                                  1.000000\n",
       "dtype: float64"
      ]
     },
     "execution_count": 38,
     "metadata": {},
     "output_type": "execute_result"
    }
   ],
   "source": [
    "df[df['churn']==1].mean()"
   ]
  },
  {
   "cell_type": "markdown",
   "metadata": {},
   "source": [
    "Те кто остались:"
   ]
  },
  {
   "cell_type": "code",
   "execution_count": 39,
   "metadata": {},
   "outputs": [
    {
     "data": {
      "text/plain": [
       "gender                                 0.510037\n",
       "near_location                          0.873086\n",
       "partner                                0.534195\n",
       "promo_friends                          0.353522\n",
       "phone                                  0.903709\n",
       "contract_period                        5.747193\n",
       "group_visits                           0.464103\n",
       "age                                   29.976523\n",
       "avg_additional_charges_total         158.445715\n",
       "month_to_end_contract                  5.283089\n",
       "lifetime                               4.711807\n",
       "avg_class_frequency_total              2.024876\n",
       "avg_class_frequency_current_month      2.027882\n",
       "churn                                  0.000000\n",
       "dtype: float64"
      ]
     },
     "execution_count": 39,
     "metadata": {},
     "output_type": "execute_result"
    }
   ],
   "source": [
    "df[df['churn']==0].mean()"
   ]
  },
  {
   "cell_type": "markdown",
   "metadata": {},
   "source": [
    "Посмотрим на разницу по средним в метриках:"
   ]
  },
  {
   "cell_type": "code",
   "execution_count": 40,
   "metadata": {
    "scrolled": false
   },
   "outputs": [
    {
     "data": {
      "text/plain": [
       "gender                               -0.000801\n",
       "near_location                         0.104943\n",
       "partner                               0.178870\n",
       "promo_friends                         0.169733\n",
       "phone                                 0.000787\n",
       "contract_period                       4.018635\n",
       "group_visits                          0.195489\n",
       "age                                   2.986890\n",
       "avg_additional_charges_total         43.362816\n",
       "month_to_end_contract                 3.620507\n",
       "lifetime                              3.721232\n",
       "avg_class_frequency_total             0.549881\n",
       "avg_class_frequency_current_month     0.983336\n",
       "churn                                -1.000000\n",
       "dtype: float64"
      ]
     },
     "execution_count": 40,
     "metadata": {},
     "output_type": "execute_result"
    }
   ],
   "source": [
    "df[df['churn']==0].mean() -  df[df['churn']==1].mean()"
   ]
  },
  {
   "cell_type": "markdown",
   "metadata": {},
   "source": [
    "**Вывод:** все важные показатели у группы людей, которые остались имеют среднее более высокое, чем у группы людей, которые покинули спорт зал. Это и длительность абонемента, и срок до конца абонемента и суммарная вырочка от доп услуг, а так же частота посещений в неделю, как за общий период, так и за последний месяц."
   ]
  },
  {
   "cell_type": "markdown",
   "metadata": {},
   "source": [
    "#### 2.3 Построим столбчатые гистограммы и распределения признаков для тех, кто ушёл (отток) и тех, кто остался (не попали в отток)"
   ]
  },
  {
   "cell_type": "code",
   "execution_count": 1,
   "metadata": {
    "scrolled": false
   },
   "outputs": [
    {
     "ename": "NameError",
     "evalue": "name 'plt' is not defined",
     "output_type": "error",
     "traceback": [
      "\u001b[1;31m---------------------------------------------------------------------------\u001b[0m",
      "\u001b[1;31mNameError\u001b[0m                                 Traceback (most recent call last)",
      "\u001b[1;32m~\\AppData\\Local\\Temp/ipykernel_468/3805941297.py\u001b[0m in \u001b[0;36m<module>\u001b[1;34m\u001b[0m\n\u001b[1;32m----> 1\u001b[1;33m \u001b[0mfig\u001b[0m\u001b[1;33m,\u001b[0m \u001b[0max\u001b[0m \u001b[1;33m=\u001b[0m \u001b[0mplt\u001b[0m\u001b[1;33m.\u001b[0m\u001b[0msubplots\u001b[0m\u001b[1;33m(\u001b[0m\u001b[1;33m)\u001b[0m\u001b[1;33m\u001b[0m\u001b[1;33m\u001b[0m\u001b[0m\n\u001b[0m\u001b[0;32m      2\u001b[0m \u001b[1;32mfor\u001b[0m \u001b[0mi\u001b[0m \u001b[1;32min\u001b[0m \u001b[0mdf\u001b[0m\u001b[1;33m.\u001b[0m\u001b[0mdrop\u001b[0m\u001b[1;33m(\u001b[0m\u001b[1;34m'churn'\u001b[0m\u001b[1;33m,\u001b[0m \u001b[0maxis\u001b[0m\u001b[1;33m=\u001b[0m\u001b[1;36m1\u001b[0m\u001b[1;33m)\u001b[0m\u001b[1;33m:\u001b[0m\u001b[1;33m\u001b[0m\u001b[1;33m\u001b[0m\u001b[0m\n\u001b[0;32m      3\u001b[0m     \u001b[0mplt\u001b[0m\u001b[1;33m.\u001b[0m\u001b[0mtitle\u001b[0m\u001b[1;33m(\u001b[0m\u001b[1;34m\"Распределение признака \"\u001b[0m \u001b[1;33m+\u001b[0m \u001b[0mi\u001b[0m\u001b[1;33m)\u001b[0m\u001b[1;33m\u001b[0m\u001b[1;33m\u001b[0m\u001b[0m\n\u001b[0;32m      4\u001b[0m     \u001b[0mplt\u001b[0m\u001b[1;33m.\u001b[0m\u001b[0mxlabel\u001b[0m\u001b[1;33m(\u001b[0m\u001b[0mi\u001b[0m\u001b[1;33m)\u001b[0m\u001b[1;33m\u001b[0m\u001b[1;33m\u001b[0m\u001b[0m\n\u001b[0;32m      5\u001b[0m     \u001b[0mplt\u001b[0m\u001b[1;33m.\u001b[0m\u001b[0mylabel\u001b[0m\u001b[1;33m(\u001b[0m\u001b[1;34m\"количество и плотность\"\u001b[0m\u001b[1;33m)\u001b[0m\u001b[1;33m\u001b[0m\u001b[1;33m\u001b[0m\u001b[0m\n",
      "\u001b[1;31mNameError\u001b[0m: name 'plt' is not defined"
     ]
    }
   ],
   "source": [
    "fig, ax = plt.subplots()\n",
    "for i in df.drop('churn', axis=1):\n",
    "    plt.title(\"Распределение признака \" + i)\n",
    "    plt.xlabel(i)\n",
    "    plt.ylabel(\"количество и плотность\")\n",
    "    sns.distplot(df[df['churn']==1][i], label='churn', kde=False)\n",
    "    sns.distplot(df[df['churn']==0][i], label='loyal', kde=False)\n",
    "    plt.legend()\n",
    "    plt.show()"
   ]
  },
  {
   "cell_type": "markdown",
   "metadata": {},
   "source": [
    "**Вывод:** можно отметить, что основная часть ушедших имела низкий **lifetime** и минимальную **длительность контракта (1 мес.)**"
   ]
  },
  {
   "cell_type": "markdown",
   "metadata": {},
   "source": [
    "#### 2.4  Построим матрицу корреляций и отобразите её"
   ]
  },
  {
   "cell_type": "code",
   "execution_count": 42,
   "metadata": {},
   "outputs": [
    {
     "data": {
      "image/png": "[encoded data removed]",
      "text/plain": [
       "<Figure size 1080x1080 with 2 Axes>"
      ]
     },
     "metadata": {
      "needs_background": "light"
     },
     "output_type": "display_data"
    }
   ],
   "source": [
    "cr = df.corr()\n",
    "plt.figure(figsize=(15, 15))\n",
    "matrix = np.tril(cr)\n",
    "sns.heatmap(cr, annot=True, linewidths=.5, square=True, mask = matrix)\n",
    "plt.xticks()\n",
    "plt.show()"
   ]
  },
  {
   "cell_type": "markdown",
   "metadata": {},
   "source": [
    "**Вывод:** сильная корреляция наблюдается в парах:  \n",
    "**1. Contract_period - Month_to_end_contract**  \n",
    "**2. Avg_class_frequency_total - Avg_class_frequency_current_month**"
   ]
  },
  {
   "cell_type": "markdown",
   "metadata": {},
   "source": [
    "### 3. Построим модель прогнозирования оттока клиентов"
   ]
  },
  {
   "cell_type": "markdown",
   "metadata": {},
   "source": [
    "Построим модель бинарной классификации клиентов, где целевой признак — факт оттока клиента в следующем месяце:"
   ]
  },
  {
   "cell_type": "markdown",
   "metadata": {},
   "source": [
    "#### 3.1 Разобъем данные на обучающую и валидационную выборку функцией train_test_split()."
   ]
  },
  {
   "cell_type": "code",
   "execution_count": 43,
   "metadata": {},
   "outputs": [],
   "source": [
    "X = df.drop('churn', axis = 1)\n",
    "y = df['churn']\n",
    "\n",
    "X_train, X_test, y_train, y_test = train_test_split(X, y, test_size=0.2, random_state=0)"
   ]
  },
  {
   "cell_type": "markdown",
   "metadata": {},
   "source": [
    "#### 3.2 Обучим модель на train-выборке двумя способами:"
   ]
  },
  {
   "cell_type": "markdown",
   "metadata": {},
   "source": [
    "**Логистическая регрессия:**"
   ]
  },
  {
   "cell_type": "code",
   "execution_count": 44,
   "metadata": {},
   "outputs": [],
   "source": [
    "model = LogisticRegression(solver='liblinear', random_state = 0)\n",
    "lr = model.fit(X_train, y_train)\n",
    "predictions_lr =  lr.predict(X_test)"
   ]
  },
  {
   "cell_type": "markdown",
   "metadata": {},
   "source": [
    "**Случайный лес:**"
   ]
  },
  {
   "cell_type": "code",
   "execution_count": 45,
   "metadata": {},
   "outputs": [],
   "source": [
    "rf_model = RandomForestClassifier(n_estimators = 100, random_state = 0)\n",
    "rf = rf_model.fit(X_train, y_train)\n",
    "predictions_rf =  rf.predict(X_test)"
   ]
  },
  {
   "cell_type": "markdown",
   "metadata": {},
   "source": [
    "#### 3.3 Оценим метрики accuracy, precision и recall для обеих моделей на валидационной выборке. Сравним по ним модели. Выберем из двух моделей лучшую"
   ]
  },
  {
   "cell_type": "code",
   "execution_count": 46,
   "metadata": {},
   "outputs": [],
   "source": [
    "def metrics(predictions):\n",
    "    print('Accuracy: {:.2f}'.format(accuracy_score(y_test, predictions)))\n",
    "    print('Precision: {:.2f}'.format(precision_score(y_test, predictions)))\n",
    "    print('Recall: {:.2f}'.format(recall_score(y_test, predictions)))"
   ]
  },
  {
   "cell_type": "code",
   "execution_count": 47,
   "metadata": {},
   "outputs": [
    {
     "name": "stdout",
     "output_type": "stream",
     "text": [
      "Accuracy: 0.93\n",
      "Precision: 0.86\n",
      "Recall: 0.83\n"
     ]
    }
   ],
   "source": [
    "metrics(predictions_lr)"
   ]
  },
  {
   "cell_type": "code",
   "execution_count": 48,
   "metadata": {},
   "outputs": [
    {
     "name": "stdout",
     "output_type": "stream",
     "text": [
      "Accuracy: 0.92\n",
      "Precision: 0.84\n",
      "Recall: 0.82\n"
     ]
    }
   ],
   "source": [
    "metrics(predictions_rf)"
   ]
  },
  {
   "cell_type": "markdown",
   "metadata": {},
   "source": [
    "**Вывод:** первая модель  **LogisticRegression**  чуть лучше."
   ]
  },
  {
   "cell_type": "markdown",
   "metadata": {},
   "source": [
    "### 4. Сделаем кластеризацию клиентов"
   ]
  },
  {
   "cell_type": "markdown",
   "metadata": {},
   "source": [
    "#### 4.1 Стандартизируем данные"
   ]
  },
  {
   "cell_type": "code",
   "execution_count": 49,
   "metadata": {},
   "outputs": [],
   "source": [
    "scaler = StandardScaler() \n",
    "scaler.fit(X) \n",
    "X_sc = scaler.transform(X)"
   ]
  },
  {
   "cell_type": "markdown",
   "metadata": {},
   "source": [
    "#### 4.2 Построим матрицу расстояний функцией linkage() на стандартизованной матрице признаков и нарисуйте дендрограмму. Внимание: отрисовка дендрограммы может занять время! На основании полученного графика предположите, какое количество кластеров можно выделить."
   ]
  },
  {
   "cell_type": "code",
   "execution_count": 50,
   "metadata": {},
   "outputs": [
    {
     "data": {
      "text/plain": [
       "array([[9.70000000e+01, 3.22200000e+03, 1.00990653e-01, 2.00000000e+00],\n",
       "       [2.61000000e+02, 3.17900000e+03, 1.22634574e-01, 2.00000000e+00],\n",
       "       [8.90000000e+02, 1.75000000e+03, 1.28123291e-01, 2.00000000e+00],\n",
       "       ...,\n",
       "       [7.98700000e+03, 7.99500000e+03, 8.38725499e+01, 2.65600000e+03],\n",
       "       [7.98800000e+03, 7.99600000e+03, 8.89563592e+01, 3.03400000e+03],\n",
       "       [7.99200000e+03, 7.99700000e+03, 1.04627601e+02, 4.00000000e+03]])"
      ]
     },
     "execution_count": 50,
     "metadata": {},
     "output_type": "execute_result"
    }
   ],
   "source": [
    "linked = linkage(X_sc, method = 'ward')\n",
    "linked"
   ]
  },
  {
   "cell_type": "code",
   "execution_count": 51,
   "metadata": {},
   "outputs": [
    {
     "data": {
      "image/png": "[encoded data removed]",
      "text/plain": [
       "<Figure size 1080x720 with 1 Axes>"
      ]
     },
     "metadata": {
      "needs_background": "light"
     },
     "output_type": "display_data"
    }
   ],
   "source": [
    "plt.figure(figsize=(15, 10))  \n",
    "dendrogram(linked, orientation= 'top')\n",
    "plt.show()"
   ]
  },
  {
   "cell_type": "markdown",
   "metadata": {},
   "source": [
    "**Вывод:** на основании графика выделим **4** кластера"
   ]
  },
  {
   "cell_type": "markdown",
   "metadata": {},
   "source": [
    "#### 4.3 Обучим модель кластеризации на основании алгоритма K-Means и спрогнозируем кластеры клиентов. Договоримся за число кластеров принять n=5, чтобы ваши результаты можно было сравнивать с результатами остальных студентов. Однако, конечно, в жизни никто не скажет вам правильный ответ, и решение остаётся за вами (на основании изучения графика из предыдущего пункта)."
   ]
  },
  {
   "cell_type": "code",
   "execution_count": 52,
   "metadata": {},
   "outputs": [],
   "source": [
    "sc = StandardScaler()\n",
    "x_sc = sc.fit_transform(df)\n",
    "km = KMeans(n_clusters = 5, random_state = 0)"
   ]
  },
  {
   "cell_type": "markdown",
   "metadata": {},
   "source": [
    "#### 4.4 Посмотрим на средние значения признаков для кластеров. Можно ли сразу что-то заметить?"
   ]
  },
  {
   "cell_type": "code",
   "execution_count": 53,
   "metadata": {},
   "outputs": [],
   "source": [
    "labels = km.fit_predict(x_sc)\n",
    "df['cluster_km'] = labels"
   ]
  },
  {
   "cell_type": "markdown",
   "metadata": {},
   "source": [
    "Переименуем названия кластеров:"
   ]
  },
  {
   "cell_type": "code",
   "execution_count": 54,
   "metadata": {},
   "outputs": [
    {
     "data": {
      "text/html": [
       "<div>\n",
       "<style scoped>\n",
       "    .dataframe tbody tr th:only-of-type {\n",
       "        vertical-align: middle;\n",
       "    }\n",
       "\n",
       "    .dataframe tbody tr th {\n",
       "        vertical-align: top;\n",
       "    }\n",
       "\n",
       "    .dataframe thead th {\n",
       "        text-align: right;\n",
       "    }\n",
       "</style>\n",
       "<table border=\"1\" class=\"dataframe\">\n",
       "  <thead>\n",
       "    <tr style=\"text-align: right;\">\n",
       "      <th></th>\n",
       "      <th>gender</th>\n",
       "      <th>near_location</th>\n",
       "      <th>partner</th>\n",
       "      <th>promo_friends</th>\n",
       "      <th>phone</th>\n",
       "      <th>contract_period</th>\n",
       "      <th>group_visits</th>\n",
       "      <th>age</th>\n",
       "      <th>avg_additional_charges_total</th>\n",
       "      <th>month_to_end_contract</th>\n",
       "      <th>lifetime</th>\n",
       "      <th>avg_class_frequency_total</th>\n",
       "      <th>avg_class_frequency_current_month</th>\n",
       "      <th>churn</th>\n",
       "      <th>cluster_km</th>\n",
       "    </tr>\n",
       "  </thead>\n",
       "  <tbody>\n",
       "    <tr>\n",
       "      <td>0</td>\n",
       "      <td>1</td>\n",
       "      <td>1</td>\n",
       "      <td>1</td>\n",
       "      <td>1</td>\n",
       "      <td>0</td>\n",
       "      <td>6</td>\n",
       "      <td>1</td>\n",
       "      <td>29</td>\n",
       "      <td>14.227470</td>\n",
       "      <td>5.0</td>\n",
       "      <td>3</td>\n",
       "      <td>0.020398</td>\n",
       "      <td>0.000000</td>\n",
       "      <td>0</td>\n",
       "      <td>cluster 5</td>\n",
       "    </tr>\n",
       "    <tr>\n",
       "      <td>1</td>\n",
       "      <td>0</td>\n",
       "      <td>1</td>\n",
       "      <td>0</td>\n",
       "      <td>0</td>\n",
       "      <td>1</td>\n",
       "      <td>12</td>\n",
       "      <td>1</td>\n",
       "      <td>31</td>\n",
       "      <td>113.202938</td>\n",
       "      <td>12.0</td>\n",
       "      <td>7</td>\n",
       "      <td>1.922936</td>\n",
       "      <td>1.910244</td>\n",
       "      <td>0</td>\n",
       "      <td>cluster 2</td>\n",
       "    </tr>\n",
       "    <tr>\n",
       "      <td>2</td>\n",
       "      <td>0</td>\n",
       "      <td>1</td>\n",
       "      <td>1</td>\n",
       "      <td>0</td>\n",
       "      <td>1</td>\n",
       "      <td>1</td>\n",
       "      <td>0</td>\n",
       "      <td>28</td>\n",
       "      <td>129.448479</td>\n",
       "      <td>1.0</td>\n",
       "      <td>2</td>\n",
       "      <td>1.859098</td>\n",
       "      <td>1.736502</td>\n",
       "      <td>0</td>\n",
       "      <td>cluster 4</td>\n",
       "    </tr>\n",
       "    <tr>\n",
       "      <td>3</td>\n",
       "      <td>0</td>\n",
       "      <td>1</td>\n",
       "      <td>1</td>\n",
       "      <td>1</td>\n",
       "      <td>1</td>\n",
       "      <td>12</td>\n",
       "      <td>1</td>\n",
       "      <td>33</td>\n",
       "      <td>62.669863</td>\n",
       "      <td>12.0</td>\n",
       "      <td>2</td>\n",
       "      <td>3.205633</td>\n",
       "      <td>3.357215</td>\n",
       "      <td>0</td>\n",
       "      <td>cluster 2</td>\n",
       "    </tr>\n",
       "    <tr>\n",
       "      <td>4</td>\n",
       "      <td>1</td>\n",
       "      <td>1</td>\n",
       "      <td>1</td>\n",
       "      <td>1</td>\n",
       "      <td>1</td>\n",
       "      <td>1</td>\n",
       "      <td>0</td>\n",
       "      <td>26</td>\n",
       "      <td>198.362265</td>\n",
       "      <td>1.0</td>\n",
       "      <td>3</td>\n",
       "      <td>1.113884</td>\n",
       "      <td>1.120078</td>\n",
       "      <td>0</td>\n",
       "      <td>cluster 5</td>\n",
       "    </tr>\n",
       "  </tbody>\n",
       "</table>\n",
       "</div>"
      ],
      "text/plain": [
       "   gender  near_location  partner  promo_friends  phone  contract_period  \\\n",
       "0       1              1        1              1      0                6   \n",
       "1       0              1        0              0      1               12   \n",
       "2       0              1        1              0      1                1   \n",
       "3       0              1        1              1      1               12   \n",
       "4       1              1        1              1      1                1   \n",
       "\n",
       "   group_visits  age  avg_additional_charges_total  month_to_end_contract  \\\n",
       "0             1   29                     14.227470                    5.0   \n",
       "1             1   31                    113.202938                   12.0   \n",
       "2             0   28                    129.448479                    1.0   \n",
       "3             1   33                     62.669863                   12.0   \n",
       "4             0   26                    198.362265                    1.0   \n",
       "\n",
       "   lifetime  avg_class_frequency_total  avg_class_frequency_current_month  \\\n",
       "0         3                   0.020398                           0.000000   \n",
       "1         7                   1.922936                           1.910244   \n",
       "2         2                   1.859098                           1.736502   \n",
       "3         2                   3.205633                           3.357215   \n",
       "4         3                   1.113884                           1.120078   \n",
       "\n",
       "   churn cluster_km  \n",
       "0      0  cluster 5  \n",
       "1      0  cluster 2  \n",
       "2      0  cluster 4  \n",
       "3      0  cluster 2  \n",
       "4      0  cluster 5  "
      ]
     },
     "execution_count": 54,
     "metadata": {},
     "output_type": "execute_result"
    }
   ],
   "source": [
    "df.loc[df['cluster_km']==0, 'cluster_km'] = 'cluster 1'\n",
    "df.loc[df['cluster_km']==1, 'cluster_km'] = 'cluster 2'\n",
    "df.loc[df['cluster_km']==2, 'cluster_km'] = 'cluster 3'\n",
    "df.loc[df['cluster_km']==3, 'cluster_km'] = 'cluster 4'\n",
    "df.loc[df['cluster_km']==4, 'cluster_km'] = 'cluster 5'\n",
    "df.head()"
   ]
  },
  {
   "cell_type": "code",
   "execution_count": 55,
   "metadata": {
    "scrolled": false
   },
   "outputs": [
    {
     "data": {
      "text/html": [
       "<div>\n",
       "<style scoped>\n",
       "    .dataframe tbody tr th:only-of-type {\n",
       "        vertical-align: middle;\n",
       "    }\n",
       "\n",
       "    .dataframe tbody tr th {\n",
       "        vertical-align: top;\n",
       "    }\n",
       "\n",
       "    .dataframe thead th {\n",
       "        text-align: right;\n",
       "    }\n",
       "</style>\n",
       "<table border=\"1\" class=\"dataframe\">\n",
       "  <thead>\n",
       "    <tr style=\"text-align: right;\">\n",
       "      <th>cluster_km</th>\n",
       "      <th>cluster 1</th>\n",
       "      <th>cluster 2</th>\n",
       "      <th>cluster 3</th>\n",
       "      <th>cluster 4</th>\n",
       "      <th>cluster 5</th>\n",
       "    </tr>\n",
       "  </thead>\n",
       "  <tbody>\n",
       "    <tr>\n",
       "      <td>gender</td>\n",
       "      <td>0.503676</td>\n",
       "      <td>0.492829</td>\n",
       "      <td>0.507917</td>\n",
       "      <td>0.521186</td>\n",
       "      <td>0.518895</td>\n",
       "    </tr>\n",
       "    <tr>\n",
       "      <td>near_location</td>\n",
       "      <td>0.000000</td>\n",
       "      <td>0.936115</td>\n",
       "      <td>1.000000</td>\n",
       "      <td>0.996610</td>\n",
       "      <td>0.968023</td>\n",
       "    </tr>\n",
       "    <tr>\n",
       "      <td>partner</td>\n",
       "      <td>0.459559</td>\n",
       "      <td>0.764016</td>\n",
       "      <td>0.323995</td>\n",
       "      <td>0.282203</td>\n",
       "      <td>0.744186</td>\n",
       "    </tr>\n",
       "    <tr>\n",
       "      <td>promo_friends</td>\n",
       "      <td>0.075368</td>\n",
       "      <td>0.534550</td>\n",
       "      <td>0.213155</td>\n",
       "      <td>0.208475</td>\n",
       "      <td>0.526163</td>\n",
       "    </tr>\n",
       "    <tr>\n",
       "      <td>phone</td>\n",
       "      <td>0.917279</td>\n",
       "      <td>0.919166</td>\n",
       "      <td>0.903776</td>\n",
       "      <td>0.904237</td>\n",
       "      <td>0.873547</td>\n",
       "    </tr>\n",
       "    <tr>\n",
       "      <td>contract_period</td>\n",
       "      <td>2.069853</td>\n",
       "      <td>10.447197</td>\n",
       "      <td>1.546894</td>\n",
       "      <td>1.882203</td>\n",
       "      <td>8.859012</td>\n",
       "    </tr>\n",
       "    <tr>\n",
       "      <td>group_visits</td>\n",
       "      <td>0.211397</td>\n",
       "      <td>0.516297</td>\n",
       "      <td>0.287454</td>\n",
       "      <td>0.452542</td>\n",
       "      <td>0.534884</td>\n",
       "    </tr>\n",
       "    <tr>\n",
       "      <td>age</td>\n",
       "      <td>28.522059</td>\n",
       "      <td>29.962190</td>\n",
       "      <td>26.926918</td>\n",
       "      <td>30.237288</td>\n",
       "      <td>29.728198</td>\n",
       "    </tr>\n",
       "    <tr>\n",
       "      <td>avg_additional_charges_total</td>\n",
       "      <td>132.741216</td>\n",
       "      <td>161.853561</td>\n",
       "      <td>113.173051</td>\n",
       "      <td>157.988625</td>\n",
       "      <td>162.907495</td>\n",
       "    </tr>\n",
       "    <tr>\n",
       "      <td>month_to_end_contract</td>\n",
       "      <td>1.950368</td>\n",
       "      <td>9.477184</td>\n",
       "      <td>1.500609</td>\n",
       "      <td>1.794915</td>\n",
       "      <td>8.155523</td>\n",
       "    </tr>\n",
       "    <tr>\n",
       "      <td>lifetime</td>\n",
       "      <td>2.757353</td>\n",
       "      <td>4.833116</td>\n",
       "      <td>1.031669</td>\n",
       "      <td>4.923729</td>\n",
       "      <td>4.411337</td>\n",
       "    </tr>\n",
       "    <tr>\n",
       "      <td>avg_class_frequency_total</td>\n",
       "      <td>1.706629</td>\n",
       "      <td>2.788103</td>\n",
       "      <td>1.449720</td>\n",
       "      <td>2.203432</td>\n",
       "      <td>0.957744</td>\n",
       "    </tr>\n",
       "    <tr>\n",
       "      <td>avg_class_frequency_current_month</td>\n",
       "      <td>1.515890</td>\n",
       "      <td>2.786919</td>\n",
       "      <td>1.037592</td>\n",
       "      <td>2.207359</td>\n",
       "      <td>0.943967</td>\n",
       "    </tr>\n",
       "    <tr>\n",
       "      <td>churn</td>\n",
       "      <td>0.450368</td>\n",
       "      <td>0.007823</td>\n",
       "      <td>0.961023</td>\n",
       "      <td>0.003390</td>\n",
       "      <td>0.024709</td>\n",
       "    </tr>\n",
       "  </tbody>\n",
       "</table>\n",
       "</div>"
      ],
      "text/plain": [
       "cluster_km                          cluster 1   cluster 2   cluster 3  \\\n",
       "gender                               0.503676    0.492829    0.507917   \n",
       "near_location                        0.000000    0.936115    1.000000   \n",
       "partner                              0.459559    0.764016    0.323995   \n",
       "promo_friends                        0.075368    0.534550    0.213155   \n",
       "phone                                0.917279    0.919166    0.903776   \n",
       "contract_period                      2.069853   10.447197    1.546894   \n",
       "group_visits                         0.211397    0.516297    0.287454   \n",
       "age                                 28.522059   29.962190   26.926918   \n",
       "avg_additional_charges_total       132.741216  161.853561  113.173051   \n",
       "month_to_end_contract                1.950368    9.477184    1.500609   \n",
       "lifetime                             2.757353    4.833116    1.031669   \n",
       "avg_class_frequency_total            1.706629    2.788103    1.449720   \n",
       "avg_class_frequency_current_month    1.515890    2.786919    1.037592   \n",
       "churn                                0.450368    0.007823    0.961023   \n",
       "\n",
       "cluster_km                          cluster 4   cluster 5  \n",
       "gender                               0.521186    0.518895  \n",
       "near_location                        0.996610    0.968023  \n",
       "partner                              0.282203    0.744186  \n",
       "promo_friends                        0.208475    0.526163  \n",
       "phone                                0.904237    0.873547  \n",
       "contract_period                      1.882203    8.859012  \n",
       "group_visits                         0.452542    0.534884  \n",
       "age                                 30.237288   29.728198  \n",
       "avg_additional_charges_total       157.988625  162.907495  \n",
       "month_to_end_contract                1.794915    8.155523  \n",
       "lifetime                             4.923729    4.411337  \n",
       "avg_class_frequency_total            2.203432    0.957744  \n",
       "avg_class_frequency_current_month    2.207359    0.943967  \n",
       "churn                                0.003390    0.024709  "
      ]
     },
     "execution_count": 55,
     "metadata": {},
     "output_type": "execute_result"
    }
   ],
   "source": [
    "clasters = df.groupby('cluster_km').mean().T\n",
    "clasters"
   ]
  },
  {
   "cell_type": "markdown",
   "metadata": {},
   "source": [
    "**Вывод:**  \n",
    "Сразу можно обнаружить, что в **1** кластере самая низкая доля посетителей живут или работают рядом с фитнес-центром и самая низкая средняя длительность абонементов, так же этот кластер уступает и по другим показателям остальным кластерам. в **4** кластере отсутствуют номера телефонов"
   ]
  },
  {
   "cell_type": "markdown",
   "metadata": {},
   "source": [
    "#### 4.5 Построим распределения признаков для кластеров. Можно ли что-то заметить по ним?"
   ]
  },
  {
   "cell_type": "code",
   "execution_count": 56,
   "metadata": {
    "scrolled": false
   },
   "outputs": [
    {
     "data": {
      "image/png": "[encoded data removed]",
      "text/plain": [
       "<Figure size 432x288 with 1 Axes>"
      ]
     },
     "metadata": {
      "needs_background": "light"
     },
     "output_type": "display_data"
    },
    {
     "data": {
      "image/png": "[encoded data removed]",
      "text/plain": [
       "<Figure size 432x288 with 1 Axes>"
      ]
     },
     "metadata": {
      "needs_background": "light"
     },
     "output_type": "display_data"
    },
    {
     "data": {
      "image/png": "[encoded data removed]",
      "text/plain": [
       "<Figure size 432x288 with 1 Axes>"
      ]
     },
     "metadata": {
      "needs_background": "light"
     },
     "output_type": "display_data"
    },
    {
     "data": {
      "image/png": "[encoded data removed]",
      "text/plain": [
       "<Figure size 432x288 with 1 Axes>"
      ]
     },
     "metadata": {
      "needs_background": "light"
     },
     "output_type": "display_data"
    },
    {
     "data": {
      "image/png": "[encoded data removed]",
      "text/plain": [
       "<Figure size 432x288 with 1 Axes>"
      ]
     },
     "metadata": {
      "needs_background": "light"
     },
     "output_type": "display_data"
    },
    {
     "data": {
      "image/png": "[encoded data removed]",
      "text/plain": [
       "<Figure size 432x288 with 1 Axes>"
      ]
     },
     "metadata": {
      "needs_background": "light"
     },
     "output_type": "display_data"
    },
    {
     "data": {
      "image/png": "[encoded data removed]",
      "text/plain": [
       "<Figure size 432x288 with 1 Axes>"
      ]
     },
     "metadata": {
      "needs_background": "light"
     },
     "output_type": "display_data"
    }
   ],
   "source": [
    "metrics1 = ['gender', 'near_location', 'partner', 'promo_friends', 'phone', 'contract_period', 'group_visits']\n",
    "\n",
    "fig, ax = plt.subplots()\n",
    "\n",
    "for column in metrics1:\n",
    "    \n",
    "    plt.title(\"Распределение признака \" + column)\n",
    "    sns.countplot(data=df, x=column, hue='cluster_km', palette=\"mako\")\n",
    "    plt.xlabel(column)\n",
    "    plt.ylabel(\"количество\")\n",
    "    plt.legend(bbox_to_anchor=(1.3, 1))\n",
    "    plt.show()"
   ]
  },
  {
   "cell_type": "markdown",
   "metadata": {},
   "source": [
    "**Вывод:** у **4** кластера полностью отсуствуют номера телефонов клиентов, у кластеров **2,3,5** все клиенты оставили номера телефонов. Кластер **2** не имеет клиентов с периодом абонемента в 1 месяц, в кластере **1** в основном длит. абонемента 1 месяц и преобладают посещения групповых занятий."
   ]
  },
  {
   "cell_type": "code",
   "execution_count": 57,
   "metadata": {
    "scrolled": false
   },
   "outputs": [
    {
     "data": {
      "image/png": "[encoded data removed]",
      "text/plain": [
       "<Figure size 432x288 with 1 Axes>"
      ]
     },
     "metadata": {
      "needs_background": "light"
     },
     "output_type": "display_data"
    },
    {
     "data": {
      "image/png": "[encoded data removed]",
      "text/plain": [
       "<Figure size 432x288 with 1 Axes>"
      ]
     },
     "metadata": {
      "needs_background": "light"
     },
     "output_type": "display_data"
    },
    {
     "data": {
      "image/png": "[encoded data removed]",
      "text/plain": [
       "<Figure size 432x288 with 1 Axes>"
      ]
     },
     "metadata": {
      "needs_background": "light"
     },
     "output_type": "display_data"
    },
    {
     "data": {
      "image/png": "[encoded data removed]",
      "text/plain": [
       "<Figure size 432x288 with 1 Axes>"
      ]
     },
     "metadata": {
      "needs_background": "light"
     },
     "output_type": "display_data"
    }
   ],
   "source": [
    "metrics2 = ['age', 'lifetime', 'avg_class_frequency_current_month', 'avg_additional_charges_total']\n",
    "\n",
    "fig, ax = plt.subplots()\n",
    "for column in metrics2:\n",
    "    \n",
    "    plt.title(\"Распределение признака \" + column)\n",
    "    sns.violinplot(x='cluster_km', y=column, data=df, palette='viridis')\n",
    "    plt.xlabel('кластер')\n",
    "    plt.ylabel('значение ' + column)\n",
    "    plt.show()"
   ]
  },
  {
   "cell_type": "markdown",
   "metadata": {},
   "source": [
    "**Вывод:** кластер **1** можно назвать самым молодым(возраст клиентов), так же кластер **1** отлиичается очень низкой продолжительностью посещений, никто из пользователей в нем не ходил более года в зал. У кластера **5** самая высокая средняя частота посещений в неделю."
   ]
  },
  {
   "cell_type": "markdown",
   "metadata": {},
   "source": [
    "#### 4.6 Для каждого полученного кластера посчитае долю оттока (методом groupby()). Отличаются ли они по доле оттока? Какие кластеры склонны к оттоку, а какие — надёжны?"
   ]
  },
  {
   "cell_type": "code",
   "execution_count": 58,
   "metadata": {},
   "outputs": [
    {
     "data": {
      "text/html": [
       "<div>\n",
       "<style scoped>\n",
       "    .dataframe tbody tr th:only-of-type {\n",
       "        vertical-align: middle;\n",
       "    }\n",
       "\n",
       "    .dataframe tbody tr th {\n",
       "        vertical-align: top;\n",
       "    }\n",
       "\n",
       "    .dataframe thead th {\n",
       "        text-align: right;\n",
       "    }\n",
       "</style>\n",
       "<table border=\"1\" class=\"dataframe\">\n",
       "  <thead>\n",
       "    <tr style=\"text-align: right;\">\n",
       "      <th></th>\n",
       "      <th>cluster_km</th>\n",
       "      <th>churn</th>\n",
       "    </tr>\n",
       "  </thead>\n",
       "  <tbody>\n",
       "    <tr>\n",
       "      <td>0</td>\n",
       "      <td>cluster 3</td>\n",
       "      <td>0.961023</td>\n",
       "    </tr>\n",
       "    <tr>\n",
       "      <td>1</td>\n",
       "      <td>cluster 1</td>\n",
       "      <td>0.450368</td>\n",
       "    </tr>\n",
       "    <tr>\n",
       "      <td>2</td>\n",
       "      <td>cluster 5</td>\n",
       "      <td>0.024709</td>\n",
       "    </tr>\n",
       "    <tr>\n",
       "      <td>3</td>\n",
       "      <td>cluster 2</td>\n",
       "      <td>0.007823</td>\n",
       "    </tr>\n",
       "    <tr>\n",
       "      <td>4</td>\n",
       "      <td>cluster 4</td>\n",
       "      <td>0.003390</td>\n",
       "    </tr>\n",
       "  </tbody>\n",
       "</table>\n",
       "</div>"
      ],
      "text/plain": [
       "  cluster_km     churn\n",
       "0  cluster 3  0.961023\n",
       "1  cluster 1  0.450368\n",
       "2  cluster 5  0.024709\n",
       "3  cluster 2  0.007823\n",
       "4  cluster 4  0.003390"
      ]
     },
     "execution_count": 58,
     "metadata": {},
     "output_type": "execute_result"
    }
   ],
   "source": [
    "churn = df.groupby('cluster_km')['churn'].mean().reset_index().sort_values(by='churn', ascending=False).reset_index(drop=True)\n",
    "churn"
   ]
  },
  {
   "cell_type": "markdown",
   "metadata": {},
   "source": [
    "**Вывод:** самый высокий кластер по оттоку **1**, у него почти **100%**, надежными можно назвать кластеры **2,3,5**"
   ]
  },
  {
   "cell_type": "markdown",
   "metadata": {},
   "source": [
    "### 5. Выводы и базовые рекомендации по работе с клиентами"
   ]
  },
  {
   "cell_type": "markdown",
   "metadata": {},
   "source": [
    "* Делать упор на продолжительные абонементы, для мотивации приобретения можно использовать прогрессивную шкалу скидок - дольше абонемент - больше скидка (дешевле 1 мес посещения)\n",
    "* Самые интересные клиенты - те кто живут или работают рядом (нужна настройка рекламы по геопозиции)\n",
    "* Продолжать использовать акцию \"приведи друга\", она является эффективной\n",
    "* Продолжать использовать партнерские программы, они так же являются эффективными"
   ]
  }
 ],
 "metadata": {
  "ExecuteTimeLog": [
   {
    "duration": 687,
    "start_time": "2022-02-21T18:13:37.889Z"
   },
   {
    "duration": 3,
    "start_time": "2022-02-21T18:58:18.492Z"
   },
   {
    "duration": 331,
    "start_time": "2022-02-21T18:58:18.710Z"
   },
   {
    "duration": -1031,
    "start_time": "2022-02-21T18:58:20.074Z"
   },
   {
    "duration": 32,
    "start_time": "2022-02-21T18:58:25.911Z"
   },
   {
    "duration": 21,
    "start_time": "2022-02-21T18:58:26.263Z"
   },
   {
    "duration": 2185,
    "start_time": "2022-02-23T11:36:36.433Z"
   },
   {
    "duration": 66,
    "start_time": "2022-02-23T11:36:38.621Z"
   },
   {
    "duration": 23,
    "start_time": "2022-02-23T11:36:49.729Z"
   },
   {
    "duration": 19,
    "start_time": "2022-02-23T12:05:14.006Z"
   },
   {
    "duration": 86,
    "start_time": "2022-02-23T12:05:22.465Z"
   },
   {
    "duration": 12,
    "start_time": "2022-02-23T17:14:29.483Z"
   },
   {
    "duration": 25,
    "start_time": "2022-02-23T17:14:40.846Z"
   },
   {
    "duration": 15,
    "start_time": "2022-02-23T17:15:17.141Z"
   },
   {
    "duration": 14,
    "start_time": "2022-02-23T17:15:27.320Z"
   },
   {
    "duration": 28,
    "start_time": "2022-02-23T17:20:32.721Z"
   },
   {
    "duration": 466,
    "start_time": "2022-02-23T17:20:48.852Z"
   },
   {
    "duration": 5,
    "start_time": "2022-02-23T17:20:53.101Z"
   },
   {
    "duration": 27,
    "start_time": "2022-02-23T17:21:02.292Z"
   },
   {
    "duration": 80,
    "start_time": "2022-02-23T18:02:59.953Z"
   },
   {
    "duration": 115,
    "start_time": "2022-02-23T18:03:08.954Z"
   },
   {
    "duration": 10,
    "start_time": "2022-02-23T18:03:28.284Z"
   },
   {
    "duration": 71,
    "start_time": "2022-02-23T18:04:02.280Z"
   },
   {
    "duration": 11,
    "start_time": "2022-02-23T18:10:11.131Z"
   },
   {
    "duration": 9,
    "start_time": "2022-02-23T18:10:12.702Z"
   },
   {
    "duration": 1891,
    "start_time": "2022-02-23T18:10:28.173Z"
   },
   {
    "duration": 96,
    "start_time": "2022-02-23T18:10:33.567Z"
   },
   {
    "duration": 87,
    "start_time": "2022-02-23T18:10:35.749Z"
   },
   {
    "duration": 13,
    "start_time": "2022-02-23T18:10:39.037Z"
   },
   {
    "duration": 10,
    "start_time": "2022-02-23T18:10:43.213Z"
   },
   {
    "duration": 10,
    "start_time": "2022-02-23T18:10:44.469Z"
   },
   {
    "duration": 16,
    "start_time": "2022-02-23T18:10:57.693Z"
   },
   {
    "duration": 11,
    "start_time": "2022-02-23T18:13:14.398Z"
   },
   {
    "duration": 9,
    "start_time": "2022-02-23T18:33:31.500Z"
   },
   {
    "duration": 69,
    "start_time": "2022-02-23T18:40:09.261Z"
   },
   {
    "duration": 12,
    "start_time": "2022-02-23T18:58:47.136Z"
   },
   {
    "duration": 275,
    "start_time": "2022-02-23T19:38:09.653Z"
   },
   {
    "duration": 295,
    "start_time": "2022-02-23T19:39:30.733Z"
   },
   {
    "duration": 6,
    "start_time": "2022-02-23T19:41:10.748Z"
   },
   {
    "duration": 21,
    "start_time": "2022-02-23T19:41:11.956Z"
   },
   {
    "duration": 29,
    "start_time": "2022-02-23T19:41:12.262Z"
   },
   {
    "duration": 20,
    "start_time": "2022-02-23T19:41:12.884Z"
   },
   {
    "duration": 79,
    "start_time": "2022-02-23T19:41:13.130Z"
   },
   {
    "duration": 11,
    "start_time": "2022-02-23T19:41:13.892Z"
   },
   {
    "duration": 10,
    "start_time": "2022-02-23T19:41:14.070Z"
   },
   {
    "duration": 12,
    "start_time": "2022-02-23T19:41:14.292Z"
   },
   {
    "duration": 290,
    "start_time": "2022-02-23T19:41:14.940Z"
   },
   {
    "duration": 268,
    "start_time": "2022-02-23T19:42:07.564Z"
   },
   {
    "duration": 272,
    "start_time": "2022-02-23T19:42:22.436Z"
   },
   {
    "duration": 297,
    "start_time": "2022-02-23T19:43:07.667Z"
   },
   {
    "duration": 274,
    "start_time": "2022-02-23T19:43:11.884Z"
   },
   {
    "duration": 7471,
    "start_time": "2022-02-23T19:46:12.111Z"
   },
   {
    "duration": 7054,
    "start_time": "2022-02-23T19:46:43.866Z"
   },
   {
    "duration": 6666,
    "start_time": "2022-02-23T19:47:01.643Z"
   },
   {
    "duration": 10809,
    "start_time": "2022-02-23T19:48:31.047Z"
   },
   {
    "duration": 10136,
    "start_time": "2022-02-23T19:48:46.323Z"
   },
   {
    "duration": 99,
    "start_time": "2022-02-23T19:49:30.564Z"
   },
   {
    "duration": 5171,
    "start_time": "2022-02-23T19:49:31.794Z"
   },
   {
    "duration": 4533,
    "start_time": "2022-02-23T19:49:59.434Z"
   },
   {
    "duration": 636,
    "start_time": "2022-02-23T19:55:56.048Z"
   },
   {
    "duration": 4465,
    "start_time": "2022-02-23T19:56:00.864Z"
   },
   {
    "duration": 4487,
    "start_time": "2022-02-23T19:58:18.450Z"
   },
   {
    "duration": 10,
    "start_time": "2022-02-23T19:58:58.655Z"
   },
   {
    "duration": 483,
    "start_time": "2022-02-23T20:09:58.685Z"
   },
   {
    "duration": 274,
    "start_time": "2022-02-23T20:10:12.612Z"
   },
   {
    "duration": 4358,
    "start_time": "2022-02-23T20:10:15.603Z"
   },
   {
    "duration": 5293,
    "start_time": "2022-02-23T20:10:27.449Z"
   },
   {
    "duration": 86,
    "start_time": "2022-02-23T20:10:56.916Z"
   },
   {
    "duration": 10322,
    "start_time": "2022-02-23T20:11:00.764Z"
   },
   {
    "duration": 94,
    "start_time": "2022-02-23T20:31:07.983Z"
   },
   {
    "duration": 93,
    "start_time": "2022-02-23T20:31:15.591Z"
   },
   {
    "duration": 746,
    "start_time": "2022-02-23T20:44:49.516Z"
   },
   {
    "duration": 222096,
    "start_time": "2022-02-23T20:45:09.931Z"
   },
   {
    "duration": -586,
    "start_time": "2022-02-24T17:42:07.496Z"
   },
   {
    "duration": -585,
    "start_time": "2022-02-24T17:42:07.497Z"
   },
   {
    "duration": -599,
    "start_time": "2022-02-24T17:42:07.513Z"
   },
   {
    "duration": -599,
    "start_time": "2022-02-24T17:42:07.514Z"
   },
   {
    "duration": -598,
    "start_time": "2022-02-24T17:42:07.515Z"
   },
   {
    "duration": -598,
    "start_time": "2022-02-24T17:42:07.516Z"
   },
   {
    "duration": -597,
    "start_time": "2022-02-24T17:42:07.516Z"
   },
   {
    "duration": -596,
    "start_time": "2022-02-24T17:42:07.517Z"
   },
   {
    "duration": -596,
    "start_time": "2022-02-24T17:42:07.518Z"
   },
   {
    "duration": -600,
    "start_time": "2022-02-24T17:42:07.523Z"
   },
   {
    "duration": -600,
    "start_time": "2022-02-24T17:42:07.524Z"
   },
   {
    "duration": 2950,
    "start_time": "2022-02-24T17:42:29.459Z"
   },
   {
    "duration": 24,
    "start_time": "2022-02-24T17:42:32.411Z"
   },
   {
    "duration": 33,
    "start_time": "2022-02-24T17:42:32.438Z"
   },
   {
    "duration": 31,
    "start_time": "2022-02-24T17:42:32.474Z"
   },
   {
    "duration": 93,
    "start_time": "2022-02-24T17:42:32.507Z"
   },
   {
    "duration": 9,
    "start_time": "2022-02-24T17:42:32.602Z"
   },
   {
    "duration": 9,
    "start_time": "2022-02-24T17:42:32.614Z"
   },
   {
    "duration": 12,
    "start_time": "2022-02-24T17:42:32.626Z"
   },
   {
    "duration": 88,
    "start_time": "2022-02-24T17:42:32.641Z"
   },
   {
    "duration": -220,
    "start_time": "2022-02-24T17:42:32.951Z"
   },
   {
    "duration": -219,
    "start_time": "2022-02-24T17:42:32.952Z"
   },
   {
    "duration": 93,
    "start_time": "2022-02-24T17:51:10.696Z"
   },
   {
    "duration": 2092,
    "start_time": "2022-02-24T17:51:21.175Z"
   },
   {
    "duration": 103,
    "start_time": "2022-02-24T17:51:44.575Z"
   },
   {
    "duration": 5024,
    "start_time": "2022-02-24T17:52:57.470Z"
   },
   {
    "duration": 7281,
    "start_time": "2022-02-24T17:53:16.238Z"
   },
   {
    "duration": 306,
    "start_time": "2022-02-24T17:53:34.902Z"
   },
   {
    "duration": 304,
    "start_time": "2022-02-24T17:54:31.566Z"
   },
   {
    "duration": 5154,
    "start_time": "2022-02-24T17:54:41.430Z"
   },
   {
    "duration": 345,
    "start_time": "2022-02-24T18:11:20.473Z"
   },
   {
    "duration": 7883,
    "start_time": "2022-02-24T18:11:41.106Z"
   },
   {
    "duration": 5157,
    "start_time": "2022-02-24T18:12:03.539Z"
   },
   {
    "duration": 6564,
    "start_time": "2022-02-24T18:13:54.864Z"
   },
   {
    "duration": 397,
    "start_time": "2022-02-24T18:19:22.519Z"
   },
   {
    "duration": 294,
    "start_time": "2022-02-24T18:19:33.143Z"
   },
   {
    "duration": 271,
    "start_time": "2022-02-24T18:19:53.502Z"
   },
   {
    "duration": 281,
    "start_time": "2022-02-24T18:19:58.423Z"
   },
   {
    "duration": 285,
    "start_time": "2022-02-24T18:23:22.589Z"
   },
   {
    "duration": 4466,
    "start_time": "2022-02-24T18:23:36.629Z"
   },
   {
    "duration": 1958,
    "start_time": "2022-02-24T18:23:54.925Z"
   },
   {
    "duration": 28,
    "start_time": "2022-02-24T18:23:56.885Z"
   },
   {
    "duration": 36,
    "start_time": "2022-02-24T18:23:56.917Z"
   },
   {
    "duration": 38,
    "start_time": "2022-02-24T18:23:56.956Z"
   },
   {
    "duration": 70,
    "start_time": "2022-02-24T18:23:56.996Z"
   },
   {
    "duration": 28,
    "start_time": "2022-02-24T18:23:57.068Z"
   },
   {
    "duration": 10,
    "start_time": "2022-02-24T18:23:57.098Z"
   },
   {
    "duration": 12,
    "start_time": "2022-02-24T18:23:57.111Z"
   },
   {
    "duration": 498,
    "start_time": "2022-02-24T18:23:57.126Z"
   },
   {
    "duration": -254,
    "start_time": "2022-02-24T18:23:57.882Z"
   },
   {
    "duration": 6614,
    "start_time": "2022-02-24T18:24:11.053Z"
   },
   {
    "duration": 5474,
    "start_time": "2022-02-24T18:24:35.773Z"
   },
   {
    "duration": 5828,
    "start_time": "2022-02-24T18:47:06.454Z"
   },
   {
    "duration": 6047,
    "start_time": "2022-02-24T18:48:15.405Z"
   },
   {
    "duration": 2148,
    "start_time": "2022-02-24T18:50:06.716Z"
   },
   {
    "duration": 2006,
    "start_time": "2022-02-24T18:50:37.101Z"
   },
   {
    "duration": 2054,
    "start_time": "2022-02-24T18:55:42.243Z"
   },
   {
    "duration": 2242,
    "start_time": "2022-02-24T18:57:03.588Z"
   },
   {
    "duration": 2003,
    "start_time": "2022-02-24T18:57:13.492Z"
   },
   {
    "duration": 2011,
    "start_time": "2022-02-24T18:57:30.019Z"
   },
   {
    "duration": 2034,
    "start_time": "2022-02-24T19:03:43.217Z"
   },
   {
    "duration": 2381,
    "start_time": "2022-02-24T19:03:53.145Z"
   },
   {
    "duration": 2029,
    "start_time": "2022-02-24T19:04:06.568Z"
   },
   {
    "duration": 1988,
    "start_time": "2022-02-24T19:04:14.547Z"
   },
   {
    "duration": 28,
    "start_time": "2022-02-24T19:07:46.056Z"
   },
   {
    "duration": 284,
    "start_time": "2022-02-24T19:08:57.776Z"
   },
   {
    "duration": 2258,
    "start_time": "2022-02-24T19:09:11.483Z"
   },
   {
    "duration": 31,
    "start_time": "2022-02-24T19:27:35.490Z"
   },
   {
    "duration": 277,
    "start_time": "2022-02-24T19:32:37.238Z"
   },
   {
    "duration": 125,
    "start_time": "2022-02-24T19:33:04.456Z"
   },
   {
    "duration": 110,
    "start_time": "2022-02-24T19:33:09.440Z"
   },
   {
    "duration": 9,
    "start_time": "2022-02-24T19:33:15.754Z"
   },
   {
    "duration": 9,
    "start_time": "2022-02-24T19:36:14.288Z"
   },
   {
    "duration": 7,
    "start_time": "2022-02-24T19:40:50.854Z"
   },
   {
    "duration": 187,
    "start_time": "2022-02-24T19:46:51.413Z"
   },
   {
    "duration": 51,
    "start_time": "2022-02-24T19:48:04.014Z"
   },
   {
    "duration": 303,
    "start_time": "2022-02-24T20:07:03.256Z"
   },
   {
    "duration": 5,
    "start_time": "2022-02-24T20:14:03.863Z"
   },
   {
    "duration": 276,
    "start_time": "2022-02-24T20:14:08.558Z"
   },
   {
    "duration": 463,
    "start_time": "2022-02-24T20:14:12.974Z"
   },
   {
    "duration": 55,
    "start_time": "2022-02-24T20:14:29.407Z"
   },
   {
    "duration": 467,
    "start_time": "2022-02-24T20:14:30.590Z"
   },
   {
    "duration": 50,
    "start_time": "2022-02-24T20:14:43.174Z"
   },
   {
    "duration": 469,
    "start_time": "2022-02-24T20:14:44.510Z"
   },
   {
    "duration": 294,
    "start_time": "2022-02-24T20:14:52.622Z"
   },
   {
    "duration": 51,
    "start_time": "2022-02-24T20:14:59.854Z"
   },
   {
    "duration": 504,
    "start_time": "2022-02-24T20:15:00.629Z"
   },
   {
    "duration": 338,
    "start_time": "2022-02-27T16:10:54.914Z"
   },
   {
    "duration": 2177,
    "start_time": "2022-02-27T16:11:01.922Z"
   },
   {
    "duration": 51,
    "start_time": "2022-02-27T16:11:04.101Z"
   },
   {
    "duration": 36,
    "start_time": "2022-02-27T16:11:04.155Z"
   },
   {
    "duration": 29,
    "start_time": "2022-02-27T16:11:04.195Z"
   },
   {
    "duration": 89,
    "start_time": "2022-02-27T16:11:04.227Z"
   },
   {
    "duration": 9,
    "start_time": "2022-02-27T16:11:04.318Z"
   },
   {
    "duration": 32,
    "start_time": "2022-02-27T16:11:04.329Z"
   },
   {
    "duration": 38,
    "start_time": "2022-02-27T16:11:04.363Z"
   },
   {
    "duration": 577,
    "start_time": "2022-02-27T16:11:04.405Z"
   },
   {
    "duration": -183,
    "start_time": "2022-02-27T16:11:05.168Z"
   },
   {
    "duration": -182,
    "start_time": "2022-02-27T16:11:05.169Z"
   },
   {
    "duration": -181,
    "start_time": "2022-02-27T16:11:05.170Z"
   },
   {
    "duration": -180,
    "start_time": "2022-02-27T16:11:05.171Z"
   },
   {
    "duration": -183,
    "start_time": "2022-02-27T16:11:05.176Z"
   },
   {
    "duration": 92,
    "start_time": "2022-02-27T16:23:29.311Z"
   },
   {
    "duration": 283,
    "start_time": "2022-02-27T16:23:33.119Z"
   },
   {
    "duration": 9,
    "start_time": "2022-02-27T16:23:56.735Z"
   },
   {
    "duration": 53,
    "start_time": "2022-02-27T16:23:58.215Z"
   },
   {
    "duration": 535,
    "start_time": "2022-02-27T16:23:58.639Z"
   },
   {
    "duration": 75,
    "start_time": "2022-02-27T16:24:43.999Z"
   },
   {
    "duration": 457,
    "start_time": "2022-02-27T16:24:52.383Z"
   },
   {
    "duration": 52,
    "start_time": "2022-02-27T16:24:53.094Z"
   },
   {
    "duration": 53,
    "start_time": "2022-02-27T16:24:55.783Z"
   },
   {
    "duration": 54,
    "start_time": "2022-02-27T16:25:03.067Z"
   },
   {
    "duration": 567,
    "start_time": "2022-02-27T16:25:06.166Z"
   },
   {
    "duration": 271,
    "start_time": "2022-02-27T17:42:22.852Z"
   },
   {
    "duration": 87,
    "start_time": "2022-02-27T17:57:55.113Z"
   },
   {
    "duration": 5,
    "start_time": "2022-02-27T17:58:01.148Z"
   },
   {
    "duration": 287,
    "start_time": "2022-02-27T17:58:09.741Z"
   },
   {
    "duration": 55,
    "start_time": "2022-02-27T17:58:15.421Z"
   },
   {
    "duration": 466,
    "start_time": "2022-02-27T17:58:17.036Z"
   },
   {
    "duration": 4,
    "start_time": "2022-02-27T17:58:18.181Z"
   },
   {
    "duration": 2310,
    "start_time": "2022-02-27T17:58:18.564Z"
   },
   {
    "duration": 52,
    "start_time": "2022-02-27T17:59:24.325Z"
   },
   {
    "duration": 481,
    "start_time": "2022-02-27T17:59:24.892Z"
   },
   {
    "duration": 91,
    "start_time": "2022-02-27T17:59:25.383Z"
   },
   {
    "duration": 552,
    "start_time": "2022-02-27T17:59:25.724Z"
   },
   {
    "duration": 527,
    "start_time": "2022-02-27T17:59:38.452Z"
   },
   {
    "duration": 6,
    "start_time": "2022-02-27T18:22:52.373Z"
   },
   {
    "duration": 4,
    "start_time": "2022-02-27T18:22:56.829Z"
   },
   {
    "duration": 11,
    "start_time": "2022-02-27T18:22:57.525Z"
   },
   {
    "duration": 11,
    "start_time": "2022-02-27T18:23:12.157Z"
   },
   {
    "duration": 60,
    "start_time": "2022-02-27T18:23:58.133Z"
   },
   {
    "duration": 10,
    "start_time": "2022-02-27T18:24:03.525Z"
   },
   {
    "duration": 10,
    "start_time": "2022-02-27T18:24:04.324Z"
   },
   {
    "duration": 5,
    "start_time": "2022-02-27T18:29:29.652Z"
   },
   {
    "duration": 11,
    "start_time": "2022-02-27T18:29:30.194Z"
   },
   {
    "duration": 11,
    "start_time": "2022-02-27T18:29:30.979Z"
   },
   {
    "duration": 9,
    "start_time": "2022-02-27T18:29:52.627Z"
   },
   {
    "duration": 12,
    "start_time": "2022-02-27T18:29:54.442Z"
   },
   {
    "duration": 12,
    "start_time": "2022-02-27T18:30:08.130Z"
   },
   {
    "duration": 11,
    "start_time": "2022-02-27T18:30:12.091Z"
   },
   {
    "duration": 11,
    "start_time": "2022-02-27T18:30:15.075Z"
   },
   {
    "duration": 10,
    "start_time": "2022-02-27T18:30:16.754Z"
   },
   {
    "duration": 61,
    "start_time": "2022-02-27T18:30:46.955Z"
   },
   {
    "duration": 54,
    "start_time": "2022-02-27T18:31:41.998Z"
   },
   {
    "duration": 510,
    "start_time": "2022-02-27T18:31:43.042Z"
   },
   {
    "duration": 4,
    "start_time": "2022-02-27T18:31:45.666Z"
   },
   {
    "duration": 10,
    "start_time": "2022-02-27T18:31:46.235Z"
   },
   {
    "duration": 11,
    "start_time": "2022-02-27T18:31:46.690Z"
   },
   {
    "duration": 5,
    "start_time": "2022-02-27T18:37:24.414Z"
   },
   {
    "duration": 567,
    "start_time": "2022-02-27T18:37:24.858Z"
   },
   {
    "duration": 612,
    "start_time": "2022-02-27T18:37:25.560Z"
   },
   {
    "duration": 5,
    "start_time": "2022-02-27T18:38:16.921Z"
   },
   {
    "duration": 520,
    "start_time": "2022-02-27T18:38:17.648Z"
   },
   {
    "duration": 1018,
    "start_time": "2022-02-27T18:38:37.433Z"
   },
   {
    "duration": -225,
    "start_time": "2022-02-27T18:38:38.678Z"
   },
   {
    "duration": -230,
    "start_time": "2022-02-27T18:38:38.685Z"
   },
   {
    "duration": 5,
    "start_time": "2022-02-27T18:39:08.193Z"
   },
   {
    "duration": 523,
    "start_time": "2022-02-27T18:39:09.216Z"
   },
   {
    "duration": -222,
    "start_time": "2022-02-27T18:39:09.964Z"
   },
   {
    "duration": 4,
    "start_time": "2022-02-27T18:40:03.280Z"
   },
   {
    "duration": 12,
    "start_time": "2022-02-27T18:40:03.616Z"
   },
   {
    "duration": 10,
    "start_time": "2022-02-27T18:40:04.208Z"
   },
   {
    "duration": 297,
    "start_time": "2022-02-27T19:10:05.548Z"
   },
   {
    "duration": 7,
    "start_time": "2022-02-27T19:10:22.627Z"
   },
   {
    "duration": 8,
    "start_time": "2022-02-27T19:10:26.455Z"
   },
   {
    "duration": 88,
    "start_time": "2022-02-27T19:15:14.398Z"
   },
   {
    "duration": 83,
    "start_time": "2022-02-27T19:15:47.838Z"
   },
   {
    "duration": 146,
    "start_time": "2022-02-27T19:26:00.274Z"
   },
   {
    "duration": 96,
    "start_time": "2022-02-27T19:26:03.506Z"
   },
   {
    "duration": 97,
    "start_time": "2022-02-27T19:26:10.241Z"
   },
   {
    "duration": 275,
    "start_time": "2022-02-27T19:26:37.818Z"
   },
   {
    "duration": 93,
    "start_time": "2022-02-27T19:26:52.754Z"
   },
   {
    "duration": 4700,
    "start_time": "2022-02-27T19:27:06.811Z"
   },
   {
    "duration": 293,
    "start_time": "2022-02-27T19:30:37.753Z"
   },
   {
    "duration": 3005,
    "start_time": "2022-02-27T19:30:52.660Z"
   },
   {
    "duration": 32,
    "start_time": "2022-02-27T19:30:55.669Z"
   },
   {
    "duration": 40,
    "start_time": "2022-02-27T19:30:55.705Z"
   },
   {
    "duration": 36,
    "start_time": "2022-02-27T19:30:55.748Z"
   },
   {
    "duration": 95,
    "start_time": "2022-02-27T19:30:55.788Z"
   },
   {
    "duration": 12,
    "start_time": "2022-02-27T19:30:55.885Z"
   },
   {
    "duration": 11,
    "start_time": "2022-02-27T19:30:55.900Z"
   },
   {
    "duration": 13,
    "start_time": "2022-02-27T19:30:55.913Z"
   },
   {
    "duration": 5120,
    "start_time": "2022-02-27T19:30:55.929Z"
   },
   {
    "duration": 6048,
    "start_time": "2022-02-27T19:31:01.052Z"
   },
   {
    "duration": 5924,
    "start_time": "2022-02-27T19:31:07.103Z"
   },
   {
    "duration": 2199,
    "start_time": "2022-02-27T19:31:13.030Z"
   },
   {
    "duration": 12,
    "start_time": "2022-02-27T19:31:15.232Z"
   },
   {
    "duration": 131,
    "start_time": "2022-02-27T19:31:15.247Z"
   },
   {
    "duration": 582,
    "start_time": "2022-02-27T19:31:15.382Z"
   },
   {
    "duration": 10,
    "start_time": "2022-02-27T19:31:15.966Z"
   },
   {
    "duration": 17,
    "start_time": "2022-02-27T19:31:15.978Z"
   },
   {
    "duration": 9,
    "start_time": "2022-02-27T19:31:15.997Z"
   },
   {
    "duration": 8,
    "start_time": "2022-02-27T19:31:16.009Z"
   },
   {
    "duration": 7,
    "start_time": "2022-02-27T20:00:33.030Z"
   },
   {
    "duration": 782,
    "start_time": "2022-02-27T20:00:53.398Z"
   },
   {
    "duration": 142675,
    "start_time": "2022-02-27T20:01:05.303Z"
   },
   {
    "duration": 502,
    "start_time": "2022-02-27T20:20:49.689Z"
   },
   {
    "duration": 23,
    "start_time": "2022-02-27T20:21:06.416Z"
   },
   {
    "duration": 3,
    "start_time": "2022-02-27T20:21:10.035Z"
   },
   {
    "duration": 320,
    "start_time": "2022-02-27T20:25:18.719Z"
   },
   {
    "duration": -260,
    "start_time": "2022-02-27T20:25:19.302Z"
   },
   {
    "duration": 1922,
    "start_time": "2022-02-27T20:25:33.758Z"
   },
   {
    "duration": 27,
    "start_time": "2022-02-27T20:25:35.682Z"
   },
   {
    "duration": 8,
    "start_time": "2022-02-27T20:30:34.438Z"
   },
   {
    "duration": 1862,
    "start_time": "2022-02-27T20:30:36.213Z"
   },
   {
    "duration": 28,
    "start_time": "2022-02-27T20:30:38.078Z"
   },
   {
    "duration": 26,
    "start_time": "2022-02-27T21:00:45.910Z"
   },
   {
    "duration": 6368,
    "start_time": "2022-02-27T21:02:48.420Z"
   },
   {
    "duration": 282,
    "start_time": "2022-02-27T21:03:54.660Z"
   },
   {
    "duration": -280,
    "start_time": "2022-02-27T21:07:01.440Z"
   },
   {
    "duration": 2161,
    "start_time": "2022-02-27T21:07:04.955Z"
   },
   {
    "duration": 24,
    "start_time": "2022-02-27T21:07:07.119Z"
   },
   {
    "duration": 36,
    "start_time": "2022-02-27T21:07:07.146Z"
   },
   {
    "duration": 17,
    "start_time": "2022-02-27T21:07:07.185Z"
   },
   {
    "duration": 103,
    "start_time": "2022-02-27T21:07:07.204Z"
   },
   {
    "duration": 10,
    "start_time": "2022-02-27T21:07:07.309Z"
   },
   {
    "duration": 11,
    "start_time": "2022-02-27T21:07:07.322Z"
   },
   {
    "duration": 43,
    "start_time": "2022-02-27T21:07:07.335Z"
   },
   {
    "duration": 3393,
    "start_time": "2022-02-27T21:07:07.382Z"
   },
   {
    "duration": 6301,
    "start_time": "2022-02-27T21:07:10.779Z"
   },
   {
    "duration": 5805,
    "start_time": "2022-02-27T21:07:17.082Z"
   },
   {
    "duration": 2484,
    "start_time": "2022-02-27T21:07:22.890Z"
   },
   {
    "duration": 13,
    "start_time": "2022-02-27T21:07:25.377Z"
   },
   {
    "duration": 82,
    "start_time": "2022-02-27T21:07:25.392Z"
   },
   {
    "duration": 607,
    "start_time": "2022-02-27T21:07:25.478Z"
   },
   {
    "duration": 5,
    "start_time": "2022-02-27T21:07:26.088Z"
   },
   {
    "duration": 14,
    "start_time": "2022-02-27T21:07:26.096Z"
   },
   {
    "duration": 9,
    "start_time": "2022-02-27T21:07:26.113Z"
   },
   {
    "duration": 11,
    "start_time": "2022-02-27T21:07:26.125Z"
   },
   {
    "duration": 824,
    "start_time": "2022-02-27T21:07:26.139Z"
   },
   {
    "duration": 143111,
    "start_time": "2022-02-27T21:07:26.965Z"
   },
   {
    "duration": 8,
    "start_time": "2022-02-27T21:09:50.078Z"
   },
   {
    "duration": 1694,
    "start_time": "2022-02-27T21:09:50.088Z"
   },
   {
    "duration": 27,
    "start_time": "2022-02-27T21:09:51.875Z"
   },
   {
    "duration": -312,
    "start_time": "2022-02-27T21:14:51.354Z"
   },
   {
    "duration": 2113,
    "start_time": "2022-02-27T21:14:54.773Z"
   },
   {
    "duration": 20,
    "start_time": "2022-02-27T21:14:56.889Z"
   },
   {
    "duration": 33,
    "start_time": "2022-02-27T21:14:56.912Z"
   },
   {
    "duration": 39,
    "start_time": "2022-02-27T21:14:56.948Z"
   },
   {
    "duration": 91,
    "start_time": "2022-02-27T21:14:56.990Z"
   },
   {
    "duration": 10,
    "start_time": "2022-02-27T21:14:57.084Z"
   },
   {
    "duration": 10,
    "start_time": "2022-02-27T21:14:57.097Z"
   },
   {
    "duration": 14,
    "start_time": "2022-02-27T21:14:57.109Z"
   },
   {
    "duration": 3602,
    "start_time": "2022-02-27T21:14:57.127Z"
   },
   {
    "duration": 5999,
    "start_time": "2022-02-27T21:15:00.733Z"
   },
   {
    "duration": 5830,
    "start_time": "2022-02-27T21:15:06.734Z"
   },
   {
    "duration": 2071,
    "start_time": "2022-02-27T21:15:12.566Z"
   },
   {
    "duration": 10,
    "start_time": "2022-02-27T21:15:14.639Z"
   },
   {
    "duration": 70,
    "start_time": "2022-02-27T21:15:14.651Z"
   },
   {
    "duration": 649,
    "start_time": "2022-02-27T21:15:14.724Z"
   },
   {
    "duration": 5,
    "start_time": "2022-02-27T21:15:15.375Z"
   },
   {
    "duration": 13,
    "start_time": "2022-02-27T21:15:15.382Z"
   },
   {
    "duration": 8,
    "start_time": "2022-02-27T21:15:15.397Z"
   },
   {
    "duration": 12,
    "start_time": "2022-02-27T21:15:15.407Z"
   },
   {
    "duration": 833,
    "start_time": "2022-02-27T21:15:15.421Z"
   },
   {
    "duration": 142447,
    "start_time": "2022-02-27T21:15:16.257Z"
   },
   {
    "duration": 8,
    "start_time": "2022-02-27T21:17:38.706Z"
   },
   {
    "duration": 1969,
    "start_time": "2022-02-27T21:17:38.717Z"
   },
   {
    "duration": 30,
    "start_time": "2022-02-27T21:17:40.688Z"
   },
   {
    "duration": 516,
    "start_time": "2022-02-27T21:17:40.721Z"
   },
   {
    "duration": 313,
    "start_time": "2022-02-28T20:00:59.537Z"
   },
   {
    "duration": 6,
    "start_time": "2022-02-28T20:01:00.551Z"
   },
   {
    "duration": 178,
    "start_time": "2022-02-28T20:01:01.200Z"
   },
   {
    "duration": 207,
    "start_time": "2022-02-28T20:01:01.447Z"
   },
   {
    "duration": 266,
    "start_time": "2022-02-28T20:29:58.767Z"
   },
   {
    "duration": 181,
    "start_time": "2022-02-28T20:29:59.357Z"
   },
   {
    "duration": 186,
    "start_time": "2022-02-28T20:30:32.950Z"
   },
   {
    "duration": 183,
    "start_time": "2022-02-28T20:31:47.454Z"
   },
   {
    "duration": 178,
    "start_time": "2022-02-28T20:42:46.855Z"
   },
   {
    "duration": 188,
    "start_time": "2022-02-28T20:42:49.810Z"
   },
   {
    "duration": 2111,
    "start_time": "2022-02-28T20:43:05.743Z"
   },
   {
    "duration": 26,
    "start_time": "2022-02-28T20:43:07.857Z"
   },
   {
    "duration": 31,
    "start_time": "2022-02-28T20:43:07.886Z"
   },
   {
    "duration": 17,
    "start_time": "2022-02-28T20:43:07.920Z"
   },
   {
    "duration": 104,
    "start_time": "2022-02-28T20:43:07.940Z"
   },
   {
    "duration": 10,
    "start_time": "2022-02-28T20:43:08.046Z"
   },
   {
    "duration": 32,
    "start_time": "2022-02-28T20:43:08.058Z"
   },
   {
    "duration": 13,
    "start_time": "2022-02-28T20:43:08.093Z"
   },
   {
    "duration": 4240,
    "start_time": "2022-02-28T20:43:08.111Z"
   },
   {
    "duration": 373,
    "start_time": "2022-02-28T20:43:12.355Z"
   },
   {
    "duration": -281,
    "start_time": "2022-02-28T20:43:13.012Z"
   },
   {
    "duration": -279,
    "start_time": "2022-02-28T20:43:13.013Z"
   },
   {
    "duration": -280,
    "start_time": "2022-02-28T20:43:13.016Z"
   },
   {
    "duration": -282,
    "start_time": "2022-02-28T20:43:13.020Z"
   },
   {
    "duration": -281,
    "start_time": "2022-02-28T20:43:13.022Z"
   },
   {
    "duration": -288,
    "start_time": "2022-02-28T20:43:13.031Z"
   },
   {
    "duration": -288,
    "start_time": "2022-02-28T20:43:13.033Z"
   },
   {
    "duration": -307,
    "start_time": "2022-02-28T20:43:13.054Z"
   },
   {
    "duration": -309,
    "start_time": "2022-02-28T20:43:13.058Z"
   },
   {
    "duration": -307,
    "start_time": "2022-02-28T20:43:13.059Z"
   },
   {
    "duration": -307,
    "start_time": "2022-02-28T20:43:13.061Z"
   },
   {
    "duration": -309,
    "start_time": "2022-02-28T20:43:13.065Z"
   },
   {
    "duration": -311,
    "start_time": "2022-02-28T20:43:13.069Z"
   },
   {
    "duration": -311,
    "start_time": "2022-02-28T20:43:13.071Z"
   },
   {
    "duration": -312,
    "start_time": "2022-02-28T20:43:13.075Z"
   },
   {
    "duration": -314,
    "start_time": "2022-02-28T20:43:13.079Z"
   },
   {
    "duration": -298,
    "start_time": "2022-02-28T20:43:13.080Z"
   },
   {
    "duration": 189,
    "start_time": "2022-02-28T20:50:43.768Z"
   },
   {
    "duration": 194,
    "start_time": "2022-02-28T20:50:58.448Z"
   },
   {
    "duration": 198,
    "start_time": "2022-02-28T20:51:08.144Z"
   },
   {
    "duration": 245,
    "start_time": "2022-02-28T20:51:15.552Z"
   },
   {
    "duration": 9,
    "start_time": "2022-02-28T20:51:18.432Z"
   },
   {
    "duration": 2018,
    "start_time": "2022-02-28T20:51:19.975Z"
   },
   {
    "duration": 29,
    "start_time": "2022-02-28T20:51:21.996Z"
   },
   {
    "duration": 5,
    "start_time": "2022-02-28T20:51:26.025Z"
   },
   {
    "duration": 587,
    "start_time": "2022-02-28T20:51:28.232Z"
   },
   {
    "duration": 1116,
    "start_time": "2022-02-28T20:51:46.352Z"
   },
   {
    "duration": 4686,
    "start_time": "2022-02-28T20:58:35.383Z"
   },
   {
    "duration": 916,
    "start_time": "2022-02-28T20:59:06.518Z"
   },
   {
    "duration": 28,
    "start_time": "2022-03-01T19:06:43.287Z"
   },
   {
    "duration": 1539,
    "start_time": "2022-03-04T07:24:54.283Z"
   },
   {
    "duration": 34,
    "start_time": "2022-03-04T07:24:55.824Z"
   },
   {
    "duration": 19,
    "start_time": "2022-03-04T07:24:55.860Z"
   },
   {
    "duration": 11,
    "start_time": "2022-03-04T07:24:55.881Z"
   },
   {
    "duration": 42,
    "start_time": "2022-03-04T07:24:55.894Z"
   },
   {
    "duration": 7,
    "start_time": "2022-03-04T07:24:55.938Z"
   },
   {
    "duration": 8,
    "start_time": "2022-03-04T07:24:55.947Z"
   },
   {
    "duration": 46,
    "start_time": "2022-03-04T07:24:55.958Z"
   },
   {
    "duration": 3737,
    "start_time": "2022-03-04T07:24:56.006Z"
   },
   {
    "duration": 383,
    "start_time": "2022-03-04T07:24:59.746Z"
   },
   {
    "duration": -48,
    "start_time": "2022-03-04T07:25:00.179Z"
   },
   {
    "duration": -59,
    "start_time": "2022-03-04T07:25:00.191Z"
   },
   {
    "duration": -61,
    "start_time": "2022-03-04T07:25:00.194Z"
   },
   {
    "duration": -62,
    "start_time": "2022-03-04T07:25:00.197Z"
   },
   {
    "duration": -66,
    "start_time": "2022-03-04T07:25:00.201Z"
   },
   {
    "duration": -68,
    "start_time": "2022-03-04T07:25:00.204Z"
   },
   {
    "duration": -71,
    "start_time": "2022-03-04T07:25:00.208Z"
   },
   {
    "duration": -78,
    "start_time": "2022-03-04T07:25:00.216Z"
   },
   {
    "duration": -82,
    "start_time": "2022-03-04T07:25:00.221Z"
   },
   {
    "duration": -84,
    "start_time": "2022-03-04T07:25:00.224Z"
   },
   {
    "duration": -86,
    "start_time": "2022-03-04T07:25:00.227Z"
   },
   {
    "duration": -88,
    "start_time": "2022-03-04T07:25:00.230Z"
   },
   {
    "duration": -91,
    "start_time": "2022-03-04T07:25:00.233Z"
   },
   {
    "duration": -93,
    "start_time": "2022-03-04T07:25:00.236Z"
   },
   {
    "duration": -94,
    "start_time": "2022-03-04T07:25:00.238Z"
   },
   {
    "duration": -96,
    "start_time": "2022-03-04T07:25:00.241Z"
   },
   {
    "duration": -98,
    "start_time": "2022-03-04T07:25:00.244Z"
   },
   {
    "duration": 1479,
    "start_time": "2022-03-04T08:24:17.480Z"
   },
   {
    "duration": 31,
    "start_time": "2022-03-04T08:24:18.961Z"
   },
   {
    "duration": 18,
    "start_time": "2022-03-04T08:24:18.994Z"
   },
   {
    "duration": 10,
    "start_time": "2022-03-04T08:24:19.013Z"
   },
   {
    "duration": 37,
    "start_time": "2022-03-04T08:24:19.024Z"
   },
   {
    "duration": 5,
    "start_time": "2022-03-04T08:24:19.063Z"
   },
   {
    "duration": 6,
    "start_time": "2022-03-04T08:24:19.069Z"
   },
   {
    "duration": 32,
    "start_time": "2022-03-04T08:24:19.076Z"
   },
   {
    "duration": 2304,
    "start_time": "2022-03-04T08:24:19.110Z"
   },
   {
    "duration": 3141,
    "start_time": "2022-03-04T08:24:21.416Z"
   },
   {
    "duration": 3206,
    "start_time": "2022-03-04T08:24:24.559Z"
   },
   {
    "duration": 1235,
    "start_time": "2022-03-04T08:24:27.767Z"
   },
   {
    "duration": 7,
    "start_time": "2022-03-04T08:24:29.003Z"
   },
   {
    "duration": 25,
    "start_time": "2022-03-04T08:24:29.012Z"
   },
   {
    "duration": 469,
    "start_time": "2022-03-04T08:24:29.039Z"
   },
   {
    "duration": 3,
    "start_time": "2022-03-04T08:24:29.509Z"
   },
   {
    "duration": 7,
    "start_time": "2022-03-04T08:24:29.514Z"
   },
   {
    "duration": 5,
    "start_time": "2022-03-04T08:24:29.523Z"
   },
   {
    "duration": 5,
    "start_time": "2022-03-04T08:24:29.530Z"
   },
   {
    "duration": 558,
    "start_time": "2022-03-04T08:24:29.536Z"
   },
   {
    "duration": 74449,
    "start_time": "2022-03-04T08:24:30.095Z"
   },
   {
    "duration": 5,
    "start_time": "2022-03-04T08:25:44.546Z"
   },
   {
    "duration": 1357,
    "start_time": "2022-03-04T08:25:44.553Z"
   },
   {
    "duration": 16,
    "start_time": "2022-03-04T08:25:46.002Z"
   },
   {
    "duration": 3,
    "start_time": "2022-03-04T08:25:46.019Z"
   },
   {
    "duration": 611,
    "start_time": "2022-03-04T08:25:46.024Z"
   },
   {
    "duration": 567,
    "start_time": "2022-03-04T08:25:46.638Z"
   },
   {
    "duration": 282,
    "start_time": "2022-03-04T20:08:56.895Z"
   },
   {
    "duration": 1835,
    "start_time": "2022-03-04T20:09:03.477Z"
   },
   {
    "duration": 1532,
    "start_time": "2022-03-04T20:09:31.126Z"
   },
   {
    "duration": 315595,
    "start_time": "2022-03-04T20:29:49.792Z"
   },
   {
    "duration": 400,
    "start_time": "2022-03-04T21:00:51.396Z"
   },
   {
    "duration": 388,
    "start_time": "2022-03-04T21:01:14.922Z"
   },
   {
    "duration": 1496,
    "start_time": "2022-03-04T21:04:22.407Z"
   },
   {
    "duration": 21,
    "start_time": "2022-03-04T21:04:23.905Z"
   },
   {
    "duration": 19,
    "start_time": "2022-03-04T21:04:23.927Z"
   },
   {
    "duration": 9,
    "start_time": "2022-03-04T21:04:23.947Z"
   },
   {
    "duration": 58,
    "start_time": "2022-03-04T21:04:23.958Z"
   },
   {
    "duration": 5,
    "start_time": "2022-03-04T21:04:24.018Z"
   },
   {
    "duration": 7,
    "start_time": "2022-03-04T21:04:24.024Z"
   },
   {
    "duration": 7,
    "start_time": "2022-03-04T21:04:24.033Z"
   },
   {
    "duration": 495,
    "start_time": "2022-03-04T21:04:24.042Z"
   },
   {
    "duration": -1256,
    "start_time": "2022-03-04T21:04:25.794Z"
   },
   {
    "duration": -1257,
    "start_time": "2022-03-04T21:04:25.796Z"
   },
   {
    "duration": -1262,
    "start_time": "2022-03-04T21:04:25.802Z"
   },
   {
    "duration": -1263,
    "start_time": "2022-03-04T21:04:25.804Z"
   },
   {
    "duration": -1265,
    "start_time": "2022-03-04T21:04:25.806Z"
   },
   {
    "duration": -1268,
    "start_time": "2022-03-04T21:04:25.810Z"
   },
   {
    "duration": -1271,
    "start_time": "2022-03-04T21:04:25.814Z"
   },
   {
    "duration": -1275,
    "start_time": "2022-03-04T21:04:25.819Z"
   },
   {
    "duration": -1283,
    "start_time": "2022-03-04T21:04:25.827Z"
   },
   {
    "duration": -1289,
    "start_time": "2022-03-04T21:04:25.834Z"
   },
   {
    "duration": -1307,
    "start_time": "2022-03-04T21:04:25.853Z"
   },
   {
    "duration": -1336,
    "start_time": "2022-03-04T21:04:25.883Z"
   },
   {
    "duration": -1358,
    "start_time": "2022-03-04T21:04:25.906Z"
   },
   {
    "duration": -1392,
    "start_time": "2022-03-04T21:04:25.940Z"
   },
   {
    "duration": -1408,
    "start_time": "2022-03-04T21:04:25.957Z"
   },
   {
    "duration": 8170,
    "start_time": "2022-03-04T21:04:53.402Z"
   },
   {
    "duration": 4225,
    "start_time": "2022-03-04T21:06:36.311Z"
   },
   {
    "duration": 5,
    "start_time": "2022-03-05T06:13:18.068Z"
   },
   {
    "duration": 40,
    "start_time": "2022-03-05T06:13:18.074Z"
   },
   {
    "duration": 15,
    "start_time": "2022-03-05T06:13:18.116Z"
   },
   {
    "duration": 9,
    "start_time": "2022-03-05T06:13:18.133Z"
   },
   {
    "duration": 60,
    "start_time": "2022-03-05T06:13:18.144Z"
   },
   {
    "duration": 6,
    "start_time": "2022-03-05T06:13:18.206Z"
   },
   {
    "duration": 11,
    "start_time": "2022-03-05T06:13:18.214Z"
   },
   {
    "duration": 7,
    "start_time": "2022-03-05T06:13:18.227Z"
   },
   {
    "duration": 4256,
    "start_time": "2022-03-05T06:13:18.236Z"
   },
   {
    "duration": 3152,
    "start_time": "2022-03-05T06:13:22.494Z"
   },
   {
    "duration": 899,
    "start_time": "2022-03-05T06:13:25.647Z"
   },
   {
    "duration": 6,
    "start_time": "2022-03-05T06:13:26.548Z"
   },
   {
    "duration": 47,
    "start_time": "2022-03-05T06:13:26.556Z"
   },
   {
    "duration": 586,
    "start_time": "2022-03-05T06:13:26.605Z"
   },
   {
    "duration": 3,
    "start_time": "2022-03-05T06:13:27.193Z"
   },
   {
    "duration": 9,
    "start_time": "2022-03-05T06:13:27.197Z"
   },
   {
    "duration": 6,
    "start_time": "2022-03-05T06:13:27.207Z"
   },
   {
    "duration": 5,
    "start_time": "2022-03-05T06:13:27.215Z"
   },
   {
    "duration": 573,
    "start_time": "2022-03-05T06:13:27.221Z"
   },
   {
    "duration": 73693,
    "start_time": "2022-03-05T06:13:27.796Z"
   },
   {
    "duration": 11,
    "start_time": "2022-03-05T06:14:41.490Z"
   },
   {
    "duration": 1408,
    "start_time": "2022-03-05T06:14:41.502Z"
   },
   {
    "duration": 16,
    "start_time": "2022-03-05T06:14:43.003Z"
   },
   {
    "duration": 313026,
    "start_time": "2022-03-05T06:14:43.021Z"
   },
   {
    "duration": 3562,
    "start_time": "2022-03-05T06:20:02.402Z"
   },
   {
    "duration": 518,
    "start_time": "2022-03-05T06:24:41.302Z"
   },
   {
    "duration": 524,
    "start_time": "2022-03-05T06:24:58.094Z"
   },
   {
    "duration": 3575,
    "start_time": "2022-03-05T06:26:36.037Z"
   },
   {
    "duration": 5865,
    "start_time": "2022-03-05T06:27:01.447Z"
   },
   {
    "duration": 5244,
    "start_time": "2022-03-05T06:27:31.069Z"
   },
   {
    "duration": 18,
    "start_time": "2022-03-05T06:42:01.434Z"
   },
   {
    "duration": 3,
    "start_time": "2022-03-05T06:43:07.623Z"
   },
   {
    "duration": 3,
    "start_time": "2022-03-05T06:43:34.318Z"
   },
   {
    "duration": 6111,
    "start_time": "2022-03-05T06:43:35.305Z"
   },
   {
    "duration": -22,
    "start_time": "2022-03-05T06:43:41.440Z"
   },
   {
    "duration": 1475,
    "start_time": "2022-03-05T06:43:46.005Z"
   },
   {
    "duration": 32,
    "start_time": "2022-03-05T06:43:47.484Z"
   },
   {
    "duration": 17,
    "start_time": "2022-03-05T06:43:47.518Z"
   },
   {
    "duration": 16,
    "start_time": "2022-03-05T06:43:47.537Z"
   },
   {
    "duration": 58,
    "start_time": "2022-03-05T06:43:47.554Z"
   },
   {
    "duration": 2,
    "start_time": "2022-03-05T06:43:47.614Z"
   },
   {
    "duration": 6350,
    "start_time": "2022-03-05T06:43:47.618Z"
   },
   {
    "duration": -29,
    "start_time": "2022-03-05T06:43:53.999Z"
   },
   {
    "duration": -33,
    "start_time": "2022-03-05T06:43:54.004Z"
   },
   {
    "duration": -36,
    "start_time": "2022-03-05T06:43:54.007Z"
   },
   {
    "duration": -39,
    "start_time": "2022-03-05T06:43:54.011Z"
   },
   {
    "duration": -41,
    "start_time": "2022-03-05T06:43:54.014Z"
   },
   {
    "duration": -43,
    "start_time": "2022-03-05T06:43:54.017Z"
   },
   {
    "duration": -46,
    "start_time": "2022-03-05T06:43:54.021Z"
   },
   {
    "duration": -48,
    "start_time": "2022-03-05T06:43:54.024Z"
   },
   {
    "duration": -52,
    "start_time": "2022-03-05T06:43:54.029Z"
   },
   {
    "duration": -54,
    "start_time": "2022-03-05T06:43:54.032Z"
   },
   {
    "duration": -56,
    "start_time": "2022-03-05T06:43:54.035Z"
   },
   {
    "duration": -59,
    "start_time": "2022-03-05T06:43:54.039Z"
   },
   {
    "duration": -61,
    "start_time": "2022-03-05T06:43:54.042Z"
   },
   {
    "duration": -70,
    "start_time": "2022-03-05T06:43:54.051Z"
   },
   {
    "duration": -73,
    "start_time": "2022-03-05T06:43:54.055Z"
   },
   {
    "duration": -75,
    "start_time": "2022-03-05T06:43:54.058Z"
   },
   {
    "duration": -77,
    "start_time": "2022-03-05T06:43:54.061Z"
   },
   {
    "duration": -80,
    "start_time": "2022-03-05T06:43:54.064Z"
   },
   {
    "duration": -82,
    "start_time": "2022-03-05T06:43:54.067Z"
   },
   {
    "duration": 4,
    "start_time": "2022-03-05T06:45:08.330Z"
   },
   {
    "duration": 22,
    "start_time": "2022-03-05T06:45:08.336Z"
   },
   {
    "duration": 14,
    "start_time": "2022-03-05T06:45:08.360Z"
   },
   {
    "duration": 9,
    "start_time": "2022-03-05T06:45:08.376Z"
   },
   {
    "duration": 46,
    "start_time": "2022-03-05T06:45:08.386Z"
   },
   {
    "duration": 3,
    "start_time": "2022-03-05T06:45:08.433Z"
   },
   {
    "duration": 8324,
    "start_time": "2022-03-05T06:45:08.438Z"
   },
   {
    "duration": -19,
    "start_time": "2022-03-05T06:45:16.784Z"
   },
   {
    "duration": -24,
    "start_time": "2022-03-05T06:45:16.789Z"
   },
   {
    "duration": -34,
    "start_time": "2022-03-05T06:45:16.800Z"
   },
   {
    "duration": -37,
    "start_time": "2022-03-05T06:45:16.804Z"
   },
   {
    "duration": -40,
    "start_time": "2022-03-05T06:45:16.808Z"
   },
   {
    "duration": -44,
    "start_time": "2022-03-05T06:45:16.813Z"
   },
   {
    "duration": -46,
    "start_time": "2022-03-05T06:45:16.816Z"
   },
   {
    "duration": -51,
    "start_time": "2022-03-05T06:45:16.822Z"
   },
   {
    "duration": -54,
    "start_time": "2022-03-05T06:45:16.826Z"
   },
   {
    "duration": -55,
    "start_time": "2022-03-05T06:45:16.828Z"
   },
   {
    "duration": -59,
    "start_time": "2022-03-05T06:45:16.833Z"
   },
   {
    "duration": -79,
    "start_time": "2022-03-05T06:45:16.854Z"
   },
   {
    "duration": -82,
    "start_time": "2022-03-05T06:45:16.858Z"
   },
   {
    "duration": -85,
    "start_time": "2022-03-05T06:45:16.862Z"
   },
   {
    "duration": -87,
    "start_time": "2022-03-05T06:45:16.865Z"
   },
   {
    "duration": -92,
    "start_time": "2022-03-05T06:45:16.870Z"
   },
   {
    "duration": -95,
    "start_time": "2022-03-05T06:45:16.874Z"
   },
   {
    "duration": -98,
    "start_time": "2022-03-05T06:45:16.878Z"
   },
   {
    "duration": -102,
    "start_time": "2022-03-05T06:45:16.883Z"
   },
   {
    "duration": 4,
    "start_time": "2022-03-05T06:49:32.230Z"
   },
   {
    "duration": 35,
    "start_time": "2022-03-05T06:49:32.236Z"
   },
   {
    "duration": 16,
    "start_time": "2022-03-05T06:49:32.272Z"
   },
   {
    "duration": 10,
    "start_time": "2022-03-05T06:49:32.289Z"
   },
   {
    "duration": 39,
    "start_time": "2022-03-05T06:49:32.301Z"
   },
   {
    "duration": 2,
    "start_time": "2022-03-05T06:49:32.342Z"
   },
   {
    "duration": 5965,
    "start_time": "2022-03-05T06:49:32.346Z"
   },
   {
    "duration": -29,
    "start_time": "2022-03-05T06:49:38.342Z"
   },
   {
    "duration": -32,
    "start_time": "2022-03-05T06:49:38.346Z"
   },
   {
    "duration": -37,
    "start_time": "2022-03-05T06:49:38.351Z"
   },
   {
    "duration": -39,
    "start_time": "2022-03-05T06:49:38.354Z"
   },
   {
    "duration": -42,
    "start_time": "2022-03-05T06:49:38.358Z"
   },
   {
    "duration": -45,
    "start_time": "2022-03-05T06:49:38.362Z"
   },
   {
    "duration": -48,
    "start_time": "2022-03-05T06:49:38.366Z"
   },
   {
    "duration": -51,
    "start_time": "2022-03-05T06:49:38.370Z"
   },
   {
    "duration": -53,
    "start_time": "2022-03-05T06:49:38.373Z"
   },
   {
    "duration": -56,
    "start_time": "2022-03-05T06:49:38.377Z"
   },
   {
    "duration": -59,
    "start_time": "2022-03-05T06:49:38.381Z"
   },
   {
    "duration": -63,
    "start_time": "2022-03-05T06:49:38.386Z"
   },
   {
    "duration": -66,
    "start_time": "2022-03-05T06:49:38.390Z"
   },
   {
    "duration": -69,
    "start_time": "2022-03-05T06:49:38.394Z"
   },
   {
    "duration": -72,
    "start_time": "2022-03-05T06:49:38.397Z"
   },
   {
    "duration": -74,
    "start_time": "2022-03-05T06:49:38.400Z"
   },
   {
    "duration": -83,
    "start_time": "2022-03-05T06:49:38.411Z"
   },
   {
    "duration": -86,
    "start_time": "2022-03-05T06:49:38.415Z"
   },
   {
    "duration": -88,
    "start_time": "2022-03-05T06:49:38.418Z"
   },
   {
    "duration": 15,
    "start_time": "2022-03-05T06:49:47.282Z"
   },
   {
    "duration": 91,
    "start_time": "2022-03-05T06:50:04.865Z"
   },
   {
    "duration": 7,
    "start_time": "2022-03-05T06:50:08.505Z"
   },
   {
    "duration": -10,
    "start_time": "2022-03-05T06:50:15.073Z"
   },
   {
    "duration": -18,
    "start_time": "2022-03-05T06:50:15.082Z"
   },
   {
    "duration": 4,
    "start_time": "2022-03-05T06:50:43.301Z"
   },
   {
    "duration": 26,
    "start_time": "2022-03-05T06:50:43.307Z"
   },
   {
    "duration": 15,
    "start_time": "2022-03-05T06:50:43.335Z"
   },
   {
    "duration": 11,
    "start_time": "2022-03-05T06:50:43.352Z"
   },
   {
    "duration": 66,
    "start_time": "2022-03-05T06:50:43.364Z"
   },
   {
    "duration": 17,
    "start_time": "2022-03-05T06:50:43.431Z"
   },
   {
    "duration": 8,
    "start_time": "2022-03-05T06:50:43.449Z"
   },
   {
    "duration": 42,
    "start_time": "2022-03-05T06:50:43.460Z"
   },
   {
    "duration": 12,
    "start_time": "2022-03-05T06:50:43.504Z"
   },
   {
    "duration": 7150,
    "start_time": "2022-03-05T06:50:43.518Z"
   },
   {
    "duration": -13,
    "start_time": "2022-03-05T06:50:50.683Z"
   },
   {
    "duration": -21,
    "start_time": "2022-03-05T06:50:50.693Z"
   },
   {
    "duration": -23,
    "start_time": "2022-03-05T06:50:50.696Z"
   },
   {
    "duration": -26,
    "start_time": "2022-03-05T06:50:50.700Z"
   },
   {
    "duration": -28,
    "start_time": "2022-03-05T06:50:50.703Z"
   },
   {
    "duration": -35,
    "start_time": "2022-03-05T06:50:50.712Z"
   },
   {
    "duration": -38,
    "start_time": "2022-03-05T06:50:50.716Z"
   },
   {
    "duration": -40,
    "start_time": "2022-03-05T06:50:50.719Z"
   },
   {
    "duration": -41,
    "start_time": "2022-03-05T06:50:50.722Z"
   },
   {
    "duration": -24,
    "start_time": "2022-03-05T06:50:50.725Z"
   },
   {
    "duration": -27,
    "start_time": "2022-03-05T06:50:50.729Z"
   },
   {
    "duration": -28,
    "start_time": "2022-03-05T06:50:50.732Z"
   },
   {
    "duration": -30,
    "start_time": "2022-03-05T06:50:50.735Z"
   },
   {
    "duration": -38,
    "start_time": "2022-03-05T06:50:50.744Z"
   },
   {
    "duration": -39,
    "start_time": "2022-03-05T06:50:50.747Z"
   },
   {
    "duration": -42,
    "start_time": "2022-03-05T06:50:50.751Z"
   },
   {
    "duration": -9,
    "start_time": "2022-03-05T06:51:16.528Z"
   },
   {
    "duration": 5128,
    "start_time": "2022-03-05T06:51:27.309Z"
   },
   {
    "duration": 3150,
    "start_time": "2022-03-05T06:52:09.695Z"
   },
   {
    "duration": 893,
    "start_time": "2022-03-05T06:52:32.537Z"
   },
   {
    "duration": 4,
    "start_time": "2022-03-05T06:56:37.297Z"
   },
   {
    "duration": 24,
    "start_time": "2022-03-05T06:56:37.303Z"
   },
   {
    "duration": 53,
    "start_time": "2022-03-05T06:56:37.329Z"
   },
   {
    "duration": 10,
    "start_time": "2022-03-05T06:56:37.383Z"
   },
   {
    "duration": 38,
    "start_time": "2022-03-05T06:56:37.395Z"
   },
   {
    "duration": 16,
    "start_time": "2022-03-05T06:56:37.435Z"
   },
   {
    "duration": 6,
    "start_time": "2022-03-05T06:56:37.452Z"
   },
   {
    "duration": 5,
    "start_time": "2022-03-05T06:56:37.460Z"
   },
   {
    "duration": 39,
    "start_time": "2022-03-05T06:56:37.468Z"
   },
   {
    "duration": 4166,
    "start_time": "2022-03-05T06:56:37.509Z"
   },
   {
    "duration": 1043,
    "start_time": "2022-03-05T06:56:41.676Z"
   },
   {
    "duration": 7,
    "start_time": "2022-03-05T06:56:42.720Z"
   },
   {
    "duration": 26,
    "start_time": "2022-03-05T06:56:42.728Z"
   },
   {
    "duration": 440,
    "start_time": "2022-03-05T06:56:42.756Z"
   },
   {
    "duration": 3,
    "start_time": "2022-03-05T06:56:43.198Z"
   },
   {
    "duration": 8,
    "start_time": "2022-03-05T06:56:43.202Z"
   },
   {
    "duration": 6,
    "start_time": "2022-03-05T06:56:43.211Z"
   },
   {
    "duration": 5,
    "start_time": "2022-03-05T06:56:43.218Z"
   },
   {
    "duration": 502,
    "start_time": "2022-03-05T06:56:43.224Z"
   },
   {
    "duration": 74038,
    "start_time": "2022-03-05T06:56:43.728Z"
   },
   {
    "duration": 6,
    "start_time": "2022-03-05T06:57:57.767Z"
   },
   {
    "duration": 1328,
    "start_time": "2022-03-05T06:57:57.774Z"
   },
   {
    "duration": 103,
    "start_time": "2022-03-05T06:57:59.104Z"
   },
   {
    "duration": -51,
    "start_time": "2022-03-05T07:01:58.931Z"
   },
   {
    "duration": -53,
    "start_time": "2022-03-05T07:01:58.936Z"
   },
   {
    "duration": 18,
    "start_time": "2022-03-05T07:02:03.116Z"
   },
   {
    "duration": -48,
    "start_time": "2022-03-05T07:05:01.290Z"
   },
   {
    "duration": 451,
    "start_time": "2022-03-05T07:05:05.957Z"
   },
   {
    "duration": 3,
    "start_time": "2022-03-05T07:07:19.778Z"
   },
   {
    "duration": -126,
    "start_time": "2022-03-05T07:08:42.368Z"
   },
   {
    "duration": 327309,
    "start_time": "2022-03-05T07:08:44.616Z"
   },
   {
    "duration": 1248,
    "start_time": "2022-03-05T07:22:57.384Z"
   },
   {
    "duration": 393,
    "start_time": "2022-03-05T07:27:01.013Z"
   },
   {
    "duration": 761,
    "start_time": "2022-03-05T07:27:07.622Z"
   },
   {
    "duration": 717,
    "start_time": "2022-03-05T07:27:37.631Z"
   },
   {
    "duration": 1319,
    "start_time": "2022-03-05T07:32:39.174Z"
   },
   {
    "duration": 76,
    "start_time": "2022-03-05T07:33:09.074Z"
   },
   {
    "duration": 80,
    "start_time": "2022-03-05T07:33:12.241Z"
   },
   {
    "duration": 383,
    "start_time": "2022-03-05T07:33:19.694Z"
   },
   {
    "duration": 1547,
    "start_time": "2022-03-05T07:33:34.597Z"
   },
   {
    "duration": 1228,
    "start_time": "2022-03-05T07:33:51.897Z"
   },
   {
    "duration": 756,
    "start_time": "2022-03-05T07:35:38.371Z"
   },
   {
    "duration": 1887,
    "start_time": "2022-03-05T07:36:57.484Z"
   },
   {
    "duration": 1516,
    "start_time": "2022-03-05T07:37:34.997Z"
   },
   {
    "duration": 373,
    "start_time": "2022-03-05T07:39:11.626Z"
   },
   {
    "duration": 1534,
    "start_time": "2022-03-05T07:42:26.351Z"
   },
   {
    "duration": 269,
    "start_time": "2022-03-05T07:58:34.366Z"
   },
   {
    "duration": 257,
    "start_time": "2022-03-05T07:58:52.733Z"
   },
   {
    "duration": 3,
    "start_time": "2022-03-05T07:59:10.185Z"
   },
   {
    "duration": 4,
    "start_time": "2022-03-05T07:59:14.266Z"
   },
   {
    "duration": 4,
    "start_time": "2022-03-05T07:59:40.895Z"
   },
   {
    "duration": 6,
    "start_time": "2022-03-05T07:59:48.590Z"
   },
   {
    "duration": 77,
    "start_time": "2022-03-05T08:01:01.433Z"
   },
   {
    "duration": 263,
    "start_time": "2022-03-05T08:01:02.921Z"
   },
   {
    "duration": 12,
    "start_time": "2022-03-05T08:01:17.262Z"
   },
   {
    "duration": 255,
    "start_time": "2022-03-05T09:12:47.372Z"
   },
   {
    "duration": 18,
    "start_time": "2022-03-05T09:12:50.173Z"
   },
   {
    "duration": 17,
    "start_time": "2022-03-05T09:15:42.950Z"
   },
   {
    "duration": 7,
    "start_time": "2022-03-05T09:16:56.963Z"
   },
   {
    "duration": 7,
    "start_time": "2022-03-05T09:17:03.096Z"
   },
   {
    "duration": 1578,
    "start_time": "2022-03-05T09:20:06.547Z"
   },
   {
    "duration": 1836,
    "start_time": "2022-03-05T09:20:14.437Z"
   },
   {
    "duration": 829,
    "start_time": "2022-03-05T09:20:19.717Z"
   },
   {
    "duration": 605,
    "start_time": "2022-03-05T09:20:28.877Z"
   },
   {
    "duration": 10,
    "start_time": "2022-03-05T09:20:32.934Z"
   },
   {
    "duration": 18,
    "start_time": "2022-03-05T09:53:55.234Z"
   },
   {
    "duration": 12,
    "start_time": "2022-03-05T09:54:54.977Z"
   },
   {
    "duration": 17,
    "start_time": "2022-03-05T09:54:57.504Z"
   },
   {
    "duration": 9,
    "start_time": "2022-03-05T09:55:03.623Z"
   },
   {
    "duration": 11,
    "start_time": "2022-03-05T09:55:45.465Z"
   },
   {
    "duration": 374,
    "start_time": "2022-03-05T09:58:00.428Z"
   },
   {
    "duration": 28,
    "start_time": "2022-03-05T09:58:05.262Z"
   },
   {
    "duration": 22,
    "start_time": "2022-03-05T09:58:49.194Z"
   },
   {
    "duration": 1521,
    "start_time": "2022-03-05T09:59:04.556Z"
   },
   {
    "duration": 34,
    "start_time": "2022-03-05T09:59:06.079Z"
   },
   {
    "duration": 18,
    "start_time": "2022-03-05T09:59:06.117Z"
   },
   {
    "duration": 10,
    "start_time": "2022-03-05T09:59:06.137Z"
   },
   {
    "duration": 71,
    "start_time": "2022-03-05T09:59:06.149Z"
   },
   {
    "duration": 16,
    "start_time": "2022-03-05T09:59:06.221Z"
   },
   {
    "duration": 7,
    "start_time": "2022-03-05T09:59:06.239Z"
   },
   {
    "duration": 5,
    "start_time": "2022-03-05T09:59:06.248Z"
   },
   {
    "duration": 49,
    "start_time": "2022-03-05T09:59:06.255Z"
   },
   {
    "duration": 4367,
    "start_time": "2022-03-05T09:59:06.305Z"
   },
   {
    "duration": 936,
    "start_time": "2022-03-05T09:59:10.674Z"
   },
   {
    "duration": 6,
    "start_time": "2022-03-05T09:59:11.611Z"
   },
   {
    "duration": 86,
    "start_time": "2022-03-05T09:59:11.619Z"
   },
   {
    "duration": 396,
    "start_time": "2022-03-05T09:59:11.707Z"
   },
   {
    "duration": 2,
    "start_time": "2022-03-05T09:59:12.105Z"
   },
   {
    "duration": 8,
    "start_time": "2022-03-05T09:59:12.109Z"
   },
   {
    "duration": 5,
    "start_time": "2022-03-05T09:59:12.119Z"
   },
   {
    "duration": 5,
    "start_time": "2022-03-05T09:59:12.126Z"
   },
   {
    "duration": 549,
    "start_time": "2022-03-05T09:59:12.132Z"
   },
   {
    "duration": 75867,
    "start_time": "2022-03-05T09:59:12.683Z"
   },
   {
    "duration": 5,
    "start_time": "2022-03-05T10:00:28.552Z"
   },
   {
    "duration": 1442,
    "start_time": "2022-03-05T10:00:28.560Z"
   },
   {
    "duration": 21,
    "start_time": "2022-03-05T10:00:30.004Z"
   },
   {
    "duration": 25,
    "start_time": "2022-03-05T10:00:30.027Z"
   },
   {
    "duration": 49,
    "start_time": "2022-03-05T10:00:30.053Z"
   },
   {
    "duration": 1567,
    "start_time": "2022-03-05T10:00:30.104Z"
   },
   {
    "duration": 104,
    "start_time": "2022-03-05T10:00:31.673Z"
   },
   {
    "duration": -1613,
    "start_time": "2022-03-05T10:00:33.392Z"
   },
   {
    "duration": 38,
    "start_time": "2022-03-05T10:03:23.023Z"
   },
   {
    "duration": 28,
    "start_time": "2022-03-05T10:03:54.529Z"
   },
   {
    "duration": 29,
    "start_time": "2022-03-05T10:04:44.219Z"
   },
   {
    "duration": 18,
    "start_time": "2022-03-05T10:04:51.123Z"
   },
   {
    "duration": 1280,
    "start_time": "2022-03-05T10:04:56.824Z"
   },
   {
    "duration": 89,
    "start_time": "2022-03-05T10:05:53.441Z"
   },
   {
    "duration": 79,
    "start_time": "2022-03-05T10:05:58.268Z"
   },
   {
    "duration": 96,
    "start_time": "2022-03-05T10:06:08.932Z"
   },
   {
    "duration": 1350,
    "start_time": "2022-03-05T10:06:14.938Z"
   },
   {
    "duration": 77,
    "start_time": "2022-03-05T10:06:22.750Z"
   },
   {
    "duration": 1233,
    "start_time": "2022-03-05T10:06:36.906Z"
   },
   {
    "duration": 87,
    "start_time": "2022-03-05T10:07:19.885Z"
   },
   {
    "duration": 1675,
    "start_time": "2022-03-05T10:07:36.392Z"
   },
   {
    "duration": 623,
    "start_time": "2022-03-05T10:07:45.889Z"
   },
   {
    "duration": 1617,
    "start_time": "2022-03-05T10:07:51.555Z"
   },
   {
    "duration": 76,
    "start_time": "2022-03-05T10:08:22.015Z"
   },
   {
    "duration": 78,
    "start_time": "2022-03-05T10:08:31.734Z"
   },
   {
    "duration": 90,
    "start_time": "2022-03-05T10:08:36.757Z"
   },
   {
    "duration": 81,
    "start_time": "2022-03-05T10:08:42.647Z"
   },
   {
    "duration": 91,
    "start_time": "2022-03-05T10:08:47.808Z"
   },
   {
    "duration": 96,
    "start_time": "2022-03-05T10:11:57.916Z"
   },
   {
    "duration": 89,
    "start_time": "2022-03-05T10:12:12.365Z"
   },
   {
    "duration": 90,
    "start_time": "2022-03-05T10:12:15.796Z"
   },
   {
    "duration": 2036,
    "start_time": "2022-03-05T10:12:36.767Z"
   },
   {
    "duration": 1733,
    "start_time": "2022-03-05T10:12:58.852Z"
   },
   {
    "duration": 1627,
    "start_time": "2022-03-05T10:13:10.651Z"
   },
   {
    "duration": 1279,
    "start_time": "2022-03-05T10:17:18.861Z"
   },
   {
    "duration": 1394,
    "start_time": "2022-03-05T10:17:33.778Z"
   },
   {
    "duration": 1324,
    "start_time": "2022-03-05T10:17:37.817Z"
   },
   {
    "duration": 1321,
    "start_time": "2022-03-05T10:17:42.944Z"
   },
   {
    "duration": 1259,
    "start_time": "2022-03-05T10:17:49.720Z"
   },
   {
    "duration": 84,
    "start_time": "2022-03-05T10:18:02.860Z"
   },
   {
    "duration": 75,
    "start_time": "2022-03-05T10:18:24.860Z"
   },
   {
    "duration": 1272,
    "start_time": "2022-03-05T10:18:40.527Z"
   },
   {
    "duration": 1392,
    "start_time": "2022-03-05T10:18:47.612Z"
   },
   {
    "duration": 1245,
    "start_time": "2022-03-05T10:18:55.053Z"
   },
   {
    "duration": 1382,
    "start_time": "2022-03-05T10:19:02.880Z"
   },
   {
    "duration": 1258,
    "start_time": "2022-03-05T10:19:06.445Z"
   },
   {
    "duration": 12,
    "start_time": "2022-03-05T10:20:24.927Z"
   },
   {
    "duration": 12,
    "start_time": "2022-03-05T10:26:22.186Z"
   },
   {
    "duration": 15,
    "start_time": "2022-03-05T10:26:41.024Z"
   },
   {
    "duration": 12,
    "start_time": "2022-03-05T10:27:06.423Z"
   },
   {
    "duration": 14,
    "start_time": "2022-03-05T10:27:16.486Z"
   },
   {
    "duration": 12,
    "start_time": "2022-03-05T10:28:17.349Z"
   },
   {
    "duration": 21,
    "start_time": "2022-03-05T10:28:57.351Z"
   },
   {
    "duration": 80,
    "start_time": "2022-03-05T10:28:59.183Z"
   },
   {
    "duration": 5105,
    "start_time": "2022-03-05T10:46:36.235Z"
   },
   {
    "duration": 88,
    "start_time": "2022-03-05T10:47:39.686Z"
   },
   {
    "duration": 484,
    "start_time": "2022-03-05T10:48:09.542Z"
   },
   {
    "duration": 388,
    "start_time": "2022-03-05T10:48:33.084Z"
   },
   {
    "duration": 4580,
    "start_time": "2022-03-05T10:48:41.788Z"
   },
   {
    "duration": 6470,
    "start_time": "2022-03-05T10:48:57.344Z"
   },
   {
    "duration": 4685,
    "start_time": "2022-03-05T10:49:07.765Z"
   },
   {
    "duration": 1522,
    "start_time": "2022-03-05T10:49:41.387Z"
   },
   {
    "duration": 35,
    "start_time": "2022-03-05T10:49:42.911Z"
   },
   {
    "duration": 24,
    "start_time": "2022-03-05T10:49:42.953Z"
   },
   {
    "duration": 34,
    "start_time": "2022-03-05T10:49:42.979Z"
   },
   {
    "duration": 41,
    "start_time": "2022-03-05T10:49:43.015Z"
   },
   {
    "duration": 10,
    "start_time": "2022-03-05T10:49:43.059Z"
   },
   {
    "duration": 36,
    "start_time": "2022-03-05T10:49:43.072Z"
   },
   {
    "duration": 5,
    "start_time": "2022-03-05T10:49:43.110Z"
   },
   {
    "duration": 7,
    "start_time": "2022-03-05T10:49:43.117Z"
   },
   {
    "duration": 4291,
    "start_time": "2022-03-05T10:49:43.126Z"
   },
   {
    "duration": 927,
    "start_time": "2022-03-05T10:49:47.419Z"
   },
   {
    "duration": 6,
    "start_time": "2022-03-05T10:49:48.348Z"
   },
   {
    "duration": 54,
    "start_time": "2022-03-05T10:49:48.355Z"
   },
   {
    "duration": 454,
    "start_time": "2022-03-05T10:49:48.411Z"
   },
   {
    "duration": 3,
    "start_time": "2022-03-05T10:49:48.867Z"
   },
   {
    "duration": 9,
    "start_time": "2022-03-05T10:49:48.871Z"
   },
   {
    "duration": 22,
    "start_time": "2022-03-05T10:49:48.881Z"
   },
   {
    "duration": 5,
    "start_time": "2022-03-05T10:49:48.904Z"
   },
   {
    "duration": 483,
    "start_time": "2022-03-05T10:49:48.911Z"
   },
   {
    "duration": 76728,
    "start_time": "2022-03-05T10:49:49.396Z"
   },
   {
    "duration": 7,
    "start_time": "2022-03-05T10:51:06.128Z"
   },
   {
    "duration": 1286,
    "start_time": "2022-03-05T10:51:06.137Z"
   },
   {
    "duration": 23,
    "start_time": "2022-03-05T10:51:07.425Z"
   },
   {
    "duration": 51,
    "start_time": "2022-03-05T10:51:07.450Z"
   },
   {
    "duration": 1513,
    "start_time": "2022-03-05T10:51:07.503Z"
   },
   {
    "duration": 1653,
    "start_time": "2022-03-05T10:51:09.018Z"
   },
   {
    "duration": 13,
    "start_time": "2022-03-05T10:51:10.673Z"
   },
   {
    "duration": 1544,
    "start_time": "2022-03-05T10:57:12.192Z"
   },
   {
    "duration": 1243,
    "start_time": "2022-03-05T10:57:20.186Z"
   },
   {
    "duration": 1568,
    "start_time": "2022-03-05T10:57:28.047Z"
   },
   {
    "duration": 1270,
    "start_time": "2022-03-05T10:57:35.409Z"
   },
   {
    "duration": 4581,
    "start_time": "2022-03-05T10:58:04.602Z"
   },
   {
    "duration": 4298,
    "start_time": "2022-03-05T11:10:24.845Z"
   },
   {
    "duration": 4,
    "start_time": "2022-03-05T11:11:02.427Z"
   },
   {
    "duration": 671,
    "start_time": "2022-03-05T11:11:02.433Z"
   },
   {
    "duration": 17,
    "start_time": "2022-03-05T11:11:03.106Z"
   },
   {
    "duration": 127,
    "start_time": "2022-03-05T11:11:03.124Z"
   },
   {
    "duration": 51,
    "start_time": "2022-03-05T11:11:03.252Z"
   },
   {
    "duration": 10,
    "start_time": "2022-03-05T11:11:03.305Z"
   },
   {
    "duration": 6,
    "start_time": "2022-03-05T11:11:03.317Z"
   },
   {
    "duration": 6,
    "start_time": "2022-03-05T11:11:03.324Z"
   },
   {
    "duration": 7,
    "start_time": "2022-03-05T11:11:03.331Z"
   },
   {
    "duration": 4042,
    "start_time": "2022-03-05T11:11:03.340Z"
   },
   {
    "duration": 928,
    "start_time": "2022-03-05T11:11:07.384Z"
   },
   {
    "duration": 8,
    "start_time": "2022-03-05T11:11:08.314Z"
   },
   {
    "duration": 80,
    "start_time": "2022-03-05T11:11:08.324Z"
   },
   {
    "duration": 394,
    "start_time": "2022-03-05T11:11:08.407Z"
   },
   {
    "duration": 2,
    "start_time": "2022-03-05T11:11:08.803Z"
   },
   {
    "duration": 10,
    "start_time": "2022-03-05T11:11:08.807Z"
   },
   {
    "duration": 6,
    "start_time": "2022-03-05T11:11:08.819Z"
   },
   {
    "duration": 5,
    "start_time": "2022-03-05T11:11:08.826Z"
   },
   {
    "duration": 550,
    "start_time": "2022-03-05T11:11:08.834Z"
   },
   {
    "duration": 73992,
    "start_time": "2022-03-05T11:11:09.386Z"
   },
   {
    "duration": 6,
    "start_time": "2022-03-05T11:12:23.380Z"
   },
   {
    "duration": 1515,
    "start_time": "2022-03-05T11:12:23.387Z"
   },
   {
    "duration": 107,
    "start_time": "2022-03-05T11:12:24.904Z"
   },
   {
    "duration": 25,
    "start_time": "2022-03-05T11:12:25.013Z"
   },
   {
    "duration": 1536,
    "start_time": "2022-03-05T11:12:25.040Z"
   },
   {
    "duration": 1612,
    "start_time": "2022-03-05T11:12:26.577Z"
   },
   {
    "duration": 18,
    "start_time": "2022-03-05T11:12:28.191Z"
   },
   {
    "duration": 22,
    "start_time": "2022-03-05T11:19:33.328Z"
   },
   {
    "duration": 458,
    "start_time": "2022-03-05T11:44:52.015Z"
   },
   {
    "duration": 450,
    "start_time": "2022-03-05T11:44:58.899Z"
   },
   {
    "duration": 446,
    "start_time": "2022-03-05T11:45:11.943Z"
   },
   {
    "duration": 455,
    "start_time": "2022-03-05T11:45:15.884Z"
   },
   {
    "duration": 20,
    "start_time": "2022-03-05T11:47:44.780Z"
   },
   {
    "duration": 16,
    "start_time": "2022-03-05T11:47:48.467Z"
   },
   {
    "duration": 16,
    "start_time": "2022-03-05T12:11:12.238Z"
   },
   {
    "duration": 919,
    "start_time": "2022-03-05T12:46:26.574Z"
   },
   {
    "duration": 353,
    "start_time": "2022-03-06T14:47:07.613Z"
   },
   {
    "duration": -762,
    "start_time": "2022-03-06T14:48:21.086Z"
   },
   {
    "duration": -766,
    "start_time": "2022-03-06T14:48:21.091Z"
   },
   {
    "duration": -767,
    "start_time": "2022-03-06T14:48:21.095Z"
   },
   {
    "duration": -772,
    "start_time": "2022-03-06T14:48:21.102Z"
   },
   {
    "duration": -828,
    "start_time": "2022-03-06T14:48:21.159Z"
   },
   {
    "duration": -832,
    "start_time": "2022-03-06T14:48:21.165Z"
   },
   {
    "duration": -836,
    "start_time": "2022-03-06T14:48:21.170Z"
   },
   {
    "duration": -843,
    "start_time": "2022-03-06T14:48:21.179Z"
   },
   {
    "duration": -851,
    "start_time": "2022-03-06T14:48:21.188Z"
   },
   {
    "duration": -861,
    "start_time": "2022-03-06T14:48:21.200Z"
   },
   {
    "duration": -815,
    "start_time": "2022-03-06T14:48:21.203Z"
   },
   {
    "duration": -816,
    "start_time": "2022-03-06T14:48:21.206Z"
   },
   {
    "duration": -826,
    "start_time": "2022-03-06T14:48:21.217Z"
   },
   {
    "duration": -826,
    "start_time": "2022-03-06T14:48:21.219Z"
   },
   {
    "duration": -829,
    "start_time": "2022-03-06T14:48:21.223Z"
   },
   {
    "duration": -829,
    "start_time": "2022-03-06T14:48:21.225Z"
   },
   {
    "duration": -830,
    "start_time": "2022-03-06T14:48:21.227Z"
   },
   {
    "duration": -830,
    "start_time": "2022-03-06T14:48:21.229Z"
   },
   {
    "duration": -835,
    "start_time": "2022-03-06T14:48:21.236Z"
   },
   {
    "duration": -837,
    "start_time": "2022-03-06T14:48:21.239Z"
   },
   {
    "duration": -838,
    "start_time": "2022-03-06T14:48:21.241Z"
   },
   {
    "duration": -838,
    "start_time": "2022-03-06T14:48:21.243Z"
   },
   {
    "duration": -845,
    "start_time": "2022-03-06T14:48:21.252Z"
   },
   {
    "duration": -852,
    "start_time": "2022-03-06T14:48:21.260Z"
   },
   {
    "duration": -853,
    "start_time": "2022-03-06T14:48:21.263Z"
   },
   {
    "duration": -856,
    "start_time": "2022-03-06T14:48:21.267Z"
   },
   {
    "duration": -864,
    "start_time": "2022-03-06T14:48:21.276Z"
   },
   {
    "duration": -867,
    "start_time": "2022-03-06T14:48:21.281Z"
   },
   {
    "duration": 28,
    "start_time": "2022-03-06T14:48:43.733Z"
   },
   {
    "duration": 21,
    "start_time": "2022-03-06T14:48:45.117Z"
   },
   {
    "duration": 69,
    "start_time": "2022-03-06T14:48:45.309Z"
   },
   {
    "duration": 18,
    "start_time": "2022-03-06T14:48:46.165Z"
   },
   {
    "duration": 23,
    "start_time": "2022-03-06T14:48:47.277Z"
   },
   {
    "duration": 9,
    "start_time": "2022-03-06T14:49:03.878Z"
   },
   {
    "duration": 10,
    "start_time": "2022-03-06T14:49:32.489Z"
   },
   {
    "duration": 6819,
    "start_time": "2022-03-06T14:55:42.334Z"
   },
   {
    "duration": 8,
    "start_time": "2022-03-06T14:57:22.202Z"
   },
   {
    "duration": 6,
    "start_time": "2022-03-06T14:57:29.915Z"
   },
   {
    "duration": 292,
    "start_time": "2022-03-06T14:57:37.645Z"
   },
   {
    "duration": 515,
    "start_time": "2022-03-06T14:59:39.603Z"
   },
   {
    "duration": 7526,
    "start_time": "2022-03-06T14:59:49.694Z"
   },
   {
    "duration": 6492,
    "start_time": "2022-03-06T15:03:02.621Z"
   },
   {
    "duration": 5979,
    "start_time": "2022-03-06T15:03:19.754Z"
   },
   {
    "duration": 1490,
    "start_time": "2022-03-06T15:04:36.614Z"
   },
   {
    "duration": 9,
    "start_time": "2022-03-06T15:04:38.107Z"
   },
   {
    "duration": 6180,
    "start_time": "2022-03-06T15:07:53.343Z"
   },
   {
    "duration": 6194,
    "start_time": "2022-03-06T15:08:08.056Z"
   },
   {
    "duration": 13,
    "start_time": "2022-03-06T15:08:42.632Z"
   },
   {
    "duration": 6059,
    "start_time": "2022-03-06T15:10:10.137Z"
   },
   {
    "duration": 7,
    "start_time": "2022-03-06T15:16:58.902Z"
   },
   {
    "duration": 5,
    "start_time": "2022-03-06T15:17:02.367Z"
   },
   {
    "duration": 98,
    "start_time": "2022-03-06T15:45:45.791Z"
   },
   {
    "duration": 58,
    "start_time": "2022-03-06T15:46:23.834Z"
   },
   {
    "duration": 185,
    "start_time": "2022-03-06T15:46:31.210Z"
   },
   {
    "duration": 48,
    "start_time": "2022-03-06T15:46:36.993Z"
   },
   {
    "duration": 753,
    "start_time": "2022-03-06T15:52:26.277Z"
   },
   {
    "duration": 7,
    "start_time": "2022-03-06T15:52:48.800Z"
   },
   {
    "duration": 743,
    "start_time": "2022-03-06T15:52:53.197Z"
   },
   {
    "duration": 506,
    "start_time": "2022-03-06T15:53:11.616Z"
   },
   {
    "duration": 5,
    "start_time": "2022-03-06T15:53:28.143Z"
   },
   {
    "duration": 11,
    "start_time": "2022-03-06T15:53:28.567Z"
   },
   {
    "duration": 11,
    "start_time": "2022-03-06T15:53:28.775Z"
   },
   {
    "duration": 9,
    "start_time": "2022-03-06T16:01:30.386Z"
   },
   {
    "duration": 27,
    "start_time": "2022-03-06T16:01:30.399Z"
   },
   {
    "duration": 30,
    "start_time": "2022-03-06T16:01:30.430Z"
   },
   {
    "duration": 22,
    "start_time": "2022-03-06T16:01:30.487Z"
   },
   {
    "duration": 95,
    "start_time": "2022-03-06T16:01:30.512Z"
   },
   {
    "duration": 18,
    "start_time": "2022-03-06T16:01:30.610Z"
   },
   {
    "duration": 39,
    "start_time": "2022-03-06T16:01:30.630Z"
   },
   {
    "duration": 22,
    "start_time": "2022-03-06T16:01:30.671Z"
   },
   {
    "duration": 16,
    "start_time": "2022-03-06T16:01:30.696Z"
   },
   {
    "duration": 18,
    "start_time": "2022-03-06T16:01:30.715Z"
   },
   {
    "duration": 6471,
    "start_time": "2022-03-06T16:01:30.735Z"
   },
   {
    "duration": 1506,
    "start_time": "2022-03-06T16:01:37.208Z"
   },
   {
    "duration": 9,
    "start_time": "2022-03-06T16:01:38.716Z"
   },
   {
    "duration": 71,
    "start_time": "2022-03-06T16:01:38.728Z"
   },
   {
    "duration": 670,
    "start_time": "2022-03-06T16:01:38.806Z"
   },
   {
    "duration": 8,
    "start_time": "2022-03-06T16:01:39.479Z"
   },
   {
    "duration": 14,
    "start_time": "2022-03-06T16:01:39.489Z"
   },
   {
    "duration": 10,
    "start_time": "2022-03-06T16:01:39.505Z"
   },
   {
    "duration": 8,
    "start_time": "2022-03-06T16:01:39.517Z"
   },
   {
    "duration": 838,
    "start_time": "2022-03-06T16:01:39.527Z"
   },
   {
    "duration": 139061,
    "start_time": "2022-03-06T16:01:40.367Z"
   },
   {
    "duration": 7,
    "start_time": "2022-03-06T16:03:59.431Z"
   },
   {
    "duration": 1855,
    "start_time": "2022-03-06T16:03:59.440Z"
   },
   {
    "duration": 34,
    "start_time": "2022-03-06T16:04:01.298Z"
   },
   {
    "duration": 53,
    "start_time": "2022-03-06T16:04:01.335Z"
   },
   {
    "duration": 557,
    "start_time": "2022-03-06T16:04:01.391Z"
   },
   {
    "duration": -173,
    "start_time": "2022-03-06T16:04:02.123Z"
   },
   {
    "duration": -173,
    "start_time": "2022-03-06T16:04:02.127Z"
   },
   {
    "duration": 582,
    "start_time": "2022-03-06T16:04:41.921Z"
   },
   {
    "duration": 2281,
    "start_time": "2022-03-06T16:04:58.149Z"
   },
   {
    "duration": 1964,
    "start_time": "2022-03-06T16:07:02.111Z"
   },
   {
    "duration": 16,
    "start_time": "2022-03-06T16:07:19.605Z"
   },
   {
    "duration": 547,
    "start_time": "2022-03-06T16:08:12.099Z"
   },
   {
    "duration": 2482,
    "start_time": "2022-03-06T16:08:20.227Z"
   },
   {
    "duration": 555,
    "start_time": "2022-03-06T16:08:27.726Z"
   },
   {
    "duration": 2082,
    "start_time": "2022-03-06T16:08:37.147Z"
   },
   {
    "duration": 498,
    "start_time": "2022-03-06T16:08:41.628Z"
   },
   {
    "duration": 2222,
    "start_time": "2022-03-06T16:08:47.140Z"
   },
   {
    "duration": 513,
    "start_time": "2022-03-06T16:08:53.459Z"
   },
   {
    "duration": 2095,
    "start_time": "2022-03-06T16:09:09.003Z"
   },
   {
    "duration": 671,
    "start_time": "2022-03-06T16:09:13.644Z"
   },
   {
    "duration": 2294,
    "start_time": "2022-03-06T16:09:22.035Z"
   },
   {
    "duration": 526,
    "start_time": "2022-03-06T16:09:25.643Z"
   },
   {
    "duration": 2131,
    "start_time": "2022-03-06T16:09:33.804Z"
   },
   {
    "duration": 502,
    "start_time": "2022-03-06T16:09:37.764Z"
   },
   {
    "duration": 2195,
    "start_time": "2022-03-06T16:09:56.956Z"
   },
   {
    "duration": 608,
    "start_time": "2022-03-06T16:10:00.779Z"
   },
   {
    "duration": 2059,
    "start_time": "2022-03-06T16:10:07.131Z"
   },
   {
    "duration": 2342,
    "start_time": "2022-03-06T16:10:18.604Z"
   },
   {
    "duration": 2118,
    "start_time": "2022-03-06T16:10:26.099Z"
   },
   {
    "duration": 581,
    "start_time": "2022-03-06T16:10:30.155Z"
   },
   {
    "duration": 2331,
    "start_time": "2022-03-06T16:10:43.978Z"
   },
   {
    "duration": 2085,
    "start_time": "2022-03-06T16:10:49.554Z"
   },
   {
    "duration": 514,
    "start_time": "2022-03-06T16:20:56.136Z"
   },
   {
    "duration": 2216,
    "start_time": "2022-03-06T16:21:04.417Z"
   },
   {
    "duration": 551,
    "start_time": "2022-03-06T16:21:08.930Z"
   },
   {
    "duration": 2046,
    "start_time": "2022-03-06T16:21:16.273Z"
   },
   {
    "duration": 2254,
    "start_time": "2022-03-06T16:22:22.136Z"
   },
   {
    "duration": 755,
    "start_time": "2022-03-06T16:22:44.704Z"
   },
   {
    "duration": 2429,
    "start_time": "2022-03-06T16:22:53.456Z"
   },
   {
    "duration": 2188,
    "start_time": "2022-03-06T16:23:02.391Z"
   },
   {
    "duration": 2021,
    "start_time": "2022-03-06T16:23:06.744Z"
   },
   {
    "duration": 520,
    "start_time": "2022-03-07T12:19:34.872Z"
   },
   {
    "duration": 518,
    "start_time": "2022-03-07T12:19:50.712Z"
   },
   {
    "duration": 4572,
    "start_time": "2022-03-07T12:20:14.667Z"
   },
   {
    "duration": 3495,
    "start_time": "2022-03-07T12:23:10.950Z"
   },
   {
    "duration": 2102,
    "start_time": "2022-03-07T12:26:59.278Z"
   },
   {
    "duration": 2211,
    "start_time": "2022-03-07T12:27:23.886Z"
   },
   {
    "duration": 2248,
    "start_time": "2022-03-07T12:27:35.509Z"
   },
   {
    "duration": 2687,
    "start_time": "2022-03-07T12:28:00.133Z"
   },
   {
    "duration": 2548,
    "start_time": "2022-03-07T12:28:07.908Z"
   },
   {
    "duration": -636,
    "start_time": "2022-03-07T12:29:11.598Z"
   },
   {
    "duration": 2495,
    "start_time": "2022-03-07T12:29:13.301Z"
   },
   {
    "duration": 2083,
    "start_time": "2022-03-07T12:29:31.429Z"
   },
   {
    "duration": 508,
    "start_time": "2022-03-07T12:29:52.389Z"
   },
   {
    "duration": 515,
    "start_time": "2022-03-07T12:29:59.609Z"
   },
   {
    "duration": 513,
    "start_time": "2022-03-07T12:30:10.750Z"
   },
   {
    "duration": 521,
    "start_time": "2022-03-07T12:30:17.407Z"
   },
   {
    "duration": 3294,
    "start_time": "2022-03-07T12:30:23.900Z"
   },
   {
    "duration": 2980,
    "start_time": "2022-03-07T12:30:38.364Z"
   },
   {
    "duration": 2772,
    "start_time": "2022-03-07T12:30:44.964Z"
   },
   {
    "duration": 2626,
    "start_time": "2022-03-07T12:30:53.910Z"
   },
   {
    "duration": 2525,
    "start_time": "2022-03-07T12:32:41.140Z"
   },
   {
    "duration": 2731,
    "start_time": "2022-03-07T12:32:47.749Z"
   },
   {
    "duration": 2538,
    "start_time": "2022-03-07T12:32:51.757Z"
   },
   {
    "duration": 2414,
    "start_time": "2022-03-07T12:33:00.204Z"
   },
   {
    "duration": 2055,
    "start_time": "2022-03-07T12:33:12.835Z"
   },
   {
    "duration": 17,
    "start_time": "2022-03-07T12:33:55.479Z"
   },
   {
    "duration": 16,
    "start_time": "2022-03-07T12:33:59.771Z"
   },
   {
    "duration": 16,
    "start_time": "2022-03-07T12:34:07.787Z"
   },
   {
    "duration": 256,
    "start_time": "2022-03-07T12:34:13.916Z"
   },
   {
    "duration": 14,
    "start_time": "2022-03-07T12:34:18.795Z"
   },
   {
    "duration": 7,
    "start_time": "2022-03-07T12:38:44.826Z"
   },
   {
    "duration": 8,
    "start_time": "2022-03-07T12:38:53.010Z"
   },
   {
    "duration": 27,
    "start_time": "2022-03-07T15:23:29.072Z"
   },
   {
    "duration": 19,
    "start_time": "2022-03-07T18:32:23.371Z"
   },
   {
    "duration": 26,
    "start_time": "2022-03-07T18:32:25.910Z"
   },
   {
    "duration": 20,
    "start_time": "2022-03-07T18:32:31.365Z"
   },
   {
    "duration": 20,
    "start_time": "2022-03-07T18:44:30.232Z"
   },
   {
    "duration": 21,
    "start_time": "2022-03-07T18:49:39.726Z"
   },
   {
    "duration": 274,
    "start_time": "2022-03-08T15:57:47.065Z"
   },
   {
    "duration": 2108,
    "start_time": "2022-03-08T15:57:51.686Z"
   },
   {
    "duration": 24,
    "start_time": "2022-03-08T15:57:53.797Z"
   },
   {
    "duration": 31,
    "start_time": "2022-03-08T15:57:53.824Z"
   },
   {
    "duration": 36,
    "start_time": "2022-03-08T15:57:53.858Z"
   },
   {
    "duration": 87,
    "start_time": "2022-03-08T15:57:53.897Z"
   },
   {
    "duration": 17,
    "start_time": "2022-03-08T15:57:53.986Z"
   },
   {
    "duration": 20,
    "start_time": "2022-03-08T15:57:54.005Z"
   },
   {
    "duration": 10,
    "start_time": "2022-03-08T15:57:54.027Z"
   },
   {
    "duration": 41,
    "start_time": "2022-03-08T15:57:54.041Z"
   },
   {
    "duration": 12,
    "start_time": "2022-03-08T15:57:54.085Z"
   },
   {
    "duration": 5972,
    "start_time": "2022-03-08T15:57:54.100Z"
   },
   {
    "duration": 1457,
    "start_time": "2022-03-08T15:58:00.083Z"
   },
   {
    "duration": 9,
    "start_time": "2022-03-08T15:58:01.543Z"
   },
   {
    "duration": 63,
    "start_time": "2022-03-08T15:58:01.555Z"
   },
   {
    "duration": 626,
    "start_time": "2022-03-08T15:58:01.621Z"
   },
   {
    "duration": 4,
    "start_time": "2022-03-08T15:58:02.250Z"
   },
   {
    "duration": 25,
    "start_time": "2022-03-08T15:58:02.257Z"
   },
   {
    "duration": 9,
    "start_time": "2022-03-08T15:58:02.284Z"
   },
   {
    "duration": 13,
    "start_time": "2022-03-08T15:58:02.296Z"
   },
   {
    "duration": 701,
    "start_time": "2022-03-08T15:58:02.312Z"
   },
   {
    "duration": 139608,
    "start_time": "2022-03-08T15:58:03.015Z"
   },
   {
    "duration": 2023,
    "start_time": "2022-03-08T16:00:26.962Z"
   },
   {
    "duration": 18,
    "start_time": "2022-03-08T16:00:28.988Z"
   },
   {
    "duration": 390,
    "start_time": "2022-03-08T16:00:29.009Z"
   },
   {
    "duration": -118,
    "start_time": "2022-03-08T16:00:29.519Z"
   },
   {
    "duration": -118,
    "start_time": "2022-03-08T16:00:29.520Z"
   },
   {
    "duration": -117,
    "start_time": "2022-03-08T16:00:29.521Z"
   },
   {
    "duration": -118,
    "start_time": "2022-03-08T16:00:29.523Z"
   },
   {
    "duration": 7,
    "start_time": "2022-03-08T16:10:32.463Z"
   },
   {
    "duration": 41,
    "start_time": "2022-03-08T16:10:32.472Z"
   },
   {
    "duration": 29,
    "start_time": "2022-03-08T16:10:32.516Z"
   },
   {
    "duration": 43,
    "start_time": "2022-03-08T16:10:32.549Z"
   },
   {
    "duration": 87,
    "start_time": "2022-03-08T16:10:32.595Z"
   },
   {
    "duration": 18,
    "start_time": "2022-03-08T16:10:32.686Z"
   },
   {
    "duration": 23,
    "start_time": "2022-03-08T16:10:32.707Z"
   },
   {
    "duration": 32,
    "start_time": "2022-03-08T16:10:32.733Z"
   },
   {
    "duration": 22,
    "start_time": "2022-03-08T16:10:32.769Z"
   },
   {
    "duration": 11,
    "start_time": "2022-03-08T16:10:32.794Z"
   },
   {
    "duration": 6118,
    "start_time": "2022-03-08T16:10:32.807Z"
   },
   {
    "duration": 1449,
    "start_time": "2022-03-08T16:10:38.927Z"
   },
   {
    "duration": 9,
    "start_time": "2022-03-08T16:10:40.378Z"
   },
   {
    "duration": 53,
    "start_time": "2022-03-08T16:10:40.390Z"
   },
   {
    "duration": 554,
    "start_time": "2022-03-08T16:10:40.488Z"
   },
   {
    "duration": 4,
    "start_time": "2022-03-08T16:10:41.045Z"
   },
   {
    "duration": 13,
    "start_time": "2022-03-08T16:10:41.052Z"
   },
   {
    "duration": 10,
    "start_time": "2022-03-08T16:10:41.082Z"
   },
   {
    "duration": 8,
    "start_time": "2022-03-08T16:10:41.094Z"
   },
   {
    "duration": 797,
    "start_time": "2022-03-08T16:10:41.105Z"
   },
   {
    "duration": 137297,
    "start_time": "2022-03-08T16:10:41.905Z"
   },
   {
    "duration": 8,
    "start_time": "2022-03-08T16:12:59.205Z"
   },
   {
    "duration": 1968,
    "start_time": "2022-03-08T16:12:59.215Z"
   },
   {
    "duration": 38,
    "start_time": "2022-03-08T16:13:01.186Z"
   },
   {
    "duration": 32,
    "start_time": "2022-03-08T16:13:01.227Z"
   },
   {
    "duration": 2190,
    "start_time": "2022-03-08T16:13:01.261Z"
   },
   {
    "duration": 2228,
    "start_time": "2022-03-08T16:13:03.455Z"
   },
   {
    "duration": 17,
    "start_time": "2022-03-08T16:13:05.686Z"
   },
   {
    "duration": 79,
    "start_time": "2022-03-19T15:40:36.164Z"
   },
   {
    "duration": 12,
    "start_time": "2022-03-19T15:40:40.017Z"
   }
  ],
  "kernelspec": {
   "display_name": "Python 3 (ipykernel)",
   "language": "python",
   "name": "python3"
  },
  "language_info": {
   "codemirror_mode": {
    "name": "ipython",
    "version": 3
   },
   "file_extension": ".py",
   "mimetype": "text/x-python",
   "name": "python",
   "nbconvert_exporter": "python",
   "pygments_lexer": "ipython3",
   "version": "3.9.7"
  },
  "toc": {
   "base_numbering": 1,
   "nav_menu": {},
   "number_sections": false,
   "sideBar": true,
   "skip_h1_title": true,
   "title_cell": "Table of Contents",
   "title_sidebar": "Contents",
   "toc_cell": false,
   "toc_position": {},
   "toc_section_display": true,
   "toc_window_display": true
  }
 },
 "nbformat": 4,
 "nbformat_minor": 2
}
