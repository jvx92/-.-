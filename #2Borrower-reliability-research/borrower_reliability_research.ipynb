{
 "cells": [
  {
   "cell_type": "markdown",
   "metadata": {},
   "source": [
    "# Исследование надёжности заёмщиков\n",
    "\n",
    "Заказчик — кредитный отдел банка. Нужно разобраться, влияет ли семейное положение и количество детей клиента на факт погашения кредита в срок. Входные данные от банка — статистика о платёжеспособности клиентов.\n",
    "\n",
    "Результаты исследования будут учтены при построении модели **кредитного скоринга** — специальной системы, которая оценивает способность потенциального заёмщика вернуть кредит банку."
   ]
  },
  {
   "cell_type": "markdown",
   "metadata": {},
   "source": [
    "##  Откроем файл с данными и изучим общую информацию"
   ]
  },
  {
   "cell_type": "code",
   "execution_count": 4,
   "metadata": {
    "scrolled": false
   },
   "outputs": [],
   "source": [
    "import pandas as pd\n",
    "import numpy as np\n",
    "from pymystem3 import Mystem\n",
    "from collections import Counter"
   ]
  },
  {
   "cell_type": "code",
   "execution_count": 5,
   "metadata": {},
   "outputs": [
    {
     "name": "stdout",
     "output_type": "stream",
     "text": [
      "<class 'pandas.core.frame.DataFrame'>\n",
      "RangeIndex: 21525 entries, 0 to 21524\n",
      "Data columns (total 12 columns):\n",
      " #   Column            Non-Null Count  Dtype  \n",
      "---  ------            --------------  -----  \n",
      " 0   children          21525 non-null  int64  \n",
      " 1   days_employed     19351 non-null  float64\n",
      " 2   dob_years         21525 non-null  int64  \n",
      " 3   education         21525 non-null  object \n",
      " 4   education_id      21525 non-null  int64  \n",
      " 5   family_status     21525 non-null  object \n",
      " 6   family_status_id  21525 non-null  int64  \n",
      " 7   gender            21525 non-null  object \n",
      " 8   income_type       21525 non-null  object \n",
      " 9   debt              21525 non-null  int64  \n",
      " 10  total_income      19351 non-null  float64\n",
      " 11  purpose           21525 non-null  object \n",
      "dtypes: float64(2), int64(5), object(5)\n",
      "memory usage: 2.0+ MB\n"
     ]
    }
   ],
   "source": [
    "data = pd.read_csv('/datasets/data.csv')\n",
    "data.info()"
   ]
  },
  {
   "cell_type": "code",
   "execution_count": 6,
   "metadata": {},
   "outputs": [
    {
     "data": {
      "text/html": [
       "<div>\n",
       "<style scoped>\n",
       "    .dataframe tbody tr th:only-of-type {\n",
       "        vertical-align: middle;\n",
       "    }\n",
       "\n",
       "    .dataframe tbody tr th {\n",
       "        vertical-align: top;\n",
       "    }\n",
       "\n",
       "    .dataframe thead th {\n",
       "        text-align: right;\n",
       "    }\n",
       "</style>\n",
       "<table border=\"1\" class=\"dataframe\">\n",
       "  <thead>\n",
       "    <tr style=\"text-align: right;\">\n",
       "      <th></th>\n",
       "      <th>children</th>\n",
       "      <th>days_employed</th>\n",
       "      <th>dob_years</th>\n",
       "      <th>education</th>\n",
       "      <th>education_id</th>\n",
       "      <th>family_status</th>\n",
       "      <th>family_status_id</th>\n",
       "      <th>gender</th>\n",
       "      <th>income_type</th>\n",
       "      <th>debt</th>\n",
       "      <th>total_income</th>\n",
       "      <th>purpose</th>\n",
       "    </tr>\n",
       "  </thead>\n",
       "  <tbody>\n",
       "    <tr>\n",
       "      <th>0</th>\n",
       "      <td>1</td>\n",
       "      <td>-8437.673028</td>\n",
       "      <td>42</td>\n",
       "      <td>высшее</td>\n",
       "      <td>0</td>\n",
       "      <td>женат / замужем</td>\n",
       "      <td>0</td>\n",
       "      <td>F</td>\n",
       "      <td>сотрудник</td>\n",
       "      <td>0</td>\n",
       "      <td>253875.639453</td>\n",
       "      <td>покупка жилья</td>\n",
       "    </tr>\n",
       "    <tr>\n",
       "      <th>1</th>\n",
       "      <td>1</td>\n",
       "      <td>-4024.803754</td>\n",
       "      <td>36</td>\n",
       "      <td>среднее</td>\n",
       "      <td>1</td>\n",
       "      <td>женат / замужем</td>\n",
       "      <td>0</td>\n",
       "      <td>F</td>\n",
       "      <td>сотрудник</td>\n",
       "      <td>0</td>\n",
       "      <td>112080.014102</td>\n",
       "      <td>приобретение автомобиля</td>\n",
       "    </tr>\n",
       "    <tr>\n",
       "      <th>2</th>\n",
       "      <td>0</td>\n",
       "      <td>-5623.422610</td>\n",
       "      <td>33</td>\n",
       "      <td>Среднее</td>\n",
       "      <td>1</td>\n",
       "      <td>женат / замужем</td>\n",
       "      <td>0</td>\n",
       "      <td>M</td>\n",
       "      <td>сотрудник</td>\n",
       "      <td>0</td>\n",
       "      <td>145885.952297</td>\n",
       "      <td>покупка жилья</td>\n",
       "    </tr>\n",
       "    <tr>\n",
       "      <th>3</th>\n",
       "      <td>3</td>\n",
       "      <td>-4124.747207</td>\n",
       "      <td>32</td>\n",
       "      <td>среднее</td>\n",
       "      <td>1</td>\n",
       "      <td>женат / замужем</td>\n",
       "      <td>0</td>\n",
       "      <td>M</td>\n",
       "      <td>сотрудник</td>\n",
       "      <td>0</td>\n",
       "      <td>267628.550329</td>\n",
       "      <td>дополнительное образование</td>\n",
       "    </tr>\n",
       "    <tr>\n",
       "      <th>4</th>\n",
       "      <td>0</td>\n",
       "      <td>340266.072047</td>\n",
       "      <td>53</td>\n",
       "      <td>среднее</td>\n",
       "      <td>1</td>\n",
       "      <td>гражданский брак</td>\n",
       "      <td>1</td>\n",
       "      <td>F</td>\n",
       "      <td>пенсионер</td>\n",
       "      <td>0</td>\n",
       "      <td>158616.077870</td>\n",
       "      <td>сыграть свадьбу</td>\n",
       "    </tr>\n",
       "    <tr>\n",
       "      <th>5</th>\n",
       "      <td>0</td>\n",
       "      <td>-926.185831</td>\n",
       "      <td>27</td>\n",
       "      <td>высшее</td>\n",
       "      <td>0</td>\n",
       "      <td>гражданский брак</td>\n",
       "      <td>1</td>\n",
       "      <td>M</td>\n",
       "      <td>компаньон</td>\n",
       "      <td>0</td>\n",
       "      <td>255763.565419</td>\n",
       "      <td>покупка жилья</td>\n",
       "    </tr>\n",
       "    <tr>\n",
       "      <th>6</th>\n",
       "      <td>0</td>\n",
       "      <td>-2879.202052</td>\n",
       "      <td>43</td>\n",
       "      <td>высшее</td>\n",
       "      <td>0</td>\n",
       "      <td>женат / замужем</td>\n",
       "      <td>0</td>\n",
       "      <td>F</td>\n",
       "      <td>компаньон</td>\n",
       "      <td>0</td>\n",
       "      <td>240525.971920</td>\n",
       "      <td>операции с жильем</td>\n",
       "    </tr>\n",
       "    <tr>\n",
       "      <th>7</th>\n",
       "      <td>0</td>\n",
       "      <td>-152.779569</td>\n",
       "      <td>50</td>\n",
       "      <td>СРЕДНЕЕ</td>\n",
       "      <td>1</td>\n",
       "      <td>женат / замужем</td>\n",
       "      <td>0</td>\n",
       "      <td>M</td>\n",
       "      <td>сотрудник</td>\n",
       "      <td>0</td>\n",
       "      <td>135823.934197</td>\n",
       "      <td>образование</td>\n",
       "    </tr>\n",
       "    <tr>\n",
       "      <th>8</th>\n",
       "      <td>2</td>\n",
       "      <td>-6929.865299</td>\n",
       "      <td>35</td>\n",
       "      <td>ВЫСШЕЕ</td>\n",
       "      <td>0</td>\n",
       "      <td>гражданский брак</td>\n",
       "      <td>1</td>\n",
       "      <td>F</td>\n",
       "      <td>сотрудник</td>\n",
       "      <td>0</td>\n",
       "      <td>95856.832424</td>\n",
       "      <td>на проведение свадьбы</td>\n",
       "    </tr>\n",
       "    <tr>\n",
       "      <th>9</th>\n",
       "      <td>0</td>\n",
       "      <td>-2188.756445</td>\n",
       "      <td>41</td>\n",
       "      <td>среднее</td>\n",
       "      <td>1</td>\n",
       "      <td>женат / замужем</td>\n",
       "      <td>0</td>\n",
       "      <td>M</td>\n",
       "      <td>сотрудник</td>\n",
       "      <td>0</td>\n",
       "      <td>144425.938277</td>\n",
       "      <td>покупка жилья для семьи</td>\n",
       "    </tr>\n",
       "  </tbody>\n",
       "</table>\n",
       "</div>"
      ],
      "text/plain": [
       "   children  days_employed  dob_years education  education_id  \\\n",
       "0         1   -8437.673028         42    высшее             0   \n",
       "1         1   -4024.803754         36   среднее             1   \n",
       "2         0   -5623.422610         33   Среднее             1   \n",
       "3         3   -4124.747207         32   среднее             1   \n",
       "4         0  340266.072047         53   среднее             1   \n",
       "5         0    -926.185831         27    высшее             0   \n",
       "6         0   -2879.202052         43    высшее             0   \n",
       "7         0    -152.779569         50   СРЕДНЕЕ             1   \n",
       "8         2   -6929.865299         35    ВЫСШЕЕ             0   \n",
       "9         0   -2188.756445         41   среднее             1   \n",
       "\n",
       "      family_status  family_status_id gender income_type  debt   total_income  \\\n",
       "0   женат / замужем                 0      F   сотрудник     0  253875.639453   \n",
       "1   женат / замужем                 0      F   сотрудник     0  112080.014102   \n",
       "2   женат / замужем                 0      M   сотрудник     0  145885.952297   \n",
       "3   женат / замужем                 0      M   сотрудник     0  267628.550329   \n",
       "4  гражданский брак                 1      F   пенсионер     0  158616.077870   \n",
       "5  гражданский брак                 1      M   компаньон     0  255763.565419   \n",
       "6   женат / замужем                 0      F   компаньон     0  240525.971920   \n",
       "7   женат / замужем                 0      M   сотрудник     0  135823.934197   \n",
       "8  гражданский брак                 1      F   сотрудник     0   95856.832424   \n",
       "9   женат / замужем                 0      M   сотрудник     0  144425.938277   \n",
       "\n",
       "                      purpose  \n",
       "0               покупка жилья  \n",
       "1     приобретение автомобиля  \n",
       "2               покупка жилья  \n",
       "3  дополнительное образование  \n",
       "4             сыграть свадьбу  \n",
       "5               покупка жилья  \n",
       "6           операции с жильем  \n",
       "7                 образование  \n",
       "8       на проведение свадьбы  \n",
       "9     покупка жилья для семьи  "
      ]
     },
     "execution_count": 6,
     "metadata": {},
     "output_type": "execute_result"
    }
   ],
   "source": [
    "data.head(10)"
   ]
  },
  {
   "cell_type": "markdown",
   "metadata": {},
   "source": [
    "**Вывод:**"
   ]
  },
  {
   "cell_type": "markdown",
   "metadata": {},
   "source": [
    "В датафрейме присутствуют 3 типа даных, столбцы 'days_employed' и 'total_income' имею меньшее количество строк (есть пропуски).\n"
   ]
  },
  {
   "cell_type": "markdown",
   "metadata": {},
   "source": [
    "## Предобработка данных"
   ]
  },
  {
   "cell_type": "markdown",
   "metadata": {},
   "source": [
    "### Обработка пропусков"
   ]
  },
  {
   "cell_type": "code",
   "execution_count": 7,
   "metadata": {
    "scrolled": false
   },
   "outputs": [
    {
     "data": {
      "text/html": [
       "<div>\n",
       "<style scoped>\n",
       "    .dataframe tbody tr th:only-of-type {\n",
       "        vertical-align: middle;\n",
       "    }\n",
       "\n",
       "    .dataframe tbody tr th {\n",
       "        vertical-align: top;\n",
       "    }\n",
       "\n",
       "    .dataframe thead th {\n",
       "        text-align: right;\n",
       "    }\n",
       "</style>\n",
       "<table border=\"1\" class=\"dataframe\">\n",
       "  <thead>\n",
       "    <tr style=\"text-align: right;\">\n",
       "      <th></th>\n",
       "      <th>children</th>\n",
       "      <th>days_employed</th>\n",
       "      <th>dob_years</th>\n",
       "      <th>education</th>\n",
       "      <th>education_id</th>\n",
       "      <th>family_status</th>\n",
       "      <th>family_status_id</th>\n",
       "      <th>gender</th>\n",
       "      <th>income_type</th>\n",
       "      <th>debt</th>\n",
       "      <th>total_income</th>\n",
       "      <th>purpose</th>\n",
       "    </tr>\n",
       "  </thead>\n",
       "  <tbody>\n",
       "    <tr>\n",
       "      <th>0</th>\n",
       "      <td>1.0</td>\n",
       "      <td>8437.673028</td>\n",
       "      <td>42</td>\n",
       "      <td>высшее</td>\n",
       "      <td>0</td>\n",
       "      <td>женат / замужем</td>\n",
       "      <td>0</td>\n",
       "      <td>F</td>\n",
       "      <td>сотрудник</td>\n",
       "      <td>0</td>\n",
       "      <td>253875.639453</td>\n",
       "      <td>покупка жилья</td>\n",
       "    </tr>\n",
       "    <tr>\n",
       "      <th>1</th>\n",
       "      <td>1.0</td>\n",
       "      <td>4024.803754</td>\n",
       "      <td>36</td>\n",
       "      <td>среднее</td>\n",
       "      <td>1</td>\n",
       "      <td>женат / замужем</td>\n",
       "      <td>0</td>\n",
       "      <td>F</td>\n",
       "      <td>сотрудник</td>\n",
       "      <td>0</td>\n",
       "      <td>112080.014102</td>\n",
       "      <td>приобретение автомобиля</td>\n",
       "    </tr>\n",
       "    <tr>\n",
       "      <th>2</th>\n",
       "      <td>0.0</td>\n",
       "      <td>5623.422610</td>\n",
       "      <td>33</td>\n",
       "      <td>Среднее</td>\n",
       "      <td>1</td>\n",
       "      <td>женат / замужем</td>\n",
       "      <td>0</td>\n",
       "      <td>M</td>\n",
       "      <td>сотрудник</td>\n",
       "      <td>0</td>\n",
       "      <td>145885.952297</td>\n",
       "      <td>покупка жилья</td>\n",
       "    </tr>\n",
       "    <tr>\n",
       "      <th>3</th>\n",
       "      <td>3.0</td>\n",
       "      <td>4124.747207</td>\n",
       "      <td>32</td>\n",
       "      <td>среднее</td>\n",
       "      <td>1</td>\n",
       "      <td>женат / замужем</td>\n",
       "      <td>0</td>\n",
       "      <td>M</td>\n",
       "      <td>сотрудник</td>\n",
       "      <td>0</td>\n",
       "      <td>267628.550329</td>\n",
       "      <td>дополнительное образование</td>\n",
       "    </tr>\n",
       "    <tr>\n",
       "      <th>4</th>\n",
       "      <td>0.0</td>\n",
       "      <td>14177.753002</td>\n",
       "      <td>53</td>\n",
       "      <td>среднее</td>\n",
       "      <td>1</td>\n",
       "      <td>гражданский брак</td>\n",
       "      <td>1</td>\n",
       "      <td>F</td>\n",
       "      <td>пенсионер</td>\n",
       "      <td>0</td>\n",
       "      <td>158616.077870</td>\n",
       "      <td>сыграть свадьбу</td>\n",
       "    </tr>\n",
       "    <tr>\n",
       "      <th>5</th>\n",
       "      <td>0.0</td>\n",
       "      <td>926.185831</td>\n",
       "      <td>27</td>\n",
       "      <td>высшее</td>\n",
       "      <td>0</td>\n",
       "      <td>гражданский брак</td>\n",
       "      <td>1</td>\n",
       "      <td>M</td>\n",
       "      <td>компаньон</td>\n",
       "      <td>0</td>\n",
       "      <td>255763.565419</td>\n",
       "      <td>покупка жилья</td>\n",
       "    </tr>\n",
       "    <tr>\n",
       "      <th>6</th>\n",
       "      <td>0.0</td>\n",
       "      <td>2879.202052</td>\n",
       "      <td>43</td>\n",
       "      <td>высшее</td>\n",
       "      <td>0</td>\n",
       "      <td>женат / замужем</td>\n",
       "      <td>0</td>\n",
       "      <td>F</td>\n",
       "      <td>компаньон</td>\n",
       "      <td>0</td>\n",
       "      <td>240525.971920</td>\n",
       "      <td>операции с жильем</td>\n",
       "    </tr>\n",
       "    <tr>\n",
       "      <th>7</th>\n",
       "      <td>0.0</td>\n",
       "      <td>152.779569</td>\n",
       "      <td>50</td>\n",
       "      <td>СРЕДНЕЕ</td>\n",
       "      <td>1</td>\n",
       "      <td>женат / замужем</td>\n",
       "      <td>0</td>\n",
       "      <td>M</td>\n",
       "      <td>сотрудник</td>\n",
       "      <td>0</td>\n",
       "      <td>135823.934197</td>\n",
       "      <td>образование</td>\n",
       "    </tr>\n",
       "    <tr>\n",
       "      <th>8</th>\n",
       "      <td>2.0</td>\n",
       "      <td>6929.865299</td>\n",
       "      <td>35</td>\n",
       "      <td>ВЫСШЕЕ</td>\n",
       "      <td>0</td>\n",
       "      <td>гражданский брак</td>\n",
       "      <td>1</td>\n",
       "      <td>F</td>\n",
       "      <td>сотрудник</td>\n",
       "      <td>0</td>\n",
       "      <td>95856.832424</td>\n",
       "      <td>на проведение свадьбы</td>\n",
       "    </tr>\n",
       "    <tr>\n",
       "      <th>9</th>\n",
       "      <td>0.0</td>\n",
       "      <td>2188.756445</td>\n",
       "      <td>41</td>\n",
       "      <td>среднее</td>\n",
       "      <td>1</td>\n",
       "      <td>женат / замужем</td>\n",
       "      <td>0</td>\n",
       "      <td>M</td>\n",
       "      <td>сотрудник</td>\n",
       "      <td>0</td>\n",
       "      <td>144425.938277</td>\n",
       "      <td>покупка жилья для семьи</td>\n",
       "    </tr>\n",
       "    <tr>\n",
       "      <th>10</th>\n",
       "      <td>2.0</td>\n",
       "      <td>4171.483647</td>\n",
       "      <td>36</td>\n",
       "      <td>высшее</td>\n",
       "      <td>0</td>\n",
       "      <td>женат / замужем</td>\n",
       "      <td>0</td>\n",
       "      <td>M</td>\n",
       "      <td>компаньон</td>\n",
       "      <td>0</td>\n",
       "      <td>113943.491460</td>\n",
       "      <td>покупка недвижимости</td>\n",
       "    </tr>\n",
       "    <tr>\n",
       "      <th>11</th>\n",
       "      <td>0.0</td>\n",
       "      <td>792.701887</td>\n",
       "      <td>40</td>\n",
       "      <td>среднее</td>\n",
       "      <td>1</td>\n",
       "      <td>женат / замужем</td>\n",
       "      <td>0</td>\n",
       "      <td>F</td>\n",
       "      <td>сотрудник</td>\n",
       "      <td>0</td>\n",
       "      <td>77069.234271</td>\n",
       "      <td>покупка коммерческой недвижимости</td>\n",
       "    </tr>\n",
       "    <tr>\n",
       "      <th>12</th>\n",
       "      <td>0.0</td>\n",
       "      <td>NaN</td>\n",
       "      <td>65</td>\n",
       "      <td>среднее</td>\n",
       "      <td>1</td>\n",
       "      <td>гражданский брак</td>\n",
       "      <td>1</td>\n",
       "      <td>M</td>\n",
       "      <td>пенсионер</td>\n",
       "      <td>0</td>\n",
       "      <td>NaN</td>\n",
       "      <td>сыграть свадьбу</td>\n",
       "    </tr>\n",
       "    <tr>\n",
       "      <th>13</th>\n",
       "      <td>0.0</td>\n",
       "      <td>1846.641941</td>\n",
       "      <td>54</td>\n",
       "      <td>неоконченное высшее</td>\n",
       "      <td>2</td>\n",
       "      <td>женат / замужем</td>\n",
       "      <td>0</td>\n",
       "      <td>F</td>\n",
       "      <td>сотрудник</td>\n",
       "      <td>0</td>\n",
       "      <td>130458.228857</td>\n",
       "      <td>приобретение автомобиля</td>\n",
       "    </tr>\n",
       "    <tr>\n",
       "      <th>14</th>\n",
       "      <td>0.0</td>\n",
       "      <td>1844.956182</td>\n",
       "      <td>56</td>\n",
       "      <td>высшее</td>\n",
       "      <td>0</td>\n",
       "      <td>гражданский брак</td>\n",
       "      <td>1</td>\n",
       "      <td>F</td>\n",
       "      <td>компаньон</td>\n",
       "      <td>1</td>\n",
       "      <td>165127.911772</td>\n",
       "      <td>покупка жилой недвижимости</td>\n",
       "    </tr>\n",
       "  </tbody>\n",
       "</table>\n",
       "</div>"
      ],
      "text/plain": [
       "    children  days_employed  dob_years            education  education_id  \\\n",
       "0        1.0    8437.673028         42               высшее             0   \n",
       "1        1.0    4024.803754         36              среднее             1   \n",
       "2        0.0    5623.422610         33              Среднее             1   \n",
       "3        3.0    4124.747207         32              среднее             1   \n",
       "4        0.0   14177.753002         53              среднее             1   \n",
       "5        0.0     926.185831         27               высшее             0   \n",
       "6        0.0    2879.202052         43               высшее             0   \n",
       "7        0.0     152.779569         50              СРЕДНЕЕ             1   \n",
       "8        2.0    6929.865299         35               ВЫСШЕЕ             0   \n",
       "9        0.0    2188.756445         41              среднее             1   \n",
       "10       2.0    4171.483647         36               высшее             0   \n",
       "11       0.0     792.701887         40              среднее             1   \n",
       "12       0.0            NaN         65              среднее             1   \n",
       "13       0.0    1846.641941         54  неоконченное высшее             2   \n",
       "14       0.0    1844.956182         56               высшее             0   \n",
       "\n",
       "       family_status  family_status_id gender income_type  debt  \\\n",
       "0    женат / замужем                 0      F   сотрудник     0   \n",
       "1    женат / замужем                 0      F   сотрудник     0   \n",
       "2    женат / замужем                 0      M   сотрудник     0   \n",
       "3    женат / замужем                 0      M   сотрудник     0   \n",
       "4   гражданский брак                 1      F   пенсионер     0   \n",
       "5   гражданский брак                 1      M   компаньон     0   \n",
       "6    женат / замужем                 0      F   компаньон     0   \n",
       "7    женат / замужем                 0      M   сотрудник     0   \n",
       "8   гражданский брак                 1      F   сотрудник     0   \n",
       "9    женат / замужем                 0      M   сотрудник     0   \n",
       "10   женат / замужем                 0      M   компаньон     0   \n",
       "11   женат / замужем                 0      F   сотрудник     0   \n",
       "12  гражданский брак                 1      M   пенсионер     0   \n",
       "13   женат / замужем                 0      F   сотрудник     0   \n",
       "14  гражданский брак                 1      F   компаньон     1   \n",
       "\n",
       "     total_income                            purpose  \n",
       "0   253875.639453                      покупка жилья  \n",
       "1   112080.014102            приобретение автомобиля  \n",
       "2   145885.952297                      покупка жилья  \n",
       "3   267628.550329         дополнительное образование  \n",
       "4   158616.077870                    сыграть свадьбу  \n",
       "5   255763.565419                      покупка жилья  \n",
       "6   240525.971920                  операции с жильем  \n",
       "7   135823.934197                        образование  \n",
       "8    95856.832424              на проведение свадьбы  \n",
       "9   144425.938277            покупка жилья для семьи  \n",
       "10  113943.491460               покупка недвижимости  \n",
       "11   77069.234271  покупка коммерческой недвижимости  \n",
       "12            NaN                    сыграть свадьбу  \n",
       "13  130458.228857            приобретение автомобиля  \n",
       "14  165127.911772         покупка жилой недвижимости  "
      ]
     },
     "execution_count": 7,
     "metadata": {},
     "output_type": "execute_result"
    }
   ],
   "source": [
    "data.loc[data.days_employed >0, 'days_employed'] = data.loc[data.days_employed >0, 'days_employed'] / 24 #переводим часы стажа в дни, все значения в часах оказались положительными, поэтому применим условие >0 для перевода в дни\n",
    "\n",
    "data.loc[data['children'] < 0, 'children'] = 0 #заменяем отрицательное количество детей на предполагаемый 0\n",
    "\n",
    "data['days_employed'] = np.abs(data['days_employed']) #избавляемся от отрицательных значений в столбце 'days_employed'\n",
    "\n",
    "children_median = data.loc[data.loc[:, 'children'] != 20]['children'].median() #избавляемся от случайных значений в виде 20 детей\n",
    "\n",
    "data['children'] = data['children'].replace(20, children_median) #меняем сомнительное значение 20 детей на медианное\n",
    "data.head(15)"
   ]
  },
  {
   "cell_type": "code",
   "execution_count": 8,
   "metadata": {},
   "outputs": [
    {
     "name": "stdout",
     "output_type": "stream",
     "text": [
      "<class 'pandas.core.frame.DataFrame'>\n",
      "RangeIndex: 21525 entries, 0 to 21524\n",
      "Data columns (total 12 columns):\n",
      " #   Column            Non-Null Count  Dtype  \n",
      "---  ------            --------------  -----  \n",
      " 0   children          21525 non-null  float64\n",
      " 1   days_employed     21525 non-null  float64\n",
      " 2   dob_years         21525 non-null  int64  \n",
      " 3   education         21525 non-null  object \n",
      " 4   education_id      21525 non-null  int64  \n",
      " 5   family_status     21525 non-null  object \n",
      " 6   family_status_id  21525 non-null  int64  \n",
      " 7   gender            21525 non-null  object \n",
      " 8   income_type       21525 non-null  object \n",
      " 9   debt              21525 non-null  int64  \n",
      " 10  total_income      19351 non-null  float64\n",
      " 11  purpose           21525 non-null  object \n",
      "dtypes: float64(3), int64(4), object(5)\n",
      "memory usage: 2.0+ MB\n"
     ]
    }
   ],
   "source": [
    "for dob_years in data['dob_years'].unique(): #заменяем пропущенные значения в столбце 'days_employed' на значение медианы, которое зависит от cтажа\n",
    "    median = data.loc[data['dob_years'] == dob_years, 'days_employed'].median()\n",
    "    data.loc[(data['days_employed'].isna()) & (data['dob_years'] == dob_years) , 'days_employed'] = median \n",
    "data.info()"
   ]
  },
  {
   "cell_type": "code",
   "execution_count": 9,
   "metadata": {},
   "outputs": [
    {
     "name": "stdout",
     "output_type": "stream",
     "text": [
      "<class 'pandas.core.frame.DataFrame'>\n",
      "RangeIndex: 21525 entries, 0 to 21524\n",
      "Data columns (total 12 columns):\n",
      " #   Column            Non-Null Count  Dtype  \n",
      "---  ------            --------------  -----  \n",
      " 0   children          21525 non-null  float64\n",
      " 1   days_employed     21525 non-null  float64\n",
      " 2   dob_years         21525 non-null  int64  \n",
      " 3   education         21525 non-null  object \n",
      " 4   education_id      21525 non-null  int64  \n",
      " 5   family_status     21525 non-null  object \n",
      " 6   family_status_id  21525 non-null  int64  \n",
      " 7   gender            21525 non-null  object \n",
      " 8   income_type       21525 non-null  object \n",
      " 9   debt              21525 non-null  int64  \n",
      " 10  total_income      21525 non-null  float64\n",
      " 11  purpose           21525 non-null  object \n",
      "dtypes: float64(3), int64(4), object(5)\n",
      "memory usage: 2.0+ MB\n"
     ]
    }
   ],
   "source": [
    "total_income_meadian = data['total_income'].median() #медиана по столбцу \"общий доход\"\n",
    "data['total_income'] = data['total_income'].fillna(total_income_meadian) # присваиваем пропускам значение медианы по столбцу 'total_income'\n",
    "data.info()"
   ]
  },
  {
   "cell_type": "markdown",
   "metadata": {},
   "source": [
    "**Вывод:**"
   ]
  },
  {
   "cell_type": "markdown",
   "metadata": {},
   "source": [
    "Предоставленные для анализа данные нельзя назвать качественными, в 2 столбцах типа float64 были пропуски, в столбце \"стаж\" некоторые строки принимали значение в часах, вместо дней. Интрументами библиотек pandas и numpy мы восполнили и исправили недостающие и некорректные данные, теперь анализ данных будет объективнее и точнее."
   ]
  },
  {
   "cell_type": "markdown",
   "metadata": {},
   "source": [
    "### Замена типа данных"
   ]
  },
  {
   "cell_type": "code",
   "execution_count": 10,
   "metadata": {},
   "outputs": [
    {
     "name": "stdout",
     "output_type": "stream",
     "text": [
      "<class 'pandas.core.frame.DataFrame'>\n",
      "RangeIndex: 21525 entries, 0 to 21524\n",
      "Data columns (total 12 columns):\n",
      " #   Column            Non-Null Count  Dtype  \n",
      "---  ------            --------------  -----  \n",
      " 0   children          21525 non-null  float64\n",
      " 1   days_employed     21525 non-null  int64  \n",
      " 2   dob_years         21525 non-null  int64  \n",
      " 3   education         21525 non-null  object \n",
      " 4   education_id      21525 non-null  int64  \n",
      " 5   family_status     21525 non-null  object \n",
      " 6   family_status_id  21525 non-null  int64  \n",
      " 7   gender            21525 non-null  object \n",
      " 8   income_type       21525 non-null  object \n",
      " 9   debt              21525 non-null  int64  \n",
      " 10  total_income      21525 non-null  int64  \n",
      " 11  purpose           21525 non-null  object \n",
      "dtypes: float64(1), int64(6), object(5)\n",
      "memory usage: 2.0+ MB\n"
     ]
    }
   ],
   "source": [
    "data['days_employed'] = data['days_employed'].astype(int) #методом astype() меняет тип данных в столбце со стажем c float64 на int64 \n",
    "data['total_income'] = data['total_income'].astype(int) #методом astype() меняет тип данных в столбце с доходами c float64 на int64\n",
    "data.info()\n"
   ]
  },
  {
   "cell_type": "markdown",
   "metadata": {},
   "source": [
    "**2 столбца типа float64 были приведены к целочисленным значениям методом astype()**"
   ]
  },
  {
   "cell_type": "markdown",
   "metadata": {},
   "source": [
    "### Обработка дубликатов"
   ]
  },
  {
   "cell_type": "code",
   "execution_count": 11,
   "metadata": {},
   "outputs": [
    {
     "data": {
      "text/plain": [
       "0"
      ]
     },
     "execution_count": 11,
     "metadata": {},
     "output_type": "execute_result"
    }
   ],
   "source": [
    "#data.duplicated().sum()\n",
    "data['education'] = data['education'].str.lower() #приводим все значения столбца к нижнему регистру\n",
    "#data['education'].value_counts() #убеждаемся, что была произведена замена и объединение значений\n",
    "#data.duplicated().sum()\n",
    "data['family_status'] = data['family_status'].str.lower() #приводим все значения столбца к нижнему регистру\n",
    "#data['family_status'].value_counts() # всего найдет 71 дубликат \n",
    "data = data.drop_duplicates()\n",
    "data.duplicated().sum()\n"
   ]
  },
  {
   "cell_type": "markdown",
   "metadata": {},
   "source": [
    "**Вывод:**"
   ]
  },
  {
   "cell_type": "markdown",
   "metadata": {},
   "source": [
    "Всего был обнаружен 71 дубликат, цифра небольшая относительно всего датафрейма, тем не менее они были удалены методом drop_duplicates(), который отлично справился с этой задачей.\n"
   ]
  },
  {
   "cell_type": "markdown",
   "metadata": {},
   "source": [
    "### Лемматизация"
   ]
  },
  {
   "cell_type": "code",
   "execution_count": 12,
   "metadata": {},
   "outputs": [
    {
     "data": {
      "text/plain": [
       "0                             [покупка,  , жилье, \\n]\n",
       "1                   [приобретение,  , автомобиль, \\n]\n",
       "2                             [покупка,  , жилье, \\n]\n",
       "3                [дополнительный,  , образование, \\n]\n",
       "4                           [сыграть,  , свадьба, \\n]\n",
       "                             ...                     \n",
       "21520                  [операция,  , с,  , жилье, \\n]\n",
       "21521               [сделка,  , с,  , автомобиль, \\n]\n",
       "21522                              [недвижимость, \\n]\n",
       "21523    [на,  , покупка,  , свой,  , автомобиль, \\n]\n",
       "21524             [на,  , покупка,  , автомобиль, \\n]\n",
       "Name: lem_purpose, Length: 21454, dtype: object"
      ]
     },
     "execution_count": 12,
     "metadata": {},
     "output_type": "execute_result"
    }
   ],
   "source": [
    "m = Mystem()\n",
    "data['lem_purpose'] = data['purpose'].apply(m.lemmatize) #создание нового столбца\n",
    "data['lem_purpose']"
   ]
  },
  {
   "cell_type": "code",
   "execution_count": 13,
   "metadata": {},
   "outputs": [
    {
     "data": {
      "text/plain": [
       "[(' ', 33570),\n",
       " ('\\n', 21454),\n",
       " ('недвижимость', 6351),\n",
       " ('покупка', 5897),\n",
       " ('жилье', 4460),\n",
       " ('автомобиль', 4306),\n",
       " ('образование', 4013),\n",
       " ('с', 2918),\n",
       " ('операция', 2604),\n",
       " ('свадьба', 2324),\n",
       " ('свой', 2230),\n",
       " ('на', 2222),\n",
       " ('строительство', 1878),\n",
       " ('высокий', 1374),\n",
       " ('получение', 1314),\n",
       " ('коммерческий', 1311),\n",
       " ('для', 1289),\n",
       " ('жилой', 1230),\n",
       " ('сделка', 941),\n",
       " ('дополнительный', 906),\n",
       " ('заниматься', 904),\n",
       " ('проведение', 768),\n",
       " ('сыграть', 765),\n",
       " ('сдача', 651),\n",
       " ('семья', 638),\n",
       " ('собственный', 635),\n",
       " ('со', 627),\n",
       " ('ремонт', 607),\n",
       " ('подержанный', 486),\n",
       " ('подержать', 478),\n",
       " ('приобретение', 461),\n",
       " ('профильный', 436)]"
      ]
     },
     "execution_count": 13,
     "metadata": {},
     "output_type": "execute_result"
    }
   ],
   "source": [
    "list_of_lemmas = []\n",
    "for element in data['purpose']: #определим и отсортируем уникальные значения в столбце 'purpose'\n",
    "    lemma = m.lemmatize(element)\n",
    "    list_of_lemmas.extend(lemma)\n",
    "unique_lemmas = Counter(list_of_lemmas)\n",
    "sorted(unique_lemmas.items(), key = lambda pair: pair[1], reverse=True) #сортируем в порядке убывания уникалные значения столбца 'purpose'"
   ]
  },
  {
   "cell_type": "code",
   "execution_count": 14,
   "metadata": {},
   "outputs": [
    {
     "data": {
      "text/html": [
       "<div>\n",
       "<style scoped>\n",
       "    .dataframe tbody tr th:only-of-type {\n",
       "        vertical-align: middle;\n",
       "    }\n",
       "\n",
       "    .dataframe tbody tr th {\n",
       "        vertical-align: top;\n",
       "    }\n",
       "\n",
       "    .dataframe thead th {\n",
       "        text-align: right;\n",
       "    }\n",
       "</style>\n",
       "<table border=\"1\" class=\"dataframe\">\n",
       "  <thead>\n",
       "    <tr style=\"text-align: right;\">\n",
       "      <th></th>\n",
       "      <th>children</th>\n",
       "      <th>days_employed</th>\n",
       "      <th>dob_years</th>\n",
       "      <th>education</th>\n",
       "      <th>education_id</th>\n",
       "      <th>family_status</th>\n",
       "      <th>family_status_id</th>\n",
       "      <th>gender</th>\n",
       "      <th>income_type</th>\n",
       "      <th>debt</th>\n",
       "      <th>total_income</th>\n",
       "      <th>purpose</th>\n",
       "      <th>lem_purpose</th>\n",
       "      <th>purpose_category</th>\n",
       "    </tr>\n",
       "  </thead>\n",
       "  <tbody>\n",
       "    <tr>\n",
       "      <th>0</th>\n",
       "      <td>1.0</td>\n",
       "      <td>8437</td>\n",
       "      <td>42</td>\n",
       "      <td>высшее</td>\n",
       "      <td>0</td>\n",
       "      <td>женат / замужем</td>\n",
       "      <td>0</td>\n",
       "      <td>F</td>\n",
       "      <td>сотрудник</td>\n",
       "      <td>0</td>\n",
       "      <td>253875</td>\n",
       "      <td>покупка жилья</td>\n",
       "      <td>[покупка,  , жилье, \\n]</td>\n",
       "      <td>1</td>\n",
       "    </tr>\n",
       "    <tr>\n",
       "      <th>1</th>\n",
       "      <td>1.0</td>\n",
       "      <td>4024</td>\n",
       "      <td>36</td>\n",
       "      <td>среднее</td>\n",
       "      <td>1</td>\n",
       "      <td>женат / замужем</td>\n",
       "      <td>0</td>\n",
       "      <td>F</td>\n",
       "      <td>сотрудник</td>\n",
       "      <td>0</td>\n",
       "      <td>112080</td>\n",
       "      <td>приобретение автомобиля</td>\n",
       "      <td>[приобретение,  , автомобиль, \\n]</td>\n",
       "      <td>2</td>\n",
       "    </tr>\n",
       "    <tr>\n",
       "      <th>2</th>\n",
       "      <td>0.0</td>\n",
       "      <td>5623</td>\n",
       "      <td>33</td>\n",
       "      <td>среднее</td>\n",
       "      <td>1</td>\n",
       "      <td>женат / замужем</td>\n",
       "      <td>0</td>\n",
       "      <td>M</td>\n",
       "      <td>сотрудник</td>\n",
       "      <td>0</td>\n",
       "      <td>145885</td>\n",
       "      <td>покупка жилья</td>\n",
       "      <td>[покупка,  , жилье, \\n]</td>\n",
       "      <td>1</td>\n",
       "    </tr>\n",
       "    <tr>\n",
       "      <th>3</th>\n",
       "      <td>3.0</td>\n",
       "      <td>4124</td>\n",
       "      <td>32</td>\n",
       "      <td>среднее</td>\n",
       "      <td>1</td>\n",
       "      <td>женат / замужем</td>\n",
       "      <td>0</td>\n",
       "      <td>M</td>\n",
       "      <td>сотрудник</td>\n",
       "      <td>0</td>\n",
       "      <td>267628</td>\n",
       "      <td>дополнительное образование</td>\n",
       "      <td>[дополнительный,  , образование, \\n]</td>\n",
       "      <td>3</td>\n",
       "    </tr>\n",
       "    <tr>\n",
       "      <th>4</th>\n",
       "      <td>0.0</td>\n",
       "      <td>14177</td>\n",
       "      <td>53</td>\n",
       "      <td>среднее</td>\n",
       "      <td>1</td>\n",
       "      <td>гражданский брак</td>\n",
       "      <td>1</td>\n",
       "      <td>F</td>\n",
       "      <td>пенсионер</td>\n",
       "      <td>0</td>\n",
       "      <td>158616</td>\n",
       "      <td>сыграть свадьбу</td>\n",
       "      <td>[сыграть,  , свадьба, \\n]</td>\n",
       "      <td>4</td>\n",
       "    </tr>\n",
       "    <tr>\n",
       "      <th>5</th>\n",
       "      <td>0.0</td>\n",
       "      <td>926</td>\n",
       "      <td>27</td>\n",
       "      <td>высшее</td>\n",
       "      <td>0</td>\n",
       "      <td>гражданский брак</td>\n",
       "      <td>1</td>\n",
       "      <td>M</td>\n",
       "      <td>компаньон</td>\n",
       "      <td>0</td>\n",
       "      <td>255763</td>\n",
       "      <td>покупка жилья</td>\n",
       "      <td>[покупка,  , жилье, \\n]</td>\n",
       "      <td>1</td>\n",
       "    </tr>\n",
       "    <tr>\n",
       "      <th>6</th>\n",
       "      <td>0.0</td>\n",
       "      <td>2879</td>\n",
       "      <td>43</td>\n",
       "      <td>высшее</td>\n",
       "      <td>0</td>\n",
       "      <td>женат / замужем</td>\n",
       "      <td>0</td>\n",
       "      <td>F</td>\n",
       "      <td>компаньон</td>\n",
       "      <td>0</td>\n",
       "      <td>240525</td>\n",
       "      <td>операции с жильем</td>\n",
       "      <td>[операция,  , с,  , жилье, \\n]</td>\n",
       "      <td>1</td>\n",
       "    </tr>\n",
       "    <tr>\n",
       "      <th>7</th>\n",
       "      <td>0.0</td>\n",
       "      <td>152</td>\n",
       "      <td>50</td>\n",
       "      <td>среднее</td>\n",
       "      <td>1</td>\n",
       "      <td>женат / замужем</td>\n",
       "      <td>0</td>\n",
       "      <td>M</td>\n",
       "      <td>сотрудник</td>\n",
       "      <td>0</td>\n",
       "      <td>135823</td>\n",
       "      <td>образование</td>\n",
       "      <td>[образование, \\n]</td>\n",
       "      <td>3</td>\n",
       "    </tr>\n",
       "    <tr>\n",
       "      <th>8</th>\n",
       "      <td>2.0</td>\n",
       "      <td>6929</td>\n",
       "      <td>35</td>\n",
       "      <td>высшее</td>\n",
       "      <td>0</td>\n",
       "      <td>гражданский брак</td>\n",
       "      <td>1</td>\n",
       "      <td>F</td>\n",
       "      <td>сотрудник</td>\n",
       "      <td>0</td>\n",
       "      <td>95856</td>\n",
       "      <td>на проведение свадьбы</td>\n",
       "      <td>[на,  , проведение,  , свадьба, \\n]</td>\n",
       "      <td>4</td>\n",
       "    </tr>\n",
       "    <tr>\n",
       "      <th>9</th>\n",
       "      <td>0.0</td>\n",
       "      <td>2188</td>\n",
       "      <td>41</td>\n",
       "      <td>среднее</td>\n",
       "      <td>1</td>\n",
       "      <td>женат / замужем</td>\n",
       "      <td>0</td>\n",
       "      <td>M</td>\n",
       "      <td>сотрудник</td>\n",
       "      <td>0</td>\n",
       "      <td>144425</td>\n",
       "      <td>покупка жилья для семьи</td>\n",
       "      <td>[покупка,  , жилье,  , для,  , семья, \\n]</td>\n",
       "      <td>1</td>\n",
       "    </tr>\n",
       "  </tbody>\n",
       "</table>\n",
       "</div>"
      ],
      "text/plain": [
       "   children  days_employed  dob_years education  education_id  \\\n",
       "0       1.0           8437         42    высшее             0   \n",
       "1       1.0           4024         36   среднее             1   \n",
       "2       0.0           5623         33   среднее             1   \n",
       "3       3.0           4124         32   среднее             1   \n",
       "4       0.0          14177         53   среднее             1   \n",
       "5       0.0            926         27    высшее             0   \n",
       "6       0.0           2879         43    высшее             0   \n",
       "7       0.0            152         50   среднее             1   \n",
       "8       2.0           6929         35    высшее             0   \n",
       "9       0.0           2188         41   среднее             1   \n",
       "\n",
       "      family_status  family_status_id gender income_type  debt  total_income  \\\n",
       "0   женат / замужем                 0      F   сотрудник     0        253875   \n",
       "1   женат / замужем                 0      F   сотрудник     0        112080   \n",
       "2   женат / замужем                 0      M   сотрудник     0        145885   \n",
       "3   женат / замужем                 0      M   сотрудник     0        267628   \n",
       "4  гражданский брак                 1      F   пенсионер     0        158616   \n",
       "5  гражданский брак                 1      M   компаньон     0        255763   \n",
       "6   женат / замужем                 0      F   компаньон     0        240525   \n",
       "7   женат / замужем                 0      M   сотрудник     0        135823   \n",
       "8  гражданский брак                 1      F   сотрудник     0         95856   \n",
       "9   женат / замужем                 0      M   сотрудник     0        144425   \n",
       "\n",
       "                      purpose                                lem_purpose  \\\n",
       "0               покупка жилья                    [покупка,  , жилье, \\n]   \n",
       "1     приобретение автомобиля          [приобретение,  , автомобиль, \\n]   \n",
       "2               покупка жилья                    [покупка,  , жилье, \\n]   \n",
       "3  дополнительное образование       [дополнительный,  , образование, \\n]   \n",
       "4             сыграть свадьбу                  [сыграть,  , свадьба, \\n]   \n",
       "5               покупка жилья                    [покупка,  , жилье, \\n]   \n",
       "6           операции с жильем             [операция,  , с,  , жилье, \\n]   \n",
       "7                 образование                          [образование, \\n]   \n",
       "8       на проведение свадьбы        [на,  , проведение,  , свадьба, \\n]   \n",
       "9     покупка жилья для семьи  [покупка,  , жилье,  , для,  , семья, \\n]   \n",
       "\n",
       "   purpose_category  \n",
       "0                 1  \n",
       "1                 2  \n",
       "2                 1  \n",
       "3                 3  \n",
       "4                 4  \n",
       "5                 1  \n",
       "6                 1  \n",
       "7                 3  \n",
       "8                 4  \n",
       "9                 1  "
      ]
     },
     "execution_count": 14,
     "metadata": {},
     "output_type": "execute_result"
    }
   ],
   "source": [
    "stemmed_purposes = ['недвижимость', 'жилье', 'автомобиль', 'образование', 'свадьба'] #создаем список самых популярных слов для дальнейшей группировки\n",
    "dict_stemmed_purposes = {v:k for k,v in enumerate(stemmed_purposes)}\n",
    "dict_stemmed_purposes['недвижимость'] = 1\n",
    "#print(dict_stemmed_purposes)\n",
    "\n",
    "data['purpose_category'] = 0 #проставляем номер категории в столбце 'purpose_category' 1-4 по столбцу 'lem_purpose'\n",
    "for row in range(len(data)):\n",
    "    for purpose in dict_stemmed_purposes:\n",
    "        if purpose in data.iloc[row, 12]:\n",
    "            data.iloc[row, 13] = dict_stemmed_purposes[purpose]\n",
    "#data.head()\n",
    "data[data['purpose_category'] == 0].count().sum() #номера категорий 1-4 присвоены всем строкам датафрейма\n",
    "data.head(10)"
   ]
  },
  {
   "cell_type": "markdown",
   "metadata": {},
   "source": [
    "**Вывод:**"
   ]
  },
  {
   "cell_type": "markdown",
   "metadata": {},
   "source": [
    "Самыми часто встречающимися словами стали: 'недвижимость'/'жилье','автомобиль','образование','свадьба', отсюда мы делаем вывод, что люди чаще всего берут кредиты на жилье, авто, учебу, автомобили и образование."
   ]
  },
  {
   "cell_type": "markdown",
   "metadata": {},
   "source": [
    "### Категоризация данных"
   ]
  },
  {
   "cell_type": "code",
   "execution_count": 15,
   "metadata": {
    "scrolled": true
   },
   "outputs": [
    {
     "data": {
      "text/html": [
       "<div>\n",
       "<style scoped>\n",
       "    .dataframe tbody tr th:only-of-type {\n",
       "        vertical-align: middle;\n",
       "    }\n",
       "\n",
       "    .dataframe tbody tr th {\n",
       "        vertical-align: top;\n",
       "    }\n",
       "\n",
       "    .dataframe thead th {\n",
       "        text-align: right;\n",
       "    }\n",
       "</style>\n",
       "<table border=\"1\" class=\"dataframe\">\n",
       "  <thead>\n",
       "    <tr style=\"text-align: right;\">\n",
       "      <th></th>\n",
       "      <th>education</th>\n",
       "      <th>education_id</th>\n",
       "    </tr>\n",
       "  </thead>\n",
       "  <tbody>\n",
       "    <tr>\n",
       "      <th>0</th>\n",
       "      <td>высшее</td>\n",
       "      <td>0</td>\n",
       "    </tr>\n",
       "    <tr>\n",
       "      <th>1</th>\n",
       "      <td>среднее</td>\n",
       "      <td>1</td>\n",
       "    </tr>\n",
       "    <tr>\n",
       "      <th>2</th>\n",
       "      <td>неоконченное высшее</td>\n",
       "      <td>2</td>\n",
       "    </tr>\n",
       "    <tr>\n",
       "      <th>3</th>\n",
       "      <td>начальное</td>\n",
       "      <td>3</td>\n",
       "    </tr>\n",
       "    <tr>\n",
       "      <th>4</th>\n",
       "      <td>ученая степень</td>\n",
       "      <td>4</td>\n",
       "    </tr>\n",
       "  </tbody>\n",
       "</table>\n",
       "</div>"
      ],
      "text/plain": [
       "             education  education_id\n",
       "0               высшее             0\n",
       "1              среднее             1\n",
       "2  неоконченное высшее             2\n",
       "3            начальное             3\n",
       "4       ученая степень             4"
      ]
     },
     "execution_count": 15,
     "metadata": {},
     "output_type": "execute_result"
    }
   ],
   "source": [
    "education_dict = data[['education','education_id']].drop_duplicates().reset_index(drop=True) #education_dictionary\n",
    "education_dict"
   ]
  },
  {
   "cell_type": "code",
   "execution_count": 16,
   "metadata": {},
   "outputs": [
    {
     "data": {
      "text/html": [
       "<div>\n",
       "<style scoped>\n",
       "    .dataframe tbody tr th:only-of-type {\n",
       "        vertical-align: middle;\n",
       "    }\n",
       "\n",
       "    .dataframe tbody tr th {\n",
       "        vertical-align: top;\n",
       "    }\n",
       "\n",
       "    .dataframe thead th {\n",
       "        text-align: right;\n",
       "    }\n",
       "</style>\n",
       "<table border=\"1\" class=\"dataframe\">\n",
       "  <thead>\n",
       "    <tr style=\"text-align: right;\">\n",
       "      <th></th>\n",
       "      <th>family_status</th>\n",
       "      <th>family_status_id</th>\n",
       "    </tr>\n",
       "  </thead>\n",
       "  <tbody>\n",
       "    <tr>\n",
       "      <th>0</th>\n",
       "      <td>женат / замужем</td>\n",
       "      <td>0</td>\n",
       "    </tr>\n",
       "    <tr>\n",
       "      <th>1</th>\n",
       "      <td>гражданский брак</td>\n",
       "      <td>1</td>\n",
       "    </tr>\n",
       "    <tr>\n",
       "      <th>2</th>\n",
       "      <td>вдовец / вдова</td>\n",
       "      <td>2</td>\n",
       "    </tr>\n",
       "    <tr>\n",
       "      <th>3</th>\n",
       "      <td>в разводе</td>\n",
       "      <td>3</td>\n",
       "    </tr>\n",
       "    <tr>\n",
       "      <th>4</th>\n",
       "      <td>не женат / не замужем</td>\n",
       "      <td>4</td>\n",
       "    </tr>\n",
       "  </tbody>\n",
       "</table>\n",
       "</div>"
      ],
      "text/plain": [
       "           family_status  family_status_id\n",
       "0        женат / замужем                 0\n",
       "1       гражданский брак                 1\n",
       "2         вдовец / вдова                 2\n",
       "3              в разводе                 3\n",
       "4  не женат / не замужем                 4"
      ]
     },
     "execution_count": 16,
     "metadata": {},
     "output_type": "execute_result"
    }
   ],
   "source": [
    "family_status_dict = data[['family_status','family_status_id']].drop_duplicates().reset_index(drop=True) #family_status_dictionary\n",
    "family_status_dict"
   ]
  },
  {
   "cell_type": "code",
   "execution_count": 17,
   "metadata": {},
   "outputs": [
    {
     "data": {
      "text/html": [
       "<div>\n",
       "<style scoped>\n",
       "    .dataframe tbody tr th:only-of-type {\n",
       "        vertical-align: middle;\n",
       "    }\n",
       "\n",
       "    .dataframe tbody tr th {\n",
       "        vertical-align: top;\n",
       "    }\n",
       "\n",
       "    .dataframe thead th {\n",
       "        text-align: right;\n",
       "    }\n",
       "</style>\n",
       "<table border=\"1\" class=\"dataframe\">\n",
       "  <thead>\n",
       "    <tr style=\"text-align: right;\">\n",
       "      <th></th>\n",
       "      <th>income_type</th>\n",
       "    </tr>\n",
       "  </thead>\n",
       "  <tbody>\n",
       "    <tr>\n",
       "      <th>0</th>\n",
       "      <td>сотрудник</td>\n",
       "    </tr>\n",
       "    <tr>\n",
       "      <th>1</th>\n",
       "      <td>пенсионер</td>\n",
       "    </tr>\n",
       "    <tr>\n",
       "      <th>2</th>\n",
       "      <td>компаньон</td>\n",
       "    </tr>\n",
       "    <tr>\n",
       "      <th>3</th>\n",
       "      <td>госслужащий</td>\n",
       "    </tr>\n",
       "    <tr>\n",
       "      <th>4</th>\n",
       "      <td>безработный</td>\n",
       "    </tr>\n",
       "    <tr>\n",
       "      <th>5</th>\n",
       "      <td>предприниматель</td>\n",
       "    </tr>\n",
       "    <tr>\n",
       "      <th>6</th>\n",
       "      <td>студент</td>\n",
       "    </tr>\n",
       "    <tr>\n",
       "      <th>7</th>\n",
       "      <td>в декрете</td>\n",
       "    </tr>\n",
       "  </tbody>\n",
       "</table>\n",
       "</div>"
      ],
      "text/plain": [
       "       income_type\n",
       "0        сотрудник\n",
       "1        пенсионер\n",
       "2        компаньон\n",
       "3      госслужащий\n",
       "4      безработный\n",
       "5  предприниматель\n",
       "6          студент\n",
       "7        в декрете"
      ]
     },
     "execution_count": 17,
     "metadata": {},
     "output_type": "execute_result"
    }
   ],
   "source": [
    "income_type_dict = data[['income_type']].drop_duplicates().reset_index(drop=True) #income_type_dictionary\n",
    "income_type_dict"
   ]
  },
  {
   "cell_type": "code",
   "execution_count": 18,
   "metadata": {},
   "outputs": [
    {
     "data": {
      "text/html": [
       "<div>\n",
       "<style scoped>\n",
       "    .dataframe tbody tr th:only-of-type {\n",
       "        vertical-align: middle;\n",
       "    }\n",
       "\n",
       "    .dataframe tbody tr th {\n",
       "        vertical-align: top;\n",
       "    }\n",
       "\n",
       "    .dataframe thead th {\n",
       "        text-align: right;\n",
       "    }\n",
       "</style>\n",
       "<table border=\"1\" class=\"dataframe\">\n",
       "  <thead>\n",
       "    <tr style=\"text-align: right;\">\n",
       "      <th></th>\n",
       "      <th>gender</th>\n",
       "    </tr>\n",
       "  </thead>\n",
       "  <tbody>\n",
       "    <tr>\n",
       "      <th>0</th>\n",
       "      <td>F</td>\n",
       "    </tr>\n",
       "    <tr>\n",
       "      <th>1</th>\n",
       "      <td>M</td>\n",
       "    </tr>\n",
       "    <tr>\n",
       "      <th>2</th>\n",
       "      <td>XNA</td>\n",
       "    </tr>\n",
       "  </tbody>\n",
       "</table>\n",
       "</div>"
      ],
      "text/plain": [
       "  gender\n",
       "0      F\n",
       "1      M\n",
       "2    XNA"
      ]
     },
     "execution_count": 18,
     "metadata": {},
     "output_type": "execute_result"
    }
   ],
   "source": [
    "gender_dict = data[['gender']].drop_duplicates().reset_index(drop=True) #gender_dictionary\n",
    "gender_dict"
   ]
  },
  {
   "cell_type": "code",
   "execution_count": 19,
   "metadata": {},
   "outputs": [
    {
     "data": {
      "text/html": [
       "<div>\n",
       "<style scoped>\n",
       "    .dataframe tbody tr th:only-of-type {\n",
       "        vertical-align: middle;\n",
       "    }\n",
       "\n",
       "    .dataframe tbody tr th {\n",
       "        vertical-align: top;\n",
       "    }\n",
       "\n",
       "    .dataframe thead th {\n",
       "        text-align: right;\n",
       "    }\n",
       "</style>\n",
       "<table border=\"1\" class=\"dataframe\">\n",
       "  <thead>\n",
       "    <tr style=\"text-align: right;\">\n",
       "      <th></th>\n",
       "      <th>purpose</th>\n",
       "      <th>purpose_category</th>\n",
       "    </tr>\n",
       "  </thead>\n",
       "  <tbody>\n",
       "    <tr>\n",
       "      <th>0</th>\n",
       "      <td>покупка жилья</td>\n",
       "      <td>1</td>\n",
       "    </tr>\n",
       "    <tr>\n",
       "      <th>1</th>\n",
       "      <td>приобретение автомобиля</td>\n",
       "      <td>2</td>\n",
       "    </tr>\n",
       "    <tr>\n",
       "      <th>2</th>\n",
       "      <td>дополнительное образование</td>\n",
       "      <td>3</td>\n",
       "    </tr>\n",
       "    <tr>\n",
       "      <th>3</th>\n",
       "      <td>сыграть свадьбу</td>\n",
       "      <td>4</td>\n",
       "    </tr>\n",
       "    <tr>\n",
       "      <th>4</th>\n",
       "      <td>операции с жильем</td>\n",
       "      <td>1</td>\n",
       "    </tr>\n",
       "    <tr>\n",
       "      <th>5</th>\n",
       "      <td>образование</td>\n",
       "      <td>3</td>\n",
       "    </tr>\n",
       "    <tr>\n",
       "      <th>6</th>\n",
       "      <td>на проведение свадьбы</td>\n",
       "      <td>4</td>\n",
       "    </tr>\n",
       "    <tr>\n",
       "      <th>7</th>\n",
       "      <td>покупка жилья для семьи</td>\n",
       "      <td>1</td>\n",
       "    </tr>\n",
       "    <tr>\n",
       "      <th>8</th>\n",
       "      <td>покупка недвижимости</td>\n",
       "      <td>1</td>\n",
       "    </tr>\n",
       "    <tr>\n",
       "      <th>9</th>\n",
       "      <td>покупка коммерческой недвижимости</td>\n",
       "      <td>1</td>\n",
       "    </tr>\n",
       "    <tr>\n",
       "      <th>10</th>\n",
       "      <td>покупка жилой недвижимости</td>\n",
       "      <td>1</td>\n",
       "    </tr>\n",
       "    <tr>\n",
       "      <th>11</th>\n",
       "      <td>строительство собственной недвижимости</td>\n",
       "      <td>1</td>\n",
       "    </tr>\n",
       "    <tr>\n",
       "      <th>12</th>\n",
       "      <td>недвижимость</td>\n",
       "      <td>1</td>\n",
       "    </tr>\n",
       "    <tr>\n",
       "      <th>13</th>\n",
       "      <td>строительство недвижимости</td>\n",
       "      <td>1</td>\n",
       "    </tr>\n",
       "    <tr>\n",
       "      <th>14</th>\n",
       "      <td>на покупку подержанного автомобиля</td>\n",
       "      <td>2</td>\n",
       "    </tr>\n",
       "    <tr>\n",
       "      <th>15</th>\n",
       "      <td>на покупку своего автомобиля</td>\n",
       "      <td>2</td>\n",
       "    </tr>\n",
       "    <tr>\n",
       "      <th>16</th>\n",
       "      <td>операции с коммерческой недвижимостью</td>\n",
       "      <td>1</td>\n",
       "    </tr>\n",
       "    <tr>\n",
       "      <th>17</th>\n",
       "      <td>строительство жилой недвижимости</td>\n",
       "      <td>1</td>\n",
       "    </tr>\n",
       "    <tr>\n",
       "      <th>18</th>\n",
       "      <td>жилье</td>\n",
       "      <td>1</td>\n",
       "    </tr>\n",
       "    <tr>\n",
       "      <th>19</th>\n",
       "      <td>операции со своей недвижимостью</td>\n",
       "      <td>1</td>\n",
       "    </tr>\n",
       "    <tr>\n",
       "      <th>20</th>\n",
       "      <td>автомобили</td>\n",
       "      <td>2</td>\n",
       "    </tr>\n",
       "    <tr>\n",
       "      <th>21</th>\n",
       "      <td>заняться образованием</td>\n",
       "      <td>3</td>\n",
       "    </tr>\n",
       "    <tr>\n",
       "      <th>22</th>\n",
       "      <td>сделка с подержанным автомобилем</td>\n",
       "      <td>2</td>\n",
       "    </tr>\n",
       "    <tr>\n",
       "      <th>23</th>\n",
       "      <td>получение образования</td>\n",
       "      <td>3</td>\n",
       "    </tr>\n",
       "    <tr>\n",
       "      <th>24</th>\n",
       "      <td>автомобиль</td>\n",
       "      <td>2</td>\n",
       "    </tr>\n",
       "    <tr>\n",
       "      <th>25</th>\n",
       "      <td>свадьба</td>\n",
       "      <td>4</td>\n",
       "    </tr>\n",
       "    <tr>\n",
       "      <th>26</th>\n",
       "      <td>получение дополнительного образования</td>\n",
       "      <td>3</td>\n",
       "    </tr>\n",
       "    <tr>\n",
       "      <th>27</th>\n",
       "      <td>покупка своего жилья</td>\n",
       "      <td>1</td>\n",
       "    </tr>\n",
       "    <tr>\n",
       "      <th>28</th>\n",
       "      <td>операции с недвижимостью</td>\n",
       "      <td>1</td>\n",
       "    </tr>\n",
       "    <tr>\n",
       "      <th>29</th>\n",
       "      <td>получение высшего образования</td>\n",
       "      <td>3</td>\n",
       "    </tr>\n",
       "    <tr>\n",
       "      <th>30</th>\n",
       "      <td>свой автомобиль</td>\n",
       "      <td>2</td>\n",
       "    </tr>\n",
       "    <tr>\n",
       "      <th>31</th>\n",
       "      <td>сделка с автомобилем</td>\n",
       "      <td>2</td>\n",
       "    </tr>\n",
       "    <tr>\n",
       "      <th>32</th>\n",
       "      <td>профильное образование</td>\n",
       "      <td>3</td>\n",
       "    </tr>\n",
       "    <tr>\n",
       "      <th>33</th>\n",
       "      <td>высшее образование</td>\n",
       "      <td>3</td>\n",
       "    </tr>\n",
       "    <tr>\n",
       "      <th>34</th>\n",
       "      <td>покупка жилья для сдачи</td>\n",
       "      <td>1</td>\n",
       "    </tr>\n",
       "    <tr>\n",
       "      <th>35</th>\n",
       "      <td>на покупку автомобиля</td>\n",
       "      <td>2</td>\n",
       "    </tr>\n",
       "    <tr>\n",
       "      <th>36</th>\n",
       "      <td>ремонт жилью</td>\n",
       "      <td>1</td>\n",
       "    </tr>\n",
       "    <tr>\n",
       "      <th>37</th>\n",
       "      <td>заняться высшим образованием</td>\n",
       "      <td>3</td>\n",
       "    </tr>\n",
       "  </tbody>\n",
       "</table>\n",
       "</div>"
      ],
      "text/plain": [
       "                                   purpose  purpose_category\n",
       "0                            покупка жилья                 1\n",
       "1                  приобретение автомобиля                 2\n",
       "2               дополнительное образование                 3\n",
       "3                          сыграть свадьбу                 4\n",
       "4                        операции с жильем                 1\n",
       "5                              образование                 3\n",
       "6                    на проведение свадьбы                 4\n",
       "7                  покупка жилья для семьи                 1\n",
       "8                     покупка недвижимости                 1\n",
       "9        покупка коммерческой недвижимости                 1\n",
       "10              покупка жилой недвижимости                 1\n",
       "11  строительство собственной недвижимости                 1\n",
       "12                            недвижимость                 1\n",
       "13              строительство недвижимости                 1\n",
       "14      на покупку подержанного автомобиля                 2\n",
       "15            на покупку своего автомобиля                 2\n",
       "16   операции с коммерческой недвижимостью                 1\n",
       "17        строительство жилой недвижимости                 1\n",
       "18                                   жилье                 1\n",
       "19         операции со своей недвижимостью                 1\n",
       "20                              автомобили                 2\n",
       "21                   заняться образованием                 3\n",
       "22        сделка с подержанным автомобилем                 2\n",
       "23                   получение образования                 3\n",
       "24                              автомобиль                 2\n",
       "25                                 свадьба                 4\n",
       "26   получение дополнительного образования                 3\n",
       "27                    покупка своего жилья                 1\n",
       "28                операции с недвижимостью                 1\n",
       "29           получение высшего образования                 3\n",
       "30                         свой автомобиль                 2\n",
       "31                    сделка с автомобилем                 2\n",
       "32                  профильное образование                 3\n",
       "33                      высшее образование                 3\n",
       "34                 покупка жилья для сдачи                 1\n",
       "35                   на покупку автомобиля                 2\n",
       "36                            ремонт жилью                 1\n",
       "37            заняться высшим образованием                 3"
      ]
     },
     "execution_count": 19,
     "metadata": {},
     "output_type": "execute_result"
    }
   ],
   "source": [
    "purpose_dict = data[['purpose','purpose_category']].drop_duplicates().reset_index(drop=True) #purpose_dict\n",
    "purpose_dict"
   ]
  },
  {
   "cell_type": "markdown",
   "metadata": {},
   "source": [
    "**Вывод:**"
   ]
  },
  {
   "cell_type": "markdown",
   "metadata": {},
   "source": [
    "Категоризировали датафрейм по следующим данным:  \n",
    "-'education' и 'family_status_id' (изначально уже была категоризация по ним);  \n",
    "-по виду занятости ('income_type');  \n",
    "-по половой приндлежности ('gender');  \n",
    "-по цели получения кредита ('purpose_category')."
   ]
  },
  {
   "cell_type": "markdown",
   "metadata": {},
   "source": [
    "## Ответим на вопросы"
   ]
  },
  {
   "cell_type": "markdown",
   "metadata": {},
   "source": [
    "- Есть ли зависимость между наличием детей и возвратом кредита в срок?"
   ]
  },
  {
   "cell_type": "code",
   "execution_count": 20,
   "metadata": {},
   "outputs": [
    {
     "data": {
      "text/html": [
       "<div>\n",
       "<style scoped>\n",
       "    .dataframe tbody tr th:only-of-type {\n",
       "        vertical-align: middle;\n",
       "    }\n",
       "\n",
       "    .dataframe tbody tr th {\n",
       "        vertical-align: top;\n",
       "    }\n",
       "\n",
       "    .dataframe thead tr th {\n",
       "        text-align: left;\n",
       "    }\n",
       "\n",
       "    .dataframe thead tr:last-of-type th {\n",
       "        text-align: right;\n",
       "    }\n",
       "</style>\n",
       "<table border=\"1\" class=\"dataframe\">\n",
       "  <thead>\n",
       "    <tr>\n",
       "      <th></th>\n",
       "      <th>count</th>\n",
       "      <th>mean</th>\n",
       "    </tr>\n",
       "    <tr>\n",
       "      <th></th>\n",
       "      <th>debt</th>\n",
       "      <th>debt</th>\n",
       "    </tr>\n",
       "    <tr>\n",
       "      <th>children</th>\n",
       "      <th></th>\n",
       "      <th></th>\n",
       "    </tr>\n",
       "  </thead>\n",
       "  <tbody>\n",
       "    <tr>\n",
       "      <th>0.0</th>\n",
       "      <td>14214</td>\n",
       "      <td>0.075419</td>\n",
       "    </tr>\n",
       "    <tr>\n",
       "      <th>1.0</th>\n",
       "      <td>4808</td>\n",
       "      <td>0.092346</td>\n",
       "    </tr>\n",
       "    <tr>\n",
       "      <th>2.0</th>\n",
       "      <td>2052</td>\n",
       "      <td>0.094542</td>\n",
       "    </tr>\n",
       "    <tr>\n",
       "      <th>3.0</th>\n",
       "      <td>330</td>\n",
       "      <td>0.081818</td>\n",
       "    </tr>\n",
       "    <tr>\n",
       "      <th>4.0</th>\n",
       "      <td>41</td>\n",
       "      <td>0.097561</td>\n",
       "    </tr>\n",
       "    <tr>\n",
       "      <th>5.0</th>\n",
       "      <td>9</td>\n",
       "      <td>0.000000</td>\n",
       "    </tr>\n",
       "  </tbody>\n",
       "</table>\n",
       "</div>"
      ],
      "text/plain": [
       "          count      mean\n",
       "           debt      debt\n",
       "children                 \n",
       "0.0       14214  0.075419\n",
       "1.0        4808  0.092346\n",
       "2.0        2052  0.094542\n",
       "3.0         330  0.081818\n",
       "4.0          41  0.097561\n",
       "5.0           9  0.000000"
      ]
     },
     "execution_count": 20,
     "metadata": {},
     "output_type": "execute_result"
    }
   ],
   "source": [
    "data.pivot_table(index=['children'], values='debt', aggfunc=['count','mean'])"
   ]
  },
  {
   "cell_type": "markdown",
   "metadata": {},
   "source": [
    "**Вывод:**"
   ]
  },
  {
   "cell_type": "markdown",
   "metadata": {},
   "source": [
    "Заемщиков без детей значительно больше и они реже задерживают оплату кредитов, чем люди с детьми, это логично, в семьях с детьми расходы на содержание семьи значительно выше."
   ]
  },
  {
   "cell_type": "markdown",
   "metadata": {},
   "source": [
    "- Есть ли зависимость между семейным положением и возвратом кредита в срок?"
   ]
  },
  {
   "cell_type": "code",
   "execution_count": 21,
   "metadata": {
    "scrolled": true
   },
   "outputs": [
    {
     "data": {
      "text/html": [
       "<div>\n",
       "<style scoped>\n",
       "    .dataframe tbody tr th:only-of-type {\n",
       "        vertical-align: middle;\n",
       "    }\n",
       "\n",
       "    .dataframe tbody tr th {\n",
       "        vertical-align: top;\n",
       "    }\n",
       "\n",
       "    .dataframe thead th {\n",
       "        text-align: right;\n",
       "    }\n",
       "</style>\n",
       "<table border=\"1\" class=\"dataframe\">\n",
       "  <thead>\n",
       "    <tr style=\"text-align: right;\">\n",
       "      <th></th>\n",
       "      <th>count</th>\n",
       "      <th>mean</th>\n",
       "    </tr>\n",
       "    <tr>\n",
       "      <th>family_status</th>\n",
       "      <th></th>\n",
       "      <th></th>\n",
       "    </tr>\n",
       "  </thead>\n",
       "  <tbody>\n",
       "    <tr>\n",
       "      <th>не женат / не замужем</th>\n",
       "      <td>2810</td>\n",
       "      <td>0.097509</td>\n",
       "    </tr>\n",
       "    <tr>\n",
       "      <th>гражданский брак</th>\n",
       "      <td>4151</td>\n",
       "      <td>0.093471</td>\n",
       "    </tr>\n",
       "    <tr>\n",
       "      <th>женат / замужем</th>\n",
       "      <td>12339</td>\n",
       "      <td>0.075452</td>\n",
       "    </tr>\n",
       "    <tr>\n",
       "      <th>в разводе</th>\n",
       "      <td>1195</td>\n",
       "      <td>0.071130</td>\n",
       "    </tr>\n",
       "    <tr>\n",
       "      <th>вдовец / вдова</th>\n",
       "      <td>959</td>\n",
       "      <td>0.065693</td>\n",
       "    </tr>\n",
       "  </tbody>\n",
       "</table>\n",
       "</div>"
      ],
      "text/plain": [
       "                       count      mean\n",
       "family_status                         \n",
       "не женат / не замужем   2810  0.097509\n",
       "гражданский брак        4151  0.093471\n",
       "женат / замужем        12339  0.075452\n",
       "в разводе               1195  0.071130\n",
       "вдовец / вдова           959  0.065693"
      ]
     },
     "execution_count": 21,
     "metadata": {},
     "output_type": "execute_result"
    }
   ],
   "source": [
    "fam_st = data.groupby('family_status')['debt'].agg(['count','mean']) #сгруппируем таблицу по семейному положению, в показателях выведем столбец 'debt'\n",
    "fam_st.sort_values('mean', ascending=False) #отсортируем в порядке убыванию по проценту событий, когда хоть раз задерживалась выплата по кредиту"
   ]
  },
  {
   "cell_type": "markdown",
   "metadata": {},
   "source": [
    "**Вывод:**"
   ]
  },
  {
   "cell_type": "markdown",
   "metadata": {},
   "source": [
    "Не женатые люди чаще всех имели задолженность по кредитам, очень близко к ним люди в гражданском браке, реже всех  - вдовцы."
   ]
  },
  {
   "cell_type": "markdown",
   "metadata": {},
   "source": [
    "- Есть ли зависимость между уровнем дохода и возвратом кредита в срок?"
   ]
  },
  {
   "cell_type": "code",
   "execution_count": 22,
   "metadata": {},
   "outputs": [
    {
     "data": {
      "text/html": [
       "<div>\n",
       "<style scoped>\n",
       "    .dataframe tbody tr th:only-of-type {\n",
       "        vertical-align: middle;\n",
       "    }\n",
       "\n",
       "    .dataframe tbody tr th {\n",
       "        vertical-align: top;\n",
       "    }\n",
       "\n",
       "    .dataframe thead tr th {\n",
       "        text-align: left;\n",
       "    }\n",
       "\n",
       "    .dataframe thead tr:last-of-type th {\n",
       "        text-align: right;\n",
       "    }\n",
       "</style>\n",
       "<table border=\"1\" class=\"dataframe\">\n",
       "  <thead>\n",
       "    <tr>\n",
       "      <th></th>\n",
       "      <th>count</th>\n",
       "      <th>mean</th>\n",
       "    </tr>\n",
       "    <tr>\n",
       "      <th></th>\n",
       "      <th>debt</th>\n",
       "      <th>debt</th>\n",
       "    </tr>\n",
       "    <tr>\n",
       "      <th>total_income_group</th>\n",
       "      <th></th>\n",
       "      <th></th>\n",
       "    </tr>\n",
       "  </thead>\n",
       "  <tbody>\n",
       "    <tr>\n",
       "      <th>очень низкий</th>\n",
       "      <td>5364</td>\n",
       "      <td>0.079605</td>\n",
       "    </tr>\n",
       "    <tr>\n",
       "      <th>низкий</th>\n",
       "      <td>6415</td>\n",
       "      <td>0.085269</td>\n",
       "    </tr>\n",
       "    <tr>\n",
       "      <th>средний</th>\n",
       "      <td>4311</td>\n",
       "      <td>0.089074</td>\n",
       "    </tr>\n",
       "    <tr>\n",
       "      <th>высокий</th>\n",
       "      <td>5364</td>\n",
       "      <td>0.071402</td>\n",
       "    </tr>\n",
       "  </tbody>\n",
       "</table>\n",
       "</div>"
      ],
      "text/plain": [
       "                   count      mean\n",
       "                    debt      debt\n",
       "total_income_group                \n",
       "очень низкий        5364  0.079605\n",
       "низкий              6415  0.085269\n",
       "средний             4311  0.089074\n",
       "высокий             5364  0.071402"
      ]
     },
     "execution_count": 22,
     "metadata": {},
     "output_type": "execute_result"
    }
   ],
   "source": [
    "data['total_income_group'] = pd.qcut(data['total_income'], q = [0, 0.25, 0.5, 0.75, 1], labels = ['очень низкий','низкий','средний','высокий'])\n",
    "data.pivot_table(index=['total_income_group'], values='debt', aggfunc=['count','mean'])\n"
   ]
  },
  {
   "cell_type": "markdown",
   "metadata": {},
   "source": [
    "**Вывод:**"
   ]
  },
  {
   "cell_type": "markdown",
   "metadata": {},
   "source": [
    "Люди с высоким доходом реже всех задерживают платежи по кредиту, люди с самым низким доходом платят лучше (стабильнее), чем люди с низким/средним доходом."
   ]
  },
  {
   "cell_type": "markdown",
   "metadata": {},
   "source": [
    "- Как разные цели кредита влияют на его возврат в срок?"
   ]
  },
  {
   "cell_type": "code",
   "execution_count": 23,
   "metadata": {},
   "outputs": [
    {
     "data": {
      "text/html": [
       "<div>\n",
       "<style scoped>\n",
       "    .dataframe tbody tr th:only-of-type {\n",
       "        vertical-align: middle;\n",
       "    }\n",
       "\n",
       "    .dataframe tbody tr th {\n",
       "        vertical-align: top;\n",
       "    }\n",
       "\n",
       "    .dataframe thead th {\n",
       "        text-align: right;\n",
       "    }\n",
       "</style>\n",
       "<table border=\"1\" class=\"dataframe\">\n",
       "  <thead>\n",
       "    <tr style=\"text-align: right;\">\n",
       "      <th></th>\n",
       "      <th>count</th>\n",
       "      <th>mean</th>\n",
       "    </tr>\n",
       "    <tr>\n",
       "      <th>purpose_category</th>\n",
       "      <th></th>\n",
       "      <th></th>\n",
       "    </tr>\n",
       "  </thead>\n",
       "  <tbody>\n",
       "    <tr>\n",
       "      <th>2</th>\n",
       "      <td>4306</td>\n",
       "      <td>0.093590</td>\n",
       "    </tr>\n",
       "    <tr>\n",
       "      <th>3</th>\n",
       "      <td>4013</td>\n",
       "      <td>0.092200</td>\n",
       "    </tr>\n",
       "    <tr>\n",
       "      <th>4</th>\n",
       "      <td>2324</td>\n",
       "      <td>0.080034</td>\n",
       "    </tr>\n",
       "    <tr>\n",
       "      <th>1</th>\n",
       "      <td>10811</td>\n",
       "      <td>0.072334</td>\n",
       "    </tr>\n",
       "  </tbody>\n",
       "</table>\n",
       "</div>"
      ],
      "text/plain": [
       "                  count      mean\n",
       "purpose_category                 \n",
       "2                  4306  0.093590\n",
       "3                  4013  0.092200\n",
       "4                  2324  0.080034\n",
       "1                 10811  0.072334"
      ]
     },
     "execution_count": 23,
     "metadata": {},
     "output_type": "execute_result"
    }
   ],
   "source": [
    "(data.groupby('purpose_category')['debt'].agg(['count','mean'])).sort_values('mean', ascending=False)\n",
    "\n"
   ]
  },
  {
   "cell_type": "markdown",
   "metadata": {},
   "source": [
    "**Вывод:**"
   ]
  },
  {
   "cell_type": "markdown",
   "metadata": {},
   "source": [
    "{'недвижимость/жилье': 1, 'автомобиль': 2, 'образование': 3, 'свадьба': 4}  \n",
    "**Самые ответственные - те, которые брали кредит на жилье, самые безответственные 2 и 3 группа (на образование и на авто)**"
   ]
  },
  {
   "cell_type": "markdown",
   "metadata": {},
   "source": [
    "## Общий вывод"
   ]
  },
  {
   "cell_type": "markdown",
   "metadata": {},
   "source": [
    "Отвечая на вопросы проектной работы я сознательно использовал 2 метода для построения сводных таблиц (groupby и pivot_table).  В целом по проекту можно сделать вывод, что самые ответственные заемщики - это люди без детей, с самым высоким и с самым низким доходом, вдовцы, либо в разводе, и те, которые берут кредит на жилье. Самые безответственные  - не женатые люди, либо находящиеся в гражданском браке с низким или средним доходом и берущие кредиты на образование, либо авто."
   ]
  }
 ],
 "metadata": {
  "ExecuteTimeLog": [
   {
    "duration": 1623,
    "start_time": "2021-08-03T07:35:54.029Z"
   },
   {
    "duration": 101,
    "start_time": "2021-08-03T07:36:04.560Z"
   },
   {
    "duration": 81,
    "start_time": "2021-08-03T08:15:10.313Z"
   },
   {
    "duration": 80,
    "start_time": "2021-08-03T13:22:39.855Z"
   },
   {
    "duration": 135,
    "start_time": "2021-08-03T13:23:46.443Z"
   },
   {
    "duration": 91,
    "start_time": "2021-08-03T13:23:56.166Z"
   },
   {
    "duration": 66,
    "start_time": "2021-08-03T13:24:34.995Z"
   },
   {
    "duration": 92,
    "start_time": "2021-08-03T13:24:44.842Z"
   },
   {
    "duration": 1882,
    "start_time": "2021-08-03T13:25:16.259Z"
   },
   {
    "duration": 94,
    "start_time": "2021-08-03T13:25:31.802Z"
   },
   {
    "duration": 106,
    "start_time": "2021-08-03T13:26:13.105Z"
   },
   {
    "duration": 64,
    "start_time": "2021-08-03T13:26:29.200Z"
   },
   {
    "duration": 80,
    "start_time": "2021-08-03T13:26:36.856Z"
   },
   {
    "duration": 69,
    "start_time": "2021-08-03T13:27:03.201Z"
   },
   {
    "duration": 84,
    "start_time": "2021-08-03T13:27:16.768Z"
   },
   {
    "duration": 81,
    "start_time": "2021-08-03T13:27:33.008Z"
   },
   {
    "duration": 74,
    "start_time": "2021-08-03T13:27:49.632Z"
   },
   {
    "duration": 79,
    "start_time": "2021-08-03T13:28:10.719Z"
   },
   {
    "duration": 80,
    "start_time": "2021-08-03T13:29:01.103Z"
   },
   {
    "duration": 75,
    "start_time": "2021-08-03T13:29:11.206Z"
   },
   {
    "duration": 69,
    "start_time": "2021-08-03T13:48:58.153Z"
   },
   {
    "duration": 69,
    "start_time": "2021-08-03T13:49:17.221Z"
   },
   {
    "duration": 72,
    "start_time": "2021-08-03T13:49:40.805Z"
   },
   {
    "duration": 96,
    "start_time": "2021-08-03T13:49:48.293Z"
   },
   {
    "duration": 88,
    "start_time": "2021-08-03T13:50:10.625Z"
   },
   {
    "duration": 85,
    "start_time": "2021-08-03T13:51:46.765Z"
   },
   {
    "duration": 92,
    "start_time": "2021-08-03T13:52:04.451Z"
   },
   {
    "duration": 67,
    "start_time": "2021-08-03T13:59:32.216Z"
   },
   {
    "duration": 92,
    "start_time": "2021-08-03T13:59:39.173Z"
   },
   {
    "duration": 553,
    "start_time": "2021-08-03T14:18:14.335Z"
   },
   {
    "duration": 376,
    "start_time": "2021-08-03T14:18:49.718Z"
   },
   {
    "duration": 62,
    "start_time": "2021-08-03T14:19:05.774Z"
   },
   {
    "duration": 59,
    "start_time": "2021-08-03T14:19:16.726Z"
   },
   {
    "duration": 65,
    "start_time": "2021-08-03T14:19:27.565Z"
   },
   {
    "duration": 64,
    "start_time": "2021-08-03T14:19:32.749Z"
   },
   {
    "duration": 388,
    "start_time": "2021-08-03T14:22:35.172Z"
   },
   {
    "duration": 65,
    "start_time": "2021-08-03T14:22:58.106Z"
   },
   {
    "duration": 68,
    "start_time": "2021-08-03T14:23:14.002Z"
   },
   {
    "duration": 69,
    "start_time": "2021-08-03T14:23:19.642Z"
   },
   {
    "duration": 379,
    "start_time": "2021-08-03T14:23:49.299Z"
   },
   {
    "duration": 708,
    "start_time": "2021-08-03T14:24:02.546Z"
   },
   {
    "duration": 112,
    "start_time": "2021-08-03T14:33:52.755Z"
   },
   {
    "duration": 378,
    "start_time": "2021-08-03T14:34:46.799Z"
   },
   {
    "duration": 76,
    "start_time": "2021-08-03T14:35:00.648Z"
   },
   {
    "duration": 102,
    "start_time": "2021-08-03T14:35:05.552Z"
   },
   {
    "duration": 86,
    "start_time": "2021-08-03T14:47:58.417Z"
   },
   {
    "duration": 64,
    "start_time": "2021-08-03T14:48:12.335Z"
   },
   {
    "duration": 368,
    "start_time": "2021-08-03T14:48:20.142Z"
   },
   {
    "duration": -13,
    "start_time": "2021-08-03T14:48:51.778Z"
   },
   {
    "duration": -18,
    "start_time": "2021-08-03T14:49:13.318Z"
   },
   {
    "duration": 65,
    "start_time": "2021-08-03T14:49:21.305Z"
   },
   {
    "duration": -20,
    "start_time": "2021-08-03T14:49:41.769Z"
   },
   {
    "duration": 74,
    "start_time": "2021-08-03T14:49:52.340Z"
   },
   {
    "duration": 66,
    "start_time": "2021-08-03T14:56:09.313Z"
   },
   {
    "duration": 64,
    "start_time": "2021-08-03T14:57:08.183Z"
   },
   {
    "duration": 85,
    "start_time": "2021-08-03T14:57:16.879Z"
   },
   {
    "duration": 72,
    "start_time": "2021-08-03T18:27:13.347Z"
   },
   {
    "duration": 80,
    "start_time": "2021-08-03T18:41:38.628Z"
   },
   {
    "duration": 376,
    "start_time": "2021-08-03T18:48:01.030Z"
   },
   {
    "duration": 379,
    "start_time": "2021-08-03T18:50:23.040Z"
   },
   {
    "duration": 380,
    "start_time": "2021-08-03T18:50:51.352Z"
   },
   {
    "duration": 85,
    "start_time": "2021-08-03T18:50:59.504Z"
   },
   {
    "duration": 467,
    "start_time": "2021-08-03T18:51:16.334Z"
   },
   {
    "duration": 64,
    "start_time": "2021-08-03T18:51:27.751Z"
   },
   {
    "duration": 72,
    "start_time": "2021-08-03T18:52:51.588Z"
   },
   {
    "duration": 367,
    "start_time": "2021-08-03T18:53:11.619Z"
   },
   {
    "duration": 356,
    "start_time": "2021-08-03T18:53:30.749Z"
   },
   {
    "duration": 75,
    "start_time": "2021-08-03T18:53:47.231Z"
   },
   {
    "duration": 7433,
    "start_time": "2021-08-03T18:55:48.305Z"
   },
   {
    "duration": -127,
    "start_time": "2021-08-03T18:56:04.460Z"
   },
   {
    "duration": 73,
    "start_time": "2021-08-03T18:56:33.770Z"
   },
   {
    "duration": 361,
    "start_time": "2021-08-03T18:56:56.085Z"
   },
   {
    "duration": 88,
    "start_time": "2021-08-03T18:57:01.285Z"
   },
   {
    "duration": 97,
    "start_time": "2021-08-03T18:57:36.989Z"
   },
   {
    "duration": 73,
    "start_time": "2021-08-03T19:05:13.196Z"
   },
   {
    "duration": 71,
    "start_time": "2021-08-03T19:05:21.610Z"
   },
   {
    "duration": 69,
    "start_time": "2021-08-03T19:05:37.525Z"
   },
   {
    "duration": 72,
    "start_time": "2021-08-03T19:05:47.477Z"
   },
   {
    "duration": 357,
    "start_time": "2021-08-03T19:06:15.304Z"
   },
   {
    "duration": 84,
    "start_time": "2021-08-03T19:06:30.552Z"
   },
   {
    "duration": 101,
    "start_time": "2021-08-03T19:06:41.079Z"
   },
   {
    "duration": 72,
    "start_time": "2021-08-03T19:06:44.974Z"
   },
   {
    "duration": 72,
    "start_time": "2021-08-03T19:07:16.415Z"
   },
   {
    "duration": 67,
    "start_time": "2021-08-03T19:10:41.800Z"
   },
   {
    "duration": 70,
    "start_time": "2021-08-03T19:13:01.981Z"
   },
   {
    "duration": 115,
    "start_time": "2021-08-03T19:13:21.515Z"
   },
   {
    "duration": 110,
    "start_time": "2021-08-03T19:13:25.291Z"
   },
   {
    "duration": 98,
    "start_time": "2021-08-03T19:13:28.646Z"
   },
   {
    "duration": 72,
    "start_time": "2021-08-03T19:13:35.039Z"
   },
   {
    "duration": 79,
    "start_time": "2021-08-03T19:13:45.663Z"
   },
   {
    "duration": 64,
    "start_time": "2021-08-03T19:48:55.364Z"
   },
   {
    "duration": 70,
    "start_time": "2021-08-03T19:49:17.640Z"
   },
   {
    "duration": 9,
    "start_time": "2021-08-03T19:57:35.511Z"
   },
   {
    "duration": -161,
    "start_time": "2021-08-03T19:58:31.287Z"
   },
   {
    "duration": 2020,
    "start_time": "2021-08-03T19:58:38.391Z"
   },
   {
    "duration": -163,
    "start_time": "2021-08-03T19:59:36.733Z"
   },
   {
    "duration": 77,
    "start_time": "2021-08-03T19:59:40.120Z"
   },
   {
    "duration": 2066,
    "start_time": "2021-08-03T19:59:42.702Z"
   },
   {
    "duration": 37,
    "start_time": "2021-08-03T19:59:52.783Z"
   },
   {
    "duration": 9,
    "start_time": "2021-08-03T20:01:09.190Z"
   },
   {
    "duration": -165,
    "start_time": "2021-08-03T20:02:09.692Z"
   },
   {
    "duration": 9,
    "start_time": "2021-08-03T20:02:13.129Z"
   },
   {
    "duration": 8,
    "start_time": "2021-08-03T20:02:22.088Z"
   },
   {
    "duration": 373,
    "start_time": "2021-08-03T20:03:27.309Z"
   },
   {
    "duration": 12,
    "start_time": "2021-08-03T20:03:32.804Z"
   },
   {
    "duration": 61,
    "start_time": "2021-08-03T20:57:11.424Z"
   },
   {
    "duration": 64,
    "start_time": "2021-08-03T20:57:13.609Z"
   },
   {
    "duration": 77,
    "start_time": "2021-08-03T20:57:16.773Z"
   },
   {
    "duration": 360,
    "start_time": "2021-08-03T21:24:26.342Z"
   },
   {
    "duration": 67,
    "start_time": "2021-08-03T21:24:42.550Z"
   },
   {
    "duration": 71,
    "start_time": "2021-08-03T21:24:56.593Z"
   },
   {
    "duration": 12,
    "start_time": "2021-08-03T21:25:26.422Z"
   },
   {
    "duration": 207,
    "start_time": "2021-08-03T21:33:57.081Z"
   },
   {
    "duration": 74,
    "start_time": "2021-08-03T21:37:09.141Z"
   },
   {
    "duration": 308,
    "start_time": "2021-08-03T21:38:02.216Z"
   },
   {
    "duration": 318,
    "start_time": "2021-08-03T21:40:25.963Z"
   },
   {
    "duration": 382,
    "start_time": "2021-08-03T21:40:38.883Z"
   },
   {
    "duration": 1044,
    "start_time": "2021-08-04T06:21:57.073Z"
   },
   {
    "duration": 72,
    "start_time": "2021-08-04T06:22:37.774Z"
   },
   {
    "duration": 8,
    "start_time": "2021-08-04T06:22:40.725Z"
   },
   {
    "duration": 15,
    "start_time": "2021-08-04T06:27:18.049Z"
   },
   {
    "duration": 9,
    "start_time": "2021-08-04T06:27:41.073Z"
   },
   {
    "duration": -40,
    "start_time": "2021-08-04T06:28:27.790Z"
   },
   {
    "duration": -35,
    "start_time": "2021-08-04T06:28:34.579Z"
   },
   {
    "duration": 10020,
    "start_time": "2021-08-04T06:28:39.695Z"
   },
   {
    "duration": 32547,
    "start_time": "2021-08-04T06:28:50.808Z"
   },
   {
    "duration": 359,
    "start_time": "2021-08-04T06:32:49.885Z"
   },
   {
    "duration": 318,
    "start_time": "2021-08-04T06:33:06.484Z"
   },
   {
    "duration": 5087,
    "start_time": "2021-08-04T06:33:44.835Z"
   },
   {
    "duration": 79,
    "start_time": "2021-08-04T06:34:40.186Z"
   },
   {
    "duration": 15,
    "start_time": "2021-08-04T06:34:57.259Z"
   },
   {
    "duration": 220,
    "start_time": "2021-08-04T06:35:09.170Z"
   },
   {
    "duration": 8,
    "start_time": "2021-08-04T06:35:17.322Z"
   },
   {
    "duration": 1250,
    "start_time": "2021-08-04T06:50:33.544Z"
   },
   {
    "duration": 405,
    "start_time": "2021-08-04T06:51:02.853Z"
   },
   {
    "duration": 33,
    "start_time": "2021-08-04T06:51:21.741Z"
   },
   {
    "duration": 110,
    "start_time": "2021-08-04T06:51:42.580Z"
   },
   {
    "duration": 4,
    "start_time": "2021-08-04T06:53:41.276Z"
   },
   {
    "duration": 13,
    "start_time": "2021-08-04T06:55:31.363Z"
   },
   {
    "duration": 9,
    "start_time": "2021-08-04T06:56:30.082Z"
   },
   {
    "duration": 8,
    "start_time": "2021-08-04T07:02:45.791Z"
   },
   {
    "duration": 7,
    "start_time": "2021-08-04T07:02:48.821Z"
   },
   {
    "duration": 72,
    "start_time": "2021-08-04T07:02:54.532Z"
   },
   {
    "duration": 7,
    "start_time": "2021-08-04T07:03:03.004Z"
   },
   {
    "duration": 9,
    "start_time": "2021-08-04T07:03:13.052Z"
   },
   {
    "duration": 110,
    "start_time": "2021-08-04T07:22:26.054Z"
   },
   {
    "duration": 111,
    "start_time": "2021-08-04T07:22:30.245Z"
   },
   {
    "duration": 76,
    "start_time": "2021-08-04T07:22:33.588Z"
   },
   {
    "duration": 108,
    "start_time": "2021-08-04T07:22:38.716Z"
   },
   {
    "duration": 423,
    "start_time": "2021-08-04T07:22:51.580Z"
   },
   {
    "duration": 97,
    "start_time": "2021-08-04T07:23:08.043Z"
   },
   {
    "duration": 96,
    "start_time": "2021-08-04T07:23:21.707Z"
   },
   {
    "duration": 251,
    "start_time": "2021-08-04T07:23:31.411Z"
   },
   {
    "duration": 9,
    "start_time": "2021-08-04T07:43:26.220Z"
   },
   {
    "duration": 11,
    "start_time": "2021-08-04T07:43:52.257Z"
   },
   {
    "duration": 7,
    "start_time": "2021-08-04T07:52:15.780Z"
   },
   {
    "duration": 8,
    "start_time": "2021-08-04T07:56:03.942Z"
   },
   {
    "duration": 8,
    "start_time": "2021-08-04T07:56:08.415Z"
   },
   {
    "duration": 76,
    "start_time": "2021-08-04T07:56:14.597Z"
   },
   {
    "duration": 9,
    "start_time": "2021-08-04T07:56:17.805Z"
   },
   {
    "duration": 6,
    "start_time": "2021-08-04T07:56:36.581Z"
   },
   {
    "duration": 6,
    "start_time": "2021-08-04T07:56:39.060Z"
   },
   {
    "duration": 8,
    "start_time": "2021-08-04T07:56:40.820Z"
   },
   {
    "duration": 7,
    "start_time": "2021-08-04T07:56:43.797Z"
   },
   {
    "duration": 116,
    "start_time": "2021-08-04T08:21:45.814Z"
   },
   {
    "duration": 116,
    "start_time": "2021-08-04T08:21:59.200Z"
   },
   {
    "duration": 91,
    "start_time": "2021-08-04T08:22:51.999Z"
   },
   {
    "duration": 114,
    "start_time": "2021-08-04T08:23:12.991Z"
   },
   {
    "duration": 303,
    "start_time": "2021-08-04T08:24:13.271Z"
   },
   {
    "duration": 297,
    "start_time": "2021-08-04T08:30:46.842Z"
   },
   {
    "duration": 322,
    "start_time": "2021-08-04T08:31:02.338Z"
   },
   {
    "duration": 43,
    "start_time": "2021-08-04T08:31:29.441Z"
   },
   {
    "duration": 42,
    "start_time": "2021-08-04T08:31:58.935Z"
   },
   {
    "duration": 50,
    "start_time": "2021-08-04T08:32:21.775Z"
   },
   {
    "duration": 68,
    "start_time": "2021-08-04T08:51:21.992Z"
   },
   {
    "duration": 399,
    "start_time": "2021-08-04T08:52:03.289Z"
   },
   {
    "duration": 75,
    "start_time": "2021-08-04T08:52:22.616Z"
   },
   {
    "duration": 4532,
    "start_time": "2021-08-04T08:52:55.087Z"
   },
   {
    "duration": 4959,
    "start_time": "2021-08-04T08:53:46.278Z"
   },
   {
    "duration": 4177,
    "start_time": "2021-08-04T08:54:23.285Z"
   },
   {
    "duration": 5805,
    "start_time": "2021-08-04T08:54:32.253Z"
   },
   {
    "duration": 115,
    "start_time": "2021-08-04T08:57:26.836Z"
   },
   {
    "duration": 3931,
    "start_time": "2021-08-04T08:57:40.754Z"
   },
   {
    "duration": 3814,
    "start_time": "2021-08-04T08:57:47.018Z"
   },
   {
    "duration": 3845,
    "start_time": "2021-08-04T08:58:51.762Z"
   },
   {
    "duration": 95,
    "start_time": "2021-08-04T09:20:17.267Z"
   },
   {
    "duration": 73,
    "start_time": "2021-08-04T09:20:30.251Z"
   },
   {
    "duration": 108,
    "start_time": "2021-08-04T09:29:48.750Z"
   },
   {
    "duration": 229,
    "start_time": "2021-08-04T09:36:02.019Z"
   },
   {
    "duration": 111,
    "start_time": "2021-08-04T09:36:24.770Z"
   },
   {
    "duration": 105,
    "start_time": "2021-08-04T09:37:44.921Z"
   },
   {
    "duration": 195,
    "start_time": "2021-08-04T10:19:56.418Z"
   },
   {
    "duration": 75,
    "start_time": "2021-08-04T10:30:07.490Z"
   },
   {
    "duration": 108,
    "start_time": "2021-08-04T10:30:12.550Z"
   },
   {
    "duration": 108,
    "start_time": "2021-08-04T10:34:01.083Z"
   },
   {
    "duration": 561,
    "start_time": "2021-08-04T10:34:18.579Z"
   },
   {
    "duration": 130,
    "start_time": "2021-08-04T10:34:35.211Z"
   },
   {
    "duration": 74,
    "start_time": "2021-08-04T11:02:31.899Z"
   },
   {
    "duration": 64,
    "start_time": "2021-08-04T11:03:04.131Z"
   },
   {
    "duration": 71,
    "start_time": "2021-08-04T11:03:05.834Z"
   },
   {
    "duration": 53,
    "start_time": "2021-08-04T11:12:44.832Z"
   },
   {
    "duration": 49,
    "start_time": "2021-08-04T11:58:51.490Z"
   },
   {
    "duration": 47,
    "start_time": "2021-08-04T12:01:39.482Z"
   },
   {
    "duration": 50,
    "start_time": "2021-08-04T12:01:58.330Z"
   },
   {
    "duration": 55,
    "start_time": "2021-08-04T12:02:19.843Z"
   },
   {
    "duration": 53,
    "start_time": "2021-08-04T12:02:35.842Z"
   },
   {
    "duration": 56,
    "start_time": "2021-08-04T12:06:13.512Z"
   },
   {
    "duration": 76,
    "start_time": "2021-08-04T13:00:03.401Z"
   },
   {
    "duration": 65,
    "start_time": "2021-08-04T13:25:37.994Z"
   },
   {
    "duration": 61,
    "start_time": "2021-08-04T14:15:15.649Z"
   },
   {
    "duration": 6,
    "start_time": "2021-08-04T14:26:28.880Z"
   },
   {
    "duration": 16,
    "start_time": "2021-08-04T14:26:43.867Z"
   },
   {
    "duration": 56,
    "start_time": "2021-08-04T14:27:12.491Z"
   },
   {
    "duration": 15,
    "start_time": "2021-08-04T14:27:29.250Z"
   },
   {
    "duration": 313,
    "start_time": "2021-08-04T14:28:33.257Z"
   },
   {
    "duration": 329,
    "start_time": "2021-08-04T14:45:38.225Z"
   },
   {
    "duration": 346,
    "start_time": "2021-08-04T14:45:43.859Z"
   },
   {
    "duration": 345,
    "start_time": "2021-08-04T14:46:03.044Z"
   },
   {
    "duration": 11,
    "start_time": "2021-08-04T14:46:10.227Z"
   },
   {
    "duration": 19,
    "start_time": "2021-08-04T14:51:26.015Z"
   },
   {
    "duration": 20,
    "start_time": "2021-08-04T14:53:55.286Z"
   },
   {
    "duration": 9,
    "start_time": "2021-08-04T14:54:20.444Z"
   },
   {
    "duration": 7,
    "start_time": "2021-08-04T14:54:31.852Z"
   },
   {
    "duration": 63,
    "start_time": "2021-08-04T14:55:50.867Z"
   },
   {
    "duration": 18,
    "start_time": "2021-08-04T14:57:51.930Z"
   },
   {
    "duration": 8,
    "start_time": "2021-08-04T14:58:06.513Z"
   },
   {
    "duration": 9,
    "start_time": "2021-08-04T14:58:24.249Z"
   },
   {
    "duration": 17,
    "start_time": "2021-08-04T14:58:46.289Z"
   },
   {
    "duration": 97,
    "start_time": "2021-08-04T14:59:21.984Z"
   },
   {
    "duration": 9,
    "start_time": "2021-08-04T14:59:27.664Z"
   },
   {
    "duration": 7,
    "start_time": "2021-08-04T14:59:34.328Z"
   },
   {
    "duration": 30,
    "start_time": "2021-08-04T14:59:39.352Z"
   },
   {
    "duration": 78,
    "start_time": "2021-08-04T15:00:02.349Z"
   },
   {
    "duration": 57,
    "start_time": "2021-08-04T15:00:07.640Z"
   },
   {
    "duration": 7,
    "start_time": "2021-08-04T15:00:14.357Z"
   },
   {
    "duration": 33,
    "start_time": "2021-08-04T15:00:21.145Z"
   },
   {
    "duration": 22,
    "start_time": "2021-08-04T16:32:25.081Z"
   },
   {
    "duration": 31,
    "start_time": "2021-08-04T16:39:42.787Z"
   },
   {
    "duration": 6,
    "start_time": "2021-08-04T16:40:22.427Z"
   },
   {
    "duration": 338,
    "start_time": "2021-08-04T16:40:33.985Z"
   },
   {
    "duration": 51,
    "start_time": "2021-08-04T16:40:45.013Z"
   },
   {
    "duration": 50,
    "start_time": "2021-08-04T16:40:48.776Z"
   },
   {
    "duration": 94,
    "start_time": "2021-08-04T16:40:52.329Z"
   },
   {
    "duration": 62,
    "start_time": "2021-08-04T16:40:53.514Z"
   },
   {
    "duration": 8,
    "start_time": "2021-08-04T16:40:54.187Z"
   },
   {
    "duration": 68,
    "start_time": "2021-08-04T16:40:55.180Z"
   },
   {
    "duration": 516,
    "start_time": "2021-08-04T16:46:54.823Z"
   },
   {
    "duration": 29,
    "start_time": "2021-08-04T16:47:36.600Z"
   },
   {
    "duration": 43,
    "start_time": "2021-08-04T16:48:11.716Z"
   },
   {
    "duration": 34,
    "start_time": "2021-08-04T16:52:16.880Z"
   },
   {
    "duration": 7,
    "start_time": "2021-08-04T16:55:13.874Z"
   },
   {
    "duration": 47,
    "start_time": "2021-08-04T16:55:17.379Z"
   },
   {
    "duration": 87,
    "start_time": "2021-08-04T16:55:27.248Z"
   },
   {
    "duration": 71,
    "start_time": "2021-08-04T16:55:28.160Z"
   },
   {
    "duration": 7,
    "start_time": "2021-08-04T16:55:28.805Z"
   },
   {
    "duration": 45,
    "start_time": "2021-08-04T16:55:29.510Z"
   },
   {
    "duration": 20,
    "start_time": "2021-08-04T16:56:05.503Z"
   },
   {
    "duration": 17,
    "start_time": "2021-08-04T17:10:00.649Z"
   },
   {
    "duration": 17,
    "start_time": "2021-08-04T17:11:10.653Z"
   },
   {
    "duration": 15,
    "start_time": "2021-08-04T17:11:23.342Z"
   },
   {
    "duration": 26,
    "start_time": "2021-08-04T17:11:31.668Z"
   },
   {
    "duration": 18,
    "start_time": "2021-08-04T17:12:50.121Z"
   },
   {
    "duration": 21,
    "start_time": "2021-08-04T17:12:59.817Z"
   },
   {
    "duration": 20,
    "start_time": "2021-08-04T17:13:23.517Z"
   },
   {
    "duration": 25,
    "start_time": "2021-08-04T17:16:01.070Z"
   },
   {
    "duration": 83,
    "start_time": "2021-08-04T17:16:04.879Z"
   },
   {
    "duration": 78,
    "start_time": "2021-08-04T17:16:04.965Z"
   },
   {
    "duration": 16,
    "start_time": "2021-08-04T17:16:05.047Z"
   },
   {
    "duration": 39,
    "start_time": "2021-08-04T17:16:05.088Z"
   },
   {
    "duration": 31,
    "start_time": "2021-08-04T17:16:24.885Z"
   },
   {
    "duration": 45,
    "start_time": "2021-08-04T17:18:07.465Z"
   },
   {
    "duration": 50,
    "start_time": "2021-08-04T17:19:41.792Z"
   },
   {
    "duration": 24,
    "start_time": "2021-08-04T17:20:18.214Z"
   },
   {
    "duration": 25,
    "start_time": "2021-08-04T17:20:39.252Z"
   },
   {
    "duration": 24,
    "start_time": "2021-08-04T17:20:58.754Z"
   },
   {
    "duration": 7858,
    "start_time": "2021-08-04T17:21:25.786Z"
   },
   {
    "duration": 23,
    "start_time": "2021-08-04T17:21:42.313Z"
   },
   {
    "duration": 24,
    "start_time": "2021-08-04T17:21:52.234Z"
   },
   {
    "duration": 22,
    "start_time": "2021-08-04T17:22:16.188Z"
   },
   {
    "duration": 62,
    "start_time": "2021-08-04T17:22:45.965Z"
   },
   {
    "duration": 21,
    "start_time": "2021-08-04T17:22:55.151Z"
   },
   {
    "duration": 102,
    "start_time": "2021-08-04T17:22:58.121Z"
   },
   {
    "duration": 51,
    "start_time": "2021-08-04T17:22:58.226Z"
   },
   {
    "duration": 31,
    "start_time": "2021-08-04T17:22:58.281Z"
   },
   {
    "duration": 43,
    "start_time": "2021-08-04T17:22:58.315Z"
   },
   {
    "duration": 12,
    "start_time": "2021-08-04T17:23:11.695Z"
   },
   {
    "duration": 10,
    "start_time": "2021-08-04T17:23:17.338Z"
   },
   {
    "duration": 82,
    "start_time": "2021-08-04T17:23:39.038Z"
   },
   {
    "duration": 32,
    "start_time": "2021-08-04T17:23:49.277Z"
   },
   {
    "duration": 37,
    "start_time": "2021-08-04T17:23:54.722Z"
   },
   {
    "duration": 39,
    "start_time": "2021-08-04T17:24:00.227Z"
   },
   {
    "duration": 90,
    "start_time": "2021-08-04T17:24:31.122Z"
   },
   {
    "duration": 54,
    "start_time": "2021-08-04T17:24:31.216Z"
   },
   {
    "duration": 53,
    "start_time": "2021-08-04T17:24:31.274Z"
   },
   {
    "duration": 77,
    "start_time": "2021-08-04T17:24:31.331Z"
   },
   {
    "duration": 48,
    "start_time": "2021-08-04T17:25:32.651Z"
   },
   {
    "duration": 42,
    "start_time": "2021-08-04T17:25:50.006Z"
   },
   {
    "duration": 111,
    "start_time": "2021-08-04T17:26:30.326Z"
   },
   {
    "duration": 98,
    "start_time": "2021-08-04T17:26:34.211Z"
   },
   {
    "duration": 54,
    "start_time": "2021-08-04T17:26:42.156Z"
   },
   {
    "duration": 86,
    "start_time": "2021-08-04T17:26:51.607Z"
   },
   {
    "duration": 77,
    "start_time": "2021-08-04T17:28:11.439Z"
   },
   {
    "duration": 50,
    "start_time": "2021-08-04T17:28:14.079Z"
   },
   {
    "duration": 45,
    "start_time": "2021-08-04T17:28:37.657Z"
   },
   {
    "duration": 23,
    "start_time": "2021-08-04T17:28:55.688Z"
   },
   {
    "duration": 27,
    "start_time": "2021-08-04T17:29:05.268Z"
   },
   {
    "duration": 28,
    "start_time": "2021-08-04T17:29:38.751Z"
   },
   {
    "duration": 73,
    "start_time": "2021-08-04T17:30:01.081Z"
   },
   {
    "duration": 131,
    "start_time": "2021-08-04T17:35:04.321Z"
   },
   {
    "duration": 84,
    "start_time": "2021-08-04T17:35:29.024Z"
   },
   {
    "duration": 101,
    "start_time": "2021-08-04T17:35:49.078Z"
   },
   {
    "duration": 97,
    "start_time": "2021-08-04T17:36:15.049Z"
   },
   {
    "duration": 63,
    "start_time": "2021-08-04T17:36:24.531Z"
   },
   {
    "duration": 63,
    "start_time": "2021-08-04T17:36:34.967Z"
   },
   {
    "duration": 63,
    "start_time": "2021-08-04T17:36:49.196Z"
   },
   {
    "duration": 88,
    "start_time": "2021-08-04T17:37:03.377Z"
   },
   {
    "duration": 74,
    "start_time": "2021-08-04T17:37:03.467Z"
   },
   {
    "duration": 18,
    "start_time": "2021-08-04T17:37:03.544Z"
   },
   {
    "duration": 85,
    "start_time": "2021-08-04T17:37:03.565Z"
   },
   {
    "duration": 97,
    "start_time": "2021-08-04T17:37:11.205Z"
   },
   {
    "duration": 59,
    "start_time": "2021-08-04T17:37:52.121Z"
   },
   {
    "duration": 354,
    "start_time": "2021-08-04T17:38:20.182Z"
   },
   {
    "duration": 80,
    "start_time": "2021-08-04T17:38:43.129Z"
   },
   {
    "duration": 10,
    "start_time": "2021-08-04T18:06:53.226Z"
   },
   {
    "duration": 431,
    "start_time": "2021-08-04T18:08:39.812Z"
   },
   {
    "duration": 332,
    "start_time": "2021-08-04T18:10:40.712Z"
   },
   {
    "duration": 10,
    "start_time": "2021-08-04T18:12:36.265Z"
   },
   {
    "duration": 6,
    "start_time": "2021-08-04T18:13:02.890Z"
   },
   {
    "duration": 317,
    "start_time": "2021-08-04T18:14:52.336Z"
   },
   {
    "duration": 90,
    "start_time": "2021-08-04T18:14:55.169Z"
   },
   {
    "duration": 76,
    "start_time": "2021-08-04T18:14:55.262Z"
   },
   {
    "duration": 18,
    "start_time": "2021-08-04T18:14:55.341Z"
   },
   {
    "duration": 102,
    "start_time": "2021-08-04T18:14:55.362Z"
   },
   {
    "duration": 311,
    "start_time": "2021-08-04T18:14:55.466Z"
   },
   {
    "duration": 317,
    "start_time": "2021-08-04T18:15:02.173Z"
   },
   {
    "duration": 330,
    "start_time": "2021-08-04T18:15:23.999Z"
   },
   {
    "duration": 534,
    "start_time": "2021-08-04T18:20:29.450Z"
   },
   {
    "duration": 331,
    "start_time": "2021-08-04T18:21:00.186Z"
   },
   {
    "duration": 89,
    "start_time": "2021-08-04T18:21:03.561Z"
   },
   {
    "duration": 333,
    "start_time": "2021-08-04T18:21:05.015Z"
   },
   {
    "duration": 12,
    "start_time": "2021-08-04T18:21:13.754Z"
   },
   {
    "duration": 331,
    "start_time": "2021-08-04T18:26:58.471Z"
   },
   {
    "duration": 823,
    "start_time": "2021-08-04T18:27:13.542Z"
   },
   {
    "duration": 13449,
    "start_time": "2021-08-04T18:28:32.219Z"
   },
   {
    "duration": 5215,
    "start_time": "2021-08-04T18:30:16.104Z"
   },
   {
    "duration": 35,
    "start_time": "2021-08-04T19:03:43.655Z"
   },
   {
    "duration": 6,
    "start_time": "2021-08-04T19:04:03.927Z"
   },
   {
    "duration": 10,
    "start_time": "2021-08-04T19:07:48.406Z"
   },
   {
    "duration": 2065,
    "start_time": "2021-08-04T19:08:24.897Z"
   },
   {
    "duration": 2236,
    "start_time": "2021-08-04T19:08:42.792Z"
   },
   {
    "duration": 2314,
    "start_time": "2021-08-04T19:08:52.537Z"
   },
   {
    "duration": 79,
    "start_time": "2021-08-04T19:08:58.052Z"
   },
   {
    "duration": 79,
    "start_time": "2021-08-04T19:08:58.133Z"
   },
   {
    "duration": 18,
    "start_time": "2021-08-04T19:08:58.216Z"
   },
   {
    "duration": 96,
    "start_time": "2021-08-04T19:08:58.237Z"
   },
   {
    "duration": 3,
    "start_time": "2021-08-04T19:08:58.336Z"
   },
   {
    "duration": 83,
    "start_time": "2021-08-04T19:09:13.365Z"
   },
   {
    "duration": 66,
    "start_time": "2021-08-04T19:09:52.579Z"
   },
   {
    "duration": 72,
    "start_time": "2021-08-04T19:10:11.084Z"
   },
   {
    "duration": 324,
    "start_time": "2021-08-04T20:48:15.667Z"
   },
   {
    "duration": 75,
    "start_time": "2021-08-04T20:48:19.102Z"
   },
   {
    "duration": 75,
    "start_time": "2021-08-04T20:48:19.179Z"
   },
   {
    "duration": 43,
    "start_time": "2021-08-04T20:48:19.258Z"
   },
   {
    "duration": 134,
    "start_time": "2021-08-04T20:48:19.306Z"
   },
   {
    "duration": 318,
    "start_time": "2021-08-04T20:48:19.442Z"
   },
   {
    "duration": 323,
    "start_time": "2021-08-04T20:48:41.024Z"
   },
   {
    "duration": 314,
    "start_time": "2021-08-04T20:48:49.571Z"
   },
   {
    "duration": 325,
    "start_time": "2021-08-04T20:49:29.674Z"
   },
   {
    "duration": 327,
    "start_time": "2021-08-04T20:49:36.382Z"
   },
   {
    "duration": -234,
    "start_time": "2021-08-04T21:06:44.760Z"
   },
   {
    "duration": 5240,
    "start_time": "2021-08-04T21:29:21.893Z"
   },
   {
    "duration": 6518,
    "start_time": "2021-08-04T21:31:18.891Z"
   },
   {
    "duration": 6311,
    "start_time": "2021-08-04T21:32:17.273Z"
   },
   {
    "duration": 6800,
    "start_time": "2021-08-04T21:32:44.252Z"
   },
   {
    "duration": 5952,
    "start_time": "2021-08-04T21:32:57.970Z"
   },
   {
    "duration": 5369,
    "start_time": "2021-08-04T21:37:07.249Z"
   },
   {
    "duration": 7678,
    "start_time": "2021-08-04T21:37:30.940Z"
   },
   {
    "duration": 5307,
    "start_time": "2021-08-04T21:47:51.353Z"
   },
   {
    "duration": 3657,
    "start_time": "2021-08-04T22:04:59.059Z"
   },
   {
    "duration": 183,
    "start_time": "2021-08-05T09:12:11.108Z"
   },
   {
    "duration": 109,
    "start_time": "2021-08-05T09:12:46.401Z"
   },
   {
    "duration": 112,
    "start_time": "2021-08-05T09:14:44.765Z"
   },
   {
    "duration": 108,
    "start_time": "2021-08-05T09:14:51.269Z"
   },
   {
    "duration": 107,
    "start_time": "2021-08-05T09:14:56.524Z"
   },
   {
    "duration": 102,
    "start_time": "2021-08-05T09:15:11.333Z"
   },
   {
    "duration": 3854,
    "start_time": "2021-08-05T09:15:39.523Z"
   },
   {
    "duration": 3340,
    "start_time": "2021-08-05T09:25:05.832Z"
   },
   {
    "duration": 3716,
    "start_time": "2021-08-05T09:27:51.875Z"
   },
   {
    "duration": 2840,
    "start_time": "2021-08-05T09:27:59.906Z"
   },
   {
    "duration": 3229,
    "start_time": "2021-08-05T09:28:06.459Z"
   },
   {
    "duration": 3754,
    "start_time": "2021-08-05T09:28:30.346Z"
   },
   {
    "duration": 3278,
    "start_time": "2021-08-05T09:28:52.673Z"
   },
   {
    "duration": 4003,
    "start_time": "2021-08-05T09:29:06.642Z"
   },
   {
    "duration": 3924,
    "start_time": "2021-08-05T09:42:07.773Z"
   },
   {
    "duration": 3551,
    "start_time": "2021-08-05T10:22:16.171Z"
   },
   {
    "duration": 16,
    "start_time": "2021-08-05T11:14:28.389Z"
   },
   {
    "duration": 11,
    "start_time": "2021-08-05T11:14:46.419Z"
   },
   {
    "duration": 15,
    "start_time": "2021-08-05T11:14:58.826Z"
   },
   {
    "duration": 361,
    "start_time": "2021-08-05T11:15:04.171Z"
   },
   {
    "duration": 15,
    "start_time": "2021-08-05T11:15:09.914Z"
   },
   {
    "duration": 16,
    "start_time": "2021-08-05T11:15:32.682Z"
   },
   {
    "duration": 14,
    "start_time": "2021-08-05T11:16:01.226Z"
   },
   {
    "duration": 14,
    "start_time": "2021-08-05T11:16:12.369Z"
   },
   {
    "duration": 14,
    "start_time": "2021-08-05T11:16:24.697Z"
   },
   {
    "duration": 320,
    "start_time": "2021-08-05T11:16:39.097Z"
   },
   {
    "duration": 317,
    "start_time": "2021-08-05T11:16:53.425Z"
   },
   {
    "duration": 16,
    "start_time": "2021-08-05T11:21:27.261Z"
   },
   {
    "duration": 32,
    "start_time": "2021-08-05T11:23:08.947Z"
   },
   {
    "duration": 316,
    "start_time": "2021-08-05T11:23:38.276Z"
   },
   {
    "duration": 313,
    "start_time": "2021-08-05T11:23:46.202Z"
   },
   {
    "duration": 19,
    "start_time": "2021-08-05T11:23:50.187Z"
   },
   {
    "duration": 3341,
    "start_time": "2021-08-05T13:16:29.567Z"
   },
   {
    "duration": 3898,
    "start_time": "2021-08-05T13:21:39.046Z"
   },
   {
    "duration": 3972,
    "start_time": "2021-08-05T13:22:14.378Z"
   },
   {
    "duration": 3596,
    "start_time": "2021-08-05T13:22:29.450Z"
   },
   {
    "duration": 9097,
    "start_time": "2021-08-05T13:22:46.889Z"
   },
   {
    "duration": 3957,
    "start_time": "2021-08-05T13:23:01.770Z"
   },
   {
    "duration": 3978,
    "start_time": "2021-08-05T13:23:11.057Z"
   },
   {
    "duration": 21,
    "start_time": "2021-08-05T13:29:45.939Z"
   },
   {
    "duration": 15,
    "start_time": "2021-08-05T16:08:06.910Z"
   },
   {
    "duration": 39,
    "start_time": "2021-08-05T16:08:28.798Z"
   },
   {
    "duration": 47,
    "start_time": "2021-08-05T16:08:42.154Z"
   },
   {
    "duration": 46,
    "start_time": "2021-08-05T16:10:04.178Z"
   },
   {
    "duration": 2717,
    "start_time": "2021-08-05T16:10:30.064Z"
   },
   {
    "duration": 80,
    "start_time": "2021-08-05T16:10:36.790Z"
   },
   {
    "duration": 70,
    "start_time": "2021-08-05T16:10:36.873Z"
   },
   {
    "duration": 45,
    "start_time": "2021-08-05T16:10:36.947Z"
   },
   {
    "duration": 102,
    "start_time": "2021-08-05T16:10:36.997Z"
   },
   {
    "duration": 11925,
    "start_time": "2021-08-05T16:10:37.103Z"
   },
   {
    "duration": -34,
    "start_time": "2021-08-05T16:10:49.066Z"
   },
   {
    "duration": 94,
    "start_time": "2021-08-05T16:10:57.549Z"
   },
   {
    "duration": 85,
    "start_time": "2021-08-05T16:11:47.333Z"
   },
   {
    "duration": 12430,
    "start_time": "2021-08-05T16:12:00.297Z"
   },
   {
    "duration": 82,
    "start_time": "2021-08-05T16:12:54.005Z"
   },
   {
    "duration": 67,
    "start_time": "2021-08-05T16:12:55.549Z"
   },
   {
    "duration": 26,
    "start_time": "2021-08-05T16:12:56.687Z"
   },
   {
    "duration": 83,
    "start_time": "2021-08-05T16:12:58.666Z"
   },
   {
    "duration": 12180,
    "start_time": "2021-08-05T16:13:01.017Z"
   },
   {
    "duration": -35,
    "start_time": "2021-08-05T16:13:13.236Z"
   },
   {
    "duration": 15383,
    "start_time": "2021-08-05T16:15:04.641Z"
   },
   {
    "duration": 12116,
    "start_time": "2021-08-05T16:30:53.141Z"
   },
   {
    "duration": 3849,
    "start_time": "2021-08-05T16:36:52.829Z"
   },
   {
    "duration": 11841,
    "start_time": "2021-08-05T16:37:08.243Z"
   },
   {
    "duration": 11992,
    "start_time": "2021-08-05T16:37:22.050Z"
   },
   {
    "duration": 4863,
    "start_time": "2021-08-05T16:56:39.687Z"
   },
   {
    "duration": 3666,
    "start_time": "2021-08-05T16:56:50.354Z"
   },
   {
    "duration": 4113,
    "start_time": "2021-08-05T16:57:24.319Z"
   },
   {
    "duration": 19699,
    "start_time": "2021-08-05T16:59:38.610Z"
   },
   {
    "duration": 7648,
    "start_time": "2021-08-05T19:02:49.969Z"
   },
   {
    "duration": 7,
    "start_time": "2021-08-05T19:04:33.134Z"
   },
   {
    "duration": 23,
    "start_time": "2021-08-05T19:04:41.037Z"
   },
   {
    "duration": 359,
    "start_time": "2021-08-05T19:05:11.456Z"
   },
   {
    "duration": 17,
    "start_time": "2021-08-05T19:05:43.119Z"
   },
   {
    "duration": 26,
    "start_time": "2021-08-05T19:08:44.695Z"
   },
   {
    "duration": 28,
    "start_time": "2021-08-05T19:38:25.459Z"
   },
   {
    "duration": 32,
    "start_time": "2021-08-05T19:38:44.308Z"
   },
   {
    "duration": 7827,
    "start_time": "2021-08-05T19:38:48.729Z"
   },
   {
    "duration": 296,
    "start_time": "2021-08-05T19:42:31.087Z"
   },
   {
    "duration": 28,
    "start_time": "2021-08-05T19:42:53.686Z"
   },
   {
    "duration": 29,
    "start_time": "2021-08-05T19:43:07.213Z"
   },
   {
    "duration": 40,
    "start_time": "2021-08-05T19:43:47.661Z"
   },
   {
    "duration": 28,
    "start_time": "2021-08-05T19:44:36.431Z"
   },
   {
    "duration": 33,
    "start_time": "2021-08-05T19:44:42.333Z"
   },
   {
    "duration": 47,
    "start_time": "2021-08-05T19:47:54.964Z"
   },
   {
    "duration": 99,
    "start_time": "2021-08-05T19:54:40.235Z"
   },
   {
    "duration": 114,
    "start_time": "2021-08-05T19:55:18.044Z"
   },
   {
    "duration": 69,
    "start_time": "2021-08-05T19:56:48.931Z"
   },
   {
    "duration": 60,
    "start_time": "2021-08-05T19:57:32.486Z"
   },
   {
    "duration": 77,
    "start_time": "2021-08-05T19:58:05.233Z"
   },
   {
    "duration": 55,
    "start_time": "2021-08-05T19:58:07.889Z"
   },
   {
    "duration": 98,
    "start_time": "2021-08-05T19:58:39.645Z"
   },
   {
    "duration": 27,
    "start_time": "2021-08-05T19:58:43.766Z"
   },
   {
    "duration": 26,
    "start_time": "2021-08-05T19:58:57.113Z"
   },
   {
    "duration": 28,
    "start_time": "2021-08-05T20:00:29.963Z"
   },
   {
    "duration": 28,
    "start_time": "2021-08-05T20:00:51.208Z"
   },
   {
    "duration": 27,
    "start_time": "2021-08-05T20:00:54.748Z"
   },
   {
    "duration": 27,
    "start_time": "2021-08-05T20:00:58.129Z"
   },
   {
    "duration": 37,
    "start_time": "2021-08-05T20:07:14.712Z"
   },
   {
    "duration": 30,
    "start_time": "2021-08-05T20:07:16.954Z"
   },
   {
    "duration": 30,
    "start_time": "2021-08-05T20:07:23.062Z"
   },
   {
    "duration": 31,
    "start_time": "2021-08-05T20:07:51.607Z"
   },
   {
    "duration": 35,
    "start_time": "2021-08-05T20:08:09.958Z"
   },
   {
    "duration": 27,
    "start_time": "2021-08-05T20:08:16.940Z"
   },
   {
    "duration": 36,
    "start_time": "2021-08-05T20:08:57.951Z"
   },
   {
    "duration": 36,
    "start_time": "2021-08-05T20:09:03.339Z"
   },
   {
    "duration": 34,
    "start_time": "2021-08-05T20:09:22.405Z"
   },
   {
    "duration": 74,
    "start_time": "2021-08-05T20:09:25.867Z"
   },
   {
    "duration": 67,
    "start_time": "2021-08-05T20:09:28.930Z"
   },
   {
    "duration": 107,
    "start_time": "2021-08-05T20:09:35.644Z"
   },
   {
    "duration": 40,
    "start_time": "2021-08-05T20:09:38.554Z"
   },
   {
    "duration": 27,
    "start_time": "2021-08-05T20:11:10.731Z"
   },
   {
    "duration": 71,
    "start_time": "2021-08-05T20:11:14.094Z"
   },
   {
    "duration": 52,
    "start_time": "2021-08-05T20:11:15.735Z"
   },
   {
    "duration": 53,
    "start_time": "2021-08-05T20:11:21.454Z"
   },
   {
    "duration": 49,
    "start_time": "2021-08-05T20:11:23.338Z"
   },
   {
    "duration": 73,
    "start_time": "2021-08-05T20:11:25.119Z"
   },
   {
    "duration": 53,
    "start_time": "2021-08-05T20:11:42.482Z"
   },
   {
    "duration": 52,
    "start_time": "2021-08-05T20:11:45.659Z"
   },
   {
    "duration": 50,
    "start_time": "2021-08-05T20:11:47.562Z"
   },
   {
    "duration": 54,
    "start_time": "2021-08-05T20:11:49.253Z"
   },
   {
    "duration": 59,
    "start_time": "2021-08-05T20:12:31.144Z"
   },
   {
    "duration": 51,
    "start_time": "2021-08-05T20:12:33.671Z"
   },
   {
    "duration": 53,
    "start_time": "2021-08-05T20:12:35.007Z"
   },
   {
    "duration": 65,
    "start_time": "2021-08-05T20:13:11.918Z"
   },
   {
    "duration": 67,
    "start_time": "2021-08-05T20:13:14.071Z"
   },
   {
    "duration": 66,
    "start_time": "2021-08-05T20:13:15.453Z"
   },
   {
    "duration": 70,
    "start_time": "2021-08-05T20:13:42.468Z"
   },
   {
    "duration": 50,
    "start_time": "2021-08-05T20:13:50.241Z"
   },
   {
    "duration": 53,
    "start_time": "2021-08-05T20:14:03.808Z"
   },
   {
    "duration": 51,
    "start_time": "2021-08-05T20:14:12.369Z"
   },
   {
    "duration": 50,
    "start_time": "2021-08-05T20:16:56.784Z"
   },
   {
    "duration": 53,
    "start_time": "2021-08-05T20:17:03.584Z"
   },
   {
    "duration": 46,
    "start_time": "2021-08-05T20:17:18.009Z"
   },
   {
    "duration": 46,
    "start_time": "2021-08-05T20:17:20.037Z"
   },
   {
    "duration": 46,
    "start_time": "2021-08-05T20:17:21.081Z"
   },
   {
    "duration": 46,
    "start_time": "2021-08-05T20:17:23.126Z"
   },
   {
    "duration": 47,
    "start_time": "2021-08-05T20:17:24.273Z"
   },
   {
    "duration": 47,
    "start_time": "2021-08-05T20:17:38.086Z"
   },
   {
    "duration": 71,
    "start_time": "2021-08-05T20:18:13.392Z"
   },
   {
    "duration": 61,
    "start_time": "2021-08-05T20:18:19.974Z"
   },
   {
    "duration": 63,
    "start_time": "2021-08-05T20:18:26.766Z"
   },
   {
    "duration": 53,
    "start_time": "2021-08-05T20:18:39.745Z"
   },
   {
    "duration": 67,
    "start_time": "2021-08-05T20:18:43.309Z"
   },
   {
    "duration": 46,
    "start_time": "2021-08-05T20:18:48.201Z"
   },
   {
    "duration": 54,
    "start_time": "2021-08-05T20:19:04.567Z"
   },
   {
    "duration": 50,
    "start_time": "2021-08-05T20:19:15.205Z"
   },
   {
    "duration": 53,
    "start_time": "2021-08-05T20:19:38.551Z"
   },
   {
    "duration": 50,
    "start_time": "2021-08-05T20:19:41.219Z"
   },
   {
    "duration": 8260,
    "start_time": "2021-08-05T20:20:28.865Z"
   },
   {
    "duration": 7531,
    "start_time": "2021-08-05T20:21:10.237Z"
   },
   {
    "duration": 78,
    "start_time": "2021-08-05T20:46:47.172Z"
   },
   {
    "duration": 69,
    "start_time": "2021-08-05T20:46:47.252Z"
   },
   {
    "duration": 18,
    "start_time": "2021-08-05T20:46:47.324Z"
   },
   {
    "duration": 110,
    "start_time": "2021-08-05T20:46:47.344Z"
   },
   {
    "duration": 7695,
    "start_time": "2021-08-05T20:46:47.458Z"
   },
   {
    "duration": 54,
    "start_time": "2021-08-05T20:46:55.156Z"
   },
   {
    "duration": 75,
    "start_time": "2021-08-05T20:46:55.762Z"
   },
   {
    "duration": 60,
    "start_time": "2021-08-05T20:46:55.839Z"
   },
   {
    "duration": 18,
    "start_time": "2021-08-05T20:46:55.902Z"
   },
   {
    "duration": 116,
    "start_time": "2021-08-05T20:46:55.923Z"
   },
   {
    "duration": 7385,
    "start_time": "2021-08-05T20:46:56.041Z"
   },
   {
    "duration": 37,
    "start_time": "2021-08-05T20:47:03.429Z"
   },
   {
    "duration": 79,
    "start_time": "2021-08-05T20:47:10.718Z"
   },
   {
    "duration": 56,
    "start_time": "2021-08-05T20:47:10.801Z"
   },
   {
    "duration": 38,
    "start_time": "2021-08-05T20:47:10.862Z"
   },
   {
    "duration": 115,
    "start_time": "2021-08-05T20:47:10.903Z"
   },
   {
    "duration": 7724,
    "start_time": "2021-08-05T20:47:11.020Z"
   },
   {
    "duration": 48,
    "start_time": "2021-08-05T20:47:18.747Z"
   },
   {
    "duration": 75,
    "start_time": "2021-08-05T20:49:01.801Z"
   },
   {
    "duration": 54,
    "start_time": "2021-08-05T20:49:01.879Z"
   },
   {
    "duration": 17,
    "start_time": "2021-08-05T20:49:01.937Z"
   },
   {
    "duration": 124,
    "start_time": "2021-08-05T20:49:01.957Z"
   },
   {
    "duration": 7855,
    "start_time": "2021-08-05T20:49:02.084Z"
   },
   {
    "duration": 52,
    "start_time": "2021-08-05T20:49:09.942Z"
   },
   {
    "duration": 55,
    "start_time": "2021-08-05T20:51:49.624Z"
   },
   {
    "duration": 51,
    "start_time": "2021-08-05T20:51:52.177Z"
   },
   {
    "duration": 88,
    "start_time": "2021-08-05T20:51:55.042Z"
   },
   {
    "duration": 74,
    "start_time": "2021-08-05T20:51:55.132Z"
   },
   {
    "duration": 18,
    "start_time": "2021-08-05T20:51:55.210Z"
   },
   {
    "duration": 110,
    "start_time": "2021-08-05T20:51:55.231Z"
   },
   {
    "duration": 7278,
    "start_time": "2021-08-05T20:51:55.344Z"
   },
   {
    "duration": 36,
    "start_time": "2021-08-05T20:52:02.625Z"
   },
   {
    "duration": 56,
    "start_time": "2021-08-05T20:56:51.206Z"
   },
   {
    "duration": 53,
    "start_time": "2021-08-05T20:57:49.836Z"
   },
   {
    "duration": 53,
    "start_time": "2021-08-05T20:58:01.176Z"
   },
   {
    "duration": 103,
    "start_time": "2021-08-05T20:58:55.065Z"
   },
   {
    "duration": 326,
    "start_time": "2021-08-05T20:58:55.171Z"
   },
   {
    "duration": -234,
    "start_time": "2021-08-05T20:58:55.735Z"
   },
   {
    "duration": -235,
    "start_time": "2021-08-05T20:58:55.738Z"
   },
   {
    "duration": -234,
    "start_time": "2021-08-05T20:58:55.739Z"
   },
   {
    "duration": -235,
    "start_time": "2021-08-05T20:58:55.742Z"
   },
   {
    "duration": 73,
    "start_time": "2021-08-05T20:59:20.069Z"
   },
   {
    "duration": 330,
    "start_time": "2021-08-05T20:59:20.145Z"
   },
   {
    "duration": -231,
    "start_time": "2021-08-05T20:59:20.709Z"
   },
   {
    "duration": -231,
    "start_time": "2021-08-05T20:59:20.710Z"
   },
   {
    "duration": -237,
    "start_time": "2021-08-05T20:59:20.717Z"
   },
   {
    "duration": -237,
    "start_time": "2021-08-05T20:59:20.719Z"
   },
   {
    "duration": 72,
    "start_time": "2021-08-05T20:59:37.816Z"
   },
   {
    "duration": 56,
    "start_time": "2021-08-05T20:59:37.892Z"
   },
   {
    "duration": 47,
    "start_time": "2021-08-05T20:59:37.953Z"
   },
   {
    "duration": 113,
    "start_time": "2021-08-05T20:59:38.003Z"
   },
   {
    "duration": 8070,
    "start_time": "2021-08-05T20:59:38.119Z"
   },
   {
    "duration": 34,
    "start_time": "2021-08-05T20:59:46.192Z"
   },
   {
    "duration": 60,
    "start_time": "2021-08-05T20:59:50.220Z"
   },
   {
    "duration": 58,
    "start_time": "2021-08-05T20:59:58.136Z"
   },
   {
    "duration": 61,
    "start_time": "2021-08-05T21:00:57.405Z"
   },
   {
    "duration": 56,
    "start_time": "2021-08-05T21:01:06.068Z"
   },
   {
    "duration": 57,
    "start_time": "2021-08-05T21:01:13.758Z"
   },
   {
    "duration": 55,
    "start_time": "2021-08-05T21:01:20.359Z"
   },
   {
    "duration": 58,
    "start_time": "2021-08-05T21:01:37.912Z"
   },
   {
    "duration": 69,
    "start_time": "2021-08-05T21:01:44.117Z"
   },
   {
    "duration": 27,
    "start_time": "2021-08-05T21:25:55.129Z"
   },
   {
    "duration": 20,
    "start_time": "2021-08-05T21:26:39.023Z"
   },
   {
    "duration": 772,
    "start_time": "2021-08-05T21:28:13.341Z"
   },
   {
    "duration": 94,
    "start_time": "2021-08-05T21:28:35.435Z"
   },
   {
    "duration": 125,
    "start_time": "2021-08-05T21:28:40.662Z"
   },
   {
    "duration": 109,
    "start_time": "2021-08-05T21:28:57.844Z"
   },
   {
    "duration": 31,
    "start_time": "2021-08-05T21:29:20.598Z"
   },
   {
    "duration": 320,
    "start_time": "2021-08-05T21:43:25.157Z"
   },
   {
    "duration": 38,
    "start_time": "2021-08-05T21:43:28.223Z"
   },
   {
    "duration": 43,
    "start_time": "2021-08-05T21:45:47.234Z"
   },
   {
    "duration": 43,
    "start_time": "2021-08-05T21:48:46.627Z"
   },
   {
    "duration": 317,
    "start_time": "2021-08-05T21:49:46.797Z"
   },
   {
    "duration": 302,
    "start_time": "2021-08-05T21:53:44.867Z"
   },
   {
    "duration": 10,
    "start_time": "2021-08-05T21:53:54.277Z"
   },
   {
    "duration": 9,
    "start_time": "2021-08-05T21:54:21.029Z"
   },
   {
    "duration": 46,
    "start_time": "2021-08-05T21:54:33.093Z"
   },
   {
    "duration": 5,
    "start_time": "2021-08-05T21:59:08.914Z"
   },
   {
    "duration": 307,
    "start_time": "2021-08-05T22:01:27.735Z"
   },
   {
    "duration": 36,
    "start_time": "2021-08-05T22:01:42.529Z"
   },
   {
    "duration": 56,
    "start_time": "2021-08-05T22:06:06.012Z"
   },
   {
    "duration": 104,
    "start_time": "2021-08-05T22:06:29.930Z"
   },
   {
    "duration": 474,
    "start_time": "2021-08-05T22:06:40.318Z"
   },
   {
    "duration": 43,
    "start_time": "2021-08-05T22:06:58.294Z"
   },
   {
    "duration": 49,
    "start_time": "2021-08-05T22:08:40.324Z"
   },
   {
    "duration": 360,
    "start_time": "2021-08-06T07:23:28.665Z"
   },
   {
    "duration": 332,
    "start_time": "2021-08-06T07:23:45.118Z"
   },
   {
    "duration": 123,
    "start_time": "2021-08-06T07:23:57.117Z"
   },
   {
    "duration": 392,
    "start_time": "2021-08-06T07:24:05.412Z"
   },
   {
    "duration": 37,
    "start_time": "2021-08-06T07:24:26.421Z"
   },
   {
    "duration": 334,
    "start_time": "2021-08-06T07:24:50.092Z"
   },
   {
    "duration": 348,
    "start_time": "2021-08-06T07:25:58.706Z"
   },
   {
    "duration": 34,
    "start_time": "2021-08-06T07:26:15.212Z"
   },
   {
    "duration": 356,
    "start_time": "2021-08-06T07:26:33.515Z"
   },
   {
    "duration": 39,
    "start_time": "2021-08-06T07:26:39.634Z"
   },
   {
    "duration": 72,
    "start_time": "2021-08-06T16:30:34.677Z"
   },
   {
    "duration": 63,
    "start_time": "2021-08-06T16:30:34.751Z"
   },
   {
    "duration": 17,
    "start_time": "2021-08-06T16:30:34.817Z"
   },
   {
    "duration": 111,
    "start_time": "2021-08-06T16:30:34.837Z"
   },
   {
    "duration": 7292,
    "start_time": "2021-08-06T16:30:34.951Z"
   },
   {
    "duration": 46,
    "start_time": "2021-08-06T16:30:42.245Z"
   },
   {
    "duration": 39,
    "start_time": "2021-08-06T16:30:42.294Z"
   },
   {
    "duration": 91,
    "start_time": "2021-08-06T16:30:42.338Z"
   },
   {
    "duration": 69,
    "start_time": "2021-08-06T16:30:42.433Z"
   },
   {
    "duration": 42,
    "start_time": "2021-08-06T16:30:42.505Z"
   },
   {
    "duration": 3175,
    "start_time": "2021-08-06T16:31:08.533Z"
   },
   {
    "duration": 3374,
    "start_time": "2021-08-06T16:31:43.855Z"
   },
   {
    "duration": 330,
    "start_time": "2021-08-06T16:32:18.655Z"
   },
   {
    "duration": 7751,
    "start_time": "2021-08-06T16:32:40.163Z"
   },
   {
    "duration": 317,
    "start_time": "2021-08-06T16:33:22.620Z"
   },
   {
    "duration": 33,
    "start_time": "2021-08-06T16:34:31.939Z"
   },
   {
    "duration": 28,
    "start_time": "2021-08-06T16:34:52.467Z"
   },
   {
    "duration": 32,
    "start_time": "2021-08-06T16:35:08.668Z"
   },
   {
    "duration": 29,
    "start_time": "2021-08-06T16:35:25.305Z"
   },
   {
    "duration": 241,
    "start_time": "2021-08-06T16:35:47.431Z"
   },
   {
    "duration": 426,
    "start_time": "2021-08-06T16:36:00.908Z"
   },
   {
    "duration": 29,
    "start_time": "2021-08-06T16:36:07.168Z"
   },
   {
    "duration": 35,
    "start_time": "2021-08-06T16:36:18.686Z"
   },
   {
    "duration": 30,
    "start_time": "2021-08-06T16:36:45.716Z"
   },
   {
    "duration": 37,
    "start_time": "2021-08-06T16:36:55.029Z"
   },
   {
    "duration": -18,
    "start_time": "2021-08-06T16:37:44.642Z"
   },
   {
    "duration": 473,
    "start_time": "2021-08-06T16:38:44.643Z"
   },
   {
    "duration": 335,
    "start_time": "2021-08-06T16:39:05.306Z"
   },
   {
    "duration": 324,
    "start_time": "2021-08-06T16:39:11.924Z"
   },
   {
    "duration": 328,
    "start_time": "2021-08-06T16:39:29.248Z"
   },
   {
    "duration": 399,
    "start_time": "2021-08-06T16:39:33.575Z"
   },
   {
    "duration": 38,
    "start_time": "2021-08-06T16:39:37.811Z"
   },
   {
    "duration": 345,
    "start_time": "2021-08-06T16:41:11.933Z"
   },
   {
    "duration": 46,
    "start_time": "2021-08-06T16:41:23.210Z"
   },
   {
    "duration": 43,
    "start_time": "2021-08-06T16:41:40.522Z"
   },
   {
    "duration": 343,
    "start_time": "2021-08-06T16:43:51.236Z"
   },
   {
    "duration": 338,
    "start_time": "2021-08-06T16:44:30.320Z"
   },
   {
    "duration": 352,
    "start_time": "2021-08-06T16:44:40.591Z"
   },
   {
    "duration": 47,
    "start_time": "2021-08-06T16:44:59.004Z"
   },
   {
    "duration": 69,
    "start_time": "2021-08-07T11:22:47.607Z"
   },
   {
    "duration": 53,
    "start_time": "2021-08-07T11:23:03.930Z"
   },
   {
    "duration": 44,
    "start_time": "2021-08-07T11:23:17.326Z"
   },
   {
    "duration": 121,
    "start_time": "2021-08-07T11:26:09.527Z"
   },
   {
    "duration": 115,
    "start_time": "2021-08-07T11:27:42.209Z"
   },
   {
    "duration": 104,
    "start_time": "2021-08-07T11:28:48.158Z"
   },
   {
    "duration": 140,
    "start_time": "2021-08-07T11:29:03.860Z"
   },
   {
    "duration": 169,
    "start_time": "2021-08-07T11:30:34.875Z"
   },
   {
    "duration": 100,
    "start_time": "2021-08-07T11:31:15.931Z"
   },
   {
    "duration": 104,
    "start_time": "2021-08-07T11:31:51.506Z"
   },
   {
    "duration": 104,
    "start_time": "2021-08-07T11:32:25.593Z"
   },
   {
    "duration": 75,
    "start_time": "2021-08-07T11:32:27.819Z"
   },
   {
    "duration": 54,
    "start_time": "2021-08-07T11:32:27.897Z"
   },
   {
    "duration": 36,
    "start_time": "2021-08-07T11:32:27.955Z"
   },
   {
    "duration": 130,
    "start_time": "2021-08-07T11:32:27.994Z"
   },
   {
    "duration": 8643,
    "start_time": "2021-08-07T11:32:28.126Z"
   },
   {
    "duration": 51,
    "start_time": "2021-08-07T11:32:36.773Z"
   },
   {
    "duration": 64,
    "start_time": "2021-08-07T11:32:36.826Z"
   },
   {
    "duration": 63,
    "start_time": "2021-08-07T11:32:36.895Z"
   },
   {
    "duration": 119,
    "start_time": "2021-08-07T11:32:36.962Z"
   },
   {
    "duration": -62,
    "start_time": "2021-08-07T11:32:37.145Z"
   },
   {
    "duration": 148,
    "start_time": "2021-08-07T11:33:23.358Z"
   },
   {
    "duration": 38,
    "start_time": "2021-08-07T11:34:03.507Z"
   },
   {
    "duration": 103,
    "start_time": "2021-08-07T11:34:18.968Z"
   },
   {
    "duration": 123,
    "start_time": "2021-08-07T11:34:30.057Z"
   },
   {
    "duration": 107,
    "start_time": "2021-08-07T11:34:33.146Z"
   },
   {
    "duration": 29,
    "start_time": "2021-08-07T11:34:44.373Z"
   },
   {
    "duration": 890,
    "start_time": "2021-08-07T11:35:31.737Z"
   },
   {
    "duration": 48,
    "start_time": "2021-08-07T11:36:01.579Z"
   },
   {
    "duration": 353,
    "start_time": "2021-08-07T11:58:33.508Z"
   },
   {
    "duration": 98,
    "start_time": "2021-08-07T11:59:30.649Z"
   },
   {
    "duration": 119,
    "start_time": "2021-08-07T12:00:08.777Z"
   },
   {
    "duration": 104,
    "start_time": "2021-08-07T12:00:08.900Z"
   },
   {
    "duration": 25,
    "start_time": "2021-08-07T12:00:09.009Z"
   },
   {
    "duration": 134,
    "start_time": "2021-08-07T12:00:09.038Z"
   },
   {
    "duration": 9752,
    "start_time": "2021-08-07T12:00:09.175Z"
   },
   {
    "duration": 69,
    "start_time": "2021-08-07T12:00:18.930Z"
   },
   {
    "duration": 34,
    "start_time": "2021-08-07T12:00:19.004Z"
   },
   {
    "duration": 83,
    "start_time": "2021-08-07T12:00:19.040Z"
   },
   {
    "duration": 100,
    "start_time": "2021-08-07T12:00:19.127Z"
   },
   {
    "duration": 20622,
    "start_time": "2021-08-07T12:00:19.229Z"
   },
   {
    "duration": -81,
    "start_time": "2021-08-07T12:00:39.936Z"
   },
   {
    "duration": 100,
    "start_time": "2021-08-07T12:01:21.550Z"
   },
   {
    "duration": 62,
    "start_time": "2021-08-07T12:01:35.946Z"
   },
   {
    "duration": 20,
    "start_time": "2021-08-07T12:07:35.930Z"
   },
   {
    "duration": 4,
    "start_time": "2021-08-07T12:33:03.928Z"
   },
   {
    "duration": 462,
    "start_time": "2021-08-07T12:34:53.990Z"
   },
   {
    "duration": 419,
    "start_time": "2021-08-07T12:34:58.539Z"
   },
   {
    "duration": 522,
    "start_time": "2021-08-07T12:36:06.599Z"
   },
   {
    "duration": 45,
    "start_time": "2021-08-07T12:36:17.088Z"
   },
   {
    "duration": 362,
    "start_time": "2021-08-07T12:38:05.026Z"
   },
   {
    "duration": 60,
    "start_time": "2021-08-07T12:38:20.026Z"
   },
   {
    "duration": 13,
    "start_time": "2021-08-07T12:39:06.758Z"
   },
   {
    "duration": 19,
    "start_time": "2021-08-07T12:39:26.035Z"
   },
   {
    "duration": 34,
    "start_time": "2021-08-07T12:40:11.581Z"
   },
   {
    "duration": 22,
    "start_time": "2021-08-07T12:40:20.509Z"
   },
   {
    "duration": 71,
    "start_time": "2021-08-07T13:07:04.780Z"
   },
   {
    "duration": 1331,
    "start_time": "2021-08-07T13:08:34.777Z"
   },
   {
    "duration": 52,
    "start_time": "2021-08-07T13:08:59.011Z"
   },
   {
    "duration": 51,
    "start_time": "2021-08-07T13:09:27.776Z"
   },
   {
    "duration": 46,
    "start_time": "2021-08-07T13:09:33.802Z"
   },
   {
    "duration": 80,
    "start_time": "2021-08-07T13:11:05.981Z"
   },
   {
    "duration": 360,
    "start_time": "2021-08-07T13:11:33.423Z"
   },
   {
    "duration": 685,
    "start_time": "2021-08-07T13:11:44.736Z"
   },
   {
    "duration": 328,
    "start_time": "2021-08-07T13:11:59.012Z"
   },
   {
    "duration": 117,
    "start_time": "2021-08-07T13:12:10.897Z"
   },
   {
    "duration": 473,
    "start_time": "2021-08-07T13:12:18.892Z"
   },
   {
    "duration": 36,
    "start_time": "2021-08-07T13:12:26.427Z"
   },
   {
    "duration": 112,
    "start_time": "2021-08-07T13:12:36.996Z"
   },
   {
    "duration": 56,
    "start_time": "2021-08-07T13:12:37.112Z"
   },
   {
    "duration": 23,
    "start_time": "2021-08-07T13:12:37.184Z"
   },
   {
    "duration": 143,
    "start_time": "2021-08-07T13:12:37.211Z"
   },
   {
    "duration": 9828,
    "start_time": "2021-08-07T13:12:37.357Z"
   },
   {
    "duration": 49,
    "start_time": "2021-08-07T13:12:47.189Z"
   },
   {
    "duration": 71,
    "start_time": "2021-08-07T13:12:47.240Z"
   },
   {
    "duration": 24,
    "start_time": "2021-08-07T13:12:47.315Z"
   },
   {
    "duration": 82,
    "start_time": "2021-08-07T13:12:47.343Z"
   },
   {
    "duration": 3,
    "start_time": "2021-08-07T13:12:47.429Z"
   },
   {
    "duration": 50,
    "start_time": "2021-08-07T13:13:21.106Z"
   },
   {
    "duration": 71,
    "start_time": "2021-08-07T13:13:59.576Z"
   },
   {
    "duration": 434,
    "start_time": "2021-08-07T13:14:59.041Z"
   },
   {
    "duration": 354,
    "start_time": "2021-08-07T13:15:07.211Z"
   },
   {
    "duration": 364,
    "start_time": "2021-08-07T13:15:17.506Z"
   },
   {
    "duration": 59,
    "start_time": "2021-08-07T13:20:38.581Z"
   },
   {
    "duration": 78,
    "start_time": "2021-08-07T13:21:02.873Z"
   },
   {
    "duration": 10552,
    "start_time": "2021-08-07T13:28:31.249Z"
   },
   {
    "duration": 9938,
    "start_time": "2021-08-07T13:29:14.116Z"
   },
   {
    "duration": 10591,
    "start_time": "2021-08-07T13:31:31.761Z"
   },
   {
    "duration": 9474,
    "start_time": "2021-08-07T13:40:26.393Z"
   },
   {
    "duration": 9400,
    "start_time": "2021-08-07T13:42:17.935Z"
   },
   {
    "duration": 10657,
    "start_time": "2021-08-07T13:44:33.100Z"
   },
   {
    "duration": 51,
    "start_time": "2021-08-07T13:55:08.898Z"
   },
   {
    "duration": 98,
    "start_time": "2021-08-07T13:55:13.052Z"
   },
   {
    "duration": 31,
    "start_time": "2021-08-07T13:55:16.537Z"
   },
   {
    "duration": 45,
    "start_time": "2021-08-07T13:55:29.986Z"
   },
   {
    "duration": 92,
    "start_time": "2021-08-07T13:56:14.181Z"
   },
   {
    "duration": 47,
    "start_time": "2021-08-07T13:56:14.277Z"
   },
   {
    "duration": 19,
    "start_time": "2021-08-07T13:56:14.327Z"
   },
   {
    "duration": 118,
    "start_time": "2021-08-07T13:56:14.349Z"
   },
   {
    "duration": 9400,
    "start_time": "2021-08-07T13:56:14.469Z"
   },
   {
    "duration": 62,
    "start_time": "2021-08-07T13:56:23.873Z"
   },
   {
    "duration": 78,
    "start_time": "2021-08-07T13:56:23.939Z"
   },
   {
    "duration": 20,
    "start_time": "2021-08-07T13:56:24.022Z"
   },
   {
    "duration": 75,
    "start_time": "2021-08-07T13:56:24.046Z"
   },
   {
    "duration": 7,
    "start_time": "2021-08-07T13:56:24.124Z"
   },
   {
    "duration": 142,
    "start_time": "2021-08-07T13:57:20.687Z"
   },
   {
    "duration": 92,
    "start_time": "2021-08-07T13:57:40.609Z"
   },
   {
    "duration": 16,
    "start_time": "2021-08-07T13:58:02.067Z"
   },
   {
    "duration": 99,
    "start_time": "2021-08-07T13:58:05.752Z"
   },
   {
    "duration": 56,
    "start_time": "2021-08-07T13:58:05.855Z"
   },
   {
    "duration": 50,
    "start_time": "2021-08-07T13:58:05.915Z"
   },
   {
    "duration": 180,
    "start_time": "2021-08-07T13:58:05.969Z"
   },
   {
    "duration": 9207,
    "start_time": "2021-08-07T13:58:06.152Z"
   },
   {
    "duration": 63,
    "start_time": "2021-08-07T13:58:15.362Z"
   },
   {
    "duration": 68,
    "start_time": "2021-08-07T13:58:15.427Z"
   },
   {
    "duration": 27,
    "start_time": "2021-08-07T13:58:15.499Z"
   },
   {
    "duration": 90,
    "start_time": "2021-08-07T13:58:15.530Z"
   },
   {
    "duration": 21,
    "start_time": "2021-08-07T13:58:15.622Z"
   },
   {
    "duration": 49,
    "start_time": "2021-08-07T13:58:29.733Z"
   },
   {
    "duration": 6,
    "start_time": "2021-08-07T13:59:12.118Z"
   },
   {
    "duration": 90,
    "start_time": "2021-08-07T13:59:15.460Z"
   },
   {
    "duration": 59,
    "start_time": "2021-08-07T13:59:15.553Z"
   },
   {
    "duration": 20,
    "start_time": "2021-08-07T13:59:15.616Z"
   },
   {
    "duration": 128,
    "start_time": "2021-08-07T13:59:15.640Z"
   },
   {
    "duration": 10829,
    "start_time": "2021-08-07T13:59:15.771Z"
   },
   {
    "duration": 40,
    "start_time": "2021-08-07T13:59:26.602Z"
   },
   {
    "duration": 50,
    "start_time": "2021-08-07T13:59:26.644Z"
   },
   {
    "duration": 27,
    "start_time": "2021-08-07T13:59:26.697Z"
   },
   {
    "duration": 93,
    "start_time": "2021-08-07T13:59:26.727Z"
   },
   {
    "duration": 6,
    "start_time": "2021-08-07T13:59:26.822Z"
   },
   {
    "duration": 104,
    "start_time": "2021-08-07T13:59:59.053Z"
   },
   {
    "duration": 76,
    "start_time": "2021-08-07T13:59:59.159Z"
   },
   {
    "duration": 20,
    "start_time": "2021-08-07T13:59:59.239Z"
   },
   {
    "duration": 153,
    "start_time": "2021-08-07T13:59:59.262Z"
   },
   {
    "duration": 8550,
    "start_time": "2021-08-07T13:59:59.419Z"
   },
   {
    "duration": 56,
    "start_time": "2021-08-07T14:00:07.972Z"
   },
   {
    "duration": 63,
    "start_time": "2021-08-07T14:00:08.031Z"
   },
   {
    "duration": 30,
    "start_time": "2021-08-07T14:00:08.096Z"
   },
   {
    "duration": 80,
    "start_time": "2021-08-07T14:00:08.129Z"
   },
   {
    "duration": 3,
    "start_time": "2021-08-07T14:00:08.212Z"
   },
   {
    "duration": 54,
    "start_time": "2021-08-07T14:07:17.424Z"
   },
   {
    "duration": 90,
    "start_time": "2021-08-07T14:09:23.306Z"
   },
   {
    "duration": 60,
    "start_time": "2021-08-07T14:09:23.399Z"
   },
   {
    "duration": 42,
    "start_time": "2021-08-07T14:09:23.462Z"
   },
   {
    "duration": 140,
    "start_time": "2021-08-07T14:09:23.508Z"
   },
   {
    "duration": 9475,
    "start_time": "2021-08-07T14:09:23.651Z"
   },
   {
    "duration": 335,
    "start_time": "2021-08-07T14:09:33.130Z"
   },
   {
    "duration": -162,
    "start_time": "2021-08-07T14:09:33.630Z"
   },
   {
    "duration": -163,
    "start_time": "2021-08-07T14:09:33.633Z"
   },
   {
    "duration": -166,
    "start_time": "2021-08-07T14:09:33.637Z"
   },
   {
    "duration": -175,
    "start_time": "2021-08-07T14:09:33.648Z"
   },
   {
    "duration": 309,
    "start_time": "2021-08-07T14:09:46.560Z"
   },
   {
    "duration": 329,
    "start_time": "2021-08-07T14:10:10.871Z"
   },
   {
    "duration": 82,
    "start_time": "2021-08-07T14:10:27.203Z"
   },
   {
    "duration": 61,
    "start_time": "2021-08-07T14:10:27.288Z"
   },
   {
    "duration": 51,
    "start_time": "2021-08-07T14:10:27.353Z"
   },
   {
    "duration": 140,
    "start_time": "2021-08-07T14:10:27.407Z"
   },
   {
    "duration": 8741,
    "start_time": "2021-08-07T14:10:27.550Z"
   },
   {
    "duration": 492,
    "start_time": "2021-08-07T14:10:36.300Z"
   },
   {
    "duration": -170,
    "start_time": "2021-08-07T14:10:36.966Z"
   },
   {
    "duration": -172,
    "start_time": "2021-08-07T14:10:36.970Z"
   },
   {
    "duration": -172,
    "start_time": "2021-08-07T14:10:36.972Z"
   },
   {
    "duration": -178,
    "start_time": "2021-08-07T14:10:36.981Z"
   },
   {
    "duration": 479,
    "start_time": "2021-08-07T14:12:02.089Z"
   },
   {
    "duration": 92,
    "start_time": "2021-08-07T14:12:07.288Z"
   },
   {
    "duration": 79,
    "start_time": "2021-08-07T14:12:07.392Z"
   },
   {
    "duration": 32,
    "start_time": "2021-08-07T14:12:07.486Z"
   },
   {
    "duration": 140,
    "start_time": "2021-08-07T14:12:07.522Z"
   },
   {
    "duration": 8625,
    "start_time": "2021-08-07T14:12:07.664Z"
   },
   {
    "duration": 356,
    "start_time": "2021-08-07T14:12:16.293Z"
   },
   {
    "duration": -169,
    "start_time": "2021-08-07T14:12:16.822Z"
   },
   {
    "duration": -170,
    "start_time": "2021-08-07T14:12:16.826Z"
   },
   {
    "duration": -169,
    "start_time": "2021-08-07T14:12:16.827Z"
   },
   {
    "duration": -172,
    "start_time": "2021-08-07T14:12:16.832Z"
   },
   {
    "duration": 349,
    "start_time": "2021-08-07T14:17:41.780Z"
   },
   {
    "duration": 100,
    "start_time": "2021-08-07T14:17:54.189Z"
   },
   {
    "duration": 62,
    "start_time": "2021-08-07T14:17:54.292Z"
   },
   {
    "duration": 45,
    "start_time": "2021-08-07T14:17:54.357Z"
   },
   {
    "duration": 125,
    "start_time": "2021-08-07T14:17:54.405Z"
   },
   {
    "duration": 10081,
    "start_time": "2021-08-07T14:17:54.533Z"
   },
   {
    "duration": 333,
    "start_time": "2021-08-07T14:18:04.617Z"
   },
   {
    "duration": -163,
    "start_time": "2021-08-07T14:18:05.117Z"
   },
   {
    "duration": -169,
    "start_time": "2021-08-07T14:18:05.124Z"
   },
   {
    "duration": -170,
    "start_time": "2021-08-07T14:18:05.127Z"
   },
   {
    "duration": -172,
    "start_time": "2021-08-07T14:18:05.131Z"
   },
   {
    "duration": 311,
    "start_time": "2021-08-07T14:18:55.925Z"
   },
   {
    "duration": 58,
    "start_time": "2021-08-07T14:19:21.958Z"
   },
   {
    "duration": 41,
    "start_time": "2021-08-07T14:20:25.926Z"
   },
   {
    "duration": 52,
    "start_time": "2021-08-07T14:20:49.498Z"
   },
   {
    "duration": 376,
    "start_time": "2021-08-07T14:22:21.980Z"
   },
   {
    "duration": 329,
    "start_time": "2021-08-07T14:23:07.926Z"
   },
   {
    "duration": 92,
    "start_time": "2021-08-07T14:23:14.156Z"
   },
   {
    "duration": 73,
    "start_time": "2021-08-07T14:23:14.251Z"
   },
   {
    "duration": 20,
    "start_time": "2021-08-07T14:23:14.327Z"
   },
   {
    "duration": 139,
    "start_time": "2021-08-07T14:23:14.350Z"
   },
   {
    "duration": 8375,
    "start_time": "2021-08-07T14:23:14.494Z"
   },
   {
    "duration": 348,
    "start_time": "2021-08-07T14:23:22.873Z"
   },
   {
    "duration": -168,
    "start_time": "2021-08-07T14:23:23.392Z"
   },
   {
    "duration": -168,
    "start_time": "2021-08-07T14:23:23.394Z"
   },
   {
    "duration": -172,
    "start_time": "2021-08-07T14:23:23.400Z"
   },
   {
    "duration": -172,
    "start_time": "2021-08-07T14:23:23.402Z"
   },
   {
    "duration": 319,
    "start_time": "2021-08-07T14:23:33.841Z"
   },
   {
    "duration": 348,
    "start_time": "2021-08-07T14:23:59.190Z"
   },
   {
    "duration": 445,
    "start_time": "2021-08-07T14:27:23.183Z"
   },
   {
    "duration": 351,
    "start_time": "2021-08-07T14:27:31.772Z"
   },
   {
    "duration": 97,
    "start_time": "2021-08-07T14:27:45.830Z"
   },
   {
    "duration": 72,
    "start_time": "2021-08-07T14:27:45.930Z"
   },
   {
    "duration": 26,
    "start_time": "2021-08-07T14:27:46.008Z"
   },
   {
    "duration": 140,
    "start_time": "2021-08-07T14:27:46.037Z"
   },
   {
    "duration": 9409,
    "start_time": "2021-08-07T14:27:46.181Z"
   },
   {
    "duration": 353,
    "start_time": "2021-08-07T14:27:55.593Z"
   },
   {
    "duration": -172,
    "start_time": "2021-08-07T14:27:56.122Z"
   },
   {
    "duration": -173,
    "start_time": "2021-08-07T14:27:56.125Z"
   },
   {
    "duration": -172,
    "start_time": "2021-08-07T14:27:56.127Z"
   },
   {
    "duration": -175,
    "start_time": "2021-08-07T14:27:56.132Z"
   },
   {
    "duration": 8678,
    "start_time": "2021-08-07T14:28:25.146Z"
   },
   {
    "duration": 9821,
    "start_time": "2021-08-07T14:30:58.267Z"
   },
   {
    "duration": 8937,
    "start_time": "2021-08-07T14:31:18.861Z"
   },
   {
    "duration": 5572,
    "start_time": "2021-08-07T14:31:55.499Z"
   },
   {
    "duration": 35,
    "start_time": "2021-08-07T14:43:06.912Z"
   },
   {
    "duration": 20,
    "start_time": "2021-08-07T14:43:20.910Z"
   },
   {
    "duration": 20,
    "start_time": "2021-08-07T14:43:27.521Z"
   },
   {
    "duration": 100,
    "start_time": "2021-08-07T16:48:48.849Z"
   },
   {
    "duration": 95,
    "start_time": "2021-08-07T16:48:48.953Z"
   },
   {
    "duration": 47,
    "start_time": "2021-08-07T16:48:49.053Z"
   },
   {
    "duration": 143,
    "start_time": "2021-08-07T16:48:49.104Z"
   },
   {
    "duration": 54070,
    "start_time": "2021-08-07T16:48:49.250Z"
   },
   {
    "duration": 42,
    "start_time": "2021-08-07T16:49:43.325Z"
   },
   {
    "duration": 44,
    "start_time": "2021-08-07T16:49:43.386Z"
   },
   {
    "duration": 54,
    "start_time": "2021-08-07T16:49:43.434Z"
   },
   {
    "duration": 56,
    "start_time": "2021-08-07T16:49:43.493Z"
   },
   {
    "duration": 51,
    "start_time": "2021-08-07T16:49:43.551Z"
   },
   {
    "duration": 67,
    "start_time": "2021-08-07T17:00:31.286Z"
   },
   {
    "duration": 37,
    "start_time": "2021-08-07T17:01:50.842Z"
   },
   {
    "duration": 47,
    "start_time": "2021-08-07T17:02:03.387Z"
   },
   {
    "duration": 41,
    "start_time": "2021-08-07T17:02:13.641Z"
   },
   {
    "duration": 47,
    "start_time": "2021-08-07T17:02:19.059Z"
   },
   {
    "duration": 58,
    "start_time": "2021-08-07T17:02:30.284Z"
   },
   {
    "duration": 56,
    "start_time": "2021-08-07T17:02:35.856Z"
   },
   {
    "duration": 376,
    "start_time": "2021-08-07T17:02:53.351Z"
   },
   {
    "duration": 400,
    "start_time": "2021-08-07T17:03:01.151Z"
   },
   {
    "duration": 59,
    "start_time": "2021-08-07T17:11:05.379Z"
   },
   {
    "duration": 68,
    "start_time": "2021-08-07T17:56:35.600Z"
   },
   {
    "duration": 115,
    "start_time": "2021-08-07T18:00:00.437Z"
   },
   {
    "duration": 84,
    "start_time": "2021-08-07T18:00:00.555Z"
   },
   {
    "duration": 20,
    "start_time": "2021-08-07T18:00:00.643Z"
   },
   {
    "duration": 165,
    "start_time": "2021-08-07T18:00:00.666Z"
   },
   {
    "duration": 51436,
    "start_time": "2021-08-07T18:00:00.837Z"
   },
   {
    "duration": 75,
    "start_time": "2021-08-07T18:00:52.276Z"
   },
   {
    "duration": 70,
    "start_time": "2021-08-07T18:00:52.353Z"
   },
   {
    "duration": 27,
    "start_time": "2021-08-07T18:00:52.428Z"
   },
   {
    "duration": 93,
    "start_time": "2021-08-07T18:00:52.458Z"
   },
   {
    "duration": 53,
    "start_time": "2021-08-07T18:00:52.554Z"
   },
   {
    "duration": 591,
    "start_time": "2021-08-08T05:05:07.598Z"
   },
   {
    "duration": 33,
    "start_time": "2021-08-08T05:05:08.194Z"
   },
   {
    "duration": 22,
    "start_time": "2021-08-08T05:05:08.229Z"
   },
   {
    "duration": 54,
    "start_time": "2021-08-08T05:05:08.253Z"
   },
   {
    "duration": 25079,
    "start_time": "2021-08-08T05:05:08.308Z"
   },
   {
    "duration": 26,
    "start_time": "2021-08-08T05:05:33.389Z"
   },
   {
    "duration": 35,
    "start_time": "2021-08-08T05:05:33.417Z"
   },
   {
    "duration": 12,
    "start_time": "2021-08-08T05:05:33.453Z"
   },
   {
    "duration": 25,
    "start_time": "2021-08-08T05:05:33.466Z"
   },
   {
    "duration": 8,
    "start_time": "2021-08-08T05:05:33.493Z"
   },
   {
    "duration": 3,
    "start_time": "2021-08-08T05:17:38.454Z"
   },
   {
    "duration": 14,
    "start_time": "2021-08-08T05:23:19.833Z"
   },
   {
    "duration": 18,
    "start_time": "2021-08-08T05:29:05.159Z"
   },
   {
    "duration": 331,
    "start_time": "2021-08-08T05:29:11.016Z"
   },
   {
    "duration": 5,
    "start_time": "2021-08-08T05:29:18.660Z"
   },
   {
    "duration": 20,
    "start_time": "2021-08-08T05:29:51.904Z"
   },
   {
    "duration": 4,
    "start_time": "2021-08-08T05:30:15.785Z"
   },
   {
    "duration": 427,
    "start_time": "2021-08-08T12:18:37.736Z"
   },
   {
    "duration": 887,
    "start_time": "2021-08-08T12:18:44.162Z"
   },
   {
    "duration": 70,
    "start_time": "2021-08-08T12:18:45.051Z"
   },
   {
    "duration": 17,
    "start_time": "2021-08-08T12:18:45.124Z"
   },
   {
    "duration": 101,
    "start_time": "2021-08-08T12:18:45.144Z"
   },
   {
    "duration": 42602,
    "start_time": "2021-08-08T12:18:45.248Z"
   },
   {
    "duration": 51,
    "start_time": "2021-08-08T12:19:27.852Z"
   },
   {
    "duration": 31,
    "start_time": "2021-08-08T12:19:27.905Z"
   },
   {
    "duration": 19,
    "start_time": "2021-08-08T12:19:27.938Z"
   },
   {
    "duration": 46,
    "start_time": "2021-08-08T12:19:27.985Z"
   },
   {
    "duration": 14,
    "start_time": "2021-08-08T12:19:28.033Z"
   },
   {
    "duration": 87,
    "start_time": "2021-08-08T12:21:27.325Z"
   },
   {
    "duration": 361,
    "start_time": "2021-08-08T12:21:27.415Z"
   },
   {
    "duration": -107,
    "start_time": "2021-08-08T12:21:27.887Z"
   },
   {
    "duration": -106,
    "start_time": "2021-08-08T12:21:27.888Z"
   },
   {
    "duration": -105,
    "start_time": "2021-08-08T12:21:27.889Z"
   },
   {
    "duration": -104,
    "start_time": "2021-08-08T12:21:27.890Z"
   },
   {
    "duration": -104,
    "start_time": "2021-08-08T12:21:27.892Z"
   },
   {
    "duration": -104,
    "start_time": "2021-08-08T12:21:27.893Z"
   },
   {
    "duration": -106,
    "start_time": "2021-08-08T12:21:27.897Z"
   },
   {
    "duration": -108,
    "start_time": "2021-08-08T12:21:27.904Z"
   },
   {
    "duration": 73,
    "start_time": "2021-08-08T12:22:36.576Z"
   },
   {
    "duration": 267,
    "start_time": "2021-08-08T12:22:36.651Z"
   },
   {
    "duration": 17,
    "start_time": "2021-08-08T12:22:36.920Z"
   },
   {
    "duration": 97,
    "start_time": "2021-08-08T12:22:36.940Z"
   },
   {
    "duration": 43062,
    "start_time": "2021-08-08T12:22:37.040Z"
   },
   {
    "duration": 36,
    "start_time": "2021-08-08T12:23:20.104Z"
   },
   {
    "duration": 55,
    "start_time": "2021-08-08T12:23:20.142Z"
   },
   {
    "duration": 19,
    "start_time": "2021-08-08T12:23:20.201Z"
   },
   {
    "duration": 68,
    "start_time": "2021-08-08T12:23:20.223Z"
   },
   {
    "duration": 20,
    "start_time": "2021-08-08T12:23:20.294Z"
   },
   {
    "duration": 279,
    "start_time": "2021-08-08T12:25:04.786Z"
   },
   {
    "duration": 7,
    "start_time": "2021-08-08T12:25:05.068Z"
   },
   {
    "duration": 279,
    "start_time": "2021-08-08T12:26:16.154Z"
   },
   {
    "duration": 26,
    "start_time": "2021-08-08T12:26:26.425Z"
   },
   {
    "duration": 47,
    "start_time": "2021-08-08T12:26:59.336Z"
   },
   {
    "duration": 75,
    "start_time": "2021-08-08T12:27:11.884Z"
   },
   {
    "duration": 51,
    "start_time": "2021-08-08T12:27:11.961Z"
   },
   {
    "duration": 265,
    "start_time": "2021-08-08T12:27:12.015Z"
   },
   {
    "duration": 8,
    "start_time": "2021-08-08T12:27:12.285Z"
   },
   {
    "duration": 19,
    "start_time": "2021-08-08T12:27:12.298Z"
   },
   {
    "duration": 113,
    "start_time": "2021-08-08T12:27:12.319Z"
   },
   {
    "duration": 44365,
    "start_time": "2021-08-08T12:27:12.434Z"
   },
   {
    "duration": 33,
    "start_time": "2021-08-08T12:27:56.804Z"
   },
   {
    "duration": 57,
    "start_time": "2021-08-08T12:27:56.839Z"
   },
   {
    "duration": 19,
    "start_time": "2021-08-08T12:27:56.900Z"
   },
   {
    "duration": 38,
    "start_time": "2021-08-08T12:27:56.921Z"
   },
   {
    "duration": 20,
    "start_time": "2021-08-08T12:27:56.986Z"
   },
   {
    "duration": 103,
    "start_time": "2021-08-08T12:39:30.013Z"
   },
   {
    "duration": 87,
    "start_time": "2021-08-08T12:44:32.028Z"
   },
   {
    "duration": 38,
    "start_time": "2021-08-08T12:44:32.118Z"
   },
   {
    "duration": 270,
    "start_time": "2021-08-08T12:44:32.159Z"
   },
   {
    "duration": 5,
    "start_time": "2021-08-08T12:44:32.432Z"
   },
   {
    "duration": 21,
    "start_time": "2021-08-08T12:44:32.439Z"
   },
   {
    "duration": 93,
    "start_time": "2021-08-08T12:44:32.462Z"
   },
   {
    "duration": 41234,
    "start_time": "2021-08-08T12:44:32.557Z"
   },
   {
    "duration": 35,
    "start_time": "2021-08-08T12:45:13.795Z"
   },
   {
    "duration": 55,
    "start_time": "2021-08-08T12:45:13.832Z"
   },
   {
    "duration": 17,
    "start_time": "2021-08-08T12:45:13.890Z"
   },
   {
    "duration": 41,
    "start_time": "2021-08-08T12:45:13.910Z"
   },
   {
    "duration": 40,
    "start_time": "2021-08-08T12:45:13.954Z"
   },
   {
    "duration": 20,
    "start_time": "2021-08-08T12:45:40.607Z"
   },
   {
    "duration": 94,
    "start_time": "2021-08-08T13:02:15.663Z"
   },
   {
    "duration": 49,
    "start_time": "2021-08-08T13:02:15.760Z"
   },
   {
    "duration": 258,
    "start_time": "2021-08-08T13:02:15.812Z"
   },
   {
    "duration": 22,
    "start_time": "2021-08-08T13:02:16.072Z"
   },
   {
    "duration": 19,
    "start_time": "2021-08-08T13:02:16.096Z"
   },
   {
    "duration": 109,
    "start_time": "2021-08-08T13:02:16.118Z"
   },
   {
    "duration": 40274,
    "start_time": "2021-08-08T13:02:16.229Z"
   },
   {
    "duration": 34,
    "start_time": "2021-08-08T13:02:56.506Z"
   },
   {
    "duration": 54,
    "start_time": "2021-08-08T13:02:56.543Z"
   },
   {
    "duration": 20,
    "start_time": "2021-08-08T13:02:56.600Z"
   },
   {
    "duration": 72,
    "start_time": "2021-08-08T13:02:56.623Z"
   },
   {
    "duration": 17,
    "start_time": "2021-08-08T13:02:56.698Z"
   },
   {
    "duration": 100,
    "start_time": "2021-08-08T13:23:19.521Z"
   },
   {
    "duration": 38,
    "start_time": "2021-08-08T13:23:19.624Z"
   },
   {
    "duration": 291,
    "start_time": "2021-08-08T13:23:19.665Z"
   },
   {
    "duration": 15,
    "start_time": "2021-08-08T13:23:19.958Z"
   },
   {
    "duration": 33,
    "start_time": "2021-08-08T13:23:19.976Z"
   },
   {
    "duration": 102,
    "start_time": "2021-08-08T13:23:20.011Z"
   },
   {
    "duration": 4932,
    "start_time": "2021-08-08T13:23:20.117Z"
   },
   {
    "duration": 38902,
    "start_time": "2021-08-08T13:23:25.051Z"
   },
   {
    "duration": 55,
    "start_time": "2021-08-08T13:24:03.956Z"
   },
   {
    "duration": 32,
    "start_time": "2021-08-08T13:24:04.014Z"
   },
   {
    "duration": 55,
    "start_time": "2021-08-08T13:24:04.048Z"
   },
   {
    "duration": 50,
    "start_time": "2021-08-08T13:24:04.105Z"
   },
   {
    "duration": 29,
    "start_time": "2021-08-08T13:24:04.158Z"
   },
   {
    "duration": 93,
    "start_time": "2021-08-08T13:24:35.458Z"
   },
   {
    "duration": 62,
    "start_time": "2021-08-08T13:24:35.553Z"
   },
   {
    "duration": 297,
    "start_time": "2021-08-08T13:24:35.617Z"
   },
   {
    "duration": 16,
    "start_time": "2021-08-08T13:24:35.916Z"
   },
   {
    "duration": 20,
    "start_time": "2021-08-08T13:24:35.935Z"
   },
   {
    "duration": 106,
    "start_time": "2021-08-08T13:24:35.957Z"
   },
   {
    "duration": 4976,
    "start_time": "2021-08-08T13:24:36.066Z"
   },
   {
    "duration": 4096,
    "start_time": "2021-08-08T13:24:41.045Z"
   },
   {
    "duration": -151,
    "start_time": "2021-08-08T13:24:45.294Z"
   },
   {
    "duration": -151,
    "start_time": "2021-08-08T13:24:45.296Z"
   },
   {
    "duration": -151,
    "start_time": "2021-08-08T13:24:45.297Z"
   },
   {
    "duration": -151,
    "start_time": "2021-08-08T13:24:45.298Z"
   },
   {
    "duration": -150,
    "start_time": "2021-08-08T13:24:45.299Z"
   },
   {
    "duration": 99,
    "start_time": "2021-08-08T13:28:17.301Z"
   },
   {
    "duration": 38,
    "start_time": "2021-08-08T13:28:17.403Z"
   },
   {
    "duration": 286,
    "start_time": "2021-08-08T13:28:17.444Z"
   },
   {
    "duration": 15,
    "start_time": "2021-08-08T13:28:17.732Z"
   },
   {
    "duration": 37,
    "start_time": "2021-08-08T13:28:17.750Z"
   },
   {
    "duration": 75,
    "start_time": "2021-08-08T13:28:17.791Z"
   },
   {
    "duration": 5119,
    "start_time": "2021-08-08T13:28:17.869Z"
   },
   {
    "duration": 13932,
    "start_time": "2021-08-08T13:28:22.993Z"
   },
   {
    "duration": -162,
    "start_time": "2021-08-08T13:28:37.089Z"
   },
   {
    "duration": -162,
    "start_time": "2021-08-08T13:28:37.091Z"
   },
   {
    "duration": -162,
    "start_time": "2021-08-08T13:28:37.092Z"
   },
   {
    "duration": -162,
    "start_time": "2021-08-08T13:28:37.094Z"
   },
   {
    "duration": -162,
    "start_time": "2021-08-08T13:28:37.095Z"
   },
   {
    "duration": 100,
    "start_time": "2021-08-08T13:30:12.595Z"
   },
   {
    "duration": 40,
    "start_time": "2021-08-08T13:30:12.698Z"
   },
   {
    "duration": 282,
    "start_time": "2021-08-08T13:30:12.740Z"
   },
   {
    "duration": 17,
    "start_time": "2021-08-08T13:30:13.024Z"
   },
   {
    "duration": 44,
    "start_time": "2021-08-08T13:30:13.044Z"
   },
   {
    "duration": 98,
    "start_time": "2021-08-08T13:30:13.091Z"
   },
   {
    "duration": 4867,
    "start_time": "2021-08-08T13:30:13.192Z"
   },
   {
    "duration": 18439,
    "start_time": "2021-08-08T13:30:18.062Z"
   },
   {
    "duration": 33,
    "start_time": "2021-08-08T13:30:36.504Z"
   },
   {
    "duration": 56,
    "start_time": "2021-08-08T13:30:36.540Z"
   },
   {
    "duration": 20,
    "start_time": "2021-08-08T13:30:36.598Z"
   },
   {
    "duration": 65,
    "start_time": "2021-08-08T13:30:36.620Z"
   },
   {
    "duration": 17,
    "start_time": "2021-08-08T13:30:36.688Z"
   },
   {
    "duration": 3908,
    "start_time": "2021-08-08T13:31:58.403Z"
   },
   {
    "duration": 13902,
    "start_time": "2021-08-08T13:36:49.458Z"
   },
   {
    "duration": 91,
    "start_time": "2021-08-08T13:39:05.797Z"
   },
   {
    "duration": 44,
    "start_time": "2021-08-08T13:39:05.892Z"
   },
   {
    "duration": 294,
    "start_time": "2021-08-08T13:39:05.939Z"
   },
   {
    "duration": 16,
    "start_time": "2021-08-08T13:39:06.236Z"
   },
   {
    "duration": 39,
    "start_time": "2021-08-08T13:39:06.254Z"
   },
   {
    "duration": 73,
    "start_time": "2021-08-08T13:39:06.296Z"
   },
   {
    "duration": 5013,
    "start_time": "2021-08-08T13:39:06.387Z"
   },
   {
    "duration": 3924,
    "start_time": "2021-08-08T13:39:11.404Z"
   },
   {
    "duration": 5213,
    "start_time": "2021-08-08T13:39:15.331Z"
   },
   {
    "duration": 56,
    "start_time": "2021-08-08T13:39:20.547Z"
   },
   {
    "duration": 30,
    "start_time": "2021-08-08T13:39:20.605Z"
   },
   {
    "duration": 17,
    "start_time": "2021-08-08T13:39:20.637Z"
   },
   {
    "duration": 65,
    "start_time": "2021-08-08T13:39:20.656Z"
   },
   {
    "duration": 17,
    "start_time": "2021-08-08T13:39:20.723Z"
   },
   {
    "duration": 97,
    "start_time": "2021-08-08T13:40:07.322Z"
   },
   {
    "duration": 40,
    "start_time": "2021-08-08T13:40:07.421Z"
   },
   {
    "duration": 288,
    "start_time": "2021-08-08T13:40:07.463Z"
   },
   {
    "duration": 16,
    "start_time": "2021-08-08T13:40:07.753Z"
   },
   {
    "duration": 24,
    "start_time": "2021-08-08T13:40:07.788Z"
   },
   {
    "duration": 102,
    "start_time": "2021-08-08T13:40:07.815Z"
   },
   {
    "duration": 4895,
    "start_time": "2021-08-08T13:40:07.920Z"
   },
   {
    "duration": 3874,
    "start_time": "2021-08-08T13:40:12.819Z"
   },
   {
    "duration": 5206,
    "start_time": "2021-08-08T13:40:16.697Z"
   },
   {
    "duration": 33,
    "start_time": "2021-08-08T13:40:21.906Z"
   },
   {
    "duration": 56,
    "start_time": "2021-08-08T13:40:21.941Z"
   },
   {
    "duration": 19,
    "start_time": "2021-08-08T13:40:22.000Z"
   },
   {
    "duration": 39,
    "start_time": "2021-08-08T13:40:22.022Z"
   },
   {
    "duration": 17,
    "start_time": "2021-08-08T13:40:22.087Z"
   },
   {
    "duration": 88,
    "start_time": "2021-08-08T13:44:28.492Z"
   },
   {
    "duration": 41,
    "start_time": "2021-08-08T13:44:28.586Z"
   },
   {
    "duration": 265,
    "start_time": "2021-08-08T13:44:28.631Z"
   },
   {
    "duration": 17,
    "start_time": "2021-08-08T13:44:28.900Z"
   },
   {
    "duration": 19,
    "start_time": "2021-08-08T13:44:28.920Z"
   },
   {
    "duration": 112,
    "start_time": "2021-08-08T13:44:28.942Z"
   },
   {
    "duration": 4773,
    "start_time": "2021-08-08T13:44:29.057Z"
   },
   {
    "duration": 3871,
    "start_time": "2021-08-08T13:44:33.834Z"
   },
   {
    "duration": 9113,
    "start_time": "2021-08-08T13:44:37.708Z"
   },
   {
    "duration": -169,
    "start_time": "2021-08-08T13:44:46.993Z"
   },
   {
    "duration": -168,
    "start_time": "2021-08-08T13:44:46.994Z"
   },
   {
    "duration": -168,
    "start_time": "2021-08-08T13:44:46.995Z"
   },
   {
    "duration": -167,
    "start_time": "2021-08-08T13:44:46.996Z"
   },
   {
    "duration": -167,
    "start_time": "2021-08-08T13:44:46.997Z"
   },
   {
    "duration": 96,
    "start_time": "2021-08-08T13:45:25.022Z"
   },
   {
    "duration": 39,
    "start_time": "2021-08-08T13:45:25.121Z"
   },
   {
    "duration": 262,
    "start_time": "2021-08-08T13:45:25.163Z"
   },
   {
    "duration": 17,
    "start_time": "2021-08-08T13:45:25.428Z"
   },
   {
    "duration": 38,
    "start_time": "2021-08-08T13:45:25.447Z"
   },
   {
    "duration": 72,
    "start_time": "2021-08-08T13:45:25.488Z"
   },
   {
    "duration": 4598,
    "start_time": "2021-08-08T13:45:25.563Z"
   },
   {
    "duration": 3645,
    "start_time": "2021-08-08T13:45:30.165Z"
   },
   {
    "duration": 13435,
    "start_time": "2021-08-08T13:45:33.814Z"
   },
   {
    "duration": 47,
    "start_time": "2021-08-08T13:45:47.253Z"
   },
   {
    "duration": 31,
    "start_time": "2021-08-08T13:45:47.302Z"
   },
   {
    "duration": 51,
    "start_time": "2021-08-08T13:45:47.336Z"
   },
   {
    "duration": 41,
    "start_time": "2021-08-08T13:45:47.389Z"
   },
   {
    "duration": 16,
    "start_time": "2021-08-08T13:45:47.433Z"
   },
   {
    "duration": 13462,
    "start_time": "2021-08-08T13:46:38.793Z"
   },
   {
    "duration": 124,
    "start_time": "2021-08-08T13:47:37.310Z"
   },
   {
    "duration": 50,
    "start_time": "2021-08-08T13:47:37.437Z"
   },
   {
    "duration": 258,
    "start_time": "2021-08-08T13:47:37.490Z"
   },
   {
    "duration": 16,
    "start_time": "2021-08-08T13:47:37.751Z"
   },
   {
    "duration": 17,
    "start_time": "2021-08-08T13:47:37.786Z"
   },
   {
    "duration": 99,
    "start_time": "2021-08-08T13:47:37.806Z"
   },
   {
    "duration": 5115,
    "start_time": "2021-08-08T13:47:37.907Z"
   },
   {
    "duration": 4209,
    "start_time": "2021-08-08T13:47:43.026Z"
   },
   {
    "duration": 13782,
    "start_time": "2021-08-08T13:47:47.238Z"
   },
   {
    "duration": 32,
    "start_time": "2021-08-08T13:48:01.022Z"
   },
   {
    "duration": 48,
    "start_time": "2021-08-08T13:48:01.057Z"
   },
   {
    "duration": 18,
    "start_time": "2021-08-08T13:48:01.108Z"
   },
   {
    "duration": 72,
    "start_time": "2021-08-08T13:48:01.129Z"
   },
   {
    "duration": 17,
    "start_time": "2021-08-08T13:48:01.205Z"
   },
   {
    "duration": 122,
    "start_time": "2021-08-08T13:50:20.404Z"
   },
   {
    "duration": 58,
    "start_time": "2021-08-08T13:50:20.529Z"
   },
   {
    "duration": 266,
    "start_time": "2021-08-08T13:50:20.591Z"
   },
   {
    "duration": 29,
    "start_time": "2021-08-08T13:50:20.860Z"
   },
   {
    "duration": 19,
    "start_time": "2021-08-08T13:50:20.891Z"
   },
   {
    "duration": 101,
    "start_time": "2021-08-08T13:50:20.913Z"
   },
   {
    "duration": 5036,
    "start_time": "2021-08-08T13:50:21.016Z"
   },
   {
    "duration": 3840,
    "start_time": "2021-08-08T13:50:26.055Z"
   },
   {
    "duration": 19649,
    "start_time": "2021-08-08T13:50:29.898Z"
   },
   {
    "duration": 64,
    "start_time": "2021-08-08T13:50:49.551Z"
   },
   {
    "duration": 46,
    "start_time": "2021-08-08T13:50:49.618Z"
   },
   {
    "duration": 45,
    "start_time": "2021-08-08T13:50:49.667Z"
   },
   {
    "duration": 81,
    "start_time": "2021-08-08T13:50:49.715Z"
   },
   {
    "duration": 22,
    "start_time": "2021-08-08T13:50:49.799Z"
   },
   {
    "duration": 18269,
    "start_time": "2021-08-08T13:51:18.521Z"
   },
   {
    "duration": 152,
    "start_time": "2021-08-08T13:52:39.901Z"
   },
   {
    "duration": 67,
    "start_time": "2021-08-08T13:52:40.056Z"
   },
   {
    "duration": 260,
    "start_time": "2021-08-08T13:52:40.126Z"
   },
   {
    "duration": 16,
    "start_time": "2021-08-08T13:52:40.389Z"
   },
   {
    "duration": 18,
    "start_time": "2021-08-08T13:52:40.407Z"
   },
   {
    "duration": 103,
    "start_time": "2021-08-08T13:52:40.427Z"
   },
   {
    "duration": 4775,
    "start_time": "2021-08-08T13:52:40.532Z"
   },
   {
    "duration": 3861,
    "start_time": "2021-08-08T13:52:45.311Z"
   },
   {
    "duration": 32303,
    "start_time": "2021-08-08T13:52:49.174Z"
   },
   {
    "duration": 34,
    "start_time": "2021-08-08T13:53:21.479Z"
   },
   {
    "duration": 30,
    "start_time": "2021-08-08T13:53:21.515Z"
   },
   {
    "duration": 51,
    "start_time": "2021-08-08T13:53:21.547Z"
   },
   {
    "duration": 43,
    "start_time": "2021-08-08T13:53:21.600Z"
   },
   {
    "duration": 48,
    "start_time": "2021-08-08T13:53:21.645Z"
   },
   {
    "duration": 32504,
    "start_time": "2021-08-08T13:53:42.438Z"
   },
   {
    "duration": 126,
    "start_time": "2021-08-08T13:55:29.895Z"
   },
   {
    "duration": 40,
    "start_time": "2021-08-08T13:55:30.024Z"
   },
   {
    "duration": 289,
    "start_time": "2021-08-08T13:55:30.067Z"
   },
   {
    "duration": 26,
    "start_time": "2021-08-08T13:55:30.359Z"
   },
   {
    "duration": 19,
    "start_time": "2021-08-08T13:55:30.387Z"
   },
   {
    "duration": 95,
    "start_time": "2021-08-08T13:55:30.409Z"
   },
   {
    "duration": 4934,
    "start_time": "2021-08-08T13:55:30.507Z"
   },
   {
    "duration": 4042,
    "start_time": "2021-08-08T13:55:35.445Z"
   },
   {
    "duration": 7660,
    "start_time": "2021-08-08T13:55:39.489Z"
   },
   {
    "duration": 47,
    "start_time": "2021-08-08T13:55:47.151Z"
   },
   {
    "duration": 32,
    "start_time": "2021-08-08T13:55:47.200Z"
   },
   {
    "duration": 20,
    "start_time": "2021-08-08T13:55:47.235Z"
   },
   {
    "duration": 42,
    "start_time": "2021-08-08T13:55:47.286Z"
   },
   {
    "duration": 17,
    "start_time": "2021-08-08T13:55:47.331Z"
   },
   {
    "duration": 4952,
    "start_time": "2021-08-08T13:56:02.300Z"
   },
   {
    "duration": 124,
    "start_time": "2021-08-08T13:56:29.909Z"
   },
   {
    "duration": 57,
    "start_time": "2021-08-08T13:56:30.036Z"
   },
   {
    "duration": 257,
    "start_time": "2021-08-08T13:56:30.096Z"
   },
   {
    "duration": 30,
    "start_time": "2021-08-08T13:56:30.356Z"
   },
   {
    "duration": 20,
    "start_time": "2021-08-08T13:56:30.388Z"
   },
   {
    "duration": 99,
    "start_time": "2021-08-08T13:56:30.411Z"
   },
   {
    "duration": 4956,
    "start_time": "2021-08-08T13:56:30.512Z"
   },
   {
    "duration": 4089,
    "start_time": "2021-08-08T13:56:35.487Z"
   },
   {
    "duration": 5307,
    "start_time": "2021-08-08T13:56:39.582Z"
   },
   {
    "duration": 34,
    "start_time": "2021-08-08T13:56:44.891Z"
   },
   {
    "duration": 57,
    "start_time": "2021-08-08T13:56:44.928Z"
   },
   {
    "duration": 20,
    "start_time": "2021-08-08T13:56:44.988Z"
   },
   {
    "duration": 44,
    "start_time": "2021-08-08T13:56:45.011Z"
   },
   {
    "duration": 41,
    "start_time": "2021-08-08T13:56:45.057Z"
   },
   {
    "duration": 121,
    "start_time": "2021-08-08T13:58:11.941Z"
   },
   {
    "duration": 47,
    "start_time": "2021-08-08T13:58:12.065Z"
   },
   {
    "duration": 254,
    "start_time": "2021-08-08T13:58:12.116Z"
   },
   {
    "duration": 26,
    "start_time": "2021-08-08T13:58:12.373Z"
   },
   {
    "duration": 20,
    "start_time": "2021-08-08T13:58:12.401Z"
   },
   {
    "duration": 97,
    "start_time": "2021-08-08T13:58:12.424Z"
   },
   {
    "duration": 4756,
    "start_time": "2021-08-08T13:58:12.523Z"
   },
   {
    "duration": 3743,
    "start_time": "2021-08-08T13:58:17.287Z"
   },
   {
    "duration": 11812,
    "start_time": "2021-08-08T13:58:21.033Z"
   },
   {
    "duration": -178,
    "start_time": "2021-08-08T13:58:33.026Z"
   },
   {
    "duration": -177,
    "start_time": "2021-08-08T13:58:33.027Z"
   },
   {
    "duration": -176,
    "start_time": "2021-08-08T13:58:33.028Z"
   },
   {
    "duration": -177,
    "start_time": "2021-08-08T13:58:33.030Z"
   },
   {
    "duration": -176,
    "start_time": "2021-08-08T13:58:33.031Z"
   },
   {
    "duration": 123,
    "start_time": "2021-08-08T13:58:42.794Z"
   },
   {
    "duration": 41,
    "start_time": "2021-08-08T13:58:42.921Z"
   },
   {
    "duration": 259,
    "start_time": "2021-08-08T13:58:42.986Z"
   },
   {
    "duration": 19,
    "start_time": "2021-08-08T13:58:43.248Z"
   },
   {
    "duration": 22,
    "start_time": "2021-08-08T13:58:43.286Z"
   },
   {
    "duration": 107,
    "start_time": "2021-08-08T13:58:43.311Z"
   },
   {
    "duration": 4837,
    "start_time": "2021-08-08T13:58:43.421Z"
   },
   {
    "duration": 4072,
    "start_time": "2021-08-08T13:58:48.263Z"
   },
   {
    "duration": 333,
    "start_time": "2021-08-08T13:58:52.338Z"
   },
   {
    "duration": -172,
    "start_time": "2021-08-08T13:58:52.845Z"
   },
   {
    "duration": -171,
    "start_time": "2021-08-08T13:58:52.846Z"
   },
   {
    "duration": -171,
    "start_time": "2021-08-08T13:58:52.847Z"
   },
   {
    "duration": -170,
    "start_time": "2021-08-08T13:58:52.848Z"
   },
   {
    "duration": -170,
    "start_time": "2021-08-08T13:58:52.849Z"
   },
   {
    "duration": 124,
    "start_time": "2021-08-08T14:00:02.251Z"
   },
   {
    "duration": 45,
    "start_time": "2021-08-08T14:00:02.378Z"
   },
   {
    "duration": 267,
    "start_time": "2021-08-08T14:00:02.427Z"
   },
   {
    "duration": 17,
    "start_time": "2021-08-08T14:00:02.697Z"
   },
   {
    "duration": 33,
    "start_time": "2021-08-08T14:00:02.717Z"
   },
   {
    "duration": 100,
    "start_time": "2021-08-08T14:00:02.753Z"
   },
   {
    "duration": 4830,
    "start_time": "2021-08-08T14:00:02.855Z"
   },
   {
    "duration": 4350,
    "start_time": "2021-08-08T14:00:07.690Z"
   },
   {
    "duration": 33260,
    "start_time": "2021-08-08T14:00:12.042Z"
   },
   {
    "duration": 33,
    "start_time": "2021-08-08T14:00:45.305Z"
   },
   {
    "duration": 56,
    "start_time": "2021-08-08T14:00:45.341Z"
   },
   {
    "duration": 17,
    "start_time": "2021-08-08T14:00:45.400Z"
   },
   {
    "duration": 39,
    "start_time": "2021-08-08T14:00:45.420Z"
   },
   {
    "duration": 16,
    "start_time": "2021-08-08T14:00:45.485Z"
   },
   {
    "duration": 348,
    "start_time": "2021-08-08T14:22:08.367Z"
   },
   {
    "duration": 44,
    "start_time": "2021-08-08T14:22:15.900Z"
   },
   {
    "duration": 45,
    "start_time": "2021-08-08T16:24:23.767Z"
   },
   {
    "duration": 390,
    "start_time": "2021-08-08T16:24:31.263Z"
   },
   {
    "duration": 44,
    "start_time": "2021-08-08T16:24:36.541Z"
   },
   {
    "duration": 38,
    "start_time": "2021-08-08T16:26:17.657Z"
   },
   {
    "duration": 24,
    "start_time": "2021-08-08T16:26:19.275Z"
   },
   {
    "duration": 19,
    "start_time": "2021-08-08T16:26:19.906Z"
   },
   {
    "duration": 15,
    "start_time": "2021-08-08T16:26:20.266Z"
   },
   {
    "duration": 659,
    "start_time": "2021-08-09T07:11:57.063Z"
   },
   {
    "duration": 22,
    "start_time": "2021-08-09T07:11:57.725Z"
   },
   {
    "duration": 142,
    "start_time": "2021-08-09T07:11:57.749Z"
   },
   {
    "duration": 11,
    "start_time": "2021-08-09T07:11:57.893Z"
   },
   {
    "duration": 12,
    "start_time": "2021-08-09T07:11:57.906Z"
   },
   {
    "duration": 72,
    "start_time": "2021-08-09T07:11:57.920Z"
   },
   {
    "duration": 3605,
    "start_time": "2021-08-09T07:11:57.994Z"
   },
   {
    "duration": 3115,
    "start_time": "2021-08-09T07:12:01.601Z"
   },
   {
    "duration": 20080,
    "start_time": "2021-08-09T07:12:04.718Z"
   },
   {
    "duration": 10,
    "start_time": "2021-08-09T07:12:24.799Z"
   },
   {
    "duration": 10,
    "start_time": "2021-08-09T07:12:24.811Z"
   },
   {
    "duration": 7,
    "start_time": "2021-08-09T07:12:24.823Z"
   },
   {
    "duration": 7,
    "start_time": "2021-08-09T07:12:24.832Z"
   },
   {
    "duration": 11,
    "start_time": "2021-08-09T07:12:24.840Z"
   },
   {
    "duration": 49,
    "start_time": "2021-08-09T07:12:24.853Z"
   },
   {
    "duration": 10,
    "start_time": "2021-08-09T07:12:24.904Z"
   },
   {
    "duration": 23,
    "start_time": "2021-08-09T07:12:24.915Z"
   },
   {
    "duration": 9,
    "start_time": "2021-08-09T07:12:24.940Z"
   },
   {
    "duration": 8724,
    "start_time": "2021-08-09T07:16:28.073Z"
   },
   {
    "duration": 13,
    "start_time": "2021-08-09T07:17:09.270Z"
   },
   {
    "duration": 87,
    "start_time": "2021-08-09T07:18:39.311Z"
   },
   {
    "duration": 22,
    "start_time": "2021-08-09T07:18:39.399Z"
   },
   {
    "duration": 156,
    "start_time": "2021-08-09T07:18:39.423Z"
   },
   {
    "duration": 15,
    "start_time": "2021-08-09T07:18:39.580Z"
   },
   {
    "duration": 12,
    "start_time": "2021-08-09T07:18:39.596Z"
   },
   {
    "duration": 46,
    "start_time": "2021-08-09T07:18:39.609Z"
   },
   {
    "duration": 3292,
    "start_time": "2021-08-09T07:18:39.656Z"
   },
   {
    "duration": 2765,
    "start_time": "2021-08-09T07:18:42.951Z"
   },
   {
    "duration": 8219,
    "start_time": "2021-08-09T07:18:45.718Z"
   },
   {
    "duration": 16,
    "start_time": "2021-08-09T07:21:18.018Z"
   },
   {
    "duration": 17462,
    "start_time": "2021-08-09T07:22:22.111Z"
   },
   {
    "duration": 632,
    "start_time": "2021-08-09T07:35:36.768Z"
   },
   {
    "duration": 23,
    "start_time": "2021-08-09T07:35:37.402Z"
   },
   {
    "duration": 148,
    "start_time": "2021-08-09T07:35:37.428Z"
   },
   {
    "duration": 19,
    "start_time": "2021-08-09T07:35:37.579Z"
   },
   {
    "duration": 12,
    "start_time": "2021-08-09T07:35:37.600Z"
   },
   {
    "duration": 46,
    "start_time": "2021-08-09T07:35:37.613Z"
   },
   {
    "duration": 3503,
    "start_time": "2021-08-09T07:35:37.660Z"
   },
   {
    "duration": 3000,
    "start_time": "2021-08-09T07:35:41.166Z"
   },
   {
    "duration": 17444,
    "start_time": "2021-08-09T07:35:44.168Z"
   },
   {
    "duration": 15,
    "start_time": "2021-08-09T07:36:01.615Z"
   },
   {
    "duration": 16,
    "start_time": "2021-08-09T07:36:01.633Z"
   },
   {
    "duration": 12,
    "start_time": "2021-08-09T07:36:01.651Z"
   },
   {
    "duration": 36,
    "start_time": "2021-08-09T07:36:01.665Z"
   },
   {
    "duration": 17,
    "start_time": "2021-08-09T07:36:01.703Z"
   },
   {
    "duration": 18,
    "start_time": "2021-08-09T07:36:01.722Z"
   },
   {
    "duration": 11,
    "start_time": "2021-08-09T07:36:01.742Z"
   },
   {
    "duration": 58,
    "start_time": "2021-08-09T07:36:01.754Z"
   },
   {
    "duration": 9,
    "start_time": "2021-08-09T07:36:01.814Z"
   },
   {
    "duration": 3,
    "start_time": "2021-08-09T07:37:04.494Z"
   },
   {
    "duration": 5,
    "start_time": "2021-08-09T07:37:28.166Z"
   },
   {
    "duration": 1069,
    "start_time": "2021-08-09T07:38:09.621Z"
   },
   {
    "duration": 53,
    "start_time": "2021-08-09T07:39:45.100Z"
   },
   {
    "duration": 483,
    "start_time": "2022-04-08T15:49:46.103Z"
   },
   {
    "duration": 83,
    "start_time": "2022-04-08T15:49:47.886Z"
   },
   {
    "duration": 19,
    "start_time": "2022-04-08T15:49:48.854Z"
   },
   {
    "duration": 3,
    "start_time": "2022-04-08T15:50:08.780Z"
   },
   {
    "duration": 749,
    "start_time": "2022-04-08T15:50:08.785Z"
   },
   {
    "duration": 17,
    "start_time": "2022-04-08T15:50:09.536Z"
   },
   {
    "duration": 44,
    "start_time": "2022-04-08T15:50:09.556Z"
   },
   {
    "duration": 129,
    "start_time": "2022-04-08T15:50:09.601Z"
   },
   {
    "duration": 16,
    "start_time": "2022-04-08T15:50:09.731Z"
   },
   {
    "duration": 20,
    "start_time": "2022-04-08T15:50:09.749Z"
   },
   {
    "duration": 60,
    "start_time": "2022-04-08T15:50:09.770Z"
   },
   {
    "duration": 4217,
    "start_time": "2022-04-08T15:50:09.832Z"
   },
   {
    "duration": 3270,
    "start_time": "2022-04-08T15:50:14.051Z"
   },
   {
    "duration": 8074,
    "start_time": "2022-04-08T15:50:17.323Z"
   },
   {
    "duration": 12,
    "start_time": "2022-04-08T15:50:25.398Z"
   },
   {
    "duration": 12,
    "start_time": "2022-04-08T15:50:25.412Z"
   },
   {
    "duration": 14,
    "start_time": "2022-04-08T15:50:25.426Z"
   },
   {
    "duration": 50,
    "start_time": "2022-04-08T15:50:25.442Z"
   },
   {
    "duration": 20,
    "start_time": "2022-04-08T15:50:25.494Z"
   },
   {
    "duration": 31,
    "start_time": "2022-04-08T15:50:25.516Z"
   },
   {
    "duration": 39,
    "start_time": "2022-04-08T15:50:25.549Z"
   },
   {
    "duration": 27,
    "start_time": "2022-04-08T15:50:25.591Z"
   },
   {
    "duration": 10,
    "start_time": "2022-04-08T15:50:25.619Z"
   }
  ],
  "kernelspec": {
   "display_name": "Python 3 (ipykernel)",
   "language": "python",
   "name": "python3"
  },
  "language_info": {
   "codemirror_mode": {
    "name": "ipython",
    "version": 3
   },
   "file_extension": ".py",
   "mimetype": "text/x-python",
   "name": "python",
   "nbconvert_exporter": "python",
   "pygments_lexer": "ipython3",
   "version": "3.9.7"
  },
  "toc": {
   "base_numbering": 1,
   "nav_menu": {},
   "number_sections": true,
   "sideBar": true,
   "skip_h1_title": true,
   "title_cell": "Table of Contents",
   "title_sidebar": "Contents",
   "toc_cell": false,
   "toc_position": {},
   "toc_section_display": true,
   "toc_window_display": false
  }
 },
 "nbformat": 4,
 "nbformat_minor": 2
}
