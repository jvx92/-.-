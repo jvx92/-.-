{
 "cells": [
  {
   "cell_type": "markdown",
   "metadata": {},
   "source": [
    "# Сборный проект #1"
   ]
  },
  {
   "cell_type": "markdown",
   "metadata": {},
   "source": [
    "Вы работаете в интернет-магазине «Стримчик», который продаёт по всему миру компьютерные игры. Из открытых источников доступны исторические данные о продажах игр, оценки пользователей и экспертов, жанры и платформы (например, Xbox или PlayStation). Вам нужно выявить определяющие успешность игры закономерности. Это позволит сделать ставку на потенциально популярный продукт и спланировать рекламные кампании.\n",
    "\n",
    "Перед вами данные до 2016 года. Представим, что сейчас декабрь 2016 г., и вы планируете кампанию на 2017-й. Нужно отработать принцип работы с данными. Неважно, прогнозируете ли вы продажи на 2017 год по данным 2016-го или же 2027-й — по данным 2026 года.\n",
    "\n",
    "В наборе данных попадается аббревиатура ESRB (Entertainment Software Rating Board) — это ассоциация, определяющая возрастной рейтинг компьютерных игр. ESRB оценивает игровой контент и присваивает ему подходящую возрастную категорию, например, «Для взрослых», «Для детей младшего возраста» или «Для подростков»."
   ]
  },
  {
   "cell_type": "markdown",
   "metadata": {},
   "source": [
    "### 1. Откроем файл с данными и изучим общую информацию"
   ]
  },
  {
   "cell_type": "code",
   "execution_count": 1,
   "metadata": {},
   "outputs": [],
   "source": [
    "import pandas as pd\n",
    "import numpy as np\n",
    "import math\n",
    "from scipy import stats as st\n",
    "import matplotlib.pyplot as plt\n",
    "import seaborn as sn\n",
    "df = pd.read_csv('/datasets/games.csv')"
   ]
  },
  {
   "cell_type": "code",
   "execution_count": 2,
   "metadata": {},
   "outputs": [
    {
     "data": {
      "text/html": [
       "<div>\n",
       "<style scoped>\n",
       "    .dataframe tbody tr th:only-of-type {\n",
       "        vertical-align: middle;\n",
       "    }\n",
       "\n",
       "    .dataframe tbody tr th {\n",
       "        vertical-align: top;\n",
       "    }\n",
       "\n",
       "    .dataframe thead th {\n",
       "        text-align: right;\n",
       "    }\n",
       "</style>\n",
       "<table border=\"1\" class=\"dataframe\">\n",
       "  <thead>\n",
       "    <tr style=\"text-align: right;\">\n",
       "      <th></th>\n",
       "      <th>Name</th>\n",
       "      <th>Platform</th>\n",
       "      <th>Year_of_Release</th>\n",
       "      <th>Genre</th>\n",
       "      <th>NA_sales</th>\n",
       "      <th>EU_sales</th>\n",
       "      <th>JP_sales</th>\n",
       "      <th>Other_sales</th>\n",
       "      <th>Critic_Score</th>\n",
       "      <th>User_Score</th>\n",
       "      <th>Rating</th>\n",
       "    </tr>\n",
       "  </thead>\n",
       "  <tbody>\n",
       "    <tr>\n",
       "      <th>0</th>\n",
       "      <td>Wii Sports</td>\n",
       "      <td>Wii</td>\n",
       "      <td>2006.0</td>\n",
       "      <td>Sports</td>\n",
       "      <td>41.36</td>\n",
       "      <td>28.96</td>\n",
       "      <td>3.77</td>\n",
       "      <td>8.45</td>\n",
       "      <td>76.0</td>\n",
       "      <td>8</td>\n",
       "      <td>E</td>\n",
       "    </tr>\n",
       "    <tr>\n",
       "      <th>1</th>\n",
       "      <td>Super Mario Bros.</td>\n",
       "      <td>NES</td>\n",
       "      <td>1985.0</td>\n",
       "      <td>Platform</td>\n",
       "      <td>29.08</td>\n",
       "      <td>3.58</td>\n",
       "      <td>6.81</td>\n",
       "      <td>0.77</td>\n",
       "      <td>NaN</td>\n",
       "      <td>NaN</td>\n",
       "      <td>NaN</td>\n",
       "    </tr>\n",
       "    <tr>\n",
       "      <th>2</th>\n",
       "      <td>Mario Kart Wii</td>\n",
       "      <td>Wii</td>\n",
       "      <td>2008.0</td>\n",
       "      <td>Racing</td>\n",
       "      <td>15.68</td>\n",
       "      <td>12.76</td>\n",
       "      <td>3.79</td>\n",
       "      <td>3.29</td>\n",
       "      <td>82.0</td>\n",
       "      <td>8.3</td>\n",
       "      <td>E</td>\n",
       "    </tr>\n",
       "    <tr>\n",
       "      <th>3</th>\n",
       "      <td>Wii Sports Resort</td>\n",
       "      <td>Wii</td>\n",
       "      <td>2009.0</td>\n",
       "      <td>Sports</td>\n",
       "      <td>15.61</td>\n",
       "      <td>10.93</td>\n",
       "      <td>3.28</td>\n",
       "      <td>2.95</td>\n",
       "      <td>80.0</td>\n",
       "      <td>8</td>\n",
       "      <td>E</td>\n",
       "    </tr>\n",
       "    <tr>\n",
       "      <th>4</th>\n",
       "      <td>Pokemon Red/Pokemon Blue</td>\n",
       "      <td>GB</td>\n",
       "      <td>1996.0</td>\n",
       "      <td>Role-Playing</td>\n",
       "      <td>11.27</td>\n",
       "      <td>8.89</td>\n",
       "      <td>10.22</td>\n",
       "      <td>1.00</td>\n",
       "      <td>NaN</td>\n",
       "      <td>NaN</td>\n",
       "      <td>NaN</td>\n",
       "    </tr>\n",
       "    <tr>\n",
       "      <th>5</th>\n",
       "      <td>Tetris</td>\n",
       "      <td>GB</td>\n",
       "      <td>1989.0</td>\n",
       "      <td>Puzzle</td>\n",
       "      <td>23.20</td>\n",
       "      <td>2.26</td>\n",
       "      <td>4.22</td>\n",
       "      <td>0.58</td>\n",
       "      <td>NaN</td>\n",
       "      <td>NaN</td>\n",
       "      <td>NaN</td>\n",
       "    </tr>\n",
       "    <tr>\n",
       "      <th>6</th>\n",
       "      <td>New Super Mario Bros.</td>\n",
       "      <td>DS</td>\n",
       "      <td>2006.0</td>\n",
       "      <td>Platform</td>\n",
       "      <td>11.28</td>\n",
       "      <td>9.14</td>\n",
       "      <td>6.50</td>\n",
       "      <td>2.88</td>\n",
       "      <td>89.0</td>\n",
       "      <td>8.5</td>\n",
       "      <td>E</td>\n",
       "    </tr>\n",
       "    <tr>\n",
       "      <th>7</th>\n",
       "      <td>Wii Play</td>\n",
       "      <td>Wii</td>\n",
       "      <td>2006.0</td>\n",
       "      <td>Misc</td>\n",
       "      <td>13.96</td>\n",
       "      <td>9.18</td>\n",
       "      <td>2.93</td>\n",
       "      <td>2.84</td>\n",
       "      <td>58.0</td>\n",
       "      <td>6.6</td>\n",
       "      <td>E</td>\n",
       "    </tr>\n",
       "    <tr>\n",
       "      <th>8</th>\n",
       "      <td>New Super Mario Bros. Wii</td>\n",
       "      <td>Wii</td>\n",
       "      <td>2009.0</td>\n",
       "      <td>Platform</td>\n",
       "      <td>14.44</td>\n",
       "      <td>6.94</td>\n",
       "      <td>4.70</td>\n",
       "      <td>2.24</td>\n",
       "      <td>87.0</td>\n",
       "      <td>8.4</td>\n",
       "      <td>E</td>\n",
       "    </tr>\n",
       "    <tr>\n",
       "      <th>9</th>\n",
       "      <td>Duck Hunt</td>\n",
       "      <td>NES</td>\n",
       "      <td>1984.0</td>\n",
       "      <td>Shooter</td>\n",
       "      <td>26.93</td>\n",
       "      <td>0.63</td>\n",
       "      <td>0.28</td>\n",
       "      <td>0.47</td>\n",
       "      <td>NaN</td>\n",
       "      <td>NaN</td>\n",
       "      <td>NaN</td>\n",
       "    </tr>\n",
       "  </tbody>\n",
       "</table>\n",
       "</div>"
      ],
      "text/plain": [
       "                        Name Platform  Year_of_Release         Genre  \\\n",
       "0                 Wii Sports      Wii           2006.0        Sports   \n",
       "1          Super Mario Bros.      NES           1985.0      Platform   \n",
       "2             Mario Kart Wii      Wii           2008.0        Racing   \n",
       "3          Wii Sports Resort      Wii           2009.0        Sports   \n",
       "4   Pokemon Red/Pokemon Blue       GB           1996.0  Role-Playing   \n",
       "5                     Tetris       GB           1989.0        Puzzle   \n",
       "6      New Super Mario Bros.       DS           2006.0      Platform   \n",
       "7                   Wii Play      Wii           2006.0          Misc   \n",
       "8  New Super Mario Bros. Wii      Wii           2009.0      Platform   \n",
       "9                  Duck Hunt      NES           1984.0       Shooter   \n",
       "\n",
       "   NA_sales  EU_sales  JP_sales  Other_sales  Critic_Score User_Score Rating  \n",
       "0     41.36     28.96      3.77         8.45          76.0          8      E  \n",
       "1     29.08      3.58      6.81         0.77           NaN        NaN    NaN  \n",
       "2     15.68     12.76      3.79         3.29          82.0        8.3      E  \n",
       "3     15.61     10.93      3.28         2.95          80.0          8      E  \n",
       "4     11.27      8.89     10.22         1.00           NaN        NaN    NaN  \n",
       "5     23.20      2.26      4.22         0.58           NaN        NaN    NaN  \n",
       "6     11.28      9.14      6.50         2.88          89.0        8.5      E  \n",
       "7     13.96      9.18      2.93         2.84          58.0        6.6      E  \n",
       "8     14.44      6.94      4.70         2.24          87.0        8.4      E  \n",
       "9     26.93      0.63      0.28         0.47           NaN        NaN    NaN  "
      ]
     },
     "execution_count": 2,
     "metadata": {},
     "output_type": "execute_result"
    }
   ],
   "source": [
    "df.head(10)"
   ]
  },
  {
   "cell_type": "code",
   "execution_count": 3,
   "metadata": {},
   "outputs": [
    {
     "data": {
      "text/html": [
       "<div>\n",
       "<style scoped>\n",
       "    .dataframe tbody tr th:only-of-type {\n",
       "        vertical-align: middle;\n",
       "    }\n",
       "\n",
       "    .dataframe tbody tr th {\n",
       "        vertical-align: top;\n",
       "    }\n",
       "\n",
       "    .dataframe thead th {\n",
       "        text-align: right;\n",
       "    }\n",
       "</style>\n",
       "<table border=\"1\" class=\"dataframe\">\n",
       "  <thead>\n",
       "    <tr style=\"text-align: right;\">\n",
       "      <th></th>\n",
       "      <th>Year_of_Release</th>\n",
       "      <th>NA_sales</th>\n",
       "      <th>EU_sales</th>\n",
       "      <th>JP_sales</th>\n",
       "      <th>Other_sales</th>\n",
       "      <th>Critic_Score</th>\n",
       "    </tr>\n",
       "  </thead>\n",
       "  <tbody>\n",
       "    <tr>\n",
       "      <th>count</th>\n",
       "      <td>16446.000000</td>\n",
       "      <td>16715.000000</td>\n",
       "      <td>16715.000000</td>\n",
       "      <td>16715.000000</td>\n",
       "      <td>16715.000000</td>\n",
       "      <td>8137.000000</td>\n",
       "    </tr>\n",
       "    <tr>\n",
       "      <th>mean</th>\n",
       "      <td>2006.484616</td>\n",
       "      <td>0.263377</td>\n",
       "      <td>0.145060</td>\n",
       "      <td>0.077617</td>\n",
       "      <td>0.047342</td>\n",
       "      <td>68.967679</td>\n",
       "    </tr>\n",
       "    <tr>\n",
       "      <th>std</th>\n",
       "      <td>5.877050</td>\n",
       "      <td>0.813604</td>\n",
       "      <td>0.503339</td>\n",
       "      <td>0.308853</td>\n",
       "      <td>0.186731</td>\n",
       "      <td>13.938165</td>\n",
       "    </tr>\n",
       "    <tr>\n",
       "      <th>min</th>\n",
       "      <td>1980.000000</td>\n",
       "      <td>0.000000</td>\n",
       "      <td>0.000000</td>\n",
       "      <td>0.000000</td>\n",
       "      <td>0.000000</td>\n",
       "      <td>13.000000</td>\n",
       "    </tr>\n",
       "    <tr>\n",
       "      <th>25%</th>\n",
       "      <td>2003.000000</td>\n",
       "      <td>0.000000</td>\n",
       "      <td>0.000000</td>\n",
       "      <td>0.000000</td>\n",
       "      <td>0.000000</td>\n",
       "      <td>60.000000</td>\n",
       "    </tr>\n",
       "    <tr>\n",
       "      <th>50%</th>\n",
       "      <td>2007.000000</td>\n",
       "      <td>0.080000</td>\n",
       "      <td>0.020000</td>\n",
       "      <td>0.000000</td>\n",
       "      <td>0.010000</td>\n",
       "      <td>71.000000</td>\n",
       "    </tr>\n",
       "    <tr>\n",
       "      <th>75%</th>\n",
       "      <td>2010.000000</td>\n",
       "      <td>0.240000</td>\n",
       "      <td>0.110000</td>\n",
       "      <td>0.040000</td>\n",
       "      <td>0.030000</td>\n",
       "      <td>79.000000</td>\n",
       "    </tr>\n",
       "    <tr>\n",
       "      <th>max</th>\n",
       "      <td>2016.000000</td>\n",
       "      <td>41.360000</td>\n",
       "      <td>28.960000</td>\n",
       "      <td>10.220000</td>\n",
       "      <td>10.570000</td>\n",
       "      <td>98.000000</td>\n",
       "    </tr>\n",
       "  </tbody>\n",
       "</table>\n",
       "</div>"
      ],
      "text/plain": [
       "       Year_of_Release      NA_sales      EU_sales      JP_sales  \\\n",
       "count     16446.000000  16715.000000  16715.000000  16715.000000   \n",
       "mean       2006.484616      0.263377      0.145060      0.077617   \n",
       "std           5.877050      0.813604      0.503339      0.308853   \n",
       "min        1980.000000      0.000000      0.000000      0.000000   \n",
       "25%        2003.000000      0.000000      0.000000      0.000000   \n",
       "50%        2007.000000      0.080000      0.020000      0.000000   \n",
       "75%        2010.000000      0.240000      0.110000      0.040000   \n",
       "max        2016.000000     41.360000     28.960000     10.220000   \n",
       "\n",
       "        Other_sales  Critic_Score  \n",
       "count  16715.000000   8137.000000  \n",
       "mean       0.047342     68.967679  \n",
       "std        0.186731     13.938165  \n",
       "min        0.000000     13.000000  \n",
       "25%        0.000000     60.000000  \n",
       "50%        0.010000     71.000000  \n",
       "75%        0.030000     79.000000  \n",
       "max       10.570000     98.000000  "
      ]
     },
     "execution_count": 3,
     "metadata": {},
     "output_type": "execute_result"
    }
   ],
   "source": [
    "df.describe()"
   ]
  },
  {
   "cell_type": "code",
   "execution_count": 4,
   "metadata": {
    "scrolled": true
   },
   "outputs": [
    {
     "name": "stdout",
     "output_type": "stream",
     "text": [
      "<class 'pandas.core.frame.DataFrame'>\n",
      "RangeIndex: 16715 entries, 0 to 16714\n",
      "Data columns (total 11 columns):\n",
      " #   Column           Non-Null Count  Dtype  \n",
      "---  ------           --------------  -----  \n",
      " 0   Name             16713 non-null  object \n",
      " 1   Platform         16715 non-null  object \n",
      " 2   Year_of_Release  16446 non-null  float64\n",
      " 3   Genre            16713 non-null  object \n",
      " 4   NA_sales         16715 non-null  float64\n",
      " 5   EU_sales         16715 non-null  float64\n",
      " 6   JP_sales         16715 non-null  float64\n",
      " 7   Other_sales      16715 non-null  float64\n",
      " 8   Critic_Score     8137 non-null   float64\n",
      " 9   User_Score       10014 non-null  object \n",
      " 10  Rating           9949 non-null   object \n",
      "dtypes: float64(6), object(5)\n",
      "memory usage: 5.6 MB\n"
     ]
    }
   ],
   "source": [
    "df.info(memory_usage='deep')"
   ]
  },
  {
   "cell_type": "markdown",
   "metadata": {},
   "source": [
    "**Вывод:** В данных есть пропуски, это касается значений оценок пользователей и критиков, а так же рейтинга."
   ]
  },
  {
   "cell_type": "markdown",
   "metadata": {},
   "source": [
    "### 2. Подготовим данные"
   ]
  },
  {
   "cell_type": "markdown",
   "metadata": {},
   "source": [
    "Приведем названия столбцов к нижнему регистру:"
   ]
  },
  {
   "cell_type": "code",
   "execution_count": 5,
   "metadata": {},
   "outputs": [
    {
     "data": {
      "text/html": [
       "<div>\n",
       "<style scoped>\n",
       "    .dataframe tbody tr th:only-of-type {\n",
       "        vertical-align: middle;\n",
       "    }\n",
       "\n",
       "    .dataframe tbody tr th {\n",
       "        vertical-align: top;\n",
       "    }\n",
       "\n",
       "    .dataframe thead th {\n",
       "        text-align: right;\n",
       "    }\n",
       "</style>\n",
       "<table border=\"1\" class=\"dataframe\">\n",
       "  <thead>\n",
       "    <tr style=\"text-align: right;\">\n",
       "      <th></th>\n",
       "      <th>name</th>\n",
       "      <th>platform</th>\n",
       "      <th>year_of_release</th>\n",
       "      <th>genre</th>\n",
       "      <th>na_sales</th>\n",
       "      <th>eu_sales</th>\n",
       "      <th>jp_sales</th>\n",
       "      <th>other_sales</th>\n",
       "      <th>critic_score</th>\n",
       "      <th>user_score</th>\n",
       "      <th>rating</th>\n",
       "    </tr>\n",
       "  </thead>\n",
       "  <tbody>\n",
       "    <tr>\n",
       "      <th>0</th>\n",
       "      <td>Wii Sports</td>\n",
       "      <td>Wii</td>\n",
       "      <td>2006.0</td>\n",
       "      <td>Sports</td>\n",
       "      <td>41.36</td>\n",
       "      <td>28.96</td>\n",
       "      <td>3.77</td>\n",
       "      <td>8.45</td>\n",
       "      <td>76.0</td>\n",
       "      <td>8</td>\n",
       "      <td>E</td>\n",
       "    </tr>\n",
       "    <tr>\n",
       "      <th>1</th>\n",
       "      <td>Super Mario Bros.</td>\n",
       "      <td>NES</td>\n",
       "      <td>1985.0</td>\n",
       "      <td>Platform</td>\n",
       "      <td>29.08</td>\n",
       "      <td>3.58</td>\n",
       "      <td>6.81</td>\n",
       "      <td>0.77</td>\n",
       "      <td>NaN</td>\n",
       "      <td>NaN</td>\n",
       "      <td>NaN</td>\n",
       "    </tr>\n",
       "    <tr>\n",
       "      <th>2</th>\n",
       "      <td>Mario Kart Wii</td>\n",
       "      <td>Wii</td>\n",
       "      <td>2008.0</td>\n",
       "      <td>Racing</td>\n",
       "      <td>15.68</td>\n",
       "      <td>12.76</td>\n",
       "      <td>3.79</td>\n",
       "      <td>3.29</td>\n",
       "      <td>82.0</td>\n",
       "      <td>8.3</td>\n",
       "      <td>E</td>\n",
       "    </tr>\n",
       "    <tr>\n",
       "      <th>3</th>\n",
       "      <td>Wii Sports Resort</td>\n",
       "      <td>Wii</td>\n",
       "      <td>2009.0</td>\n",
       "      <td>Sports</td>\n",
       "      <td>15.61</td>\n",
       "      <td>10.93</td>\n",
       "      <td>3.28</td>\n",
       "      <td>2.95</td>\n",
       "      <td>80.0</td>\n",
       "      <td>8</td>\n",
       "      <td>E</td>\n",
       "    </tr>\n",
       "    <tr>\n",
       "      <th>4</th>\n",
       "      <td>Pokemon Red/Pokemon Blue</td>\n",
       "      <td>GB</td>\n",
       "      <td>1996.0</td>\n",
       "      <td>Role-Playing</td>\n",
       "      <td>11.27</td>\n",
       "      <td>8.89</td>\n",
       "      <td>10.22</td>\n",
       "      <td>1.00</td>\n",
       "      <td>NaN</td>\n",
       "      <td>NaN</td>\n",
       "      <td>NaN</td>\n",
       "    </tr>\n",
       "  </tbody>\n",
       "</table>\n",
       "</div>"
      ],
      "text/plain": [
       "                       name platform  year_of_release         genre  na_sales  \\\n",
       "0                Wii Sports      Wii           2006.0        Sports     41.36   \n",
       "1         Super Mario Bros.      NES           1985.0      Platform     29.08   \n",
       "2            Mario Kart Wii      Wii           2008.0        Racing     15.68   \n",
       "3         Wii Sports Resort      Wii           2009.0        Sports     15.61   \n",
       "4  Pokemon Red/Pokemon Blue       GB           1996.0  Role-Playing     11.27   \n",
       "\n",
       "   eu_sales  jp_sales  other_sales  critic_score user_score rating  \n",
       "0     28.96      3.77         8.45          76.0          8      E  \n",
       "1      3.58      6.81         0.77           NaN        NaN    NaN  \n",
       "2     12.76      3.79         3.29          82.0        8.3      E  \n",
       "3     10.93      3.28         2.95          80.0          8      E  \n",
       "4      8.89     10.22         1.00           NaN        NaN    NaN  "
      ]
     },
     "execution_count": 5,
     "metadata": {},
     "output_type": "execute_result"
    }
   ],
   "source": [
    "df.columns = df.columns.str.lower()\n",
    "df.head()"
   ]
  },
  {
   "cell_type": "markdown",
   "metadata": {},
   "source": [
    "Преобразуем данные в нужные типы:"
   ]
  },
  {
   "cell_type": "code",
   "execution_count": 6,
   "metadata": {},
   "outputs": [
    {
     "data": {
      "text/plain": [
       "array([2006., 1985., 2008., 2009., 1996., 1989., 1984., 2005., 1999.,\n",
       "       2007., 2010., 2013., 2004., 1990., 1988., 2002., 2001., 2011.,\n",
       "       1998., 2015., 2012., 2014., 1992., 1997., 1993., 1994., 1982.,\n",
       "       2016., 2003., 1986., 2000.,   nan, 1995., 1991., 1981., 1987.,\n",
       "       1980., 1983.])"
      ]
     },
     "execution_count": 6,
     "metadata": {},
     "output_type": "execute_result"
    }
   ],
   "source": [
    "df['user_score'] = pd.to_numeric(df['user_score'], errors='coerce')\n",
    "df['rating'] = df['rating'].fillna('undefined')\n",
    "df['year_of_release'].unique()"
   ]
  },
  {
   "cell_type": "code",
   "execution_count": 7,
   "metadata": {},
   "outputs": [
    {
     "data": {
      "text/html": [
       "<div>\n",
       "<style scoped>\n",
       "    .dataframe tbody tr th:only-of-type {\n",
       "        vertical-align: middle;\n",
       "    }\n",
       "\n",
       "    .dataframe tbody tr th {\n",
       "        vertical-align: top;\n",
       "    }\n",
       "\n",
       "    .dataframe thead th {\n",
       "        text-align: right;\n",
       "    }\n",
       "</style>\n",
       "<table border=\"1\" class=\"dataframe\">\n",
       "  <thead>\n",
       "    <tr style=\"text-align: right;\">\n",
       "      <th></th>\n",
       "      <th>name</th>\n",
       "      <th>platform</th>\n",
       "      <th>year_of_release</th>\n",
       "      <th>genre</th>\n",
       "      <th>na_sales</th>\n",
       "      <th>eu_sales</th>\n",
       "      <th>jp_sales</th>\n",
       "      <th>other_sales</th>\n",
       "      <th>critic_score</th>\n",
       "      <th>user_score</th>\n",
       "      <th>rating</th>\n",
       "    </tr>\n",
       "  </thead>\n",
       "  <tbody>\n",
       "    <tr>\n",
       "      <th>0</th>\n",
       "      <td>Wii Sports</td>\n",
       "      <td>Wii</td>\n",
       "      <td>2006.0</td>\n",
       "      <td>Sports</td>\n",
       "      <td>41.36</td>\n",
       "      <td>28.96</td>\n",
       "      <td>3.77</td>\n",
       "      <td>8.45</td>\n",
       "      <td>76.0</td>\n",
       "      <td>8.0</td>\n",
       "      <td>E</td>\n",
       "    </tr>\n",
       "    <tr>\n",
       "      <th>1</th>\n",
       "      <td>Super Mario Bros.</td>\n",
       "      <td>NES</td>\n",
       "      <td>1985.0</td>\n",
       "      <td>Platform</td>\n",
       "      <td>29.08</td>\n",
       "      <td>3.58</td>\n",
       "      <td>6.81</td>\n",
       "      <td>0.77</td>\n",
       "      <td>NaN</td>\n",
       "      <td>NaN</td>\n",
       "      <td>undefined</td>\n",
       "    </tr>\n",
       "    <tr>\n",
       "      <th>2</th>\n",
       "      <td>Mario Kart Wii</td>\n",
       "      <td>Wii</td>\n",
       "      <td>2008.0</td>\n",
       "      <td>Racing</td>\n",
       "      <td>15.68</td>\n",
       "      <td>12.76</td>\n",
       "      <td>3.79</td>\n",
       "      <td>3.29</td>\n",
       "      <td>82.0</td>\n",
       "      <td>8.3</td>\n",
       "      <td>E</td>\n",
       "    </tr>\n",
       "    <tr>\n",
       "      <th>3</th>\n",
       "      <td>Wii Sports Resort</td>\n",
       "      <td>Wii</td>\n",
       "      <td>2009.0</td>\n",
       "      <td>Sports</td>\n",
       "      <td>15.61</td>\n",
       "      <td>10.93</td>\n",
       "      <td>3.28</td>\n",
       "      <td>2.95</td>\n",
       "      <td>80.0</td>\n",
       "      <td>8.0</td>\n",
       "      <td>E</td>\n",
       "    </tr>\n",
       "    <tr>\n",
       "      <th>4</th>\n",
       "      <td>Pokemon Red/Pokemon Blue</td>\n",
       "      <td>GB</td>\n",
       "      <td>1996.0</td>\n",
       "      <td>Role-Playing</td>\n",
       "      <td>11.27</td>\n",
       "      <td>8.89</td>\n",
       "      <td>10.22</td>\n",
       "      <td>1.00</td>\n",
       "      <td>NaN</td>\n",
       "      <td>NaN</td>\n",
       "      <td>undefined</td>\n",
       "    </tr>\n",
       "    <tr>\n",
       "      <th>...</th>\n",
       "      <td>...</td>\n",
       "      <td>...</td>\n",
       "      <td>...</td>\n",
       "      <td>...</td>\n",
       "      <td>...</td>\n",
       "      <td>...</td>\n",
       "      <td>...</td>\n",
       "      <td>...</td>\n",
       "      <td>...</td>\n",
       "      <td>...</td>\n",
       "      <td>...</td>\n",
       "    </tr>\n",
       "    <tr>\n",
       "      <th>16710</th>\n",
       "      <td>Samurai Warriors: Sanada Maru</td>\n",
       "      <td>PS3</td>\n",
       "      <td>2016.0</td>\n",
       "      <td>Action</td>\n",
       "      <td>0.00</td>\n",
       "      <td>0.00</td>\n",
       "      <td>0.01</td>\n",
       "      <td>0.00</td>\n",
       "      <td>NaN</td>\n",
       "      <td>NaN</td>\n",
       "      <td>undefined</td>\n",
       "    </tr>\n",
       "    <tr>\n",
       "      <th>16711</th>\n",
       "      <td>LMA Manager 2007</td>\n",
       "      <td>X360</td>\n",
       "      <td>2006.0</td>\n",
       "      <td>Sports</td>\n",
       "      <td>0.00</td>\n",
       "      <td>0.01</td>\n",
       "      <td>0.00</td>\n",
       "      <td>0.00</td>\n",
       "      <td>NaN</td>\n",
       "      <td>NaN</td>\n",
       "      <td>undefined</td>\n",
       "    </tr>\n",
       "    <tr>\n",
       "      <th>16712</th>\n",
       "      <td>Haitaka no Psychedelica</td>\n",
       "      <td>PSV</td>\n",
       "      <td>2016.0</td>\n",
       "      <td>Adventure</td>\n",
       "      <td>0.00</td>\n",
       "      <td>0.00</td>\n",
       "      <td>0.01</td>\n",
       "      <td>0.00</td>\n",
       "      <td>NaN</td>\n",
       "      <td>NaN</td>\n",
       "      <td>undefined</td>\n",
       "    </tr>\n",
       "    <tr>\n",
       "      <th>16713</th>\n",
       "      <td>Spirits &amp; Spells</td>\n",
       "      <td>GBA</td>\n",
       "      <td>2003.0</td>\n",
       "      <td>Platform</td>\n",
       "      <td>0.01</td>\n",
       "      <td>0.00</td>\n",
       "      <td>0.00</td>\n",
       "      <td>0.00</td>\n",
       "      <td>NaN</td>\n",
       "      <td>NaN</td>\n",
       "      <td>undefined</td>\n",
       "    </tr>\n",
       "    <tr>\n",
       "      <th>16714</th>\n",
       "      <td>Winning Post 8 2016</td>\n",
       "      <td>PSV</td>\n",
       "      <td>2016.0</td>\n",
       "      <td>Simulation</td>\n",
       "      <td>0.00</td>\n",
       "      <td>0.00</td>\n",
       "      <td>0.01</td>\n",
       "      <td>0.00</td>\n",
       "      <td>NaN</td>\n",
       "      <td>NaN</td>\n",
       "      <td>undefined</td>\n",
       "    </tr>\n",
       "  </tbody>\n",
       "</table>\n",
       "<p>16444 rows × 11 columns</p>\n",
       "</div>"
      ],
      "text/plain": [
       "                                name platform  year_of_release         genre  \\\n",
       "0                         Wii Sports      Wii           2006.0        Sports   \n",
       "1                  Super Mario Bros.      NES           1985.0      Platform   \n",
       "2                     Mario Kart Wii      Wii           2008.0        Racing   \n",
       "3                  Wii Sports Resort      Wii           2009.0        Sports   \n",
       "4           Pokemon Red/Pokemon Blue       GB           1996.0  Role-Playing   \n",
       "...                              ...      ...              ...           ...   \n",
       "16710  Samurai Warriors: Sanada Maru      PS3           2016.0        Action   \n",
       "16711               LMA Manager 2007     X360           2006.0        Sports   \n",
       "16712        Haitaka no Psychedelica      PSV           2016.0     Adventure   \n",
       "16713               Spirits & Spells      GBA           2003.0      Platform   \n",
       "16714            Winning Post 8 2016      PSV           2016.0    Simulation   \n",
       "\n",
       "       na_sales  eu_sales  jp_sales  other_sales  critic_score  user_score  \\\n",
       "0         41.36     28.96      3.77         8.45          76.0         8.0   \n",
       "1         29.08      3.58      6.81         0.77           NaN         NaN   \n",
       "2         15.68     12.76      3.79         3.29          82.0         8.3   \n",
       "3         15.61     10.93      3.28         2.95          80.0         8.0   \n",
       "4         11.27      8.89     10.22         1.00           NaN         NaN   \n",
       "...         ...       ...       ...          ...           ...         ...   \n",
       "16710      0.00      0.00      0.01         0.00           NaN         NaN   \n",
       "16711      0.00      0.01      0.00         0.00           NaN         NaN   \n",
       "16712      0.00      0.00      0.01         0.00           NaN         NaN   \n",
       "16713      0.01      0.00      0.00         0.00           NaN         NaN   \n",
       "16714      0.00      0.00      0.01         0.00           NaN         NaN   \n",
       "\n",
       "          rating  \n",
       "0              E  \n",
       "1      undefined  \n",
       "2              E  \n",
       "3              E  \n",
       "4      undefined  \n",
       "...          ...  \n",
       "16710  undefined  \n",
       "16711  undefined  \n",
       "16712  undefined  \n",
       "16713  undefined  \n",
       "16714  undefined  \n",
       "\n",
       "[16444 rows x 11 columns]"
      ]
     },
     "execution_count": 7,
     "metadata": {},
     "output_type": "execute_result"
    }
   ],
   "source": [
    "df.dropna(subset=['year_of_release'], inplace=True)\n",
    "df.dropna(subset=['name'], inplace=True)\n",
    "df.dropna(subset=['genre'], inplace=True)\n",
    "df"
   ]
  },
  {
   "cell_type": "code",
   "execution_count": 8,
   "metadata": {},
   "outputs": [],
   "source": [
    "df['year_of_release'] = df['year_of_release'].astype(int)\n",
    "df['user_score'] = df['user_score'].astype(float)\n",
    "df['platform'] = df['platform'].str.lower()\n",
    "df['genre'] = df['genre'].str.lower()\n",
    "df['name'] = df['name'].str.lower()"
   ]
  },
  {
   "cell_type": "code",
   "execution_count": 9,
   "metadata": {
    "scrolled": false
   },
   "outputs": [
    {
     "name": "stdout",
     "output_type": "stream",
     "text": [
      "<class 'pandas.core.frame.DataFrame'>\n",
      "Int64Index: 16444 entries, 0 to 16714\n",
      "Data columns (total 11 columns):\n",
      " #   Column           Non-Null Count  Dtype  \n",
      "---  ------           --------------  -----  \n",
      " 0   name             16444 non-null  object \n",
      " 1   platform         16444 non-null  object \n",
      " 2   year_of_release  16444 non-null  int64  \n",
      " 3   genre            16444 non-null  object \n",
      " 4   na_sales         16444 non-null  float64\n",
      " 5   eu_sales         16444 non-null  float64\n",
      " 6   jp_sales         16444 non-null  float64\n",
      " 7   other_sales      16444 non-null  float64\n",
      " 8   critic_score     7983 non-null   float64\n",
      " 9   user_score       7463 non-null   float64\n",
      " 10  rating           16444 non-null  object \n",
      "dtypes: float64(6), int64(1), object(4)\n",
      "memory usage: 1.5+ MB\n"
     ]
    },
    {
     "data": {
      "text/html": [
       "<div>\n",
       "<style scoped>\n",
       "    .dataframe tbody tr th:only-of-type {\n",
       "        vertical-align: middle;\n",
       "    }\n",
       "\n",
       "    .dataframe tbody tr th {\n",
       "        vertical-align: top;\n",
       "    }\n",
       "\n",
       "    .dataframe thead th {\n",
       "        text-align: right;\n",
       "    }\n",
       "</style>\n",
       "<table border=\"1\" class=\"dataframe\">\n",
       "  <thead>\n",
       "    <tr style=\"text-align: right;\">\n",
       "      <th></th>\n",
       "      <th>name</th>\n",
       "      <th>platform</th>\n",
       "      <th>year_of_release</th>\n",
       "      <th>genre</th>\n",
       "      <th>na_sales</th>\n",
       "      <th>eu_sales</th>\n",
       "      <th>jp_sales</th>\n",
       "      <th>other_sales</th>\n",
       "      <th>critic_score</th>\n",
       "      <th>user_score</th>\n",
       "      <th>rating</th>\n",
       "    </tr>\n",
       "  </thead>\n",
       "  <tbody>\n",
       "    <tr>\n",
       "      <th>0</th>\n",
       "      <td>wii sports</td>\n",
       "      <td>wii</td>\n",
       "      <td>2006</td>\n",
       "      <td>sports</td>\n",
       "      <td>41.36</td>\n",
       "      <td>28.96</td>\n",
       "      <td>3.77</td>\n",
       "      <td>8.45</td>\n",
       "      <td>76.0</td>\n",
       "      <td>8.0</td>\n",
       "      <td>E</td>\n",
       "    </tr>\n",
       "    <tr>\n",
       "      <th>1</th>\n",
       "      <td>super mario bros.</td>\n",
       "      <td>nes</td>\n",
       "      <td>1985</td>\n",
       "      <td>platform</td>\n",
       "      <td>29.08</td>\n",
       "      <td>3.58</td>\n",
       "      <td>6.81</td>\n",
       "      <td>0.77</td>\n",
       "      <td>NaN</td>\n",
       "      <td>NaN</td>\n",
       "      <td>undefined</td>\n",
       "    </tr>\n",
       "    <tr>\n",
       "      <th>2</th>\n",
       "      <td>mario kart wii</td>\n",
       "      <td>wii</td>\n",
       "      <td>2008</td>\n",
       "      <td>racing</td>\n",
       "      <td>15.68</td>\n",
       "      <td>12.76</td>\n",
       "      <td>3.79</td>\n",
       "      <td>3.29</td>\n",
       "      <td>82.0</td>\n",
       "      <td>8.3</td>\n",
       "      <td>E</td>\n",
       "    </tr>\n",
       "    <tr>\n",
       "      <th>3</th>\n",
       "      <td>wii sports resort</td>\n",
       "      <td>wii</td>\n",
       "      <td>2009</td>\n",
       "      <td>sports</td>\n",
       "      <td>15.61</td>\n",
       "      <td>10.93</td>\n",
       "      <td>3.28</td>\n",
       "      <td>2.95</td>\n",
       "      <td>80.0</td>\n",
       "      <td>8.0</td>\n",
       "      <td>E</td>\n",
       "    </tr>\n",
       "    <tr>\n",
       "      <th>4</th>\n",
       "      <td>pokemon red/pokemon blue</td>\n",
       "      <td>gb</td>\n",
       "      <td>1996</td>\n",
       "      <td>role-playing</td>\n",
       "      <td>11.27</td>\n",
       "      <td>8.89</td>\n",
       "      <td>10.22</td>\n",
       "      <td>1.00</td>\n",
       "      <td>NaN</td>\n",
       "      <td>NaN</td>\n",
       "      <td>undefined</td>\n",
       "    </tr>\n",
       "    <tr>\n",
       "      <th>...</th>\n",
       "      <td>...</td>\n",
       "      <td>...</td>\n",
       "      <td>...</td>\n",
       "      <td>...</td>\n",
       "      <td>...</td>\n",
       "      <td>...</td>\n",
       "      <td>...</td>\n",
       "      <td>...</td>\n",
       "      <td>...</td>\n",
       "      <td>...</td>\n",
       "      <td>...</td>\n",
       "    </tr>\n",
       "    <tr>\n",
       "      <th>16710</th>\n",
       "      <td>samurai warriors: sanada maru</td>\n",
       "      <td>ps3</td>\n",
       "      <td>2016</td>\n",
       "      <td>action</td>\n",
       "      <td>0.00</td>\n",
       "      <td>0.00</td>\n",
       "      <td>0.01</td>\n",
       "      <td>0.00</td>\n",
       "      <td>NaN</td>\n",
       "      <td>NaN</td>\n",
       "      <td>undefined</td>\n",
       "    </tr>\n",
       "    <tr>\n",
       "      <th>16711</th>\n",
       "      <td>lma manager 2007</td>\n",
       "      <td>x360</td>\n",
       "      <td>2006</td>\n",
       "      <td>sports</td>\n",
       "      <td>0.00</td>\n",
       "      <td>0.01</td>\n",
       "      <td>0.00</td>\n",
       "      <td>0.00</td>\n",
       "      <td>NaN</td>\n",
       "      <td>NaN</td>\n",
       "      <td>undefined</td>\n",
       "    </tr>\n",
       "    <tr>\n",
       "      <th>16712</th>\n",
       "      <td>haitaka no psychedelica</td>\n",
       "      <td>psv</td>\n",
       "      <td>2016</td>\n",
       "      <td>adventure</td>\n",
       "      <td>0.00</td>\n",
       "      <td>0.00</td>\n",
       "      <td>0.01</td>\n",
       "      <td>0.00</td>\n",
       "      <td>NaN</td>\n",
       "      <td>NaN</td>\n",
       "      <td>undefined</td>\n",
       "    </tr>\n",
       "    <tr>\n",
       "      <th>16713</th>\n",
       "      <td>spirits &amp; spells</td>\n",
       "      <td>gba</td>\n",
       "      <td>2003</td>\n",
       "      <td>platform</td>\n",
       "      <td>0.01</td>\n",
       "      <td>0.00</td>\n",
       "      <td>0.00</td>\n",
       "      <td>0.00</td>\n",
       "      <td>NaN</td>\n",
       "      <td>NaN</td>\n",
       "      <td>undefined</td>\n",
       "    </tr>\n",
       "    <tr>\n",
       "      <th>16714</th>\n",
       "      <td>winning post 8 2016</td>\n",
       "      <td>psv</td>\n",
       "      <td>2016</td>\n",
       "      <td>simulation</td>\n",
       "      <td>0.00</td>\n",
       "      <td>0.00</td>\n",
       "      <td>0.01</td>\n",
       "      <td>0.00</td>\n",
       "      <td>NaN</td>\n",
       "      <td>NaN</td>\n",
       "      <td>undefined</td>\n",
       "    </tr>\n",
       "  </tbody>\n",
       "</table>\n",
       "<p>16444 rows × 11 columns</p>\n",
       "</div>"
      ],
      "text/plain": [
       "                                name platform  year_of_release         genre  \\\n",
       "0                         wii sports      wii             2006        sports   \n",
       "1                  super mario bros.      nes             1985      platform   \n",
       "2                     mario kart wii      wii             2008        racing   \n",
       "3                  wii sports resort      wii             2009        sports   \n",
       "4           pokemon red/pokemon blue       gb             1996  role-playing   \n",
       "...                              ...      ...              ...           ...   \n",
       "16710  samurai warriors: sanada maru      ps3             2016        action   \n",
       "16711               lma manager 2007     x360             2006        sports   \n",
       "16712        haitaka no psychedelica      psv             2016     adventure   \n",
       "16713               spirits & spells      gba             2003      platform   \n",
       "16714            winning post 8 2016      psv             2016    simulation   \n",
       "\n",
       "       na_sales  eu_sales  jp_sales  other_sales  critic_score  user_score  \\\n",
       "0         41.36     28.96      3.77         8.45          76.0         8.0   \n",
       "1         29.08      3.58      6.81         0.77           NaN         NaN   \n",
       "2         15.68     12.76      3.79         3.29          82.0         8.3   \n",
       "3         15.61     10.93      3.28         2.95          80.0         8.0   \n",
       "4         11.27      8.89     10.22         1.00           NaN         NaN   \n",
       "...         ...       ...       ...          ...           ...         ...   \n",
       "16710      0.00      0.00      0.01         0.00           NaN         NaN   \n",
       "16711      0.00      0.01      0.00         0.00           NaN         NaN   \n",
       "16712      0.00      0.00      0.01         0.00           NaN         NaN   \n",
       "16713      0.01      0.00      0.00         0.00           NaN         NaN   \n",
       "16714      0.00      0.00      0.01         0.00           NaN         NaN   \n",
       "\n",
       "          rating  \n",
       "0              E  \n",
       "1      undefined  \n",
       "2              E  \n",
       "3              E  \n",
       "4      undefined  \n",
       "...          ...  \n",
       "16710  undefined  \n",
       "16711  undefined  \n",
       "16712  undefined  \n",
       "16713  undefined  \n",
       "16714  undefined  \n",
       "\n",
       "[16444 rows x 11 columns]"
      ]
     },
     "execution_count": 9,
     "metadata": {},
     "output_type": "execute_result"
    }
   ],
   "source": [
    "df.info()\n",
    "df"
   ]
  },
  {
   "cell_type": "markdown",
   "metadata": {},
   "source": [
    "Мы заменили данные в столбце с годом релиза игры, привели его к целочисленному значению.  \n",
    "Еще изменили тип данных в столбце user_score с object на float, для этого потребовалось поменять такое значение как 'tbd' на 0."
   ]
  },
  {
   "cell_type": "markdown",
   "metadata": {},
   "source": [
    "Теперь посчитаем суммарные продажи во всех регионах и запишим их в отдельный столбец:"
   ]
  },
  {
   "cell_type": "code",
   "execution_count": 10,
   "metadata": {},
   "outputs": [
    {
     "data": {
      "text/html": [
       "<div>\n",
       "<style scoped>\n",
       "    .dataframe tbody tr th:only-of-type {\n",
       "        vertical-align: middle;\n",
       "    }\n",
       "\n",
       "    .dataframe tbody tr th {\n",
       "        vertical-align: top;\n",
       "    }\n",
       "\n",
       "    .dataframe thead th {\n",
       "        text-align: right;\n",
       "    }\n",
       "</style>\n",
       "<table border=\"1\" class=\"dataframe\">\n",
       "  <thead>\n",
       "    <tr style=\"text-align: right;\">\n",
       "      <th></th>\n",
       "      <th>name</th>\n",
       "      <th>platform</th>\n",
       "      <th>year_of_release</th>\n",
       "      <th>genre</th>\n",
       "      <th>na_sales</th>\n",
       "      <th>eu_sales</th>\n",
       "      <th>jp_sales</th>\n",
       "      <th>other_sales</th>\n",
       "      <th>critic_score</th>\n",
       "      <th>user_score</th>\n",
       "      <th>rating</th>\n",
       "      <th>total_sales</th>\n",
       "    </tr>\n",
       "  </thead>\n",
       "  <tbody>\n",
       "    <tr>\n",
       "      <th>0</th>\n",
       "      <td>wii sports</td>\n",
       "      <td>wii</td>\n",
       "      <td>2006</td>\n",
       "      <td>sports</td>\n",
       "      <td>41.36</td>\n",
       "      <td>28.96</td>\n",
       "      <td>3.77</td>\n",
       "      <td>8.45</td>\n",
       "      <td>76.0</td>\n",
       "      <td>8.0</td>\n",
       "      <td>E</td>\n",
       "      <td>82.54</td>\n",
       "    </tr>\n",
       "    <tr>\n",
       "      <th>1</th>\n",
       "      <td>super mario bros.</td>\n",
       "      <td>nes</td>\n",
       "      <td>1985</td>\n",
       "      <td>platform</td>\n",
       "      <td>29.08</td>\n",
       "      <td>3.58</td>\n",
       "      <td>6.81</td>\n",
       "      <td>0.77</td>\n",
       "      <td>NaN</td>\n",
       "      <td>NaN</td>\n",
       "      <td>undefined</td>\n",
       "      <td>40.24</td>\n",
       "    </tr>\n",
       "    <tr>\n",
       "      <th>2</th>\n",
       "      <td>mario kart wii</td>\n",
       "      <td>wii</td>\n",
       "      <td>2008</td>\n",
       "      <td>racing</td>\n",
       "      <td>15.68</td>\n",
       "      <td>12.76</td>\n",
       "      <td>3.79</td>\n",
       "      <td>3.29</td>\n",
       "      <td>82.0</td>\n",
       "      <td>8.3</td>\n",
       "      <td>E</td>\n",
       "      <td>35.52</td>\n",
       "    </tr>\n",
       "    <tr>\n",
       "      <th>3</th>\n",
       "      <td>wii sports resort</td>\n",
       "      <td>wii</td>\n",
       "      <td>2009</td>\n",
       "      <td>sports</td>\n",
       "      <td>15.61</td>\n",
       "      <td>10.93</td>\n",
       "      <td>3.28</td>\n",
       "      <td>2.95</td>\n",
       "      <td>80.0</td>\n",
       "      <td>8.0</td>\n",
       "      <td>E</td>\n",
       "      <td>32.77</td>\n",
       "    </tr>\n",
       "    <tr>\n",
       "      <th>4</th>\n",
       "      <td>pokemon red/pokemon blue</td>\n",
       "      <td>gb</td>\n",
       "      <td>1996</td>\n",
       "      <td>role-playing</td>\n",
       "      <td>11.27</td>\n",
       "      <td>8.89</td>\n",
       "      <td>10.22</td>\n",
       "      <td>1.00</td>\n",
       "      <td>NaN</td>\n",
       "      <td>NaN</td>\n",
       "      <td>undefined</td>\n",
       "      <td>31.38</td>\n",
       "    </tr>\n",
       "    <tr>\n",
       "      <th>...</th>\n",
       "      <td>...</td>\n",
       "      <td>...</td>\n",
       "      <td>...</td>\n",
       "      <td>...</td>\n",
       "      <td>...</td>\n",
       "      <td>...</td>\n",
       "      <td>...</td>\n",
       "      <td>...</td>\n",
       "      <td>...</td>\n",
       "      <td>...</td>\n",
       "      <td>...</td>\n",
       "      <td>...</td>\n",
       "    </tr>\n",
       "    <tr>\n",
       "      <th>16710</th>\n",
       "      <td>samurai warriors: sanada maru</td>\n",
       "      <td>ps3</td>\n",
       "      <td>2016</td>\n",
       "      <td>action</td>\n",
       "      <td>0.00</td>\n",
       "      <td>0.00</td>\n",
       "      <td>0.01</td>\n",
       "      <td>0.00</td>\n",
       "      <td>NaN</td>\n",
       "      <td>NaN</td>\n",
       "      <td>undefined</td>\n",
       "      <td>0.01</td>\n",
       "    </tr>\n",
       "    <tr>\n",
       "      <th>16711</th>\n",
       "      <td>lma manager 2007</td>\n",
       "      <td>x360</td>\n",
       "      <td>2006</td>\n",
       "      <td>sports</td>\n",
       "      <td>0.00</td>\n",
       "      <td>0.01</td>\n",
       "      <td>0.00</td>\n",
       "      <td>0.00</td>\n",
       "      <td>NaN</td>\n",
       "      <td>NaN</td>\n",
       "      <td>undefined</td>\n",
       "      <td>0.01</td>\n",
       "    </tr>\n",
       "    <tr>\n",
       "      <th>16712</th>\n",
       "      <td>haitaka no psychedelica</td>\n",
       "      <td>psv</td>\n",
       "      <td>2016</td>\n",
       "      <td>adventure</td>\n",
       "      <td>0.00</td>\n",
       "      <td>0.00</td>\n",
       "      <td>0.01</td>\n",
       "      <td>0.00</td>\n",
       "      <td>NaN</td>\n",
       "      <td>NaN</td>\n",
       "      <td>undefined</td>\n",
       "      <td>0.01</td>\n",
       "    </tr>\n",
       "    <tr>\n",
       "      <th>16713</th>\n",
       "      <td>spirits &amp; spells</td>\n",
       "      <td>gba</td>\n",
       "      <td>2003</td>\n",
       "      <td>platform</td>\n",
       "      <td>0.01</td>\n",
       "      <td>0.00</td>\n",
       "      <td>0.00</td>\n",
       "      <td>0.00</td>\n",
       "      <td>NaN</td>\n",
       "      <td>NaN</td>\n",
       "      <td>undefined</td>\n",
       "      <td>0.01</td>\n",
       "    </tr>\n",
       "    <tr>\n",
       "      <th>16714</th>\n",
       "      <td>winning post 8 2016</td>\n",
       "      <td>psv</td>\n",
       "      <td>2016</td>\n",
       "      <td>simulation</td>\n",
       "      <td>0.00</td>\n",
       "      <td>0.00</td>\n",
       "      <td>0.01</td>\n",
       "      <td>0.00</td>\n",
       "      <td>NaN</td>\n",
       "      <td>NaN</td>\n",
       "      <td>undefined</td>\n",
       "      <td>0.01</td>\n",
       "    </tr>\n",
       "  </tbody>\n",
       "</table>\n",
       "<p>16444 rows × 12 columns</p>\n",
       "</div>"
      ],
      "text/plain": [
       "                                name platform  year_of_release         genre  \\\n",
       "0                         wii sports      wii             2006        sports   \n",
       "1                  super mario bros.      nes             1985      platform   \n",
       "2                     mario kart wii      wii             2008        racing   \n",
       "3                  wii sports resort      wii             2009        sports   \n",
       "4           pokemon red/pokemon blue       gb             1996  role-playing   \n",
       "...                              ...      ...              ...           ...   \n",
       "16710  samurai warriors: sanada maru      ps3             2016        action   \n",
       "16711               lma manager 2007     x360             2006        sports   \n",
       "16712        haitaka no psychedelica      psv             2016     adventure   \n",
       "16713               spirits & spells      gba             2003      platform   \n",
       "16714            winning post 8 2016      psv             2016    simulation   \n",
       "\n",
       "       na_sales  eu_sales  jp_sales  other_sales  critic_score  user_score  \\\n",
       "0         41.36     28.96      3.77         8.45          76.0         8.0   \n",
       "1         29.08      3.58      6.81         0.77           NaN         NaN   \n",
       "2         15.68     12.76      3.79         3.29          82.0         8.3   \n",
       "3         15.61     10.93      3.28         2.95          80.0         8.0   \n",
       "4         11.27      8.89     10.22         1.00           NaN         NaN   \n",
       "...         ...       ...       ...          ...           ...         ...   \n",
       "16710      0.00      0.00      0.01         0.00           NaN         NaN   \n",
       "16711      0.00      0.01      0.00         0.00           NaN         NaN   \n",
       "16712      0.00      0.00      0.01         0.00           NaN         NaN   \n",
       "16713      0.01      0.00      0.00         0.00           NaN         NaN   \n",
       "16714      0.00      0.00      0.01         0.00           NaN         NaN   \n",
       "\n",
       "          rating  total_sales  \n",
       "0              E        82.54  \n",
       "1      undefined        40.24  \n",
       "2              E        35.52  \n",
       "3              E        32.77  \n",
       "4      undefined        31.38  \n",
       "...          ...          ...  \n",
       "16710  undefined         0.01  \n",
       "16711  undefined         0.01  \n",
       "16712  undefined         0.01  \n",
       "16713  undefined         0.01  \n",
       "16714  undefined         0.01  \n",
       "\n",
       "[16444 rows x 12 columns]"
      ]
     },
     "execution_count": 10,
     "metadata": {},
     "output_type": "execute_result"
    }
   ],
   "source": [
    "df['total_sales'] = df['na_sales']+df['eu_sales']+df['jp_sales']+df['other_sales']\n",
    "df"
   ]
  },
  {
   "cell_type": "markdown",
   "metadata": {},
   "source": [
    "### 3. Проведем исследовательский анализ данных"
   ]
  },
  {
   "cell_type": "markdown",
   "metadata": {},
   "source": [
    "Посмотрим, сколько игр выпускалось в разные годы:"
   ]
  },
  {
   "cell_type": "code",
   "execution_count": 11,
   "metadata": {
    "scrolled": false
   },
   "outputs": [
    {
     "data": {
      "text/html": [
       "<div>\n",
       "<style scoped>\n",
       "    .dataframe tbody tr th:only-of-type {\n",
       "        vertical-align: middle;\n",
       "    }\n",
       "\n",
       "    .dataframe tbody tr th {\n",
       "        vertical-align: top;\n",
       "    }\n",
       "\n",
       "    .dataframe thead th {\n",
       "        text-align: right;\n",
       "    }\n",
       "</style>\n",
       "<table border=\"1\" class=\"dataframe\">\n",
       "  <thead>\n",
       "    <tr style=\"text-align: right;\">\n",
       "      <th></th>\n",
       "      <th>name</th>\n",
       "    </tr>\n",
       "    <tr>\n",
       "      <th>year_of_release</th>\n",
       "      <th></th>\n",
       "    </tr>\n",
       "  </thead>\n",
       "  <tbody>\n",
       "    <tr>\n",
       "      <th>1980</th>\n",
       "      <td>9</td>\n",
       "    </tr>\n",
       "    <tr>\n",
       "      <th>1981</th>\n",
       "      <td>46</td>\n",
       "    </tr>\n",
       "    <tr>\n",
       "      <th>1982</th>\n",
       "      <td>36</td>\n",
       "    </tr>\n",
       "    <tr>\n",
       "      <th>1983</th>\n",
       "      <td>17</td>\n",
       "    </tr>\n",
       "    <tr>\n",
       "      <th>1984</th>\n",
       "      <td>14</td>\n",
       "    </tr>\n",
       "    <tr>\n",
       "      <th>1985</th>\n",
       "      <td>14</td>\n",
       "    </tr>\n",
       "    <tr>\n",
       "      <th>1986</th>\n",
       "      <td>21</td>\n",
       "    </tr>\n",
       "    <tr>\n",
       "      <th>1987</th>\n",
       "      <td>16</td>\n",
       "    </tr>\n",
       "    <tr>\n",
       "      <th>1988</th>\n",
       "      <td>15</td>\n",
       "    </tr>\n",
       "    <tr>\n",
       "      <th>1989</th>\n",
       "      <td>17</td>\n",
       "    </tr>\n",
       "    <tr>\n",
       "      <th>1990</th>\n",
       "      <td>16</td>\n",
       "    </tr>\n",
       "    <tr>\n",
       "      <th>1991</th>\n",
       "      <td>41</td>\n",
       "    </tr>\n",
       "    <tr>\n",
       "      <th>1992</th>\n",
       "      <td>43</td>\n",
       "    </tr>\n",
       "    <tr>\n",
       "      <th>1993</th>\n",
       "      <td>60</td>\n",
       "    </tr>\n",
       "    <tr>\n",
       "      <th>1994</th>\n",
       "      <td>121</td>\n",
       "    </tr>\n",
       "    <tr>\n",
       "      <th>1995</th>\n",
       "      <td>219</td>\n",
       "    </tr>\n",
       "    <tr>\n",
       "      <th>1996</th>\n",
       "      <td>263</td>\n",
       "    </tr>\n",
       "    <tr>\n",
       "      <th>1997</th>\n",
       "      <td>289</td>\n",
       "    </tr>\n",
       "    <tr>\n",
       "      <th>1998</th>\n",
       "      <td>379</td>\n",
       "    </tr>\n",
       "    <tr>\n",
       "      <th>1999</th>\n",
       "      <td>338</td>\n",
       "    </tr>\n",
       "    <tr>\n",
       "      <th>2000</th>\n",
       "      <td>350</td>\n",
       "    </tr>\n",
       "    <tr>\n",
       "      <th>2001</th>\n",
       "      <td>482</td>\n",
       "    </tr>\n",
       "    <tr>\n",
       "      <th>2002</th>\n",
       "      <td>829</td>\n",
       "    </tr>\n",
       "    <tr>\n",
       "      <th>2003</th>\n",
       "      <td>775</td>\n",
       "    </tr>\n",
       "    <tr>\n",
       "      <th>2004</th>\n",
       "      <td>762</td>\n",
       "    </tr>\n",
       "    <tr>\n",
       "      <th>2005</th>\n",
       "      <td>939</td>\n",
       "    </tr>\n",
       "    <tr>\n",
       "      <th>2006</th>\n",
       "      <td>1006</td>\n",
       "    </tr>\n",
       "    <tr>\n",
       "      <th>2007</th>\n",
       "      <td>1197</td>\n",
       "    </tr>\n",
       "    <tr>\n",
       "      <th>2008</th>\n",
       "      <td>1427</td>\n",
       "    </tr>\n",
       "    <tr>\n",
       "      <th>2009</th>\n",
       "      <td>1426</td>\n",
       "    </tr>\n",
       "    <tr>\n",
       "      <th>2010</th>\n",
       "      <td>1255</td>\n",
       "    </tr>\n",
       "    <tr>\n",
       "      <th>2011</th>\n",
       "      <td>1136</td>\n",
       "    </tr>\n",
       "    <tr>\n",
       "      <th>2012</th>\n",
       "      <td>653</td>\n",
       "    </tr>\n",
       "    <tr>\n",
       "      <th>2013</th>\n",
       "      <td>544</td>\n",
       "    </tr>\n",
       "    <tr>\n",
       "      <th>2014</th>\n",
       "      <td>581</td>\n",
       "    </tr>\n",
       "    <tr>\n",
       "      <th>2015</th>\n",
       "      <td>606</td>\n",
       "    </tr>\n",
       "    <tr>\n",
       "      <th>2016</th>\n",
       "      <td>502</td>\n",
       "    </tr>\n",
       "  </tbody>\n",
       "</table>\n",
       "</div>"
      ],
      "text/plain": [
       "                 name\n",
       "year_of_release      \n",
       "1980                9\n",
       "1981               46\n",
       "1982               36\n",
       "1983               17\n",
       "1984               14\n",
       "1985               14\n",
       "1986               21\n",
       "1987               16\n",
       "1988               15\n",
       "1989               17\n",
       "1990               16\n",
       "1991               41\n",
       "1992               43\n",
       "1993               60\n",
       "1994              121\n",
       "1995              219\n",
       "1996              263\n",
       "1997              289\n",
       "1998              379\n",
       "1999              338\n",
       "2000              350\n",
       "2001              482\n",
       "2002              829\n",
       "2003              775\n",
       "2004              762\n",
       "2005              939\n",
       "2006             1006\n",
       "2007             1197\n",
       "2008             1427\n",
       "2009             1426\n",
       "2010             1255\n",
       "2011             1136\n",
       "2012              653\n",
       "2013              544\n",
       "2014              581\n",
       "2015              606\n",
       "2016              502"
      ]
     },
     "execution_count": 11,
     "metadata": {},
     "output_type": "execute_result"
    }
   ],
   "source": [
    "df.pivot_table(index='year_of_release', values='name', aggfunc='count')"
   ]
  },
  {
   "cell_type": "markdown",
   "metadata": {},
   "source": [
    "**Вывод:** пик по количеству выпущенных игр пришелся на **середину 2000х** с **2006** по **2011** годы включительно выходило более **1000 игр.**"
   ]
  },
  {
   "cell_type": "markdown",
   "metadata": {},
   "source": [
    "Посмотрим, как менялись продажи по платформам. Выберим платформы с наибольшими суммарными продажами и построим распределение по годам. Ответим на вопрос: \"3а какой характерный срок появляются новые и исчезают старые платформы?\"."
   ]
  },
  {
   "cell_type": "code",
   "execution_count": 12,
   "metadata": {
    "scrolled": true
   },
   "outputs": [
    {
     "data": {
      "text/html": [
       "<div>\n",
       "<style scoped>\n",
       "    .dataframe tbody tr th:only-of-type {\n",
       "        vertical-align: middle;\n",
       "    }\n",
       "\n",
       "    .dataframe tbody tr th {\n",
       "        vertical-align: top;\n",
       "    }\n",
       "\n",
       "    .dataframe thead th {\n",
       "        text-align: right;\n",
       "    }\n",
       "</style>\n",
       "<table border=\"1\" class=\"dataframe\">\n",
       "  <thead>\n",
       "    <tr style=\"text-align: right;\">\n",
       "      <th></th>\n",
       "      <th>total_sales</th>\n",
       "    </tr>\n",
       "    <tr>\n",
       "      <th>platform</th>\n",
       "      <th></th>\n",
       "    </tr>\n",
       "  </thead>\n",
       "  <tbody>\n",
       "    <tr>\n",
       "      <th>ps2</th>\n",
       "      <td>1233.56</td>\n",
       "    </tr>\n",
       "    <tr>\n",
       "      <th>x360</th>\n",
       "      <td>961.24</td>\n",
       "    </tr>\n",
       "    <tr>\n",
       "      <th>ps3</th>\n",
       "      <td>931.34</td>\n",
       "    </tr>\n",
       "    <tr>\n",
       "      <th>wii</th>\n",
       "      <td>891.18</td>\n",
       "    </tr>\n",
       "    <tr>\n",
       "      <th>ds</th>\n",
       "      <td>802.78</td>\n",
       "    </tr>\n",
       "    <tr>\n",
       "      <th>ps</th>\n",
       "      <td>727.58</td>\n",
       "    </tr>\n",
       "    <tr>\n",
       "      <th>ps4</th>\n",
       "      <td>314.14</td>\n",
       "    </tr>\n",
       "    <tr>\n",
       "      <th>gba</th>\n",
       "      <td>312.88</td>\n",
       "    </tr>\n",
       "    <tr>\n",
       "      <th>psp</th>\n",
       "      <td>289.53</td>\n",
       "    </tr>\n",
       "    <tr>\n",
       "      <th>3ds</th>\n",
       "      <td>257.81</td>\n",
       "    </tr>\n",
       "  </tbody>\n",
       "</table>\n",
       "</div>"
      ],
      "text/plain": [
       "          total_sales\n",
       "platform             \n",
       "ps2           1233.56\n",
       "x360           961.24\n",
       "ps3            931.34\n",
       "wii            891.18\n",
       "ds             802.78\n",
       "ps             727.58\n",
       "ps4            314.14\n",
       "gba            312.88\n",
       "psp            289.53\n",
       "3ds            257.81"
      ]
     },
     "execution_count": 12,
     "metadata": {},
     "output_type": "execute_result"
    }
   ],
   "source": [
    "df.pivot_table(index='platform', values='total_sales', aggfunc='sum').sort_values(by='total_sales', ascending=False).head(10)"
   ]
  },
  {
   "cell_type": "markdown",
   "metadata": {},
   "source": [
    "Определили топ10 по продажам за все время."
   ]
  },
  {
   "cell_type": "markdown",
   "metadata": {},
   "source": [
    "Сделаем срез основного датафрейма по **TOP10** в стобец **'platform':**"
   ]
  },
  {
   "cell_type": "code",
   "execution_count": 13,
   "metadata": {
    "scrolled": true
   },
   "outputs": [],
   "source": [
    "query = df.query('platform  in (\"ps2\",\"x360\",\"ps3\",\"wii\",\"ds\",\"ps\",\"gba\",\"ps4\",\"psp\",\"pc\")')"
   ]
  },
  {
   "cell_type": "markdown",
   "metadata": {},
   "source": [
    "Создадим сводную таблицу, просуммируем продажи в зависимости от платформы и года выпуска:"
   ]
  },
  {
   "cell_type": "code",
   "execution_count": 14,
   "metadata": {},
   "outputs": [
    {
     "data": {
      "text/html": [
       "<div>\n",
       "<style scoped>\n",
       "    .dataframe tbody tr th:only-of-type {\n",
       "        vertical-align: middle;\n",
       "    }\n",
       "\n",
       "    .dataframe tbody tr th {\n",
       "        vertical-align: top;\n",
       "    }\n",
       "\n",
       "    .dataframe thead th {\n",
       "        text-align: right;\n",
       "    }\n",
       "</style>\n",
       "<table border=\"1\" class=\"dataframe\">\n",
       "  <thead>\n",
       "    <tr style=\"text-align: right;\">\n",
       "      <th></th>\n",
       "      <th>platform</th>\n",
       "      <th>year_of_release</th>\n",
       "      <th>total_sales</th>\n",
       "    </tr>\n",
       "  </thead>\n",
       "  <tbody>\n",
       "    <tr>\n",
       "      <th>59</th>\n",
       "      <td>ps2</td>\n",
       "      <td>2004</td>\n",
       "      <td>211.81</td>\n",
       "    </tr>\n",
       "    <tr>\n",
       "      <th>97</th>\n",
       "      <td>wii</td>\n",
       "      <td>2009</td>\n",
       "      <td>206.97</td>\n",
       "    </tr>\n",
       "    <tr>\n",
       "      <th>57</th>\n",
       "      <td>ps2</td>\n",
       "      <td>2002</td>\n",
       "      <td>205.38</td>\n",
       "    </tr>\n",
       "    <tr>\n",
       "      <th>58</th>\n",
       "      <td>ps2</td>\n",
       "      <td>2003</td>\n",
       "      <td>184.31</td>\n",
       "    </tr>\n",
       "    <tr>\n",
       "      <th>96</th>\n",
       "      <td>wii</td>\n",
       "      <td>2008</td>\n",
       "      <td>171.32</td>\n",
       "    </tr>\n",
       "    <tr>\n",
       "      <th>110</th>\n",
       "      <td>x360</td>\n",
       "      <td>2010</td>\n",
       "      <td>170.03</td>\n",
       "    </tr>\n",
       "    <tr>\n",
       "      <th>49</th>\n",
       "      <td>ps</td>\n",
       "      <td>1998</td>\n",
       "      <td>169.49</td>\n",
       "    </tr>\n",
       "    <tr>\n",
       "      <th>56</th>\n",
       "      <td>ps2</td>\n",
       "      <td>2001</td>\n",
       "      <td>166.43</td>\n",
       "    </tr>\n",
       "    <tr>\n",
       "      <th>60</th>\n",
       "      <td>ps2</td>\n",
       "      <td>2005</td>\n",
       "      <td>160.66</td>\n",
       "    </tr>\n",
       "    <tr>\n",
       "      <th>72</th>\n",
       "      <td>ps3</td>\n",
       "      <td>2011</td>\n",
       "      <td>156.78</td>\n",
       "    </tr>\n",
       "    <tr>\n",
       "      <th>95</th>\n",
       "      <td>wii</td>\n",
       "      <td>2007</td>\n",
       "      <td>152.77</td>\n",
       "    </tr>\n",
       "    <tr>\n",
       "      <th>4</th>\n",
       "      <td>ds</td>\n",
       "      <td>2007</td>\n",
       "      <td>146.94</td>\n",
       "    </tr>\n",
       "    <tr>\n",
       "      <th>5</th>\n",
       "      <td>ds</td>\n",
       "      <td>2008</td>\n",
       "      <td>145.31</td>\n",
       "    </tr>\n",
       "    <tr>\n",
       "      <th>50</th>\n",
       "      <td>ps</td>\n",
       "      <td>1999</td>\n",
       "      <td>144.53</td>\n",
       "    </tr>\n",
       "    <tr>\n",
       "      <th>111</th>\n",
       "      <td>x360</td>\n",
       "      <td>2011</td>\n",
       "      <td>143.84</td>\n",
       "    </tr>\n",
       "    <tr>\n",
       "      <th>71</th>\n",
       "      <td>ps3</td>\n",
       "      <td>2010</td>\n",
       "      <td>142.17</td>\n",
       "    </tr>\n",
       "    <tr>\n",
       "      <th>94</th>\n",
       "      <td>wii</td>\n",
       "      <td>2006</td>\n",
       "      <td>137.15</td>\n",
       "    </tr>\n",
       "    <tr>\n",
       "      <th>48</th>\n",
       "      <td>ps</td>\n",
       "      <td>1997</td>\n",
       "      <td>136.17</td>\n",
       "    </tr>\n",
       "    <tr>\n",
       "      <th>108</th>\n",
       "      <td>x360</td>\n",
       "      <td>2008</td>\n",
       "      <td>135.26</td>\n",
       "    </tr>\n",
       "    <tr>\n",
       "      <th>70</th>\n",
       "      <td>ps3</td>\n",
       "      <td>2009</td>\n",
       "      <td>130.93</td>\n",
       "    </tr>\n",
       "    <tr>\n",
       "      <th>2</th>\n",
       "      <td>ds</td>\n",
       "      <td>2005</td>\n",
       "      <td>130.14</td>\n",
       "    </tr>\n",
       "    <tr>\n",
       "      <th>98</th>\n",
       "      <td>wii</td>\n",
       "      <td>2010</td>\n",
       "      <td>127.95</td>\n",
       "    </tr>\n",
       "    <tr>\n",
       "      <th>109</th>\n",
       "      <td>x360</td>\n",
       "      <td>2009</td>\n",
       "      <td>120.29</td>\n",
       "    </tr>\n",
       "    <tr>\n",
       "      <th>3</th>\n",
       "      <td>ds</td>\n",
       "      <td>2006</td>\n",
       "      <td>119.81</td>\n",
       "    </tr>\n",
       "    <tr>\n",
       "      <th>6</th>\n",
       "      <td>ds</td>\n",
       "      <td>2009</td>\n",
       "      <td>119.54</td>\n",
       "    </tr>\n",
       "    <tr>\n",
       "      <th>80</th>\n",
       "      <td>ps4</td>\n",
       "      <td>2015</td>\n",
       "      <td>118.90</td>\n",
       "    </tr>\n",
       "    <tr>\n",
       "      <th>69</th>\n",
       "      <td>ps3</td>\n",
       "      <td>2008</td>\n",
       "      <td>118.52</td>\n",
       "    </tr>\n",
       "    <tr>\n",
       "      <th>74</th>\n",
       "      <td>ps3</td>\n",
       "      <td>2013</td>\n",
       "      <td>113.25</td>\n",
       "    </tr>\n",
       "    <tr>\n",
       "      <th>73</th>\n",
       "      <td>ps3</td>\n",
       "      <td>2012</td>\n",
       "      <td>107.36</td>\n",
       "    </tr>\n",
       "    <tr>\n",
       "      <th>61</th>\n",
       "      <td>ps2</td>\n",
       "      <td>2006</td>\n",
       "      <td>103.42</td>\n",
       "    </tr>\n",
       "  </tbody>\n",
       "</table>\n",
       "</div>"
      ],
      "text/plain": [
       "    platform  year_of_release  total_sales\n",
       "59       ps2             2004       211.81\n",
       "97       wii             2009       206.97\n",
       "57       ps2             2002       205.38\n",
       "58       ps2             2003       184.31\n",
       "96       wii             2008       171.32\n",
       "110     x360             2010       170.03\n",
       "49        ps             1998       169.49\n",
       "56       ps2             2001       166.43\n",
       "60       ps2             2005       160.66\n",
       "72       ps3             2011       156.78\n",
       "95       wii             2007       152.77\n",
       "4         ds             2007       146.94\n",
       "5         ds             2008       145.31\n",
       "50        ps             1999       144.53\n",
       "111     x360             2011       143.84\n",
       "71       ps3             2010       142.17\n",
       "94       wii             2006       137.15\n",
       "48        ps             1997       136.17\n",
       "108     x360             2008       135.26\n",
       "70       ps3             2009       130.93\n",
       "2         ds             2005       130.14\n",
       "98       wii             2010       127.95\n",
       "109     x360             2009       120.29\n",
       "3         ds             2006       119.81\n",
       "6         ds             2009       119.54\n",
       "80       ps4             2015       118.90\n",
       "69       ps3             2008       118.52\n",
       "74       ps3             2013       113.25\n",
       "73       ps3             2012       107.36\n",
       "61       ps2             2006       103.42"
      ]
     },
     "execution_count": 14,
     "metadata": {},
     "output_type": "execute_result"
    }
   ],
   "source": [
    "query = query.pivot_table(index=['platform','year_of_release'], values='total_sales', aggfunc='sum').reset_index().sort_values(by='total_sales',ascending=False).head(30)\n",
    "query"
   ]
  },
  {
   "cell_type": "code",
   "execution_count": 15,
   "metadata": {},
   "outputs": [
    {
     "data": {
      "text/plain": [
       "ps3     6\n",
       "ps2     6\n",
       "wii     5\n",
       "ds      5\n",
       "x360    4\n",
       "ps      3\n",
       "ps4     1\n",
       "Name: platform, dtype: int64"
      ]
     },
     "execution_count": 15,
     "metadata": {},
     "output_type": "execute_result"
    }
   ],
   "source": [
    "query['platform'].value_counts()"
   ]
  },
  {
   "cell_type": "markdown",
   "metadata": {},
   "source": [
    "Как мы видим жизненый цикл и максимальные продажи приходятся на период **3-6 лет.**\n"
   ]
  },
  {
   "cell_type": "markdown",
   "metadata": {},
   "source": [
    "Для формирования прогноза на 2017 года я определяю **актуальный** период в 3 года (2014, 2015, 2016 года)."
   ]
  },
  {
   "cell_type": "markdown",
   "metadata": {},
   "source": [
    "Сделаем срез за 3 года:"
   ]
  },
  {
   "cell_type": "code",
   "execution_count": 16,
   "metadata": {
    "scrolled": false
   },
   "outputs": [
    {
     "data": {
      "text/html": [
       "<div>\n",
       "<style scoped>\n",
       "    .dataframe tbody tr th:only-of-type {\n",
       "        vertical-align: middle;\n",
       "    }\n",
       "\n",
       "    .dataframe tbody tr th {\n",
       "        vertical-align: top;\n",
       "    }\n",
       "\n",
       "    .dataframe thead th {\n",
       "        text-align: right;\n",
       "    }\n",
       "</style>\n",
       "<table border=\"1\" class=\"dataframe\">\n",
       "  <thead>\n",
       "    <tr style=\"text-align: right;\">\n",
       "      <th></th>\n",
       "      <th>name</th>\n",
       "      <th>platform</th>\n",
       "      <th>year_of_release</th>\n",
       "      <th>genre</th>\n",
       "      <th>na_sales</th>\n",
       "      <th>eu_sales</th>\n",
       "      <th>jp_sales</th>\n",
       "      <th>other_sales</th>\n",
       "      <th>critic_score</th>\n",
       "      <th>user_score</th>\n",
       "      <th>rating</th>\n",
       "      <th>total_sales</th>\n",
       "    </tr>\n",
       "  </thead>\n",
       "  <tbody>\n",
       "    <tr>\n",
       "      <th>31</th>\n",
       "      <td>call of duty: black ops 3</td>\n",
       "      <td>ps4</td>\n",
       "      <td>2015</td>\n",
       "      <td>shooter</td>\n",
       "      <td>6.03</td>\n",
       "      <td>5.86</td>\n",
       "      <td>0.36</td>\n",
       "      <td>2.38</td>\n",
       "      <td>NaN</td>\n",
       "      <td>NaN</td>\n",
       "      <td>undefined</td>\n",
       "      <td>14.63</td>\n",
       "    </tr>\n",
       "    <tr>\n",
       "      <th>42</th>\n",
       "      <td>grand theft auto v</td>\n",
       "      <td>ps4</td>\n",
       "      <td>2014</td>\n",
       "      <td>action</td>\n",
       "      <td>3.96</td>\n",
       "      <td>6.31</td>\n",
       "      <td>0.38</td>\n",
       "      <td>1.97</td>\n",
       "      <td>97.0</td>\n",
       "      <td>8.3</td>\n",
       "      <td>M</td>\n",
       "      <td>12.62</td>\n",
       "    </tr>\n",
       "    <tr>\n",
       "      <th>47</th>\n",
       "      <td>pokemon omega ruby/pokemon alpha sapphire</td>\n",
       "      <td>3ds</td>\n",
       "      <td>2014</td>\n",
       "      <td>role-playing</td>\n",
       "      <td>4.35</td>\n",
       "      <td>3.49</td>\n",
       "      <td>3.10</td>\n",
       "      <td>0.74</td>\n",
       "      <td>NaN</td>\n",
       "      <td>NaN</td>\n",
       "      <td>undefined</td>\n",
       "      <td>11.68</td>\n",
       "    </tr>\n",
       "    <tr>\n",
       "      <th>77</th>\n",
       "      <td>fifa 16</td>\n",
       "      <td>ps4</td>\n",
       "      <td>2015</td>\n",
       "      <td>sports</td>\n",
       "      <td>1.12</td>\n",
       "      <td>6.12</td>\n",
       "      <td>0.06</td>\n",
       "      <td>1.28</td>\n",
       "      <td>82.0</td>\n",
       "      <td>4.3</td>\n",
       "      <td>E</td>\n",
       "      <td>8.58</td>\n",
       "    </tr>\n",
       "    <tr>\n",
       "      <th>87</th>\n",
       "      <td>star wars battlefront (2015)</td>\n",
       "      <td>ps4</td>\n",
       "      <td>2015</td>\n",
       "      <td>shooter</td>\n",
       "      <td>2.99</td>\n",
       "      <td>3.49</td>\n",
       "      <td>0.22</td>\n",
       "      <td>1.28</td>\n",
       "      <td>NaN</td>\n",
       "      <td>NaN</td>\n",
       "      <td>undefined</td>\n",
       "      <td>7.98</td>\n",
       "    </tr>\n",
       "    <tr>\n",
       "      <th>...</th>\n",
       "      <td>...</td>\n",
       "      <td>...</td>\n",
       "      <td>...</td>\n",
       "      <td>...</td>\n",
       "      <td>...</td>\n",
       "      <td>...</td>\n",
       "      <td>...</td>\n",
       "      <td>...</td>\n",
       "      <td>...</td>\n",
       "      <td>...</td>\n",
       "      <td>...</td>\n",
       "      <td>...</td>\n",
       "    </tr>\n",
       "    <tr>\n",
       "      <th>16703</th>\n",
       "      <td>strawberry nauts</td>\n",
       "      <td>psv</td>\n",
       "      <td>2016</td>\n",
       "      <td>adventure</td>\n",
       "      <td>0.00</td>\n",
       "      <td>0.00</td>\n",
       "      <td>0.01</td>\n",
       "      <td>0.00</td>\n",
       "      <td>NaN</td>\n",
       "      <td>NaN</td>\n",
       "      <td>undefined</td>\n",
       "      <td>0.01</td>\n",
       "    </tr>\n",
       "    <tr>\n",
       "      <th>16707</th>\n",
       "      <td>aiyoku no eustia</td>\n",
       "      <td>psv</td>\n",
       "      <td>2014</td>\n",
       "      <td>misc</td>\n",
       "      <td>0.00</td>\n",
       "      <td>0.00</td>\n",
       "      <td>0.01</td>\n",
       "      <td>0.00</td>\n",
       "      <td>NaN</td>\n",
       "      <td>NaN</td>\n",
       "      <td>undefined</td>\n",
       "      <td>0.01</td>\n",
       "    </tr>\n",
       "    <tr>\n",
       "      <th>16710</th>\n",
       "      <td>samurai warriors: sanada maru</td>\n",
       "      <td>ps3</td>\n",
       "      <td>2016</td>\n",
       "      <td>action</td>\n",
       "      <td>0.00</td>\n",
       "      <td>0.00</td>\n",
       "      <td>0.01</td>\n",
       "      <td>0.00</td>\n",
       "      <td>NaN</td>\n",
       "      <td>NaN</td>\n",
       "      <td>undefined</td>\n",
       "      <td>0.01</td>\n",
       "    </tr>\n",
       "    <tr>\n",
       "      <th>16712</th>\n",
       "      <td>haitaka no psychedelica</td>\n",
       "      <td>psv</td>\n",
       "      <td>2016</td>\n",
       "      <td>adventure</td>\n",
       "      <td>0.00</td>\n",
       "      <td>0.00</td>\n",
       "      <td>0.01</td>\n",
       "      <td>0.00</td>\n",
       "      <td>NaN</td>\n",
       "      <td>NaN</td>\n",
       "      <td>undefined</td>\n",
       "      <td>0.01</td>\n",
       "    </tr>\n",
       "    <tr>\n",
       "      <th>16714</th>\n",
       "      <td>winning post 8 2016</td>\n",
       "      <td>psv</td>\n",
       "      <td>2016</td>\n",
       "      <td>simulation</td>\n",
       "      <td>0.00</td>\n",
       "      <td>0.00</td>\n",
       "      <td>0.01</td>\n",
       "      <td>0.00</td>\n",
       "      <td>NaN</td>\n",
       "      <td>NaN</td>\n",
       "      <td>undefined</td>\n",
       "      <td>0.01</td>\n",
       "    </tr>\n",
       "  </tbody>\n",
       "</table>\n",
       "<p>1689 rows × 12 columns</p>\n",
       "</div>"
      ],
      "text/plain": [
       "                                            name platform  year_of_release  \\\n",
       "31                     call of duty: black ops 3      ps4             2015   \n",
       "42                            grand theft auto v      ps4             2014   \n",
       "47     pokemon omega ruby/pokemon alpha sapphire      3ds             2014   \n",
       "77                                       fifa 16      ps4             2015   \n",
       "87                  star wars battlefront (2015)      ps4             2015   \n",
       "...                                          ...      ...              ...   \n",
       "16703                           strawberry nauts      psv             2016   \n",
       "16707                           aiyoku no eustia      psv             2014   \n",
       "16710              samurai warriors: sanada maru      ps3             2016   \n",
       "16712                    haitaka no psychedelica      psv             2016   \n",
       "16714                        winning post 8 2016      psv             2016   \n",
       "\n",
       "              genre  na_sales  eu_sales  jp_sales  other_sales  critic_score  \\\n",
       "31          shooter      6.03      5.86      0.36         2.38           NaN   \n",
       "42           action      3.96      6.31      0.38         1.97          97.0   \n",
       "47     role-playing      4.35      3.49      3.10         0.74           NaN   \n",
       "77           sports      1.12      6.12      0.06         1.28          82.0   \n",
       "87          shooter      2.99      3.49      0.22         1.28           NaN   \n",
       "...             ...       ...       ...       ...          ...           ...   \n",
       "16703     adventure      0.00      0.00      0.01         0.00           NaN   \n",
       "16707          misc      0.00      0.00      0.01         0.00           NaN   \n",
       "16710        action      0.00      0.00      0.01         0.00           NaN   \n",
       "16712     adventure      0.00      0.00      0.01         0.00           NaN   \n",
       "16714    simulation      0.00      0.00      0.01         0.00           NaN   \n",
       "\n",
       "       user_score     rating  total_sales  \n",
       "31            NaN  undefined        14.63  \n",
       "42            8.3          M        12.62  \n",
       "47            NaN  undefined        11.68  \n",
       "77            4.3          E         8.58  \n",
       "87            NaN  undefined         7.98  \n",
       "...           ...        ...          ...  \n",
       "16703         NaN  undefined         0.01  \n",
       "16707         NaN  undefined         0.01  \n",
       "16710         NaN  undefined         0.01  \n",
       "16712         NaN  undefined         0.01  \n",
       "16714         NaN  undefined         0.01  \n",
       "\n",
       "[1689 rows x 12 columns]"
      ]
     },
     "execution_count": 16,
     "metadata": {},
     "output_type": "execute_result"
    }
   ],
   "source": [
    "three_y = [2014,2015,2016]\n",
    "last3y = df.query(\"year_of_release in @three_y\")\n",
    "last3y"
   ]
  },
  {
   "cell_type": "markdown",
   "metadata": {},
   "source": [
    "Определим лидирующие платформы по продажам:"
   ]
  },
  {
   "cell_type": "code",
   "execution_count": 17,
   "metadata": {},
   "outputs": [
    {
     "data": {
      "text/html": [
       "<div>\n",
       "<style scoped>\n",
       "    .dataframe tbody tr th:only-of-type {\n",
       "        vertical-align: middle;\n",
       "    }\n",
       "\n",
       "    .dataframe tbody tr th {\n",
       "        vertical-align: top;\n",
       "    }\n",
       "\n",
       "    .dataframe thead th {\n",
       "        text-align: right;\n",
       "    }\n",
       "</style>\n",
       "<table border=\"1\" class=\"dataframe\">\n",
       "  <thead>\n",
       "    <tr style=\"text-align: right;\">\n",
       "      <th></th>\n",
       "      <th>total_sales</th>\n",
       "    </tr>\n",
       "    <tr>\n",
       "      <th>platform</th>\n",
       "      <th></th>\n",
       "    </tr>\n",
       "  </thead>\n",
       "  <tbody>\n",
       "    <tr>\n",
       "      <th>ps4</th>\n",
       "      <td>288.15</td>\n",
       "    </tr>\n",
       "    <tr>\n",
       "      <th>xone</th>\n",
       "      <td>140.36</td>\n",
       "    </tr>\n",
       "    <tr>\n",
       "      <th>3ds</th>\n",
       "      <td>86.68</td>\n",
       "    </tr>\n",
       "    <tr>\n",
       "      <th>ps3</th>\n",
       "      <td>68.18</td>\n",
       "    </tr>\n",
       "    <tr>\n",
       "      <th>x360</th>\n",
       "      <td>48.22</td>\n",
       "    </tr>\n",
       "    <tr>\n",
       "      <th>wiiu</th>\n",
       "      <td>42.98</td>\n",
       "    </tr>\n",
       "    <tr>\n",
       "      <th>pc</th>\n",
       "      <td>27.05</td>\n",
       "    </tr>\n",
       "    <tr>\n",
       "      <th>psv</th>\n",
       "      <td>22.40</td>\n",
       "    </tr>\n",
       "    <tr>\n",
       "      <th>wii</th>\n",
       "      <td>5.07</td>\n",
       "    </tr>\n",
       "    <tr>\n",
       "      <th>psp</th>\n",
       "      <td>0.36</td>\n",
       "    </tr>\n",
       "  </tbody>\n",
       "</table>\n",
       "</div>"
      ],
      "text/plain": [
       "          total_sales\n",
       "platform             \n",
       "ps4            288.15\n",
       "xone           140.36\n",
       "3ds             86.68\n",
       "ps3             68.18\n",
       "x360            48.22\n",
       "wiiu            42.98\n",
       "pc              27.05\n",
       "psv             22.40\n",
       "wii              5.07\n",
       "psp              0.36"
      ]
     },
     "execution_count": 17,
     "metadata": {},
     "output_type": "execute_result"
    }
   ],
   "source": [
    "last3y.pivot_table(index='platform',values='total_sales', aggfunc='sum').sort_values(by='total_sales', ascending=False)"
   ]
  },
  {
   "cell_type": "markdown",
   "metadata": {},
   "source": [
    "В лидерах **Playstation 4**, на 2м месте **Xbox One**, замыкает тройку лидеров **Nintendo 3ds**"
   ]
  },
  {
   "cell_type": "markdown",
   "metadata": {},
   "source": [
    "Построим график «ящик с усами» по глобальным продажам игр для тройки лидеров."
   ]
  },
  {
   "cell_type": "code",
   "execution_count": 18,
   "metadata": {
    "scrolled": false
   },
   "outputs": [
    {
     "data": {
      "image/png": "[encoded data removed]",
      "text/plain": [
       "<Figure size 432x648 with 1 Axes>"
      ]
     },
     "metadata": {
      "needs_background": "light"
     },
     "output_type": "display_data"
    }
   ],
   "source": [
    "last3y[last3y['platform']=='ps4'].boxplot(column='total_sales', figsize=(6,9));"
   ]
  },
  {
   "cell_type": "code",
   "execution_count": 19,
   "metadata": {},
   "outputs": [
    {
     "data": {
      "text/plain": [
       "count    376.000000\n",
       "mean       0.766356\n",
       "std        1.614969\n",
       "min        0.010000\n",
       "25%        0.057500\n",
       "50%        0.185000\n",
       "75%        0.690000\n",
       "max       14.630000\n",
       "Name: total_sales, dtype: float64"
      ]
     },
     "execution_count": 19,
     "metadata": {},
     "output_type": "execute_result"
    }
   ],
   "source": [
    "last3y[last3y['platform']=='ps4']['total_sales'].describe()"
   ]
  },
  {
   "cell_type": "markdown",
   "metadata": {},
   "source": [
    "**Вывод:** 75% игр на платформе ps4 продавались за последние 3 года тиражом не более 690 тыс. копий"
   ]
  },
  {
   "cell_type": "code",
   "execution_count": 20,
   "metadata": {
    "scrolled": true
   },
   "outputs": [
    {
     "data": {
      "image/png": "[encoded data removed]",
      "text/plain": [
       "<Figure size 432x648 with 1 Axes>"
      ]
     },
     "metadata": {
      "needs_background": "light"
     },
     "output_type": "display_data"
    }
   ],
   "source": [
    "last3y[last3y['platform']=='xone'].boxplot(column='total_sales', figsize=(6,9));"
   ]
  },
  {
   "cell_type": "code",
   "execution_count": 21,
   "metadata": {},
   "outputs": [
    {
     "data": {
      "text/plain": [
       "count    228.000000\n",
       "mean       0.615614\n",
       "std        1.046513\n",
       "min        0.010000\n",
       "25%        0.050000\n",
       "50%        0.205000\n",
       "75%        0.632500\n",
       "max        7.390000\n",
       "Name: total_sales, dtype: float64"
      ]
     },
     "execution_count": 21,
     "metadata": {},
     "output_type": "execute_result"
    }
   ],
   "source": [
    "last3y[last3y['platform']=='xone']['total_sales'].describe()"
   ]
  },
  {
   "cell_type": "markdown",
   "metadata": {},
   "source": [
    "**Вывод:** 75% игр на платформе xbox one продавались за последние 3 года тиражом не более 632.5 тыс. копий. Очень близкий результат к PlayStation4.\n"
   ]
  },
  {
   "cell_type": "code",
   "execution_count": 22,
   "metadata": {},
   "outputs": [
    {
     "data": {
      "image/png": "[encoded data removed]",
      "text/plain": [
       "<Figure size 432x648 with 1 Axes>"
      ]
     },
     "metadata": {
      "needs_background": "light"
     },
     "output_type": "display_data"
    }
   ],
   "source": [
    "last3y[last3y['platform'] =='3ds'].boxplot(column='total_sales', figsize=(6,9));"
   ]
  },
  {
   "cell_type": "code",
   "execution_count": 23,
   "metadata": {},
   "outputs": [
    {
     "data": {
      "text/plain": [
       "count    212.000000\n",
       "mean       0.408868\n",
       "std        1.188368\n",
       "min        0.010000\n",
       "25%        0.030000\n",
       "50%        0.090000\n",
       "75%        0.250000\n",
       "max       11.680000\n",
       "Name: total_sales, dtype: float64"
      ]
     },
     "execution_count": 23,
     "metadata": {},
     "output_type": "execute_result"
    }
   ],
   "source": [
    "last3y[last3y['platform']=='3ds']['total_sales'].describe()"
   ]
  },
  {
   "cell_type": "markdown",
   "metadata": {},
   "source": [
    "**Вывод:** 75% игр на платформе **Nintendo 3ds** продавались за последние 3 года тиражом не более 250 тыс. копий. Заметно ниже, чем у первых двух лидеров!"
   ]
  },
  {
   "cell_type": "markdown",
   "metadata": {},
   "source": [
    "**Общий вывод:** выбросы - лидеры продаж, популярные игры, хиты игровой индустрии.  \n",
    "Учитывая приблизительное равенство в количестве игр между **ps4** и **xbox**, но при этом двойное превосходство первой по количеству проданных копий и приблизительное равенство 75% обоих платформ по продажам, мы делаем вывод, что хитов и популярных игр на ps4 выходило больше, превосходство в 2 раза говорит о многом."
   ]
  },
  {
   "cell_type": "code",
   "execution_count": 25,
   "metadata": {
    "scrolled": true
   },
   "outputs": [
    {
     "data": {
      "text/html": [
       "<div>\n",
       "<style scoped>\n",
       "    .dataframe tbody tr th:only-of-type {\n",
       "        vertical-align: middle;\n",
       "    }\n",
       "\n",
       "    .dataframe tbody tr th {\n",
       "        vertical-align: top;\n",
       "    }\n",
       "\n",
       "    .dataframe thead th {\n",
       "        text-align: right;\n",
       "    }\n",
       "</style>\n",
       "<table border=\"1\" class=\"dataframe\">\n",
       "  <thead>\n",
       "    <tr style=\"text-align: right;\">\n",
       "      <th></th>\n",
       "      <th>name</th>\n",
       "      <th>platform</th>\n",
       "      <th>year_of_release</th>\n",
       "      <th>genre</th>\n",
       "      <th>na_sales</th>\n",
       "      <th>eu_sales</th>\n",
       "      <th>jp_sales</th>\n",
       "      <th>other_sales</th>\n",
       "      <th>critic_score</th>\n",
       "      <th>user_score</th>\n",
       "      <th>rating</th>\n",
       "      <th>total_sales</th>\n",
       "    </tr>\n",
       "  </thead>\n",
       "  <tbody>\n",
       "    <tr>\n",
       "      <th>31</th>\n",
       "      <td>call of duty: black ops 3</td>\n",
       "      <td>ps4</td>\n",
       "      <td>2015</td>\n",
       "      <td>shooter</td>\n",
       "      <td>6.03</td>\n",
       "      <td>5.86</td>\n",
       "      <td>0.36</td>\n",
       "      <td>2.38</td>\n",
       "      <td>NaN</td>\n",
       "      <td>NaN</td>\n",
       "      <td>undefined</td>\n",
       "      <td>14.63</td>\n",
       "    </tr>\n",
       "    <tr>\n",
       "      <th>42</th>\n",
       "      <td>grand theft auto v</td>\n",
       "      <td>ps4</td>\n",
       "      <td>2014</td>\n",
       "      <td>action</td>\n",
       "      <td>3.96</td>\n",
       "      <td>6.31</td>\n",
       "      <td>0.38</td>\n",
       "      <td>1.97</td>\n",
       "      <td>97.0</td>\n",
       "      <td>8.3</td>\n",
       "      <td>M</td>\n",
       "      <td>12.62</td>\n",
       "    </tr>\n",
       "    <tr>\n",
       "      <th>47</th>\n",
       "      <td>pokemon omega ruby/pokemon alpha sapphire</td>\n",
       "      <td>3ds</td>\n",
       "      <td>2014</td>\n",
       "      <td>role-playing</td>\n",
       "      <td>4.35</td>\n",
       "      <td>3.49</td>\n",
       "      <td>3.10</td>\n",
       "      <td>0.74</td>\n",
       "      <td>NaN</td>\n",
       "      <td>NaN</td>\n",
       "      <td>undefined</td>\n",
       "      <td>11.68</td>\n",
       "    </tr>\n",
       "    <tr>\n",
       "      <th>77</th>\n",
       "      <td>fifa 16</td>\n",
       "      <td>ps4</td>\n",
       "      <td>2015</td>\n",
       "      <td>sports</td>\n",
       "      <td>1.12</td>\n",
       "      <td>6.12</td>\n",
       "      <td>0.06</td>\n",
       "      <td>1.28</td>\n",
       "      <td>82.0</td>\n",
       "      <td>4.3</td>\n",
       "      <td>E</td>\n",
       "      <td>8.58</td>\n",
       "    </tr>\n",
       "    <tr>\n",
       "      <th>87</th>\n",
       "      <td>star wars battlefront (2015)</td>\n",
       "      <td>ps4</td>\n",
       "      <td>2015</td>\n",
       "      <td>shooter</td>\n",
       "      <td>2.99</td>\n",
       "      <td>3.49</td>\n",
       "      <td>0.22</td>\n",
       "      <td>1.28</td>\n",
       "      <td>NaN</td>\n",
       "      <td>NaN</td>\n",
       "      <td>undefined</td>\n",
       "      <td>7.98</td>\n",
       "    </tr>\n",
       "    <tr>\n",
       "      <th>...</th>\n",
       "      <td>...</td>\n",
       "      <td>...</td>\n",
       "      <td>...</td>\n",
       "      <td>...</td>\n",
       "      <td>...</td>\n",
       "      <td>...</td>\n",
       "      <td>...</td>\n",
       "      <td>...</td>\n",
       "      <td>...</td>\n",
       "      <td>...</td>\n",
       "      <td>...</td>\n",
       "      <td>...</td>\n",
       "    </tr>\n",
       "    <tr>\n",
       "      <th>16703</th>\n",
       "      <td>strawberry nauts</td>\n",
       "      <td>psv</td>\n",
       "      <td>2016</td>\n",
       "      <td>adventure</td>\n",
       "      <td>0.00</td>\n",
       "      <td>0.00</td>\n",
       "      <td>0.01</td>\n",
       "      <td>0.00</td>\n",
       "      <td>NaN</td>\n",
       "      <td>NaN</td>\n",
       "      <td>undefined</td>\n",
       "      <td>0.01</td>\n",
       "    </tr>\n",
       "    <tr>\n",
       "      <th>16707</th>\n",
       "      <td>aiyoku no eustia</td>\n",
       "      <td>psv</td>\n",
       "      <td>2014</td>\n",
       "      <td>misc</td>\n",
       "      <td>0.00</td>\n",
       "      <td>0.00</td>\n",
       "      <td>0.01</td>\n",
       "      <td>0.00</td>\n",
       "      <td>NaN</td>\n",
       "      <td>NaN</td>\n",
       "      <td>undefined</td>\n",
       "      <td>0.01</td>\n",
       "    </tr>\n",
       "    <tr>\n",
       "      <th>16710</th>\n",
       "      <td>samurai warriors: sanada maru</td>\n",
       "      <td>ps3</td>\n",
       "      <td>2016</td>\n",
       "      <td>action</td>\n",
       "      <td>0.00</td>\n",
       "      <td>0.00</td>\n",
       "      <td>0.01</td>\n",
       "      <td>0.00</td>\n",
       "      <td>NaN</td>\n",
       "      <td>NaN</td>\n",
       "      <td>undefined</td>\n",
       "      <td>0.01</td>\n",
       "    </tr>\n",
       "    <tr>\n",
       "      <th>16712</th>\n",
       "      <td>haitaka no psychedelica</td>\n",
       "      <td>psv</td>\n",
       "      <td>2016</td>\n",
       "      <td>adventure</td>\n",
       "      <td>0.00</td>\n",
       "      <td>0.00</td>\n",
       "      <td>0.01</td>\n",
       "      <td>0.00</td>\n",
       "      <td>NaN</td>\n",
       "      <td>NaN</td>\n",
       "      <td>undefined</td>\n",
       "      <td>0.01</td>\n",
       "    </tr>\n",
       "    <tr>\n",
       "      <th>16714</th>\n",
       "      <td>winning post 8 2016</td>\n",
       "      <td>psv</td>\n",
       "      <td>2016</td>\n",
       "      <td>simulation</td>\n",
       "      <td>0.00</td>\n",
       "      <td>0.00</td>\n",
       "      <td>0.01</td>\n",
       "      <td>0.00</td>\n",
       "      <td>NaN</td>\n",
       "      <td>NaN</td>\n",
       "      <td>undefined</td>\n",
       "      <td>0.01</td>\n",
       "    </tr>\n",
       "  </tbody>\n",
       "</table>\n",
       "<p>1689 rows × 12 columns</p>\n",
       "</div>"
      ],
      "text/plain": [
       "                                            name platform  year_of_release  \\\n",
       "31                     call of duty: black ops 3      ps4             2015   \n",
       "42                            grand theft auto v      ps4             2014   \n",
       "47     pokemon omega ruby/pokemon alpha sapphire      3ds             2014   \n",
       "77                                       fifa 16      ps4             2015   \n",
       "87                  star wars battlefront (2015)      ps4             2015   \n",
       "...                                          ...      ...              ...   \n",
       "16703                           strawberry nauts      psv             2016   \n",
       "16707                           aiyoku no eustia      psv             2014   \n",
       "16710              samurai warriors: sanada maru      ps3             2016   \n",
       "16712                    haitaka no psychedelica      psv             2016   \n",
       "16714                        winning post 8 2016      psv             2016   \n",
       "\n",
       "              genre  na_sales  eu_sales  jp_sales  other_sales  critic_score  \\\n",
       "31          shooter      6.03      5.86      0.36         2.38           NaN   \n",
       "42           action      3.96      6.31      0.38         1.97          97.0   \n",
       "47     role-playing      4.35      3.49      3.10         0.74           NaN   \n",
       "77           sports      1.12      6.12      0.06         1.28          82.0   \n",
       "87          shooter      2.99      3.49      0.22         1.28           NaN   \n",
       "...             ...       ...       ...       ...          ...           ...   \n",
       "16703     adventure      0.00      0.00      0.01         0.00           NaN   \n",
       "16707          misc      0.00      0.00      0.01         0.00           NaN   \n",
       "16710        action      0.00      0.00      0.01         0.00           NaN   \n",
       "16712     adventure      0.00      0.00      0.01         0.00           NaN   \n",
       "16714    simulation      0.00      0.00      0.01         0.00           NaN   \n",
       "\n",
       "       user_score     rating  total_sales  \n",
       "31            NaN  undefined        14.63  \n",
       "42            8.3          M        12.62  \n",
       "47            NaN  undefined        11.68  \n",
       "77            4.3          E         8.58  \n",
       "87            NaN  undefined         7.98  \n",
       "...           ...        ...          ...  \n",
       "16703         NaN  undefined         0.01  \n",
       "16707         NaN  undefined         0.01  \n",
       "16710         NaN  undefined         0.01  \n",
       "16712         NaN  undefined         0.01  \n",
       "16714         NaN  undefined         0.01  \n",
       "\n",
       "[1689 rows x 12 columns]"
      ]
     },
     "execution_count": 25,
     "metadata": {},
     "output_type": "execute_result"
    }
   ],
   "source": [
    "last3y"
   ]
  },
  {
   "cell_type": "markdown",
   "metadata": {},
   "source": [
    "Построим диаграмму рассеяния отзывов критиков и количества продаж для **PS4:**"
   ]
  },
  {
   "cell_type": "code",
   "execution_count": 26,
   "metadata": {},
   "outputs": [
    {
     "data": {
      "image/png": "[encoded data removed]",
      "text/plain": [
       "<Figure size 432x432 with 1 Axes>"
      ]
     },
     "metadata": {
      "needs_background": "light"
     },
     "output_type": "display_data"
    }
   ],
   "source": [
    "(\n",
    "last3y[last3y['platform']=='ps4']\n",
    "    .plot(title='Диаграмма рассеяния отзывов критиков для PS4', x='critic_score', y='total_sales', kind='scatter', figsize=(6,6))\n",
    ");"
   ]
  },
  {
   "cell_type": "markdown",
   "metadata": {},
   "source": [
    "Посчитаем корреляцию между отзывами критиков и количеством продаж:"
   ]
  },
  {
   "cell_type": "code",
   "execution_count": 27,
   "metadata": {},
   "outputs": [
    {
     "data": {
      "text/plain": [
       "0.40266141068104083"
      ]
     },
     "execution_count": 27,
     "metadata": {},
     "output_type": "execute_result"
    }
   ],
   "source": [
    "last3y[last3y['platform']=='ps4']['critic_score'].corr(last3y[last3y['platform']=='ps4']['total_sales'])"
   ]
  },
  {
   "cell_type": "markdown",
   "metadata": {},
   "source": [
    "Низкая степень корреляции"
   ]
  },
  {
   "cell_type": "markdown",
   "metadata": {},
   "source": [
    "Теперь построим диаграмму рассеяния отзывов пользователей и количества продаж для PS4:"
   ]
  },
  {
   "cell_type": "code",
   "execution_count": 28,
   "metadata": {},
   "outputs": [
    {
     "data": {
      "image/png": "[encoded data removed]",
      "text/plain": [
       "<Figure size 432x432 with 1 Axes>"
      ]
     },
     "metadata": {
      "needs_background": "light"
     },
     "output_type": "display_data"
    }
   ],
   "source": [
    "(\n",
    "last3y[last3y['platform']=='ps4']\n",
    "    .plot(title='Диаграмма рассеяния отзывов пользователей для PS4', x='user_score', y='total_sales', kind='scatter', figsize=(6,6))\n",
    ");"
   ]
  },
  {
   "cell_type": "markdown",
   "metadata": {},
   "source": [
    "Посчитаем корреляцию между отзывами пользователей и количеством продаж:"
   ]
  },
  {
   "cell_type": "code",
   "execution_count": 29,
   "metadata": {},
   "outputs": [
    {
     "data": {
      "text/plain": [
       "-0.040131589472697356"
      ]
     },
     "execution_count": 29,
     "metadata": {},
     "output_type": "execute_result"
    }
   ],
   "source": [
    "last3y[last3y['platform']=='ps4']['user_score'].corr(last3y[last3y['platform']=='ps4']['total_sales'])"
   ]
  },
  {
   "cell_type": "markdown",
   "metadata": {},
   "source": [
    "Степень корреляции еще ниже, чем в предыдущем опыте."
   ]
  },
  {
   "cell_type": "markdown",
   "metadata": {},
   "source": [
    "**Общий вывод:** рейтинг на основании отзывов критиков или пользователей оказывают среднее и низкое влияние на продажи, степень корреляции составляет **0.4** и **-0.04** соответственно."
   ]
  },
  {
   "cell_type": "markdown",
   "metadata": {},
   "source": [
    "Теперь проверим корреляцию между отзывами и продажами на **других платформах:**"
   ]
  },
  {
   "cell_type": "markdown",
   "metadata": {},
   "source": [
    "Посчитаем корреляцию между отзывами критиков и количеством продаж:"
   ]
  },
  {
   "cell_type": "code",
   "execution_count": 30,
   "metadata": {},
   "outputs": [
    {
     "data": {
      "text/plain": [
       "0.3094740026001152"
      ]
     },
     "execution_count": 30,
     "metadata": {},
     "output_type": "execute_result"
    }
   ],
   "source": [
    "last3y[last3y['platform']!='ps4']['critic_score'].corr(last3y[last3y['platform']!='ps4']['total_sales'])"
   ]
  },
  {
   "cell_type": "markdown",
   "metadata": {},
   "source": [
    "Посчитаем корреляцию между отзывами пользователей и количеством продаж:"
   ]
  },
  {
   "cell_type": "code",
   "execution_count": 31,
   "metadata": {},
   "outputs": [
    {
     "data": {
      "text/plain": [
       "-0.02347818723797556"
      ]
     },
     "execution_count": 31,
     "metadata": {},
     "output_type": "execute_result"
    }
   ],
   "source": [
    "last3y[last3y['platform']!='ps4']['user_score'].corr(last3y[last3y['platform']!='ps4']['total_sales'])"
   ]
  },
  {
   "cell_type": "markdown",
   "metadata": {},
   "source": [
    "**Общий вывод:** все так же средня и низкая степень корреляции между этими двумя показателями, платформа не имеет значения."
   ]
  },
  {
   "cell_type": "markdown",
   "metadata": {},
   "source": [
    "Посмотрим на общее распределение игр по жанрам. Что можно сказать о самых прибыльных жанрах? Выделяются ли жанры с высокими и низкими продажами?"
   ]
  },
  {
   "cell_type": "code",
   "execution_count": 32,
   "metadata": {},
   "outputs": [
    {
     "data": {
      "text/html": [
       "<div>\n",
       "<style scoped>\n",
       "    .dataframe tbody tr th:only-of-type {\n",
       "        vertical-align: middle;\n",
       "    }\n",
       "\n",
       "    .dataframe tbody tr th {\n",
       "        vertical-align: top;\n",
       "    }\n",
       "\n",
       "    .dataframe thead th {\n",
       "        text-align: right;\n",
       "    }\n",
       "</style>\n",
       "<table border=\"1\" class=\"dataframe\">\n",
       "  <thead>\n",
       "    <tr style=\"text-align: right;\">\n",
       "      <th></th>\n",
       "      <th>genre</th>\n",
       "      <th>count</th>\n",
       "      <th>sum</th>\n",
       "      <th>mean</th>\n",
       "    </tr>\n",
       "  </thead>\n",
       "  <tbody>\n",
       "    <tr>\n",
       "      <th>0</th>\n",
       "      <td>action</td>\n",
       "      <td>619</td>\n",
       "      <td>199.36</td>\n",
       "      <td>0.322068</td>\n",
       "    </tr>\n",
       "    <tr>\n",
       "      <th>8</th>\n",
       "      <td>shooter</td>\n",
       "      <td>128</td>\n",
       "      <td>170.94</td>\n",
       "      <td>1.335469</td>\n",
       "    </tr>\n",
       "    <tr>\n",
       "      <th>10</th>\n",
       "      <td>sports</td>\n",
       "      <td>161</td>\n",
       "      <td>109.48</td>\n",
       "      <td>0.680000</td>\n",
       "    </tr>\n",
       "    <tr>\n",
       "      <th>7</th>\n",
       "      <td>role-playing</td>\n",
       "      <td>221</td>\n",
       "      <td>101.44</td>\n",
       "      <td>0.459005</td>\n",
       "    </tr>\n",
       "    <tr>\n",
       "      <th>3</th>\n",
       "      <td>misc</td>\n",
       "      <td>113</td>\n",
       "      <td>37.55</td>\n",
       "      <td>0.332301</td>\n",
       "    </tr>\n",
       "    <tr>\n",
       "      <th>2</th>\n",
       "      <td>fighting</td>\n",
       "      <td>60</td>\n",
       "      <td>28.22</td>\n",
       "      <td>0.470333</td>\n",
       "    </tr>\n",
       "    <tr>\n",
       "      <th>6</th>\n",
       "      <td>racing</td>\n",
       "      <td>69</td>\n",
       "      <td>27.52</td>\n",
       "      <td>0.398841</td>\n",
       "    </tr>\n",
       "    <tr>\n",
       "      <th>4</th>\n",
       "      <td>platform</td>\n",
       "      <td>38</td>\n",
       "      <td>18.09</td>\n",
       "      <td>0.476053</td>\n",
       "    </tr>\n",
       "    <tr>\n",
       "      <th>1</th>\n",
       "      <td>adventure</td>\n",
       "      <td>185</td>\n",
       "      <td>17.55</td>\n",
       "      <td>0.094865</td>\n",
       "    </tr>\n",
       "    <tr>\n",
       "      <th>9</th>\n",
       "      <td>simulation</td>\n",
       "      <td>44</td>\n",
       "      <td>13.13</td>\n",
       "      <td>0.298409</td>\n",
       "    </tr>\n",
       "    <tr>\n",
       "      <th>11</th>\n",
       "      <td>strategy</td>\n",
       "      <td>37</td>\n",
       "      <td>3.96</td>\n",
       "      <td>0.107027</td>\n",
       "    </tr>\n",
       "    <tr>\n",
       "      <th>5</th>\n",
       "      <td>puzzle</td>\n",
       "      <td>14</td>\n",
       "      <td>2.21</td>\n",
       "      <td>0.157857</td>\n",
       "    </tr>\n",
       "  </tbody>\n",
       "</table>\n",
       "</div>"
      ],
      "text/plain": [
       "           genre  count     sum      mean\n",
       "0         action    619  199.36  0.322068\n",
       "8        shooter    128  170.94  1.335469\n",
       "10        sports    161  109.48  0.680000\n",
       "7   role-playing    221  101.44  0.459005\n",
       "3           misc    113   37.55  0.332301\n",
       "2       fighting     60   28.22  0.470333\n",
       "6         racing     69   27.52  0.398841\n",
       "4       platform     38   18.09  0.476053\n",
       "1      adventure    185   17.55  0.094865\n",
       "9     simulation     44   13.13  0.298409\n",
       "11      strategy     37    3.96  0.107027\n",
       "5         puzzle     14    2.21  0.157857"
      ]
     },
     "execution_count": 32,
     "metadata": {},
     "output_type": "execute_result"
    }
   ],
   "source": [
    "genres = last3y.pivot_table(index='genre',values='total_sales', aggfunc=['count', 'sum', 'mean']).reset_index()\n",
    "genres.columns=['genre','count','sum', 'mean']\n",
    "genres.sort_values(by='sum', ascending=False)"
   ]
  },
  {
   "cell_type": "markdown",
   "metadata": {},
   "source": [
    "**Вывод:** : жанр **\"экшн\"** лидер по числу проданных копий, но это с условием, что количество игр в 5 раз больше, чем у ближайшего преследователя - жанра **\"шутер\"**. Так же выделим жанр **\"спорт\"**. В аутсайдерах выделим жанр \"эдвенчар\", при высоком количестве игр самый низкий удельный показатель проданных копий."
   ]
  },
  {
   "cell_type": "markdown",
   "metadata": {},
   "source": [
    "###  4. Составим портрет пользователя каждого региона. Определим для пользователя каждого региона (NA, EU, JP)    \n",
    "- Самые популярные платформы (топ-5). Опишим различия в долях продаж.  \n",
    "- Самые популярные жанры (топ-5). Поясним разницу.  \n",
    "- Влияет ли рейтинг ESRB на продажи в отдельном регионе?"
   ]
  },
  {
   "cell_type": "markdown",
   "metadata": {},
   "source": [
    "Определим самые популярные платформы (топ-5). Опишим различия в долях продаж:  \n",
    "Для начала определим топов в **Северной Америке:**"
   ]
  },
  {
   "cell_type": "code",
   "execution_count": 33,
   "metadata": {},
   "outputs": [
    {
     "data": {
      "text/html": [
       "<div>\n",
       "<style scoped>\n",
       "    .dataframe tbody tr th:only-of-type {\n",
       "        vertical-align: middle;\n",
       "    }\n",
       "\n",
       "    .dataframe tbody tr th {\n",
       "        vertical-align: top;\n",
       "    }\n",
       "\n",
       "    .dataframe thead th {\n",
       "        text-align: right;\n",
       "    }\n",
       "</style>\n",
       "<table border=\"1\" class=\"dataframe\">\n",
       "  <thead>\n",
       "    <tr style=\"text-align: right;\">\n",
       "      <th></th>\n",
       "      <th>platform</th>\n",
       "      <th>na_sales</th>\n",
       "    </tr>\n",
       "  </thead>\n",
       "  <tbody>\n",
       "    <tr>\n",
       "      <th>0</th>\n",
       "      <td>ps4</td>\n",
       "      <td>98.61</td>\n",
       "    </tr>\n",
       "    <tr>\n",
       "      <th>1</th>\n",
       "      <td>xone</td>\n",
       "      <td>81.27</td>\n",
       "    </tr>\n",
       "    <tr>\n",
       "      <th>2</th>\n",
       "      <td>x360</td>\n",
       "      <td>28.30</td>\n",
       "    </tr>\n",
       "    <tr>\n",
       "      <th>3</th>\n",
       "      <td>3ds</td>\n",
       "      <td>22.64</td>\n",
       "    </tr>\n",
       "    <tr>\n",
       "      <th>4</th>\n",
       "      <td>ps3</td>\n",
       "      <td>22.05</td>\n",
       "    </tr>\n",
       "  </tbody>\n",
       "</table>\n",
       "</div>"
      ],
      "text/plain": [
       "  platform  na_sales\n",
       "0      ps4     98.61\n",
       "1     xone     81.27\n",
       "2     x360     28.30\n",
       "3      3ds     22.64\n",
       "4      ps3     22.05"
      ]
     },
     "execution_count": 33,
     "metadata": {},
     "output_type": "execute_result"
    }
   ],
   "source": [
    "(\n",
    "last3y\n",
    "    .pivot_table(index='platform', values='na_sales', aggfunc='sum')\n",
    "    .sort_values(by='na_sales',ascending=False).head().reset_index()\n",
    ")"
   ]
  },
  {
   "cell_type": "markdown",
   "metadata": {},
   "source": [
    "В **Северной Америке**  за последние **3 года** лидирует **PlayStation 4**, на ее счету **98,61 млн** проданных копий игр. Чуть чуть позади **Xbox One**, получается почти паритет между конкурентами. Остальные три приставки значительно отстают по продажам."
   ]
  },
  {
   "cell_type": "markdown",
   "metadata": {},
   "source": [
    "Теперь посмотрим кто в лидерах в **Европе:**"
   ]
  },
  {
   "cell_type": "code",
   "execution_count": 34,
   "metadata": {},
   "outputs": [
    {
     "data": {
      "text/html": [
       "<div>\n",
       "<style scoped>\n",
       "    .dataframe tbody tr th:only-of-type {\n",
       "        vertical-align: middle;\n",
       "    }\n",
       "\n",
       "    .dataframe tbody tr th {\n",
       "        vertical-align: top;\n",
       "    }\n",
       "\n",
       "    .dataframe thead th {\n",
       "        text-align: right;\n",
       "    }\n",
       "</style>\n",
       "<table border=\"1\" class=\"dataframe\">\n",
       "  <thead>\n",
       "    <tr style=\"text-align: right;\">\n",
       "      <th></th>\n",
       "      <th>platform</th>\n",
       "      <th>eu_sales</th>\n",
       "    </tr>\n",
       "  </thead>\n",
       "  <tbody>\n",
       "    <tr>\n",
       "      <th>0</th>\n",
       "      <td>ps4</td>\n",
       "      <td>130.04</td>\n",
       "    </tr>\n",
       "    <tr>\n",
       "      <th>1</th>\n",
       "      <td>xone</td>\n",
       "      <td>46.25</td>\n",
       "    </tr>\n",
       "    <tr>\n",
       "      <th>2</th>\n",
       "      <td>ps3</td>\n",
       "      <td>25.54</td>\n",
       "    </tr>\n",
       "    <tr>\n",
       "      <th>3</th>\n",
       "      <td>pc</td>\n",
       "      <td>17.97</td>\n",
       "    </tr>\n",
       "    <tr>\n",
       "      <th>4</th>\n",
       "      <td>3ds</td>\n",
       "      <td>16.12</td>\n",
       "    </tr>\n",
       "  </tbody>\n",
       "</table>\n",
       "</div>"
      ],
      "text/plain": [
       "  platform  eu_sales\n",
       "0      ps4    130.04\n",
       "1     xone     46.25\n",
       "2      ps3     25.54\n",
       "3       pc     17.97\n",
       "4      3ds     16.12"
      ]
     },
     "execution_count": 34,
     "metadata": {},
     "output_type": "execute_result"
    }
   ],
   "source": [
    "(\n",
    "last3y\n",
    "    .pivot_table(index='platform', values='eu_sales', aggfunc='sum')\n",
    "    .sort_values(by='eu_sales',ascending=False).head().reset_index()\n",
    ")"
   ]
  },
  {
   "cell_type": "markdown",
   "metadata": {},
   "source": [
    "В сравнении с **NA** можно отметить что **PlayStation 4** лидирует с троекратным отрывом от **Xbox One**. Так же отметим, что в **TOP5** вошла платформа **PC.**"
   ]
  },
  {
   "cell_type": "markdown",
   "metadata": {},
   "source": [
    "Рассмотрим ситуацию в **Японии:**"
   ]
  },
  {
   "cell_type": "code",
   "execution_count": 35,
   "metadata": {},
   "outputs": [
    {
     "data": {
      "text/html": [
       "<div>\n",
       "<style scoped>\n",
       "    .dataframe tbody tr th:only-of-type {\n",
       "        vertical-align: middle;\n",
       "    }\n",
       "\n",
       "    .dataframe tbody tr th {\n",
       "        vertical-align: top;\n",
       "    }\n",
       "\n",
       "    .dataframe thead th {\n",
       "        text-align: right;\n",
       "    }\n",
       "</style>\n",
       "<table border=\"1\" class=\"dataframe\">\n",
       "  <thead>\n",
       "    <tr style=\"text-align: right;\">\n",
       "      <th></th>\n",
       "      <th>platform</th>\n",
       "      <th>jp_sales</th>\n",
       "    </tr>\n",
       "  </thead>\n",
       "  <tbody>\n",
       "    <tr>\n",
       "      <th>0</th>\n",
       "      <td>3ds</td>\n",
       "      <td>44.24</td>\n",
       "    </tr>\n",
       "    <tr>\n",
       "      <th>1</th>\n",
       "      <td>ps4</td>\n",
       "      <td>15.02</td>\n",
       "    </tr>\n",
       "    <tr>\n",
       "      <th>2</th>\n",
       "      <td>psv</td>\n",
       "      <td>14.54</td>\n",
       "    </tr>\n",
       "    <tr>\n",
       "      <th>3</th>\n",
       "      <td>ps3</td>\n",
       "      <td>11.22</td>\n",
       "    </tr>\n",
       "    <tr>\n",
       "      <th>4</th>\n",
       "      <td>wiiu</td>\n",
       "      <td>7.31</td>\n",
       "    </tr>\n",
       "  </tbody>\n",
       "</table>\n",
       "</div>"
      ],
      "text/plain": [
       "  platform  jp_sales\n",
       "0      3ds     44.24\n",
       "1      ps4     15.02\n",
       "2      psv     14.54\n",
       "3      ps3     11.22\n",
       "4     wiiu      7.31"
      ]
     },
     "execution_count": 35,
     "metadata": {},
     "output_type": "execute_result"
    }
   ],
   "source": [
    "(\n",
    "last3y\n",
    "    .pivot_table(index='platform', values='jp_sales', aggfunc='sum')\n",
    "    .sort_values(by='jp_sales',ascending=False).head().reset_index()\n",
    ")"
   ]
  },
  {
   "cell_type": "markdown",
   "metadata": {},
   "source": [
    "Здесь лидер совершенно другой, в отлиичии от **NA** и **EU**, платформа **Nintendo 3ds** лидирует с **44.24 млн.** проданных копий за **3 года**, причем отрыв от ближайшего преследователя - **PlayStation 4** троекратный."
   ]
  },
  {
   "cell_type": "markdown",
   "metadata": {},
   "source": [
    "Теперь рассмотрим рынки по жанрам:"
   ]
  },
  {
   "cell_type": "markdown",
   "metadata": {},
   "source": [
    "Начнем с **Северной Америки**, определим **TOP5** жанров:"
   ]
  },
  {
   "cell_type": "code",
   "execution_count": 36,
   "metadata": {},
   "outputs": [
    {
     "data": {
      "text/html": [
       "<div>\n",
       "<style scoped>\n",
       "    .dataframe tbody tr th:only-of-type {\n",
       "        vertical-align: middle;\n",
       "    }\n",
       "\n",
       "    .dataframe tbody tr th {\n",
       "        vertical-align: top;\n",
       "    }\n",
       "\n",
       "    .dataframe thead th {\n",
       "        text-align: right;\n",
       "    }\n",
       "</style>\n",
       "<table border=\"1\" class=\"dataframe\">\n",
       "  <thead>\n",
       "    <tr style=\"text-align: right;\">\n",
       "      <th></th>\n",
       "      <th>genre</th>\n",
       "      <th>na_sales</th>\n",
       "    </tr>\n",
       "  </thead>\n",
       "  <tbody>\n",
       "    <tr>\n",
       "      <th>0</th>\n",
       "      <td>shooter</td>\n",
       "      <td>79.02</td>\n",
       "    </tr>\n",
       "    <tr>\n",
       "      <th>1</th>\n",
       "      <td>action</td>\n",
       "      <td>72.53</td>\n",
       "    </tr>\n",
       "    <tr>\n",
       "      <th>2</th>\n",
       "      <td>sports</td>\n",
       "      <td>46.13</td>\n",
       "    </tr>\n",
       "    <tr>\n",
       "      <th>3</th>\n",
       "      <td>role-playing</td>\n",
       "      <td>33.47</td>\n",
       "    </tr>\n",
       "    <tr>\n",
       "      <th>4</th>\n",
       "      <td>misc</td>\n",
       "      <td>15.05</td>\n",
       "    </tr>\n",
       "  </tbody>\n",
       "</table>\n",
       "</div>"
      ],
      "text/plain": [
       "          genre  na_sales\n",
       "0       shooter     79.02\n",
       "1        action     72.53\n",
       "2        sports     46.13\n",
       "3  role-playing     33.47\n",
       "4          misc     15.05"
      ]
     },
     "execution_count": 36,
     "metadata": {},
     "output_type": "execute_result"
    }
   ],
   "source": [
    "(\n",
    "last3y\n",
    "    .pivot_table(index='genre', values='na_sales', aggfunc='sum')\n",
    "    .sort_values(by='na_sales', ascending=False).head().reset_index()\n",
    ")"
   ]
  },
  {
   "cell_type": "markdown",
   "metadata": {},
   "source": [
    "В авангарде **\"шутеры\"** и **\"экшены\"**, **спортивные игры** замыкают тройку лидеров."
   ]
  },
  {
   "cell_type": "markdown",
   "metadata": {},
   "source": [
    "А что в **Европе?:**"
   ]
  },
  {
   "cell_type": "code",
   "execution_count": 37,
   "metadata": {},
   "outputs": [
    {
     "data": {
      "text/html": [
       "<div>\n",
       "<style scoped>\n",
       "    .dataframe tbody tr th:only-of-type {\n",
       "        vertical-align: middle;\n",
       "    }\n",
       "\n",
       "    .dataframe tbody tr th {\n",
       "        vertical-align: top;\n",
       "    }\n",
       "\n",
       "    .dataframe thead th {\n",
       "        text-align: right;\n",
       "    }\n",
       "</style>\n",
       "<table border=\"1\" class=\"dataframe\">\n",
       "  <thead>\n",
       "    <tr style=\"text-align: right;\">\n",
       "      <th></th>\n",
       "      <th>genre</th>\n",
       "      <th>eu_sales</th>\n",
       "    </tr>\n",
       "  </thead>\n",
       "  <tbody>\n",
       "    <tr>\n",
       "      <th>0</th>\n",
       "      <td>action</td>\n",
       "      <td>74.68</td>\n",
       "    </tr>\n",
       "    <tr>\n",
       "      <th>1</th>\n",
       "      <td>shooter</td>\n",
       "      <td>65.52</td>\n",
       "    </tr>\n",
       "    <tr>\n",
       "      <th>2</th>\n",
       "      <td>sports</td>\n",
       "      <td>45.73</td>\n",
       "    </tr>\n",
       "    <tr>\n",
       "      <th>3</th>\n",
       "      <td>role-playing</td>\n",
       "      <td>28.17</td>\n",
       "    </tr>\n",
       "    <tr>\n",
       "      <th>4</th>\n",
       "      <td>racing</td>\n",
       "      <td>14.13</td>\n",
       "    </tr>\n",
       "  </tbody>\n",
       "</table>\n",
       "</div>"
      ],
      "text/plain": [
       "          genre  eu_sales\n",
       "0        action     74.68\n",
       "1       shooter     65.52\n",
       "2        sports     45.73\n",
       "3  role-playing     28.17\n",
       "4        racing     14.13"
      ]
     },
     "execution_count": 37,
     "metadata": {},
     "output_type": "execute_result"
    }
   ],
   "source": [
    "(\n",
    "last3y\n",
    "    .pivot_table(index='genre', values='eu_sales', aggfunc='sum')\n",
    "    .sort_values(by='eu_sales',ascending=False).head().reset_index()\n",
    ")"
   ]
  },
  {
   "cell_type": "markdown",
   "metadata": {},
   "source": [
    "Лидеры все те же, только теперь на первом месте жанр **\"Action\"**, количество проданных копий в **Европе** так же сопоставимо с **Северной Америкой**, из замыкающих в **Европе** вместо жанра **\"Misc\"** появился жанр **\"Racing'.**"
   ]
  },
  {
   "cell_type": "markdown",
   "metadata": {},
   "source": [
    "Теперь перейдем к **Японии:**"
   ]
  },
  {
   "cell_type": "code",
   "execution_count": 38,
   "metadata": {},
   "outputs": [
    {
     "data": {
      "text/html": [
       "<div>\n",
       "<style scoped>\n",
       "    .dataframe tbody tr th:only-of-type {\n",
       "        vertical-align: middle;\n",
       "    }\n",
       "\n",
       "    .dataframe tbody tr th {\n",
       "        vertical-align: top;\n",
       "    }\n",
       "\n",
       "    .dataframe thead th {\n",
       "        text-align: right;\n",
       "    }\n",
       "</style>\n",
       "<table border=\"1\" class=\"dataframe\">\n",
       "  <thead>\n",
       "    <tr style=\"text-align: right;\">\n",
       "      <th></th>\n",
       "      <th>genre</th>\n",
       "      <th>jp_sales</th>\n",
       "    </tr>\n",
       "  </thead>\n",
       "  <tbody>\n",
       "    <tr>\n",
       "      <th>0</th>\n",
       "      <td>role-playing</td>\n",
       "      <td>31.16</td>\n",
       "    </tr>\n",
       "    <tr>\n",
       "      <th>1</th>\n",
       "      <td>action</td>\n",
       "      <td>29.58</td>\n",
       "    </tr>\n",
       "    <tr>\n",
       "      <th>2</th>\n",
       "      <td>fighting</td>\n",
       "      <td>6.37</td>\n",
       "    </tr>\n",
       "    <tr>\n",
       "      <th>3</th>\n",
       "      <td>misc</td>\n",
       "      <td>5.61</td>\n",
       "    </tr>\n",
       "    <tr>\n",
       "      <th>4</th>\n",
       "      <td>shooter</td>\n",
       "      <td>4.87</td>\n",
       "    </tr>\n",
       "  </tbody>\n",
       "</table>\n",
       "</div>"
      ],
      "text/plain": [
       "          genre  jp_sales\n",
       "0  role-playing     31.16\n",
       "1        action     29.58\n",
       "2      fighting      6.37\n",
       "3          misc      5.61\n",
       "4       shooter      4.87"
      ]
     },
     "execution_count": 38,
     "metadata": {},
     "output_type": "execute_result"
    }
   ],
   "source": [
    "(\n",
    "last3y\n",
    "    .pivot_table(index='genre', values='jp_sales', aggfunc='sum')\n",
    "    .sort_values(by='jp_sales',ascending=False).head().reset_index()\n",
    ")"
   ]
  },
  {
   "cell_type": "markdown",
   "metadata": {},
   "source": [
    "Японцы не перестают удивлять, в лидерах жанр **\"Role-playing\"**, так же можно отметитьв топ5 жанр **\"Fighting\"**,  в **EU** и **NA** этот жанр не вошел в **TOP5**"
   ]
  },
  {
   "cell_type": "markdown",
   "metadata": {},
   "source": [
    "Теперь рассмотрим степень влияния рейтинга **ESRB** на продажи:  \n",
    "+ «M» («Mature») — «Для взрослых»  \n",
    "+ «E» («Everyone») — «Для всех»  \n",
    "+ «E10+» («Everyone 10 and older») — «Для всех от 10 лет и старше»  \n",
    "+ «T» («Teen») — «Подросткам»"
   ]
  },
  {
   "cell_type": "markdown",
   "metadata": {},
   "source": [
    "Начнем как обычно с **Северной Америки:**"
   ]
  },
  {
   "cell_type": "code",
   "execution_count": 39,
   "metadata": {
    "scrolled": true
   },
   "outputs": [
    {
     "data": {
      "text/html": [
       "<div>\n",
       "<style scoped>\n",
       "    .dataframe tbody tr th:only-of-type {\n",
       "        vertical-align: middle;\n",
       "    }\n",
       "\n",
       "    .dataframe tbody tr th {\n",
       "        vertical-align: top;\n",
       "    }\n",
       "\n",
       "    .dataframe thead th {\n",
       "        text-align: right;\n",
       "    }\n",
       "</style>\n",
       "<table border=\"1\" class=\"dataframe\">\n",
       "  <thead>\n",
       "    <tr style=\"text-align: right;\">\n",
       "      <th></th>\n",
       "      <th>rating</th>\n",
       "      <th>na_sales</th>\n",
       "    </tr>\n",
       "  </thead>\n",
       "  <tbody>\n",
       "    <tr>\n",
       "      <th>0</th>\n",
       "      <td>M</td>\n",
       "      <td>96.42</td>\n",
       "    </tr>\n",
       "    <tr>\n",
       "      <th>1</th>\n",
       "      <td>undefined</td>\n",
       "      <td>64.72</td>\n",
       "    </tr>\n",
       "    <tr>\n",
       "      <th>2</th>\n",
       "      <td>E</td>\n",
       "      <td>50.74</td>\n",
       "    </tr>\n",
       "    <tr>\n",
       "      <th>3</th>\n",
       "      <td>T</td>\n",
       "      <td>38.95</td>\n",
       "    </tr>\n",
       "    <tr>\n",
       "      <th>4</th>\n",
       "      <td>E10+</td>\n",
       "      <td>33.23</td>\n",
       "    </tr>\n",
       "  </tbody>\n",
       "</table>\n",
       "</div>"
      ],
      "text/plain": [
       "      rating  na_sales\n",
       "0          M     96.42\n",
       "1  undefined     64.72\n",
       "2          E     50.74\n",
       "3          T     38.95\n",
       "4       E10+     33.23"
      ]
     },
     "execution_count": 39,
     "metadata": {},
     "output_type": "execute_result"
    }
   ],
   "source": [
    "(\n",
    "last3y\n",
    "    .pivot_table(index='rating', values='na_sales', aggfunc='sum')\n",
    "    .sort_values(by='na_sales',ascending=False).head().reset_index()\n",
    ")"
   ]
  },
  {
   "cell_type": "markdown",
   "metadata": {},
   "source": [
    "В лидерах категория **\"для взрослых\"**, следом идет большая часть игр **без рейтинга**, замыкает тройку лидеров категория **\"для всех\"**"
   ]
  },
  {
   "cell_type": "markdown",
   "metadata": {},
   "source": [
    "**Европа:**"
   ]
  },
  {
   "cell_type": "code",
   "execution_count": 40,
   "metadata": {},
   "outputs": [
    {
     "data": {
      "text/html": [
       "<div>\n",
       "<style scoped>\n",
       "    .dataframe tbody tr th:only-of-type {\n",
       "        vertical-align: middle;\n",
       "    }\n",
       "\n",
       "    .dataframe tbody tr th {\n",
       "        vertical-align: top;\n",
       "    }\n",
       "\n",
       "    .dataframe thead th {\n",
       "        text-align: right;\n",
       "    }\n",
       "</style>\n",
       "<table border=\"1\" class=\"dataframe\">\n",
       "  <thead>\n",
       "    <tr style=\"text-align: right;\">\n",
       "      <th></th>\n",
       "      <th>rating</th>\n",
       "      <th>eu_sales</th>\n",
       "    </tr>\n",
       "  </thead>\n",
       "  <tbody>\n",
       "    <tr>\n",
       "      <th>0</th>\n",
       "      <td>M</td>\n",
       "      <td>93.44</td>\n",
       "    </tr>\n",
       "    <tr>\n",
       "      <th>1</th>\n",
       "      <td>undefined</td>\n",
       "      <td>58.95</td>\n",
       "    </tr>\n",
       "    <tr>\n",
       "      <th>2</th>\n",
       "      <td>E</td>\n",
       "      <td>58.06</td>\n",
       "    </tr>\n",
       "    <tr>\n",
       "      <th>3</th>\n",
       "      <td>T</td>\n",
       "      <td>34.07</td>\n",
       "    </tr>\n",
       "    <tr>\n",
       "      <th>4</th>\n",
       "      <td>E10+</td>\n",
       "      <td>26.16</td>\n",
       "    </tr>\n",
       "  </tbody>\n",
       "</table>\n",
       "</div>"
      ],
      "text/plain": [
       "      rating  eu_sales\n",
       "0          M     93.44\n",
       "1  undefined     58.95\n",
       "2          E     58.06\n",
       "3          T     34.07\n",
       "4       E10+     26.16"
      ]
     },
     "execution_count": 40,
     "metadata": {},
     "output_type": "execute_result"
    }
   ],
   "source": [
    "(\n",
    "last3y\n",
    "    .pivot_table(index='rating', values='eu_sales', aggfunc='sum')\n",
    "    .sort_values(by='eu_sales',ascending=False).head().reset_index()\n",
    ")"
   ]
  },
  {
   "cell_type": "markdown",
   "metadata": {},
   "source": [
    "В лидерах категория **\"для взрослых\"**, следом идет большая часть игр **без рейтинга**, замыкает тройку лидеров категория **\"для всех\"**"
   ]
  },
  {
   "cell_type": "markdown",
   "metadata": {},
   "source": [
    "**Япония:**"
   ]
  },
  {
   "cell_type": "code",
   "execution_count": 41,
   "metadata": {},
   "outputs": [
    {
     "data": {
      "text/html": [
       "<div>\n",
       "<style scoped>\n",
       "    .dataframe tbody tr th:only-of-type {\n",
       "        vertical-align: middle;\n",
       "    }\n",
       "\n",
       "    .dataframe tbody tr th {\n",
       "        vertical-align: top;\n",
       "    }\n",
       "\n",
       "    .dataframe thead th {\n",
       "        text-align: right;\n",
       "    }\n",
       "</style>\n",
       "<table border=\"1\" class=\"dataframe\">\n",
       "  <thead>\n",
       "    <tr style=\"text-align: right;\">\n",
       "      <th></th>\n",
       "      <th>rating</th>\n",
       "      <th>jp_sales</th>\n",
       "    </tr>\n",
       "  </thead>\n",
       "  <tbody>\n",
       "    <tr>\n",
       "      <th>0</th>\n",
       "      <td>undefined</td>\n",
       "      <td>56.90</td>\n",
       "    </tr>\n",
       "    <tr>\n",
       "      <th>1</th>\n",
       "      <td>T</td>\n",
       "      <td>14.78</td>\n",
       "    </tr>\n",
       "    <tr>\n",
       "      <th>2</th>\n",
       "      <td>E</td>\n",
       "      <td>8.94</td>\n",
       "    </tr>\n",
       "    <tr>\n",
       "      <th>3</th>\n",
       "      <td>M</td>\n",
       "      <td>8.01</td>\n",
       "    </tr>\n",
       "    <tr>\n",
       "      <th>4</th>\n",
       "      <td>E10+</td>\n",
       "      <td>4.46</td>\n",
       "    </tr>\n",
       "  </tbody>\n",
       "</table>\n",
       "</div>"
      ],
      "text/plain": [
       "      rating  jp_sales\n",
       "0  undefined     56.90\n",
       "1          T     14.78\n",
       "2          E      8.94\n",
       "3          M      8.01\n",
       "4       E10+      4.46"
      ]
     },
     "execution_count": 41,
     "metadata": {},
     "output_type": "execute_result"
    }
   ],
   "source": [
    "(\n",
    "last3y\n",
    "    .pivot_table(index='rating', values='jp_sales', aggfunc='sum')\n",
    "    .sort_values(by='jp_sales',ascending=False).head().reset_index()\n",
    ")"
   ]
  },
  {
   "cell_type": "markdown",
   "metadata": {},
   "source": [
    "Большая часть игр **без рейтинга**, на втором месте игры с рейтингом **\"подросткам\"**, на третьем - **\"для всех\".**"
   ]
  },
  {
   "cell_type": "markdown",
   "metadata": {},
   "source": [
    "###  5. Проверим гипотезы\n",
    "\n",
    "+ Средние пользовательские рейтинги платформ **Xbox One** и **PC** одинаковые;\n",
    "+ Средние пользовательские рейтинги жанров **Action** (англ. «действие», экшен-игры) и **Sports** (англ. «спортивные соревнования») разные."
   ]
  },
  {
   "cell_type": "markdown",
   "metadata": {},
   "source": [
    "Сформируем **нулевую** и **альтернативную** гипотезу для каждого задания:\n",
    "1. **Нулевая** гипотеза гласит - средние пользовательские рейтинги платформ **Xbox One** и **PC** не имеют статистически значимую разницу.  \n",
    "   **Альтернативная** гипотеза - средние имеют стат. значимую разницу.\n",
    "   \n",
    "2. **Нулевая** гипотеза гласит - средние пользовательские рейтинги жанров **Action** (англ. «действие», экшен-игры) и **Sports** (англ. «спортивные соревнования») не имеют статистически значимую разницу.\n",
    "   **Альтернативная** гипотеза -  средние имеют стат. значимую разницу."
   ]
  },
  {
   "cell_type": "markdown",
   "metadata": {},
   "source": [
    "Проверим одинаковые ли средние пользовательские рейтинги платформ **Xbox One** и **PC:**"
   ]
  },
  {
   "cell_type": "markdown",
   "metadata": {},
   "source": [
    "Для начала сравним дисперсии выборок, дабы корректно определить атрибут **equal_val** в Т–тесте."
   ]
  },
  {
   "cell_type": "code",
   "execution_count": 42,
   "metadata": {},
   "outputs": [
    {
     "data": {
      "text/plain": [
       "1.879546005509642"
      ]
     },
     "execution_count": 42,
     "metadata": {},
     "output_type": "execute_result"
    }
   ],
   "source": [
    "variance_xbox_one = np.var(last3y[last3y['platform']=='xone']['user_score'])\n",
    "variance_xbox_one"
   ]
  },
  {
   "cell_type": "code",
   "execution_count": 43,
   "metadata": {
    "scrolled": true
   },
   "outputs": [
    {
     "data": {
      "text/plain": [
       "2.8773743617307175"
      ]
     },
     "execution_count": 43,
     "metadata": {},
     "output_type": "execute_result"
    }
   ],
   "source": [
    "variance_pc = np.var(last3y[last3y['platform']=='pc']['user_score'])\n",
    "variance_pc"
   ]
  },
  {
   "cell_type": "markdown",
   "metadata": {},
   "source": [
    "Мы видим, что дисперсии выборок отличаются, поэтому установим атрибут **equal_val=False**"
   ]
  },
  {
   "cell_type": "code",
   "execution_count": 44,
   "metadata": {},
   "outputs": [
    {
     "name": "stdout",
     "output_type": "stream",
     "text": [
      "p-значение:  0.11601398086668943\n",
      "Не получилось отвергнуть нулевую гипотезу\n"
     ]
    }
   ],
   "source": [
    "xbox = last3y[last3y['platform']=='xone']['user_score']\n",
    "pc = last3y[last3y['platform']=='pc']['user_score']\n",
    "alpha = 0.05\n",
    "results = st.ttest_ind(xbox, pc, equal_var = False, nan_policy = 'omit')\n",
    "\n",
    "print('p-значение: ', results.pvalue)\n",
    "\n",
    "if results.pvalue < alpha:\n",
    "    print(\"Отвергаем нулевую гипотезу\")\n",
    "else:\n",
    "    print(\"Не получилось отвергнуть нулевую гипотезу\")"
   ]
  },
  {
   "cell_type": "markdown",
   "metadata": {},
   "source": [
    "Действительно, мы можем утверждать, что средние пользовательские рейтинги платформ **Xbox One** и **PC**  не имеют статистически значимую разницу. ."
   ]
  },
  {
   "cell_type": "markdown",
   "metadata": {},
   "source": [
    "Теперь проверим  одинаковые ли средние пользовательские рейтинги жанров **Action**  и **Sports:** "
   ]
  },
  {
   "cell_type": "markdown",
   "metadata": {},
   "source": [
    "Сравним дисперсии выборок, дабы корректно определить атрибут **equal_val** в Т–тесте:"
   ]
  },
  {
   "cell_type": "code",
   "execution_count": 45,
   "metadata": {},
   "outputs": [
    {
     "data": {
      "text/plain": [
       "1.89208448117539"
      ]
     },
     "execution_count": 45,
     "metadata": {},
     "output_type": "execute_result"
    }
   ],
   "source": [
    "variance_action = np.var(last3y[last3y['genre']=='action']['user_score'])\n",
    "variance_action"
   ]
  },
  {
   "cell_type": "code",
   "execution_count": 46,
   "metadata": {},
   "outputs": [
    {
     "data": {
      "text/plain": [
       "3.419837559675119"
      ]
     },
     "execution_count": 46,
     "metadata": {},
     "output_type": "execute_result"
    }
   ],
   "source": [
    "variance_sports = np.var(last3y[last3y['genre']=='sports']['user_score'])\n",
    "variance_sports"
   ]
  },
  {
   "cell_type": "markdown",
   "metadata": {},
   "source": [
    "Дисперсии выборок отличаются, поэтому установим атрибут **equal_val=False**"
   ]
  },
  {
   "cell_type": "code",
   "execution_count": 47,
   "metadata": {},
   "outputs": [
    {
     "name": "stdout",
     "output_type": "stream",
     "text": [
      "p-значение:  1.1825550382644557e-14\n",
      "Отвергаем нулевую гипотезу\n"
     ]
    }
   ],
   "source": [
    "action = last3y[last3y['genre']=='action']['user_score']\n",
    "sports = last3y[last3y['genre']=='sports']['user_score']\n",
    "alpha = 0.05\n",
    "results = st.ttest_ind(action.dropna(), sports.dropna(), equal_var = False)\n",
    "\n",
    "print('p-значение: ', results.pvalue)\n",
    "\n",
    "if results.pvalue < alpha:\n",
    "    print(\"Отвергаем нулевую гипотезу\")\n",
    "else:\n",
    "    print(\"Не получилось отвергнуть нулевую гипотезу\")"
   ]
  },
  {
   "cell_type": "markdown",
   "metadata": {},
   "source": [
    "Не получилось доказать **нулевую гипотезу**, средние пользовательских рейтингов жанров **Action** и **Sports**  имеют статистически значимую разницу. "
   ]
  },
  {
   "cell_type": "markdown",
   "metadata": {},
   "source": [
    "### 6. Общий вывод"
   ]
  },
  {
   "cell_type": "markdown",
   "metadata": {},
   "source": [
    "За последние три года, по которым мы проводили анализ на рынке видеоигр по платформам можно выделить 2х явных лидеров по количеству реализованных копий  - это **Xbox One** и **PlayStation 4**.   \n",
    "Если говорить о жанрах, то в авангарде **Shooters** и **Actions**.  \n",
    "Так же стоить отметить весьма самобытный рынок **Японии**, там все по-другому, начиная от лидера платформ - там это **Nintendo** и заканчивая самым популярным жанром, в **Японии**  - это **Role-playing.**     \n",
    "Так же мы выяснили, что оценки пользователей и критиков оказывают низкое влияние на продажи, а примерный жизненный цикл платформы равен 3-6 годам.  "
   ]
  },
  {
   "cell_type": "code",
   "execution_count": null,
   "metadata": {},
   "outputs": [],
   "source": []
  }
 ],
 "metadata": {
  "ExecuteTimeLog": [
   {
    "duration": 489,
    "start_time": "2021-09-16T06:34:51.125Z"
   },
   {
    "duration": 1362,
    "start_time": "2021-09-16T06:34:59.963Z"
   },
   {
    "duration": 32,
    "start_time": "2021-09-16T06:35:01.327Z"
   },
   {
    "duration": 14,
    "start_time": "2021-09-16T06:53:59.791Z"
   },
   {
    "duration": 6,
    "start_time": "2021-09-16T07:04:47.342Z"
   },
   {
    "duration": 21,
    "start_time": "2021-09-16T07:04:54.557Z"
   },
   {
    "duration": 4,
    "start_time": "2021-09-16T07:05:02.308Z"
   },
   {
    "duration": 387,
    "start_time": "2021-09-16T07:05:04.351Z"
   },
   {
    "duration": 46,
    "start_time": "2021-09-16T07:05:14.879Z"
   },
   {
    "duration": 20,
    "start_time": "2021-09-16T07:05:15.330Z"
   },
   {
    "duration": 14,
    "start_time": "2021-09-16T07:05:15.794Z"
   },
   {
    "duration": 4,
    "start_time": "2021-09-16T07:05:16.212Z"
   },
   {
    "duration": 340,
    "start_time": "2021-09-16T07:05:17.393Z"
   },
   {
    "duration": 324,
    "start_time": "2021-09-16T07:05:31.367Z"
   },
   {
    "duration": 343,
    "start_time": "2021-09-16T07:05:32.562Z"
   },
   {
    "duration": 359,
    "start_time": "2021-09-16T07:09:16.575Z"
   },
   {
    "duration": 48,
    "start_time": "2021-09-16T07:09:27.883Z"
   },
   {
    "duration": 18,
    "start_time": "2021-09-16T07:09:27.934Z"
   },
   {
    "duration": 58,
    "start_time": "2021-09-16T07:09:27.955Z"
   },
   {
    "duration": 370,
    "start_time": "2021-09-16T07:50:40.362Z"
   },
   {
    "duration": 325,
    "start_time": "2021-09-16T07:50:46.392Z"
   },
   {
    "duration": 383,
    "start_time": "2021-09-16T07:50:52.343Z"
   },
   {
    "duration": 48,
    "start_time": "2021-09-16T07:50:55.753Z"
   },
   {
    "duration": 20,
    "start_time": "2021-09-16T07:50:55.804Z"
   },
   {
    "duration": 343,
    "start_time": "2021-09-16T07:50:55.828Z"
   },
   {
    "duration": 13,
    "start_time": "2021-09-16T07:51:03.855Z"
   },
   {
    "duration": 7,
    "start_time": "2021-09-16T07:51:27.260Z"
   },
   {
    "duration": 7,
    "start_time": "2021-09-16T07:51:31.910Z"
   },
   {
    "duration": 45,
    "start_time": "2021-09-16T08:05:18.557Z"
   },
   {
    "duration": 396,
    "start_time": "2021-09-16T08:06:41.812Z"
   },
   {
    "duration": 366,
    "start_time": "2021-09-16T08:07:12.424Z"
   },
   {
    "duration": 786,
    "start_time": "2021-09-16T08:07:14.731Z"
   },
   {
    "duration": -35,
    "start_time": "2021-09-16T08:07:15.555Z"
   },
   {
    "duration": -37,
    "start_time": "2021-09-16T08:07:15.559Z"
   },
   {
    "duration": -39,
    "start_time": "2021-09-16T08:07:15.563Z"
   },
   {
    "duration": -38,
    "start_time": "2021-09-16T08:07:15.565Z"
   },
   {
    "duration": 329,
    "start_time": "2021-09-16T08:07:50.564Z"
   },
   {
    "duration": 61,
    "start_time": "2021-09-16T08:07:58.920Z"
   },
   {
    "duration": 47,
    "start_time": "2021-09-16T08:08:02.569Z"
   },
   {
    "duration": 18,
    "start_time": "2021-09-16T08:08:02.619Z"
   },
   {
    "duration": 120,
    "start_time": "2021-09-16T08:08:02.640Z"
   },
   {
    "duration": 8,
    "start_time": "2021-09-16T08:08:02.763Z"
   },
   {
    "duration": 588,
    "start_time": "2021-09-16T08:08:02.774Z"
   },
   {
    "duration": 75,
    "start_time": "2021-09-16T08:11:56.927Z"
   },
   {
    "duration": 19,
    "start_time": "2021-09-16T08:17:35.527Z"
   },
   {
    "duration": 13,
    "start_time": "2021-09-16T08:17:56.646Z"
   },
   {
    "duration": 14,
    "start_time": "2021-09-16T08:18:01.545Z"
   },
   {
    "duration": 37,
    "start_time": "2021-09-16T08:46:56.194Z"
   },
   {
    "duration": 27,
    "start_time": "2021-09-16T08:47:16.704Z"
   },
   {
    "duration": 330,
    "start_time": "2021-09-16T08:51:47.213Z"
   },
   {
    "duration": 6,
    "start_time": "2021-09-16T08:53:58.295Z"
   },
   {
    "duration": 138,
    "start_time": "2021-09-16T08:54:02.131Z"
   },
   {
    "duration": 66,
    "start_time": "2021-09-16T08:54:02.287Z"
   },
   {
    "duration": 73,
    "start_time": "2021-09-16T08:54:02.371Z"
   },
   {
    "duration": 87,
    "start_time": "2021-09-16T08:54:02.446Z"
   },
   {
    "duration": 3,
    "start_time": "2021-09-16T08:54:02.536Z"
   },
   {
    "duration": 29,
    "start_time": "2021-09-16T08:54:08.760Z"
   },
   {
    "duration": 369,
    "start_time": "2021-09-16T08:57:08.103Z"
   },
   {
    "duration": 390,
    "start_time": "2021-09-16T09:01:41.809Z"
   },
   {
    "duration": 41,
    "start_time": "2021-09-16T09:17:45.603Z"
   },
   {
    "duration": 38,
    "start_time": "2021-09-16T09:19:08.235Z"
   },
   {
    "duration": 375,
    "start_time": "2021-09-16T09:19:36.271Z"
   },
   {
    "duration": 15,
    "start_time": "2021-09-16T09:19:59.975Z"
   },
   {
    "duration": 7,
    "start_time": "2021-09-16T09:20:02.687Z"
   },
   {
    "duration": 20,
    "start_time": "2021-09-16T09:20:07.972Z"
   },
   {
    "duration": 25,
    "start_time": "2021-09-16T09:20:15.603Z"
   },
   {
    "duration": 16,
    "start_time": "2021-09-16T09:20:47.211Z"
   },
   {
    "duration": 332,
    "start_time": "2021-09-16T09:21:34.090Z"
   },
   {
    "duration": 48,
    "start_time": "2021-09-16T09:21:56.781Z"
   },
   {
    "duration": 20,
    "start_time": "2021-09-16T09:21:56.832Z"
   },
   {
    "duration": 58,
    "start_time": "2021-09-16T09:21:56.855Z"
   },
   {
    "duration": 88,
    "start_time": "2021-09-16T09:21:56.916Z"
   },
   {
    "duration": 28,
    "start_time": "2021-09-16T09:21:57.006Z"
   },
   {
    "duration": 22,
    "start_time": "2021-09-16T09:21:57.036Z"
   },
   {
    "duration": 395,
    "start_time": "2021-09-16T09:21:57.060Z"
   },
   {
    "duration": -78,
    "start_time": "2021-09-16T09:21:57.535Z"
   },
   {
    "duration": 784,
    "start_time": "2021-09-16T09:23:19.200Z"
   },
   {
    "duration": 10,
    "start_time": "2021-09-16T09:23:22.772Z"
   },
   {
    "duration": 12,
    "start_time": "2021-09-16T09:23:39.235Z"
   },
   {
    "duration": 11,
    "start_time": "2021-09-16T09:26:15.517Z"
   },
   {
    "duration": 11,
    "start_time": "2021-09-16T09:26:28.166Z"
   },
   {
    "duration": 12,
    "start_time": "2021-09-16T09:27:53.549Z"
   },
   {
    "duration": 13,
    "start_time": "2021-09-16T09:28:00.579Z"
   },
   {
    "duration": 8,
    "start_time": "2021-09-16T09:28:18.299Z"
   },
   {
    "duration": 10,
    "start_time": "2021-09-16T09:28:39.862Z"
   },
   {
    "duration": 11,
    "start_time": "2021-09-16T09:28:55.807Z"
   },
   {
    "duration": 9,
    "start_time": "2021-09-16T09:29:08.776Z"
   },
   {
    "duration": 11,
    "start_time": "2021-09-16T09:29:10.675Z"
   },
   {
    "duration": 6,
    "start_time": "2021-09-16T09:29:28.536Z"
   },
   {
    "duration": 10,
    "start_time": "2021-09-16T09:30:14.462Z"
   },
   {
    "duration": 29,
    "start_time": "2021-09-16T09:30:18.452Z"
   },
   {
    "duration": 14,
    "start_time": "2021-09-16T09:30:30.117Z"
   },
   {
    "duration": 27,
    "start_time": "2021-09-16T09:30:42.635Z"
   },
   {
    "duration": 13,
    "start_time": "2021-09-16T09:31:00.223Z"
   },
   {
    "duration": 34,
    "start_time": "2021-09-16T09:32:52.257Z"
   },
   {
    "duration": 12,
    "start_time": "2021-09-16T09:38:13.991Z"
   },
   {
    "duration": 32,
    "start_time": "2021-09-16T09:38:19.903Z"
   },
   {
    "duration": 239,
    "start_time": "2021-09-16T09:45:00.394Z"
   },
   {
    "duration": 23,
    "start_time": "2021-09-16T10:13:00.614Z"
   },
   {
    "duration": 162,
    "start_time": "2021-09-16T10:14:30.408Z"
   },
   {
    "duration": 98,
    "start_time": "2021-09-16T10:14:42.481Z"
   },
   {
    "duration": 354,
    "start_time": "2021-09-16T10:14:46.278Z"
   },
   {
    "duration": 356,
    "start_time": "2021-09-16T10:14:51.522Z"
   },
   {
    "duration": 20,
    "start_time": "2021-09-16T10:14:54.729Z"
   },
   {
    "duration": 23,
    "start_time": "2021-09-16T10:16:28.486Z"
   },
   {
    "duration": 812,
    "start_time": "2021-09-16T10:18:09.953Z"
   },
   {
    "duration": 390,
    "start_time": "2021-09-16T10:18:24.518Z"
   },
   {
    "duration": 21,
    "start_time": "2021-09-16T10:19:10.884Z"
   },
   {
    "duration": 21,
    "start_time": "2021-09-16T10:25:29.608Z"
   },
   {
    "duration": 374,
    "start_time": "2021-09-16T10:25:46.067Z"
   },
   {
    "duration": 338,
    "start_time": "2021-09-16T10:25:57.484Z"
   },
   {
    "duration": 22,
    "start_time": "2021-09-16T10:35:21.249Z"
   },
   {
    "duration": 22,
    "start_time": "2021-09-16T10:35:36.075Z"
   },
   {
    "duration": 21,
    "start_time": "2021-09-16T10:36:40.603Z"
   },
   {
    "duration": 21,
    "start_time": "2021-09-16T10:36:44.802Z"
   },
   {
    "duration": 29,
    "start_time": "2021-09-16T10:37:24.189Z"
   },
   {
    "duration": 20,
    "start_time": "2021-09-16T10:38:22.708Z"
   },
   {
    "duration": 31,
    "start_time": "2021-09-16T10:38:42.411Z"
   },
   {
    "duration": 10,
    "start_time": "2021-09-16T10:39:09.581Z"
   },
   {
    "duration": 10,
    "start_time": "2021-09-16T10:44:11.149Z"
   },
   {
    "duration": 3469,
    "start_time": "2021-09-16T10:50:48.626Z"
   },
   {
    "duration": 26,
    "start_time": "2021-09-16T10:51:01.007Z"
   },
   {
    "duration": 22,
    "start_time": "2021-09-16T10:51:19.054Z"
   },
   {
    "duration": 11,
    "start_time": "2021-09-16T10:51:19.151Z"
   },
   {
    "duration": 21,
    "start_time": "2021-09-16T10:51:30.933Z"
   },
   {
    "duration": 422,
    "start_time": "2021-09-16T14:07:39.891Z"
   },
   {
    "duration": 334,
    "start_time": "2021-09-16T14:07:44.251Z"
   },
   {
    "duration": 341,
    "start_time": "2021-09-16T14:07:55.884Z"
   },
   {
    "duration": 49,
    "start_time": "2021-09-16T14:08:07.271Z"
   },
   {
    "duration": 21,
    "start_time": "2021-09-16T14:08:07.322Z"
   },
   {
    "duration": 70,
    "start_time": "2021-09-16T14:08:07.346Z"
   },
   {
    "duration": 86,
    "start_time": "2021-09-16T14:08:07.419Z"
   },
   {
    "duration": 29,
    "start_time": "2021-09-16T14:08:07.507Z"
   },
   {
    "duration": 43,
    "start_time": "2021-09-16T14:08:07.539Z"
   },
   {
    "duration": 12,
    "start_time": "2021-09-16T14:08:07.585Z"
   },
   {
    "duration": 38,
    "start_time": "2021-09-16T14:08:07.601Z"
   },
   {
    "duration": 81,
    "start_time": "2021-09-16T14:08:07.643Z"
   },
   {
    "duration": 22,
    "start_time": "2021-09-16T14:08:07.727Z"
   },
   {
    "duration": 391,
    "start_time": "2021-09-16T14:08:07.751Z"
   },
   {
    "duration": 21,
    "start_time": "2021-09-16T14:33:50.642Z"
   },
   {
    "duration": 359,
    "start_time": "2021-09-16T14:59:50.089Z"
   },
   {
    "duration": 46,
    "start_time": "2021-09-16T15:00:04.876Z"
   },
   {
    "duration": 22,
    "start_time": "2021-09-16T15:00:04.925Z"
   },
   {
    "duration": 66,
    "start_time": "2021-09-16T15:00:04.949Z"
   },
   {
    "duration": 86,
    "start_time": "2021-09-16T15:00:05.018Z"
   },
   {
    "duration": 31,
    "start_time": "2021-09-16T15:00:05.106Z"
   },
   {
    "duration": 58,
    "start_time": "2021-09-16T15:00:05.140Z"
   },
   {
    "duration": 34,
    "start_time": "2021-09-16T15:00:05.201Z"
   },
   {
    "duration": 66,
    "start_time": "2021-09-16T15:00:05.238Z"
   },
   {
    "duration": 33,
    "start_time": "2021-09-16T15:00:05.307Z"
   },
   {
    "duration": 47,
    "start_time": "2021-09-16T15:00:05.342Z"
   },
   {
    "duration": 526,
    "start_time": "2021-09-16T15:00:05.391Z"
   },
   {
    "duration": 60,
    "start_time": "2021-09-16T15:01:03.608Z"
   },
   {
    "duration": 20,
    "start_time": "2021-09-16T15:05:52.178Z"
   },
   {
    "duration": 122,
    "start_time": "2021-09-16T15:08:13.535Z"
   },
   {
    "duration": 129,
    "start_time": "2021-09-16T15:08:24.795Z"
   },
   {
    "duration": 110,
    "start_time": "2021-09-16T15:08:29.320Z"
   },
   {
    "duration": 20,
    "start_time": "2021-09-16T15:08:34.031Z"
   },
   {
    "duration": 120,
    "start_time": "2021-09-16T15:20:23.291Z"
   },
   {
    "duration": 16,
    "start_time": "2021-09-16T15:21:47.238Z"
   },
   {
    "duration": 115,
    "start_time": "2021-09-16T15:22:02.062Z"
   },
   {
    "duration": 530,
    "start_time": "2021-09-16T15:22:06.430Z"
   },
   {
    "duration": 28,
    "start_time": "2021-09-16T15:22:08.857Z"
   },
   {
    "duration": 124,
    "start_time": "2021-09-16T15:22:41.905Z"
   },
   {
    "duration": 142,
    "start_time": "2021-09-16T15:22:58.206Z"
   },
   {
    "duration": 104,
    "start_time": "2021-09-16T15:23:03.796Z"
   },
   {
    "duration": 108,
    "start_time": "2021-09-16T15:23:25.009Z"
   },
   {
    "duration": 187,
    "start_time": "2021-09-16T15:23:30.755Z"
   },
   {
    "duration": 484,
    "start_time": "2021-09-16T15:24:49.013Z"
   },
   {
    "duration": 254,
    "start_time": "2021-09-16T15:24:53.632Z"
   },
   {
    "duration": 131,
    "start_time": "2021-09-16T15:25:10.769Z"
   },
   {
    "duration": 380,
    "start_time": "2021-09-16T15:25:43.244Z"
   },
   {
    "duration": 357,
    "start_time": "2021-09-16T15:25:53.057Z"
   },
   {
    "duration": 383,
    "start_time": "2021-09-16T15:25:58.667Z"
   },
   {
    "duration": 124,
    "start_time": "2021-09-16T15:26:04.456Z"
   },
   {
    "duration": 120,
    "start_time": "2021-09-16T15:26:06.944Z"
   },
   {
    "duration": 903,
    "start_time": "2021-09-16T19:03:14.512Z"
   },
   {
    "duration": 1047,
    "start_time": "2021-09-16T19:03:20.429Z"
   },
   {
    "duration": 46,
    "start_time": "2021-09-16T19:03:23.581Z"
   },
   {
    "duration": 19,
    "start_time": "2021-09-16T19:03:23.630Z"
   },
   {
    "duration": 66,
    "start_time": "2021-09-16T19:03:23.652Z"
   },
   {
    "duration": 90,
    "start_time": "2021-09-16T19:03:23.720Z"
   },
   {
    "duration": 29,
    "start_time": "2021-09-16T19:03:23.813Z"
   },
   {
    "duration": 43,
    "start_time": "2021-09-16T19:03:23.845Z"
   },
   {
    "duration": 9,
    "start_time": "2021-09-16T19:03:23.890Z"
   },
   {
    "duration": 43,
    "start_time": "2021-09-16T19:03:23.902Z"
   },
   {
    "duration": 63,
    "start_time": "2021-09-16T19:03:23.949Z"
   },
   {
    "duration": 37,
    "start_time": "2021-09-16T19:03:24.015Z"
   },
   {
    "duration": 1295,
    "start_time": "2021-09-16T19:03:24.055Z"
   },
   {
    "duration": -1906,
    "start_time": "2021-09-16T19:03:27.259Z"
   },
   {
    "duration": 28,
    "start_time": "2021-09-16T19:03:46.677Z"
   },
   {
    "duration": 31,
    "start_time": "2021-09-16T19:03:56.532Z"
   },
   {
    "duration": 22,
    "start_time": "2021-09-16T19:04:42.692Z"
   },
   {
    "duration": 34,
    "start_time": "2021-09-16T19:06:33.267Z"
   },
   {
    "duration": 17,
    "start_time": "2021-09-16T19:06:44.339Z"
   },
   {
    "duration": 20,
    "start_time": "2021-09-16T19:06:46.650Z"
   },
   {
    "duration": 33,
    "start_time": "2021-09-16T19:06:55.466Z"
   },
   {
    "duration": 33,
    "start_time": "2021-09-16T19:07:28.538Z"
   },
   {
    "duration": 337,
    "start_time": "2021-09-16T19:08:00.947Z"
   },
   {
    "duration": 31,
    "start_time": "2021-09-16T19:08:04.929Z"
   },
   {
    "duration": 29,
    "start_time": "2021-09-16T19:08:15.873Z"
   },
   {
    "duration": 29,
    "start_time": "2021-09-16T19:08:25.137Z"
   },
   {
    "duration": 29,
    "start_time": "2021-09-16T19:09:46.928Z"
   },
   {
    "duration": 30,
    "start_time": "2021-09-16T19:15:25.592Z"
   },
   {
    "duration": 30,
    "start_time": "2021-09-16T19:16:06.651Z"
   },
   {
    "duration": 20,
    "start_time": "2021-09-16T19:16:25.491Z"
   },
   {
    "duration": 31,
    "start_time": "2021-09-16T19:16:55.242Z"
   },
   {
    "duration": 48,
    "start_time": "2021-09-16T19:17:57.977Z"
   },
   {
    "duration": 370,
    "start_time": "2021-09-16T19:20:16.192Z"
   },
   {
    "duration": 8,
    "start_time": "2021-09-16T19:20:34.655Z"
   },
   {
    "duration": 31,
    "start_time": "2021-09-16T19:22:21.142Z"
   },
   {
    "duration": 27,
    "start_time": "2021-09-16T19:22:26.342Z"
   },
   {
    "duration": 24,
    "start_time": "2021-09-16T19:22:34.630Z"
   },
   {
    "duration": 22,
    "start_time": "2021-09-16T19:23:00.238Z"
   },
   {
    "duration": 21,
    "start_time": "2021-09-16T19:23:32.309Z"
   },
   {
    "duration": 1715,
    "start_time": "2021-09-16T19:24:35.038Z"
   },
   {
    "duration": 37,
    "start_time": "2021-09-16T19:27:01.314Z"
   },
   {
    "duration": 343,
    "start_time": "2021-09-16T19:28:16.113Z"
   },
   {
    "duration": 22,
    "start_time": "2021-09-16T19:28:37.177Z"
   },
   {
    "duration": 32,
    "start_time": "2021-09-16T19:28:57.793Z"
   },
   {
    "duration": 49,
    "start_time": "2021-09-16T19:29:17.425Z"
   },
   {
    "duration": 47,
    "start_time": "2021-09-16T19:29:19.930Z"
   },
   {
    "duration": 21,
    "start_time": "2021-09-16T19:29:19.981Z"
   },
   {
    "duration": 53,
    "start_time": "2021-09-16T19:29:20.006Z"
   },
   {
    "duration": 94,
    "start_time": "2021-09-16T19:29:20.062Z"
   },
   {
    "duration": 47,
    "start_time": "2021-09-16T19:29:20.159Z"
   },
   {
    "duration": 24,
    "start_time": "2021-09-16T19:29:20.209Z"
   },
   {
    "duration": 64,
    "start_time": "2021-09-16T19:29:20.236Z"
   },
   {
    "duration": 36,
    "start_time": "2021-09-16T19:29:20.303Z"
   },
   {
    "duration": 65,
    "start_time": "2021-09-16T19:29:20.343Z"
   },
   {
    "duration": 22,
    "start_time": "2021-09-16T19:29:20.411Z"
   },
   {
    "duration": 64,
    "start_time": "2021-09-16T19:29:20.436Z"
   },
   {
    "duration": 7,
    "start_time": "2021-09-16T19:29:20.502Z"
   },
   {
    "duration": 30,
    "start_time": "2021-09-16T19:29:20.512Z"
   },
   {
    "duration": 52,
    "start_time": "2021-09-16T19:29:20.544Z"
   },
   {
    "duration": 37,
    "start_time": "2021-09-16T19:30:32.769Z"
   },
   {
    "duration": 45,
    "start_time": "2021-09-16T19:32:02.855Z"
   },
   {
    "duration": 36,
    "start_time": "2021-09-16T19:32:23.182Z"
   },
   {
    "duration": 30,
    "start_time": "2021-09-16T19:33:19.502Z"
   },
   {
    "duration": 382,
    "start_time": "2021-09-16T19:33:25.789Z"
   },
   {
    "duration": 57,
    "start_time": "2021-09-16T19:33:33.797Z"
   },
   {
    "duration": 24,
    "start_time": "2021-09-16T19:34:38.004Z"
   },
   {
    "duration": 39,
    "start_time": "2021-09-16T19:34:38.521Z"
   },
   {
    "duration": 37,
    "start_time": "2021-09-16T19:35:52.539Z"
   },
   {
    "duration": 55,
    "start_time": "2021-09-16T19:36:14.699Z"
   },
   {
    "duration": 413,
    "start_time": "2021-09-16T19:36:23.483Z"
   },
   {
    "duration": 36,
    "start_time": "2021-09-16T19:36:38.954Z"
   },
   {
    "duration": 49,
    "start_time": "2021-09-16T19:40:20.163Z"
   },
   {
    "duration": 24,
    "start_time": "2021-09-16T19:40:20.215Z"
   },
   {
    "duration": 68,
    "start_time": "2021-09-16T19:40:20.243Z"
   },
   {
    "duration": 88,
    "start_time": "2021-09-16T19:40:20.313Z"
   },
   {
    "duration": 30,
    "start_time": "2021-09-16T19:40:20.404Z"
   },
   {
    "duration": 47,
    "start_time": "2021-09-16T19:40:20.436Z"
   },
   {
    "duration": 39,
    "start_time": "2021-09-16T19:40:20.486Z"
   },
   {
    "duration": 61,
    "start_time": "2021-09-16T19:40:20.528Z"
   },
   {
    "duration": 35,
    "start_time": "2021-09-16T19:40:20.593Z"
   },
   {
    "duration": 58,
    "start_time": "2021-09-16T19:40:20.631Z"
   },
   {
    "duration": 22,
    "start_time": "2021-09-16T19:40:20.692Z"
   },
   {
    "duration": 12,
    "start_time": "2021-09-16T19:40:20.717Z"
   },
   {
    "duration": 59,
    "start_time": "2021-09-16T19:40:20.731Z"
   },
   {
    "duration": 5,
    "start_time": "2021-09-16T19:40:20.793Z"
   },
   {
    "duration": 15,
    "start_time": "2021-09-16T19:40:20.801Z"
   },
   {
    "duration": 36,
    "start_time": "2021-09-16T19:40:35.551Z"
   },
   {
    "duration": 21,
    "start_time": "2021-09-16T19:41:17.334Z"
   },
   {
    "duration": 28,
    "start_time": "2021-09-16T19:41:29.928Z"
   },
   {
    "duration": 110,
    "start_time": "2021-09-16T19:41:44.200Z"
   },
   {
    "duration": 117,
    "start_time": "2021-09-16T19:42:03.126Z"
   },
   {
    "duration": 29,
    "start_time": "2021-09-16T19:42:33.638Z"
   },
   {
    "duration": 117,
    "start_time": "2021-09-16T19:42:43.502Z"
   },
   {
    "duration": 31,
    "start_time": "2021-09-16T19:42:57.766Z"
   },
   {
    "duration": 29,
    "start_time": "2021-09-16T19:45:13.842Z"
   },
   {
    "duration": 9,
    "start_time": "2021-09-16T19:45:20.627Z"
   },
   {
    "duration": 324,
    "start_time": "2021-09-16T19:46:12.963Z"
   },
   {
    "duration": 46,
    "start_time": "2021-09-16T19:46:16.948Z"
   },
   {
    "duration": 18,
    "start_time": "2021-09-16T19:46:53.108Z"
   },
   {
    "duration": 49,
    "start_time": "2021-09-16T19:47:54.052Z"
   },
   {
    "duration": 20,
    "start_time": "2021-09-16T19:47:54.104Z"
   },
   {
    "duration": 70,
    "start_time": "2021-09-16T19:47:54.128Z"
   },
   {
    "duration": 96,
    "start_time": "2021-09-16T19:47:54.200Z"
   },
   {
    "duration": 28,
    "start_time": "2021-09-16T19:47:54.298Z"
   },
   {
    "duration": 15,
    "start_time": "2021-09-16T19:47:54.329Z"
   },
   {
    "duration": 72,
    "start_time": "2021-09-16T19:47:54.346Z"
   },
   {
    "duration": 35,
    "start_time": "2021-09-16T19:47:54.420Z"
   },
   {
    "duration": 34,
    "start_time": "2021-09-16T19:47:54.483Z"
   },
   {
    "duration": 22,
    "start_time": "2021-09-16T19:47:54.519Z"
   },
   {
    "duration": 53,
    "start_time": "2021-09-16T19:47:54.544Z"
   },
   {
    "duration": 11,
    "start_time": "2021-09-16T19:47:54.600Z"
   },
   {
    "duration": 71,
    "start_time": "2021-09-16T19:47:54.613Z"
   },
   {
    "duration": 8,
    "start_time": "2021-09-16T19:47:54.686Z"
   },
   {
    "duration": 30,
    "start_time": "2021-09-16T19:48:28.009Z"
   },
   {
    "duration": 8,
    "start_time": "2021-09-16T19:48:33.097Z"
   },
   {
    "duration": 324,
    "start_time": "2021-09-16T19:58:03.768Z"
   },
   {
    "duration": 336,
    "start_time": "2021-09-16T19:58:18.793Z"
   },
   {
    "duration": 427,
    "start_time": "2021-09-16T20:00:33.608Z"
   },
   {
    "duration": 5,
    "start_time": "2021-09-16T20:01:14.277Z"
   },
   {
    "duration": 6,
    "start_time": "2021-09-16T20:01:23.173Z"
   },
   {
    "duration": 8,
    "start_time": "2021-09-16T20:13:20.366Z"
   },
   {
    "duration": 31,
    "start_time": "2021-09-16T20:13:27.236Z"
   },
   {
    "duration": 8,
    "start_time": "2021-09-16T20:13:49.888Z"
   },
   {
    "duration": 29,
    "start_time": "2021-09-16T20:13:50.396Z"
   },
   {
    "duration": 35,
    "start_time": "2021-09-16T20:13:55.491Z"
   },
   {
    "duration": 113,
    "start_time": "2021-09-16T20:14:29.091Z"
   },
   {
    "duration": 105,
    "start_time": "2021-09-16T20:15:02.676Z"
   },
   {
    "duration": 21,
    "start_time": "2021-09-16T20:15:50.810Z"
   },
   {
    "duration": 23,
    "start_time": "2021-09-16T20:16:23.482Z"
   },
   {
    "duration": 187,
    "start_time": "2021-09-16T20:25:27.643Z"
   },
   {
    "duration": 30,
    "start_time": "2021-09-16T20:25:27.833Z"
   },
   {
    "duration": 56,
    "start_time": "2021-09-16T20:25:27.866Z"
   },
   {
    "duration": 111,
    "start_time": "2021-09-16T20:25:27.925Z"
   },
   {
    "duration": 51,
    "start_time": "2021-09-16T20:25:28.039Z"
   },
   {
    "duration": 13,
    "start_time": "2021-09-16T20:25:28.093Z"
   },
   {
    "duration": 40,
    "start_time": "2021-09-16T20:25:28.109Z"
   },
   {
    "duration": 36,
    "start_time": "2021-09-16T20:25:28.182Z"
   },
   {
    "duration": 66,
    "start_time": "2021-09-16T20:25:28.221Z"
   },
   {
    "duration": 22,
    "start_time": "2021-09-16T20:25:28.289Z"
   },
   {
    "duration": 22,
    "start_time": "2021-09-16T20:25:28.313Z"
   },
   {
    "duration": 47,
    "start_time": "2021-09-16T20:25:28.338Z"
   },
   {
    "duration": 38,
    "start_time": "2021-09-16T20:25:28.388Z"
   },
   {
    "duration": 9,
    "start_time": "2021-09-16T20:25:28.429Z"
   },
   {
    "duration": 69,
    "start_time": "2021-09-16T20:25:28.440Z"
   },
   {
    "duration": 21,
    "start_time": "2021-09-16T20:25:28.513Z"
   },
   {
    "duration": -1982,
    "start_time": "2021-09-16T20:27:28.711Z"
   },
   {
    "duration": -1982,
    "start_time": "2021-09-16T20:27:28.712Z"
   },
   {
    "duration": -1980,
    "start_time": "2021-09-16T20:27:28.712Z"
   },
   {
    "duration": -1980,
    "start_time": "2021-09-16T20:27:28.714Z"
   },
   {
    "duration": -1981,
    "start_time": "2021-09-16T20:27:28.717Z"
   },
   {
    "duration": -2006,
    "start_time": "2021-09-16T20:27:28.744Z"
   },
   {
    "duration": -2009,
    "start_time": "2021-09-16T20:27:28.748Z"
   },
   {
    "duration": -2011,
    "start_time": "2021-09-16T20:27:28.752Z"
   },
   {
    "duration": -2014,
    "start_time": "2021-09-16T20:27:28.756Z"
   },
   {
    "duration": -2014,
    "start_time": "2021-09-16T20:27:28.758Z"
   },
   {
    "duration": -2015,
    "start_time": "2021-09-16T20:27:28.760Z"
   },
   {
    "duration": -2016,
    "start_time": "2021-09-16T20:27:28.762Z"
   },
   {
    "duration": -2018,
    "start_time": "2021-09-16T20:27:28.766Z"
   },
   {
    "duration": -2020,
    "start_time": "2021-09-16T20:27:28.769Z"
   },
   {
    "duration": -2023,
    "start_time": "2021-09-16T20:27:28.773Z"
   },
   {
    "duration": -2022,
    "start_time": "2021-09-16T20:27:28.774Z"
   },
   {
    "duration": -2024,
    "start_time": "2021-09-16T20:27:28.777Z"
   },
   {
    "duration": 53,
    "start_time": "2021-09-16T20:27:47.644Z"
   },
   {
    "duration": 24,
    "start_time": "2021-09-16T20:27:47.700Z"
   },
   {
    "duration": 68,
    "start_time": "2021-09-16T20:27:47.727Z"
   },
   {
    "duration": 94,
    "start_time": "2021-09-16T20:27:47.798Z"
   },
   {
    "duration": 33,
    "start_time": "2021-09-16T20:27:47.895Z"
   },
   {
    "duration": 51,
    "start_time": "2021-09-16T20:27:47.931Z"
   },
   {
    "duration": 42,
    "start_time": "2021-09-16T20:27:47.985Z"
   },
   {
    "duration": 61,
    "start_time": "2021-09-16T20:27:48.030Z"
   },
   {
    "duration": 33,
    "start_time": "2021-09-16T20:27:48.095Z"
   },
   {
    "duration": 53,
    "start_time": "2021-09-16T20:27:48.131Z"
   },
   {
    "duration": 23,
    "start_time": "2021-09-16T20:27:48.186Z"
   },
   {
    "duration": 10,
    "start_time": "2021-09-16T20:27:48.211Z"
   },
   {
    "duration": 72,
    "start_time": "2021-09-16T20:27:48.223Z"
   },
   {
    "duration": 8,
    "start_time": "2021-09-16T20:27:48.297Z"
   },
   {
    "duration": 44,
    "start_time": "2021-09-16T20:27:48.307Z"
   },
   {
    "duration": 45,
    "start_time": "2021-09-16T20:27:48.354Z"
   },
   {
    "duration": 116,
    "start_time": "2021-09-16T20:27:48.402Z"
   },
   {
    "duration": 154,
    "start_time": "2021-09-16T20:28:04.023Z"
   },
   {
    "duration": 378,
    "start_time": "2021-09-16T20:28:08.263Z"
   },
   {
    "duration": 445,
    "start_time": "2021-09-16T20:28:11.271Z"
   },
   {
    "duration": 352,
    "start_time": "2021-09-16T20:29:11.270Z"
   },
   {
    "duration": 42,
    "start_time": "2021-09-16T20:29:35.494Z"
   },
   {
    "duration": 18,
    "start_time": "2021-09-16T20:29:45.987Z"
   },
   {
    "duration": 202,
    "start_time": "2021-09-16T20:30:23.966Z"
   },
   {
    "duration": 343,
    "start_time": "2021-09-16T20:30:31.870Z"
   },
   {
    "duration": 350,
    "start_time": "2021-09-16T20:30:37.821Z"
   },
   {
    "duration": 9,
    "start_time": "2021-09-16T20:31:19.004Z"
   },
   {
    "duration": 2897,
    "start_time": "2021-09-16T20:31:39.651Z"
   },
   {
    "duration": 35,
    "start_time": "2021-09-16T20:31:43.236Z"
   },
   {
    "duration": 32,
    "start_time": "2021-09-16T20:31:50.657Z"
   },
   {
    "duration": 275,
    "start_time": "2021-09-16T20:32:10.476Z"
   },
   {
    "duration": 275,
    "start_time": "2021-09-16T20:32:18.011Z"
   },
   {
    "duration": 272,
    "start_time": "2021-09-16T20:34:40.662Z"
   },
   {
    "duration": 325,
    "start_time": "2021-09-16T20:34:59.273Z"
   },
   {
    "duration": 49,
    "start_time": "2021-09-16T20:36:46.031Z"
   },
   {
    "duration": 13,
    "start_time": "2021-09-16T20:37:07.593Z"
   },
   {
    "duration": 13,
    "start_time": "2021-09-16T20:39:53.533Z"
   },
   {
    "duration": 108,
    "start_time": "2021-09-16T20:43:12.015Z"
   },
   {
    "duration": 261,
    "start_time": "2021-09-16T20:43:22.314Z"
   },
   {
    "duration": 12,
    "start_time": "2021-09-16T20:43:40.858Z"
   },
   {
    "duration": 30,
    "start_time": "2021-09-16T21:01:44.063Z"
   },
   {
    "duration": 388,
    "start_time": "2021-09-16T21:02:30.035Z"
   },
   {
    "duration": 385,
    "start_time": "2021-09-16T21:02:49.007Z"
   },
   {
    "duration": 412,
    "start_time": "2021-09-16T21:03:00.938Z"
   },
   {
    "duration": 512,
    "start_time": "2021-09-16T21:03:22.258Z"
   },
   {
    "duration": 502,
    "start_time": "2021-09-16T21:04:50.447Z"
   },
   {
    "duration": 482,
    "start_time": "2021-09-16T21:07:35.886Z"
   },
   {
    "duration": 527,
    "start_time": "2021-09-16T21:07:48.958Z"
   },
   {
    "duration": 48,
    "start_time": "2021-09-16T21:08:00.488Z"
   },
   {
    "duration": 21,
    "start_time": "2021-09-16T21:08:00.539Z"
   },
   {
    "duration": 69,
    "start_time": "2021-09-16T21:08:00.564Z"
   },
   {
    "duration": 98,
    "start_time": "2021-09-16T21:08:00.636Z"
   },
   {
    "duration": 28,
    "start_time": "2021-09-16T21:08:00.737Z"
   },
   {
    "duration": 15,
    "start_time": "2021-09-16T21:08:00.783Z"
   },
   {
    "duration": 41,
    "start_time": "2021-09-16T21:08:00.800Z"
   },
   {
    "duration": 64,
    "start_time": "2021-09-16T21:08:00.845Z"
   },
   {
    "duration": 33,
    "start_time": "2021-09-16T21:08:00.912Z"
   },
   {
    "duration": 55,
    "start_time": "2021-09-16T21:08:00.948Z"
   },
   {
    "duration": 22,
    "start_time": "2021-09-16T21:08:01.005Z"
   },
   {
    "duration": 17,
    "start_time": "2021-09-16T21:08:01.029Z"
   },
   {
    "duration": 65,
    "start_time": "2021-09-16T21:08:01.048Z"
   },
   {
    "duration": 8,
    "start_time": "2021-09-16T21:08:01.115Z"
   },
   {
    "duration": 78,
    "start_time": "2021-09-16T21:08:01.126Z"
   },
   {
    "duration": 20,
    "start_time": "2021-09-16T21:08:01.207Z"
   },
   {
    "duration": 303,
    "start_time": "2021-09-16T21:08:01.229Z"
   },
   {
    "duration": 17,
    "start_time": "2021-09-16T21:08:01.535Z"
   },
   {
    "duration": 287,
    "start_time": "2021-09-16T21:08:01.582Z"
   },
   {
    "duration": 21,
    "start_time": "2021-09-16T21:08:01.872Z"
   },
   {
    "duration": 280,
    "start_time": "2021-09-16T21:08:01.896Z"
   },
   {
    "duration": 14,
    "start_time": "2021-09-16T21:08:02.178Z"
   },
   {
    "duration": 54,
    "start_time": "2021-09-16T21:08:02.196Z"
   },
   {
    "duration": 513,
    "start_time": "2021-09-16T21:08:02.252Z"
   },
   {
    "duration": 481,
    "start_time": "2021-09-16T21:08:14.477Z"
   },
   {
    "duration": 477,
    "start_time": "2021-09-16T21:09:15.308Z"
   },
   {
    "duration": 515,
    "start_time": "2021-09-16T21:12:46.842Z"
   },
   {
    "duration": 512,
    "start_time": "2021-09-16T21:13:22.577Z"
   },
   {
    "duration": 127,
    "start_time": "2021-09-16T21:14:44.320Z"
   },
   {
    "duration": 11,
    "start_time": "2021-09-16T21:15:45.857Z"
   },
   {
    "duration": 131,
    "start_time": "2021-09-16T21:17:00.063Z"
   },
   {
    "duration": 525,
    "start_time": "2021-09-16T21:18:00.445Z"
   },
   {
    "duration": 420,
    "start_time": "2021-09-16T21:18:09.926Z"
   },
   {
    "duration": 409,
    "start_time": "2021-09-16T21:20:49.891Z"
   },
   {
    "duration": 11,
    "start_time": "2021-09-16T21:21:36.562Z"
   },
   {
    "duration": 10,
    "start_time": "2021-09-16T21:21:49.566Z"
   },
   {
    "duration": 406,
    "start_time": "2021-09-16T21:25:34.500Z"
   },
   {
    "duration": 437,
    "start_time": "2021-09-16T21:25:43.551Z"
   },
   {
    "duration": 410,
    "start_time": "2021-09-16T21:25:48.823Z"
   },
   {
    "duration": 468,
    "start_time": "2021-09-16T21:26:35.879Z"
   },
   {
    "duration": 460,
    "start_time": "2021-09-16T21:26:57.702Z"
   },
   {
    "duration": 21,
    "start_time": "2021-09-16T21:28:20.593Z"
   },
   {
    "duration": 20,
    "start_time": "2021-09-16T21:28:24.717Z"
   },
   {
    "duration": 111,
    "start_time": "2021-09-16T21:28:32.028Z"
   },
   {
    "duration": 1382,
    "start_time": "2021-09-16T21:28:35.996Z"
   },
   {
    "duration": 21,
    "start_time": "2021-09-16T21:28:47.181Z"
   },
   {
    "duration": 25,
    "start_time": "2021-09-16T21:28:53.084Z"
   },
   {
    "duration": 48,
    "start_time": "2021-09-16T21:37:48.437Z"
   },
   {
    "duration": 20,
    "start_time": "2021-09-16T21:37:48.488Z"
   },
   {
    "duration": 43,
    "start_time": "2021-09-16T21:37:48.511Z"
   },
   {
    "duration": 93,
    "start_time": "2021-09-16T21:37:48.557Z"
   },
   {
    "duration": 46,
    "start_time": "2021-09-16T21:37:48.652Z"
   },
   {
    "duration": 14,
    "start_time": "2021-09-16T21:37:48.700Z"
   },
   {
    "duration": 68,
    "start_time": "2021-09-16T21:37:48.717Z"
   },
   {
    "duration": 35,
    "start_time": "2021-09-16T21:37:48.788Z"
   },
   {
    "duration": 59,
    "start_time": "2021-09-16T21:37:48.827Z"
   },
   {
    "duration": 21,
    "start_time": "2021-09-16T21:37:48.890Z"
   },
   {
    "duration": 20,
    "start_time": "2021-09-16T21:37:48.914Z"
   },
   {
    "duration": 52,
    "start_time": "2021-09-16T21:37:48.936Z"
   },
   {
    "duration": 31,
    "start_time": "2021-09-16T21:37:48.990Z"
   },
   {
    "duration": 7,
    "start_time": "2021-09-16T21:37:49.024Z"
   },
   {
    "duration": 75,
    "start_time": "2021-09-16T21:37:49.033Z"
   },
   {
    "duration": 19,
    "start_time": "2021-09-16T21:37:49.111Z"
   },
   {
    "duration": 301,
    "start_time": "2021-09-16T21:37:49.132Z"
   },
   {
    "duration": 13,
    "start_time": "2021-09-16T21:37:49.436Z"
   },
   {
    "duration": 307,
    "start_time": "2021-09-16T21:37:49.451Z"
   },
   {
    "duration": 26,
    "start_time": "2021-09-16T21:37:49.760Z"
   },
   {
    "duration": 274,
    "start_time": "2021-09-16T21:37:49.788Z"
   },
   {
    "duration": 23,
    "start_time": "2021-09-16T21:37:50.065Z"
   },
   {
    "duration": 33,
    "start_time": "2021-09-16T21:37:50.090Z"
   },
   {
    "duration": 504,
    "start_time": "2021-09-16T21:37:50.126Z"
   },
   {
    "duration": 10,
    "start_time": "2021-09-16T21:37:50.633Z"
   },
   {
    "duration": 477,
    "start_time": "2021-09-16T21:37:50.646Z"
   },
   {
    "duration": 11,
    "start_time": "2021-09-16T21:37:51.127Z"
   },
   {
    "duration": 15,
    "start_time": "2021-09-16T21:37:51.140Z"
   },
   {
    "duration": 14,
    "start_time": "2021-09-16T21:39:40.880Z"
   },
   {
    "duration": 49,
    "start_time": "2021-09-16T21:41:00.347Z"
   },
   {
    "duration": 22,
    "start_time": "2021-09-16T21:41:00.399Z"
   },
   {
    "duration": 70,
    "start_time": "2021-09-16T21:41:00.424Z"
   },
   {
    "duration": 85,
    "start_time": "2021-09-16T21:41:00.497Z"
   },
   {
    "duration": 29,
    "start_time": "2021-09-16T21:41:00.585Z"
   },
   {
    "duration": 22,
    "start_time": "2021-09-16T21:41:00.616Z"
   },
   {
    "duration": 71,
    "start_time": "2021-09-16T21:41:00.641Z"
   },
   {
    "duration": 34,
    "start_time": "2021-09-16T21:41:00.715Z"
   },
   {
    "duration": 58,
    "start_time": "2021-09-16T21:41:00.754Z"
   },
   {
    "duration": 21,
    "start_time": "2021-09-16T21:41:00.815Z"
   },
   {
    "duration": 48,
    "start_time": "2021-09-16T21:41:00.839Z"
   },
   {
    "duration": 11,
    "start_time": "2021-09-16T21:41:00.890Z"
   },
   {
    "duration": 47,
    "start_time": "2021-09-16T21:41:00.903Z"
   },
   {
    "duration": 32,
    "start_time": "2021-09-16T21:41:00.953Z"
   },
   {
    "duration": 48,
    "start_time": "2021-09-16T21:41:00.988Z"
   },
   {
    "duration": 52,
    "start_time": "2021-09-16T21:41:01.038Z"
   },
   {
    "duration": 292,
    "start_time": "2021-09-16T21:41:01.093Z"
   },
   {
    "duration": 14,
    "start_time": "2021-09-16T21:41:01.388Z"
   },
   {
    "duration": 322,
    "start_time": "2021-09-16T21:41:01.405Z"
   },
   {
    "duration": 14,
    "start_time": "2021-09-16T21:41:01.730Z"
   },
   {
    "duration": 311,
    "start_time": "2021-09-16T21:41:01.746Z"
   },
   {
    "duration": 24,
    "start_time": "2021-09-16T21:41:02.059Z"
   },
   {
    "duration": 29,
    "start_time": "2021-09-16T21:41:02.086Z"
   },
   {
    "duration": 467,
    "start_time": "2021-09-16T21:41:02.118Z"
   },
   {
    "duration": 11,
    "start_time": "2021-09-16T21:41:02.588Z"
   },
   {
    "duration": 430,
    "start_time": "2021-09-16T21:41:02.602Z"
   },
   {
    "duration": 11,
    "start_time": "2021-09-16T21:41:03.037Z"
   },
   {
    "duration": 37,
    "start_time": "2021-09-16T21:41:03.051Z"
   },
   {
    "duration": 10,
    "start_time": "2021-09-16T21:41:03.091Z"
   },
   {
    "duration": 152,
    "start_time": "2021-09-16T21:43:19.607Z"
   },
   {
    "duration": 32,
    "start_time": "2021-09-16T21:43:30.037Z"
   },
   {
    "duration": 31,
    "start_time": "2021-09-16T21:43:48.565Z"
   },
   {
    "duration": 352,
    "start_time": "2021-09-16T21:47:04.734Z"
   },
   {
    "duration": 389,
    "start_time": "2021-09-16T21:47:16.226Z"
   },
   {
    "duration": 474,
    "start_time": "2021-09-16T21:47:31.957Z"
   },
   {
    "duration": 379,
    "start_time": "2021-09-16T21:47:35.453Z"
   },
   {
    "duration": 33,
    "start_time": "2021-09-16T21:47:44.149Z"
   },
   {
    "duration": 1178,
    "start_time": "2021-09-16T21:47:55.388Z"
   },
   {
    "duration": 38,
    "start_time": "2021-09-16T21:48:00.085Z"
   },
   {
    "duration": 28,
    "start_time": "2021-09-16T21:48:23.917Z"
   },
   {
    "duration": 38,
    "start_time": "2021-09-16T21:48:29.212Z"
   },
   {
    "duration": 25,
    "start_time": "2021-09-16T21:48:57.612Z"
   },
   {
    "duration": 34,
    "start_time": "2021-09-16T21:49:01.140Z"
   },
   {
    "duration": 34,
    "start_time": "2021-09-16T21:49:30.076Z"
   },
   {
    "duration": 45,
    "start_time": "2021-09-17T06:27:45.143Z"
   },
   {
    "duration": 54,
    "start_time": "2021-09-17T06:28:00.962Z"
   },
   {
    "duration": 1346,
    "start_time": "2021-09-17T09:35:48.615Z"
   },
   {
    "duration": 44,
    "start_time": "2021-09-17T09:35:54.900Z"
   },
   {
    "duration": 114,
    "start_time": "2021-09-17T09:51:58.695Z"
   },
   {
    "duration": 370,
    "start_time": "2021-09-17T11:29:22.863Z"
   },
   {
    "duration": 11053,
    "start_time": "2021-09-17T11:29:30.793Z"
   },
   {
    "duration": 10905,
    "start_time": "2021-09-17T11:31:53.060Z"
   },
   {
    "duration": 10584,
    "start_time": "2021-09-17T11:33:39.074Z"
   },
   {
    "duration": 75,
    "start_time": "2021-09-17T11:34:33.709Z"
   },
   {
    "duration": 39,
    "start_time": "2021-09-17T11:35:55.682Z"
   },
   {
    "duration": 39,
    "start_time": "2021-09-17T11:39:02.838Z"
   },
   {
    "duration": 47,
    "start_time": "2021-09-17T11:43:04.246Z"
   },
   {
    "duration": 34,
    "start_time": "2021-09-17T11:53:41.060Z"
   },
   {
    "duration": 352,
    "start_time": "2021-09-17T11:59:37.547Z"
   },
   {
    "duration": 115,
    "start_time": "2021-09-17T11:59:56.288Z"
   },
   {
    "duration": 114,
    "start_time": "2021-09-17T12:00:06.474Z"
   },
   {
    "duration": 111,
    "start_time": "2021-09-17T12:00:30.524Z"
   },
   {
    "duration": 119,
    "start_time": "2021-09-17T12:00:37.386Z"
   },
   {
    "duration": 31,
    "start_time": "2021-09-17T12:00:46.475Z"
   },
   {
    "duration": 28,
    "start_time": "2021-09-17T12:02:52.889Z"
   },
   {
    "duration": 22,
    "start_time": "2021-09-17T12:03:50.474Z"
   },
   {
    "duration": 135,
    "start_time": "2021-09-17T12:04:31.768Z"
   },
   {
    "duration": 35,
    "start_time": "2021-09-17T12:04:58.813Z"
   },
   {
    "duration": 26,
    "start_time": "2021-09-17T12:05:16.549Z"
   },
   {
    "duration": 26,
    "start_time": "2021-09-17T13:35:20.827Z"
   },
   {
    "duration": 25,
    "start_time": "2021-09-17T13:35:34.428Z"
   },
   {
    "duration": 25,
    "start_time": "2021-09-17T13:35:56.845Z"
   },
   {
    "duration": 373,
    "start_time": "2021-09-17T13:42:01.062Z"
   },
   {
    "duration": 385,
    "start_time": "2021-09-17T13:42:04.653Z"
   },
   {
    "duration": 21,
    "start_time": "2021-09-17T13:42:14.838Z"
   },
   {
    "duration": 26,
    "start_time": "2021-09-17T13:42:28.397Z"
   },
   {
    "duration": 23,
    "start_time": "2021-09-17T13:47:58.367Z"
   },
   {
    "duration": 49,
    "start_time": "2021-09-17T13:48:07.724Z"
   },
   {
    "duration": 20,
    "start_time": "2021-09-17T13:48:07.776Z"
   },
   {
    "duration": 44,
    "start_time": "2021-09-17T13:48:07.799Z"
   },
   {
    "duration": 75,
    "start_time": "2021-09-17T13:48:07.881Z"
   },
   {
    "duration": 45,
    "start_time": "2021-09-17T13:48:07.959Z"
   },
   {
    "duration": 19,
    "start_time": "2021-09-17T13:48:08.007Z"
   },
   {
    "duration": 60,
    "start_time": "2021-09-17T13:48:08.029Z"
   },
   {
    "duration": 35,
    "start_time": "2021-09-17T13:48:08.093Z"
   },
   {
    "duration": 64,
    "start_time": "2021-09-17T13:48:08.131Z"
   },
   {
    "duration": 20,
    "start_time": "2021-09-17T13:48:08.198Z"
   },
   {
    "duration": 19,
    "start_time": "2021-09-17T13:48:08.221Z"
   },
   {
    "duration": 43,
    "start_time": "2021-09-17T13:48:08.243Z"
   },
   {
    "duration": 33,
    "start_time": "2021-09-17T13:48:08.288Z"
   },
   {
    "duration": 8,
    "start_time": "2021-09-17T13:48:08.323Z"
   },
   {
    "duration": 68,
    "start_time": "2021-09-17T13:48:08.333Z"
   },
   {
    "duration": 19,
    "start_time": "2021-09-17T13:48:08.403Z"
   },
   {
    "duration": 291,
    "start_time": "2021-09-17T13:48:08.424Z"
   },
   {
    "duration": 16,
    "start_time": "2021-09-17T13:48:08.718Z"
   },
   {
    "duration": 302,
    "start_time": "2021-09-17T13:48:08.736Z"
   },
   {
    "duration": 13,
    "start_time": "2021-09-17T13:48:09.041Z"
   },
   {
    "duration": 287,
    "start_time": "2021-09-17T13:48:09.056Z"
   },
   {
    "duration": 12,
    "start_time": "2021-09-17T13:48:09.346Z"
   },
   {
    "duration": 31,
    "start_time": "2021-09-17T13:48:09.383Z"
   },
   {
    "duration": 409,
    "start_time": "2021-09-17T13:48:09.417Z"
   },
   {
    "duration": 11,
    "start_time": "2021-09-17T13:48:09.828Z"
   },
   {
    "duration": 451,
    "start_time": "2021-09-17T13:48:09.841Z"
   },
   {
    "duration": 10,
    "start_time": "2021-09-17T13:48:10.295Z"
   },
   {
    "duration": 11,
    "start_time": "2021-09-17T13:48:10.308Z"
   },
   {
    "duration": 24,
    "start_time": "2021-09-17T13:48:10.321Z"
   },
   {
    "duration": 69,
    "start_time": "2021-09-17T13:48:10.348Z"
   },
   {
    "duration": 21,
    "start_time": "2021-09-17T13:48:10.419Z"
   },
   {
    "duration": 2039,
    "start_time": "2021-09-17T13:48:16.632Z"
   },
   {
    "duration": 25,
    "start_time": "2021-09-17T13:48:28.776Z"
   },
   {
    "duration": 52,
    "start_time": "2021-09-17T13:48:32.604Z"
   },
   {
    "duration": 29,
    "start_time": "2021-09-17T13:48:32.659Z"
   },
   {
    "duration": 51,
    "start_time": "2021-09-17T13:48:32.692Z"
   },
   {
    "duration": 106,
    "start_time": "2021-09-17T13:48:32.747Z"
   },
   {
    "duration": 45,
    "start_time": "2021-09-17T13:48:32.855Z"
   },
   {
    "duration": 16,
    "start_time": "2021-09-17T13:48:32.903Z"
   },
   {
    "duration": 38,
    "start_time": "2021-09-17T13:48:32.921Z"
   },
   {
    "duration": 35,
    "start_time": "2021-09-17T13:48:32.985Z"
   },
   {
    "duration": 60,
    "start_time": "2021-09-17T13:48:33.024Z"
   },
   {
    "duration": 20,
    "start_time": "2021-09-17T13:48:33.087Z"
   },
   {
    "duration": 20,
    "start_time": "2021-09-17T13:48:33.110Z"
   },
   {
    "duration": 11,
    "start_time": "2021-09-17T13:48:33.132Z"
   },
   {
    "duration": 36,
    "start_time": "2021-09-17T13:48:33.182Z"
   },
   {
    "duration": 8,
    "start_time": "2021-09-17T13:48:33.220Z"
   },
   {
    "duration": 64,
    "start_time": "2021-09-17T13:48:33.230Z"
   },
   {
    "duration": 19,
    "start_time": "2021-09-17T13:48:33.297Z"
   },
   {
    "duration": 294,
    "start_time": "2021-09-17T13:48:33.318Z"
   },
   {
    "duration": 12,
    "start_time": "2021-09-17T13:48:33.615Z"
   },
   {
    "duration": 294,
    "start_time": "2021-09-17T13:48:33.630Z"
   },
   {
    "duration": 13,
    "start_time": "2021-09-17T13:48:33.926Z"
   },
   {
    "duration": 296,
    "start_time": "2021-09-17T13:48:33.941Z"
   },
   {
    "duration": 14,
    "start_time": "2021-09-17T13:48:34.240Z"
   },
   {
    "duration": 67,
    "start_time": "2021-09-17T13:48:34.261Z"
   },
   {
    "duration": 645,
    "start_time": "2021-09-17T13:48:34.332Z"
   },
   {
    "duration": 10,
    "start_time": "2021-09-17T13:48:34.983Z"
   },
   {
    "duration": 418,
    "start_time": "2021-09-17T13:48:34.996Z"
   },
   {
    "duration": 11,
    "start_time": "2021-09-17T13:48:35.416Z"
   },
   {
    "duration": 20,
    "start_time": "2021-09-17T13:48:35.430Z"
   },
   {
    "duration": 35,
    "start_time": "2021-09-17T13:48:35.453Z"
   },
   {
    "duration": 43,
    "start_time": "2021-09-17T13:48:35.491Z"
   },
   {
    "duration": 49,
    "start_time": "2021-09-17T13:48:35.537Z"
   },
   {
    "duration": 175,
    "start_time": "2021-09-17T13:48:55.201Z"
   },
   {
    "duration": 111,
    "start_time": "2021-09-17T13:50:27.385Z"
   },
   {
    "duration": 21,
    "start_time": "2021-09-17T13:50:30.841Z"
   },
   {
    "duration": 23,
    "start_time": "2021-09-17T13:50:41.024Z"
   },
   {
    "duration": 23,
    "start_time": "2021-09-17T13:54:04.115Z"
   },
   {
    "duration": 23,
    "start_time": "2021-09-17T13:54:19.236Z"
   },
   {
    "duration": 23,
    "start_time": "2021-09-17T13:54:20.868Z"
   },
   {
    "duration": 23,
    "start_time": "2021-09-17T13:54:22.258Z"
   },
   {
    "duration": 895,
    "start_time": "2021-09-17T13:54:29.347Z"
   },
   {
    "duration": 23,
    "start_time": "2021-09-17T13:54:35.037Z"
   },
   {
    "duration": 22,
    "start_time": "2021-09-17T14:09:51.300Z"
   },
   {
    "duration": 23,
    "start_time": "2021-09-17T14:16:12.776Z"
   },
   {
    "duration": 49,
    "start_time": "2021-09-17T14:23:56.028Z"
   },
   {
    "duration": 21,
    "start_time": "2021-09-17T14:23:56.079Z"
   },
   {
    "duration": 48,
    "start_time": "2021-09-17T14:23:56.103Z"
   },
   {
    "duration": 89,
    "start_time": "2021-09-17T14:23:56.154Z"
   },
   {
    "duration": 48,
    "start_time": "2021-09-17T14:23:56.245Z"
   },
   {
    "duration": 16,
    "start_time": "2021-09-17T14:23:56.296Z"
   },
   {
    "duration": 39,
    "start_time": "2021-09-17T14:23:56.314Z"
   },
   {
    "duration": 60,
    "start_time": "2021-09-17T14:23:56.357Z"
   },
   {
    "duration": 32,
    "start_time": "2021-09-17T14:23:56.420Z"
   },
   {
    "duration": 21,
    "start_time": "2021-09-17T14:23:56.483Z"
   },
   {
    "duration": 20,
    "start_time": "2021-09-17T14:23:56.506Z"
   },
   {
    "duration": 26,
    "start_time": "2021-09-17T14:23:56.529Z"
   },
   {
    "duration": 64,
    "start_time": "2021-09-17T14:23:56.558Z"
   },
   {
    "duration": 8,
    "start_time": "2021-09-17T14:23:56.624Z"
   },
   {
    "duration": 34,
    "start_time": "2021-09-17T14:23:56.634Z"
   },
   {
    "duration": 21,
    "start_time": "2021-09-17T14:23:56.682Z"
   },
   {
    "duration": 293,
    "start_time": "2021-09-17T14:23:56.705Z"
   },
   {
    "duration": 14,
    "start_time": "2021-09-17T14:23:57.000Z"
   },
   {
    "duration": 300,
    "start_time": "2021-09-17T14:23:57.016Z"
   },
   {
    "duration": 12,
    "start_time": "2021-09-17T14:23:57.318Z"
   },
   {
    "duration": 896,
    "start_time": "2021-09-17T14:23:57.333Z"
   },
   {
    "duration": 13,
    "start_time": "2021-09-17T14:23:58.232Z"
   },
   {
    "duration": 56,
    "start_time": "2021-09-17T14:23:58.250Z"
   },
   {
    "duration": 458,
    "start_time": "2021-09-17T14:23:58.310Z"
   },
   {
    "duration": 13,
    "start_time": "2021-09-17T14:23:58.771Z"
   },
   {
    "duration": 443,
    "start_time": "2021-09-17T14:23:58.787Z"
   },
   {
    "duration": 11,
    "start_time": "2021-09-17T14:23:59.232Z"
   },
   {
    "duration": 18,
    "start_time": "2021-09-17T14:23:59.245Z"
   },
   {
    "duration": 11,
    "start_time": "2021-09-17T14:23:59.265Z"
   },
   {
    "duration": 48,
    "start_time": "2021-09-17T14:23:59.283Z"
   },
   {
    "duration": 22,
    "start_time": "2021-09-17T14:23:59.334Z"
   },
   {
    "duration": 32,
    "start_time": "2021-09-17T14:23:59.359Z"
   },
   {
    "duration": 34,
    "start_time": "2021-09-17T14:23:59.394Z"
   },
   {
    "duration": 22,
    "start_time": "2021-09-17T14:31:50.066Z"
   },
   {
    "duration": 146,
    "start_time": "2021-09-17T14:32:44.767Z"
   },
   {
    "duration": 23,
    "start_time": "2021-09-17T14:33:22.667Z"
   },
   {
    "duration": 23,
    "start_time": "2021-09-17T14:37:34.214Z"
   },
   {
    "duration": 118,
    "start_time": "2021-09-17T14:48:32.263Z"
   },
   {
    "duration": 23,
    "start_time": "2021-09-17T14:48:58.468Z"
   },
   {
    "duration": 131,
    "start_time": "2021-09-17T14:54:10.054Z"
   },
   {
    "duration": 32,
    "start_time": "2021-09-17T14:55:54.909Z"
   },
   {
    "duration": 1011,
    "start_time": "2021-09-17T14:57:12.782Z"
   },
   {
    "duration": 9,
    "start_time": "2021-09-17T15:00:02.921Z"
   },
   {
    "duration": 22,
    "start_time": "2021-09-17T15:53:57.322Z"
   },
   {
    "duration": 108,
    "start_time": "2021-09-17T16:00:19.583Z"
   },
   {
    "duration": 24,
    "start_time": "2021-09-17T16:00:36.139Z"
   },
   {
    "duration": 24,
    "start_time": "2021-09-17T16:01:22.658Z"
   },
   {
    "duration": 54,
    "start_time": "2021-09-17T16:09:31.366Z"
   },
   {
    "duration": 61,
    "start_time": "2021-09-17T16:09:31.423Z"
   },
   {
    "duration": 49,
    "start_time": "2021-09-17T16:09:31.489Z"
   },
   {
    "duration": 115,
    "start_time": "2021-09-17T16:09:31.542Z"
   },
   {
    "duration": 49,
    "start_time": "2021-09-17T16:09:31.660Z"
   },
   {
    "duration": 12,
    "start_time": "2021-09-17T16:09:31.711Z"
   },
   {
    "duration": 71,
    "start_time": "2021-09-17T16:09:31.725Z"
   },
   {
    "duration": 36,
    "start_time": "2021-09-17T16:09:31.799Z"
   },
   {
    "duration": 56,
    "start_time": "2021-09-17T16:09:31.839Z"
   },
   {
    "duration": 29,
    "start_time": "2021-09-17T16:09:31.898Z"
   },
   {
    "duration": 21,
    "start_time": "2021-09-17T16:09:31.929Z"
   },
   {
    "duration": 35,
    "start_time": "2021-09-17T16:09:31.952Z"
   },
   {
    "duration": 38,
    "start_time": "2021-09-17T16:09:31.990Z"
   },
   {
    "duration": 7,
    "start_time": "2021-09-17T16:09:32.030Z"
   },
   {
    "duration": 73,
    "start_time": "2021-09-17T16:09:32.039Z"
   },
   {
    "duration": 19,
    "start_time": "2021-09-17T16:09:32.114Z"
   },
   {
    "duration": 295,
    "start_time": "2021-09-17T16:09:32.135Z"
   },
   {
    "duration": 14,
    "start_time": "2021-09-17T16:09:32.432Z"
   },
   {
    "duration": 303,
    "start_time": "2021-09-17T16:09:32.448Z"
   },
   {
    "duration": 13,
    "start_time": "2021-09-17T16:09:32.754Z"
   },
   {
    "duration": 462,
    "start_time": "2021-09-17T16:09:32.784Z"
   },
   {
    "duration": 13,
    "start_time": "2021-09-17T16:09:33.248Z"
   },
   {
    "duration": 29,
    "start_time": "2021-09-17T16:09:33.283Z"
   },
   {
    "duration": 481,
    "start_time": "2021-09-17T16:09:33.315Z"
   },
   {
    "duration": 11,
    "start_time": "2021-09-17T16:09:33.799Z"
   },
   {
    "duration": 478,
    "start_time": "2021-09-17T16:09:33.813Z"
   },
   {
    "duration": 9,
    "start_time": "2021-09-17T16:09:34.296Z"
   },
   {
    "duration": 72,
    "start_time": "2021-09-17T16:09:34.308Z"
   },
   {
    "duration": 14,
    "start_time": "2021-09-17T16:09:34.382Z"
   },
   {
    "duration": 41,
    "start_time": "2021-09-17T16:09:34.399Z"
   },
   {
    "duration": 46,
    "start_time": "2021-09-17T16:09:34.442Z"
   },
   {
    "duration": 28,
    "start_time": "2021-09-17T16:09:34.491Z"
   },
   {
    "duration": 22,
    "start_time": "2021-09-17T16:09:34.521Z"
   },
   {
    "duration": 56,
    "start_time": "2021-09-17T16:09:34.545Z"
   },
   {
    "duration": 22,
    "start_time": "2021-09-17T16:09:34.604Z"
   },
   {
    "duration": 67,
    "start_time": "2021-09-17T16:09:34.628Z"
   },
   {
    "duration": 22,
    "start_time": "2021-09-17T16:09:34.697Z"
   },
   {
    "duration": 21,
    "start_time": "2021-09-17T16:09:34.722Z"
   },
   {
    "duration": 59,
    "start_time": "2021-09-17T16:09:34.745Z"
   },
   {
    "duration": 121,
    "start_time": "2021-09-17T16:28:33.935Z"
   },
   {
    "duration": 10165,
    "start_time": "2021-09-17T16:33:47.672Z"
   },
   {
    "duration": 9,
    "start_time": "2021-09-17T16:34:27.985Z"
   },
   {
    "duration": 9,
    "start_time": "2021-09-17T16:35:07.092Z"
   },
   {
    "duration": 360,
    "start_time": "2021-09-17T16:39:51.650Z"
   },
   {
    "duration": 12,
    "start_time": "2021-09-17T16:40:05.847Z"
   },
   {
    "duration": 10,
    "start_time": "2021-09-17T16:44:03.765Z"
   },
   {
    "duration": 8,
    "start_time": "2021-09-17T16:44:32.380Z"
   },
   {
    "duration": 13,
    "start_time": "2021-09-17T16:45:42.013Z"
   },
   {
    "duration": 12,
    "start_time": "2021-09-17T16:46:21.393Z"
   },
   {
    "duration": 46,
    "start_time": "2021-09-17T16:48:04.050Z"
   },
   {
    "duration": 21,
    "start_time": "2021-09-17T16:48:04.099Z"
   },
   {
    "duration": 83,
    "start_time": "2021-09-17T16:48:04.123Z"
   },
   {
    "duration": 87,
    "start_time": "2021-09-17T16:48:04.209Z"
   },
   {
    "duration": 29,
    "start_time": "2021-09-17T16:48:04.299Z"
   },
   {
    "duration": 18,
    "start_time": "2021-09-17T16:48:04.330Z"
   },
   {
    "duration": 60,
    "start_time": "2021-09-17T16:48:04.351Z"
   },
   {
    "duration": 35,
    "start_time": "2021-09-17T16:48:04.415Z"
   },
   {
    "duration": 61,
    "start_time": "2021-09-17T16:48:04.453Z"
   },
   {
    "duration": 24,
    "start_time": "2021-09-17T16:48:04.517Z"
   },
   {
    "duration": 57,
    "start_time": "2021-09-17T16:48:04.543Z"
   },
   {
    "duration": 12,
    "start_time": "2021-09-17T16:48:04.604Z"
   },
   {
    "duration": 67,
    "start_time": "2021-09-17T16:48:04.618Z"
   },
   {
    "duration": 7,
    "start_time": "2021-09-17T16:48:04.688Z"
   },
   {
    "duration": 43,
    "start_time": "2021-09-17T16:48:04.698Z"
   },
   {
    "duration": 55,
    "start_time": "2021-09-17T16:48:04.743Z"
   },
   {
    "duration": 332,
    "start_time": "2021-09-17T16:48:04.800Z"
   },
   {
    "duration": 15,
    "start_time": "2021-09-17T16:48:05.135Z"
   },
   {
    "duration": 310,
    "start_time": "2021-09-17T16:48:05.153Z"
   },
   {
    "duration": 22,
    "start_time": "2021-09-17T16:48:05.466Z"
   },
   {
    "duration": 295,
    "start_time": "2021-09-17T16:48:05.491Z"
   },
   {
    "duration": 13,
    "start_time": "2021-09-17T16:48:05.789Z"
   },
   {
    "duration": 34,
    "start_time": "2021-09-17T16:48:05.810Z"
   },
   {
    "duration": 456,
    "start_time": "2021-09-17T16:48:05.884Z"
   },
   {
    "duration": 11,
    "start_time": "2021-09-17T16:48:06.342Z"
   },
   {
    "duration": 446,
    "start_time": "2021-09-17T16:48:06.355Z"
   },
   {
    "duration": 11,
    "start_time": "2021-09-17T16:48:06.804Z"
   },
   {
    "duration": 28,
    "start_time": "2021-09-17T16:48:06.818Z"
   },
   {
    "duration": 36,
    "start_time": "2021-09-17T16:48:06.848Z"
   },
   {
    "duration": 43,
    "start_time": "2021-09-17T16:48:06.887Z"
   },
   {
    "duration": 54,
    "start_time": "2021-09-17T16:48:06.933Z"
   },
   {
    "duration": 22,
    "start_time": "2021-09-17T16:48:06.990Z"
   },
   {
    "duration": 22,
    "start_time": "2021-09-17T16:48:07.014Z"
   },
   {
    "duration": 61,
    "start_time": "2021-09-17T16:48:07.038Z"
   },
   {
    "duration": 21,
    "start_time": "2021-09-17T16:48:07.101Z"
   },
   {
    "duration": 59,
    "start_time": "2021-09-17T16:48:07.125Z"
   },
   {
    "duration": 21,
    "start_time": "2021-09-17T16:48:07.186Z"
   },
   {
    "duration": 24,
    "start_time": "2021-09-17T16:48:07.209Z"
   },
   {
    "duration": 57,
    "start_time": "2021-09-17T16:48:07.235Z"
   },
   {
    "duration": 8,
    "start_time": "2021-09-17T16:48:07.294Z"
   },
   {
    "duration": 14,
    "start_time": "2021-09-17T16:48:07.304Z"
   },
   {
    "duration": 12,
    "start_time": "2021-09-17T16:48:07.321Z"
   },
   {
    "duration": 52,
    "start_time": "2021-09-17T16:48:07.335Z"
   },
   {
    "duration": 10,
    "start_time": "2021-09-17T16:48:07.390Z"
   },
   {
    "duration": 18,
    "start_time": "2021-09-17T16:48:07.402Z"
   },
   {
    "duration": 44,
    "start_time": "2021-09-17T17:03:54.828Z"
   },
   {
    "duration": 20,
    "start_time": "2021-09-17T17:03:54.876Z"
   },
   {
    "duration": 53,
    "start_time": "2021-09-17T17:03:54.899Z"
   },
   {
    "duration": 96,
    "start_time": "2021-09-17T17:03:54.955Z"
   },
   {
    "duration": 46,
    "start_time": "2021-09-17T17:03:55.053Z"
   },
   {
    "duration": 32,
    "start_time": "2021-09-17T17:03:55.101Z"
   },
   {
    "duration": 47,
    "start_time": "2021-09-17T17:03:55.135Z"
   },
   {
    "duration": 35,
    "start_time": "2021-09-17T17:03:55.186Z"
   },
   {
    "duration": 64,
    "start_time": "2021-09-17T17:03:55.224Z"
   },
   {
    "duration": 93,
    "start_time": "2021-09-17T17:03:55.291Z"
   },
   {
    "duration": 34,
    "start_time": "2021-09-17T17:03:55.387Z"
   },
   {
    "duration": 25,
    "start_time": "2021-09-17T17:03:55.428Z"
   },
   {
    "duration": 87,
    "start_time": "2021-09-17T17:03:55.456Z"
   },
   {
    "duration": 26,
    "start_time": "2021-09-17T17:03:55.546Z"
   },
   {
    "duration": 41,
    "start_time": "2021-09-17T17:03:55.576Z"
   },
   {
    "duration": 20,
    "start_time": "2021-09-17T17:03:55.619Z"
   },
   {
    "duration": 319,
    "start_time": "2021-09-17T17:03:55.642Z"
   },
   {
    "duration": 24,
    "start_time": "2021-09-17T17:03:55.963Z"
   },
   {
    "duration": 287,
    "start_time": "2021-09-17T17:03:55.989Z"
   },
   {
    "duration": 12,
    "start_time": "2021-09-17T17:03:56.279Z"
   },
   {
    "duration": 284,
    "start_time": "2021-09-17T17:03:56.293Z"
   },
   {
    "duration": 12,
    "start_time": "2021-09-17T17:03:56.583Z"
   },
   {
    "duration": 29,
    "start_time": "2021-09-17T17:03:56.601Z"
   },
   {
    "duration": 468,
    "start_time": "2021-09-17T17:03:56.633Z"
   },
   {
    "duration": 10,
    "start_time": "2021-09-17T17:03:57.104Z"
   },
   {
    "duration": 421,
    "start_time": "2021-09-17T17:03:57.116Z"
   },
   {
    "duration": 10,
    "start_time": "2021-09-17T17:03:57.539Z"
   },
   {
    "duration": 37,
    "start_time": "2021-09-17T17:03:57.551Z"
   },
   {
    "duration": 17,
    "start_time": "2021-09-17T17:03:57.591Z"
   },
   {
    "duration": 57,
    "start_time": "2021-09-17T17:03:57.610Z"
   },
   {
    "duration": 23,
    "start_time": "2021-09-17T17:03:57.682Z"
   },
   {
    "duration": 23,
    "start_time": "2021-09-17T17:03:57.708Z"
   },
   {
    "duration": 55,
    "start_time": "2021-09-17T17:03:57.734Z"
   },
   {
    "duration": 25,
    "start_time": "2021-09-17T17:03:57.791Z"
   },
   {
    "duration": 21,
    "start_time": "2021-09-17T17:03:57.819Z"
   },
   {
    "duration": 55,
    "start_time": "2021-09-17T17:03:57.843Z"
   },
   {
    "duration": 21,
    "start_time": "2021-09-17T17:03:57.901Z"
   },
   {
    "duration": 60,
    "start_time": "2021-09-17T17:03:57.925Z"
   },
   {
    "duration": 23,
    "start_time": "2021-09-17T17:03:57.988Z"
   },
   {
    "duration": 7,
    "start_time": "2021-09-17T17:03:58.014Z"
   },
   {
    "duration": 9,
    "start_time": "2021-09-17T17:03:58.024Z"
   },
   {
    "duration": 56,
    "start_time": "2021-09-17T17:03:58.036Z"
   },
   {
    "duration": 8,
    "start_time": "2021-09-17T17:03:58.095Z"
   },
   {
    "duration": 9,
    "start_time": "2021-09-17T17:03:58.106Z"
   },
   {
    "duration": 12,
    "start_time": "2021-09-17T17:03:58.118Z"
   },
   {
    "duration": 1556,
    "start_time": "2021-09-18T08:59:52.185Z"
   },
   {
    "duration": 27,
    "start_time": "2021-09-18T08:59:53.744Z"
   },
   {
    "duration": 60,
    "start_time": "2021-09-18T08:59:53.774Z"
   },
   {
    "duration": 84,
    "start_time": "2021-09-18T08:59:53.836Z"
   },
   {
    "duration": 28,
    "start_time": "2021-09-18T08:59:53.922Z"
   },
   {
    "duration": 19,
    "start_time": "2021-09-18T08:59:53.953Z"
   },
   {
    "duration": 59,
    "start_time": "2021-09-18T08:59:53.975Z"
   },
   {
    "duration": 35,
    "start_time": "2021-09-18T08:59:54.038Z"
   },
   {
    "duration": 61,
    "start_time": "2021-09-18T08:59:54.075Z"
   },
   {
    "duration": 22,
    "start_time": "2021-09-18T08:59:54.138Z"
   },
   {
    "duration": 20,
    "start_time": "2021-09-18T08:59:54.162Z"
   },
   {
    "duration": 35,
    "start_time": "2021-09-18T08:59:54.185Z"
   },
   {
    "duration": 36,
    "start_time": "2021-09-18T08:59:54.222Z"
   },
   {
    "duration": 7,
    "start_time": "2021-09-18T08:59:54.260Z"
   },
   {
    "duration": 23011,
    "start_time": "2021-09-18T08:59:54.270Z"
   },
   {
    "duration": 47,
    "start_time": "2021-09-18T09:09:44.316Z"
   },
   {
    "duration": 21,
    "start_time": "2021-09-18T09:09:44.366Z"
   },
   {
    "duration": 71,
    "start_time": "2021-09-18T09:09:44.390Z"
   },
   {
    "duration": 88,
    "start_time": "2021-09-18T09:09:44.464Z"
   },
   {
    "duration": 44,
    "start_time": "2021-09-18T09:09:44.555Z"
   },
   {
    "duration": 16,
    "start_time": "2021-09-18T09:09:44.618Z"
   },
   {
    "duration": 52,
    "start_time": "2021-09-18T09:09:44.637Z"
   },
   {
    "duration": 43,
    "start_time": "2021-09-18T09:09:44.715Z"
   },
   {
    "duration": 56,
    "start_time": "2021-09-18T09:09:44.761Z"
   },
   {
    "duration": 21,
    "start_time": "2021-09-18T09:09:44.820Z"
   },
   {
    "duration": 19,
    "start_time": "2021-09-18T09:09:44.844Z"
   },
   {
    "duration": 10,
    "start_time": "2021-09-18T09:09:44.866Z"
   },
   {
    "duration": 32,
    "start_time": "2021-09-18T09:09:44.916Z"
   },
   {
    "duration": 8,
    "start_time": "2021-09-18T09:09:44.950Z"
   },
   {
    "duration": 58,
    "start_time": "2021-09-18T09:09:44.960Z"
   },
   {
    "duration": 21,
    "start_time": "2021-09-18T09:09:45.021Z"
   },
   {
    "duration": 283,
    "start_time": "2021-09-18T09:09:45.044Z"
   },
   {
    "duration": 14,
    "start_time": "2021-09-18T09:09:45.330Z"
   },
   {
    "duration": 289,
    "start_time": "2021-09-18T09:09:45.347Z"
   },
   {
    "duration": 13,
    "start_time": "2021-09-18T09:09:45.638Z"
   },
   {
    "duration": 281,
    "start_time": "2021-09-18T09:09:45.654Z"
   },
   {
    "duration": 13,
    "start_time": "2021-09-18T09:09:45.937Z"
   },
   {
    "duration": 378,
    "start_time": "2021-09-18T09:09:45.954Z"
   },
   {
    "duration": 529,
    "start_time": "2021-09-18T09:10:02.324Z"
   },
   {
    "duration": 839,
    "start_time": "2021-09-18T09:10:13.813Z"
   },
   {
    "duration": 365,
    "start_time": "2021-09-18T09:10:18.488Z"
   },
   {
    "duration": 44,
    "start_time": "2021-09-18T13:52:10.268Z"
   },
   {
    "duration": 22,
    "start_time": "2021-09-18T13:52:10.315Z"
   },
   {
    "duration": 74,
    "start_time": "2021-09-18T13:52:10.341Z"
   },
   {
    "duration": 110,
    "start_time": "2021-09-18T13:52:10.419Z"
   },
   {
    "duration": 55,
    "start_time": "2021-09-18T13:52:10.532Z"
   },
   {
    "duration": 370,
    "start_time": "2021-09-18T13:52:10.590Z"
   },
   {
    "duration": -99,
    "start_time": "2021-09-18T13:52:11.063Z"
   },
   {
    "duration": -112,
    "start_time": "2021-09-18T13:52:11.077Z"
   },
   {
    "duration": -125,
    "start_time": "2021-09-18T13:52:11.092Z"
   },
   {
    "duration": -154,
    "start_time": "2021-09-18T13:52:11.122Z"
   },
   {
    "duration": -169,
    "start_time": "2021-09-18T13:52:11.139Z"
   },
   {
    "duration": -184,
    "start_time": "2021-09-18T13:52:11.155Z"
   },
   {
    "duration": -198,
    "start_time": "2021-09-18T13:52:11.170Z"
   },
   {
    "duration": -209,
    "start_time": "2021-09-18T13:52:11.183Z"
   },
   {
    "duration": -224,
    "start_time": "2021-09-18T13:52:11.199Z"
   },
   {
    "duration": -258,
    "start_time": "2021-09-18T13:52:11.234Z"
   },
   {
    "duration": -271,
    "start_time": "2021-09-18T13:52:11.249Z"
   },
   {
    "duration": -282,
    "start_time": "2021-09-18T13:52:11.262Z"
   },
   {
    "duration": -295,
    "start_time": "2021-09-18T13:52:11.276Z"
   },
   {
    "duration": -311,
    "start_time": "2021-09-18T13:52:11.293Z"
   },
   {
    "duration": -326,
    "start_time": "2021-09-18T13:52:11.309Z"
   },
   {
    "duration": -434,
    "start_time": "2021-09-18T13:52:11.419Z"
   },
   {
    "duration": -446,
    "start_time": "2021-09-18T13:52:11.432Z"
   },
   {
    "duration": -456,
    "start_time": "2021-09-18T13:52:11.444Z"
   },
   {
    "duration": -480,
    "start_time": "2021-09-18T13:52:11.469Z"
   },
   {
    "duration": -492,
    "start_time": "2021-09-18T13:52:11.482Z"
   },
   {
    "duration": -505,
    "start_time": "2021-09-18T13:52:11.497Z"
   },
   {
    "duration": -517,
    "start_time": "2021-09-18T13:52:11.510Z"
   },
   {
    "duration": -529,
    "start_time": "2021-09-18T13:52:11.524Z"
   },
   {
    "duration": -559,
    "start_time": "2021-09-18T13:52:11.555Z"
   },
   {
    "duration": -597,
    "start_time": "2021-09-18T13:52:11.594Z"
   },
   {
    "duration": -612,
    "start_time": "2021-09-18T13:52:11.611Z"
   },
   {
    "duration": -626,
    "start_time": "2021-09-18T13:52:11.626Z"
   },
   {
    "duration": 23,
    "start_time": "2021-09-18T13:52:11.629Z"
   },
   {
    "duration": 27,
    "start_time": "2021-09-18T13:52:11.654Z"
   },
   {
    "duration": 22,
    "start_time": "2021-09-18T13:52:11.685Z"
   },
   {
    "duration": 33,
    "start_time": "2021-09-18T13:52:11.711Z"
   },
   {
    "duration": 55,
    "start_time": "2021-09-18T13:52:11.747Z"
   },
   {
    "duration": 24,
    "start_time": "2021-09-18T13:52:11.878Z"
   },
   {
    "duration": 11,
    "start_time": "2021-09-18T13:52:11.906Z"
   },
   {
    "duration": 11,
    "start_time": "2021-09-18T13:52:11.921Z"
   },
   {
    "duration": 71,
    "start_time": "2021-09-18T13:52:11.934Z"
   },
   {
    "duration": 14,
    "start_time": "2021-09-18T13:52:12.009Z"
   },
   {
    "duration": 10,
    "start_time": "2021-09-18T13:52:12.027Z"
   },
   {
    "duration": 51,
    "start_time": "2021-09-18T13:52:12.040Z"
   },
   {
    "duration": 12,
    "start_time": "2021-09-18T13:55:00.791Z"
   },
   {
    "duration": -2779,
    "start_time": "2021-09-18T13:55:20.087Z"
   },
   {
    "duration": 7,
    "start_time": "2021-09-18T13:55:28.123Z"
   },
   {
    "duration": 7,
    "start_time": "2021-09-18T13:56:12.524Z"
   },
   {
    "duration": 1260,
    "start_time": "2021-09-18T13:57:31.965Z"
   },
   {
    "duration": 3011,
    "start_time": "2021-09-18T13:59:10.626Z"
   },
   {
    "duration": 12,
    "start_time": "2021-09-18T14:02:06.767Z"
   },
   {
    "duration": 8,
    "start_time": "2021-09-18T14:02:30.367Z"
   },
   {
    "duration": 15,
    "start_time": "2021-09-18T14:03:59.285Z"
   },
   {
    "duration": 350,
    "start_time": "2021-09-18T14:05:48.062Z"
   },
   {
    "duration": 9,
    "start_time": "2021-09-18T14:06:15.143Z"
   },
   {
    "duration": 12,
    "start_time": "2021-09-18T14:06:41.744Z"
   },
   {
    "duration": 59,
    "start_time": "2021-09-18T14:07:28.925Z"
   },
   {
    "duration": 30,
    "start_time": "2021-09-18T14:07:28.987Z"
   },
   {
    "duration": 60,
    "start_time": "2021-09-18T14:07:29.065Z"
   },
   {
    "duration": 127,
    "start_time": "2021-09-18T14:07:29.143Z"
   },
   {
    "duration": 41,
    "start_time": "2021-09-18T14:07:30.245Z"
   },
   {
    "duration": 42,
    "start_time": "2021-09-18T14:07:30.289Z"
   },
   {
    "duration": 1599,
    "start_time": "2021-09-18T14:07:34.386Z"
   },
   {
    "duration": -28041,
    "start_time": "2021-09-18T14:08:04.029Z"
   },
   {
    "duration": -28206,
    "start_time": "2021-09-18T14:08:04.195Z"
   },
   {
    "duration": -28342,
    "start_time": "2021-09-18T14:08:04.333Z"
   },
   {
    "duration": -28353,
    "start_time": "2021-09-18T14:08:04.345Z"
   },
   {
    "duration": -28422,
    "start_time": "2021-09-18T14:08:04.416Z"
   },
   {
    "duration": 28,
    "start_time": "2021-09-18T14:07:36.565Z"
   },
   {
    "duration": 28,
    "start_time": "2021-09-18T14:07:36.596Z"
   },
   {
    "duration": 48,
    "start_time": "2021-09-18T14:07:36.627Z"
   },
   {
    "duration": 329,
    "start_time": "2021-09-18T14:07:37.145Z"
   },
   {
    "duration": -36918,
    "start_time": "2021-09-18T14:08:14.395Z"
   },
   {
    "duration": -37019,
    "start_time": "2021-09-18T14:08:14.497Z"
   },
   {
    "duration": 648,
    "start_time": "2021-09-18T14:07:37.685Z"
   },
   {
    "duration": -41126,
    "start_time": "2021-09-18T14:08:19.464Z"
   },
   {
    "duration": -41137,
    "start_time": "2021-09-18T14:08:19.476Z"
   },
   {
    "duration": -41277,
    "start_time": "2021-09-18T14:08:19.618Z"
   },
   {
    "duration": -41553,
    "start_time": "2021-09-18T14:08:19.896Z"
   },
   {
    "duration": -48607,
    "start_time": "2021-09-18T14:08:26.952Z"
   },
   {
    "duration": 367,
    "start_time": "2021-09-18T14:07:40.426Z"
   },
   {
    "duration": -49170,
    "start_time": "2021-09-18T14:08:29.966Z"
   },
   {
    "duration": 442,
    "start_time": "2021-09-18T14:07:41.046Z"
   },
   {
    "duration": -51019,
    "start_time": "2021-09-18T14:08:32.510Z"
   },
   {
    "duration": -51263,
    "start_time": "2021-09-18T14:08:32.756Z"
   },
   {
    "duration": -51317,
    "start_time": "2021-09-18T14:08:32.812Z"
   },
   {
    "duration": -51618,
    "start_time": "2021-09-18T14:08:33.115Z"
   },
   {
    "duration": 29,
    "start_time": "2021-09-18T14:07:41.845Z"
   },
   {
    "duration": 29,
    "start_time": "2021-09-18T14:07:41.877Z"
   },
   {
    "duration": 31,
    "start_time": "2021-09-18T14:07:41.910Z"
   },
   {
    "duration": 34,
    "start_time": "2021-09-18T14:07:42.146Z"
   },
   {
    "duration": 34,
    "start_time": "2021-09-18T14:07:42.183Z"
   },
   {
    "duration": 32,
    "start_time": "2021-09-18T14:07:42.221Z"
   },
   {
    "duration": 30,
    "start_time": "2021-09-18T14:07:42.585Z"
   },
   {
    "duration": 42,
    "start_time": "2021-09-18T14:07:42.619Z"
   },
   {
    "duration": 24,
    "start_time": "2021-09-18T14:07:43.025Z"
   },
   {
    "duration": 62,
    "start_time": "2021-09-18T14:07:43.052Z"
   },
   {
    "duration": 93,
    "start_time": "2021-09-18T14:07:43.118Z"
   },
   {
    "duration": 81,
    "start_time": "2021-09-18T14:07:43.224Z"
   },
   {
    "duration": 16,
    "start_time": "2021-09-18T14:07:43.309Z"
   },
   {
    "duration": 8,
    "start_time": "2021-09-18T14:07:43.425Z"
   },
   {
    "duration": 20,
    "start_time": "2021-09-18T14:07:43.435Z"
   },
   {
    "duration": 344,
    "start_time": "2021-09-18T14:14:54.025Z"
   },
   {
    "duration": 460,
    "start_time": "2021-09-18T14:15:14.126Z"
   },
   {
    "duration": 5,
    "start_time": "2021-09-18T14:18:21.068Z"
   },
   {
    "duration": 4652,
    "start_time": "2021-09-18T14:19:00.468Z"
   },
   {
    "duration": 4755,
    "start_time": "2021-09-18T14:19:30.528Z"
   },
   {
    "duration": 474,
    "start_time": "2021-09-18T14:24:00.847Z"
   },
   {
    "duration": 787,
    "start_time": "2021-09-18T14:24:47.145Z"
   },
   {
    "duration": 361,
    "start_time": "2021-09-18T14:25:45.553Z"
   },
   {
    "duration": 4381,
    "start_time": "2021-09-18T14:26:27.391Z"
   },
   {
    "duration": 44,
    "start_time": "2021-09-18T14:27:14.912Z"
   },
   {
    "duration": 22,
    "start_time": "2021-09-18T14:27:15.911Z"
   },
   {
    "duration": 43,
    "start_time": "2021-09-18T14:27:16.151Z"
   },
   {
    "duration": 75,
    "start_time": "2021-09-18T14:27:53.112Z"
   },
   {
    "duration": 29,
    "start_time": "2021-09-18T14:27:53.190Z"
   },
   {
    "duration": 29,
    "start_time": "2021-09-18T14:27:53.222Z"
   },
   {
    "duration": 10,
    "start_time": "2021-09-18T14:28:04.672Z"
   },
   {
    "duration": 31,
    "start_time": "2021-09-18T14:28:04.685Z"
   },
   {
    "duration": 63,
    "start_time": "2021-09-18T14:28:04.719Z"
   },
   {
    "duration": 34,
    "start_time": "2021-09-18T14:28:05.204Z"
   },
   {
    "duration": 20,
    "start_time": "2021-09-18T14:28:05.241Z"
   },
   {
    "duration": 32,
    "start_time": "2021-09-18T14:28:05.264Z"
   },
   {
    "duration": 11,
    "start_time": "2021-09-18T14:28:05.298Z"
   },
   {
    "duration": 46,
    "start_time": "2021-09-18T14:28:05.311Z"
   },
   {
    "duration": 8,
    "start_time": "2021-09-18T14:28:05.553Z"
   },
   {
    "duration": 43,
    "start_time": "2021-09-18T14:28:05.564Z"
   },
   {
    "duration": 21,
    "start_time": "2021-09-18T14:28:05.610Z"
   },
   {
    "duration": 280,
    "start_time": "2021-09-18T14:28:06.615Z"
   },
   {
    "duration": 13,
    "start_time": "2021-09-18T14:28:06.898Z"
   },
   {
    "duration": 295,
    "start_time": "2021-09-18T14:28:06.914Z"
   },
   {
    "duration": 13,
    "start_time": "2021-09-18T14:28:07.212Z"
   },
   {
    "duration": 296,
    "start_time": "2021-09-18T14:28:07.228Z"
   },
   {
    "duration": 13,
    "start_time": "2021-09-18T14:28:07.527Z"
   },
   {
    "duration": 1494,
    "start_time": "2021-09-18T14:28:07.543Z"
   },
   {
    "duration": 83,
    "start_time": "2021-09-18T14:28:09.040Z"
   },
   {
    "duration": 603,
    "start_time": "2021-09-18T14:28:09.127Z"
   },
   {
    "duration": 10,
    "start_time": "2021-09-18T14:28:09.733Z"
   },
   {
    "duration": 466,
    "start_time": "2021-09-18T14:28:09.745Z"
   },
   {
    "duration": 10,
    "start_time": "2021-09-18T14:28:10.213Z"
   },
   {
    "duration": 12,
    "start_time": "2021-09-18T14:28:10.226Z"
   },
   {
    "duration": 47,
    "start_time": "2021-09-18T14:28:10.241Z"
   },
   {
    "duration": 47,
    "start_time": "2021-09-18T14:28:10.290Z"
   },
   {
    "duration": 55,
    "start_time": "2021-09-18T14:28:10.339Z"
   },
   {
    "duration": 23,
    "start_time": "2021-09-18T14:28:10.396Z"
   },
   {
    "duration": 23,
    "start_time": "2021-09-18T14:28:10.421Z"
   },
   {
    "duration": 53,
    "start_time": "2021-09-18T14:28:10.447Z"
   },
   {
    "duration": 20,
    "start_time": "2021-09-18T14:28:10.503Z"
   },
   {
    "duration": 57,
    "start_time": "2021-09-18T14:28:10.525Z"
   },
   {
    "duration": 23,
    "start_time": "2021-09-18T14:28:10.585Z"
   },
   {
    "duration": 21,
    "start_time": "2021-09-18T14:28:10.610Z"
   },
   {
    "duration": 60,
    "start_time": "2021-09-18T14:28:10.633Z"
   },
   {
    "duration": 7,
    "start_time": "2021-09-18T14:28:10.698Z"
   },
   {
    "duration": 19,
    "start_time": "2021-09-18T14:28:10.708Z"
   },
   {
    "duration": 14,
    "start_time": "2021-09-18T14:28:10.729Z"
   },
   {
    "duration": 11,
    "start_time": "2021-09-18T14:28:10.782Z"
   },
   {
    "duration": 12,
    "start_time": "2021-09-18T14:28:10.795Z"
   },
   {
    "duration": 13,
    "start_time": "2021-09-18T14:28:10.809Z"
   },
   {
    "duration": 25,
    "start_time": "2021-09-18T14:29:25.530Z"
   },
   {
    "duration": 50,
    "start_time": "2021-09-18T14:29:47.816Z"
   },
   {
    "duration": 1182,
    "start_time": "2021-09-19T09:51:31.058Z"
   },
   {
    "duration": 16,
    "start_time": "2021-09-19T09:51:32.242Z"
   },
   {
    "duration": 32,
    "start_time": "2021-09-19T09:51:32.260Z"
   },
   {
    "duration": 45,
    "start_time": "2021-09-19T09:51:32.294Z"
   },
   {
    "duration": 20,
    "start_time": "2021-09-19T09:51:32.341Z"
   },
   {
    "duration": 13,
    "start_time": "2021-09-19T09:51:32.377Z"
   },
   {
    "duration": 28,
    "start_time": "2021-09-19T09:51:32.391Z"
   },
   {
    "duration": 21,
    "start_time": "2021-09-19T09:51:32.422Z"
   },
   {
    "duration": 50,
    "start_time": "2021-09-19T09:51:32.445Z"
   },
   {
    "duration": 21,
    "start_time": "2021-09-19T09:51:32.497Z"
   },
   {
    "duration": 15,
    "start_time": "2021-09-19T09:51:32.519Z"
   },
   {
    "duration": 41,
    "start_time": "2021-09-19T09:51:32.536Z"
   },
   {
    "duration": 8,
    "start_time": "2021-09-19T09:51:32.579Z"
   },
   {
    "duration": 21,
    "start_time": "2021-09-19T09:51:32.588Z"
   },
   {
    "duration": 6,
    "start_time": "2021-09-19T09:51:32.611Z"
   },
   {
    "duration": 23,
    "start_time": "2021-09-19T09:51:32.618Z"
   },
   {
    "duration": 40,
    "start_time": "2021-09-19T09:51:32.642Z"
   },
   {
    "duration": 176,
    "start_time": "2021-09-19T09:51:32.683Z"
   },
   {
    "duration": 17,
    "start_time": "2021-09-19T09:51:32.861Z"
   },
   {
    "duration": 166,
    "start_time": "2021-09-19T09:51:32.880Z"
   },
   {
    "duration": 8,
    "start_time": "2021-09-19T09:51:33.048Z"
   },
   {
    "duration": 168,
    "start_time": "2021-09-19T09:51:33.058Z"
   },
   {
    "duration": 9,
    "start_time": "2021-09-19T09:51:33.229Z"
   },
   {
    "duration": 23031,
    "start_time": "2021-09-19T09:51:33.240Z"
   },
   {
    "duration": 21,
    "start_time": "2021-09-19T09:51:56.272Z"
   },
   {
    "duration": 352,
    "start_time": "2021-09-19T09:51:56.294Z"
   },
   {
    "duration": 8,
    "start_time": "2021-09-19T09:51:56.647Z"
   },
   {
    "duration": 362,
    "start_time": "2021-09-19T09:51:56.657Z"
   },
   {
    "duration": 8,
    "start_time": "2021-09-19T09:51:57.020Z"
   },
   {
    "duration": 12,
    "start_time": "2021-09-19T09:51:57.030Z"
   },
   {
    "duration": 15,
    "start_time": "2021-09-19T09:51:57.044Z"
   },
   {
    "duration": 31,
    "start_time": "2021-09-19T09:51:57.061Z"
   },
   {
    "duration": 16,
    "start_time": "2021-09-19T09:51:57.093Z"
   },
   {
    "duration": 16,
    "start_time": "2021-09-19T09:51:57.111Z"
   },
   {
    "duration": 17,
    "start_time": "2021-09-19T09:51:57.129Z"
   },
   {
    "duration": 17,
    "start_time": "2021-09-19T09:51:57.148Z"
   },
   {
    "duration": 17,
    "start_time": "2021-09-19T09:51:57.176Z"
   },
   {
    "duration": 25,
    "start_time": "2021-09-19T09:51:57.195Z"
   },
   {
    "duration": 23,
    "start_time": "2021-09-19T09:51:57.222Z"
   },
   {
    "duration": 16,
    "start_time": "2021-09-19T09:51:57.247Z"
   },
   {
    "duration": 16,
    "start_time": "2021-09-19T09:51:57.265Z"
   },
   {
    "duration": 12,
    "start_time": "2021-09-19T09:51:57.283Z"
   },
   {
    "duration": 10,
    "start_time": "2021-09-19T09:51:57.296Z"
   },
   {
    "duration": 12,
    "start_time": "2021-09-19T09:51:57.308Z"
   },
   {
    "duration": 6,
    "start_time": "2021-09-19T09:52:32.963Z"
   },
   {
    "duration": 6,
    "start_time": "2021-09-19T09:52:33.457Z"
   },
   {
    "duration": 10,
    "start_time": "2021-09-19T09:52:35.428Z"
   },
   {
    "duration": 80,
    "start_time": "2022-04-28T19:25:53.416Z"
   },
   {
    "duration": 1865,
    "start_time": "2022-04-28T19:25:57.295Z"
   },
   {
    "duration": 34,
    "start_time": "2022-04-28T19:25:59.163Z"
   },
   {
    "duration": 65,
    "start_time": "2022-04-28T19:25:59.199Z"
   },
   {
    "duration": 29,
    "start_time": "2022-04-28T19:25:59.268Z"
   },
   {
    "duration": 21,
    "start_time": "2022-04-28T19:25:59.300Z"
   },
   {
    "duration": 44,
    "start_time": "2022-04-28T19:25:59.324Z"
   },
   {
    "duration": 53,
    "start_time": "2022-04-28T19:25:59.370Z"
   },
   {
    "duration": 59,
    "start_time": "2022-04-28T19:25:59.425Z"
   },
   {
    "duration": 45,
    "start_time": "2022-04-28T19:25:59.487Z"
   },
   {
    "duration": 37,
    "start_time": "2022-04-28T19:25:59.558Z"
   },
   {
    "duration": 21,
    "start_time": "2022-04-28T19:25:59.598Z"
   },
   {
    "duration": 49,
    "start_time": "2022-04-28T19:25:59.621Z"
   },
   {
    "duration": 13,
    "start_time": "2022-04-28T19:25:59.672Z"
   },
   {
    "duration": 32,
    "start_time": "2022-04-28T19:25:59.688Z"
   },
   {
    "duration": 41,
    "start_time": "2022-04-28T19:25:59.723Z"
   },
   {
    "duration": 23,
    "start_time": "2022-04-28T19:25:59.766Z"
   },
   {
    "duration": 134,
    "start_time": "2022-04-28T19:25:59.791Z"
   },
   {
    "duration": 0,
    "start_time": "2022-04-28T19:25:59.928Z"
   },
   {
    "duration": 0,
    "start_time": "2022-04-28T19:25:59.930Z"
   },
   {
    "duration": 0,
    "start_time": "2022-04-28T19:25:59.932Z"
   },
   {
    "duration": 0,
    "start_time": "2022-04-28T19:25:59.934Z"
   },
   {
    "duration": 0,
    "start_time": "2022-04-28T19:25:59.937Z"
   },
   {
    "duration": 0,
    "start_time": "2022-04-28T19:25:59.952Z"
   },
   {
    "duration": 0,
    "start_time": "2022-04-28T19:25:59.953Z"
   },
   {
    "duration": 0,
    "start_time": "2022-04-28T19:25:59.955Z"
   },
   {
    "duration": 0,
    "start_time": "2022-04-28T19:25:59.957Z"
   },
   {
    "duration": 0,
    "start_time": "2022-04-28T19:25:59.959Z"
   },
   {
    "duration": 0,
    "start_time": "2022-04-28T19:25:59.962Z"
   },
   {
    "duration": 0,
    "start_time": "2022-04-28T19:25:59.964Z"
   },
   {
    "duration": 0,
    "start_time": "2022-04-28T19:25:59.966Z"
   },
   {
    "duration": 0,
    "start_time": "2022-04-28T19:25:59.969Z"
   },
   {
    "duration": 0,
    "start_time": "2022-04-28T19:25:59.971Z"
   },
   {
    "duration": 0,
    "start_time": "2022-04-28T19:25:59.973Z"
   },
   {
    "duration": 0,
    "start_time": "2022-04-28T19:25:59.975Z"
   },
   {
    "duration": 0,
    "start_time": "2022-04-28T19:25:59.977Z"
   },
   {
    "duration": 0,
    "start_time": "2022-04-28T19:25:59.979Z"
   },
   {
    "duration": 0,
    "start_time": "2022-04-28T19:25:59.982Z"
   },
   {
    "duration": 0,
    "start_time": "2022-04-28T19:25:59.983Z"
   },
   {
    "duration": 0,
    "start_time": "2022-04-28T19:25:59.984Z"
   },
   {
    "duration": 0,
    "start_time": "2022-04-28T19:25:59.988Z"
   },
   {
    "duration": 0,
    "start_time": "2022-04-28T19:25:59.990Z"
   },
   {
    "duration": 0,
    "start_time": "2022-04-28T19:25:59.991Z"
   },
   {
    "duration": 1,
    "start_time": "2022-04-28T19:26:00.055Z"
   },
   {
    "duration": 0,
    "start_time": "2022-04-28T19:26:00.057Z"
   },
   {
    "duration": 0,
    "start_time": "2022-04-28T19:26:00.059Z"
   },
   {
    "duration": 0,
    "start_time": "2022-04-28T19:26:00.060Z"
   },
   {
    "duration": 0,
    "start_time": "2022-04-28T19:26:00.061Z"
   },
   {
    "duration": 1571,
    "start_time": "2022-05-14T09:08:04.596Z"
   },
   {
    "duration": 21,
    "start_time": "2022-05-14T09:08:06.169Z"
   },
   {
    "duration": 28,
    "start_time": "2022-05-14T09:08:06.191Z"
   },
   {
    "duration": 20,
    "start_time": "2022-05-14T09:08:06.222Z"
   },
   {
    "duration": 14,
    "start_time": "2022-05-14T09:08:06.244Z"
   },
   {
    "duration": 16,
    "start_time": "2022-05-14T09:08:06.260Z"
   },
   {
    "duration": 57,
    "start_time": "2022-05-14T09:08:06.278Z"
   },
   {
    "duration": 21,
    "start_time": "2022-05-14T09:08:06.336Z"
   },
   {
    "duration": 30,
    "start_time": "2022-05-14T09:08:06.359Z"
   },
   {
    "duration": 47,
    "start_time": "2022-05-14T09:08:06.392Z"
   },
   {
    "duration": 15,
    "start_time": "2022-05-14T09:08:06.441Z"
   },
   {
    "duration": 14,
    "start_time": "2022-05-14T09:08:06.458Z"
   },
   {
    "duration": 8,
    "start_time": "2022-05-14T09:08:06.474Z"
   },
   {
    "duration": 49,
    "start_time": "2022-05-14T09:08:06.483Z"
   },
   {
    "duration": 6,
    "start_time": "2022-05-14T09:08:06.533Z"
   },
   {
    "duration": 12,
    "start_time": "2022-05-14T09:08:06.541Z"
   },
   {
    "duration": 132,
    "start_time": "2022-05-14T09:08:06.555Z"
   },
   {
    "duration": 0,
    "start_time": "2022-05-14T09:08:06.689Z"
   },
   {
    "duration": 0,
    "start_time": "2022-05-14T09:08:06.690Z"
   },
   {
    "duration": 0,
    "start_time": "2022-05-14T09:08:06.691Z"
   },
   {
    "duration": 0,
    "start_time": "2022-05-14T09:08:06.692Z"
   },
   {
    "duration": 0,
    "start_time": "2022-05-14T09:08:06.693Z"
   },
   {
    "duration": 0,
    "start_time": "2022-05-14T09:08:06.694Z"
   },
   {
    "duration": 1,
    "start_time": "2022-05-14T09:08:06.694Z"
   },
   {
    "duration": 0,
    "start_time": "2022-05-14T09:08:06.695Z"
   },
   {
    "duration": 0,
    "start_time": "2022-05-14T09:08:06.697Z"
   },
   {
    "duration": 0,
    "start_time": "2022-05-14T09:08:06.697Z"
   },
   {
    "duration": 0,
    "start_time": "2022-05-14T09:08:06.698Z"
   },
   {
    "duration": 0,
    "start_time": "2022-05-14T09:08:06.699Z"
   },
   {
    "duration": 0,
    "start_time": "2022-05-14T09:08:06.700Z"
   },
   {
    "duration": 0,
    "start_time": "2022-05-14T09:08:06.701Z"
   },
   {
    "duration": 0,
    "start_time": "2022-05-14T09:08:06.723Z"
   },
   {
    "duration": 0,
    "start_time": "2022-05-14T09:08:06.724Z"
   },
   {
    "duration": 0,
    "start_time": "2022-05-14T09:08:06.725Z"
   },
   {
    "duration": 0,
    "start_time": "2022-05-14T09:08:06.726Z"
   },
   {
    "duration": 0,
    "start_time": "2022-05-14T09:08:06.727Z"
   },
   {
    "duration": 0,
    "start_time": "2022-05-14T09:08:06.728Z"
   },
   {
    "duration": 0,
    "start_time": "2022-05-14T09:08:06.729Z"
   },
   {
    "duration": 0,
    "start_time": "2022-05-14T09:08:06.730Z"
   },
   {
    "duration": 0,
    "start_time": "2022-05-14T09:08:06.731Z"
   },
   {
    "duration": 0,
    "start_time": "2022-05-14T09:08:06.732Z"
   },
   {
    "duration": 0,
    "start_time": "2022-05-14T09:08:06.733Z"
   },
   {
    "duration": 0,
    "start_time": "2022-05-14T09:08:06.734Z"
   },
   {
    "duration": 0,
    "start_time": "2022-05-14T09:08:06.735Z"
   },
   {
    "duration": 0,
    "start_time": "2022-05-14T09:08:06.736Z"
   },
   {
    "duration": 0,
    "start_time": "2022-05-14T09:08:06.737Z"
   },
   {
    "duration": 0,
    "start_time": "2022-05-14T09:08:06.738Z"
   },
   {
    "duration": 15,
    "start_time": "2022-05-14T09:08:38.245Z"
   },
   {
    "duration": 1257,
    "start_time": "2022-05-14T09:08:44.044Z"
   },
   {
    "duration": 21,
    "start_time": "2022-05-14T09:08:45.304Z"
   },
   {
    "duration": 49,
    "start_time": "2022-05-14T09:08:45.328Z"
   },
   {
    "duration": 22,
    "start_time": "2022-05-14T09:08:45.380Z"
   },
   {
    "duration": 27,
    "start_time": "2022-05-14T09:08:45.404Z"
   },
   {
    "duration": 38,
    "start_time": "2022-05-14T09:08:45.433Z"
   },
   {
    "duration": 49,
    "start_time": "2022-05-14T09:08:45.473Z"
   },
   {
    "duration": 21,
    "start_time": "2022-05-14T09:08:45.524Z"
   },
   {
    "duration": 30,
    "start_time": "2022-05-14T09:08:45.547Z"
   },
   {
    "duration": 49,
    "start_time": "2022-05-14T09:08:45.580Z"
   },
   {
    "duration": 15,
    "start_time": "2022-05-14T09:08:45.631Z"
   },
   {
    "duration": 22,
    "start_time": "2022-05-14T09:08:45.647Z"
   },
   {
    "duration": 11,
    "start_time": "2022-05-14T09:08:45.670Z"
   },
   {
    "duration": 42,
    "start_time": "2022-05-14T09:08:45.682Z"
   },
   {
    "duration": 6,
    "start_time": "2022-05-14T09:08:45.726Z"
   },
   {
    "duration": 32,
    "start_time": "2022-05-14T09:08:45.733Z"
   },
   {
    "duration": 110,
    "start_time": "2022-05-14T09:08:45.770Z"
   },
   {
    "duration": 0,
    "start_time": "2022-05-14T09:08:45.883Z"
   },
   {
    "duration": 0,
    "start_time": "2022-05-14T09:08:45.884Z"
   },
   {
    "duration": 0,
    "start_time": "2022-05-14T09:08:45.886Z"
   },
   {
    "duration": 0,
    "start_time": "2022-05-14T09:08:45.887Z"
   },
   {
    "duration": 0,
    "start_time": "2022-05-14T09:08:45.888Z"
   },
   {
    "duration": 0,
    "start_time": "2022-05-14T09:08:45.890Z"
   },
   {
    "duration": 0,
    "start_time": "2022-05-14T09:08:45.891Z"
   },
   {
    "duration": 0,
    "start_time": "2022-05-14T09:08:45.892Z"
   },
   {
    "duration": 0,
    "start_time": "2022-05-14T09:08:45.894Z"
   },
   {
    "duration": 0,
    "start_time": "2022-05-14T09:08:45.922Z"
   },
   {
    "duration": 0,
    "start_time": "2022-05-14T09:08:45.924Z"
   },
   {
    "duration": 0,
    "start_time": "2022-05-14T09:08:45.925Z"
   },
   {
    "duration": 0,
    "start_time": "2022-05-14T09:08:45.926Z"
   },
   {
    "duration": 0,
    "start_time": "2022-05-14T09:08:45.928Z"
   },
   {
    "duration": 0,
    "start_time": "2022-05-14T09:08:45.929Z"
   },
   {
    "duration": 0,
    "start_time": "2022-05-14T09:08:45.930Z"
   },
   {
    "duration": 0,
    "start_time": "2022-05-14T09:08:45.933Z"
   },
   {
    "duration": 0,
    "start_time": "2022-05-14T09:08:45.934Z"
   },
   {
    "duration": 0,
    "start_time": "2022-05-14T09:08:45.936Z"
   },
   {
    "duration": 0,
    "start_time": "2022-05-14T09:08:45.937Z"
   },
   {
    "duration": 0,
    "start_time": "2022-05-14T09:08:45.938Z"
   },
   {
    "duration": 0,
    "start_time": "2022-05-14T09:08:45.939Z"
   },
   {
    "duration": 0,
    "start_time": "2022-05-14T09:08:45.940Z"
   },
   {
    "duration": 0,
    "start_time": "2022-05-14T09:08:45.941Z"
   },
   {
    "duration": 0,
    "start_time": "2022-05-14T09:08:45.942Z"
   },
   {
    "duration": 0,
    "start_time": "2022-05-14T09:08:45.943Z"
   },
   {
    "duration": 0,
    "start_time": "2022-05-14T09:08:45.944Z"
   },
   {
    "duration": 0,
    "start_time": "2022-05-14T09:08:45.946Z"
   },
   {
    "duration": 0,
    "start_time": "2022-05-14T09:08:45.947Z"
   },
   {
    "duration": 0,
    "start_time": "2022-05-14T09:08:45.947Z"
   },
   {
    "duration": 25,
    "start_time": "2022-05-14T09:12:44.509Z"
   },
   {
    "duration": 8,
    "start_time": "2022-05-14T09:12:49.503Z"
   },
   {
    "duration": 22,
    "start_time": "2022-05-14T09:12:52.430Z"
   },
   {
    "duration": 13,
    "start_time": "2022-05-14T09:13:00.894Z"
   },
   {
    "duration": 11,
    "start_time": "2022-05-14T09:13:05.686Z"
   },
   {
    "duration": 16,
    "start_time": "2022-05-14T09:13:42.382Z"
   },
   {
    "duration": 11,
    "start_time": "2022-05-14T09:14:01.567Z"
   },
   {
    "duration": 11,
    "start_time": "2022-05-14T09:17:43.423Z"
   },
   {
    "duration": 16,
    "start_time": "2022-05-14T09:17:52.509Z"
   },
   {
    "duration": 17,
    "start_time": "2022-05-14T09:20:29.122Z"
   },
   {
    "duration": 11,
    "start_time": "2022-05-14T09:21:18.767Z"
   },
   {
    "duration": 11,
    "start_time": "2022-05-14T09:21:47.372Z"
   },
   {
    "duration": 12,
    "start_time": "2022-05-14T09:21:48.540Z"
   },
   {
    "duration": 19,
    "start_time": "2022-05-14T09:21:56.252Z"
   },
   {
    "duration": 13,
    "start_time": "2022-05-14T09:22:01.349Z"
   },
   {
    "duration": 12,
    "start_time": "2022-05-14T09:29:36.139Z"
   },
   {
    "duration": 12,
    "start_time": "2022-05-14T09:29:49.683Z"
   },
   {
    "duration": 12,
    "start_time": "2022-05-14T09:31:59.415Z"
   },
   {
    "duration": 13,
    "start_time": "2022-05-14T09:32:53.273Z"
   },
   {
    "duration": 12,
    "start_time": "2022-05-14T09:33:12.834Z"
   },
   {
    "duration": 12,
    "start_time": "2022-05-14T09:33:22.523Z"
   },
   {
    "duration": 16,
    "start_time": "2022-05-14T09:34:23.601Z"
   },
   {
    "duration": 23,
    "start_time": "2022-05-14T09:36:11.416Z"
   },
   {
    "duration": 13,
    "start_time": "2022-05-14T09:36:23.364Z"
   },
   {
    "duration": 127,
    "start_time": "2022-05-14T09:36:27.752Z"
   },
   {
    "duration": 9,
    "start_time": "2022-05-14T09:36:28.456Z"
   },
   {
    "duration": 115,
    "start_time": "2022-05-14T09:36:30.336Z"
   },
   {
    "duration": 10,
    "start_time": "2022-05-14T09:36:30.575Z"
   },
   {
    "duration": 119,
    "start_time": "2022-05-14T09:36:31.023Z"
   },
   {
    "duration": 10,
    "start_time": "2022-05-14T09:36:31.272Z"
   },
   {
    "duration": 594,
    "start_time": "2022-05-14T09:36:35.344Z"
   },
   {
    "duration": 22,
    "start_time": "2022-05-14T09:36:45.968Z"
   },
   {
    "duration": 161,
    "start_time": "2022-05-14T09:43:33.645Z"
   },
   {
    "duration": 8,
    "start_time": "2022-05-14T09:43:35.206Z"
   },
   {
    "duration": 156,
    "start_time": "2022-05-14T09:43:35.912Z"
   },
   {
    "duration": 9,
    "start_time": "2022-05-14T09:43:36.333Z"
   },
   {
    "duration": 9,
    "start_time": "2022-05-14T09:43:37.622Z"
   },
   {
    "duration": 8,
    "start_time": "2022-05-14T09:43:38.046Z"
   },
   {
    "duration": 27,
    "start_time": "2022-05-14T09:43:39.662Z"
   },
   {
    "duration": 16,
    "start_time": "2022-05-14T09:43:40.785Z"
   },
   {
    "duration": 15,
    "start_time": "2022-05-14T09:43:41.407Z"
   },
   {
    "duration": 16,
    "start_time": "2022-05-14T09:43:42.021Z"
   },
   {
    "duration": 21,
    "start_time": "2022-05-14T09:43:42.830Z"
   },
   {
    "duration": 15,
    "start_time": "2022-05-14T09:43:43.438Z"
   },
   {
    "duration": 16,
    "start_time": "2022-05-14T09:43:44.030Z"
   },
   {
    "duration": 16,
    "start_time": "2022-05-14T09:43:44.911Z"
   },
   {
    "duration": 16,
    "start_time": "2022-05-14T09:43:45.557Z"
   },
   {
    "duration": 16,
    "start_time": "2022-05-14T09:43:46.206Z"
   },
   {
    "duration": 7,
    "start_time": "2022-05-14T09:43:48.917Z"
   },
   {
    "duration": 6,
    "start_time": "2022-05-14T09:43:49.149Z"
   },
   {
    "duration": 8,
    "start_time": "2022-05-14T09:44:01.918Z"
   },
   {
    "duration": 8,
    "start_time": "2022-05-14T09:49:13.613Z"
   },
   {
    "duration": 7,
    "start_time": "2022-05-14T09:49:13.805Z"
   },
   {
    "duration": 9,
    "start_time": "2022-05-14T09:49:14.197Z"
   },
   {
    "duration": 1403,
    "start_time": "2022-05-14T09:53:08.808Z"
   },
   {
    "duration": 21,
    "start_time": "2022-05-14T09:53:10.214Z"
   },
   {
    "duration": 30,
    "start_time": "2022-05-14T09:53:10.239Z"
   },
   {
    "duration": 21,
    "start_time": "2022-05-14T09:53:10.271Z"
   },
   {
    "duration": 31,
    "start_time": "2022-05-14T09:53:10.294Z"
   },
   {
    "duration": 13,
    "start_time": "2022-05-14T09:53:10.327Z"
   },
   {
    "duration": 34,
    "start_time": "2022-05-14T09:53:10.342Z"
   },
   {
    "duration": 56,
    "start_time": "2022-05-14T09:53:10.378Z"
   },
   {
    "duration": 30,
    "start_time": "2022-05-14T09:53:10.438Z"
   },
   {
    "duration": 24,
    "start_time": "2022-05-14T09:53:10.469Z"
   },
   {
    "duration": 42,
    "start_time": "2022-05-14T09:53:10.495Z"
   },
   {
    "duration": 15,
    "start_time": "2022-05-14T09:53:10.539Z"
   },
   {
    "duration": 8,
    "start_time": "2022-05-14T09:53:10.556Z"
   },
   {
    "duration": 23,
    "start_time": "2022-05-14T09:53:10.566Z"
   },
   {
    "duration": 33,
    "start_time": "2022-05-14T09:53:10.591Z"
   },
   {
    "duration": 26,
    "start_time": "2022-05-14T09:53:10.626Z"
   },
   {
    "duration": 15,
    "start_time": "2022-05-14T09:53:10.654Z"
   },
   {
    "duration": 144,
    "start_time": "2022-05-14T09:53:10.670Z"
   },
   {
    "duration": 13,
    "start_time": "2022-05-14T09:53:10.815Z"
   },
   {
    "duration": 142,
    "start_time": "2022-05-14T09:53:10.830Z"
   },
   {
    "duration": 9,
    "start_time": "2022-05-14T09:53:10.974Z"
   },
   {
    "duration": 121,
    "start_time": "2022-05-14T09:53:10.985Z"
   },
   {
    "duration": 19,
    "start_time": "2022-05-14T09:53:11.108Z"
   },
   {
    "duration": 629,
    "start_time": "2022-05-14T09:53:11.129Z"
   },
   {
    "duration": 64,
    "start_time": "2022-05-14T09:53:11.760Z"
   },
   {
    "duration": 210,
    "start_time": "2022-05-14T09:53:11.826Z"
   },
   {
    "duration": 8,
    "start_time": "2022-05-14T09:53:12.040Z"
   },
   {
    "duration": 201,
    "start_time": "2022-05-14T09:53:12.050Z"
   },
   {
    "duration": 10,
    "start_time": "2022-05-14T09:53:12.254Z"
   },
   {
    "duration": 11,
    "start_time": "2022-05-14T09:53:12.266Z"
   },
   {
    "duration": 11,
    "start_time": "2022-05-14T09:53:12.279Z"
   },
   {
    "duration": 58,
    "start_time": "2022-05-14T09:53:12.292Z"
   },
   {
    "duration": 17,
    "start_time": "2022-05-14T09:53:12.351Z"
   },
   {
    "duration": 17,
    "start_time": "2022-05-14T09:53:12.370Z"
   },
   {
    "duration": 42,
    "start_time": "2022-05-14T09:53:12.389Z"
   },
   {
    "duration": 16,
    "start_time": "2022-05-14T09:53:12.433Z"
   },
   {
    "duration": 15,
    "start_time": "2022-05-14T09:53:12.452Z"
   },
   {
    "duration": 19,
    "start_time": "2022-05-14T09:53:12.469Z"
   },
   {
    "duration": 43,
    "start_time": "2022-05-14T09:53:12.489Z"
   },
   {
    "duration": 22,
    "start_time": "2022-05-14T09:53:12.533Z"
   },
   {
    "duration": 17,
    "start_time": "2022-05-14T09:53:12.557Z"
   },
   {
    "duration": 11,
    "start_time": "2022-05-14T09:53:12.575Z"
   },
   {
    "duration": 36,
    "start_time": "2022-05-14T09:53:12.588Z"
   },
   {
    "duration": 10,
    "start_time": "2022-05-14T09:53:12.626Z"
   },
   {
    "duration": 9,
    "start_time": "2022-05-14T09:53:12.638Z"
   },
   {
    "duration": 9,
    "start_time": "2022-05-14T09:53:12.649Z"
   },
   {
    "duration": 12,
    "start_time": "2022-05-14T09:53:12.659Z"
   }
  ],
  "kernelspec": {
   "display_name": "Python 3 (ipykernel)",
   "language": "python",
   "name": "python3"
  },
  "language_info": {
   "codemirror_mode": {
    "name": "ipython",
    "version": 3
   },
   "file_extension": ".py",
   "mimetype": "text/x-python",
   "name": "python",
   "nbconvert_exporter": "python",
   "pygments_lexer": "ipython3",
   "version": "3.9.7"
  },
  "toc": {
   "base_numbering": 1,
   "nav_menu": {},
   "number_sections": false,
   "sideBar": true,
   "skip_h1_title": true,
   "title_cell": "Table of Contents",
   "title_sidebar": "Contents",
   "toc_cell": false,
   "toc_position": {
    "height": "calc(100% - 180px)",
    "left": "10px",
    "top": "150px",
    "width": "165px"
   },
   "toc_section_display": true,
   "toc_window_display": true
  }
 },
 "nbformat": 4,
 "nbformat_minor": 2
}
