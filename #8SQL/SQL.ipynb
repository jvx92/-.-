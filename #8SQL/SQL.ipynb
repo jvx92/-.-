{
 "cells": [
  {
   "cell_type": "markdown",
   "metadata": {},
   "source": [
    "# Проект по SQL"
   ]
  },
  {
   "cell_type": "markdown",
   "metadata": {},
   "source": [
    "Коронавирус застал мир врасплох, изменив привычный порядок вещей. В свободное время жители городов больше не выходят на улицу, не посещают кафе и торговые центры. Зато стало больше времени для книг. Это заметили стартаперы — и бросились создавать приложения для тех, кто любит читать.  \n",
    "\n",
    "Ваша компания решила быть на волне и купила крупный сервис для чтения книг по подписке. Ваша первая задача как аналитика — проанализировать базу данных. В ней — информация о книгах, издательствах, авторах, а также пользовательские обзоры книг. Эти данные помогут сформулировать ценностное предложение для нового продукта."
   ]
  },
  {
   "cell_type": "markdown",
   "metadata": {},
   "source": [
    "### Задачи проекта\n",
    "* Посчитать, сколько книг вышло после 1 января 2000 года;\n",
    "* Для каждой книги посчитать количество обзоров и среднюю оценку;\n",
    "* Определить издательство, которое выпустило наибольшее число книг толще 50 страниц — так вы исключите из анализа брошюры;\n",
    "* Определить автора с самой высокой средней оценкой книг — учитывайте только книги с 50 и более оценками;\n",
    "* Посчитать среднее количество обзоров от пользователей, которые поставили больше 50 оценок."
   ]
  },
  {
   "cell_type": "markdown",
   "metadata": {},
   "source": [
    "### 1. Загрузим данные"
   ]
  },
  {
   "cell_type": "code",
   "execution_count": 1,
   "metadata": {},
   "outputs": [],
   "source": [
    "import pandas as pd\n",
    "from sqlalchemy import create_engine"
   ]
  },
  {
   "cell_type": "code",
   "execution_count": 2,
   "metadata": {},
   "outputs": [],
   "source": [
    "db_config = {'user': 'praktikum_student',\n",
    " 'pwd': 'Sdf4$2;d-d30pp',\n",
    " 'host': 'rc1b-wcoijxj3yxfsf3fs.mdb.yandexcloud.net',\n",
    " 'port': 6432, \n",
    " 'db': 'data-analyst-final-project-db'} \n",
    "connection_string = 'postgresql://{}:{}@{}:{}/{}'.format(db_config['user'],\n",
    " db_config['pwd'],\n",
    " db_config['host'],\n",
    " db_config['port'],\n",
    " db_config['db'])\n",
    "\n",
    "engine = create_engine(connection_string, connect_args={'sslmode':'require'})"
   ]
  },
  {
   "cell_type": "markdown",
   "metadata": {},
   "source": [
    "Загрузим датасет с книгами:"
   ]
  },
  {
   "cell_type": "code",
   "execution_count": 3,
   "metadata": {
    "scrolled": true
   },
   "outputs": [
    {
     "data": {
      "text/html": [
       "<div>\n",
       "<style scoped>\n",
       "    .dataframe tbody tr th:only-of-type {\n",
       "        vertical-align: middle;\n",
       "    }\n",
       "\n",
       "    .dataframe tbody tr th {\n",
       "        vertical-align: top;\n",
       "    }\n",
       "\n",
       "    .dataframe thead th {\n",
       "        text-align: right;\n",
       "    }\n",
       "</style>\n",
       "<table border=\"1\" class=\"dataframe\">\n",
       "  <thead>\n",
       "    <tr style=\"text-align: right;\">\n",
       "      <th></th>\n",
       "      <th>book_id</th>\n",
       "      <th>author_id</th>\n",
       "      <th>title</th>\n",
       "      <th>num_pages</th>\n",
       "      <th>publication_date</th>\n",
       "      <th>publisher_id</th>\n",
       "    </tr>\n",
       "  </thead>\n",
       "  <tbody>\n",
       "    <tr>\n",
       "      <th>0</th>\n",
       "      <td>1</td>\n",
       "      <td>546</td>\n",
       "      <td>'Salem's Lot</td>\n",
       "      <td>594</td>\n",
       "      <td>2005-11-01</td>\n",
       "      <td>93</td>\n",
       "    </tr>\n",
       "    <tr>\n",
       "      <th>1</th>\n",
       "      <td>2</td>\n",
       "      <td>465</td>\n",
       "      <td>1 000 Places to See Before You Die</td>\n",
       "      <td>992</td>\n",
       "      <td>2003-05-22</td>\n",
       "      <td>336</td>\n",
       "    </tr>\n",
       "    <tr>\n",
       "      <th>2</th>\n",
       "      <td>3</td>\n",
       "      <td>407</td>\n",
       "      <td>13 Little Blue Envelopes (Little Blue Envelope...</td>\n",
       "      <td>322</td>\n",
       "      <td>2010-12-21</td>\n",
       "      <td>135</td>\n",
       "    </tr>\n",
       "    <tr>\n",
       "      <th>3</th>\n",
       "      <td>4</td>\n",
       "      <td>82</td>\n",
       "      <td>1491: New Revelations of the Americas Before C...</td>\n",
       "      <td>541</td>\n",
       "      <td>2006-10-10</td>\n",
       "      <td>309</td>\n",
       "    </tr>\n",
       "    <tr>\n",
       "      <th>4</th>\n",
       "      <td>5</td>\n",
       "      <td>125</td>\n",
       "      <td>1776</td>\n",
       "      <td>386</td>\n",
       "      <td>2006-07-04</td>\n",
       "      <td>268</td>\n",
       "    </tr>\n",
       "  </tbody>\n",
       "</table>\n",
       "</div>"
      ],
      "text/plain": [
       "   book_id  author_id                                              title  \\\n",
       "0        1        546                                       'Salem's Lot   \n",
       "1        2        465                 1 000 Places to See Before You Die   \n",
       "2        3        407  13 Little Blue Envelopes (Little Blue Envelope...   \n",
       "3        4         82  1491: New Revelations of the Americas Before C...   \n",
       "4        5        125                                               1776   \n",
       "\n",
       "   num_pages publication_date  publisher_id  \n",
       "0        594       2005-11-01            93  \n",
       "1        992       2003-05-22           336  \n",
       "2        322       2010-12-21           135  \n",
       "3        541       2006-10-10           309  \n",
       "4        386       2006-07-04           268  "
      ]
     },
     "execution_count": 3,
     "metadata": {},
     "output_type": "execute_result"
    }
   ],
   "source": [
    "books = pd.io.sql.read_sql(\n",
    "    '''SELECT * \n",
    "       FROM books'''\n",
    ", con = engine) \n",
    "books.head()"
   ]
  },
  {
   "cell_type": "markdown",
   "metadata": {},
   "source": [
    "Загрузим датасет с авторами:"
   ]
  },
  {
   "cell_type": "code",
   "execution_count": 4,
   "metadata": {},
   "outputs": [
    {
     "data": {
      "text/html": [
       "<div>\n",
       "<style scoped>\n",
       "    .dataframe tbody tr th:only-of-type {\n",
       "        vertical-align: middle;\n",
       "    }\n",
       "\n",
       "    .dataframe tbody tr th {\n",
       "        vertical-align: top;\n",
       "    }\n",
       "\n",
       "    .dataframe thead th {\n",
       "        text-align: right;\n",
       "    }\n",
       "</style>\n",
       "<table border=\"1\" class=\"dataframe\">\n",
       "  <thead>\n",
       "    <tr style=\"text-align: right;\">\n",
       "      <th></th>\n",
       "      <th>author_id</th>\n",
       "      <th>author</th>\n",
       "    </tr>\n",
       "  </thead>\n",
       "  <tbody>\n",
       "    <tr>\n",
       "      <th>0</th>\n",
       "      <td>1</td>\n",
       "      <td>A.S. Byatt</td>\n",
       "    </tr>\n",
       "    <tr>\n",
       "      <th>1</th>\n",
       "      <td>2</td>\n",
       "      <td>Aesop/Laura Harris/Laura Gibbs</td>\n",
       "    </tr>\n",
       "    <tr>\n",
       "      <th>2</th>\n",
       "      <td>3</td>\n",
       "      <td>Agatha Christie</td>\n",
       "    </tr>\n",
       "    <tr>\n",
       "      <th>3</th>\n",
       "      <td>4</td>\n",
       "      <td>Alan Brennert</td>\n",
       "    </tr>\n",
       "    <tr>\n",
       "      <th>4</th>\n",
       "      <td>5</td>\n",
       "      <td>Alan Moore/David   Lloyd</td>\n",
       "    </tr>\n",
       "  </tbody>\n",
       "</table>\n",
       "</div>"
      ],
      "text/plain": [
       "   author_id                          author\n",
       "0          1                      A.S. Byatt\n",
       "1          2  Aesop/Laura Harris/Laura Gibbs\n",
       "2          3                 Agatha Christie\n",
       "3          4                   Alan Brennert\n",
       "4          5        Alan Moore/David   Lloyd"
      ]
     },
     "execution_count": 4,
     "metadata": {},
     "output_type": "execute_result"
    }
   ],
   "source": [
    "authors = pd.io.sql.read_sql(\n",
    "    '''SELECT * \n",
    "       FROM authors'''\n",
    "   , con = engine) \n",
    "authors.head()"
   ]
  },
  {
   "cell_type": "markdown",
   "metadata": {},
   "source": [
    "Загрузим датасет с издателями:"
   ]
  },
  {
   "cell_type": "code",
   "execution_count": 5,
   "metadata": {},
   "outputs": [
    {
     "data": {
      "text/html": [
       "<div>\n",
       "<style scoped>\n",
       "    .dataframe tbody tr th:only-of-type {\n",
       "        vertical-align: middle;\n",
       "    }\n",
       "\n",
       "    .dataframe tbody tr th {\n",
       "        vertical-align: top;\n",
       "    }\n",
       "\n",
       "    .dataframe thead th {\n",
       "        text-align: right;\n",
       "    }\n",
       "</style>\n",
       "<table border=\"1\" class=\"dataframe\">\n",
       "  <thead>\n",
       "    <tr style=\"text-align: right;\">\n",
       "      <th></th>\n",
       "      <th>publisher_id</th>\n",
       "      <th>publisher</th>\n",
       "    </tr>\n",
       "  </thead>\n",
       "  <tbody>\n",
       "    <tr>\n",
       "      <th>0</th>\n",
       "      <td>1</td>\n",
       "      <td>Ace</td>\n",
       "    </tr>\n",
       "    <tr>\n",
       "      <th>1</th>\n",
       "      <td>2</td>\n",
       "      <td>Ace Book</td>\n",
       "    </tr>\n",
       "    <tr>\n",
       "      <th>2</th>\n",
       "      <td>3</td>\n",
       "      <td>Ace Books</td>\n",
       "    </tr>\n",
       "    <tr>\n",
       "      <th>3</th>\n",
       "      <td>4</td>\n",
       "      <td>Ace Hardcover</td>\n",
       "    </tr>\n",
       "    <tr>\n",
       "      <th>4</th>\n",
       "      <td>5</td>\n",
       "      <td>Addison Wesley Publishing Company</td>\n",
       "    </tr>\n",
       "  </tbody>\n",
       "</table>\n",
       "</div>"
      ],
      "text/plain": [
       "   publisher_id                          publisher\n",
       "0             1                                Ace\n",
       "1             2                           Ace Book\n",
       "2             3                          Ace Books\n",
       "3             4                      Ace Hardcover\n",
       "4             5  Addison Wesley Publishing Company"
      ]
     },
     "execution_count": 5,
     "metadata": {},
     "output_type": "execute_result"
    }
   ],
   "source": [
    "publishers = pd.io.sql.read_sql(\n",
    "    '''SELECT * \n",
    "       FROM publishers'''\n",
    "   , con = engine) \n",
    "publishers.head()"
   ]
  },
  {
   "cell_type": "markdown",
   "metadata": {},
   "source": [
    "Загрузим датасет с рейтингами:"
   ]
  },
  {
   "cell_type": "code",
   "execution_count": 6,
   "metadata": {},
   "outputs": [
    {
     "data": {
      "text/html": [
       "<div>\n",
       "<style scoped>\n",
       "    .dataframe tbody tr th:only-of-type {\n",
       "        vertical-align: middle;\n",
       "    }\n",
       "\n",
       "    .dataframe tbody tr th {\n",
       "        vertical-align: top;\n",
       "    }\n",
       "\n",
       "    .dataframe thead th {\n",
       "        text-align: right;\n",
       "    }\n",
       "</style>\n",
       "<table border=\"1\" class=\"dataframe\">\n",
       "  <thead>\n",
       "    <tr style=\"text-align: right;\">\n",
       "      <th></th>\n",
       "      <th>rating_id</th>\n",
       "      <th>book_id</th>\n",
       "      <th>username</th>\n",
       "      <th>rating</th>\n",
       "    </tr>\n",
       "  </thead>\n",
       "  <tbody>\n",
       "    <tr>\n",
       "      <th>0</th>\n",
       "      <td>1</td>\n",
       "      <td>1</td>\n",
       "      <td>ryanfranco</td>\n",
       "      <td>4</td>\n",
       "    </tr>\n",
       "    <tr>\n",
       "      <th>1</th>\n",
       "      <td>2</td>\n",
       "      <td>1</td>\n",
       "      <td>grantpatricia</td>\n",
       "      <td>2</td>\n",
       "    </tr>\n",
       "    <tr>\n",
       "      <th>2</th>\n",
       "      <td>3</td>\n",
       "      <td>1</td>\n",
       "      <td>brandtandrea</td>\n",
       "      <td>5</td>\n",
       "    </tr>\n",
       "    <tr>\n",
       "      <th>3</th>\n",
       "      <td>4</td>\n",
       "      <td>2</td>\n",
       "      <td>lorichen</td>\n",
       "      <td>3</td>\n",
       "    </tr>\n",
       "    <tr>\n",
       "      <th>4</th>\n",
       "      <td>5</td>\n",
       "      <td>2</td>\n",
       "      <td>mariokeller</td>\n",
       "      <td>2</td>\n",
       "    </tr>\n",
       "  </tbody>\n",
       "</table>\n",
       "</div>"
      ],
      "text/plain": [
       "   rating_id  book_id       username  rating\n",
       "0          1        1     ryanfranco       4\n",
       "1          2        1  grantpatricia       2\n",
       "2          3        1   brandtandrea       5\n",
       "3          4        2       lorichen       3\n",
       "4          5        2    mariokeller       2"
      ]
     },
     "execution_count": 6,
     "metadata": {},
     "output_type": "execute_result"
    }
   ],
   "source": [
    "ratings = pd.io.sql.read_sql(\n",
    "    '''SELECT * \n",
    "       FROM ratings'''\n",
    "   , con = engine) \n",
    "ratings.head()"
   ]
  },
  {
   "cell_type": "markdown",
   "metadata": {},
   "source": [
    "Загрузим датасет с обзорами:"
   ]
  },
  {
   "cell_type": "code",
   "execution_count": 7,
   "metadata": {
    "scrolled": false
   },
   "outputs": [
    {
     "data": {
      "text/html": [
       "<div>\n",
       "<style scoped>\n",
       "    .dataframe tbody tr th:only-of-type {\n",
       "        vertical-align: middle;\n",
       "    }\n",
       "\n",
       "    .dataframe tbody tr th {\n",
       "        vertical-align: top;\n",
       "    }\n",
       "\n",
       "    .dataframe thead th {\n",
       "        text-align: right;\n",
       "    }\n",
       "</style>\n",
       "<table border=\"1\" class=\"dataframe\">\n",
       "  <thead>\n",
       "    <tr style=\"text-align: right;\">\n",
       "      <th></th>\n",
       "      <th>review_id</th>\n",
       "      <th>book_id</th>\n",
       "      <th>username</th>\n",
       "      <th>text</th>\n",
       "    </tr>\n",
       "  </thead>\n",
       "  <tbody>\n",
       "    <tr>\n",
       "      <th>0</th>\n",
       "      <td>1</td>\n",
       "      <td>1</td>\n",
       "      <td>brandtandrea</td>\n",
       "      <td>Mention society tell send professor analysis. ...</td>\n",
       "    </tr>\n",
       "    <tr>\n",
       "      <th>1</th>\n",
       "      <td>2</td>\n",
       "      <td>1</td>\n",
       "      <td>ryanfranco</td>\n",
       "      <td>Foot glass pretty audience hit themselves. Amo...</td>\n",
       "    </tr>\n",
       "    <tr>\n",
       "      <th>2</th>\n",
       "      <td>3</td>\n",
       "      <td>2</td>\n",
       "      <td>lorichen</td>\n",
       "      <td>Listen treat keep worry. Miss husband tax but ...</td>\n",
       "    </tr>\n",
       "    <tr>\n",
       "      <th>3</th>\n",
       "      <td>4</td>\n",
       "      <td>3</td>\n",
       "      <td>johnsonamanda</td>\n",
       "      <td>Finally month interesting blue could nature cu...</td>\n",
       "    </tr>\n",
       "    <tr>\n",
       "      <th>4</th>\n",
       "      <td>5</td>\n",
       "      <td>3</td>\n",
       "      <td>scotttamara</td>\n",
       "      <td>Nation purpose heavy give wait song will. List...</td>\n",
       "    </tr>\n",
       "  </tbody>\n",
       "</table>\n",
       "</div>"
      ],
      "text/plain": [
       "   review_id  book_id       username  \\\n",
       "0          1        1   brandtandrea   \n",
       "1          2        1     ryanfranco   \n",
       "2          3        2       lorichen   \n",
       "3          4        3  johnsonamanda   \n",
       "4          5        3    scotttamara   \n",
       "\n",
       "                                                text  \n",
       "0  Mention society tell send professor analysis. ...  \n",
       "1  Foot glass pretty audience hit themselves. Amo...  \n",
       "2  Listen treat keep worry. Miss husband tax but ...  \n",
       "3  Finally month interesting blue could nature cu...  \n",
       "4  Nation purpose heavy give wait song will. List...  "
      ]
     },
     "execution_count": 7,
     "metadata": {},
     "output_type": "execute_result"
    }
   ],
   "source": [
    "reviews = pd.io.sql.read_sql(\n",
    "    '''SELECT * \n",
    "       FROM reviews'''\n",
    "   , con = engine) \n",
    "reviews.head()"
   ]
  },
  {
   "cell_type": "markdown",
   "metadata": {},
   "source": [
    "### 2. Выполним задания"
   ]
  },
  {
   "cell_type": "markdown",
   "metadata": {},
   "source": [
    "#### 2.1 Посчитаем, сколько книг вышло после 1 января 2000 года;"
   ]
  },
  {
   "cell_type": "code",
   "execution_count": 8,
   "metadata": {},
   "outputs": [
    {
     "data": {
      "text/html": [
       "<div>\n",
       "<style scoped>\n",
       "    .dataframe tbody tr th:only-of-type {\n",
       "        vertical-align: middle;\n",
       "    }\n",
       "\n",
       "    .dataframe tbody tr th {\n",
       "        vertical-align: top;\n",
       "    }\n",
       "\n",
       "    .dataframe thead th {\n",
       "        text-align: right;\n",
       "    }\n",
       "</style>\n",
       "<table border=\"1\" class=\"dataframe\">\n",
       "  <thead>\n",
       "    <tr style=\"text-align: right;\">\n",
       "      <th></th>\n",
       "      <th>number_of_books</th>\n",
       "    </tr>\n",
       "  </thead>\n",
       "  <tbody>\n",
       "    <tr>\n",
       "      <th>0</th>\n",
       "      <td>819</td>\n",
       "    </tr>\n",
       "  </tbody>\n",
       "</table>\n",
       "</div>"
      ],
      "text/plain": [
       "   number_of_books\n",
       "0              819"
      ]
     },
     "execution_count": 8,
     "metadata": {},
     "output_type": "execute_result"
    }
   ],
   "source": [
    "pd.io.sql.read_sql(\n",
    "    '''SELECT \n",
    "           COUNT(title) as number_of_books \n",
    "           \n",
    "       FROM \n",
    "           books\n",
    "           \n",
    "       WHERE \n",
    "           publication_date >'2000-01-01' '''\n",
    "    \n",
    ", con = engine)"
   ]
  },
  {
   "cell_type": "markdown",
   "metadata": {},
   "source": [
    "**Вывод:** после 1 января 2000 года вышло **819** книг\n"
   ]
  },
  {
   "cell_type": "markdown",
   "metadata": {},
   "source": [
    "#### 2.2 Для каждой книги посчитайте количество обзоров и среднюю оценку"
   ]
  },
  {
   "cell_type": "code",
   "execution_count": 13,
   "metadata": {},
   "outputs": [
    {
     "data": {
      "text/html": [
       "<div>\n",
       "<style scoped>\n",
       "    .dataframe tbody tr th:only-of-type {\n",
       "        vertical-align: middle;\n",
       "    }\n",
       "\n",
       "    .dataframe tbody tr th {\n",
       "        vertical-align: top;\n",
       "    }\n",
       "\n",
       "    .dataframe thead th {\n",
       "        text-align: right;\n",
       "    }\n",
       "</style>\n",
       "<table border=\"1\" class=\"dataframe\">\n",
       "  <thead>\n",
       "    <tr style=\"text-align: right;\">\n",
       "      <th></th>\n",
       "      <th>book_id</th>\n",
       "      <th>title</th>\n",
       "      <th>number_of_reviews</th>\n",
       "      <th>avg_rating</th>\n",
       "    </tr>\n",
       "  </thead>\n",
       "  <tbody>\n",
       "    <tr>\n",
       "      <th>0</th>\n",
       "      <td>948</td>\n",
       "      <td>Twilight (Twilight  #1)</td>\n",
       "      <td>7</td>\n",
       "      <td>3.66</td>\n",
       "    </tr>\n",
       "    <tr>\n",
       "      <th>1</th>\n",
       "      <td>963</td>\n",
       "      <td>Water for Elephants</td>\n",
       "      <td>6</td>\n",
       "      <td>3.98</td>\n",
       "    </tr>\n",
       "    <tr>\n",
       "      <th>2</th>\n",
       "      <td>734</td>\n",
       "      <td>The Glass Castle</td>\n",
       "      <td>6</td>\n",
       "      <td>4.21</td>\n",
       "    </tr>\n",
       "    <tr>\n",
       "      <th>3</th>\n",
       "      <td>302</td>\n",
       "      <td>Harry Potter and the Prisoner of Azkaban (Harr...</td>\n",
       "      <td>6</td>\n",
       "      <td>4.41</td>\n",
       "    </tr>\n",
       "    <tr>\n",
       "      <th>4</th>\n",
       "      <td>695</td>\n",
       "      <td>The Curious Incident of the Dog in the Night-Time</td>\n",
       "      <td>6</td>\n",
       "      <td>4.08</td>\n",
       "    </tr>\n",
       "    <tr>\n",
       "      <th>...</th>\n",
       "      <td>...</td>\n",
       "      <td>...</td>\n",
       "      <td>...</td>\n",
       "      <td>...</td>\n",
       "    </tr>\n",
       "    <tr>\n",
       "      <th>995</th>\n",
       "      <td>83</td>\n",
       "      <td>Anne Rice's The Vampire Lestat: A Graphic Novel</td>\n",
       "      <td>0</td>\n",
       "      <td>3.67</td>\n",
       "    </tr>\n",
       "    <tr>\n",
       "      <th>996</th>\n",
       "      <td>808</td>\n",
       "      <td>The Natural Way to Draw</td>\n",
       "      <td>0</td>\n",
       "      <td>3.00</td>\n",
       "    </tr>\n",
       "    <tr>\n",
       "      <th>997</th>\n",
       "      <td>672</td>\n",
       "      <td>The Cat in the Hat and Other Dr. Seuss Favorites</td>\n",
       "      <td>0</td>\n",
       "      <td>5.00</td>\n",
       "    </tr>\n",
       "    <tr>\n",
       "      <th>998</th>\n",
       "      <td>221</td>\n",
       "      <td>Essential Tales and Poems</td>\n",
       "      <td>0</td>\n",
       "      <td>4.00</td>\n",
       "    </tr>\n",
       "    <tr>\n",
       "      <th>999</th>\n",
       "      <td>191</td>\n",
       "      <td>Disney's Beauty and the Beast (A Little Golden...</td>\n",
       "      <td>0</td>\n",
       "      <td>4.00</td>\n",
       "    </tr>\n",
       "  </tbody>\n",
       "</table>\n",
       "<p>1000 rows × 4 columns</p>\n",
       "</div>"
      ],
      "text/plain": [
       "     book_id                                              title  \\\n",
       "0        948                            Twilight (Twilight  #1)   \n",
       "1        963                                Water for Elephants   \n",
       "2        734                                   The Glass Castle   \n",
       "3        302  Harry Potter and the Prisoner of Azkaban (Harr...   \n",
       "4        695  The Curious Incident of the Dog in the Night-Time   \n",
       "..       ...                                                ...   \n",
       "995       83    Anne Rice's The Vampire Lestat: A Graphic Novel   \n",
       "996      808                            The Natural Way to Draw   \n",
       "997      672   The Cat in the Hat and Other Dr. Seuss Favorites   \n",
       "998      221                          Essential Tales and Poems   \n",
       "999      191  Disney's Beauty and the Beast (A Little Golden...   \n",
       "\n",
       "     number_of_reviews  avg_rating  \n",
       "0                    7        3.66  \n",
       "1                    6        3.98  \n",
       "2                    6        4.21  \n",
       "3                    6        4.41  \n",
       "4                    6        4.08  \n",
       "..                 ...         ...  \n",
       "995                  0        3.67  \n",
       "996                  0        3.00  \n",
       "997                  0        5.00  \n",
       "998                  0        4.00  \n",
       "999                  0        4.00  \n",
       "\n",
       "[1000 rows x 4 columns]"
      ]
     },
     "execution_count": 13,
     "metadata": {},
     "output_type": "execute_result"
    }
   ],
   "source": [
    "pd.io.sql.read_sql(\n",
    "    '''SELECT \n",
    "            books.book_id, \n",
    "            books.title, \n",
    "            COUNT(DISTINCT reviews.review_id) as number_of_reviews,  -- вот тут надо добавить DISTINCT\n",
    "            round(AVG(ratings.rating::numeric),2) as avg_rating\n",
    "            \n",
    "       FROM books\n",
    "       LEFT JOIN ratings ON books.book_id = ratings.book_id\n",
    "       LEFT JOIN reviews ON ratings.book_id = reviews.book_id\n",
    "       \n",
    "       GROUP BY \n",
    "            books.book_id\n",
    "       \n",
    "       ORDER BY \n",
    "            number_of_reviews DESC\n",
    "           \n",
    "       '''\n",
    "    \n",
    ", con = engine) "
   ]
  },
  {
   "cell_type": "markdown",
   "metadata": {},
   "source": [
    "**Вывод:** оказалось, что больше всех обзоров вышло для книги **Twilight** (Twilight1 #1) в количестве **7**"
   ]
  },
  {
   "cell_type": "markdown",
   "metadata": {},
   "source": [
    "\n"
   ]
  },
  {
   "cell_type": "markdown",
   "metadata": {},
   "source": [
    "#### 2.3 Определим издательство, которое выпустило наибольшее число книг толще 50 страниц — так мы исключим из анализа брошюры"
   ]
  },
  {
   "cell_type": "code",
   "execution_count": 10,
   "metadata": {
    "scrolled": true
   },
   "outputs": [
    {
     "data": {
      "text/html": [
       "<div>\n",
       "<style scoped>\n",
       "    .dataframe tbody tr th:only-of-type {\n",
       "        vertical-align: middle;\n",
       "    }\n",
       "\n",
       "    .dataframe tbody tr th {\n",
       "        vertical-align: top;\n",
       "    }\n",
       "\n",
       "    .dataframe thead th {\n",
       "        text-align: right;\n",
       "    }\n",
       "</style>\n",
       "<table border=\"1\" class=\"dataframe\">\n",
       "  <thead>\n",
       "    <tr style=\"text-align: right;\">\n",
       "      <th></th>\n",
       "      <th>publisher</th>\n",
       "      <th>number_of_books</th>\n",
       "    </tr>\n",
       "  </thead>\n",
       "  <tbody>\n",
       "    <tr>\n",
       "      <th>0</th>\n",
       "      <td>Penguin Books</td>\n",
       "      <td>42</td>\n",
       "    </tr>\n",
       "  </tbody>\n",
       "</table>\n",
       "</div>"
      ],
      "text/plain": [
       "       publisher  number_of_books\n",
       "0  Penguin Books               42"
      ]
     },
     "execution_count": 10,
     "metadata": {},
     "output_type": "execute_result"
    }
   ],
   "source": [
    "pd.io.sql.read_sql(\n",
    "    '''SELECT \n",
    "           publishers.publisher, \n",
    "           COUNT(books.book_id) as number_of_books\n",
    "           \n",
    "       FROM publishers\n",
    "       INNER JOIN books ON books.publisher_id = publishers.publisher_id\n",
    "       \n",
    "       WHERE \n",
    "           books.num_pages > 50\n",
    "           \n",
    "       GROUP BY \n",
    "           publishers.publisher\n",
    "           \n",
    "       ORDER BY \n",
    "           COUNT(books.book_id) DESC\n",
    "           \n",
    "       LIMIT 1'''\n",
    ", con = engine) "
   ]
  },
  {
   "cell_type": "markdown",
   "metadata": {},
   "source": [
    "**Вывод:** в лидерах оказалось издательство **Penguin Books** с **42** книгами."
   ]
  },
  {
   "cell_type": "markdown",
   "metadata": {},
   "source": [
    "#### 2.4 Определим автора с самой высокой средней оценкой книг — учитывайте только книги с 50 и более оценками"
   ]
  },
  {
   "cell_type": "code",
   "execution_count": 11,
   "metadata": {},
   "outputs": [
    {
     "data": {
      "text/html": [
       "<div>\n",
       "<style scoped>\n",
       "    .dataframe tbody tr th:only-of-type {\n",
       "        vertical-align: middle;\n",
       "    }\n",
       "\n",
       "    .dataframe tbody tr th {\n",
       "        vertical-align: top;\n",
       "    }\n",
       "\n",
       "    .dataframe thead th {\n",
       "        text-align: right;\n",
       "    }\n",
       "</style>\n",
       "<table border=\"1\" class=\"dataframe\">\n",
       "  <thead>\n",
       "    <tr style=\"text-align: right;\">\n",
       "      <th></th>\n",
       "      <th>author</th>\n",
       "      <th>avg_rating</th>\n",
       "    </tr>\n",
       "  </thead>\n",
       "  <tbody>\n",
       "    <tr>\n",
       "      <th>0</th>\n",
       "      <td>J.K. Rowling/Mary GrandPré</td>\n",
       "      <td>4.28</td>\n",
       "    </tr>\n",
       "  </tbody>\n",
       "</table>\n",
       "</div>"
      ],
      "text/plain": [
       "                       author  avg_rating\n",
       "0  J.K. Rowling/Mary GrandPré        4.28"
      ]
     },
     "execution_count": 11,
     "metadata": {},
     "output_type": "execute_result"
    }
   ],
   "source": [
    "pd.io.sql.read_sql(\n",
    "    '''SELECT\n",
    "           subq.author,\n",
    "           round(AVG(subq.avg),2) as avg_rating\n",
    "                     \n",
    "       FROM (\n",
    "           SELECT\n",
    "               books.title,\n",
    "               authors.author,\n",
    "               books.author_id,\n",
    "               COUNT(ratings.rating) as count,\n",
    "               AVG(ratings.rating)  as avg\n",
    "                    \n",
    "       FROM authors\n",
    "           INNER JOIN books ON books.author_id = authors.author_id\n",
    "           INNER JOIN ratings ON books.book_id = ratings.book_id\n",
    "            \n",
    "       GROUP BY\n",
    "           authors.author,\n",
    "           books.title,\n",
    "           books.author_id\n",
    "            \n",
    "       HAVING \n",
    "           COUNT(ratings.rating) > 50) as SUBQ\n",
    "       \n",
    "       GROUP BY \n",
    "           subq.author\n",
    "       \n",
    "       ORDER BY \n",
    "           avg_rating DESC\n",
    "           \n",
    "       LIMIT 1'''\n",
    "       \n",
    ", con = engine) "
   ]
  },
  {
   "cell_type": "markdown",
   "metadata": {},
   "source": [
    "**Вывод:** **J.K. Rowling/Mary GrandPré** оказались успешнее всех по **среднему рейтингу** книг, их результат  **4.28** балла."
   ]
  },
  {
   "cell_type": "markdown",
   "metadata": {},
   "source": [
    "#### 2.5 Посчитаем среднее количество обзоров от пользователей, которые поставили больше 50 оценок."
   ]
  },
  {
   "cell_type": "code",
   "execution_count": 12,
   "metadata": {},
   "outputs": [
    {
     "data": {
      "text/html": [
       "<div>\n",
       "<style scoped>\n",
       "    .dataframe tbody tr th:only-of-type {\n",
       "        vertical-align: middle;\n",
       "    }\n",
       "\n",
       "    .dataframe tbody tr th {\n",
       "        vertical-align: top;\n",
       "    }\n",
       "\n",
       "    .dataframe thead th {\n",
       "        text-align: right;\n",
       "    }\n",
       "</style>\n",
       "<table border=\"1\" class=\"dataframe\">\n",
       "  <thead>\n",
       "    <tr style=\"text-align: right;\">\n",
       "      <th></th>\n",
       "      <th>avg_reviews</th>\n",
       "    </tr>\n",
       "  </thead>\n",
       "  <tbody>\n",
       "    <tr>\n",
       "      <th>0</th>\n",
       "      <td>24</td>\n",
       "    </tr>\n",
       "  </tbody>\n",
       "</table>\n",
       "</div>"
      ],
      "text/plain": [
       "   avg_reviews\n",
       "0           24"
      ]
     },
     "execution_count": 12,
     "metadata": {},
     "output_type": "execute_result"
    }
   ],
   "source": [
    "x = pd.io.sql.read_sql(\n",
    "    '''SELECT \n",
    "            round(AVG(subq.rev_count))::integer as avg_reviews\n",
    "            \n",
    "       FROM (\n",
    "           SELECT \n",
    "               ratings.username, \n",
    "               COUNT(ratings.rating) as rating_count, \n",
    "               COUNT(reviews.text) as rev_count\n",
    "               \n",
    "           FROM books\n",
    "           RIGHT JOIN ratings ON ratings.book_id= books.book_id\n",
    "           LEFT JOIN reviews ON reviews.book_id = ratings.book_id AND reviews.username=ratings.username\n",
    "           \n",
    "           GROUP BY \n",
    "               ratings.username\n",
    "               \n",
    "           HAVING \n",
    "               COUNT(ratings.username) > 50) as subq'''\n",
    ", con = engine)\n",
    "x"
   ]
  },
  {
   "cell_type": "markdown",
   "metadata": {},
   "source": [
    "**Вывод:** **24**  - такое оказалось количество **обзоров** от пользователей, которые поставили **50** и больше **оценок**"
   ]
  },
  {
   "cell_type": "markdown",
   "metadata": {},
   "source": [
    "### Общий вывод"
   ]
  },
  {
   "cell_type": "markdown",
   "metadata": {},
   "source": [
    "* После **1 января 2000** года вышло **819** книг. \n",
    "* Оказалось, что больше всех обзоров вышло для книги **Twilight** (Twilight1 #1) в количестве **1120.**  \n",
    "* В лидерах оказалось издательство **Penguin Books** с **42** книгами.\n",
    "* **J.K. Rowling/Mary GrandPré** оказались успешнее всех по **среднему рейтингу** книг, их результат  **4.28** балла.  \n",
    "* **24** - такое оказалось количество обзоров от пользователей, которые поставили **50** и больше оценок.  "
   ]
  }
 ],
 "metadata": {
  "ExecuteTimeLog": [
   {
    "duration": 100,
    "start_time": "2022-04-20T11:35:21.149Z"
   },
   {
    "duration": 12250,
    "start_time": "2022-04-20T11:35:52.844Z"
   },
   {
    "duration": 71,
    "start_time": "2022-04-20T11:38:11.397Z"
   },
   {
    "duration": 8,
    "start_time": "2022-04-20T11:38:30.027Z"
   },
   {
    "duration": 6,
    "start_time": "2022-04-20T11:44:00.647Z"
   },
   {
    "duration": 3,
    "start_time": "2022-04-20T11:44:03.278Z"
   },
   {
    "duration": 4,
    "start_time": "2022-04-20T11:44:03.587Z"
   },
   {
    "duration": 7,
    "start_time": "2022-04-20T11:44:03.803Z"
   },
   {
    "duration": 3,
    "start_time": "2022-04-20T11:45:29.661Z"
   },
   {
    "duration": 217,
    "start_time": "2022-04-20T11:45:50.337Z"
   },
   {
    "duration": 20,
    "start_time": "2022-04-20T11:45:54.920Z"
   },
   {
    "duration": 74,
    "start_time": "2022-04-20T13:06:11.139Z"
   },
   {
    "duration": 13,
    "start_time": "2022-04-20T13:06:14.573Z"
   },
   {
    "duration": 74,
    "start_time": "2022-04-20T13:06:21.031Z"
   },
   {
    "duration": 14,
    "start_time": "2022-04-20T13:06:21.563Z"
   },
   {
    "duration": 73,
    "start_time": "2022-04-20T13:06:38.227Z"
   },
   {
    "duration": 12,
    "start_time": "2022-04-20T13:06:38.862Z"
   },
   {
    "duration": 83,
    "start_time": "2022-04-20T13:06:55.136Z"
   },
   {
    "duration": 83,
    "start_time": "2022-04-20T13:07:27.368Z"
   },
   {
    "duration": 79,
    "start_time": "2022-04-20T13:07:31.891Z"
   },
   {
    "duration": 68,
    "start_time": "2022-04-20T13:08:16.438Z"
   },
   {
    "duration": 69,
    "start_time": "2022-04-20T13:10:10.396Z"
   },
   {
    "duration": 60,
    "start_time": "2022-04-21T05:57:32.007Z"
   },
   {
    "duration": 102,
    "start_time": "2022-04-21T05:57:56.340Z"
   },
   {
    "duration": 97,
    "start_time": "2022-04-21T05:58:17.789Z"
   },
   {
    "duration": 98,
    "start_time": "2022-04-21T06:23:41.719Z"
   },
   {
    "duration": 57,
    "start_time": "2022-04-21T06:30:41.187Z"
   },
   {
    "duration": 81,
    "start_time": "2022-04-21T06:31:01.696Z"
   },
   {
    "duration": 98,
    "start_time": "2022-04-21T06:35:04.414Z"
   },
   {
    "duration": 86,
    "start_time": "2022-04-21T06:35:26.055Z"
   },
   {
    "duration": 167,
    "start_time": "2022-04-21T06:35:33.347Z"
   },
   {
    "duration": 162,
    "start_time": "2022-04-21T06:35:44.818Z"
   },
   {
    "duration": 58,
    "start_time": "2022-04-21T06:36:09.527Z"
   },
   {
    "duration": 201,
    "start_time": "2022-04-21T06:38:01.982Z"
   },
   {
    "duration": 58,
    "start_time": "2022-04-21T06:38:06.602Z"
   },
   {
    "duration": 597,
    "start_time": "2022-04-21T07:52:19.248Z"
   },
   {
    "duration": 554,
    "start_time": "2022-04-21T07:52:27.894Z"
   },
   {
    "duration": 14740,
    "start_time": "2022-04-21T07:52:28.450Z"
   },
   {
    "duration": 197,
    "start_time": "2022-04-21T07:52:43.192Z"
   },
   {
    "duration": 53,
    "start_time": "2022-04-21T07:52:43.391Z"
   },
   {
    "duration": 53,
    "start_time": "2022-04-21T07:52:43.446Z"
   },
   {
    "duration": 73,
    "start_time": "2022-04-21T07:52:43.500Z"
   },
   {
    "duration": 68,
    "start_time": "2022-04-21T07:52:43.575Z"
   },
   {
    "duration": 54,
    "start_time": "2022-04-21T07:52:43.645Z"
   },
   {
    "duration": 3,
    "start_time": "2022-04-21T07:53:58.855Z"
   },
   {
    "duration": 81,
    "start_time": "2022-04-21T08:01:33.444Z"
   },
   {
    "duration": 75,
    "start_time": "2022-04-21T08:01:40.248Z"
   },
   {
    "duration": 223,
    "start_time": "2022-04-21T08:03:54.887Z"
   },
   {
    "duration": 159,
    "start_time": "2022-04-21T08:04:13.189Z"
   },
   {
    "duration": 201,
    "start_time": "2022-04-21T08:04:30.177Z"
   },
   {
    "duration": 156,
    "start_time": "2022-04-21T08:04:34.523Z"
   },
   {
    "duration": 163,
    "start_time": "2022-04-21T08:04:36.638Z"
   },
   {
    "duration": 2578,
    "start_time": "2022-04-21T08:04:56.404Z"
   },
   {
    "duration": 86,
    "start_time": "2022-04-21T08:05:08.381Z"
   },
   {
    "duration": 89,
    "start_time": "2022-04-21T08:06:15.059Z"
   },
   {
    "duration": 83,
    "start_time": "2022-04-21T08:06:33.940Z"
   },
   {
    "duration": 160,
    "start_time": "2022-04-21T08:07:36.077Z"
   },
   {
    "duration": 154,
    "start_time": "2022-04-21T08:10:10.524Z"
   },
   {
    "duration": 84,
    "start_time": "2022-04-21T08:10:28.006Z"
   },
   {
    "duration": 169,
    "start_time": "2022-04-21T08:13:11.622Z"
   },
   {
    "duration": 1060,
    "start_time": "2022-04-21T08:13:26.360Z"
   },
   {
    "duration": 87,
    "start_time": "2022-04-21T08:15:24.676Z"
   },
   {
    "duration": 170,
    "start_time": "2022-04-21T08:16:05.107Z"
   },
   {
    "duration": 159,
    "start_time": "2022-04-21T08:16:25.178Z"
   },
   {
    "duration": 154,
    "start_time": "2022-04-21T08:21:26.593Z"
   },
   {
    "duration": 155,
    "start_time": "2022-04-21T08:22:11.512Z"
   },
   {
    "duration": 67,
    "start_time": "2022-04-21T08:22:31.072Z"
   },
   {
    "duration": 63,
    "start_time": "2022-04-21T08:22:42.979Z"
   },
   {
    "duration": 63,
    "start_time": "2022-04-21T08:32:23.390Z"
   },
   {
    "duration": 84,
    "start_time": "2022-04-21T08:32:41.703Z"
   },
   {
    "duration": 92,
    "start_time": "2022-04-21T08:33:06.354Z"
   },
   {
    "duration": 75,
    "start_time": "2022-04-21T08:33:18.051Z"
   },
   {
    "duration": 69,
    "start_time": "2022-04-21T08:37:51.609Z"
   },
   {
    "duration": 180,
    "start_time": "2022-04-21T08:43:08.053Z"
   },
   {
    "duration": 57,
    "start_time": "2022-04-21T08:43:13.951Z"
   },
   {
    "duration": 85,
    "start_time": "2022-04-21T08:43:18.673Z"
   },
   {
    "duration": 57,
    "start_time": "2022-04-21T08:43:22.457Z"
   },
   {
    "duration": 1153,
    "start_time": "2022-04-21T08:54:13.042Z"
   },
   {
    "duration": 162,
    "start_time": "2022-04-21T08:55:05.933Z"
   },
   {
    "duration": 166,
    "start_time": "2022-04-21T08:55:52.597Z"
   },
   {
    "duration": 55,
    "start_time": "2022-04-21T08:58:21.093Z"
   },
   {
    "duration": 63,
    "start_time": "2022-04-21T08:58:28.222Z"
   },
   {
    "duration": 67,
    "start_time": "2022-04-21T08:58:53.245Z"
   },
   {
    "duration": 168,
    "start_time": "2022-04-21T08:58:58.533Z"
   },
   {
    "duration": 64,
    "start_time": "2022-04-21T08:59:07.822Z"
   },
   {
    "duration": 58,
    "start_time": "2022-04-21T09:03:54.005Z"
   },
   {
    "duration": 161,
    "start_time": "2022-04-21T09:04:09.969Z"
   },
   {
    "duration": 259,
    "start_time": "2022-04-21T09:04:14.869Z"
   },
   {
    "duration": 58,
    "start_time": "2022-04-21T09:04:39.544Z"
   },
   {
    "duration": 58,
    "start_time": "2022-04-21T09:04:43.475Z"
   },
   {
    "duration": 61,
    "start_time": "2022-04-21T09:04:46.074Z"
   },
   {
    "duration": 68,
    "start_time": "2022-04-21T09:04:48.352Z"
   },
   {
    "duration": 58,
    "start_time": "2022-04-21T09:04:50.962Z"
   },
   {
    "duration": 58,
    "start_time": "2022-04-21T09:04:57.927Z"
   },
   {
    "duration": 55,
    "start_time": "2022-04-21T09:05:27.874Z"
   },
   {
    "duration": 245,
    "start_time": "2022-04-21T09:06:38.967Z"
   },
   {
    "duration": 75,
    "start_time": "2022-04-21T09:06:46.148Z"
   },
   {
    "duration": 55,
    "start_time": "2022-04-21T09:07:14.231Z"
   },
   {
    "duration": 59,
    "start_time": "2022-04-21T09:07:25.524Z"
   },
   {
    "duration": 56,
    "start_time": "2022-04-21T09:22:46.717Z"
   },
   {
    "duration": 99,
    "start_time": "2022-04-21T09:22:55.265Z"
   },
   {
    "duration": 53,
    "start_time": "2022-04-21T09:22:59.101Z"
   },
   {
    "duration": 63,
    "start_time": "2022-04-21T09:23:06.857Z"
   },
   {
    "duration": 54,
    "start_time": "2022-04-21T09:25:48.846Z"
   },
   {
    "duration": 171,
    "start_time": "2022-04-21T09:27:17.023Z"
   },
   {
    "duration": 174,
    "start_time": "2022-04-21T09:27:24.121Z"
   },
   {
    "duration": 156,
    "start_time": "2022-04-21T09:27:27.191Z"
   },
   {
    "duration": 223,
    "start_time": "2022-04-21T09:28:20.664Z"
   },
   {
    "duration": 155,
    "start_time": "2022-04-21T09:31:13.414Z"
   },
   {
    "duration": 97,
    "start_time": "2022-04-21T09:31:27.911Z"
   },
   {
    "duration": 97,
    "start_time": "2022-04-21T09:31:30.594Z"
   },
   {
    "duration": 159,
    "start_time": "2022-04-21T10:11:43.924Z"
   },
   {
    "duration": 172,
    "start_time": "2022-04-21T10:12:07.055Z"
   },
   {
    "duration": 154,
    "start_time": "2022-04-21T10:30:44.829Z"
   },
   {
    "duration": 171,
    "start_time": "2022-04-21T10:31:03.249Z"
   },
   {
    "duration": 164,
    "start_time": "2022-04-21T10:31:11.456Z"
   },
   {
    "duration": 180,
    "start_time": "2022-04-21T10:31:37.758Z"
   },
   {
    "duration": 187,
    "start_time": "2022-04-21T10:32:05.252Z"
   },
   {
    "duration": 164,
    "start_time": "2022-04-21T10:33:53.911Z"
   },
   {
    "duration": 188,
    "start_time": "2022-04-21T10:34:11.301Z"
   },
   {
    "duration": 155,
    "start_time": "2022-04-21T10:35:17.561Z"
   },
   {
    "duration": 215,
    "start_time": "2022-04-21T10:36:26.880Z"
   },
   {
    "duration": 157,
    "start_time": "2022-04-21T10:36:36.183Z"
   },
   {
    "duration": 515,
    "start_time": "2022-04-21T10:39:35.769Z"
   },
   {
    "duration": 11148,
    "start_time": "2022-04-21T10:39:36.286Z"
   },
   {
    "duration": 217,
    "start_time": "2022-04-21T10:39:47.436Z"
   },
   {
    "duration": 65,
    "start_time": "2022-04-21T10:39:47.655Z"
   },
   {
    "duration": 61,
    "start_time": "2022-04-21T10:39:47.722Z"
   },
   {
    "duration": 85,
    "start_time": "2022-04-21T10:39:47.785Z"
   },
   {
    "duration": 72,
    "start_time": "2022-04-21T10:39:47.872Z"
   },
   {
    "duration": 58,
    "start_time": "2022-04-21T10:39:47.945Z"
   },
   {
    "duration": 72,
    "start_time": "2022-04-21T10:39:48.004Z"
   },
   {
    "duration": 60,
    "start_time": "2022-04-21T10:39:48.078Z"
   },
   {
    "duration": 234,
    "start_time": "2022-04-21T10:39:48.140Z"
   },
   {
    "duration": 0,
    "start_time": "2022-04-21T10:39:48.375Z"
   },
   {
    "duration": 528,
    "start_time": "2022-04-21T10:40:45.868Z"
   },
   {
    "duration": 10185,
    "start_time": "2022-04-21T10:40:46.398Z"
   },
   {
    "duration": 212,
    "start_time": "2022-04-21T10:40:56.584Z"
   },
   {
    "duration": 63,
    "start_time": "2022-04-21T10:40:56.798Z"
   },
   {
    "duration": 63,
    "start_time": "2022-04-21T10:40:56.863Z"
   },
   {
    "duration": 85,
    "start_time": "2022-04-21T10:40:56.928Z"
   },
   {
    "duration": 72,
    "start_time": "2022-04-21T10:40:57.015Z"
   },
   {
    "duration": 57,
    "start_time": "2022-04-21T10:40:57.089Z"
   },
   {
    "duration": 76,
    "start_time": "2022-04-21T10:40:57.148Z"
   },
   {
    "duration": 61,
    "start_time": "2022-04-21T10:40:57.228Z"
   },
   {
    "duration": 248,
    "start_time": "2022-04-21T10:40:57.291Z"
   },
   {
    "duration": 0,
    "start_time": "2022-04-21T10:40:57.542Z"
   },
   {
    "duration": 228,
    "start_time": "2022-04-21T10:41:49.453Z"
   },
   {
    "duration": 958,
    "start_time": "2022-04-21T10:41:53.151Z"
   },
   {
    "duration": 193,
    "start_time": "2022-04-21T10:42:05.266Z"
   },
   {
    "duration": 169,
    "start_time": "2022-04-21T12:14:30.431Z"
   },
   {
    "duration": 166,
    "start_time": "2022-04-21T12:14:47.267Z"
   },
   {
    "duration": 162,
    "start_time": "2022-04-21T12:14:55.385Z"
   },
   {
    "duration": 388,
    "start_time": "2022-04-21T12:15:34.784Z"
   },
   {
    "duration": 155,
    "start_time": "2022-04-21T12:15:49.851Z"
   },
   {
    "duration": 199,
    "start_time": "2022-04-21T12:16:33.050Z"
   },
   {
    "duration": 164,
    "start_time": "2022-04-21T12:16:55.134Z"
   },
   {
    "duration": 183,
    "start_time": "2022-04-21T12:17:12.852Z"
   },
   {
    "duration": 167,
    "start_time": "2022-04-21T12:17:31.411Z"
   },
   {
    "duration": 159,
    "start_time": "2022-04-21T12:17:54.499Z"
   },
   {
    "duration": 224,
    "start_time": "2022-04-21T12:18:20.685Z"
   },
   {
    "duration": 154,
    "start_time": "2022-04-21T12:18:49.183Z"
   },
   {
    "duration": 164,
    "start_time": "2022-04-21T12:19:01.983Z"
   },
   {
    "duration": 198,
    "start_time": "2022-04-21T12:19:35.134Z"
   },
   {
    "duration": 181,
    "start_time": "2022-04-21T12:19:58.875Z"
   },
   {
    "duration": 1863,
    "start_time": "2022-04-21T12:20:16.858Z"
   },
   {
    "duration": 1910,
    "start_time": "2022-04-21T12:20:46.269Z"
   },
   {
    "duration": 8768,
    "start_time": "2022-04-21T12:20:49.328Z"
   },
   {
    "duration": 165,
    "start_time": "2022-04-21T12:21:51.570Z"
   },
   {
    "duration": 3744,
    "start_time": "2022-04-21T12:23:25.590Z"
   },
   {
    "duration": 159,
    "start_time": "2022-04-21T12:23:38.134Z"
   },
   {
    "duration": 2240,
    "start_time": "2022-04-21T12:23:41.058Z"
   },
   {
    "duration": 58,
    "start_time": "2022-04-21T12:25:45.336Z"
   },
   {
    "duration": 3733,
    "start_time": "2022-04-21T12:27:08.840Z"
   },
   {
    "duration": 1153,
    "start_time": "2022-04-21T12:28:19.374Z"
   },
   {
    "duration": 1201,
    "start_time": "2022-04-21T12:28:23.877Z"
   },
   {
    "duration": 163,
    "start_time": "2022-04-21T12:29:11.496Z"
   },
   {
    "duration": 2355,
    "start_time": "2022-04-21T12:29:21.165Z"
   },
   {
    "duration": 2328,
    "start_time": "2022-04-21T12:31:53.765Z"
   },
   {
    "duration": 1881,
    "start_time": "2022-04-21T12:33:24.937Z"
   },
   {
    "duration": 596,
    "start_time": "2022-04-21T12:33:32.617Z"
   },
   {
    "duration": 5310,
    "start_time": "2022-04-21T12:33:45.720Z"
   },
   {
    "duration": 28471,
    "start_time": "2022-04-21T12:34:29.801Z"
   },
   {
    "duration": 92,
    "start_time": "2022-04-21T12:37:19.520Z"
   },
   {
    "duration": 84,
    "start_time": "2022-04-21T12:37:29.969Z"
   },
   {
    "duration": 121,
    "start_time": "2022-04-21T12:37:53.156Z"
   },
   {
    "duration": 126,
    "start_time": "2022-04-21T12:41:59.921Z"
   },
   {
    "duration": 165,
    "start_time": "2022-04-21T12:42:06.722Z"
   },
   {
    "duration": 121,
    "start_time": "2022-04-21T12:42:12.566Z"
   },
   {
    "duration": 131,
    "start_time": "2022-04-21T12:42:16.242Z"
   },
   {
    "duration": 71,
    "start_time": "2022-04-21T12:45:41.851Z"
   },
   {
    "duration": 65,
    "start_time": "2022-04-21T12:46:31.994Z"
   },
   {
    "duration": 65,
    "start_time": "2022-04-21T12:46:54.437Z"
   },
   {
    "duration": 94,
    "start_time": "2022-04-21T12:56:11.415Z"
   },
   {
    "duration": 166,
    "start_time": "2022-04-21T12:56:18.460Z"
   },
   {
    "duration": 65,
    "start_time": "2022-04-21T12:56:34.063Z"
   },
   {
    "duration": 64,
    "start_time": "2022-04-21T12:56:57.524Z"
   },
   {
    "duration": 63,
    "start_time": "2022-04-21T12:59:13.177Z"
   },
   {
    "duration": 65,
    "start_time": "2022-04-21T12:59:23.896Z"
   },
   {
    "duration": 296,
    "start_time": "2022-04-21T12:59:52.757Z"
   },
   {
    "duration": 63,
    "start_time": "2022-04-21T13:00:12.533Z"
   },
   {
    "duration": 65,
    "start_time": "2022-04-21T13:01:45.118Z"
   },
   {
    "duration": 63,
    "start_time": "2022-04-21T13:01:47.725Z"
   },
   {
    "duration": 173,
    "start_time": "2022-04-21T13:02:56.257Z"
   },
   {
    "duration": 169,
    "start_time": "2022-04-21T13:03:08.754Z"
   },
   {
    "duration": 64,
    "start_time": "2022-04-21T13:03:21.838Z"
   },
   {
    "duration": 65,
    "start_time": "2022-04-21T13:03:33.782Z"
   },
   {
    "duration": 65,
    "start_time": "2022-04-21T13:07:53.396Z"
   },
   {
    "duration": 66,
    "start_time": "2022-04-21T13:10:32.957Z"
   },
   {
    "duration": 99,
    "start_time": "2022-04-21T13:19:36.643Z"
   },
   {
    "duration": 101,
    "start_time": "2022-04-21T13:19:58.568Z"
   },
   {
    "duration": 69,
    "start_time": "2022-04-21T13:20:06.754Z"
   },
   {
    "duration": 58,
    "start_time": "2022-04-21T13:23:46.803Z"
   },
   {
    "duration": 239,
    "start_time": "2022-04-21T13:45:33.414Z"
   },
   {
    "duration": 250,
    "start_time": "2022-04-21T13:45:38.180Z"
   },
   {
    "duration": 8,
    "start_time": "2022-04-21T13:46:15.376Z"
   },
   {
    "duration": 4,
    "start_time": "2022-04-21T13:46:21.136Z"
   },
   {
    "duration": 4,
    "start_time": "2022-04-21T13:46:29.632Z"
   },
   {
    "duration": 239,
    "start_time": "2022-04-21T13:46:41.360Z"
   },
   {
    "duration": 2592,
    "start_time": "2022-04-21T13:46:50.300Z"
   },
   {
    "duration": 59,
    "start_time": "2022-04-21T13:53:01.711Z"
   },
   {
    "duration": 58,
    "start_time": "2022-04-21T13:53:06.271Z"
   },
   {
    "duration": 157,
    "start_time": "2022-04-21T13:53:09.689Z"
   },
   {
    "duration": 59,
    "start_time": "2022-04-21T13:53:17.533Z"
   },
   {
    "duration": 59,
    "start_time": "2022-04-21T13:53:20.410Z"
   },
   {
    "duration": 59,
    "start_time": "2022-04-21T13:53:23.079Z"
   },
   {
    "duration": 71,
    "start_time": "2022-04-21T13:53:42.356Z"
   },
   {
    "duration": 73,
    "start_time": "2022-04-21T13:56:18.107Z"
   },
   {
    "duration": 70,
    "start_time": "2022-04-21T13:56:20.291Z"
   },
   {
    "duration": 326,
    "start_time": "2022-04-21T13:57:37.877Z"
   },
   {
    "duration": 334,
    "start_time": "2022-04-21T14:00:25.740Z"
   },
   {
    "duration": 318,
    "start_time": "2022-04-21T14:00:48.089Z"
   },
   {
    "duration": 11,
    "start_time": "2022-04-21T14:06:18.904Z"
   },
   {
    "duration": 6,
    "start_time": "2022-04-21T14:06:38.965Z"
   },
   {
    "duration": 5,
    "start_time": "2022-04-21T14:06:43.000Z"
   },
   {
    "duration": 10,
    "start_time": "2022-04-21T14:20:52.975Z"
   },
   {
    "duration": 12,
    "start_time": "2022-04-21T14:21:09.179Z"
   },
   {
    "duration": 7,
    "start_time": "2022-04-21T14:21:27.184Z"
   },
   {
    "duration": 4,
    "start_time": "2022-04-21T14:21:33.180Z"
   },
   {
    "duration": 154,
    "start_time": "2022-04-21T14:22:00.782Z"
   },
   {
    "duration": 175,
    "start_time": "2022-04-21T14:22:23.030Z"
   },
   {
    "duration": 62,
    "start_time": "2022-04-21T14:22:37.196Z"
   },
   {
    "duration": 71,
    "start_time": "2022-04-21T14:22:43.251Z"
   },
   {
    "duration": 1757,
    "start_time": "2022-04-21T14:32:55.069Z"
   },
   {
    "duration": 295,
    "start_time": "2022-04-21T14:33:14.615Z"
   },
   {
    "duration": 17,
    "start_time": "2022-04-21T14:33:45.803Z"
   },
   {
    "duration": 11,
    "start_time": "2022-04-21T14:34:03.212Z"
   },
   {
    "duration": 117,
    "start_time": "2022-04-21T14:37:09.560Z"
   },
   {
    "duration": 10,
    "start_time": "2022-04-21T14:37:23.303Z"
   },
   {
    "duration": 338,
    "start_time": "2022-04-21T14:38:24.378Z"
   },
   {
    "duration": 327,
    "start_time": "2022-04-21T14:38:50.040Z"
   },
   {
    "duration": 167,
    "start_time": "2022-04-21T14:39:27.288Z"
   },
   {
    "duration": 343,
    "start_time": "2022-04-21T14:40:00.146Z"
   },
   {
    "duration": 202,
    "start_time": "2022-04-21T14:40:05.509Z"
   },
   {
    "duration": 348,
    "start_time": "2022-04-21T14:40:08.788Z"
   },
   {
    "duration": 362,
    "start_time": "2022-04-21T14:40:14.870Z"
   },
   {
    "duration": 1621,
    "start_time": "2022-04-21T14:42:26.214Z"
   },
   {
    "duration": 208,
    "start_time": "2022-04-21T14:42:33.617Z"
   },
   {
    "duration": 155,
    "start_time": "2022-04-21T14:43:01.757Z"
   },
   {
    "duration": 200,
    "start_time": "2022-04-21T14:43:16.739Z"
   },
   {
    "duration": 159,
    "start_time": "2022-04-21T14:43:25.325Z"
   },
   {
    "duration": 142,
    "start_time": "2022-04-21T14:45:23.967Z"
   },
   {
    "duration": 185,
    "start_time": "2022-04-21T14:45:54.054Z"
   },
   {
    "duration": 232,
    "start_time": "2022-04-21T14:52:11.981Z"
   },
   {
    "duration": 199,
    "start_time": "2022-04-21T14:52:28.965Z"
   },
   {
    "duration": 10,
    "start_time": "2022-04-21T14:52:33.130Z"
   },
   {
    "duration": 13,
    "start_time": "2022-04-21T14:52:43.654Z"
   },
   {
    "duration": 6,
    "start_time": "2022-04-21T14:53:00.785Z"
   },
   {
    "duration": 12,
    "start_time": "2022-04-21T14:53:18.402Z"
   },
   {
    "duration": 180,
    "start_time": "2022-04-22T08:50:18.356Z"
   },
   {
    "duration": 213,
    "start_time": "2022-04-22T08:50:21.957Z"
   },
   {
    "duration": 11,
    "start_time": "2022-04-22T08:50:24.944Z"
   },
   {
    "duration": 207,
    "start_time": "2022-04-22T08:50:50.184Z"
   },
   {
    "duration": 144,
    "start_time": "2022-04-22T08:52:29.240Z"
   },
   {
    "duration": 204,
    "start_time": "2022-04-22T08:52:39.814Z"
   },
   {
    "duration": 11,
    "start_time": "2022-04-22T08:52:42.645Z"
   },
   {
    "duration": 14,
    "start_time": "2022-04-22T08:52:44.473Z"
   },
   {
    "duration": 20,
    "start_time": "2022-04-22T08:52:45.113Z"
   },
   {
    "duration": 21,
    "start_time": "2022-04-22T08:52:47.303Z"
   },
   {
    "duration": 205,
    "start_time": "2022-04-22T08:55:17.984Z"
   },
   {
    "duration": 13,
    "start_time": "2022-04-22T08:55:19.488Z"
   },
   {
    "duration": 17,
    "start_time": "2022-04-22T08:58:26.094Z"
   },
   {
    "duration": 169,
    "start_time": "2022-04-22T09:47:06.249Z"
   },
   {
    "duration": 173,
    "start_time": "2022-04-22T09:47:20.420Z"
   },
   {
    "duration": 190,
    "start_time": "2022-04-22T09:50:35.245Z"
   },
   {
    "duration": 163,
    "start_time": "2022-04-22T09:50:44.541Z"
   },
   {
    "duration": 177,
    "start_time": "2022-04-22T09:50:51.453Z"
   },
   {
    "duration": 12,
    "start_time": "2022-04-22T09:50:51.690Z"
   },
   {
    "duration": 178,
    "start_time": "2022-04-22T09:51:26.289Z"
   },
   {
    "duration": 197,
    "start_time": "2022-04-22T09:53:33.093Z"
   },
   {
    "duration": 197,
    "start_time": "2022-04-22T09:53:38.250Z"
   },
   {
    "duration": 147,
    "start_time": "2022-04-22T09:53:45.448Z"
   },
   {
    "duration": 196,
    "start_time": "2022-04-22T09:53:50.180Z"
   },
   {
    "duration": 172,
    "start_time": "2022-04-22T09:53:53.185Z"
   },
   {
    "duration": 193,
    "start_time": "2022-04-22T09:53:57.606Z"
   },
   {
    "duration": 193,
    "start_time": "2022-04-22T09:54:02.278Z"
   },
   {
    "duration": 204,
    "start_time": "2022-04-22T09:54:08.479Z"
   },
   {
    "duration": 114,
    "start_time": "2022-04-22T09:54:30.547Z"
   },
   {
    "duration": 167,
    "start_time": "2022-04-22T10:04:40.261Z"
   },
   {
    "duration": 236,
    "start_time": "2022-04-22T10:04:59.636Z"
   },
   {
    "duration": 258,
    "start_time": "2022-04-22T10:05:13.862Z"
   },
   {
    "duration": 14,
    "start_time": "2022-04-22T10:05:14.585Z"
   },
   {
    "duration": 194,
    "start_time": "2022-04-22T10:05:18.721Z"
   },
   {
    "duration": 235,
    "start_time": "2022-04-22T10:05:29.410Z"
   },
   {
    "duration": 175,
    "start_time": "2022-04-22T10:05:33.721Z"
   },
   {
    "duration": 203,
    "start_time": "2022-04-22T10:05:36.752Z"
   },
   {
    "duration": 169,
    "start_time": "2022-04-22T10:05:40.005Z"
   },
   {
    "duration": 249,
    "start_time": "2022-04-22T10:05:43.150Z"
   },
   {
    "duration": 219,
    "start_time": "2022-04-22T10:06:40.363Z"
   },
   {
    "duration": 243,
    "start_time": "2022-04-22T10:06:44.827Z"
   },
   {
    "duration": 165,
    "start_time": "2022-04-22T10:07:02.012Z"
   },
   {
    "duration": 181,
    "start_time": "2022-04-22T10:07:18.799Z"
   },
   {
    "duration": 163,
    "start_time": "2022-04-22T10:08:53.676Z"
   },
   {
    "duration": 209,
    "start_time": "2022-04-22T10:09:18.165Z"
   },
   {
    "duration": 221,
    "start_time": "2022-04-22T10:09:24.620Z"
   },
   {
    "duration": 207,
    "start_time": "2022-04-22T10:09:27.305Z"
   },
   {
    "duration": 175,
    "start_time": "2022-04-22T10:09:30.594Z"
   },
   {
    "duration": 192,
    "start_time": "2022-04-22T10:10:02.303Z"
   },
   {
    "duration": 181,
    "start_time": "2022-04-22T10:10:15.105Z"
   },
   {
    "duration": 243,
    "start_time": "2022-04-22T10:10:20.721Z"
   },
   {
    "duration": 232,
    "start_time": "2022-04-22T10:10:33.348Z"
   },
   {
    "duration": 21,
    "start_time": "2022-04-22T10:10:35.521Z"
   },
   {
    "duration": 13,
    "start_time": "2022-04-22T10:10:36.137Z"
   },
   {
    "duration": 262,
    "start_time": "2022-04-22T10:10:38.985Z"
   },
   {
    "duration": 40,
    "start_time": "2022-04-22T10:10:43.625Z"
   },
   {
    "duration": 19,
    "start_time": "2022-04-22T10:10:52.242Z"
   },
   {
    "duration": 8,
    "start_time": "2022-04-22T10:11:05.282Z"
   },
   {
    "duration": 25,
    "start_time": "2022-04-22T10:11:09.470Z"
   },
   {
    "duration": 173,
    "start_time": "2022-04-22T10:12:57.528Z"
   },
   {
    "duration": 175,
    "start_time": "2022-04-22T10:13:05.643Z"
   },
   {
    "duration": 107,
    "start_time": "2022-04-22T10:13:31.627Z"
   },
   {
    "duration": 105,
    "start_time": "2022-04-22T10:13:52.231Z"
   },
   {
    "duration": 164,
    "start_time": "2022-04-22T10:13:57.396Z"
   },
   {
    "duration": 192,
    "start_time": "2022-04-22T10:15:03.865Z"
   },
   {
    "duration": 226,
    "start_time": "2022-04-22T10:15:10.067Z"
   },
   {
    "duration": 101,
    "start_time": "2022-04-22T10:15:13.163Z"
   },
   {
    "duration": 161,
    "start_time": "2022-04-22T10:15:16.509Z"
   },
   {
    "duration": 23,
    "start_time": "2022-04-22T10:16:31.939Z"
   },
   {
    "duration": 97,
    "start_time": "2022-04-22T10:18:36.994Z"
   },
   {
    "duration": 103,
    "start_time": "2022-04-22T10:18:40.046Z"
   },
   {
    "duration": 105,
    "start_time": "2022-04-22T10:19:52.718Z"
   },
   {
    "duration": 169,
    "start_time": "2022-04-22T10:20:36.320Z"
   },
   {
    "duration": 200,
    "start_time": "2022-04-22T10:21:35.394Z"
   },
   {
    "duration": 197,
    "start_time": "2022-04-22T10:21:47.063Z"
   },
   {
    "duration": 201,
    "start_time": "2022-04-22T10:21:51.518Z"
   },
   {
    "duration": 49,
    "start_time": "2022-04-22T10:23:31.481Z"
   },
   {
    "duration": 481,
    "start_time": "2022-04-22T10:23:36.668Z"
   },
   {
    "duration": 10900,
    "start_time": "2022-04-22T10:23:37.150Z"
   },
   {
    "duration": 205,
    "start_time": "2022-04-22T10:23:48.052Z"
   },
   {
    "duration": 60,
    "start_time": "2022-04-22T10:23:48.260Z"
   },
   {
    "duration": 54,
    "start_time": "2022-04-22T10:23:48.322Z"
   },
   {
    "duration": 73,
    "start_time": "2022-04-22T10:23:48.377Z"
   },
   {
    "duration": 71,
    "start_time": "2022-04-22T10:23:48.452Z"
   },
   {
    "duration": 54,
    "start_time": "2022-04-22T10:23:48.524Z"
   },
   {
    "duration": 70,
    "start_time": "2022-04-22T10:23:48.579Z"
   },
   {
    "duration": 58,
    "start_time": "2022-04-22T10:23:48.652Z"
   },
   {
    "duration": 67,
    "start_time": "2022-04-22T10:23:48.712Z"
   },
   {
    "duration": 148,
    "start_time": "2022-04-22T10:23:48.780Z"
   },
   {
    "duration": 9,
    "start_time": "2022-04-22T10:23:48.930Z"
   },
   {
    "duration": 13,
    "start_time": "2022-04-22T10:23:48.940Z"
   },
   {
    "duration": 10,
    "start_time": "2022-04-22T10:23:48.954Z"
   },
   {
    "duration": 9,
    "start_time": "2022-04-22T10:23:48.966Z"
   },
   {
    "duration": 215,
    "start_time": "2022-04-22T10:26:07.558Z"
   },
   {
    "duration": 209,
    "start_time": "2022-04-22T10:26:25.575Z"
   },
   {
    "duration": 207,
    "start_time": "2022-04-22T10:26:29.654Z"
   },
   {
    "duration": 228,
    "start_time": "2022-04-22T10:26:35.788Z"
   },
   {
    "duration": 213,
    "start_time": "2022-04-22T10:26:38.936Z"
   },
   {
    "duration": 166,
    "start_time": "2022-04-22T10:26:59.305Z"
   },
   {
    "duration": 191,
    "start_time": "2022-04-22T10:27:05.642Z"
   },
   {
    "duration": 220,
    "start_time": "2022-04-22T10:27:12.557Z"
   },
   {
    "duration": 178,
    "start_time": "2022-04-22T10:27:17.061Z"
   },
   {
    "duration": 227,
    "start_time": "2022-04-22T10:27:20.911Z"
   },
   {
    "duration": 212,
    "start_time": "2022-04-22T10:27:24.976Z"
   },
   {
    "duration": 210,
    "start_time": "2022-04-22T10:27:30.471Z"
   },
   {
    "duration": 212,
    "start_time": "2022-04-22T10:27:36.994Z"
   },
   {
    "duration": 219,
    "start_time": "2022-04-22T10:27:41.805Z"
   },
   {
    "duration": 216,
    "start_time": "2022-04-22T10:27:45.373Z"
   },
   {
    "duration": 169,
    "start_time": "2022-04-22T10:27:49.092Z"
   },
   {
    "duration": 155,
    "start_time": "2022-04-22T10:27:54.750Z"
   },
   {
    "duration": 209,
    "start_time": "2022-04-22T10:28:01.767Z"
   },
   {
    "duration": 236,
    "start_time": "2022-04-22T10:28:05.514Z"
   },
   {
    "duration": 226,
    "start_time": "2022-04-22T10:29:13.354Z"
   },
   {
    "duration": 161,
    "start_time": "2022-04-22T10:30:50.118Z"
   },
   {
    "duration": 234,
    "start_time": "2022-04-22T10:30:52.541Z"
   },
   {
    "duration": 234,
    "start_time": "2022-04-22T10:31:29.269Z"
   },
   {
    "duration": 11,
    "start_time": "2022-04-22T10:32:07.362Z"
   },
   {
    "duration": 14,
    "start_time": "2022-04-22T10:32:24.581Z"
   },
   {
    "duration": 13,
    "start_time": "2022-04-22T10:32:42.743Z"
   },
   {
    "duration": 7,
    "start_time": "2022-04-22T10:32:50.980Z"
   },
   {
    "duration": 12,
    "start_time": "2022-04-22T10:32:57.930Z"
   },
   {
    "duration": 273,
    "start_time": "2022-04-22T10:34:10.636Z"
   },
   {
    "duration": 179,
    "start_time": "2022-04-22T10:34:15.250Z"
   },
   {
    "duration": 232,
    "start_time": "2022-04-22T10:34:19.428Z"
   },
   {
    "duration": 225,
    "start_time": "2022-04-22T10:34:22.725Z"
   },
   {
    "duration": 214,
    "start_time": "2022-04-22T10:34:36.636Z"
   },
   {
    "duration": 316,
    "start_time": "2022-04-22T10:34:45.002Z"
   },
   {
    "duration": 13,
    "start_time": "2022-04-22T10:34:53.490Z"
   },
   {
    "duration": 10,
    "start_time": "2022-04-22T10:35:11.122Z"
   },
   {
    "duration": 8,
    "start_time": "2022-04-22T10:35:34.637Z"
   },
   {
    "duration": 8,
    "start_time": "2022-04-22T10:35:42.140Z"
   },
   {
    "duration": 338,
    "start_time": "2022-04-22T10:35:44.576Z"
   },
   {
    "duration": 8,
    "start_time": "2022-04-22T10:35:56.239Z"
   },
   {
    "duration": 267,
    "start_time": "2022-04-22T10:35:58.841Z"
   },
   {
    "duration": 13,
    "start_time": "2022-04-22T10:36:00.982Z"
   },
   {
    "duration": 8,
    "start_time": "2022-04-22T10:36:03.938Z"
   },
   {
    "duration": 8,
    "start_time": "2022-04-22T10:37:27.924Z"
   },
   {
    "duration": 164,
    "start_time": "2022-04-22T10:37:51.565Z"
   },
   {
    "duration": 374,
    "start_time": "2022-04-22T10:38:49.026Z"
   },
   {
    "duration": 170,
    "start_time": "2022-04-22T10:40:02.534Z"
   },
   {
    "duration": 162,
    "start_time": "2022-04-22T11:08:11.596Z"
   },
   {
    "duration": 167,
    "start_time": "2022-04-22T11:08:16.995Z"
   },
   {
    "duration": 74,
    "start_time": "2022-04-22T11:09:47.846Z"
   },
   {
    "duration": 67,
    "start_time": "2022-04-22T11:09:51.208Z"
   },
   {
    "duration": 68,
    "start_time": "2022-04-22T11:10:08.350Z"
   },
   {
    "duration": 180,
    "start_time": "2022-04-22T11:10:11.655Z"
   },
   {
    "duration": 523,
    "start_time": "2022-04-22T11:10:13.960Z"
   },
   {
    "duration": 145,
    "start_time": "2022-04-22T11:10:49.449Z"
   },
   {
    "duration": 125,
    "start_time": "2022-04-22T11:11:18.637Z"
   },
   {
    "duration": 67,
    "start_time": "2022-04-22T11:11:46.428Z"
   },
   {
    "duration": 125,
    "start_time": "2022-04-22T11:11:49.621Z"
   },
   {
    "duration": 190,
    "start_time": "2022-04-22T11:12:02.730Z"
   },
   {
    "duration": 72,
    "start_time": "2022-04-22T11:12:34.448Z"
   },
   {
    "duration": 67,
    "start_time": "2022-04-22T11:12:37.413Z"
   },
   {
    "duration": 69,
    "start_time": "2022-04-22T11:12:40.060Z"
   },
   {
    "duration": 150,
    "start_time": "2022-04-22T11:12:43.584Z"
   },
   {
    "duration": 164,
    "start_time": "2022-04-22T11:13:40.447Z"
   },
   {
    "duration": 111,
    "start_time": "2022-04-22T11:14:15.399Z"
   },
   {
    "duration": 103,
    "start_time": "2022-04-22T11:15:43.235Z"
   },
   {
    "duration": 86,
    "start_time": "2022-04-22T11:15:50.395Z"
   },
   {
    "duration": 104,
    "start_time": "2022-04-22T11:16:39.925Z"
   },
   {
    "duration": 67,
    "start_time": "2022-04-22T11:17:53.834Z"
   },
   {
    "duration": 69,
    "start_time": "2022-04-22T11:17:56.904Z"
   },
   {
    "duration": 69,
    "start_time": "2022-04-22T11:18:21.609Z"
   },
   {
    "duration": 169,
    "start_time": "2022-04-22T11:18:26.963Z"
   },
   {
    "duration": 158,
    "start_time": "2022-04-22T11:18:43.615Z"
   },
   {
    "duration": 164,
    "start_time": "2022-04-22T11:18:54.266Z"
   },
   {
    "duration": 158,
    "start_time": "2022-04-22T11:18:59.531Z"
   },
   {
    "duration": 170,
    "start_time": "2022-04-22T11:19:05.106Z"
   },
   {
    "duration": 163,
    "start_time": "2022-04-22T11:19:16.691Z"
   },
   {
    "duration": 184,
    "start_time": "2022-04-22T11:19:21.943Z"
   },
   {
    "duration": 65,
    "start_time": "2022-04-22T11:19:26.433Z"
   },
   {
    "duration": 101,
    "start_time": "2022-04-22T11:19:29.363Z"
   },
   {
    "duration": 100,
    "start_time": "2022-04-22T11:19:59.145Z"
   },
   {
    "duration": 96,
    "start_time": "2022-04-22T11:20:19.124Z"
   },
   {
    "duration": 18,
    "start_time": "2022-04-22T11:26:47.400Z"
   },
   {
    "duration": 14,
    "start_time": "2022-04-22T11:26:52.404Z"
   },
   {
    "duration": 162,
    "start_time": "2022-04-22T11:31:07.195Z"
   },
   {
    "duration": 186,
    "start_time": "2022-04-22T11:31:24.638Z"
   },
   {
    "duration": 9,
    "start_time": "2022-04-22T11:31:24.826Z"
   },
   {
    "duration": 3721,
    "start_time": "2022-04-22T11:32:10.440Z"
   },
   {
    "duration": 1312,
    "start_time": "2022-04-22T11:32:25.512Z"
   },
   {
    "duration": 97,
    "start_time": "2022-04-22T11:33:15.717Z"
   },
   {
    "duration": 74,
    "start_time": "2022-04-22T11:33:19.533Z"
   },
   {
    "duration": 1756,
    "start_time": "2022-04-22T11:33:27.668Z"
   },
   {
    "duration": 231,
    "start_time": "2022-04-22T11:33:36.954Z"
   },
   {
    "duration": 351,
    "start_time": "2022-04-22T11:33:41.480Z"
   },
   {
    "duration": 404,
    "start_time": "2022-04-22T11:33:52.806Z"
   },
   {
    "duration": 2755,
    "start_time": "2022-04-22T11:33:59.462Z"
   },
   {
    "duration": 157,
    "start_time": "2022-04-22T11:34:07.163Z"
   },
   {
    "duration": 402,
    "start_time": "2022-04-22T11:34:15.378Z"
   },
   {
    "duration": 304,
    "start_time": "2022-04-22T11:36:52.744Z"
   },
   {
    "duration": 244,
    "start_time": "2022-04-22T11:38:01.845Z"
   },
   {
    "duration": 306,
    "start_time": "2022-04-22T11:38:05.573Z"
   },
   {
    "duration": 209,
    "start_time": "2022-04-22T11:38:53.448Z"
   },
   {
    "duration": 290,
    "start_time": "2022-04-22T11:39:02.709Z"
   },
   {
    "duration": 284,
    "start_time": "2022-04-22T11:39:30.950Z"
   },
   {
    "duration": 283,
    "start_time": "2022-04-22T11:39:41.185Z"
   },
   {
    "duration": 243,
    "start_time": "2022-04-22T11:40:52.181Z"
   },
   {
    "duration": 157,
    "start_time": "2022-04-22T11:41:43.884Z"
   },
   {
    "duration": 159,
    "start_time": "2022-04-22T11:42:05.171Z"
   },
   {
    "duration": 297,
    "start_time": "2022-04-22T11:42:07.626Z"
   },
   {
    "duration": 175,
    "start_time": "2022-04-22T11:42:18.053Z"
   },
   {
    "duration": 150,
    "start_time": "2022-04-22T11:43:44.008Z"
   },
   {
    "duration": 8,
    "start_time": "2022-04-22T11:43:57.457Z"
   },
   {
    "duration": 5,
    "start_time": "2022-04-22T11:44:26.613Z"
   },
   {
    "duration": 391,
    "start_time": "2022-04-22T11:44:49.302Z"
   },
   {
    "duration": 347,
    "start_time": "2022-04-22T11:45:14.965Z"
   },
   {
    "duration": 363,
    "start_time": "2022-04-22T11:45:25.633Z"
   },
   {
    "duration": 371,
    "start_time": "2022-04-22T11:45:32.770Z"
   },
   {
    "duration": 381,
    "start_time": "2022-04-22T11:45:38.323Z"
   },
   {
    "duration": 180,
    "start_time": "2022-04-22T11:45:42.687Z"
   },
   {
    "duration": 377,
    "start_time": "2022-04-22T11:45:46.503Z"
   },
   {
    "duration": 331,
    "start_time": "2022-04-22T11:45:51.089Z"
   },
   {
    "duration": 8,
    "start_time": "2022-04-22T11:45:59.571Z"
   },
   {
    "duration": 8,
    "start_time": "2022-04-22T11:46:10.402Z"
   },
   {
    "duration": 17,
    "start_time": "2022-04-22T11:46:35.832Z"
   },
   {
    "duration": 381,
    "start_time": "2022-04-22T11:46:59.531Z"
   },
   {
    "duration": 69,
    "start_time": "2022-04-22T11:47:11.700Z"
   },
   {
    "duration": 70,
    "start_time": "2022-04-22T11:48:04.813Z"
   },
   {
    "duration": 162,
    "start_time": "2022-04-22T11:48:09.259Z"
   },
   {
    "duration": 242,
    "start_time": "2022-04-22T11:48:22.934Z"
   },
   {
    "duration": 10,
    "start_time": "2022-04-22T11:48:32.708Z"
   },
   {
    "duration": 284,
    "start_time": "2022-04-22T11:48:43.784Z"
   },
   {
    "duration": 286,
    "start_time": "2022-04-22T11:48:47.897Z"
   },
   {
    "duration": 159,
    "start_time": "2022-04-22T11:48:52.367Z"
   },
   {
    "duration": 193,
    "start_time": "2022-04-22T11:49:04.897Z"
   },
   {
    "duration": 283,
    "start_time": "2022-04-22T11:49:07.448Z"
   },
   {
    "duration": 159,
    "start_time": "2022-04-22T11:49:22.600Z"
   },
   {
    "duration": 279,
    "start_time": "2022-04-22T11:49:55.320Z"
   },
   {
    "duration": 111,
    "start_time": "2022-04-22T11:51:27.682Z"
   },
   {
    "duration": 126,
    "start_time": "2022-04-22T11:51:42.926Z"
   },
   {
    "duration": 404,
    "start_time": "2022-04-22T11:52:44.764Z"
   },
   {
    "duration": 373,
    "start_time": "2022-04-22T11:52:54.366Z"
   },
   {
    "duration": 338,
    "start_time": "2022-04-22T11:53:04.847Z"
   },
   {
    "duration": 396,
    "start_time": "2022-04-22T11:53:11.131Z"
   },
   {
    "duration": 411,
    "start_time": "2022-04-22T11:53:17.355Z"
   },
   {
    "duration": 378,
    "start_time": "2022-04-22T11:53:29.427Z"
   },
   {
    "duration": 399,
    "start_time": "2022-04-22T11:53:33.423Z"
   },
   {
    "duration": 343,
    "start_time": "2022-04-22T11:53:38.353Z"
   },
   {
    "duration": 382,
    "start_time": "2022-04-22T11:53:42.807Z"
   },
   {
    "duration": 397,
    "start_time": "2022-04-22T11:53:59.121Z"
   },
   {
    "duration": 16,
    "start_time": "2022-04-22T11:54:07.932Z"
   },
   {
    "duration": 34,
    "start_time": "2022-04-22T11:54:16.305Z"
   },
   {
    "duration": 33,
    "start_time": "2022-04-22T11:54:18.434Z"
   },
   {
    "duration": 10,
    "start_time": "2022-04-22T11:59:01.047Z"
   },
   {
    "duration": 1161,
    "start_time": "2022-04-22T11:59:56.576Z"
   },
   {
    "duration": 260,
    "start_time": "2022-04-22T12:00:16.554Z"
   },
   {
    "duration": 161,
    "start_time": "2022-04-22T12:00:22.519Z"
   },
   {
    "duration": 1162,
    "start_time": "2022-04-22T12:00:29.706Z"
   },
   {
    "duration": 199,
    "start_time": "2022-04-22T12:00:36.544Z"
   },
   {
    "duration": 104,
    "start_time": "2022-04-22T12:00:46.440Z"
   },
   {
    "duration": 160,
    "start_time": "2022-04-22T12:01:22.925Z"
   },
   {
    "duration": 252,
    "start_time": "2022-04-22T12:01:27.510Z"
   },
   {
    "duration": 255,
    "start_time": "2022-04-22T12:01:48.027Z"
   },
   {
    "duration": 259,
    "start_time": "2022-04-22T12:01:52.469Z"
   },
   {
    "duration": 165,
    "start_time": "2022-04-22T12:01:56.509Z"
   },
   {
    "duration": 221,
    "start_time": "2022-04-22T12:01:59.797Z"
   },
   {
    "duration": 873,
    "start_time": "2022-04-22T12:04:57.060Z"
   },
   {
    "duration": 256,
    "start_time": "2022-04-22T12:05:15.933Z"
   },
   {
    "duration": 7,
    "start_time": "2022-04-22T12:05:26.511Z"
   },
   {
    "duration": 159,
    "start_time": "2022-04-22T12:09:54.656Z"
   },
   {
    "duration": 217,
    "start_time": "2022-04-22T12:10:03.809Z"
   },
   {
    "duration": 175,
    "start_time": "2022-04-22T12:10:15.281Z"
   },
   {
    "duration": 239,
    "start_time": "2022-04-22T12:14:20.842Z"
   },
   {
    "duration": 170,
    "start_time": "2022-04-22T12:14:30.751Z"
   },
   {
    "duration": 261,
    "start_time": "2022-04-22T12:14:34.480Z"
   },
   {
    "duration": 195,
    "start_time": "2022-04-22T12:14:47.016Z"
   },
   {
    "duration": 247,
    "start_time": "2022-04-22T12:14:52.070Z"
   },
   {
    "duration": 253,
    "start_time": "2022-04-22T12:15:05.421Z"
   },
   {
    "duration": 354,
    "start_time": "2022-04-22T12:15:14.022Z"
   },
   {
    "duration": 133,
    "start_time": "2022-04-22T12:15:19.253Z"
   },
   {
    "duration": 71,
    "start_time": "2022-04-22T12:15:47.066Z"
   },
   {
    "duration": 71,
    "start_time": "2022-04-22T12:15:51.996Z"
   },
   {
    "duration": 192,
    "start_time": "2022-04-22T12:15:57.588Z"
   },
   {
    "duration": 127,
    "start_time": "2022-04-22T12:17:33.741Z"
   },
   {
    "duration": 161,
    "start_time": "2022-04-22T12:21:53.745Z"
   },
   {
    "duration": 188,
    "start_time": "2022-04-22T12:22:19.124Z"
   },
   {
    "duration": 170,
    "start_time": "2022-04-22T12:22:39.459Z"
   },
   {
    "duration": 224,
    "start_time": "2022-04-22T12:24:04.635Z"
   },
   {
    "duration": 163,
    "start_time": "2022-04-22T12:24:21.212Z"
   },
   {
    "duration": 224,
    "start_time": "2022-04-22T12:24:26.171Z"
   },
   {
    "duration": 99,
    "start_time": "2022-04-22T12:24:35.581Z"
   },
   {
    "duration": 225,
    "start_time": "2022-04-22T12:27:25.339Z"
   },
   {
    "duration": 159,
    "start_time": "2022-04-22T12:27:59.900Z"
   },
   {
    "duration": 164,
    "start_time": "2022-04-22T12:28:20.124Z"
   },
   {
    "duration": 249,
    "start_time": "2022-04-22T12:28:41.613Z"
   },
   {
    "duration": 160,
    "start_time": "2022-04-22T12:28:59.907Z"
   },
   {
    "duration": 307,
    "start_time": "2022-04-22T12:29:44.266Z"
   },
   {
    "duration": 166,
    "start_time": "2022-04-22T12:32:41.776Z"
   },
   {
    "duration": 235,
    "start_time": "2022-04-22T12:33:08.697Z"
   },
   {
    "duration": 176,
    "start_time": "2022-04-22T12:33:34.522Z"
   },
   {
    "duration": 229,
    "start_time": "2022-04-22T12:33:45.995Z"
   },
   {
    "duration": 168,
    "start_time": "2022-04-22T12:34:13.379Z"
   },
   {
    "duration": 204,
    "start_time": "2022-04-22T12:34:20.670Z"
   },
   {
    "duration": 144,
    "start_time": "2022-04-22T12:34:37.988Z"
   },
   {
    "duration": 202,
    "start_time": "2022-04-22T12:34:42.548Z"
   },
   {
    "duration": 200,
    "start_time": "2022-04-22T12:34:45.548Z"
   },
   {
    "duration": 172,
    "start_time": "2022-04-22T12:35:03.941Z"
   },
   {
    "duration": 151,
    "start_time": "2022-04-22T12:35:38.293Z"
   },
   {
    "duration": 202,
    "start_time": "2022-04-22T12:35:44.280Z"
   },
   {
    "duration": 202,
    "start_time": "2022-04-22T12:35:48.333Z"
   },
   {
    "duration": 143,
    "start_time": "2022-04-22T12:35:51.148Z"
   },
   {
    "duration": 166,
    "start_time": "2022-04-22T12:36:21.752Z"
   },
   {
    "duration": 157,
    "start_time": "2022-04-22T12:36:24.743Z"
   },
   {
    "duration": 101,
    "start_time": "2022-04-22T12:36:35.829Z"
   },
   {
    "duration": 165,
    "start_time": "2022-04-22T12:37:15.204Z"
   },
   {
    "duration": 128,
    "start_time": "2022-04-22T12:37:50.769Z"
   },
   {
    "duration": 182,
    "start_time": "2022-04-22T13:02:58.024Z"
   },
   {
    "duration": 129,
    "start_time": "2022-04-22T13:03:09.661Z"
   },
   {
    "duration": 161,
    "start_time": "2022-04-22T13:03:41.744Z"
   },
   {
    "duration": 171,
    "start_time": "2022-04-22T13:04:13.016Z"
   },
   {
    "duration": 193,
    "start_time": "2022-04-22T13:04:16.394Z"
   },
   {
    "duration": 121,
    "start_time": "2022-04-22T13:04:45.272Z"
   },
   {
    "duration": 122,
    "start_time": "2022-04-22T13:04:51.979Z"
   },
   {
    "duration": 145,
    "start_time": "2022-04-22T13:04:56.689Z"
   },
   {
    "duration": 96,
    "start_time": "2022-04-22T13:05:24.764Z"
   },
   {
    "duration": 161,
    "start_time": "2022-04-22T13:05:41.696Z"
   },
   {
    "duration": 165,
    "start_time": "2022-04-22T13:06:09.583Z"
   },
   {
    "duration": 161,
    "start_time": "2022-04-22T13:06:48.895Z"
   },
   {
    "duration": 95,
    "start_time": "2022-04-22T13:08:51.793Z"
   },
   {
    "duration": 104,
    "start_time": "2022-04-22T13:08:58.723Z"
   },
   {
    "duration": 165,
    "start_time": "2022-04-22T13:10:11.322Z"
   },
   {
    "duration": 231,
    "start_time": "2022-04-22T13:10:58.871Z"
   },
   {
    "duration": 155,
    "start_time": "2022-04-22T13:11:26.784Z"
   },
   {
    "duration": 58,
    "start_time": "2022-04-22T13:11:44.337Z"
   },
   {
    "duration": 157,
    "start_time": "2022-04-22T13:33:27.739Z"
   },
   {
    "duration": 58,
    "start_time": "2022-04-22T13:33:38.240Z"
   },
   {
    "duration": 58,
    "start_time": "2022-04-22T13:33:57.682Z"
   },
   {
    "duration": 155,
    "start_time": "2022-04-22T13:34:36.583Z"
   },
   {
    "duration": 154,
    "start_time": "2022-04-22T13:34:45.502Z"
   },
   {
    "duration": 58,
    "start_time": "2022-04-22T13:35:30.177Z"
   },
   {
    "duration": 57,
    "start_time": "2022-04-22T13:35:49.335Z"
   },
   {
    "duration": 59,
    "start_time": "2022-04-22T13:36:09.516Z"
   },
   {
    "duration": 57,
    "start_time": "2022-04-22T13:37:25.516Z"
   },
   {
    "duration": 56,
    "start_time": "2022-04-22T13:37:32.632Z"
   },
   {
    "duration": 57,
    "start_time": "2022-04-22T13:39:20.795Z"
   },
   {
    "duration": 58,
    "start_time": "2022-04-22T13:40:45.650Z"
   },
   {
    "duration": 59,
    "start_time": "2022-04-22T13:41:16.098Z"
   },
   {
    "duration": 58,
    "start_time": "2022-04-22T13:41:34.847Z"
   },
   {
    "duration": 58,
    "start_time": "2022-04-22T13:43:19.232Z"
   },
   {
    "duration": 57,
    "start_time": "2022-04-22T13:43:27.645Z"
   },
   {
    "duration": 58,
    "start_time": "2022-04-22T13:43:47.322Z"
   },
   {
    "duration": 58,
    "start_time": "2022-04-22T13:43:56.173Z"
   },
   {
    "duration": 601,
    "start_time": "2022-04-22T18:24:23.093Z"
   },
   {
    "duration": 6662,
    "start_time": "2022-04-22T18:24:23.697Z"
   },
   {
    "duration": 300,
    "start_time": "2022-04-22T18:24:30.361Z"
   },
   {
    "duration": 81,
    "start_time": "2022-04-22T18:24:30.664Z"
   },
   {
    "duration": 79,
    "start_time": "2022-04-22T18:24:30.747Z"
   },
   {
    "duration": 109,
    "start_time": "2022-04-22T18:24:30.828Z"
   },
   {
    "duration": 93,
    "start_time": "2022-04-22T18:24:30.939Z"
   },
   {
    "duration": 75,
    "start_time": "2022-04-22T18:24:31.034Z"
   },
   {
    "duration": 91,
    "start_time": "2022-04-22T18:24:31.111Z"
   },
   {
    "duration": 79,
    "start_time": "2022-04-22T18:24:31.205Z"
   },
   {
    "duration": 84,
    "start_time": "2022-04-22T18:24:31.286Z"
   },
   {
    "duration": 81,
    "start_time": "2022-04-22T18:24:31.371Z"
   },
   {
    "duration": 83,
    "start_time": "2022-04-22T18:25:43.491Z"
   },
   {
    "duration": 83,
    "start_time": "2022-04-22T18:25:55.187Z"
   },
   {
    "duration": 84,
    "start_time": "2022-04-22T18:26:18.569Z"
   },
   {
    "duration": 555,
    "start_time": "2022-04-23T11:21:30.771Z"
   },
   {
    "duration": 11961,
    "start_time": "2022-04-23T11:21:31.329Z"
   },
   {
    "duration": 208,
    "start_time": "2022-04-23T11:21:43.292Z"
   },
   {
    "duration": 55,
    "start_time": "2022-04-23T11:21:43.503Z"
   },
   {
    "duration": 55,
    "start_time": "2022-04-23T11:21:43.560Z"
   },
   {
    "duration": 74,
    "start_time": "2022-04-23T11:21:43.617Z"
   },
   {
    "duration": 67,
    "start_time": "2022-04-23T11:21:43.693Z"
   },
   {
    "duration": 56,
    "start_time": "2022-04-23T11:21:43.762Z"
   },
   {
    "duration": 75,
    "start_time": "2022-04-23T11:21:43.820Z"
   },
   {
    "duration": 56,
    "start_time": "2022-04-23T11:21:43.898Z"
   },
   {
    "duration": 62,
    "start_time": "2022-04-23T11:21:43.956Z"
   },
   {
    "duration": 58,
    "start_time": "2022-04-23T11:21:44.020Z"
   },
   {
    "duration": 524,
    "start_time": "2022-04-24T10:09:20.204Z"
   },
   {
    "duration": 8177,
    "start_time": "2022-04-24T10:09:20.731Z"
   },
   {
    "duration": 271,
    "start_time": "2022-04-24T10:09:28.913Z"
   },
   {
    "duration": 75,
    "start_time": "2022-04-24T10:09:29.188Z"
   },
   {
    "duration": 71,
    "start_time": "2022-04-24T10:09:29.266Z"
   },
   {
    "duration": 119,
    "start_time": "2022-04-24T10:09:29.340Z"
   },
   {
    "duration": 108,
    "start_time": "2022-04-24T10:09:29.461Z"
   },
   {
    "duration": 73,
    "start_time": "2022-04-24T10:09:29.571Z"
   },
   {
    "duration": 92,
    "start_time": "2022-04-24T10:09:29.646Z"
   },
   {
    "duration": 73,
    "start_time": "2022-04-24T10:09:29.745Z"
   },
   {
    "duration": 77,
    "start_time": "2022-04-24T10:09:29.820Z"
   },
   {
    "duration": 74,
    "start_time": "2022-04-24T10:09:29.899Z"
   },
   {
    "duration": 112,
    "start_time": "2022-04-24T10:11:34.890Z"
   }
  ],
  "kernelspec": {
   "display_name": "Python 3 (ipykernel)",
   "language": "python",
   "name": "python3"
  },
  "language_info": {
   "codemirror_mode": {
    "name": "ipython",
    "version": 3
   },
   "file_extension": ".py",
   "mimetype": "text/x-python",
   "name": "python",
   "nbconvert_exporter": "python",
   "pygments_lexer": "ipython3",
   "version": "3.9.7"
  },
  "toc": {
   "base_numbering": 1,
   "nav_menu": {},
   "number_sections": false,
   "sideBar": true,
   "skip_h1_title": false,
   "title_cell": "Table of Contents",
   "title_sidebar": "Contents",
   "toc_cell": false,
   "toc_position": {
    "height": "calc(100% - 180px)",
    "left": "10px",
    "top": "150px",
    "width": "284.801px"
   },
   "toc_section_display": true,
   "toc_window_display": true
  }
 },
 "nbformat": 4,
 "nbformat_minor": 2
}
