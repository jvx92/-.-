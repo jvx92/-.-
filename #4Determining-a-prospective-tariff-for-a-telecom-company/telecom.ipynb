{
 "cells": [
  {
   "cell_type": "markdown",
   "metadata": {},
   "source": [
    "# Определение перспективного тарифа для телеком-компании"
   ]
  },
  {
   "cell_type": "markdown",
   "metadata": {},
   "source": [
    "Вы аналитик компании **«Мегалайн»** — федерального оператора сотовой связи.   \n",
    "\n",
    "Клиентам предлагают два тарифных плана: **«Смарт» и «Ультра».** Чтобы скорректировать рекламный бюджет, коммерческий департамент хочет понять, какой тариф приносит больше денег.\n",
    "\n",
    "Вам предстоит сделать предварительный анализ тарифов на небольшой выборке клиентов. В вашем распоряжении данные **500** пользователей **«Мегалайна»:** кто они, откуда, каким тарифом пользуются, сколько звонков и сообщений каждый отправил за **2018** год.  \n",
    "\n",
    "Нужно проанализировать поведение клиентов и сделать вывод — какой тариф лучше."
   ]
  },
  {
   "cell_type": "markdown",
   "metadata": {},
   "source": [
    "### Описание тарифов\n"
   ]
  },
  {
   "cell_type": "markdown",
   "metadata": {},
   "source": [
    "<h4>Тариф «Смарт»<a class=\"tocSkip\"></h4>\n",
    "Ежемесячная плата: 550 рублей\n",
    "Включено 500 минут разговора, 50 сообщений и 15 Гб интернет-трафика\n",
    "Стоимость услуг сверх тарифного пакета: 1. минута разговора: 3 рубля («Мегалайн» всегда округляет вверх значения минут и мегабайтов. Если пользователь проговорил всего 1 секунду, в тарифе засчитывается целая минута); 2. сообщение: 3 рубля; 3. 1 Гб интернет-трафика: 200 рублей.\n",
    "\n",
    "<h4>Тариф «Ультра»<a class=\"tocSkip\"></h4>\n",
    "Ежемесячная плата: 1950 рублей\n",
    "Включено 3000 минут разговора, 1000 сообщений и 30 Гб интернет-трафика\n",
    "Стоимость услуг сверх тарифного пакета: 1. минута разговора: 1 рубль; 2. сообщение: 1 рубль; 3. 1 Гб интернет-трафика: 150 рублей."
   ]
  },
  {
   "cell_type": "markdown",
   "metadata": {},
   "source": [
    "**Примечание:**  \n",
    "«Мегалайн» всегда округляет секунды до минут, а мегабайты — до гигабайт. Каждый звонок округляется отдельно: даже если он длился всего 1 секунду, будет засчитан как 1 минута.\n",
    "Для веб-трафика отдельные сессии не считаются. Вместо этого общая сумма за месяц округляется в бо́льшую сторону. Если абонент использует 1025 мегабайт в этом месяце, с него возьмут плату за 2 гигабайта."
   ]
  },
  {
   "cell_type": "markdown",
   "metadata": {},
   "source": [
    "## 1. Откроем файлы с данными и изучите общую информацию"
   ]
  },
  {
   "cell_type": "code",
   "execution_count": 69,
   "metadata": {},
   "outputs": [],
   "source": [
    "import pandas as pd\n",
    "import numpy as np\n",
    "import math\n",
    "from scipy import stats as st"
   ]
  },
  {
   "cell_type": "code",
   "execution_count": 70,
   "metadata": {},
   "outputs": [],
   "source": [
    "calls = pd.read_csv('/datasets/calls.csv')\n",
    "internet = pd.read_csv('/datasets/internet.csv')\n",
    "messages = pd.read_csv('/datasets/messages.csv')\n",
    "tariffs = pd.read_csv('/datasets/tariffs.csv')\n",
    "users = pd.read_csv('/datasets/users.csv')"
   ]
  },
  {
   "cell_type": "code",
   "execution_count": 71,
   "metadata": {
    "scrolled": false
   },
   "outputs": [
    {
     "name": "stdout",
     "output_type": "stream",
     "text": [
      "<class 'pandas.core.frame.DataFrame'>\n",
      "RangeIndex: 202607 entries, 0 to 202606\n",
      "Data columns (total 4 columns):\n",
      " #   Column     Non-Null Count   Dtype  \n",
      "---  ------     --------------   -----  \n",
      " 0   id         202607 non-null  object \n",
      " 1   call_date  202607 non-null  object \n",
      " 2   duration   202607 non-null  float64\n",
      " 3   user_id    202607 non-null  int64  \n",
      "dtypes: float64(1), int64(1), object(2)\n",
      "memory usage: 6.2+ MB\n"
     ]
    },
    {
     "data": {
      "text/html": [
       "<div>\n",
       "<style scoped>\n",
       "    .dataframe tbody tr th:only-of-type {\n",
       "        vertical-align: middle;\n",
       "    }\n",
       "\n",
       "    .dataframe tbody tr th {\n",
       "        vertical-align: top;\n",
       "    }\n",
       "\n",
       "    .dataframe thead th {\n",
       "        text-align: right;\n",
       "    }\n",
       "</style>\n",
       "<table border=\"1\" class=\"dataframe\">\n",
       "  <thead>\n",
       "    <tr style=\"text-align: right;\">\n",
       "      <th></th>\n",
       "      <th>id</th>\n",
       "      <th>call_date</th>\n",
       "      <th>duration</th>\n",
       "      <th>user_id</th>\n",
       "    </tr>\n",
       "  </thead>\n",
       "  <tbody>\n",
       "    <tr>\n",
       "      <th>0</th>\n",
       "      <td>1000_0</td>\n",
       "      <td>2018-07-25</td>\n",
       "      <td>0.00</td>\n",
       "      <td>1000</td>\n",
       "    </tr>\n",
       "    <tr>\n",
       "      <th>1</th>\n",
       "      <td>1000_1</td>\n",
       "      <td>2018-08-17</td>\n",
       "      <td>0.00</td>\n",
       "      <td>1000</td>\n",
       "    </tr>\n",
       "    <tr>\n",
       "      <th>2</th>\n",
       "      <td>1000_2</td>\n",
       "      <td>2018-06-11</td>\n",
       "      <td>2.85</td>\n",
       "      <td>1000</td>\n",
       "    </tr>\n",
       "    <tr>\n",
       "      <th>3</th>\n",
       "      <td>1000_3</td>\n",
       "      <td>2018-09-21</td>\n",
       "      <td>13.80</td>\n",
       "      <td>1000</td>\n",
       "    </tr>\n",
       "    <tr>\n",
       "      <th>4</th>\n",
       "      <td>1000_4</td>\n",
       "      <td>2018-12-15</td>\n",
       "      <td>5.18</td>\n",
       "      <td>1000</td>\n",
       "    </tr>\n",
       "  </tbody>\n",
       "</table>\n",
       "</div>"
      ],
      "text/plain": [
       "       id   call_date  duration  user_id\n",
       "0  1000_0  2018-07-25      0.00     1000\n",
       "1  1000_1  2018-08-17      0.00     1000\n",
       "2  1000_2  2018-06-11      2.85     1000\n",
       "3  1000_3  2018-09-21     13.80     1000\n",
       "4  1000_4  2018-12-15      5.18     1000"
      ]
     },
     "execution_count": 71,
     "metadata": {},
     "output_type": "execute_result"
    }
   ],
   "source": [
    "calls.info()\n",
    "calls.head()"
   ]
  },
  {
   "cell_type": "code",
   "execution_count": 5,
   "metadata": {},
   "outputs": [
    {
     "data": {
      "text/html": [
       "<div>\n",
       "<style scoped>\n",
       "    .dataframe tbody tr th:only-of-type {\n",
       "        vertical-align: middle;\n",
       "    }\n",
       "\n",
       "    .dataframe tbody tr th {\n",
       "        vertical-align: top;\n",
       "    }\n",
       "\n",
       "    .dataframe thead th {\n",
       "        text-align: right;\n",
       "    }\n",
       "</style>\n",
       "<table border=\"1\" class=\"dataframe\">\n",
       "  <thead>\n",
       "    <tr style=\"text-align: right;\">\n",
       "      <th></th>\n",
       "      <th>duration</th>\n",
       "      <th>user_id</th>\n",
       "    </tr>\n",
       "  </thead>\n",
       "  <tbody>\n",
       "    <tr>\n",
       "      <th>count</th>\n",
       "      <td>202607.000000</td>\n",
       "      <td>202607.000000</td>\n",
       "    </tr>\n",
       "    <tr>\n",
       "      <th>mean</th>\n",
       "      <td>6.755887</td>\n",
       "      <td>1253.940619</td>\n",
       "    </tr>\n",
       "    <tr>\n",
       "      <th>std</th>\n",
       "      <td>5.843365</td>\n",
       "      <td>144.722751</td>\n",
       "    </tr>\n",
       "    <tr>\n",
       "      <th>min</th>\n",
       "      <td>0.000000</td>\n",
       "      <td>1000.000000</td>\n",
       "    </tr>\n",
       "    <tr>\n",
       "      <th>25%</th>\n",
       "      <td>1.300000</td>\n",
       "      <td>1126.000000</td>\n",
       "    </tr>\n",
       "    <tr>\n",
       "      <th>50%</th>\n",
       "      <td>6.000000</td>\n",
       "      <td>1260.000000</td>\n",
       "    </tr>\n",
       "    <tr>\n",
       "      <th>75%</th>\n",
       "      <td>10.700000</td>\n",
       "      <td>1379.000000</td>\n",
       "    </tr>\n",
       "    <tr>\n",
       "      <th>max</th>\n",
       "      <td>38.000000</td>\n",
       "      <td>1499.000000</td>\n",
       "    </tr>\n",
       "  </tbody>\n",
       "</table>\n",
       "</div>"
      ],
      "text/plain": [
       "            duration        user_id\n",
       "count  202607.000000  202607.000000\n",
       "mean        6.755887    1253.940619\n",
       "std         5.843365     144.722751\n",
       "min         0.000000    1000.000000\n",
       "25%         1.300000    1126.000000\n",
       "50%         6.000000    1260.000000\n",
       "75%        10.700000    1379.000000\n",
       "max        38.000000    1499.000000"
      ]
     },
     "execution_count": 5,
     "metadata": {},
     "output_type": "execute_result"
    }
   ],
   "source": [
    "calls.describe()"
   ]
  },
  {
   "cell_type": "code",
   "execution_count": 6,
   "metadata": {
    "scrolled": true
   },
   "outputs": [
    {
     "name": "stdout",
     "output_type": "stream",
     "text": [
      "<class 'pandas.core.frame.DataFrame'>\n",
      "RangeIndex: 149396 entries, 0 to 149395\n",
      "Data columns (total 5 columns):\n",
      " #   Column        Non-Null Count   Dtype  \n",
      "---  ------        --------------   -----  \n",
      " 0   Unnamed: 0    149396 non-null  int64  \n",
      " 1   id            149396 non-null  object \n",
      " 2   mb_used       149396 non-null  float64\n",
      " 3   session_date  149396 non-null  object \n",
      " 4   user_id       149396 non-null  int64  \n",
      "dtypes: float64(1), int64(2), object(2)\n",
      "memory usage: 5.7+ MB\n"
     ]
    },
    {
     "data": {
      "text/html": [
       "<div>\n",
       "<style scoped>\n",
       "    .dataframe tbody tr th:only-of-type {\n",
       "        vertical-align: middle;\n",
       "    }\n",
       "\n",
       "    .dataframe tbody tr th {\n",
       "        vertical-align: top;\n",
       "    }\n",
       "\n",
       "    .dataframe thead th {\n",
       "        text-align: right;\n",
       "    }\n",
       "</style>\n",
       "<table border=\"1\" class=\"dataframe\">\n",
       "  <thead>\n",
       "    <tr style=\"text-align: right;\">\n",
       "      <th></th>\n",
       "      <th>Unnamed: 0</th>\n",
       "      <th>id</th>\n",
       "      <th>mb_used</th>\n",
       "      <th>session_date</th>\n",
       "      <th>user_id</th>\n",
       "    </tr>\n",
       "  </thead>\n",
       "  <tbody>\n",
       "    <tr>\n",
       "      <th>0</th>\n",
       "      <td>0</td>\n",
       "      <td>1000_0</td>\n",
       "      <td>112.95</td>\n",
       "      <td>2018-11-25</td>\n",
       "      <td>1000</td>\n",
       "    </tr>\n",
       "    <tr>\n",
       "      <th>1</th>\n",
       "      <td>1</td>\n",
       "      <td>1000_1</td>\n",
       "      <td>1052.81</td>\n",
       "      <td>2018-09-07</td>\n",
       "      <td>1000</td>\n",
       "    </tr>\n",
       "    <tr>\n",
       "      <th>2</th>\n",
       "      <td>2</td>\n",
       "      <td>1000_2</td>\n",
       "      <td>1197.26</td>\n",
       "      <td>2018-06-25</td>\n",
       "      <td>1000</td>\n",
       "    </tr>\n",
       "    <tr>\n",
       "      <th>3</th>\n",
       "      <td>3</td>\n",
       "      <td>1000_3</td>\n",
       "      <td>550.27</td>\n",
       "      <td>2018-08-22</td>\n",
       "      <td>1000</td>\n",
       "    </tr>\n",
       "    <tr>\n",
       "      <th>4</th>\n",
       "      <td>4</td>\n",
       "      <td>1000_4</td>\n",
       "      <td>302.56</td>\n",
       "      <td>2018-09-24</td>\n",
       "      <td>1000</td>\n",
       "    </tr>\n",
       "  </tbody>\n",
       "</table>\n",
       "</div>"
      ],
      "text/plain": [
       "   Unnamed: 0      id  mb_used session_date  user_id\n",
       "0           0  1000_0   112.95   2018-11-25     1000\n",
       "1           1  1000_1  1052.81   2018-09-07     1000\n",
       "2           2  1000_2  1197.26   2018-06-25     1000\n",
       "3           3  1000_3   550.27   2018-08-22     1000\n",
       "4           4  1000_4   302.56   2018-09-24     1000"
      ]
     },
     "execution_count": 6,
     "metadata": {},
     "output_type": "execute_result"
    }
   ],
   "source": [
    "internet.info()\n",
    "internet.head()"
   ]
  },
  {
   "cell_type": "code",
   "execution_count": 7,
   "metadata": {},
   "outputs": [
    {
     "data": {
      "text/html": [
       "<div>\n",
       "<style scoped>\n",
       "    .dataframe tbody tr th:only-of-type {\n",
       "        vertical-align: middle;\n",
       "    }\n",
       "\n",
       "    .dataframe tbody tr th {\n",
       "        vertical-align: top;\n",
       "    }\n",
       "\n",
       "    .dataframe thead th {\n",
       "        text-align: right;\n",
       "    }\n",
       "</style>\n",
       "<table border=\"1\" class=\"dataframe\">\n",
       "  <thead>\n",
       "    <tr style=\"text-align: right;\">\n",
       "      <th></th>\n",
       "      <th>Unnamed: 0</th>\n",
       "      <th>mb_used</th>\n",
       "      <th>user_id</th>\n",
       "    </tr>\n",
       "  </thead>\n",
       "  <tbody>\n",
       "    <tr>\n",
       "      <th>count</th>\n",
       "      <td>149396.000000</td>\n",
       "      <td>149396.000000</td>\n",
       "      <td>149396.000000</td>\n",
       "    </tr>\n",
       "    <tr>\n",
       "      <th>mean</th>\n",
       "      <td>74697.500000</td>\n",
       "      <td>370.192426</td>\n",
       "      <td>1252.099842</td>\n",
       "    </tr>\n",
       "    <tr>\n",
       "      <th>std</th>\n",
       "      <td>43127.054745</td>\n",
       "      <td>278.300951</td>\n",
       "      <td>144.050823</td>\n",
       "    </tr>\n",
       "    <tr>\n",
       "      <th>min</th>\n",
       "      <td>0.000000</td>\n",
       "      <td>0.000000</td>\n",
       "      <td>1000.000000</td>\n",
       "    </tr>\n",
       "    <tr>\n",
       "      <th>25%</th>\n",
       "      <td>37348.750000</td>\n",
       "      <td>138.187500</td>\n",
       "      <td>1130.000000</td>\n",
       "    </tr>\n",
       "    <tr>\n",
       "      <th>50%</th>\n",
       "      <td>74697.500000</td>\n",
       "      <td>348.015000</td>\n",
       "      <td>1251.000000</td>\n",
       "    </tr>\n",
       "    <tr>\n",
       "      <th>75%</th>\n",
       "      <td>112046.250000</td>\n",
       "      <td>559.552500</td>\n",
       "      <td>1380.000000</td>\n",
       "    </tr>\n",
       "    <tr>\n",
       "      <th>max</th>\n",
       "      <td>149395.000000</td>\n",
       "      <td>1724.830000</td>\n",
       "      <td>1499.000000</td>\n",
       "    </tr>\n",
       "  </tbody>\n",
       "</table>\n",
       "</div>"
      ],
      "text/plain": [
       "          Unnamed: 0        mb_used        user_id\n",
       "count  149396.000000  149396.000000  149396.000000\n",
       "mean    74697.500000     370.192426    1252.099842\n",
       "std     43127.054745     278.300951     144.050823\n",
       "min         0.000000       0.000000    1000.000000\n",
       "25%     37348.750000     138.187500    1130.000000\n",
       "50%     74697.500000     348.015000    1251.000000\n",
       "75%    112046.250000     559.552500    1380.000000\n",
       "max    149395.000000    1724.830000    1499.000000"
      ]
     },
     "execution_count": 7,
     "metadata": {},
     "output_type": "execute_result"
    }
   ],
   "source": [
    "internet.describe()"
   ]
  },
  {
   "cell_type": "code",
   "execution_count": 8,
   "metadata": {},
   "outputs": [
    {
     "name": "stdout",
     "output_type": "stream",
     "text": [
      "<class 'pandas.core.frame.DataFrame'>\n",
      "RangeIndex: 123036 entries, 0 to 123035\n",
      "Data columns (total 3 columns):\n",
      " #   Column        Non-Null Count   Dtype \n",
      "---  ------        --------------   ----- \n",
      " 0   id            123036 non-null  object\n",
      " 1   message_date  123036 non-null  object\n",
      " 2   user_id       123036 non-null  int64 \n",
      "dtypes: int64(1), object(2)\n",
      "memory usage: 2.8+ MB\n"
     ]
    },
    {
     "data": {
      "text/html": [
       "<div>\n",
       "<style scoped>\n",
       "    .dataframe tbody tr th:only-of-type {\n",
       "        vertical-align: middle;\n",
       "    }\n",
       "\n",
       "    .dataframe tbody tr th {\n",
       "        vertical-align: top;\n",
       "    }\n",
       "\n",
       "    .dataframe thead th {\n",
       "        text-align: right;\n",
       "    }\n",
       "</style>\n",
       "<table border=\"1\" class=\"dataframe\">\n",
       "  <thead>\n",
       "    <tr style=\"text-align: right;\">\n",
       "      <th></th>\n",
       "      <th>id</th>\n",
       "      <th>message_date</th>\n",
       "      <th>user_id</th>\n",
       "    </tr>\n",
       "  </thead>\n",
       "  <tbody>\n",
       "    <tr>\n",
       "      <th>0</th>\n",
       "      <td>1000_0</td>\n",
       "      <td>2018-06-27</td>\n",
       "      <td>1000</td>\n",
       "    </tr>\n",
       "    <tr>\n",
       "      <th>1</th>\n",
       "      <td>1000_1</td>\n",
       "      <td>2018-10-08</td>\n",
       "      <td>1000</td>\n",
       "    </tr>\n",
       "    <tr>\n",
       "      <th>2</th>\n",
       "      <td>1000_2</td>\n",
       "      <td>2018-08-04</td>\n",
       "      <td>1000</td>\n",
       "    </tr>\n",
       "    <tr>\n",
       "      <th>3</th>\n",
       "      <td>1000_3</td>\n",
       "      <td>2018-06-16</td>\n",
       "      <td>1000</td>\n",
       "    </tr>\n",
       "    <tr>\n",
       "      <th>4</th>\n",
       "      <td>1000_4</td>\n",
       "      <td>2018-12-05</td>\n",
       "      <td>1000</td>\n",
       "    </tr>\n",
       "  </tbody>\n",
       "</table>\n",
       "</div>"
      ],
      "text/plain": [
       "       id message_date  user_id\n",
       "0  1000_0   2018-06-27     1000\n",
       "1  1000_1   2018-10-08     1000\n",
       "2  1000_2   2018-08-04     1000\n",
       "3  1000_3   2018-06-16     1000\n",
       "4  1000_4   2018-12-05     1000"
      ]
     },
     "execution_count": 8,
     "metadata": {},
     "output_type": "execute_result"
    }
   ],
   "source": [
    "messages.info()\n",
    "messages.head()"
   ]
  },
  {
   "cell_type": "code",
   "execution_count": 9,
   "metadata": {},
   "outputs": [
    {
     "name": "stdout",
     "output_type": "stream",
     "text": [
      "<class 'pandas.core.frame.DataFrame'>\n",
      "RangeIndex: 2 entries, 0 to 1\n",
      "Data columns (total 8 columns):\n",
      " #   Column                 Non-Null Count  Dtype \n",
      "---  ------                 --------------  ----- \n",
      " 0   messages_included      2 non-null      int64 \n",
      " 1   mb_per_month_included  2 non-null      int64 \n",
      " 2   minutes_included       2 non-null      int64 \n",
      " 3   rub_monthly_fee        2 non-null      int64 \n",
      " 4   rub_per_gb             2 non-null      int64 \n",
      " 5   rub_per_message        2 non-null      int64 \n",
      " 6   rub_per_minute         2 non-null      int64 \n",
      " 7   tariff_name            2 non-null      object\n",
      "dtypes: int64(7), object(1)\n",
      "memory usage: 256.0+ bytes\n"
     ]
    },
    {
     "data": {
      "text/html": [
       "<div>\n",
       "<style scoped>\n",
       "    .dataframe tbody tr th:only-of-type {\n",
       "        vertical-align: middle;\n",
       "    }\n",
       "\n",
       "    .dataframe tbody tr th {\n",
       "        vertical-align: top;\n",
       "    }\n",
       "\n",
       "    .dataframe thead th {\n",
       "        text-align: right;\n",
       "    }\n",
       "</style>\n",
       "<table border=\"1\" class=\"dataframe\">\n",
       "  <thead>\n",
       "    <tr style=\"text-align: right;\">\n",
       "      <th></th>\n",
       "      <th>messages_included</th>\n",
       "      <th>mb_per_month_included</th>\n",
       "      <th>minutes_included</th>\n",
       "      <th>rub_monthly_fee</th>\n",
       "      <th>rub_per_gb</th>\n",
       "      <th>rub_per_message</th>\n",
       "      <th>rub_per_minute</th>\n",
       "      <th>tariff_name</th>\n",
       "    </tr>\n",
       "  </thead>\n",
       "  <tbody>\n",
       "    <tr>\n",
       "      <th>0</th>\n",
       "      <td>50</td>\n",
       "      <td>15360</td>\n",
       "      <td>500</td>\n",
       "      <td>550</td>\n",
       "      <td>200</td>\n",
       "      <td>3</td>\n",
       "      <td>3</td>\n",
       "      <td>smart</td>\n",
       "    </tr>\n",
       "    <tr>\n",
       "      <th>1</th>\n",
       "      <td>1000</td>\n",
       "      <td>30720</td>\n",
       "      <td>3000</td>\n",
       "      <td>1950</td>\n",
       "      <td>150</td>\n",
       "      <td>1</td>\n",
       "      <td>1</td>\n",
       "      <td>ultra</td>\n",
       "    </tr>\n",
       "  </tbody>\n",
       "</table>\n",
       "</div>"
      ],
      "text/plain": [
       "   messages_included  mb_per_month_included  minutes_included  \\\n",
       "0                 50                  15360               500   \n",
       "1               1000                  30720              3000   \n",
       "\n",
       "   rub_monthly_fee  rub_per_gb  rub_per_message  rub_per_minute tariff_name  \n",
       "0              550         200                3               3       smart  \n",
       "1             1950         150                1               1       ultra  "
      ]
     },
     "execution_count": 9,
     "metadata": {},
     "output_type": "execute_result"
    }
   ],
   "source": [
    "tariffs.info()\n",
    "tariffs.head()"
   ]
  },
  {
   "cell_type": "code",
   "execution_count": 10,
   "metadata": {},
   "outputs": [
    {
     "name": "stdout",
     "output_type": "stream",
     "text": [
      "<class 'pandas.core.frame.DataFrame'>\n",
      "RangeIndex: 500 entries, 0 to 499\n",
      "Data columns (total 8 columns):\n",
      " #   Column      Non-Null Count  Dtype \n",
      "---  ------      --------------  ----- \n",
      " 0   user_id     500 non-null    int64 \n",
      " 1   age         500 non-null    int64 \n",
      " 2   churn_date  38 non-null     object\n",
      " 3   city        500 non-null    object\n",
      " 4   first_name  500 non-null    object\n",
      " 5   last_name   500 non-null    object\n",
      " 6   reg_date    500 non-null    object\n",
      " 7   tariff      500 non-null    object\n",
      "dtypes: int64(2), object(6)\n",
      "memory usage: 31.4+ KB\n"
     ]
    },
    {
     "data": {
      "text/html": [
       "<div>\n",
       "<style scoped>\n",
       "    .dataframe tbody tr th:only-of-type {\n",
       "        vertical-align: middle;\n",
       "    }\n",
       "\n",
       "    .dataframe tbody tr th {\n",
       "        vertical-align: top;\n",
       "    }\n",
       "\n",
       "    .dataframe thead th {\n",
       "        text-align: right;\n",
       "    }\n",
       "</style>\n",
       "<table border=\"1\" class=\"dataframe\">\n",
       "  <thead>\n",
       "    <tr style=\"text-align: right;\">\n",
       "      <th></th>\n",
       "      <th>user_id</th>\n",
       "      <th>age</th>\n",
       "      <th>churn_date</th>\n",
       "      <th>city</th>\n",
       "      <th>first_name</th>\n",
       "      <th>last_name</th>\n",
       "      <th>reg_date</th>\n",
       "      <th>tariff</th>\n",
       "    </tr>\n",
       "  </thead>\n",
       "  <tbody>\n",
       "    <tr>\n",
       "      <th>0</th>\n",
       "      <td>1000</td>\n",
       "      <td>52</td>\n",
       "      <td>NaN</td>\n",
       "      <td>Краснодар</td>\n",
       "      <td>Рафаил</td>\n",
       "      <td>Верещагин</td>\n",
       "      <td>2018-05-25</td>\n",
       "      <td>ultra</td>\n",
       "    </tr>\n",
       "    <tr>\n",
       "      <th>1</th>\n",
       "      <td>1001</td>\n",
       "      <td>41</td>\n",
       "      <td>NaN</td>\n",
       "      <td>Москва</td>\n",
       "      <td>Иван</td>\n",
       "      <td>Ежов</td>\n",
       "      <td>2018-11-01</td>\n",
       "      <td>smart</td>\n",
       "    </tr>\n",
       "    <tr>\n",
       "      <th>2</th>\n",
       "      <td>1002</td>\n",
       "      <td>59</td>\n",
       "      <td>NaN</td>\n",
       "      <td>Стерлитамак</td>\n",
       "      <td>Евгений</td>\n",
       "      <td>Абрамович</td>\n",
       "      <td>2018-06-17</td>\n",
       "      <td>smart</td>\n",
       "    </tr>\n",
       "    <tr>\n",
       "      <th>3</th>\n",
       "      <td>1003</td>\n",
       "      <td>23</td>\n",
       "      <td>NaN</td>\n",
       "      <td>Москва</td>\n",
       "      <td>Белла</td>\n",
       "      <td>Белякова</td>\n",
       "      <td>2018-08-17</td>\n",
       "      <td>ultra</td>\n",
       "    </tr>\n",
       "    <tr>\n",
       "      <th>4</th>\n",
       "      <td>1004</td>\n",
       "      <td>68</td>\n",
       "      <td>NaN</td>\n",
       "      <td>Новокузнецк</td>\n",
       "      <td>Татьяна</td>\n",
       "      <td>Авдеенко</td>\n",
       "      <td>2018-05-14</td>\n",
       "      <td>ultra</td>\n",
       "    </tr>\n",
       "  </tbody>\n",
       "</table>\n",
       "</div>"
      ],
      "text/plain": [
       "   user_id  age churn_date         city first_name  last_name    reg_date  \\\n",
       "0     1000   52        NaN    Краснодар     Рафаил  Верещагин  2018-05-25   \n",
       "1     1001   41        NaN       Москва       Иван       Ежов  2018-11-01   \n",
       "2     1002   59        NaN  Стерлитамак    Евгений  Абрамович  2018-06-17   \n",
       "3     1003   23        NaN       Москва      Белла   Белякова  2018-08-17   \n",
       "4     1004   68        NaN  Новокузнецк    Татьяна   Авдеенко  2018-05-14   \n",
       "\n",
       "  tariff  \n",
       "0  ultra  \n",
       "1  smart  \n",
       "2  smart  \n",
       "3  ultra  \n",
       "4  ultra  "
      ]
     },
     "execution_count": 10,
     "metadata": {},
     "output_type": "execute_result"
    }
   ],
   "source": [
    "users.info()\n",
    "users.head()"
   ]
  },
  {
   "cell_type": "markdown",
   "metadata": {},
   "source": [
    "## 2.  Подготовим данные"
   ]
  },
  {
   "cell_type": "markdown",
   "metadata": {},
   "source": [
    "Изменим тип данных в столбцах датафреймов с датами на datatime64:"
   ]
  },
  {
   "cell_type": "code",
   "execution_count": 72,
   "metadata": {
    "scrolled": true
   },
   "outputs": [],
   "source": [
    "calls['call_date'] = pd.to_datetime(calls['call_date'] , format='%Y%m%dT')\n",
    "internet['session_date'] = pd.to_datetime(internet['session_date'] , format='%Y%m%dT')\n",
    "messages['message_date'] = pd.to_datetime(messages['message_date'] , format='%Y%m%dT')\n",
    "users['reg_date'] = pd.to_datetime(users['reg_date'], format='%Y%m%dT')"
   ]
  },
  {
   "cell_type": "markdown",
   "metadata": {},
   "source": [
    "Округлим значение длительности звонка в большую сторону, т.к. по условиям обоих тарифов плата взимается за 1 мин, даже если разговор длился 1 секунду: сделаем это методом  math.ceil, он округляет в большую сторону."
   ]
  },
  {
   "cell_type": "code",
   "execution_count": 76,
   "metadata": {},
   "outputs": [
    {
     "data": {
      "text/html": [
       "<div>\n",
       "<style scoped>\n",
       "    .dataframe tbody tr th:only-of-type {\n",
       "        vertical-align: middle;\n",
       "    }\n",
       "\n",
       "    .dataframe tbody tr th {\n",
       "        vertical-align: top;\n",
       "    }\n",
       "\n",
       "    .dataframe thead th {\n",
       "        text-align: right;\n",
       "    }\n",
       "</style>\n",
       "<table border=\"1\" class=\"dataframe\">\n",
       "  <thead>\n",
       "    <tr style=\"text-align: right;\">\n",
       "      <th></th>\n",
       "      <th>id</th>\n",
       "      <th>call_date</th>\n",
       "      <th>duration</th>\n",
       "      <th>user_id</th>\n",
       "    </tr>\n",
       "  </thead>\n",
       "  <tbody>\n",
       "    <tr>\n",
       "      <th>0</th>\n",
       "      <td>1000_0</td>\n",
       "      <td>2018-07-25</td>\n",
       "      <td>0</td>\n",
       "      <td>1000</td>\n",
       "    </tr>\n",
       "    <tr>\n",
       "      <th>1</th>\n",
       "      <td>1000_1</td>\n",
       "      <td>2018-08-17</td>\n",
       "      <td>0</td>\n",
       "      <td>1000</td>\n",
       "    </tr>\n",
       "    <tr>\n",
       "      <th>2</th>\n",
       "      <td>1000_2</td>\n",
       "      <td>2018-06-11</td>\n",
       "      <td>3</td>\n",
       "      <td>1000</td>\n",
       "    </tr>\n",
       "    <tr>\n",
       "      <th>3</th>\n",
       "      <td>1000_3</td>\n",
       "      <td>2018-09-21</td>\n",
       "      <td>14</td>\n",
       "      <td>1000</td>\n",
       "    </tr>\n",
       "    <tr>\n",
       "      <th>4</th>\n",
       "      <td>1000_4</td>\n",
       "      <td>2018-12-15</td>\n",
       "      <td>6</td>\n",
       "      <td>1000</td>\n",
       "    </tr>\n",
       "    <tr>\n",
       "      <th>5</th>\n",
       "      <td>1000_5</td>\n",
       "      <td>2018-11-02</td>\n",
       "      <td>0</td>\n",
       "      <td>1000</td>\n",
       "    </tr>\n",
       "    <tr>\n",
       "      <th>6</th>\n",
       "      <td>1000_6</td>\n",
       "      <td>2018-10-18</td>\n",
       "      <td>0</td>\n",
       "      <td>1000</td>\n",
       "    </tr>\n",
       "    <tr>\n",
       "      <th>7</th>\n",
       "      <td>1000_7</td>\n",
       "      <td>2018-08-22</td>\n",
       "      <td>19</td>\n",
       "      <td>1000</td>\n",
       "    </tr>\n",
       "    <tr>\n",
       "      <th>8</th>\n",
       "      <td>1000_8</td>\n",
       "      <td>2018-09-15</td>\n",
       "      <td>19</td>\n",
       "      <td>1000</td>\n",
       "    </tr>\n",
       "    <tr>\n",
       "      <th>9</th>\n",
       "      <td>1000_9</td>\n",
       "      <td>2018-08-15</td>\n",
       "      <td>0</td>\n",
       "      <td>1000</td>\n",
       "    </tr>\n",
       "  </tbody>\n",
       "</table>\n",
       "</div>"
      ],
      "text/plain": [
       "       id  call_date  duration  user_id\n",
       "0  1000_0 2018-07-25         0     1000\n",
       "1  1000_1 2018-08-17         0     1000\n",
       "2  1000_2 2018-06-11         3     1000\n",
       "3  1000_3 2018-09-21        14     1000\n",
       "4  1000_4 2018-12-15         6     1000\n",
       "5  1000_5 2018-11-02         0     1000\n",
       "6  1000_6 2018-10-18         0     1000\n",
       "7  1000_7 2018-08-22        19     1000\n",
       "8  1000_8 2018-09-15        19     1000\n",
       "9  1000_9 2018-08-15         0     1000"
      ]
     },
     "execution_count": 76,
     "metadata": {},
     "output_type": "execute_result"
    }
   ],
   "source": [
    "calls['duration'] = calls['duration'].apply(math.ceil)\n",
    "calls.head(10)"
   ]
  },
  {
   "cell_type": "markdown",
   "metadata": {},
   "source": [
    "Удалим лишний столбец в датафрейме internet:"
   ]
  },
  {
   "cell_type": "code",
   "execution_count": 13,
   "metadata": {},
   "outputs": [
    {
     "data": {
      "text/html": [
       "<div>\n",
       "<style scoped>\n",
       "    .dataframe tbody tr th:only-of-type {\n",
       "        vertical-align: middle;\n",
       "    }\n",
       "\n",
       "    .dataframe tbody tr th {\n",
       "        vertical-align: top;\n",
       "    }\n",
       "\n",
       "    .dataframe thead th {\n",
       "        text-align: right;\n",
       "    }\n",
       "</style>\n",
       "<table border=\"1\" class=\"dataframe\">\n",
       "  <thead>\n",
       "    <tr style=\"text-align: right;\">\n",
       "      <th></th>\n",
       "      <th>id</th>\n",
       "      <th>mb_used</th>\n",
       "      <th>session_date</th>\n",
       "      <th>user_id</th>\n",
       "    </tr>\n",
       "  </thead>\n",
       "  <tbody>\n",
       "    <tr>\n",
       "      <th>0</th>\n",
       "      <td>1000_0</td>\n",
       "      <td>112.95</td>\n",
       "      <td>2018-11-25</td>\n",
       "      <td>1000</td>\n",
       "    </tr>\n",
       "    <tr>\n",
       "      <th>1</th>\n",
       "      <td>1000_1</td>\n",
       "      <td>1052.81</td>\n",
       "      <td>2018-09-07</td>\n",
       "      <td>1000</td>\n",
       "    </tr>\n",
       "    <tr>\n",
       "      <th>2</th>\n",
       "      <td>1000_2</td>\n",
       "      <td>1197.26</td>\n",
       "      <td>2018-06-25</td>\n",
       "      <td>1000</td>\n",
       "    </tr>\n",
       "    <tr>\n",
       "      <th>3</th>\n",
       "      <td>1000_3</td>\n",
       "      <td>550.27</td>\n",
       "      <td>2018-08-22</td>\n",
       "      <td>1000</td>\n",
       "    </tr>\n",
       "    <tr>\n",
       "      <th>4</th>\n",
       "      <td>1000_4</td>\n",
       "      <td>302.56</td>\n",
       "      <td>2018-09-24</td>\n",
       "      <td>1000</td>\n",
       "    </tr>\n",
       "    <tr>\n",
       "      <th>...</th>\n",
       "      <td>...</td>\n",
       "      <td>...</td>\n",
       "      <td>...</td>\n",
       "      <td>...</td>\n",
       "    </tr>\n",
       "    <tr>\n",
       "      <th>149391</th>\n",
       "      <td>1499_152</td>\n",
       "      <td>318.90</td>\n",
       "      <td>2018-10-03</td>\n",
       "      <td>1499</td>\n",
       "    </tr>\n",
       "    <tr>\n",
       "      <th>149392</th>\n",
       "      <td>1499_153</td>\n",
       "      <td>490.13</td>\n",
       "      <td>2018-12-14</td>\n",
       "      <td>1499</td>\n",
       "    </tr>\n",
       "    <tr>\n",
       "      <th>149393</th>\n",
       "      <td>1499_154</td>\n",
       "      <td>0.00</td>\n",
       "      <td>2018-10-27</td>\n",
       "      <td>1499</td>\n",
       "    </tr>\n",
       "    <tr>\n",
       "      <th>149394</th>\n",
       "      <td>1499_155</td>\n",
       "      <td>1246.32</td>\n",
       "      <td>2018-11-26</td>\n",
       "      <td>1499</td>\n",
       "    </tr>\n",
       "    <tr>\n",
       "      <th>149395</th>\n",
       "      <td>1499_156</td>\n",
       "      <td>544.37</td>\n",
       "      <td>2018-10-26</td>\n",
       "      <td>1499</td>\n",
       "    </tr>\n",
       "  </tbody>\n",
       "</table>\n",
       "<p>149396 rows × 4 columns</p>\n",
       "</div>"
      ],
      "text/plain": [
       "              id  mb_used session_date  user_id\n",
       "0         1000_0   112.95   2018-11-25     1000\n",
       "1         1000_1  1052.81   2018-09-07     1000\n",
       "2         1000_2  1197.26   2018-06-25     1000\n",
       "3         1000_3   550.27   2018-08-22     1000\n",
       "4         1000_4   302.56   2018-09-24     1000\n",
       "...          ...      ...          ...      ...\n",
       "149391  1499_152   318.90   2018-10-03     1499\n",
       "149392  1499_153   490.13   2018-12-14     1499\n",
       "149393  1499_154     0.00   2018-10-27     1499\n",
       "149394  1499_155  1246.32   2018-11-26     1499\n",
       "149395  1499_156   544.37   2018-10-26     1499\n",
       "\n",
       "[149396 rows x 4 columns]"
      ]
     },
     "execution_count": 13,
     "metadata": {},
     "output_type": "execute_result"
    }
   ],
   "source": [
    "internet = internet.drop(['Unnamed: 0'], axis=1)\n",
    "internet"
   ]
  },
  {
   "cell_type": "markdown",
   "metadata": {},
   "source": [
    "Посчитаем для каждого пользователя:\n",
    "- количество сделанных звонков и израсходованных минут разговора по месяцам;\n",
    "- количество отправленных сообщений по месяцам;\n",
    "- объем израсходованного интернет-трафика по месяцам;\n",
    "- помесячную выручку с каждого пользователя (вычтем бесплатный лимит из суммарного количества звонков, сообщений и интернет-трафика; остаток умножим на значение из тарифного плана; прибавим абонентскую плату, соответствующую тарифному плану)."
   ]
  },
  {
   "cell_type": "markdown",
   "metadata": {},
   "source": [
    "Посчитаем количество сделанных звонков и израсходованных минут разговора по месяцам:"
   ]
  },
  {
   "cell_type": "code",
   "execution_count": 14,
   "metadata": {},
   "outputs": [],
   "source": [
    "data_calls = users.merge(calls, on='user_id', how='outer')\n"
   ]
  },
  {
   "cell_type": "code",
   "execution_count": 15,
   "metadata": {},
   "outputs": [
    {
     "data": {
      "text/html": [
       "<div>\n",
       "<style scoped>\n",
       "    .dataframe tbody tr th:only-of-type {\n",
       "        vertical-align: middle;\n",
       "    }\n",
       "\n",
       "    .dataframe tbody tr th {\n",
       "        vertical-align: top;\n",
       "    }\n",
       "\n",
       "    .dataframe thead th {\n",
       "        text-align: right;\n",
       "    }\n",
       "</style>\n",
       "<table border=\"1\" class=\"dataframe\">\n",
       "  <thead>\n",
       "    <tr style=\"text-align: right;\">\n",
       "      <th></th>\n",
       "      <th>user_id</th>\n",
       "      <th>age</th>\n",
       "      <th>churn_date</th>\n",
       "      <th>city</th>\n",
       "      <th>first_name</th>\n",
       "      <th>last_name</th>\n",
       "      <th>reg_date</th>\n",
       "      <th>tariff</th>\n",
       "      <th>id</th>\n",
       "      <th>call_date</th>\n",
       "      <th>duration</th>\n",
       "      <th>month</th>\n",
       "    </tr>\n",
       "  </thead>\n",
       "  <tbody>\n",
       "    <tr>\n",
       "      <th>0</th>\n",
       "      <td>1000</td>\n",
       "      <td>52</td>\n",
       "      <td>NaN</td>\n",
       "      <td>Краснодар</td>\n",
       "      <td>Рафаил</td>\n",
       "      <td>Верещагин</td>\n",
       "      <td>2018-05-25</td>\n",
       "      <td>ultra</td>\n",
       "      <td>1000_0</td>\n",
       "      <td>2018-07-25</td>\n",
       "      <td>0.0</td>\n",
       "      <td>7.0</td>\n",
       "    </tr>\n",
       "    <tr>\n",
       "      <th>1</th>\n",
       "      <td>1000</td>\n",
       "      <td>52</td>\n",
       "      <td>NaN</td>\n",
       "      <td>Краснодар</td>\n",
       "      <td>Рафаил</td>\n",
       "      <td>Верещагин</td>\n",
       "      <td>2018-05-25</td>\n",
       "      <td>ultra</td>\n",
       "      <td>1000_1</td>\n",
       "      <td>2018-08-17</td>\n",
       "      <td>0.0</td>\n",
       "      <td>8.0</td>\n",
       "    </tr>\n",
       "    <tr>\n",
       "      <th>2</th>\n",
       "      <td>1000</td>\n",
       "      <td>52</td>\n",
       "      <td>NaN</td>\n",
       "      <td>Краснодар</td>\n",
       "      <td>Рафаил</td>\n",
       "      <td>Верещагин</td>\n",
       "      <td>2018-05-25</td>\n",
       "      <td>ultra</td>\n",
       "      <td>1000_2</td>\n",
       "      <td>2018-06-11</td>\n",
       "      <td>3.0</td>\n",
       "      <td>6.0</td>\n",
       "    </tr>\n",
       "    <tr>\n",
       "      <th>3</th>\n",
       "      <td>1000</td>\n",
       "      <td>52</td>\n",
       "      <td>NaN</td>\n",
       "      <td>Краснодар</td>\n",
       "      <td>Рафаил</td>\n",
       "      <td>Верещагин</td>\n",
       "      <td>2018-05-25</td>\n",
       "      <td>ultra</td>\n",
       "      <td>1000_3</td>\n",
       "      <td>2018-09-21</td>\n",
       "      <td>14.0</td>\n",
       "      <td>9.0</td>\n",
       "    </tr>\n",
       "    <tr>\n",
       "      <th>4</th>\n",
       "      <td>1000</td>\n",
       "      <td>52</td>\n",
       "      <td>NaN</td>\n",
       "      <td>Краснодар</td>\n",
       "      <td>Рафаил</td>\n",
       "      <td>Верещагин</td>\n",
       "      <td>2018-05-25</td>\n",
       "      <td>ultra</td>\n",
       "      <td>1000_4</td>\n",
       "      <td>2018-12-15</td>\n",
       "      <td>6.0</td>\n",
       "      <td>12.0</td>\n",
       "    </tr>\n",
       "  </tbody>\n",
       "</table>\n",
       "</div>"
      ],
      "text/plain": [
       "   user_id  age churn_date       city first_name  last_name   reg_date tariff  \\\n",
       "0     1000   52        NaN  Краснодар     Рафаил  Верещагин 2018-05-25  ultra   \n",
       "1     1000   52        NaN  Краснодар     Рафаил  Верещагин 2018-05-25  ultra   \n",
       "2     1000   52        NaN  Краснодар     Рафаил  Верещагин 2018-05-25  ultra   \n",
       "3     1000   52        NaN  Краснодар     Рафаил  Верещагин 2018-05-25  ultra   \n",
       "4     1000   52        NaN  Краснодар     Рафаил  Верещагин 2018-05-25  ultra   \n",
       "\n",
       "       id  call_date  duration  month  \n",
       "0  1000_0 2018-07-25       0.0    7.0  \n",
       "1  1000_1 2018-08-17       0.0    8.0  \n",
       "2  1000_2 2018-06-11       3.0    6.0  \n",
       "3  1000_3 2018-09-21      14.0    9.0  \n",
       "4  1000_4 2018-12-15       6.0   12.0  "
      ]
     },
     "execution_count": 15,
     "metadata": {},
     "output_type": "execute_result"
    }
   ],
   "source": [
    "data_calls['month'] = data_calls['call_date'].dt.month\n",
    "data_calls.head()"
   ]
  },
  {
   "cell_type": "code",
   "execution_count": 16,
   "metadata": {
    "scrolled": true
   },
   "outputs": [
    {
     "data": {
      "text/html": [
       "<div>\n",
       "<style scoped>\n",
       "    .dataframe tbody tr th:only-of-type {\n",
       "        vertical-align: middle;\n",
       "    }\n",
       "\n",
       "    .dataframe tbody tr th {\n",
       "        vertical-align: top;\n",
       "    }\n",
       "\n",
       "    .dataframe thead tr th {\n",
       "        text-align: left;\n",
       "    }\n",
       "\n",
       "    .dataframe thead tr:last-of-type th {\n",
       "        text-align: right;\n",
       "    }\n",
       "</style>\n",
       "<table border=\"1\" class=\"dataframe\">\n",
       "  <thead>\n",
       "    <tr>\n",
       "      <th></th>\n",
       "      <th></th>\n",
       "      <th></th>\n",
       "      <th>sum</th>\n",
       "      <th>count</th>\n",
       "    </tr>\n",
       "    <tr>\n",
       "      <th></th>\n",
       "      <th></th>\n",
       "      <th></th>\n",
       "      <th>duration</th>\n",
       "      <th>duration</th>\n",
       "    </tr>\n",
       "    <tr>\n",
       "      <th>user_id</th>\n",
       "      <th>month</th>\n",
       "      <th>tariff</th>\n",
       "      <th></th>\n",
       "      <th></th>\n",
       "    </tr>\n",
       "  </thead>\n",
       "  <tbody>\n",
       "    <tr>\n",
       "      <th rowspan=\"5\" valign=\"top\">1000</th>\n",
       "      <th>5.0</th>\n",
       "      <th>ultra</th>\n",
       "      <td>159.0</td>\n",
       "      <td>22</td>\n",
       "    </tr>\n",
       "    <tr>\n",
       "      <th>6.0</th>\n",
       "      <th>ultra</th>\n",
       "      <td>172.0</td>\n",
       "      <td>43</td>\n",
       "    </tr>\n",
       "    <tr>\n",
       "      <th>7.0</th>\n",
       "      <th>ultra</th>\n",
       "      <td>340.0</td>\n",
       "      <td>47</td>\n",
       "    </tr>\n",
       "    <tr>\n",
       "      <th>8.0</th>\n",
       "      <th>ultra</th>\n",
       "      <td>408.0</td>\n",
       "      <td>52</td>\n",
       "    </tr>\n",
       "    <tr>\n",
       "      <th>9.0</th>\n",
       "      <th>ultra</th>\n",
       "      <td>466.0</td>\n",
       "      <td>58</td>\n",
       "    </tr>\n",
       "    <tr>\n",
       "      <th>...</th>\n",
       "      <th>...</th>\n",
       "      <th>...</th>\n",
       "      <td>...</td>\n",
       "      <td>...</td>\n",
       "    </tr>\n",
       "    <tr>\n",
       "      <th>1498</th>\n",
       "      <th>10.0</th>\n",
       "      <th>smart</th>\n",
       "      <td>247.0</td>\n",
       "      <td>41</td>\n",
       "    </tr>\n",
       "    <tr>\n",
       "      <th rowspan=\"4\" valign=\"top\">1499</th>\n",
       "      <th>9.0</th>\n",
       "      <th>smart</th>\n",
       "      <td>70.0</td>\n",
       "      <td>9</td>\n",
       "    </tr>\n",
       "    <tr>\n",
       "      <th>10.0</th>\n",
       "      <th>smart</th>\n",
       "      <td>449.0</td>\n",
       "      <td>68</td>\n",
       "    </tr>\n",
       "    <tr>\n",
       "      <th>11.0</th>\n",
       "      <th>smart</th>\n",
       "      <td>612.0</td>\n",
       "      <td>74</td>\n",
       "    </tr>\n",
       "    <tr>\n",
       "      <th>12.0</th>\n",
       "      <th>smart</th>\n",
       "      <td>492.0</td>\n",
       "      <td>69</td>\n",
       "    </tr>\n",
       "  </tbody>\n",
       "</table>\n",
       "<p>3174 rows × 2 columns</p>\n",
       "</div>"
      ],
      "text/plain": [
       "                          sum    count\n",
       "                     duration duration\n",
       "user_id month tariff                  \n",
       "1000    5.0   ultra     159.0       22\n",
       "        6.0   ultra     172.0       43\n",
       "        7.0   ultra     340.0       47\n",
       "        8.0   ultra     408.0       52\n",
       "        9.0   ultra     466.0       58\n",
       "...                       ...      ...\n",
       "1498    10.0  smart     247.0       41\n",
       "1499    9.0   smart      70.0        9\n",
       "        10.0  smart     449.0       68\n",
       "        11.0  smart     612.0       74\n",
       "        12.0  smart     492.0       69\n",
       "\n",
       "[3174 rows x 2 columns]"
      ]
     },
     "execution_count": 16,
     "metadata": {},
     "output_type": "execute_result"
    }
   ],
   "source": [
    "calls_per_month = data_calls.pivot_table(index=['user_id', 'month','tariff'], values='duration', aggfunc=['sum','count'])\n",
    "calls_per_month"
   ]
  },
  {
   "cell_type": "markdown",
   "metadata": {},
   "source": [
    "Переименуем столбец в tarrifs:"
   ]
  },
  {
   "cell_type": "code",
   "execution_count": 17,
   "metadata": {},
   "outputs": [
    {
     "data": {
      "text/html": [
       "<div>\n",
       "<style scoped>\n",
       "    .dataframe tbody tr th:only-of-type {\n",
       "        vertical-align: middle;\n",
       "    }\n",
       "\n",
       "    .dataframe tbody tr th {\n",
       "        vertical-align: top;\n",
       "    }\n",
       "\n",
       "    .dataframe thead th {\n",
       "        text-align: right;\n",
       "    }\n",
       "</style>\n",
       "<table border=\"1\" class=\"dataframe\">\n",
       "  <thead>\n",
       "    <tr style=\"text-align: right;\">\n",
       "      <th></th>\n",
       "      <th>messages_included</th>\n",
       "      <th>mb_per_month_included</th>\n",
       "      <th>minutes_included</th>\n",
       "      <th>rub_monthly_fee</th>\n",
       "      <th>rub_per_gb</th>\n",
       "      <th>rub_per_message</th>\n",
       "      <th>rub_per_minute</th>\n",
       "      <th>tariff</th>\n",
       "    </tr>\n",
       "  </thead>\n",
       "  <tbody>\n",
       "    <tr>\n",
       "      <th>0</th>\n",
       "      <td>50</td>\n",
       "      <td>15360</td>\n",
       "      <td>500</td>\n",
       "      <td>550</td>\n",
       "      <td>200</td>\n",
       "      <td>3</td>\n",
       "      <td>3</td>\n",
       "      <td>smart</td>\n",
       "    </tr>\n",
       "    <tr>\n",
       "      <th>1</th>\n",
       "      <td>1000</td>\n",
       "      <td>30720</td>\n",
       "      <td>3000</td>\n",
       "      <td>1950</td>\n",
       "      <td>150</td>\n",
       "      <td>1</td>\n",
       "      <td>1</td>\n",
       "      <td>ultra</td>\n",
       "    </tr>\n",
       "  </tbody>\n",
       "</table>\n",
       "</div>"
      ],
      "text/plain": [
       "   messages_included  mb_per_month_included  minutes_included  \\\n",
       "0                 50                  15360               500   \n",
       "1               1000                  30720              3000   \n",
       "\n",
       "   rub_monthly_fee  rub_per_gb  rub_per_message  rub_per_minute tariff  \n",
       "0              550         200                3               3  smart  \n",
       "1             1950         150                1               1  ultra  "
      ]
     },
     "execution_count": 17,
     "metadata": {},
     "output_type": "execute_result"
    }
   ],
   "source": [
    "tariffs.rename(columns = {'tariff_name':'tariff'}, inplace = True)\n",
    "tariffs"
   ]
  },
  {
   "cell_type": "markdown",
   "metadata": {},
   "source": [
    "Добавим условия тарифов к звонкам:"
   ]
  },
  {
   "cell_type": "code",
   "execution_count": 18,
   "metadata": {
    "scrolled": true
   },
   "outputs": [
    {
     "data": {
      "text/html": [
       "<div>\n",
       "<style scoped>\n",
       "    .dataframe tbody tr th:only-of-type {\n",
       "        vertical-align: middle;\n",
       "    }\n",
       "\n",
       "    .dataframe tbody tr th {\n",
       "        vertical-align: top;\n",
       "    }\n",
       "\n",
       "    .dataframe thead th {\n",
       "        text-align: right;\n",
       "    }\n",
       "</style>\n",
       "<table border=\"1\" class=\"dataframe\">\n",
       "  <thead>\n",
       "    <tr style=\"text-align: right;\">\n",
       "      <th></th>\n",
       "      <th>user_id</th>\n",
       "      <th>month</th>\n",
       "      <th>tariff</th>\n",
       "      <th>duration</th>\n",
       "      <th>messages_included</th>\n",
       "      <th>mb_per_month_included</th>\n",
       "      <th>minutes_included</th>\n",
       "      <th>rub_monthly_fee</th>\n",
       "      <th>rub_per_gb</th>\n",
       "      <th>rub_per_message</th>\n",
       "      <th>rub_per_minute</th>\n",
       "    </tr>\n",
       "  </thead>\n",
       "  <tbody>\n",
       "    <tr>\n",
       "      <th>0</th>\n",
       "      <td>1000</td>\n",
       "      <td>5.0</td>\n",
       "      <td>ultra</td>\n",
       "      <td>159.0</td>\n",
       "      <td>1000</td>\n",
       "      <td>30720</td>\n",
       "      <td>3000</td>\n",
       "      <td>1950</td>\n",
       "      <td>150</td>\n",
       "      <td>1</td>\n",
       "      <td>1</td>\n",
       "    </tr>\n",
       "    <tr>\n",
       "      <th>1</th>\n",
       "      <td>1000</td>\n",
       "      <td>6.0</td>\n",
       "      <td>ultra</td>\n",
       "      <td>172.0</td>\n",
       "      <td>1000</td>\n",
       "      <td>30720</td>\n",
       "      <td>3000</td>\n",
       "      <td>1950</td>\n",
       "      <td>150</td>\n",
       "      <td>1</td>\n",
       "      <td>1</td>\n",
       "    </tr>\n",
       "    <tr>\n",
       "      <th>2</th>\n",
       "      <td>1000</td>\n",
       "      <td>7.0</td>\n",
       "      <td>ultra</td>\n",
       "      <td>340.0</td>\n",
       "      <td>1000</td>\n",
       "      <td>30720</td>\n",
       "      <td>3000</td>\n",
       "      <td>1950</td>\n",
       "      <td>150</td>\n",
       "      <td>1</td>\n",
       "      <td>1</td>\n",
       "    </tr>\n",
       "    <tr>\n",
       "      <th>3</th>\n",
       "      <td>1000</td>\n",
       "      <td>8.0</td>\n",
       "      <td>ultra</td>\n",
       "      <td>408.0</td>\n",
       "      <td>1000</td>\n",
       "      <td>30720</td>\n",
       "      <td>3000</td>\n",
       "      <td>1950</td>\n",
       "      <td>150</td>\n",
       "      <td>1</td>\n",
       "      <td>1</td>\n",
       "    </tr>\n",
       "    <tr>\n",
       "      <th>4</th>\n",
       "      <td>1000</td>\n",
       "      <td>9.0</td>\n",
       "      <td>ultra</td>\n",
       "      <td>466.0</td>\n",
       "      <td>1000</td>\n",
       "      <td>30720</td>\n",
       "      <td>3000</td>\n",
       "      <td>1950</td>\n",
       "      <td>150</td>\n",
       "      <td>1</td>\n",
       "      <td>1</td>\n",
       "    </tr>\n",
       "    <tr>\n",
       "      <th>...</th>\n",
       "      <td>...</td>\n",
       "      <td>...</td>\n",
       "      <td>...</td>\n",
       "      <td>...</td>\n",
       "      <td>...</td>\n",
       "      <td>...</td>\n",
       "      <td>...</td>\n",
       "      <td>...</td>\n",
       "      <td>...</td>\n",
       "      <td>...</td>\n",
       "      <td>...</td>\n",
       "    </tr>\n",
       "    <tr>\n",
       "      <th>3169</th>\n",
       "      <td>1498</td>\n",
       "      <td>10.0</td>\n",
       "      <td>smart</td>\n",
       "      <td>247.0</td>\n",
       "      <td>50</td>\n",
       "      <td>15360</td>\n",
       "      <td>500</td>\n",
       "      <td>550</td>\n",
       "      <td>200</td>\n",
       "      <td>3</td>\n",
       "      <td>3</td>\n",
       "    </tr>\n",
       "    <tr>\n",
       "      <th>3170</th>\n",
       "      <td>1499</td>\n",
       "      <td>9.0</td>\n",
       "      <td>smart</td>\n",
       "      <td>70.0</td>\n",
       "      <td>50</td>\n",
       "      <td>15360</td>\n",
       "      <td>500</td>\n",
       "      <td>550</td>\n",
       "      <td>200</td>\n",
       "      <td>3</td>\n",
       "      <td>3</td>\n",
       "    </tr>\n",
       "    <tr>\n",
       "      <th>3171</th>\n",
       "      <td>1499</td>\n",
       "      <td>10.0</td>\n",
       "      <td>smart</td>\n",
       "      <td>449.0</td>\n",
       "      <td>50</td>\n",
       "      <td>15360</td>\n",
       "      <td>500</td>\n",
       "      <td>550</td>\n",
       "      <td>200</td>\n",
       "      <td>3</td>\n",
       "      <td>3</td>\n",
       "    </tr>\n",
       "    <tr>\n",
       "      <th>3172</th>\n",
       "      <td>1499</td>\n",
       "      <td>11.0</td>\n",
       "      <td>smart</td>\n",
       "      <td>612.0</td>\n",
       "      <td>50</td>\n",
       "      <td>15360</td>\n",
       "      <td>500</td>\n",
       "      <td>550</td>\n",
       "      <td>200</td>\n",
       "      <td>3</td>\n",
       "      <td>3</td>\n",
       "    </tr>\n",
       "    <tr>\n",
       "      <th>3173</th>\n",
       "      <td>1499</td>\n",
       "      <td>12.0</td>\n",
       "      <td>smart</td>\n",
       "      <td>492.0</td>\n",
       "      <td>50</td>\n",
       "      <td>15360</td>\n",
       "      <td>500</td>\n",
       "      <td>550</td>\n",
       "      <td>200</td>\n",
       "      <td>3</td>\n",
       "      <td>3</td>\n",
       "    </tr>\n",
       "  </tbody>\n",
       "</table>\n",
       "<p>3174 rows × 11 columns</p>\n",
       "</div>"
      ],
      "text/plain": [
       "      user_id  month tariff  duration  messages_included  \\\n",
       "0        1000    5.0  ultra     159.0               1000   \n",
       "1        1000    6.0  ultra     172.0               1000   \n",
       "2        1000    7.0  ultra     340.0               1000   \n",
       "3        1000    8.0  ultra     408.0               1000   \n",
       "4        1000    9.0  ultra     466.0               1000   \n",
       "...       ...    ...    ...       ...                ...   \n",
       "3169     1498   10.0  smart     247.0                 50   \n",
       "3170     1499    9.0  smart      70.0                 50   \n",
       "3171     1499   10.0  smart     449.0                 50   \n",
       "3172     1499   11.0  smart     612.0                 50   \n",
       "3173     1499   12.0  smart     492.0                 50   \n",
       "\n",
       "      mb_per_month_included  minutes_included  rub_monthly_fee  rub_per_gb  \\\n",
       "0                     30720              3000             1950         150   \n",
       "1                     30720              3000             1950         150   \n",
       "2                     30720              3000             1950         150   \n",
       "3                     30720              3000             1950         150   \n",
       "4                     30720              3000             1950         150   \n",
       "...                     ...               ...              ...         ...   \n",
       "3169                  15360               500              550         200   \n",
       "3170                  15360               500              550         200   \n",
       "3171                  15360               500              550         200   \n",
       "3172                  15360               500              550         200   \n",
       "3173                  15360               500              550         200   \n",
       "\n",
       "      rub_per_message  rub_per_minute  \n",
       "0                   1               1  \n",
       "1                   1               1  \n",
       "2                   1               1  \n",
       "3                   1               1  \n",
       "4                   1               1  \n",
       "...               ...             ...  \n",
       "3169                3               3  \n",
       "3170                3               3  \n",
       "3171                3               3  \n",
       "3172                3               3  \n",
       "3173                3               3  \n",
       "\n",
       "[3174 rows x 11 columns]"
      ]
     },
     "execution_count": 18,
     "metadata": {},
     "output_type": "execute_result"
    }
   ],
   "source": [
    "final_calls = data_calls.pivot_table(index=['user_id', 'month','tariff'], values='duration', aggfunc='sum').reset_index().merge(tariffs, on='tariff', how='outer')\n",
    "final_calls"
   ]
  },
  {
   "cell_type": "markdown",
   "metadata": {},
   "source": [
    "Посчитаем перерасход минут по месяцам для каждого абонента:"
   ]
  },
  {
   "cell_type": "code",
   "execution_count": 19,
   "metadata": {
    "scrolled": true
   },
   "outputs": [
    {
     "data": {
      "text/html": [
       "<div>\n",
       "<style scoped>\n",
       "    .dataframe tbody tr th:only-of-type {\n",
       "        vertical-align: middle;\n",
       "    }\n",
       "\n",
       "    .dataframe tbody tr th {\n",
       "        vertical-align: top;\n",
       "    }\n",
       "\n",
       "    .dataframe thead th {\n",
       "        text-align: right;\n",
       "    }\n",
       "</style>\n",
       "<table border=\"1\" class=\"dataframe\">\n",
       "  <thead>\n",
       "    <tr style=\"text-align: right;\">\n",
       "      <th></th>\n",
       "      <th>user_id</th>\n",
       "      <th>month</th>\n",
       "      <th>tariff</th>\n",
       "      <th>duration</th>\n",
       "      <th>messages_included</th>\n",
       "      <th>mb_per_month_included</th>\n",
       "      <th>minutes_included</th>\n",
       "      <th>rub_monthly_fee</th>\n",
       "      <th>rub_per_gb</th>\n",
       "      <th>rub_per_message</th>\n",
       "      <th>rub_per_minute</th>\n",
       "      <th>over_the_limit</th>\n",
       "    </tr>\n",
       "  </thead>\n",
       "  <tbody>\n",
       "    <tr>\n",
       "      <th>0</th>\n",
       "      <td>1000</td>\n",
       "      <td>5.0</td>\n",
       "      <td>ultra</td>\n",
       "      <td>159.0</td>\n",
       "      <td>1000</td>\n",
       "      <td>30720</td>\n",
       "      <td>3000</td>\n",
       "      <td>1950</td>\n",
       "      <td>150</td>\n",
       "      <td>1</td>\n",
       "      <td>1</td>\n",
       "      <td>0.0</td>\n",
       "    </tr>\n",
       "    <tr>\n",
       "      <th>1</th>\n",
       "      <td>1000</td>\n",
       "      <td>6.0</td>\n",
       "      <td>ultra</td>\n",
       "      <td>172.0</td>\n",
       "      <td>1000</td>\n",
       "      <td>30720</td>\n",
       "      <td>3000</td>\n",
       "      <td>1950</td>\n",
       "      <td>150</td>\n",
       "      <td>1</td>\n",
       "      <td>1</td>\n",
       "      <td>0.0</td>\n",
       "    </tr>\n",
       "    <tr>\n",
       "      <th>2</th>\n",
       "      <td>1000</td>\n",
       "      <td>7.0</td>\n",
       "      <td>ultra</td>\n",
       "      <td>340.0</td>\n",
       "      <td>1000</td>\n",
       "      <td>30720</td>\n",
       "      <td>3000</td>\n",
       "      <td>1950</td>\n",
       "      <td>150</td>\n",
       "      <td>1</td>\n",
       "      <td>1</td>\n",
       "      <td>0.0</td>\n",
       "    </tr>\n",
       "    <tr>\n",
       "      <th>3</th>\n",
       "      <td>1000</td>\n",
       "      <td>8.0</td>\n",
       "      <td>ultra</td>\n",
       "      <td>408.0</td>\n",
       "      <td>1000</td>\n",
       "      <td>30720</td>\n",
       "      <td>3000</td>\n",
       "      <td>1950</td>\n",
       "      <td>150</td>\n",
       "      <td>1</td>\n",
       "      <td>1</td>\n",
       "      <td>0.0</td>\n",
       "    </tr>\n",
       "    <tr>\n",
       "      <th>4</th>\n",
       "      <td>1000</td>\n",
       "      <td>9.0</td>\n",
       "      <td>ultra</td>\n",
       "      <td>466.0</td>\n",
       "      <td>1000</td>\n",
       "      <td>30720</td>\n",
       "      <td>3000</td>\n",
       "      <td>1950</td>\n",
       "      <td>150</td>\n",
       "      <td>1</td>\n",
       "      <td>1</td>\n",
       "      <td>0.0</td>\n",
       "    </tr>\n",
       "    <tr>\n",
       "      <th>...</th>\n",
       "      <td>...</td>\n",
       "      <td>...</td>\n",
       "      <td>...</td>\n",
       "      <td>...</td>\n",
       "      <td>...</td>\n",
       "      <td>...</td>\n",
       "      <td>...</td>\n",
       "      <td>...</td>\n",
       "      <td>...</td>\n",
       "      <td>...</td>\n",
       "      <td>...</td>\n",
       "      <td>...</td>\n",
       "    </tr>\n",
       "    <tr>\n",
       "      <th>3169</th>\n",
       "      <td>1498</td>\n",
       "      <td>10.0</td>\n",
       "      <td>smart</td>\n",
       "      <td>247.0</td>\n",
       "      <td>50</td>\n",
       "      <td>15360</td>\n",
       "      <td>500</td>\n",
       "      <td>550</td>\n",
       "      <td>200</td>\n",
       "      <td>3</td>\n",
       "      <td>3</td>\n",
       "      <td>0.0</td>\n",
       "    </tr>\n",
       "    <tr>\n",
       "      <th>3170</th>\n",
       "      <td>1499</td>\n",
       "      <td>9.0</td>\n",
       "      <td>smart</td>\n",
       "      <td>70.0</td>\n",
       "      <td>50</td>\n",
       "      <td>15360</td>\n",
       "      <td>500</td>\n",
       "      <td>550</td>\n",
       "      <td>200</td>\n",
       "      <td>3</td>\n",
       "      <td>3</td>\n",
       "      <td>0.0</td>\n",
       "    </tr>\n",
       "    <tr>\n",
       "      <th>3171</th>\n",
       "      <td>1499</td>\n",
       "      <td>10.0</td>\n",
       "      <td>smart</td>\n",
       "      <td>449.0</td>\n",
       "      <td>50</td>\n",
       "      <td>15360</td>\n",
       "      <td>500</td>\n",
       "      <td>550</td>\n",
       "      <td>200</td>\n",
       "      <td>3</td>\n",
       "      <td>3</td>\n",
       "      <td>0.0</td>\n",
       "    </tr>\n",
       "    <tr>\n",
       "      <th>3172</th>\n",
       "      <td>1499</td>\n",
       "      <td>11.0</td>\n",
       "      <td>smart</td>\n",
       "      <td>612.0</td>\n",
       "      <td>50</td>\n",
       "      <td>15360</td>\n",
       "      <td>500</td>\n",
       "      <td>550</td>\n",
       "      <td>200</td>\n",
       "      <td>3</td>\n",
       "      <td>3</td>\n",
       "      <td>112.0</td>\n",
       "    </tr>\n",
       "    <tr>\n",
       "      <th>3173</th>\n",
       "      <td>1499</td>\n",
       "      <td>12.0</td>\n",
       "      <td>smart</td>\n",
       "      <td>492.0</td>\n",
       "      <td>50</td>\n",
       "      <td>15360</td>\n",
       "      <td>500</td>\n",
       "      <td>550</td>\n",
       "      <td>200</td>\n",
       "      <td>3</td>\n",
       "      <td>3</td>\n",
       "      <td>0.0</td>\n",
       "    </tr>\n",
       "  </tbody>\n",
       "</table>\n",
       "<p>3174 rows × 12 columns</p>\n",
       "</div>"
      ],
      "text/plain": [
       "      user_id  month tariff  duration  messages_included  \\\n",
       "0        1000    5.0  ultra     159.0               1000   \n",
       "1        1000    6.0  ultra     172.0               1000   \n",
       "2        1000    7.0  ultra     340.0               1000   \n",
       "3        1000    8.0  ultra     408.0               1000   \n",
       "4        1000    9.0  ultra     466.0               1000   \n",
       "...       ...    ...    ...       ...                ...   \n",
       "3169     1498   10.0  smart     247.0                 50   \n",
       "3170     1499    9.0  smart      70.0                 50   \n",
       "3171     1499   10.0  smart     449.0                 50   \n",
       "3172     1499   11.0  smart     612.0                 50   \n",
       "3173     1499   12.0  smart     492.0                 50   \n",
       "\n",
       "      mb_per_month_included  minutes_included  rub_monthly_fee  rub_per_gb  \\\n",
       "0                     30720              3000             1950         150   \n",
       "1                     30720              3000             1950         150   \n",
       "2                     30720              3000             1950         150   \n",
       "3                     30720              3000             1950         150   \n",
       "4                     30720              3000             1950         150   \n",
       "...                     ...               ...              ...         ...   \n",
       "3169                  15360               500              550         200   \n",
       "3170                  15360               500              550         200   \n",
       "3171                  15360               500              550         200   \n",
       "3172                  15360               500              550         200   \n",
       "3173                  15360               500              550         200   \n",
       "\n",
       "      rub_per_message  rub_per_minute  over_the_limit  \n",
       "0                   1               1             0.0  \n",
       "1                   1               1             0.0  \n",
       "2                   1               1             0.0  \n",
       "3                   1               1             0.0  \n",
       "4                   1               1             0.0  \n",
       "...               ...             ...             ...  \n",
       "3169                3               3             0.0  \n",
       "3170                3               3             0.0  \n",
       "3171                3               3             0.0  \n",
       "3172                3               3           112.0  \n",
       "3173                3               3             0.0  \n",
       "\n",
       "[3174 rows x 12 columns]"
      ]
     },
     "execution_count": 19,
     "metadata": {},
     "output_type": "execute_result"
    }
   ],
   "source": [
    "def overlimits(row):\n",
    "    minutes_included = row['minutes_included']\n",
    "    duration = row['duration']\n",
    "    if minutes_included >= duration:\n",
    "        return 0\n",
    "    if duration >= minutes_included:\n",
    "        return duration - minutes_included\n",
    "final_calls['over_the_limit'] = final_calls.apply(overlimits, axis=1)\n",
    "final_calls"
   ]
  },
  {
   "cell_type": "markdown",
   "metadata": {},
   "source": [
    "Посчитаем сумму перерасхода по звонкам в зависимости от тарифа:"
   ]
  },
  {
   "cell_type": "code",
   "execution_count": 20,
   "metadata": {},
   "outputs": [
    {
     "data": {
      "text/html": [
       "<div>\n",
       "<style scoped>\n",
       "    .dataframe tbody tr th:only-of-type {\n",
       "        vertical-align: middle;\n",
       "    }\n",
       "\n",
       "    .dataframe tbody tr th {\n",
       "        vertical-align: top;\n",
       "    }\n",
       "\n",
       "    .dataframe thead th {\n",
       "        text-align: right;\n",
       "    }\n",
       "</style>\n",
       "<table border=\"1\" class=\"dataframe\">\n",
       "  <thead>\n",
       "    <tr style=\"text-align: right;\">\n",
       "      <th></th>\n",
       "      <th>user_id</th>\n",
       "      <th>month</th>\n",
       "      <th>tariff</th>\n",
       "      <th>duration</th>\n",
       "      <th>messages_included</th>\n",
       "      <th>mb_per_month_included</th>\n",
       "      <th>minutes_included</th>\n",
       "      <th>rub_monthly_fee</th>\n",
       "      <th>rub_per_gb</th>\n",
       "      <th>rub_per_message</th>\n",
       "      <th>rub_per_minute</th>\n",
       "      <th>over_the_limit</th>\n",
       "      <th>price_calls</th>\n",
       "    </tr>\n",
       "  </thead>\n",
       "  <tbody>\n",
       "    <tr>\n",
       "      <th>0</th>\n",
       "      <td>1000</td>\n",
       "      <td>5.0</td>\n",
       "      <td>ultra</td>\n",
       "      <td>159.0</td>\n",
       "      <td>1000</td>\n",
       "      <td>30720</td>\n",
       "      <td>3000</td>\n",
       "      <td>1950</td>\n",
       "      <td>150</td>\n",
       "      <td>1</td>\n",
       "      <td>1</td>\n",
       "      <td>0.0</td>\n",
       "      <td>0.0</td>\n",
       "    </tr>\n",
       "    <tr>\n",
       "      <th>1</th>\n",
       "      <td>1000</td>\n",
       "      <td>6.0</td>\n",
       "      <td>ultra</td>\n",
       "      <td>172.0</td>\n",
       "      <td>1000</td>\n",
       "      <td>30720</td>\n",
       "      <td>3000</td>\n",
       "      <td>1950</td>\n",
       "      <td>150</td>\n",
       "      <td>1</td>\n",
       "      <td>1</td>\n",
       "      <td>0.0</td>\n",
       "      <td>0.0</td>\n",
       "    </tr>\n",
       "    <tr>\n",
       "      <th>2</th>\n",
       "      <td>1000</td>\n",
       "      <td>7.0</td>\n",
       "      <td>ultra</td>\n",
       "      <td>340.0</td>\n",
       "      <td>1000</td>\n",
       "      <td>30720</td>\n",
       "      <td>3000</td>\n",
       "      <td>1950</td>\n",
       "      <td>150</td>\n",
       "      <td>1</td>\n",
       "      <td>1</td>\n",
       "      <td>0.0</td>\n",
       "      <td>0.0</td>\n",
       "    </tr>\n",
       "    <tr>\n",
       "      <th>3</th>\n",
       "      <td>1000</td>\n",
       "      <td>8.0</td>\n",
       "      <td>ultra</td>\n",
       "      <td>408.0</td>\n",
       "      <td>1000</td>\n",
       "      <td>30720</td>\n",
       "      <td>3000</td>\n",
       "      <td>1950</td>\n",
       "      <td>150</td>\n",
       "      <td>1</td>\n",
       "      <td>1</td>\n",
       "      <td>0.0</td>\n",
       "      <td>0.0</td>\n",
       "    </tr>\n",
       "    <tr>\n",
       "      <th>4</th>\n",
       "      <td>1000</td>\n",
       "      <td>9.0</td>\n",
       "      <td>ultra</td>\n",
       "      <td>466.0</td>\n",
       "      <td>1000</td>\n",
       "      <td>30720</td>\n",
       "      <td>3000</td>\n",
       "      <td>1950</td>\n",
       "      <td>150</td>\n",
       "      <td>1</td>\n",
       "      <td>1</td>\n",
       "      <td>0.0</td>\n",
       "      <td>0.0</td>\n",
       "    </tr>\n",
       "    <tr>\n",
       "      <th>...</th>\n",
       "      <td>...</td>\n",
       "      <td>...</td>\n",
       "      <td>...</td>\n",
       "      <td>...</td>\n",
       "      <td>...</td>\n",
       "      <td>...</td>\n",
       "      <td>...</td>\n",
       "      <td>...</td>\n",
       "      <td>...</td>\n",
       "      <td>...</td>\n",
       "      <td>...</td>\n",
       "      <td>...</td>\n",
       "      <td>...</td>\n",
       "    </tr>\n",
       "    <tr>\n",
       "      <th>3169</th>\n",
       "      <td>1498</td>\n",
       "      <td>10.0</td>\n",
       "      <td>smart</td>\n",
       "      <td>247.0</td>\n",
       "      <td>50</td>\n",
       "      <td>15360</td>\n",
       "      <td>500</td>\n",
       "      <td>550</td>\n",
       "      <td>200</td>\n",
       "      <td>3</td>\n",
       "      <td>3</td>\n",
       "      <td>0.0</td>\n",
       "      <td>0.0</td>\n",
       "    </tr>\n",
       "    <tr>\n",
       "      <th>3170</th>\n",
       "      <td>1499</td>\n",
       "      <td>9.0</td>\n",
       "      <td>smart</td>\n",
       "      <td>70.0</td>\n",
       "      <td>50</td>\n",
       "      <td>15360</td>\n",
       "      <td>500</td>\n",
       "      <td>550</td>\n",
       "      <td>200</td>\n",
       "      <td>3</td>\n",
       "      <td>3</td>\n",
       "      <td>0.0</td>\n",
       "      <td>0.0</td>\n",
       "    </tr>\n",
       "    <tr>\n",
       "      <th>3171</th>\n",
       "      <td>1499</td>\n",
       "      <td>10.0</td>\n",
       "      <td>smart</td>\n",
       "      <td>449.0</td>\n",
       "      <td>50</td>\n",
       "      <td>15360</td>\n",
       "      <td>500</td>\n",
       "      <td>550</td>\n",
       "      <td>200</td>\n",
       "      <td>3</td>\n",
       "      <td>3</td>\n",
       "      <td>0.0</td>\n",
       "      <td>0.0</td>\n",
       "    </tr>\n",
       "    <tr>\n",
       "      <th>3172</th>\n",
       "      <td>1499</td>\n",
       "      <td>11.0</td>\n",
       "      <td>smart</td>\n",
       "      <td>612.0</td>\n",
       "      <td>50</td>\n",
       "      <td>15360</td>\n",
       "      <td>500</td>\n",
       "      <td>550</td>\n",
       "      <td>200</td>\n",
       "      <td>3</td>\n",
       "      <td>3</td>\n",
       "      <td>112.0</td>\n",
       "      <td>336.0</td>\n",
       "    </tr>\n",
       "    <tr>\n",
       "      <th>3173</th>\n",
       "      <td>1499</td>\n",
       "      <td>12.0</td>\n",
       "      <td>smart</td>\n",
       "      <td>492.0</td>\n",
       "      <td>50</td>\n",
       "      <td>15360</td>\n",
       "      <td>500</td>\n",
       "      <td>550</td>\n",
       "      <td>200</td>\n",
       "      <td>3</td>\n",
       "      <td>3</td>\n",
       "      <td>0.0</td>\n",
       "      <td>0.0</td>\n",
       "    </tr>\n",
       "  </tbody>\n",
       "</table>\n",
       "<p>3174 rows × 13 columns</p>\n",
       "</div>"
      ],
      "text/plain": [
       "      user_id  month tariff  duration  messages_included  \\\n",
       "0        1000    5.0  ultra     159.0               1000   \n",
       "1        1000    6.0  ultra     172.0               1000   \n",
       "2        1000    7.0  ultra     340.0               1000   \n",
       "3        1000    8.0  ultra     408.0               1000   \n",
       "4        1000    9.0  ultra     466.0               1000   \n",
       "...       ...    ...    ...       ...                ...   \n",
       "3169     1498   10.0  smart     247.0                 50   \n",
       "3170     1499    9.0  smart      70.0                 50   \n",
       "3171     1499   10.0  smart     449.0                 50   \n",
       "3172     1499   11.0  smart     612.0                 50   \n",
       "3173     1499   12.0  smart     492.0                 50   \n",
       "\n",
       "      mb_per_month_included  minutes_included  rub_monthly_fee  rub_per_gb  \\\n",
       "0                     30720              3000             1950         150   \n",
       "1                     30720              3000             1950         150   \n",
       "2                     30720              3000             1950         150   \n",
       "3                     30720              3000             1950         150   \n",
       "4                     30720              3000             1950         150   \n",
       "...                     ...               ...              ...         ...   \n",
       "3169                  15360               500              550         200   \n",
       "3170                  15360               500              550         200   \n",
       "3171                  15360               500              550         200   \n",
       "3172                  15360               500              550         200   \n",
       "3173                  15360               500              550         200   \n",
       "\n",
       "      rub_per_message  rub_per_minute  over_the_limit  price_calls  \n",
       "0                   1               1             0.0          0.0  \n",
       "1                   1               1             0.0          0.0  \n",
       "2                   1               1             0.0          0.0  \n",
       "3                   1               1             0.0          0.0  \n",
       "4                   1               1             0.0          0.0  \n",
       "...               ...             ...             ...          ...  \n",
       "3169                3               3             0.0          0.0  \n",
       "3170                3               3             0.0          0.0  \n",
       "3171                3               3             0.0          0.0  \n",
       "3172                3               3           112.0        336.0  \n",
       "3173                3               3             0.0          0.0  \n",
       "\n",
       "[3174 rows x 13 columns]"
      ]
     },
     "execution_count": 20,
     "metadata": {},
     "output_type": "execute_result"
    }
   ],
   "source": [
    "def price_calls(row):\n",
    "    tariff = row['tariff']\n",
    "    over_the_limit = row['over_the_limit']\n",
    "    if tariff == 'ultra':\n",
    "        return over_the_limit * 1\n",
    "    if tariff == 'smart':\n",
    "        return over_the_limit * 3\n",
    "final_calls['price_calls'] = final_calls.apply(price_calls, axis=1)\n",
    "final_calls"
   ]
  },
  {
   "cell_type": "markdown",
   "metadata": {},
   "source": [
    "Посчитаем количество отправленных сообщений по месяцам:"
   ]
  },
  {
   "cell_type": "code",
   "execution_count": 21,
   "metadata": {},
   "outputs": [
    {
     "data": {
      "text/html": [
       "<div>\n",
       "<style scoped>\n",
       "    .dataframe tbody tr th:only-of-type {\n",
       "        vertical-align: middle;\n",
       "    }\n",
       "\n",
       "    .dataframe tbody tr th {\n",
       "        vertical-align: top;\n",
       "    }\n",
       "\n",
       "    .dataframe thead th {\n",
       "        text-align: right;\n",
       "    }\n",
       "</style>\n",
       "<table border=\"1\" class=\"dataframe\">\n",
       "  <thead>\n",
       "    <tr style=\"text-align: right;\">\n",
       "      <th></th>\n",
       "      <th>user_id</th>\n",
       "      <th>age</th>\n",
       "      <th>churn_date</th>\n",
       "      <th>city</th>\n",
       "      <th>first_name</th>\n",
       "      <th>last_name</th>\n",
       "      <th>reg_date</th>\n",
       "      <th>tariff</th>\n",
       "      <th>id</th>\n",
       "      <th>message_date</th>\n",
       "    </tr>\n",
       "  </thead>\n",
       "  <tbody>\n",
       "    <tr>\n",
       "      <th>0</th>\n",
       "      <td>1000</td>\n",
       "      <td>52</td>\n",
       "      <td>NaN</td>\n",
       "      <td>Краснодар</td>\n",
       "      <td>Рафаил</td>\n",
       "      <td>Верещагин</td>\n",
       "      <td>2018-05-25</td>\n",
       "      <td>ultra</td>\n",
       "      <td>1000_0</td>\n",
       "      <td>2018-06-27</td>\n",
       "    </tr>\n",
       "    <tr>\n",
       "      <th>1</th>\n",
       "      <td>1000</td>\n",
       "      <td>52</td>\n",
       "      <td>NaN</td>\n",
       "      <td>Краснодар</td>\n",
       "      <td>Рафаил</td>\n",
       "      <td>Верещагин</td>\n",
       "      <td>2018-05-25</td>\n",
       "      <td>ultra</td>\n",
       "      <td>1000_1</td>\n",
       "      <td>2018-10-08</td>\n",
       "    </tr>\n",
       "    <tr>\n",
       "      <th>2</th>\n",
       "      <td>1000</td>\n",
       "      <td>52</td>\n",
       "      <td>NaN</td>\n",
       "      <td>Краснодар</td>\n",
       "      <td>Рафаил</td>\n",
       "      <td>Верещагин</td>\n",
       "      <td>2018-05-25</td>\n",
       "      <td>ultra</td>\n",
       "      <td>1000_2</td>\n",
       "      <td>2018-08-04</td>\n",
       "    </tr>\n",
       "    <tr>\n",
       "      <th>3</th>\n",
       "      <td>1000</td>\n",
       "      <td>52</td>\n",
       "      <td>NaN</td>\n",
       "      <td>Краснодар</td>\n",
       "      <td>Рафаил</td>\n",
       "      <td>Верещагин</td>\n",
       "      <td>2018-05-25</td>\n",
       "      <td>ultra</td>\n",
       "      <td>1000_3</td>\n",
       "      <td>2018-06-16</td>\n",
       "    </tr>\n",
       "    <tr>\n",
       "      <th>4</th>\n",
       "      <td>1000</td>\n",
       "      <td>52</td>\n",
       "      <td>NaN</td>\n",
       "      <td>Краснодар</td>\n",
       "      <td>Рафаил</td>\n",
       "      <td>Верещагин</td>\n",
       "      <td>2018-05-25</td>\n",
       "      <td>ultra</td>\n",
       "      <td>1000_4</td>\n",
       "      <td>2018-12-05</td>\n",
       "    </tr>\n",
       "  </tbody>\n",
       "</table>\n",
       "</div>"
      ],
      "text/plain": [
       "   user_id  age churn_date       city first_name  last_name   reg_date tariff  \\\n",
       "0     1000   52        NaN  Краснодар     Рафаил  Верещагин 2018-05-25  ultra   \n",
       "1     1000   52        NaN  Краснодар     Рафаил  Верещагин 2018-05-25  ultra   \n",
       "2     1000   52        NaN  Краснодар     Рафаил  Верещагин 2018-05-25  ultra   \n",
       "3     1000   52        NaN  Краснодар     Рафаил  Верещагин 2018-05-25  ultra   \n",
       "4     1000   52        NaN  Краснодар     Рафаил  Верещагин 2018-05-25  ultra   \n",
       "\n",
       "       id message_date  \n",
       "0  1000_0   2018-06-27  \n",
       "1  1000_1   2018-10-08  \n",
       "2  1000_2   2018-08-04  \n",
       "3  1000_3   2018-06-16  \n",
       "4  1000_4   2018-12-05  "
      ]
     },
     "execution_count": 21,
     "metadata": {},
     "output_type": "execute_result"
    }
   ],
   "source": [
    "data_messages = users.merge(messages, on='user_id', how='outer')\n",
    "data_messages.head()"
   ]
  },
  {
   "cell_type": "code",
   "execution_count": 22,
   "metadata": {},
   "outputs": [
    {
     "data": {
      "text/html": [
       "<div>\n",
       "<style scoped>\n",
       "    .dataframe tbody tr th:only-of-type {\n",
       "        vertical-align: middle;\n",
       "    }\n",
       "\n",
       "    .dataframe tbody tr th {\n",
       "        vertical-align: top;\n",
       "    }\n",
       "\n",
       "    .dataframe thead th {\n",
       "        text-align: right;\n",
       "    }\n",
       "</style>\n",
       "<table border=\"1\" class=\"dataframe\">\n",
       "  <thead>\n",
       "    <tr style=\"text-align: right;\">\n",
       "      <th></th>\n",
       "      <th>user_id</th>\n",
       "      <th>age</th>\n",
       "      <th>churn_date</th>\n",
       "      <th>city</th>\n",
       "      <th>first_name</th>\n",
       "      <th>last_name</th>\n",
       "      <th>reg_date</th>\n",
       "      <th>tariff</th>\n",
       "      <th>id</th>\n",
       "      <th>message_date</th>\n",
       "      <th>month</th>\n",
       "    </tr>\n",
       "  </thead>\n",
       "  <tbody>\n",
       "    <tr>\n",
       "      <th>0</th>\n",
       "      <td>1000</td>\n",
       "      <td>52</td>\n",
       "      <td>NaN</td>\n",
       "      <td>Краснодар</td>\n",
       "      <td>Рафаил</td>\n",
       "      <td>Верещагин</td>\n",
       "      <td>2018-05-25</td>\n",
       "      <td>ultra</td>\n",
       "      <td>1000_0</td>\n",
       "      <td>2018-06-27</td>\n",
       "      <td>6.0</td>\n",
       "    </tr>\n",
       "    <tr>\n",
       "      <th>1</th>\n",
       "      <td>1000</td>\n",
       "      <td>52</td>\n",
       "      <td>NaN</td>\n",
       "      <td>Краснодар</td>\n",
       "      <td>Рафаил</td>\n",
       "      <td>Верещагин</td>\n",
       "      <td>2018-05-25</td>\n",
       "      <td>ultra</td>\n",
       "      <td>1000_1</td>\n",
       "      <td>2018-10-08</td>\n",
       "      <td>10.0</td>\n",
       "    </tr>\n",
       "    <tr>\n",
       "      <th>2</th>\n",
       "      <td>1000</td>\n",
       "      <td>52</td>\n",
       "      <td>NaN</td>\n",
       "      <td>Краснодар</td>\n",
       "      <td>Рафаил</td>\n",
       "      <td>Верещагин</td>\n",
       "      <td>2018-05-25</td>\n",
       "      <td>ultra</td>\n",
       "      <td>1000_2</td>\n",
       "      <td>2018-08-04</td>\n",
       "      <td>8.0</td>\n",
       "    </tr>\n",
       "    <tr>\n",
       "      <th>3</th>\n",
       "      <td>1000</td>\n",
       "      <td>52</td>\n",
       "      <td>NaN</td>\n",
       "      <td>Краснодар</td>\n",
       "      <td>Рафаил</td>\n",
       "      <td>Верещагин</td>\n",
       "      <td>2018-05-25</td>\n",
       "      <td>ultra</td>\n",
       "      <td>1000_3</td>\n",
       "      <td>2018-06-16</td>\n",
       "      <td>6.0</td>\n",
       "    </tr>\n",
       "    <tr>\n",
       "      <th>4</th>\n",
       "      <td>1000</td>\n",
       "      <td>52</td>\n",
       "      <td>NaN</td>\n",
       "      <td>Краснодар</td>\n",
       "      <td>Рафаил</td>\n",
       "      <td>Верещагин</td>\n",
       "      <td>2018-05-25</td>\n",
       "      <td>ultra</td>\n",
       "      <td>1000_4</td>\n",
       "      <td>2018-12-05</td>\n",
       "      <td>12.0</td>\n",
       "    </tr>\n",
       "  </tbody>\n",
       "</table>\n",
       "</div>"
      ],
      "text/plain": [
       "   user_id  age churn_date       city first_name  last_name   reg_date tariff  \\\n",
       "0     1000   52        NaN  Краснодар     Рафаил  Верещагин 2018-05-25  ultra   \n",
       "1     1000   52        NaN  Краснодар     Рафаил  Верещагин 2018-05-25  ultra   \n",
       "2     1000   52        NaN  Краснодар     Рафаил  Верещагин 2018-05-25  ultra   \n",
       "3     1000   52        NaN  Краснодар     Рафаил  Верещагин 2018-05-25  ultra   \n",
       "4     1000   52        NaN  Краснодар     Рафаил  Верещагин 2018-05-25  ultra   \n",
       "\n",
       "       id message_date  month  \n",
       "0  1000_0   2018-06-27    6.0  \n",
       "1  1000_1   2018-10-08   10.0  \n",
       "2  1000_2   2018-08-04    8.0  \n",
       "3  1000_3   2018-06-16    6.0  \n",
       "4  1000_4   2018-12-05   12.0  "
      ]
     },
     "execution_count": 22,
     "metadata": {},
     "output_type": "execute_result"
    }
   ],
   "source": [
    "data_messages['month'] = data_messages['message_date'].dt.month\n",
    "data_messages.head()"
   ]
  },
  {
   "cell_type": "code",
   "execution_count": 23,
   "metadata": {
    "scrolled": false
   },
   "outputs": [
    {
     "data": {
      "text/html": [
       "<div>\n",
       "<style scoped>\n",
       "    .dataframe tbody tr th:only-of-type {\n",
       "        vertical-align: middle;\n",
       "    }\n",
       "\n",
       "    .dataframe tbody tr th {\n",
       "        vertical-align: top;\n",
       "    }\n",
       "\n",
       "    .dataframe thead th {\n",
       "        text-align: right;\n",
       "    }\n",
       "</style>\n",
       "<table border=\"1\" class=\"dataframe\">\n",
       "  <thead>\n",
       "    <tr style=\"text-align: right;\">\n",
       "      <th></th>\n",
       "      <th></th>\n",
       "      <th></th>\n",
       "      <th>message_date</th>\n",
       "    </tr>\n",
       "    <tr>\n",
       "      <th>user_id</th>\n",
       "      <th>month</th>\n",
       "      <th>tariff</th>\n",
       "      <th></th>\n",
       "    </tr>\n",
       "  </thead>\n",
       "  <tbody>\n",
       "    <tr>\n",
       "      <th rowspan=\"5\" valign=\"top\">1000</th>\n",
       "      <th>5.0</th>\n",
       "      <th>ultra</th>\n",
       "      <td>22</td>\n",
       "    </tr>\n",
       "    <tr>\n",
       "      <th>6.0</th>\n",
       "      <th>ultra</th>\n",
       "      <td>60</td>\n",
       "    </tr>\n",
       "    <tr>\n",
       "      <th>7.0</th>\n",
       "      <th>ultra</th>\n",
       "      <td>75</td>\n",
       "    </tr>\n",
       "    <tr>\n",
       "      <th>8.0</th>\n",
       "      <th>ultra</th>\n",
       "      <td>81</td>\n",
       "    </tr>\n",
       "    <tr>\n",
       "      <th>9.0</th>\n",
       "      <th>ultra</th>\n",
       "      <td>57</td>\n",
       "    </tr>\n",
       "    <tr>\n",
       "      <th>...</th>\n",
       "      <th>...</th>\n",
       "      <th>...</th>\n",
       "      <td>...</td>\n",
       "    </tr>\n",
       "    <tr>\n",
       "      <th>1498</th>\n",
       "      <th>10.0</th>\n",
       "      <th>smart</th>\n",
       "      <td>42</td>\n",
       "    </tr>\n",
       "    <tr>\n",
       "      <th rowspan=\"4\" valign=\"top\">1499</th>\n",
       "      <th>9.0</th>\n",
       "      <th>smart</th>\n",
       "      <td>11</td>\n",
       "    </tr>\n",
       "    <tr>\n",
       "      <th>10.0</th>\n",
       "      <th>smart</th>\n",
       "      <td>48</td>\n",
       "    </tr>\n",
       "    <tr>\n",
       "      <th>11.0</th>\n",
       "      <th>smart</th>\n",
       "      <td>59</td>\n",
       "    </tr>\n",
       "    <tr>\n",
       "      <th>12.0</th>\n",
       "      <th>smart</th>\n",
       "      <td>66</td>\n",
       "    </tr>\n",
       "  </tbody>\n",
       "</table>\n",
       "<p>2717 rows × 1 columns</p>\n",
       "</div>"
      ],
      "text/plain": [
       "                      message_date\n",
       "user_id month tariff              \n",
       "1000    5.0   ultra             22\n",
       "        6.0   ultra             60\n",
       "        7.0   ultra             75\n",
       "        8.0   ultra             81\n",
       "        9.0   ultra             57\n",
       "...                            ...\n",
       "1498    10.0  smart             42\n",
       "1499    9.0   smart             11\n",
       "        10.0  smart             48\n",
       "        11.0  smart             59\n",
       "        12.0  smart             66\n",
       "\n",
       "[2717 rows x 1 columns]"
      ]
     },
     "execution_count": 23,
     "metadata": {},
     "output_type": "execute_result"
    }
   ],
   "source": [
    "messages_per_mounth = data_messages.pivot_table(index=['user_id', 'month','tariff'], values='message_date', aggfunc='count')\n",
    "messages_per_mounth"
   ]
  },
  {
   "cell_type": "markdown",
   "metadata": {},
   "source": [
    "Добавим условия тарифов к сообщениям:"
   ]
  },
  {
   "cell_type": "code",
   "execution_count": 24,
   "metadata": {},
   "outputs": [
    {
     "data": {
      "text/html": [
       "<div>\n",
       "<style scoped>\n",
       "    .dataframe tbody tr th:only-of-type {\n",
       "        vertical-align: middle;\n",
       "    }\n",
       "\n",
       "    .dataframe tbody tr th {\n",
       "        vertical-align: top;\n",
       "    }\n",
       "\n",
       "    .dataframe thead th {\n",
       "        text-align: right;\n",
       "    }\n",
       "</style>\n",
       "<table border=\"1\" class=\"dataframe\">\n",
       "  <thead>\n",
       "    <tr style=\"text-align: right;\">\n",
       "      <th></th>\n",
       "      <th>user_id</th>\n",
       "      <th>month</th>\n",
       "      <th>tariff</th>\n",
       "      <th>message_date</th>\n",
       "      <th>messages_included</th>\n",
       "      <th>mb_per_month_included</th>\n",
       "      <th>minutes_included</th>\n",
       "      <th>rub_monthly_fee</th>\n",
       "      <th>rub_per_gb</th>\n",
       "      <th>rub_per_message</th>\n",
       "      <th>rub_per_minute</th>\n",
       "    </tr>\n",
       "  </thead>\n",
       "  <tbody>\n",
       "    <tr>\n",
       "      <th>0</th>\n",
       "      <td>1000</td>\n",
       "      <td>5.0</td>\n",
       "      <td>ultra</td>\n",
       "      <td>22</td>\n",
       "      <td>1000</td>\n",
       "      <td>30720</td>\n",
       "      <td>3000</td>\n",
       "      <td>1950</td>\n",
       "      <td>150</td>\n",
       "      <td>1</td>\n",
       "      <td>1</td>\n",
       "    </tr>\n",
       "    <tr>\n",
       "      <th>1</th>\n",
       "      <td>1000</td>\n",
       "      <td>6.0</td>\n",
       "      <td>ultra</td>\n",
       "      <td>60</td>\n",
       "      <td>1000</td>\n",
       "      <td>30720</td>\n",
       "      <td>3000</td>\n",
       "      <td>1950</td>\n",
       "      <td>150</td>\n",
       "      <td>1</td>\n",
       "      <td>1</td>\n",
       "    </tr>\n",
       "    <tr>\n",
       "      <th>2</th>\n",
       "      <td>1000</td>\n",
       "      <td>7.0</td>\n",
       "      <td>ultra</td>\n",
       "      <td>75</td>\n",
       "      <td>1000</td>\n",
       "      <td>30720</td>\n",
       "      <td>3000</td>\n",
       "      <td>1950</td>\n",
       "      <td>150</td>\n",
       "      <td>1</td>\n",
       "      <td>1</td>\n",
       "    </tr>\n",
       "    <tr>\n",
       "      <th>3</th>\n",
       "      <td>1000</td>\n",
       "      <td>8.0</td>\n",
       "      <td>ultra</td>\n",
       "      <td>81</td>\n",
       "      <td>1000</td>\n",
       "      <td>30720</td>\n",
       "      <td>3000</td>\n",
       "      <td>1950</td>\n",
       "      <td>150</td>\n",
       "      <td>1</td>\n",
       "      <td>1</td>\n",
       "    </tr>\n",
       "    <tr>\n",
       "      <th>4</th>\n",
       "      <td>1000</td>\n",
       "      <td>9.0</td>\n",
       "      <td>ultra</td>\n",
       "      <td>57</td>\n",
       "      <td>1000</td>\n",
       "      <td>30720</td>\n",
       "      <td>3000</td>\n",
       "      <td>1950</td>\n",
       "      <td>150</td>\n",
       "      <td>1</td>\n",
       "      <td>1</td>\n",
       "    </tr>\n",
       "    <tr>\n",
       "      <th>...</th>\n",
       "      <td>...</td>\n",
       "      <td>...</td>\n",
       "      <td>...</td>\n",
       "      <td>...</td>\n",
       "      <td>...</td>\n",
       "      <td>...</td>\n",
       "      <td>...</td>\n",
       "      <td>...</td>\n",
       "      <td>...</td>\n",
       "      <td>...</td>\n",
       "      <td>...</td>\n",
       "    </tr>\n",
       "    <tr>\n",
       "      <th>2712</th>\n",
       "      <td>1498</td>\n",
       "      <td>10.0</td>\n",
       "      <td>smart</td>\n",
       "      <td>42</td>\n",
       "      <td>50</td>\n",
       "      <td>15360</td>\n",
       "      <td>500</td>\n",
       "      <td>550</td>\n",
       "      <td>200</td>\n",
       "      <td>3</td>\n",
       "      <td>3</td>\n",
       "    </tr>\n",
       "    <tr>\n",
       "      <th>2713</th>\n",
       "      <td>1499</td>\n",
       "      <td>9.0</td>\n",
       "      <td>smart</td>\n",
       "      <td>11</td>\n",
       "      <td>50</td>\n",
       "      <td>15360</td>\n",
       "      <td>500</td>\n",
       "      <td>550</td>\n",
       "      <td>200</td>\n",
       "      <td>3</td>\n",
       "      <td>3</td>\n",
       "    </tr>\n",
       "    <tr>\n",
       "      <th>2714</th>\n",
       "      <td>1499</td>\n",
       "      <td>10.0</td>\n",
       "      <td>smart</td>\n",
       "      <td>48</td>\n",
       "      <td>50</td>\n",
       "      <td>15360</td>\n",
       "      <td>500</td>\n",
       "      <td>550</td>\n",
       "      <td>200</td>\n",
       "      <td>3</td>\n",
       "      <td>3</td>\n",
       "    </tr>\n",
       "    <tr>\n",
       "      <th>2715</th>\n",
       "      <td>1499</td>\n",
       "      <td>11.0</td>\n",
       "      <td>smart</td>\n",
       "      <td>59</td>\n",
       "      <td>50</td>\n",
       "      <td>15360</td>\n",
       "      <td>500</td>\n",
       "      <td>550</td>\n",
       "      <td>200</td>\n",
       "      <td>3</td>\n",
       "      <td>3</td>\n",
       "    </tr>\n",
       "    <tr>\n",
       "      <th>2716</th>\n",
       "      <td>1499</td>\n",
       "      <td>12.0</td>\n",
       "      <td>smart</td>\n",
       "      <td>66</td>\n",
       "      <td>50</td>\n",
       "      <td>15360</td>\n",
       "      <td>500</td>\n",
       "      <td>550</td>\n",
       "      <td>200</td>\n",
       "      <td>3</td>\n",
       "      <td>3</td>\n",
       "    </tr>\n",
       "  </tbody>\n",
       "</table>\n",
       "<p>2717 rows × 11 columns</p>\n",
       "</div>"
      ],
      "text/plain": [
       "      user_id  month tariff  message_date  messages_included  \\\n",
       "0        1000    5.0  ultra            22               1000   \n",
       "1        1000    6.0  ultra            60               1000   \n",
       "2        1000    7.0  ultra            75               1000   \n",
       "3        1000    8.0  ultra            81               1000   \n",
       "4        1000    9.0  ultra            57               1000   \n",
       "...       ...    ...    ...           ...                ...   \n",
       "2712     1498   10.0  smart            42                 50   \n",
       "2713     1499    9.0  smart            11                 50   \n",
       "2714     1499   10.0  smart            48                 50   \n",
       "2715     1499   11.0  smart            59                 50   \n",
       "2716     1499   12.0  smart            66                 50   \n",
       "\n",
       "      mb_per_month_included  minutes_included  rub_monthly_fee  rub_per_gb  \\\n",
       "0                     30720              3000             1950         150   \n",
       "1                     30720              3000             1950         150   \n",
       "2                     30720              3000             1950         150   \n",
       "3                     30720              3000             1950         150   \n",
       "4                     30720              3000             1950         150   \n",
       "...                     ...               ...              ...         ...   \n",
       "2712                  15360               500              550         200   \n",
       "2713                  15360               500              550         200   \n",
       "2714                  15360               500              550         200   \n",
       "2715                  15360               500              550         200   \n",
       "2716                  15360               500              550         200   \n",
       "\n",
       "      rub_per_message  rub_per_minute  \n",
       "0                   1               1  \n",
       "1                   1               1  \n",
       "2                   1               1  \n",
       "3                   1               1  \n",
       "4                   1               1  \n",
       "...               ...             ...  \n",
       "2712                3               3  \n",
       "2713                3               3  \n",
       "2714                3               3  \n",
       "2715                3               3  \n",
       "2716                3               3  \n",
       "\n",
       "[2717 rows x 11 columns]"
      ]
     },
     "execution_count": 24,
     "metadata": {},
     "output_type": "execute_result"
    }
   ],
   "source": [
    "final_messages = data_messages.pivot_table(index=['user_id', 'month','tariff'], values='message_date', aggfunc='count').reset_index().merge(tariffs, on='tariff', how='outer')\n",
    "final_messages"
   ]
  },
  {
   "cell_type": "markdown",
   "metadata": {},
   "source": [
    "Посчитаем перерасход сообщений по месяцам для каждого абонента:"
   ]
  },
  {
   "cell_type": "code",
   "execution_count": 25,
   "metadata": {},
   "outputs": [
    {
     "data": {
      "text/html": [
       "<div>\n",
       "<style scoped>\n",
       "    .dataframe tbody tr th:only-of-type {\n",
       "        vertical-align: middle;\n",
       "    }\n",
       "\n",
       "    .dataframe tbody tr th {\n",
       "        vertical-align: top;\n",
       "    }\n",
       "\n",
       "    .dataframe thead th {\n",
       "        text-align: right;\n",
       "    }\n",
       "</style>\n",
       "<table border=\"1\" class=\"dataframe\">\n",
       "  <thead>\n",
       "    <tr style=\"text-align: right;\">\n",
       "      <th></th>\n",
       "      <th>user_id</th>\n",
       "      <th>month</th>\n",
       "      <th>tariff</th>\n",
       "      <th>message_date</th>\n",
       "      <th>messages_included</th>\n",
       "      <th>mb_per_month_included</th>\n",
       "      <th>minutes_included</th>\n",
       "      <th>rub_monthly_fee</th>\n",
       "      <th>rub_per_gb</th>\n",
       "      <th>rub_per_message</th>\n",
       "      <th>rub_per_minute</th>\n",
       "      <th>over_the_limit</th>\n",
       "    </tr>\n",
       "  </thead>\n",
       "  <tbody>\n",
       "    <tr>\n",
       "      <th>0</th>\n",
       "      <td>1000</td>\n",
       "      <td>5.0</td>\n",
       "      <td>ultra</td>\n",
       "      <td>22</td>\n",
       "      <td>1000</td>\n",
       "      <td>30720</td>\n",
       "      <td>3000</td>\n",
       "      <td>1950</td>\n",
       "      <td>150</td>\n",
       "      <td>1</td>\n",
       "      <td>1</td>\n",
       "      <td>0</td>\n",
       "    </tr>\n",
       "    <tr>\n",
       "      <th>1</th>\n",
       "      <td>1000</td>\n",
       "      <td>6.0</td>\n",
       "      <td>ultra</td>\n",
       "      <td>60</td>\n",
       "      <td>1000</td>\n",
       "      <td>30720</td>\n",
       "      <td>3000</td>\n",
       "      <td>1950</td>\n",
       "      <td>150</td>\n",
       "      <td>1</td>\n",
       "      <td>1</td>\n",
       "      <td>0</td>\n",
       "    </tr>\n",
       "    <tr>\n",
       "      <th>2</th>\n",
       "      <td>1000</td>\n",
       "      <td>7.0</td>\n",
       "      <td>ultra</td>\n",
       "      <td>75</td>\n",
       "      <td>1000</td>\n",
       "      <td>30720</td>\n",
       "      <td>3000</td>\n",
       "      <td>1950</td>\n",
       "      <td>150</td>\n",
       "      <td>1</td>\n",
       "      <td>1</td>\n",
       "      <td>0</td>\n",
       "    </tr>\n",
       "    <tr>\n",
       "      <th>3</th>\n",
       "      <td>1000</td>\n",
       "      <td>8.0</td>\n",
       "      <td>ultra</td>\n",
       "      <td>81</td>\n",
       "      <td>1000</td>\n",
       "      <td>30720</td>\n",
       "      <td>3000</td>\n",
       "      <td>1950</td>\n",
       "      <td>150</td>\n",
       "      <td>1</td>\n",
       "      <td>1</td>\n",
       "      <td>0</td>\n",
       "    </tr>\n",
       "    <tr>\n",
       "      <th>4</th>\n",
       "      <td>1000</td>\n",
       "      <td>9.0</td>\n",
       "      <td>ultra</td>\n",
       "      <td>57</td>\n",
       "      <td>1000</td>\n",
       "      <td>30720</td>\n",
       "      <td>3000</td>\n",
       "      <td>1950</td>\n",
       "      <td>150</td>\n",
       "      <td>1</td>\n",
       "      <td>1</td>\n",
       "      <td>0</td>\n",
       "    </tr>\n",
       "    <tr>\n",
       "      <th>...</th>\n",
       "      <td>...</td>\n",
       "      <td>...</td>\n",
       "      <td>...</td>\n",
       "      <td>...</td>\n",
       "      <td>...</td>\n",
       "      <td>...</td>\n",
       "      <td>...</td>\n",
       "      <td>...</td>\n",
       "      <td>...</td>\n",
       "      <td>...</td>\n",
       "      <td>...</td>\n",
       "      <td>...</td>\n",
       "    </tr>\n",
       "    <tr>\n",
       "      <th>2712</th>\n",
       "      <td>1498</td>\n",
       "      <td>10.0</td>\n",
       "      <td>smart</td>\n",
       "      <td>42</td>\n",
       "      <td>50</td>\n",
       "      <td>15360</td>\n",
       "      <td>500</td>\n",
       "      <td>550</td>\n",
       "      <td>200</td>\n",
       "      <td>3</td>\n",
       "      <td>3</td>\n",
       "      <td>0</td>\n",
       "    </tr>\n",
       "    <tr>\n",
       "      <th>2713</th>\n",
       "      <td>1499</td>\n",
       "      <td>9.0</td>\n",
       "      <td>smart</td>\n",
       "      <td>11</td>\n",
       "      <td>50</td>\n",
       "      <td>15360</td>\n",
       "      <td>500</td>\n",
       "      <td>550</td>\n",
       "      <td>200</td>\n",
       "      <td>3</td>\n",
       "      <td>3</td>\n",
       "      <td>0</td>\n",
       "    </tr>\n",
       "    <tr>\n",
       "      <th>2714</th>\n",
       "      <td>1499</td>\n",
       "      <td>10.0</td>\n",
       "      <td>smart</td>\n",
       "      <td>48</td>\n",
       "      <td>50</td>\n",
       "      <td>15360</td>\n",
       "      <td>500</td>\n",
       "      <td>550</td>\n",
       "      <td>200</td>\n",
       "      <td>3</td>\n",
       "      <td>3</td>\n",
       "      <td>0</td>\n",
       "    </tr>\n",
       "    <tr>\n",
       "      <th>2715</th>\n",
       "      <td>1499</td>\n",
       "      <td>11.0</td>\n",
       "      <td>smart</td>\n",
       "      <td>59</td>\n",
       "      <td>50</td>\n",
       "      <td>15360</td>\n",
       "      <td>500</td>\n",
       "      <td>550</td>\n",
       "      <td>200</td>\n",
       "      <td>3</td>\n",
       "      <td>3</td>\n",
       "      <td>9</td>\n",
       "    </tr>\n",
       "    <tr>\n",
       "      <th>2716</th>\n",
       "      <td>1499</td>\n",
       "      <td>12.0</td>\n",
       "      <td>smart</td>\n",
       "      <td>66</td>\n",
       "      <td>50</td>\n",
       "      <td>15360</td>\n",
       "      <td>500</td>\n",
       "      <td>550</td>\n",
       "      <td>200</td>\n",
       "      <td>3</td>\n",
       "      <td>3</td>\n",
       "      <td>16</td>\n",
       "    </tr>\n",
       "  </tbody>\n",
       "</table>\n",
       "<p>2717 rows × 12 columns</p>\n",
       "</div>"
      ],
      "text/plain": [
       "      user_id  month tariff  message_date  messages_included  \\\n",
       "0        1000    5.0  ultra            22               1000   \n",
       "1        1000    6.0  ultra            60               1000   \n",
       "2        1000    7.0  ultra            75               1000   \n",
       "3        1000    8.0  ultra            81               1000   \n",
       "4        1000    9.0  ultra            57               1000   \n",
       "...       ...    ...    ...           ...                ...   \n",
       "2712     1498   10.0  smart            42                 50   \n",
       "2713     1499    9.0  smart            11                 50   \n",
       "2714     1499   10.0  smart            48                 50   \n",
       "2715     1499   11.0  smart            59                 50   \n",
       "2716     1499   12.0  smart            66                 50   \n",
       "\n",
       "      mb_per_month_included  minutes_included  rub_monthly_fee  rub_per_gb  \\\n",
       "0                     30720              3000             1950         150   \n",
       "1                     30720              3000             1950         150   \n",
       "2                     30720              3000             1950         150   \n",
       "3                     30720              3000             1950         150   \n",
       "4                     30720              3000             1950         150   \n",
       "...                     ...               ...              ...         ...   \n",
       "2712                  15360               500              550         200   \n",
       "2713                  15360               500              550         200   \n",
       "2714                  15360               500              550         200   \n",
       "2715                  15360               500              550         200   \n",
       "2716                  15360               500              550         200   \n",
       "\n",
       "      rub_per_message  rub_per_minute  over_the_limit  \n",
       "0                   1               1               0  \n",
       "1                   1               1               0  \n",
       "2                   1               1               0  \n",
       "3                   1               1               0  \n",
       "4                   1               1               0  \n",
       "...               ...             ...             ...  \n",
       "2712                3               3               0  \n",
       "2713                3               3               0  \n",
       "2714                3               3               0  \n",
       "2715                3               3               9  \n",
       "2716                3               3              16  \n",
       "\n",
       "[2717 rows x 12 columns]"
      ]
     },
     "execution_count": 25,
     "metadata": {},
     "output_type": "execute_result"
    }
   ],
   "source": [
    "def overlimits_messages(row):\n",
    "    messages_included = row['messages_included']\n",
    "    message_count = row['message_date']\n",
    "    if messages_included >= message_count:\n",
    "        return 0\n",
    "    if messages_included <= message_count:\n",
    "        return message_count - messages_included\n",
    "final_messages['over_the_limit'] = final_messages.apply(overlimits_messages, axis=1)\n",
    "final_messages"
   ]
  },
  {
   "cell_type": "markdown",
   "metadata": {},
   "source": [
    "Посчитаем сумму перерасхода по сообщениям для каждого абнонета:"
   ]
  },
  {
   "cell_type": "code",
   "execution_count": 26,
   "metadata": {
    "scrolled": true
   },
   "outputs": [
    {
     "data": {
      "text/html": [
       "<div>\n",
       "<style scoped>\n",
       "    .dataframe tbody tr th:only-of-type {\n",
       "        vertical-align: middle;\n",
       "    }\n",
       "\n",
       "    .dataframe tbody tr th {\n",
       "        vertical-align: top;\n",
       "    }\n",
       "\n",
       "    .dataframe thead th {\n",
       "        text-align: right;\n",
       "    }\n",
       "</style>\n",
       "<table border=\"1\" class=\"dataframe\">\n",
       "  <thead>\n",
       "    <tr style=\"text-align: right;\">\n",
       "      <th></th>\n",
       "      <th>user_id</th>\n",
       "      <th>month</th>\n",
       "      <th>tariff</th>\n",
       "      <th>message_date</th>\n",
       "      <th>messages_included</th>\n",
       "      <th>mb_per_month_included</th>\n",
       "      <th>minutes_included</th>\n",
       "      <th>rub_monthly_fee</th>\n",
       "      <th>rub_per_gb</th>\n",
       "      <th>rub_per_message</th>\n",
       "      <th>rub_per_minute</th>\n",
       "      <th>over_the_limit</th>\n",
       "      <th>price_messages</th>\n",
       "    </tr>\n",
       "  </thead>\n",
       "  <tbody>\n",
       "    <tr>\n",
       "      <th>0</th>\n",
       "      <td>1000</td>\n",
       "      <td>5.0</td>\n",
       "      <td>ultra</td>\n",
       "      <td>22</td>\n",
       "      <td>1000</td>\n",
       "      <td>30720</td>\n",
       "      <td>3000</td>\n",
       "      <td>1950</td>\n",
       "      <td>150</td>\n",
       "      <td>1</td>\n",
       "      <td>1</td>\n",
       "      <td>0</td>\n",
       "      <td>0</td>\n",
       "    </tr>\n",
       "    <tr>\n",
       "      <th>1</th>\n",
       "      <td>1000</td>\n",
       "      <td>6.0</td>\n",
       "      <td>ultra</td>\n",
       "      <td>60</td>\n",
       "      <td>1000</td>\n",
       "      <td>30720</td>\n",
       "      <td>3000</td>\n",
       "      <td>1950</td>\n",
       "      <td>150</td>\n",
       "      <td>1</td>\n",
       "      <td>1</td>\n",
       "      <td>0</td>\n",
       "      <td>0</td>\n",
       "    </tr>\n",
       "    <tr>\n",
       "      <th>2</th>\n",
       "      <td>1000</td>\n",
       "      <td>7.0</td>\n",
       "      <td>ultra</td>\n",
       "      <td>75</td>\n",
       "      <td>1000</td>\n",
       "      <td>30720</td>\n",
       "      <td>3000</td>\n",
       "      <td>1950</td>\n",
       "      <td>150</td>\n",
       "      <td>1</td>\n",
       "      <td>1</td>\n",
       "      <td>0</td>\n",
       "      <td>0</td>\n",
       "    </tr>\n",
       "    <tr>\n",
       "      <th>3</th>\n",
       "      <td>1000</td>\n",
       "      <td>8.0</td>\n",
       "      <td>ultra</td>\n",
       "      <td>81</td>\n",
       "      <td>1000</td>\n",
       "      <td>30720</td>\n",
       "      <td>3000</td>\n",
       "      <td>1950</td>\n",
       "      <td>150</td>\n",
       "      <td>1</td>\n",
       "      <td>1</td>\n",
       "      <td>0</td>\n",
       "      <td>0</td>\n",
       "    </tr>\n",
       "    <tr>\n",
       "      <th>4</th>\n",
       "      <td>1000</td>\n",
       "      <td>9.0</td>\n",
       "      <td>ultra</td>\n",
       "      <td>57</td>\n",
       "      <td>1000</td>\n",
       "      <td>30720</td>\n",
       "      <td>3000</td>\n",
       "      <td>1950</td>\n",
       "      <td>150</td>\n",
       "      <td>1</td>\n",
       "      <td>1</td>\n",
       "      <td>0</td>\n",
       "      <td>0</td>\n",
       "    </tr>\n",
       "    <tr>\n",
       "      <th>...</th>\n",
       "      <td>...</td>\n",
       "      <td>...</td>\n",
       "      <td>...</td>\n",
       "      <td>...</td>\n",
       "      <td>...</td>\n",
       "      <td>...</td>\n",
       "      <td>...</td>\n",
       "      <td>...</td>\n",
       "      <td>...</td>\n",
       "      <td>...</td>\n",
       "      <td>...</td>\n",
       "      <td>...</td>\n",
       "      <td>...</td>\n",
       "    </tr>\n",
       "    <tr>\n",
       "      <th>2712</th>\n",
       "      <td>1498</td>\n",
       "      <td>10.0</td>\n",
       "      <td>smart</td>\n",
       "      <td>42</td>\n",
       "      <td>50</td>\n",
       "      <td>15360</td>\n",
       "      <td>500</td>\n",
       "      <td>550</td>\n",
       "      <td>200</td>\n",
       "      <td>3</td>\n",
       "      <td>3</td>\n",
       "      <td>0</td>\n",
       "      <td>0</td>\n",
       "    </tr>\n",
       "    <tr>\n",
       "      <th>2713</th>\n",
       "      <td>1499</td>\n",
       "      <td>9.0</td>\n",
       "      <td>smart</td>\n",
       "      <td>11</td>\n",
       "      <td>50</td>\n",
       "      <td>15360</td>\n",
       "      <td>500</td>\n",
       "      <td>550</td>\n",
       "      <td>200</td>\n",
       "      <td>3</td>\n",
       "      <td>3</td>\n",
       "      <td>0</td>\n",
       "      <td>0</td>\n",
       "    </tr>\n",
       "    <tr>\n",
       "      <th>2714</th>\n",
       "      <td>1499</td>\n",
       "      <td>10.0</td>\n",
       "      <td>smart</td>\n",
       "      <td>48</td>\n",
       "      <td>50</td>\n",
       "      <td>15360</td>\n",
       "      <td>500</td>\n",
       "      <td>550</td>\n",
       "      <td>200</td>\n",
       "      <td>3</td>\n",
       "      <td>3</td>\n",
       "      <td>0</td>\n",
       "      <td>0</td>\n",
       "    </tr>\n",
       "    <tr>\n",
       "      <th>2715</th>\n",
       "      <td>1499</td>\n",
       "      <td>11.0</td>\n",
       "      <td>smart</td>\n",
       "      <td>59</td>\n",
       "      <td>50</td>\n",
       "      <td>15360</td>\n",
       "      <td>500</td>\n",
       "      <td>550</td>\n",
       "      <td>200</td>\n",
       "      <td>3</td>\n",
       "      <td>3</td>\n",
       "      <td>9</td>\n",
       "      <td>27</td>\n",
       "    </tr>\n",
       "    <tr>\n",
       "      <th>2716</th>\n",
       "      <td>1499</td>\n",
       "      <td>12.0</td>\n",
       "      <td>smart</td>\n",
       "      <td>66</td>\n",
       "      <td>50</td>\n",
       "      <td>15360</td>\n",
       "      <td>500</td>\n",
       "      <td>550</td>\n",
       "      <td>200</td>\n",
       "      <td>3</td>\n",
       "      <td>3</td>\n",
       "      <td>16</td>\n",
       "      <td>48</td>\n",
       "    </tr>\n",
       "  </tbody>\n",
       "</table>\n",
       "<p>2717 rows × 13 columns</p>\n",
       "</div>"
      ],
      "text/plain": [
       "      user_id  month tariff  message_date  messages_included  \\\n",
       "0        1000    5.0  ultra            22               1000   \n",
       "1        1000    6.0  ultra            60               1000   \n",
       "2        1000    7.0  ultra            75               1000   \n",
       "3        1000    8.0  ultra            81               1000   \n",
       "4        1000    9.0  ultra            57               1000   \n",
       "...       ...    ...    ...           ...                ...   \n",
       "2712     1498   10.0  smart            42                 50   \n",
       "2713     1499    9.0  smart            11                 50   \n",
       "2714     1499   10.0  smart            48                 50   \n",
       "2715     1499   11.0  smart            59                 50   \n",
       "2716     1499   12.0  smart            66                 50   \n",
       "\n",
       "      mb_per_month_included  minutes_included  rub_monthly_fee  rub_per_gb  \\\n",
       "0                     30720              3000             1950         150   \n",
       "1                     30720              3000             1950         150   \n",
       "2                     30720              3000             1950         150   \n",
       "3                     30720              3000             1950         150   \n",
       "4                     30720              3000             1950         150   \n",
       "...                     ...               ...              ...         ...   \n",
       "2712                  15360               500              550         200   \n",
       "2713                  15360               500              550         200   \n",
       "2714                  15360               500              550         200   \n",
       "2715                  15360               500              550         200   \n",
       "2716                  15360               500              550         200   \n",
       "\n",
       "      rub_per_message  rub_per_minute  over_the_limit  price_messages  \n",
       "0                   1               1               0               0  \n",
       "1                   1               1               0               0  \n",
       "2                   1               1               0               0  \n",
       "3                   1               1               0               0  \n",
       "4                   1               1               0               0  \n",
       "...               ...             ...             ...             ...  \n",
       "2712                3               3               0               0  \n",
       "2713                3               3               0               0  \n",
       "2714                3               3               0               0  \n",
       "2715                3               3               9              27  \n",
       "2716                3               3              16              48  \n",
       "\n",
       "[2717 rows x 13 columns]"
      ]
     },
     "execution_count": 26,
     "metadata": {},
     "output_type": "execute_result"
    }
   ],
   "source": [
    "def price_messages(row):\n",
    "    tariff = row['tariff']\n",
    "    over_the_limit = row['over_the_limit']\n",
    "    if tariff == 'ultra':\n",
    "        return over_the_limit * 1\n",
    "    if tariff == 'smart':\n",
    "        return over_the_limit * 3\n",
    "final_messages['price_messages'] = final_messages.apply(price_messages, axis=1)\n",
    "final_messages"
   ]
  },
  {
   "cell_type": "markdown",
   "metadata": {},
   "source": [
    "Посчитаем объем израсходованного интернет-трафика по месяцам:"
   ]
  },
  {
   "cell_type": "code",
   "execution_count": 27,
   "metadata": {
    "scrolled": true
   },
   "outputs": [
    {
     "data": {
      "text/html": [
       "<div>\n",
       "<style scoped>\n",
       "    .dataframe tbody tr th:only-of-type {\n",
       "        vertical-align: middle;\n",
       "    }\n",
       "\n",
       "    .dataframe tbody tr th {\n",
       "        vertical-align: top;\n",
       "    }\n",
       "\n",
       "    .dataframe thead th {\n",
       "        text-align: right;\n",
       "    }\n",
       "</style>\n",
       "<table border=\"1\" class=\"dataframe\">\n",
       "  <thead>\n",
       "    <tr style=\"text-align: right;\">\n",
       "      <th></th>\n",
       "      <th>user_id</th>\n",
       "      <th>age</th>\n",
       "      <th>churn_date</th>\n",
       "      <th>city</th>\n",
       "      <th>first_name</th>\n",
       "      <th>last_name</th>\n",
       "      <th>reg_date</th>\n",
       "      <th>tariff</th>\n",
       "      <th>id</th>\n",
       "      <th>mb_used</th>\n",
       "      <th>session_date</th>\n",
       "    </tr>\n",
       "  </thead>\n",
       "  <tbody>\n",
       "    <tr>\n",
       "      <th>0</th>\n",
       "      <td>1000</td>\n",
       "      <td>52</td>\n",
       "      <td>NaN</td>\n",
       "      <td>Краснодар</td>\n",
       "      <td>Рафаил</td>\n",
       "      <td>Верещагин</td>\n",
       "      <td>2018-05-25</td>\n",
       "      <td>ultra</td>\n",
       "      <td>1000_0</td>\n",
       "      <td>112.95</td>\n",
       "      <td>2018-11-25</td>\n",
       "    </tr>\n",
       "    <tr>\n",
       "      <th>1</th>\n",
       "      <td>1000</td>\n",
       "      <td>52</td>\n",
       "      <td>NaN</td>\n",
       "      <td>Краснодар</td>\n",
       "      <td>Рафаил</td>\n",
       "      <td>Верещагин</td>\n",
       "      <td>2018-05-25</td>\n",
       "      <td>ultra</td>\n",
       "      <td>1000_1</td>\n",
       "      <td>1052.81</td>\n",
       "      <td>2018-09-07</td>\n",
       "    </tr>\n",
       "    <tr>\n",
       "      <th>2</th>\n",
       "      <td>1000</td>\n",
       "      <td>52</td>\n",
       "      <td>NaN</td>\n",
       "      <td>Краснодар</td>\n",
       "      <td>Рафаил</td>\n",
       "      <td>Верещагин</td>\n",
       "      <td>2018-05-25</td>\n",
       "      <td>ultra</td>\n",
       "      <td>1000_2</td>\n",
       "      <td>1197.26</td>\n",
       "      <td>2018-06-25</td>\n",
       "    </tr>\n",
       "    <tr>\n",
       "      <th>3</th>\n",
       "      <td>1000</td>\n",
       "      <td>52</td>\n",
       "      <td>NaN</td>\n",
       "      <td>Краснодар</td>\n",
       "      <td>Рафаил</td>\n",
       "      <td>Верещагин</td>\n",
       "      <td>2018-05-25</td>\n",
       "      <td>ultra</td>\n",
       "      <td>1000_3</td>\n",
       "      <td>550.27</td>\n",
       "      <td>2018-08-22</td>\n",
       "    </tr>\n",
       "    <tr>\n",
       "      <th>4</th>\n",
       "      <td>1000</td>\n",
       "      <td>52</td>\n",
       "      <td>NaN</td>\n",
       "      <td>Краснодар</td>\n",
       "      <td>Рафаил</td>\n",
       "      <td>Верещагин</td>\n",
       "      <td>2018-05-25</td>\n",
       "      <td>ultra</td>\n",
       "      <td>1000_4</td>\n",
       "      <td>302.56</td>\n",
       "      <td>2018-09-24</td>\n",
       "    </tr>\n",
       "  </tbody>\n",
       "</table>\n",
       "</div>"
      ],
      "text/plain": [
       "   user_id  age churn_date       city first_name  last_name   reg_date tariff  \\\n",
       "0     1000   52        NaN  Краснодар     Рафаил  Верещагин 2018-05-25  ultra   \n",
       "1     1000   52        NaN  Краснодар     Рафаил  Верещагин 2018-05-25  ultra   \n",
       "2     1000   52        NaN  Краснодар     Рафаил  Верещагин 2018-05-25  ultra   \n",
       "3     1000   52        NaN  Краснодар     Рафаил  Верещагин 2018-05-25  ultra   \n",
       "4     1000   52        NaN  Краснодар     Рафаил  Верещагин 2018-05-25  ultra   \n",
       "\n",
       "       id  mb_used session_date  \n",
       "0  1000_0   112.95   2018-11-25  \n",
       "1  1000_1  1052.81   2018-09-07  \n",
       "2  1000_2  1197.26   2018-06-25  \n",
       "3  1000_3   550.27   2018-08-22  \n",
       "4  1000_4   302.56   2018-09-24  "
      ]
     },
     "execution_count": 27,
     "metadata": {},
     "output_type": "execute_result"
    }
   ],
   "source": [
    "data_internet = users.merge(internet, on='user_id', how='outer')\n",
    "data_internet.head()"
   ]
  },
  {
   "cell_type": "code",
   "execution_count": 28,
   "metadata": {
    "scrolled": true
   },
   "outputs": [
    {
     "data": {
      "text/html": [
       "<div>\n",
       "<style scoped>\n",
       "    .dataframe tbody tr th:only-of-type {\n",
       "        vertical-align: middle;\n",
       "    }\n",
       "\n",
       "    .dataframe tbody tr th {\n",
       "        vertical-align: top;\n",
       "    }\n",
       "\n",
       "    .dataframe thead th {\n",
       "        text-align: right;\n",
       "    }\n",
       "</style>\n",
       "<table border=\"1\" class=\"dataframe\">\n",
       "  <thead>\n",
       "    <tr style=\"text-align: right;\">\n",
       "      <th></th>\n",
       "      <th>user_id</th>\n",
       "      <th>age</th>\n",
       "      <th>churn_date</th>\n",
       "      <th>city</th>\n",
       "      <th>first_name</th>\n",
       "      <th>last_name</th>\n",
       "      <th>reg_date</th>\n",
       "      <th>tariff</th>\n",
       "      <th>id</th>\n",
       "      <th>mb_used</th>\n",
       "      <th>session_date</th>\n",
       "      <th>month</th>\n",
       "    </tr>\n",
       "  </thead>\n",
       "  <tbody>\n",
       "    <tr>\n",
       "      <th>0</th>\n",
       "      <td>1000</td>\n",
       "      <td>52</td>\n",
       "      <td>NaN</td>\n",
       "      <td>Краснодар</td>\n",
       "      <td>Рафаил</td>\n",
       "      <td>Верещагин</td>\n",
       "      <td>2018-05-25</td>\n",
       "      <td>ultra</td>\n",
       "      <td>1000_0</td>\n",
       "      <td>112.95</td>\n",
       "      <td>2018-11-25</td>\n",
       "      <td>11.0</td>\n",
       "    </tr>\n",
       "    <tr>\n",
       "      <th>1</th>\n",
       "      <td>1000</td>\n",
       "      <td>52</td>\n",
       "      <td>NaN</td>\n",
       "      <td>Краснодар</td>\n",
       "      <td>Рафаил</td>\n",
       "      <td>Верещагин</td>\n",
       "      <td>2018-05-25</td>\n",
       "      <td>ultra</td>\n",
       "      <td>1000_1</td>\n",
       "      <td>1052.81</td>\n",
       "      <td>2018-09-07</td>\n",
       "      <td>9.0</td>\n",
       "    </tr>\n",
       "    <tr>\n",
       "      <th>2</th>\n",
       "      <td>1000</td>\n",
       "      <td>52</td>\n",
       "      <td>NaN</td>\n",
       "      <td>Краснодар</td>\n",
       "      <td>Рафаил</td>\n",
       "      <td>Верещагин</td>\n",
       "      <td>2018-05-25</td>\n",
       "      <td>ultra</td>\n",
       "      <td>1000_2</td>\n",
       "      <td>1197.26</td>\n",
       "      <td>2018-06-25</td>\n",
       "      <td>6.0</td>\n",
       "    </tr>\n",
       "    <tr>\n",
       "      <th>3</th>\n",
       "      <td>1000</td>\n",
       "      <td>52</td>\n",
       "      <td>NaN</td>\n",
       "      <td>Краснодар</td>\n",
       "      <td>Рафаил</td>\n",
       "      <td>Верещагин</td>\n",
       "      <td>2018-05-25</td>\n",
       "      <td>ultra</td>\n",
       "      <td>1000_3</td>\n",
       "      <td>550.27</td>\n",
       "      <td>2018-08-22</td>\n",
       "      <td>8.0</td>\n",
       "    </tr>\n",
       "    <tr>\n",
       "      <th>4</th>\n",
       "      <td>1000</td>\n",
       "      <td>52</td>\n",
       "      <td>NaN</td>\n",
       "      <td>Краснодар</td>\n",
       "      <td>Рафаил</td>\n",
       "      <td>Верещагин</td>\n",
       "      <td>2018-05-25</td>\n",
       "      <td>ultra</td>\n",
       "      <td>1000_4</td>\n",
       "      <td>302.56</td>\n",
       "      <td>2018-09-24</td>\n",
       "      <td>9.0</td>\n",
       "    </tr>\n",
       "  </tbody>\n",
       "</table>\n",
       "</div>"
      ],
      "text/plain": [
       "   user_id  age churn_date       city first_name  last_name   reg_date tariff  \\\n",
       "0     1000   52        NaN  Краснодар     Рафаил  Верещагин 2018-05-25  ultra   \n",
       "1     1000   52        NaN  Краснодар     Рафаил  Верещагин 2018-05-25  ultra   \n",
       "2     1000   52        NaN  Краснодар     Рафаил  Верещагин 2018-05-25  ultra   \n",
       "3     1000   52        NaN  Краснодар     Рафаил  Верещагин 2018-05-25  ultra   \n",
       "4     1000   52        NaN  Краснодар     Рафаил  Верещагин 2018-05-25  ultra   \n",
       "\n",
       "       id  mb_used session_date  month  \n",
       "0  1000_0   112.95   2018-11-25   11.0  \n",
       "1  1000_1  1052.81   2018-09-07    9.0  \n",
       "2  1000_2  1197.26   2018-06-25    6.0  \n",
       "3  1000_3   550.27   2018-08-22    8.0  \n",
       "4  1000_4   302.56   2018-09-24    9.0  "
      ]
     },
     "execution_count": 28,
     "metadata": {},
     "output_type": "execute_result"
    }
   ],
   "source": [
    "data_internet['month'] = data_internet['session_date'].dt.month\n",
    "data_internet.head()"
   ]
  },
  {
   "cell_type": "markdown",
   "metadata": {},
   "source": [
    "Сгруппируем затраты на интернет пользователями по месяцам:"
   ]
  },
  {
   "cell_type": "code",
   "execution_count": 29,
   "metadata": {},
   "outputs": [
    {
     "data": {
      "text/html": [
       "<div>\n",
       "<style scoped>\n",
       "    .dataframe tbody tr th:only-of-type {\n",
       "        vertical-align: middle;\n",
       "    }\n",
       "\n",
       "    .dataframe tbody tr th {\n",
       "        vertical-align: top;\n",
       "    }\n",
       "\n",
       "    .dataframe thead th {\n",
       "        text-align: right;\n",
       "    }\n",
       "</style>\n",
       "<table border=\"1\" class=\"dataframe\">\n",
       "  <thead>\n",
       "    <tr style=\"text-align: right;\">\n",
       "      <th></th>\n",
       "      <th></th>\n",
       "      <th></th>\n",
       "      <th>mb_used</th>\n",
       "    </tr>\n",
       "    <tr>\n",
       "      <th>user_id</th>\n",
       "      <th>month</th>\n",
       "      <th>tariff</th>\n",
       "      <th></th>\n",
       "    </tr>\n",
       "  </thead>\n",
       "  <tbody>\n",
       "    <tr>\n",
       "      <th rowspan=\"5\" valign=\"top\">1000</th>\n",
       "      <th>5.0</th>\n",
       "      <th>ultra</th>\n",
       "      <td>2253.49</td>\n",
       "    </tr>\n",
       "    <tr>\n",
       "      <th>6.0</th>\n",
       "      <th>ultra</th>\n",
       "      <td>23233.77</td>\n",
       "    </tr>\n",
       "    <tr>\n",
       "      <th>7.0</th>\n",
       "      <th>ultra</th>\n",
       "      <td>14003.64</td>\n",
       "    </tr>\n",
       "    <tr>\n",
       "      <th>8.0</th>\n",
       "      <th>ultra</th>\n",
       "      <td>14055.93</td>\n",
       "    </tr>\n",
       "    <tr>\n",
       "      <th>9.0</th>\n",
       "      <th>ultra</th>\n",
       "      <td>14568.91</td>\n",
       "    </tr>\n",
       "    <tr>\n",
       "      <th>...</th>\n",
       "      <th>...</th>\n",
       "      <th>...</th>\n",
       "      <td>...</td>\n",
       "    </tr>\n",
       "    <tr>\n",
       "      <th>1498</th>\n",
       "      <th>10.0</th>\n",
       "      <th>smart</th>\n",
       "      <td>20579.36</td>\n",
       "    </tr>\n",
       "    <tr>\n",
       "      <th rowspan=\"4\" valign=\"top\">1499</th>\n",
       "      <th>9.0</th>\n",
       "      <th>smart</th>\n",
       "      <td>1845.75</td>\n",
       "    </tr>\n",
       "    <tr>\n",
       "      <th>10.0</th>\n",
       "      <th>smart</th>\n",
       "      <td>17788.51</td>\n",
       "    </tr>\n",
       "    <tr>\n",
       "      <th>11.0</th>\n",
       "      <th>smart</th>\n",
       "      <td>17963.31</td>\n",
       "    </tr>\n",
       "    <tr>\n",
       "      <th>12.0</th>\n",
       "      <th>smart</th>\n",
       "      <td>13055.58</td>\n",
       "    </tr>\n",
       "  </tbody>\n",
       "</table>\n",
       "<p>3203 rows × 1 columns</p>\n",
       "</div>"
      ],
      "text/plain": [
       "                       mb_used\n",
       "user_id month tariff          \n",
       "1000    5.0   ultra    2253.49\n",
       "        6.0   ultra   23233.77\n",
       "        7.0   ultra   14003.64\n",
       "        8.0   ultra   14055.93\n",
       "        9.0   ultra   14568.91\n",
       "...                        ...\n",
       "1498    10.0  smart   20579.36\n",
       "1499    9.0   smart    1845.75\n",
       "        10.0  smart   17788.51\n",
       "        11.0  smart   17963.31\n",
       "        12.0  smart   13055.58\n",
       "\n",
       "[3203 rows x 1 columns]"
      ]
     },
     "execution_count": 29,
     "metadata": {},
     "output_type": "execute_result"
    }
   ],
   "source": [
    "internet_per_month = data_internet.pivot_table(index=['user_id', 'month','tariff'], values='mb_used', aggfunc='sum')\n",
    "internet_per_month"
   ]
  },
  {
   "cell_type": "markdown",
   "metadata": {},
   "source": [
    "Добавим условия тарифов в final_inet:"
   ]
  },
  {
   "cell_type": "code",
   "execution_count": 30,
   "metadata": {},
   "outputs": [
    {
     "data": {
      "text/html": [
       "<div>\n",
       "<style scoped>\n",
       "    .dataframe tbody tr th:only-of-type {\n",
       "        vertical-align: middle;\n",
       "    }\n",
       "\n",
       "    .dataframe tbody tr th {\n",
       "        vertical-align: top;\n",
       "    }\n",
       "\n",
       "    .dataframe thead th {\n",
       "        text-align: right;\n",
       "    }\n",
       "</style>\n",
       "<table border=\"1\" class=\"dataframe\">\n",
       "  <thead>\n",
       "    <tr style=\"text-align: right;\">\n",
       "      <th></th>\n",
       "      <th>user_id</th>\n",
       "      <th>month</th>\n",
       "      <th>tariff</th>\n",
       "      <th>mb_used</th>\n",
       "      <th>messages_included</th>\n",
       "      <th>mb_per_month_included</th>\n",
       "      <th>minutes_included</th>\n",
       "      <th>rub_monthly_fee</th>\n",
       "      <th>rub_per_gb</th>\n",
       "      <th>rub_per_message</th>\n",
       "      <th>rub_per_minute</th>\n",
       "    </tr>\n",
       "  </thead>\n",
       "  <tbody>\n",
       "    <tr>\n",
       "      <th>0</th>\n",
       "      <td>1000</td>\n",
       "      <td>5.0</td>\n",
       "      <td>ultra</td>\n",
       "      <td>2253.49</td>\n",
       "      <td>1000</td>\n",
       "      <td>30720</td>\n",
       "      <td>3000</td>\n",
       "      <td>1950</td>\n",
       "      <td>150</td>\n",
       "      <td>1</td>\n",
       "      <td>1</td>\n",
       "    </tr>\n",
       "    <tr>\n",
       "      <th>1</th>\n",
       "      <td>1000</td>\n",
       "      <td>6.0</td>\n",
       "      <td>ultra</td>\n",
       "      <td>23233.77</td>\n",
       "      <td>1000</td>\n",
       "      <td>30720</td>\n",
       "      <td>3000</td>\n",
       "      <td>1950</td>\n",
       "      <td>150</td>\n",
       "      <td>1</td>\n",
       "      <td>1</td>\n",
       "    </tr>\n",
       "    <tr>\n",
       "      <th>2</th>\n",
       "      <td>1000</td>\n",
       "      <td>7.0</td>\n",
       "      <td>ultra</td>\n",
       "      <td>14003.64</td>\n",
       "      <td>1000</td>\n",
       "      <td>30720</td>\n",
       "      <td>3000</td>\n",
       "      <td>1950</td>\n",
       "      <td>150</td>\n",
       "      <td>1</td>\n",
       "      <td>1</td>\n",
       "    </tr>\n",
       "    <tr>\n",
       "      <th>3</th>\n",
       "      <td>1000</td>\n",
       "      <td>8.0</td>\n",
       "      <td>ultra</td>\n",
       "      <td>14055.93</td>\n",
       "      <td>1000</td>\n",
       "      <td>30720</td>\n",
       "      <td>3000</td>\n",
       "      <td>1950</td>\n",
       "      <td>150</td>\n",
       "      <td>1</td>\n",
       "      <td>1</td>\n",
       "    </tr>\n",
       "    <tr>\n",
       "      <th>4</th>\n",
       "      <td>1000</td>\n",
       "      <td>9.0</td>\n",
       "      <td>ultra</td>\n",
       "      <td>14568.91</td>\n",
       "      <td>1000</td>\n",
       "      <td>30720</td>\n",
       "      <td>3000</td>\n",
       "      <td>1950</td>\n",
       "      <td>150</td>\n",
       "      <td>1</td>\n",
       "      <td>1</td>\n",
       "    </tr>\n",
       "    <tr>\n",
       "      <th>...</th>\n",
       "      <td>...</td>\n",
       "      <td>...</td>\n",
       "      <td>...</td>\n",
       "      <td>...</td>\n",
       "      <td>...</td>\n",
       "      <td>...</td>\n",
       "      <td>...</td>\n",
       "      <td>...</td>\n",
       "      <td>...</td>\n",
       "      <td>...</td>\n",
       "      <td>...</td>\n",
       "    </tr>\n",
       "    <tr>\n",
       "      <th>3198</th>\n",
       "      <td>1498</td>\n",
       "      <td>10.0</td>\n",
       "      <td>smart</td>\n",
       "      <td>20579.36</td>\n",
       "      <td>50</td>\n",
       "      <td>15360</td>\n",
       "      <td>500</td>\n",
       "      <td>550</td>\n",
       "      <td>200</td>\n",
       "      <td>3</td>\n",
       "      <td>3</td>\n",
       "    </tr>\n",
       "    <tr>\n",
       "      <th>3199</th>\n",
       "      <td>1499</td>\n",
       "      <td>9.0</td>\n",
       "      <td>smart</td>\n",
       "      <td>1845.75</td>\n",
       "      <td>50</td>\n",
       "      <td>15360</td>\n",
       "      <td>500</td>\n",
       "      <td>550</td>\n",
       "      <td>200</td>\n",
       "      <td>3</td>\n",
       "      <td>3</td>\n",
       "    </tr>\n",
       "    <tr>\n",
       "      <th>3200</th>\n",
       "      <td>1499</td>\n",
       "      <td>10.0</td>\n",
       "      <td>smart</td>\n",
       "      <td>17788.51</td>\n",
       "      <td>50</td>\n",
       "      <td>15360</td>\n",
       "      <td>500</td>\n",
       "      <td>550</td>\n",
       "      <td>200</td>\n",
       "      <td>3</td>\n",
       "      <td>3</td>\n",
       "    </tr>\n",
       "    <tr>\n",
       "      <th>3201</th>\n",
       "      <td>1499</td>\n",
       "      <td>11.0</td>\n",
       "      <td>smart</td>\n",
       "      <td>17963.31</td>\n",
       "      <td>50</td>\n",
       "      <td>15360</td>\n",
       "      <td>500</td>\n",
       "      <td>550</td>\n",
       "      <td>200</td>\n",
       "      <td>3</td>\n",
       "      <td>3</td>\n",
       "    </tr>\n",
       "    <tr>\n",
       "      <th>3202</th>\n",
       "      <td>1499</td>\n",
       "      <td>12.0</td>\n",
       "      <td>smart</td>\n",
       "      <td>13055.58</td>\n",
       "      <td>50</td>\n",
       "      <td>15360</td>\n",
       "      <td>500</td>\n",
       "      <td>550</td>\n",
       "      <td>200</td>\n",
       "      <td>3</td>\n",
       "      <td>3</td>\n",
       "    </tr>\n",
       "  </tbody>\n",
       "</table>\n",
       "<p>3203 rows × 11 columns</p>\n",
       "</div>"
      ],
      "text/plain": [
       "      user_id  month tariff   mb_used  messages_included  \\\n",
       "0        1000    5.0  ultra   2253.49               1000   \n",
       "1        1000    6.0  ultra  23233.77               1000   \n",
       "2        1000    7.0  ultra  14003.64               1000   \n",
       "3        1000    8.0  ultra  14055.93               1000   \n",
       "4        1000    9.0  ultra  14568.91               1000   \n",
       "...       ...    ...    ...       ...                ...   \n",
       "3198     1498   10.0  smart  20579.36                 50   \n",
       "3199     1499    9.0  smart   1845.75                 50   \n",
       "3200     1499   10.0  smart  17788.51                 50   \n",
       "3201     1499   11.0  smart  17963.31                 50   \n",
       "3202     1499   12.0  smart  13055.58                 50   \n",
       "\n",
       "      mb_per_month_included  minutes_included  rub_monthly_fee  rub_per_gb  \\\n",
       "0                     30720              3000             1950         150   \n",
       "1                     30720              3000             1950         150   \n",
       "2                     30720              3000             1950         150   \n",
       "3                     30720              3000             1950         150   \n",
       "4                     30720              3000             1950         150   \n",
       "...                     ...               ...              ...         ...   \n",
       "3198                  15360               500              550         200   \n",
       "3199                  15360               500              550         200   \n",
       "3200                  15360               500              550         200   \n",
       "3201                  15360               500              550         200   \n",
       "3202                  15360               500              550         200   \n",
       "\n",
       "      rub_per_message  rub_per_minute  \n",
       "0                   1               1  \n",
       "1                   1               1  \n",
       "2                   1               1  \n",
       "3                   1               1  \n",
       "4                   1               1  \n",
       "...               ...             ...  \n",
       "3198                3               3  \n",
       "3199                3               3  \n",
       "3200                3               3  \n",
       "3201                3               3  \n",
       "3202                3               3  \n",
       "\n",
       "[3203 rows x 11 columns]"
      ]
     },
     "execution_count": 30,
     "metadata": {},
     "output_type": "execute_result"
    }
   ],
   "source": [
    "final_inet = internet_per_month.reset_index().merge(tariffs, on='tariff', how='outer')\n",
    "final_inet"
   ]
  },
  {
   "cell_type": "markdown",
   "metadata": {},
   "source": [
    "Посчитаем перерасход трафика по месяцам для каждого абонента:"
   ]
  },
  {
   "cell_type": "code",
   "execution_count": 31,
   "metadata": {},
   "outputs": [
    {
     "data": {
      "text/html": [
       "<div>\n",
       "<style scoped>\n",
       "    .dataframe tbody tr th:only-of-type {\n",
       "        vertical-align: middle;\n",
       "    }\n",
       "\n",
       "    .dataframe tbody tr th {\n",
       "        vertical-align: top;\n",
       "    }\n",
       "\n",
       "    .dataframe thead th {\n",
       "        text-align: right;\n",
       "    }\n",
       "</style>\n",
       "<table border=\"1\" class=\"dataframe\">\n",
       "  <thead>\n",
       "    <tr style=\"text-align: right;\">\n",
       "      <th></th>\n",
       "      <th>user_id</th>\n",
       "      <th>month</th>\n",
       "      <th>tariff</th>\n",
       "      <th>mb_used</th>\n",
       "      <th>messages_included</th>\n",
       "      <th>mb_per_month_included</th>\n",
       "      <th>minutes_included</th>\n",
       "      <th>rub_monthly_fee</th>\n",
       "      <th>rub_per_gb</th>\n",
       "      <th>rub_per_message</th>\n",
       "      <th>rub_per_minute</th>\n",
       "      <th>over_the_limit</th>\n",
       "    </tr>\n",
       "  </thead>\n",
       "  <tbody>\n",
       "    <tr>\n",
       "      <th>0</th>\n",
       "      <td>1000</td>\n",
       "      <td>5.0</td>\n",
       "      <td>ultra</td>\n",
       "      <td>2253.49</td>\n",
       "      <td>1000</td>\n",
       "      <td>30720</td>\n",
       "      <td>3000</td>\n",
       "      <td>1950</td>\n",
       "      <td>150</td>\n",
       "      <td>1</td>\n",
       "      <td>1</td>\n",
       "      <td>0.000000</td>\n",
       "    </tr>\n",
       "    <tr>\n",
       "      <th>1</th>\n",
       "      <td>1000</td>\n",
       "      <td>6.0</td>\n",
       "      <td>ultra</td>\n",
       "      <td>23233.77</td>\n",
       "      <td>1000</td>\n",
       "      <td>30720</td>\n",
       "      <td>3000</td>\n",
       "      <td>1950</td>\n",
       "      <td>150</td>\n",
       "      <td>1</td>\n",
       "      <td>1</td>\n",
       "      <td>0.000000</td>\n",
       "    </tr>\n",
       "    <tr>\n",
       "      <th>2</th>\n",
       "      <td>1000</td>\n",
       "      <td>7.0</td>\n",
       "      <td>ultra</td>\n",
       "      <td>14003.64</td>\n",
       "      <td>1000</td>\n",
       "      <td>30720</td>\n",
       "      <td>3000</td>\n",
       "      <td>1950</td>\n",
       "      <td>150</td>\n",
       "      <td>1</td>\n",
       "      <td>1</td>\n",
       "      <td>0.000000</td>\n",
       "    </tr>\n",
       "    <tr>\n",
       "      <th>3</th>\n",
       "      <td>1000</td>\n",
       "      <td>8.0</td>\n",
       "      <td>ultra</td>\n",
       "      <td>14055.93</td>\n",
       "      <td>1000</td>\n",
       "      <td>30720</td>\n",
       "      <td>3000</td>\n",
       "      <td>1950</td>\n",
       "      <td>150</td>\n",
       "      <td>1</td>\n",
       "      <td>1</td>\n",
       "      <td>0.000000</td>\n",
       "    </tr>\n",
       "    <tr>\n",
       "      <th>4</th>\n",
       "      <td>1000</td>\n",
       "      <td>9.0</td>\n",
       "      <td>ultra</td>\n",
       "      <td>14568.91</td>\n",
       "      <td>1000</td>\n",
       "      <td>30720</td>\n",
       "      <td>3000</td>\n",
       "      <td>1950</td>\n",
       "      <td>150</td>\n",
       "      <td>1</td>\n",
       "      <td>1</td>\n",
       "      <td>0.000000</td>\n",
       "    </tr>\n",
       "    <tr>\n",
       "      <th>...</th>\n",
       "      <td>...</td>\n",
       "      <td>...</td>\n",
       "      <td>...</td>\n",
       "      <td>...</td>\n",
       "      <td>...</td>\n",
       "      <td>...</td>\n",
       "      <td>...</td>\n",
       "      <td>...</td>\n",
       "      <td>...</td>\n",
       "      <td>...</td>\n",
       "      <td>...</td>\n",
       "      <td>...</td>\n",
       "    </tr>\n",
       "    <tr>\n",
       "      <th>3198</th>\n",
       "      <td>1498</td>\n",
       "      <td>10.0</td>\n",
       "      <td>smart</td>\n",
       "      <td>20579.36</td>\n",
       "      <td>50</td>\n",
       "      <td>15360</td>\n",
       "      <td>500</td>\n",
       "      <td>550</td>\n",
       "      <td>200</td>\n",
       "      <td>3</td>\n",
       "      <td>3</td>\n",
       "      <td>5.097031</td>\n",
       "    </tr>\n",
       "    <tr>\n",
       "      <th>3199</th>\n",
       "      <td>1499</td>\n",
       "      <td>9.0</td>\n",
       "      <td>smart</td>\n",
       "      <td>1845.75</td>\n",
       "      <td>50</td>\n",
       "      <td>15360</td>\n",
       "      <td>500</td>\n",
       "      <td>550</td>\n",
       "      <td>200</td>\n",
       "      <td>3</td>\n",
       "      <td>3</td>\n",
       "      <td>0.000000</td>\n",
       "    </tr>\n",
       "    <tr>\n",
       "      <th>3200</th>\n",
       "      <td>1499</td>\n",
       "      <td>10.0</td>\n",
       "      <td>smart</td>\n",
       "      <td>17788.51</td>\n",
       "      <td>50</td>\n",
       "      <td>15360</td>\n",
       "      <td>500</td>\n",
       "      <td>550</td>\n",
       "      <td>200</td>\n",
       "      <td>3</td>\n",
       "      <td>3</td>\n",
       "      <td>2.371592</td>\n",
       "    </tr>\n",
       "    <tr>\n",
       "      <th>3201</th>\n",
       "      <td>1499</td>\n",
       "      <td>11.0</td>\n",
       "      <td>smart</td>\n",
       "      <td>17963.31</td>\n",
       "      <td>50</td>\n",
       "      <td>15360</td>\n",
       "      <td>500</td>\n",
       "      <td>550</td>\n",
       "      <td>200</td>\n",
       "      <td>3</td>\n",
       "      <td>3</td>\n",
       "      <td>2.542295</td>\n",
       "    </tr>\n",
       "    <tr>\n",
       "      <th>3202</th>\n",
       "      <td>1499</td>\n",
       "      <td>12.0</td>\n",
       "      <td>smart</td>\n",
       "      <td>13055.58</td>\n",
       "      <td>50</td>\n",
       "      <td>15360</td>\n",
       "      <td>500</td>\n",
       "      <td>550</td>\n",
       "      <td>200</td>\n",
       "      <td>3</td>\n",
       "      <td>3</td>\n",
       "      <td>0.000000</td>\n",
       "    </tr>\n",
       "  </tbody>\n",
       "</table>\n",
       "<p>3203 rows × 12 columns</p>\n",
       "</div>"
      ],
      "text/plain": [
       "      user_id  month tariff   mb_used  messages_included  \\\n",
       "0        1000    5.0  ultra   2253.49               1000   \n",
       "1        1000    6.0  ultra  23233.77               1000   \n",
       "2        1000    7.0  ultra  14003.64               1000   \n",
       "3        1000    8.0  ultra  14055.93               1000   \n",
       "4        1000    9.0  ultra  14568.91               1000   \n",
       "...       ...    ...    ...       ...                ...   \n",
       "3198     1498   10.0  smart  20579.36                 50   \n",
       "3199     1499    9.0  smart   1845.75                 50   \n",
       "3200     1499   10.0  smart  17788.51                 50   \n",
       "3201     1499   11.0  smart  17963.31                 50   \n",
       "3202     1499   12.0  smart  13055.58                 50   \n",
       "\n",
       "      mb_per_month_included  minutes_included  rub_monthly_fee  rub_per_gb  \\\n",
       "0                     30720              3000             1950         150   \n",
       "1                     30720              3000             1950         150   \n",
       "2                     30720              3000             1950         150   \n",
       "3                     30720              3000             1950         150   \n",
       "4                     30720              3000             1950         150   \n",
       "...                     ...               ...              ...         ...   \n",
       "3198                  15360               500              550         200   \n",
       "3199                  15360               500              550         200   \n",
       "3200                  15360               500              550         200   \n",
       "3201                  15360               500              550         200   \n",
       "3202                  15360               500              550         200   \n",
       "\n",
       "      rub_per_message  rub_per_minute  over_the_limit  \n",
       "0                   1               1        0.000000  \n",
       "1                   1               1        0.000000  \n",
       "2                   1               1        0.000000  \n",
       "3                   1               1        0.000000  \n",
       "4                   1               1        0.000000  \n",
       "...               ...             ...             ...  \n",
       "3198                3               3        5.097031  \n",
       "3199                3               3        0.000000  \n",
       "3200                3               3        2.371592  \n",
       "3201                3               3        2.542295  \n",
       "3202                3               3        0.000000  \n",
       "\n",
       "[3203 rows x 12 columns]"
      ]
     },
     "execution_count": 31,
     "metadata": {},
     "output_type": "execute_result"
    }
   ],
   "source": [
    "def prc(row):\n",
    "    mbpm = row['mb_per_month_included']\n",
    "    mbused = row['mb_used']\n",
    "    if mbpm >= mbused:\n",
    "        return 0\n",
    "    if mbpm <= mbused:\n",
    "        return (mbused - mbpm) / 1024\n",
    "final_inet['over_the_limit'] = final_inet.apply(prc, axis=1)\n",
    "final_inet"
   ]
  },
  {
   "cell_type": "markdown",
   "metadata": {},
   "source": [
    "Округлим перерасход в гигабайтах в большую сторону, по условию тарифных планов:"
   ]
  },
  {
   "cell_type": "code",
   "execution_count": 32,
   "metadata": {},
   "outputs": [
    {
     "data": {
      "text/html": [
       "<div>\n",
       "<style scoped>\n",
       "    .dataframe tbody tr th:only-of-type {\n",
       "        vertical-align: middle;\n",
       "    }\n",
       "\n",
       "    .dataframe tbody tr th {\n",
       "        vertical-align: top;\n",
       "    }\n",
       "\n",
       "    .dataframe thead th {\n",
       "        text-align: right;\n",
       "    }\n",
       "</style>\n",
       "<table border=\"1\" class=\"dataframe\">\n",
       "  <thead>\n",
       "    <tr style=\"text-align: right;\">\n",
       "      <th></th>\n",
       "      <th>user_id</th>\n",
       "      <th>month</th>\n",
       "      <th>tariff</th>\n",
       "      <th>mb_used</th>\n",
       "      <th>messages_included</th>\n",
       "      <th>mb_per_month_included</th>\n",
       "      <th>minutes_included</th>\n",
       "      <th>rub_monthly_fee</th>\n",
       "      <th>rub_per_gb</th>\n",
       "      <th>rub_per_message</th>\n",
       "      <th>rub_per_minute</th>\n",
       "      <th>over_the_limit</th>\n",
       "    </tr>\n",
       "  </thead>\n",
       "  <tbody>\n",
       "    <tr>\n",
       "      <th>0</th>\n",
       "      <td>1000</td>\n",
       "      <td>5.0</td>\n",
       "      <td>ultra</td>\n",
       "      <td>2253.49</td>\n",
       "      <td>1000</td>\n",
       "      <td>30720</td>\n",
       "      <td>3000</td>\n",
       "      <td>1950</td>\n",
       "      <td>150</td>\n",
       "      <td>1</td>\n",
       "      <td>1</td>\n",
       "      <td>0</td>\n",
       "    </tr>\n",
       "    <tr>\n",
       "      <th>1</th>\n",
       "      <td>1000</td>\n",
       "      <td>6.0</td>\n",
       "      <td>ultra</td>\n",
       "      <td>23233.77</td>\n",
       "      <td>1000</td>\n",
       "      <td>30720</td>\n",
       "      <td>3000</td>\n",
       "      <td>1950</td>\n",
       "      <td>150</td>\n",
       "      <td>1</td>\n",
       "      <td>1</td>\n",
       "      <td>0</td>\n",
       "    </tr>\n",
       "    <tr>\n",
       "      <th>2</th>\n",
       "      <td>1000</td>\n",
       "      <td>7.0</td>\n",
       "      <td>ultra</td>\n",
       "      <td>14003.64</td>\n",
       "      <td>1000</td>\n",
       "      <td>30720</td>\n",
       "      <td>3000</td>\n",
       "      <td>1950</td>\n",
       "      <td>150</td>\n",
       "      <td>1</td>\n",
       "      <td>1</td>\n",
       "      <td>0</td>\n",
       "    </tr>\n",
       "    <tr>\n",
       "      <th>3</th>\n",
       "      <td>1000</td>\n",
       "      <td>8.0</td>\n",
       "      <td>ultra</td>\n",
       "      <td>14055.93</td>\n",
       "      <td>1000</td>\n",
       "      <td>30720</td>\n",
       "      <td>3000</td>\n",
       "      <td>1950</td>\n",
       "      <td>150</td>\n",
       "      <td>1</td>\n",
       "      <td>1</td>\n",
       "      <td>0</td>\n",
       "    </tr>\n",
       "    <tr>\n",
       "      <th>4</th>\n",
       "      <td>1000</td>\n",
       "      <td>9.0</td>\n",
       "      <td>ultra</td>\n",
       "      <td>14568.91</td>\n",
       "      <td>1000</td>\n",
       "      <td>30720</td>\n",
       "      <td>3000</td>\n",
       "      <td>1950</td>\n",
       "      <td>150</td>\n",
       "      <td>1</td>\n",
       "      <td>1</td>\n",
       "      <td>0</td>\n",
       "    </tr>\n",
       "    <tr>\n",
       "      <th>...</th>\n",
       "      <td>...</td>\n",
       "      <td>...</td>\n",
       "      <td>...</td>\n",
       "      <td>...</td>\n",
       "      <td>...</td>\n",
       "      <td>...</td>\n",
       "      <td>...</td>\n",
       "      <td>...</td>\n",
       "      <td>...</td>\n",
       "      <td>...</td>\n",
       "      <td>...</td>\n",
       "      <td>...</td>\n",
       "    </tr>\n",
       "    <tr>\n",
       "      <th>3198</th>\n",
       "      <td>1498</td>\n",
       "      <td>10.0</td>\n",
       "      <td>smart</td>\n",
       "      <td>20579.36</td>\n",
       "      <td>50</td>\n",
       "      <td>15360</td>\n",
       "      <td>500</td>\n",
       "      <td>550</td>\n",
       "      <td>200</td>\n",
       "      <td>3</td>\n",
       "      <td>3</td>\n",
       "      <td>6</td>\n",
       "    </tr>\n",
       "    <tr>\n",
       "      <th>3199</th>\n",
       "      <td>1499</td>\n",
       "      <td>9.0</td>\n",
       "      <td>smart</td>\n",
       "      <td>1845.75</td>\n",
       "      <td>50</td>\n",
       "      <td>15360</td>\n",
       "      <td>500</td>\n",
       "      <td>550</td>\n",
       "      <td>200</td>\n",
       "      <td>3</td>\n",
       "      <td>3</td>\n",
       "      <td>0</td>\n",
       "    </tr>\n",
       "    <tr>\n",
       "      <th>3200</th>\n",
       "      <td>1499</td>\n",
       "      <td>10.0</td>\n",
       "      <td>smart</td>\n",
       "      <td>17788.51</td>\n",
       "      <td>50</td>\n",
       "      <td>15360</td>\n",
       "      <td>500</td>\n",
       "      <td>550</td>\n",
       "      <td>200</td>\n",
       "      <td>3</td>\n",
       "      <td>3</td>\n",
       "      <td>3</td>\n",
       "    </tr>\n",
       "    <tr>\n",
       "      <th>3201</th>\n",
       "      <td>1499</td>\n",
       "      <td>11.0</td>\n",
       "      <td>smart</td>\n",
       "      <td>17963.31</td>\n",
       "      <td>50</td>\n",
       "      <td>15360</td>\n",
       "      <td>500</td>\n",
       "      <td>550</td>\n",
       "      <td>200</td>\n",
       "      <td>3</td>\n",
       "      <td>3</td>\n",
       "      <td>3</td>\n",
       "    </tr>\n",
       "    <tr>\n",
       "      <th>3202</th>\n",
       "      <td>1499</td>\n",
       "      <td>12.0</td>\n",
       "      <td>smart</td>\n",
       "      <td>13055.58</td>\n",
       "      <td>50</td>\n",
       "      <td>15360</td>\n",
       "      <td>500</td>\n",
       "      <td>550</td>\n",
       "      <td>200</td>\n",
       "      <td>3</td>\n",
       "      <td>3</td>\n",
       "      <td>0</td>\n",
       "    </tr>\n",
       "  </tbody>\n",
       "</table>\n",
       "<p>3203 rows × 12 columns</p>\n",
       "</div>"
      ],
      "text/plain": [
       "      user_id  month tariff   mb_used  messages_included  \\\n",
       "0        1000    5.0  ultra   2253.49               1000   \n",
       "1        1000    6.0  ultra  23233.77               1000   \n",
       "2        1000    7.0  ultra  14003.64               1000   \n",
       "3        1000    8.0  ultra  14055.93               1000   \n",
       "4        1000    9.0  ultra  14568.91               1000   \n",
       "...       ...    ...    ...       ...                ...   \n",
       "3198     1498   10.0  smart  20579.36                 50   \n",
       "3199     1499    9.0  smart   1845.75                 50   \n",
       "3200     1499   10.0  smart  17788.51                 50   \n",
       "3201     1499   11.0  smart  17963.31                 50   \n",
       "3202     1499   12.0  smart  13055.58                 50   \n",
       "\n",
       "      mb_per_month_included  minutes_included  rub_monthly_fee  rub_per_gb  \\\n",
       "0                     30720              3000             1950         150   \n",
       "1                     30720              3000             1950         150   \n",
       "2                     30720              3000             1950         150   \n",
       "3                     30720              3000             1950         150   \n",
       "4                     30720              3000             1950         150   \n",
       "...                     ...               ...              ...         ...   \n",
       "3198                  15360               500              550         200   \n",
       "3199                  15360               500              550         200   \n",
       "3200                  15360               500              550         200   \n",
       "3201                  15360               500              550         200   \n",
       "3202                  15360               500              550         200   \n",
       "\n",
       "      rub_per_message  rub_per_minute  over_the_limit  \n",
       "0                   1               1               0  \n",
       "1                   1               1               0  \n",
       "2                   1               1               0  \n",
       "3                   1               1               0  \n",
       "4                   1               1               0  \n",
       "...               ...             ...             ...  \n",
       "3198                3               3               6  \n",
       "3199                3               3               0  \n",
       "3200                3               3               3  \n",
       "3201                3               3               3  \n",
       "3202                3               3               0  \n",
       "\n",
       "[3203 rows x 12 columns]"
      ]
     },
     "execution_count": 32,
     "metadata": {},
     "output_type": "execute_result"
    }
   ],
   "source": [
    "final_inet['over_the_limit'] = final_inet['over_the_limit'].apply(math.ceil)\n",
    "final_inet"
   ]
  },
  {
   "cell_type": "markdown",
   "metadata": {},
   "source": [
    "Посчитаем затраты на интернет:"
   ]
  },
  {
   "cell_type": "code",
   "execution_count": 33,
   "metadata": {},
   "outputs": [],
   "source": [
    "def price_internet(row):\n",
    "    tariff = row['tariff']\n",
    "    over_the_limit = row['over_the_limit']\n",
    "    if tariff == 'ultra':\n",
    "        return over_the_limit * 150\n",
    "    if tariff == 'smart':\n",
    "        return over_the_limit * 200\n",
    "final_inet['price_inet'] = final_inet.apply(price_internet, axis=1)"
   ]
  },
  {
   "cell_type": "code",
   "execution_count": 34,
   "metadata": {
    "scrolled": true
   },
   "outputs": [
    {
     "data": {
      "text/html": [
       "<div>\n",
       "<style scoped>\n",
       "    .dataframe tbody tr th:only-of-type {\n",
       "        vertical-align: middle;\n",
       "    }\n",
       "\n",
       "    .dataframe tbody tr th {\n",
       "        vertical-align: top;\n",
       "    }\n",
       "\n",
       "    .dataframe thead th {\n",
       "        text-align: right;\n",
       "    }\n",
       "</style>\n",
       "<table border=\"1\" class=\"dataframe\">\n",
       "  <thead>\n",
       "    <tr style=\"text-align: right;\">\n",
       "      <th></th>\n",
       "      <th>user_id</th>\n",
       "      <th>month</th>\n",
       "      <th>tariff</th>\n",
       "      <th>mb_used</th>\n",
       "      <th>messages_included</th>\n",
       "      <th>mb_per_month_included</th>\n",
       "      <th>minutes_included</th>\n",
       "      <th>rub_monthly_fee</th>\n",
       "      <th>rub_per_gb</th>\n",
       "      <th>rub_per_message</th>\n",
       "      <th>rub_per_minute</th>\n",
       "      <th>over_the_limit</th>\n",
       "      <th>price_inet</th>\n",
       "    </tr>\n",
       "  </thead>\n",
       "  <tbody>\n",
       "    <tr>\n",
       "      <th>0</th>\n",
       "      <td>1000</td>\n",
       "      <td>5.0</td>\n",
       "      <td>ultra</td>\n",
       "      <td>2253.49</td>\n",
       "      <td>1000</td>\n",
       "      <td>30720</td>\n",
       "      <td>3000</td>\n",
       "      <td>1950</td>\n",
       "      <td>150</td>\n",
       "      <td>1</td>\n",
       "      <td>1</td>\n",
       "      <td>0</td>\n",
       "      <td>0</td>\n",
       "    </tr>\n",
       "    <tr>\n",
       "      <th>1</th>\n",
       "      <td>1000</td>\n",
       "      <td>6.0</td>\n",
       "      <td>ultra</td>\n",
       "      <td>23233.77</td>\n",
       "      <td>1000</td>\n",
       "      <td>30720</td>\n",
       "      <td>3000</td>\n",
       "      <td>1950</td>\n",
       "      <td>150</td>\n",
       "      <td>1</td>\n",
       "      <td>1</td>\n",
       "      <td>0</td>\n",
       "      <td>0</td>\n",
       "    </tr>\n",
       "    <tr>\n",
       "      <th>2</th>\n",
       "      <td>1000</td>\n",
       "      <td>7.0</td>\n",
       "      <td>ultra</td>\n",
       "      <td>14003.64</td>\n",
       "      <td>1000</td>\n",
       "      <td>30720</td>\n",
       "      <td>3000</td>\n",
       "      <td>1950</td>\n",
       "      <td>150</td>\n",
       "      <td>1</td>\n",
       "      <td>1</td>\n",
       "      <td>0</td>\n",
       "      <td>0</td>\n",
       "    </tr>\n",
       "    <tr>\n",
       "      <th>3</th>\n",
       "      <td>1000</td>\n",
       "      <td>8.0</td>\n",
       "      <td>ultra</td>\n",
       "      <td>14055.93</td>\n",
       "      <td>1000</td>\n",
       "      <td>30720</td>\n",
       "      <td>3000</td>\n",
       "      <td>1950</td>\n",
       "      <td>150</td>\n",
       "      <td>1</td>\n",
       "      <td>1</td>\n",
       "      <td>0</td>\n",
       "      <td>0</td>\n",
       "    </tr>\n",
       "    <tr>\n",
       "      <th>4</th>\n",
       "      <td>1000</td>\n",
       "      <td>9.0</td>\n",
       "      <td>ultra</td>\n",
       "      <td>14568.91</td>\n",
       "      <td>1000</td>\n",
       "      <td>30720</td>\n",
       "      <td>3000</td>\n",
       "      <td>1950</td>\n",
       "      <td>150</td>\n",
       "      <td>1</td>\n",
       "      <td>1</td>\n",
       "      <td>0</td>\n",
       "      <td>0</td>\n",
       "    </tr>\n",
       "    <tr>\n",
       "      <th>...</th>\n",
       "      <td>...</td>\n",
       "      <td>...</td>\n",
       "      <td>...</td>\n",
       "      <td>...</td>\n",
       "      <td>...</td>\n",
       "      <td>...</td>\n",
       "      <td>...</td>\n",
       "      <td>...</td>\n",
       "      <td>...</td>\n",
       "      <td>...</td>\n",
       "      <td>...</td>\n",
       "      <td>...</td>\n",
       "      <td>...</td>\n",
       "    </tr>\n",
       "    <tr>\n",
       "      <th>3198</th>\n",
       "      <td>1498</td>\n",
       "      <td>10.0</td>\n",
       "      <td>smart</td>\n",
       "      <td>20579.36</td>\n",
       "      <td>50</td>\n",
       "      <td>15360</td>\n",
       "      <td>500</td>\n",
       "      <td>550</td>\n",
       "      <td>200</td>\n",
       "      <td>3</td>\n",
       "      <td>3</td>\n",
       "      <td>6</td>\n",
       "      <td>1200</td>\n",
       "    </tr>\n",
       "    <tr>\n",
       "      <th>3199</th>\n",
       "      <td>1499</td>\n",
       "      <td>9.0</td>\n",
       "      <td>smart</td>\n",
       "      <td>1845.75</td>\n",
       "      <td>50</td>\n",
       "      <td>15360</td>\n",
       "      <td>500</td>\n",
       "      <td>550</td>\n",
       "      <td>200</td>\n",
       "      <td>3</td>\n",
       "      <td>3</td>\n",
       "      <td>0</td>\n",
       "      <td>0</td>\n",
       "    </tr>\n",
       "    <tr>\n",
       "      <th>3200</th>\n",
       "      <td>1499</td>\n",
       "      <td>10.0</td>\n",
       "      <td>smart</td>\n",
       "      <td>17788.51</td>\n",
       "      <td>50</td>\n",
       "      <td>15360</td>\n",
       "      <td>500</td>\n",
       "      <td>550</td>\n",
       "      <td>200</td>\n",
       "      <td>3</td>\n",
       "      <td>3</td>\n",
       "      <td>3</td>\n",
       "      <td>600</td>\n",
       "    </tr>\n",
       "    <tr>\n",
       "      <th>3201</th>\n",
       "      <td>1499</td>\n",
       "      <td>11.0</td>\n",
       "      <td>smart</td>\n",
       "      <td>17963.31</td>\n",
       "      <td>50</td>\n",
       "      <td>15360</td>\n",
       "      <td>500</td>\n",
       "      <td>550</td>\n",
       "      <td>200</td>\n",
       "      <td>3</td>\n",
       "      <td>3</td>\n",
       "      <td>3</td>\n",
       "      <td>600</td>\n",
       "    </tr>\n",
       "    <tr>\n",
       "      <th>3202</th>\n",
       "      <td>1499</td>\n",
       "      <td>12.0</td>\n",
       "      <td>smart</td>\n",
       "      <td>13055.58</td>\n",
       "      <td>50</td>\n",
       "      <td>15360</td>\n",
       "      <td>500</td>\n",
       "      <td>550</td>\n",
       "      <td>200</td>\n",
       "      <td>3</td>\n",
       "      <td>3</td>\n",
       "      <td>0</td>\n",
       "      <td>0</td>\n",
       "    </tr>\n",
       "  </tbody>\n",
       "</table>\n",
       "<p>3203 rows × 13 columns</p>\n",
       "</div>"
      ],
      "text/plain": [
       "      user_id  month tariff   mb_used  messages_included  \\\n",
       "0        1000    5.0  ultra   2253.49               1000   \n",
       "1        1000    6.0  ultra  23233.77               1000   \n",
       "2        1000    7.0  ultra  14003.64               1000   \n",
       "3        1000    8.0  ultra  14055.93               1000   \n",
       "4        1000    9.0  ultra  14568.91               1000   \n",
       "...       ...    ...    ...       ...                ...   \n",
       "3198     1498   10.0  smart  20579.36                 50   \n",
       "3199     1499    9.0  smart   1845.75                 50   \n",
       "3200     1499   10.0  smart  17788.51                 50   \n",
       "3201     1499   11.0  smart  17963.31                 50   \n",
       "3202     1499   12.0  smart  13055.58                 50   \n",
       "\n",
       "      mb_per_month_included  minutes_included  rub_monthly_fee  rub_per_gb  \\\n",
       "0                     30720              3000             1950         150   \n",
       "1                     30720              3000             1950         150   \n",
       "2                     30720              3000             1950         150   \n",
       "3                     30720              3000             1950         150   \n",
       "4                     30720              3000             1950         150   \n",
       "...                     ...               ...              ...         ...   \n",
       "3198                  15360               500              550         200   \n",
       "3199                  15360               500              550         200   \n",
       "3200                  15360               500              550         200   \n",
       "3201                  15360               500              550         200   \n",
       "3202                  15360               500              550         200   \n",
       "\n",
       "      rub_per_message  rub_per_minute  over_the_limit  price_inet  \n",
       "0                   1               1               0           0  \n",
       "1                   1               1               0           0  \n",
       "2                   1               1               0           0  \n",
       "3                   1               1               0           0  \n",
       "4                   1               1               0           0  \n",
       "...               ...             ...             ...         ...  \n",
       "3198                3               3               6        1200  \n",
       "3199                3               3               0           0  \n",
       "3200                3               3               3         600  \n",
       "3201                3               3               3         600  \n",
       "3202                3               3               0           0  \n",
       "\n",
       "[3203 rows x 13 columns]"
      ]
     },
     "execution_count": 34,
     "metadata": {},
     "output_type": "execute_result"
    }
   ],
   "source": [
    "final_inet"
   ]
  },
  {
   "cell_type": "markdown",
   "metadata": {},
   "source": [
    "Объединим расходы по всем статьям в одну таблицу и посчитаем итоговые затраты по месяцам по каждому абоненту:"
   ]
  },
  {
   "cell_type": "code",
   "execution_count": 35,
   "metadata": {},
   "outputs": [
    {
     "data": {
      "text/html": [
       "<div>\n",
       "<style scoped>\n",
       "    .dataframe tbody tr th:only-of-type {\n",
       "        vertical-align: middle;\n",
       "    }\n",
       "\n",
       "    .dataframe tbody tr th {\n",
       "        vertical-align: top;\n",
       "    }\n",
       "\n",
       "    .dataframe thead th {\n",
       "        text-align: right;\n",
       "    }\n",
       "</style>\n",
       "<table border=\"1\" class=\"dataframe\">\n",
       "  <thead>\n",
       "    <tr style=\"text-align: right;\">\n",
       "      <th></th>\n",
       "      <th>user_id</th>\n",
       "      <th>month</th>\n",
       "      <th>tariff</th>\n",
       "      <th>rub_monthly_fee</th>\n",
       "      <th>price_inet</th>\n",
       "      <th>price_messages</th>\n",
       "    </tr>\n",
       "  </thead>\n",
       "  <tbody>\n",
       "    <tr>\n",
       "      <th>3108</th>\n",
       "      <td>1481</td>\n",
       "      <td>2.0</td>\n",
       "      <td>smart</td>\n",
       "      <td>550.0</td>\n",
       "      <td>0.0</td>\n",
       "      <td>0.0</td>\n",
       "    </tr>\n",
       "    <tr>\n",
       "      <th>3109</th>\n",
       "      <td>1481</td>\n",
       "      <td>3.0</td>\n",
       "      <td>smart</td>\n",
       "      <td>550.0</td>\n",
       "      <td>600.0</td>\n",
       "      <td>0.0</td>\n",
       "    </tr>\n",
       "    <tr>\n",
       "      <th>3110</th>\n",
       "      <td>1481</td>\n",
       "      <td>4.0</td>\n",
       "      <td>smart</td>\n",
       "      <td>550.0</td>\n",
       "      <td>1000.0</td>\n",
       "      <td>0.0</td>\n",
       "    </tr>\n",
       "    <tr>\n",
       "      <th>3111</th>\n",
       "      <td>1481</td>\n",
       "      <td>5.0</td>\n",
       "      <td>smart</td>\n",
       "      <td>550.0</td>\n",
       "      <td>600.0</td>\n",
       "      <td>0.0</td>\n",
       "    </tr>\n",
       "    <tr>\n",
       "      <th>3112</th>\n",
       "      <td>1481</td>\n",
       "      <td>6.0</td>\n",
       "      <td>smart</td>\n",
       "      <td>550.0</td>\n",
       "      <td>0.0</td>\n",
       "      <td>0.0</td>\n",
       "    </tr>\n",
       "    <tr>\n",
       "      <th>3113</th>\n",
       "      <td>1481</td>\n",
       "      <td>7.0</td>\n",
       "      <td>smart</td>\n",
       "      <td>550.0</td>\n",
       "      <td>800.0</td>\n",
       "      <td>0.0</td>\n",
       "    </tr>\n",
       "    <tr>\n",
       "      <th>3114</th>\n",
       "      <td>1481</td>\n",
       "      <td>8.0</td>\n",
       "      <td>smart</td>\n",
       "      <td>550.0</td>\n",
       "      <td>1200.0</td>\n",
       "      <td>0.0</td>\n",
       "    </tr>\n",
       "    <tr>\n",
       "      <th>3115</th>\n",
       "      <td>1481</td>\n",
       "      <td>9.0</td>\n",
       "      <td>smart</td>\n",
       "      <td>550.0</td>\n",
       "      <td>400.0</td>\n",
       "      <td>0.0</td>\n",
       "    </tr>\n",
       "    <tr>\n",
       "      <th>3116</th>\n",
       "      <td>1481</td>\n",
       "      <td>10.0</td>\n",
       "      <td>smart</td>\n",
       "      <td>550.0</td>\n",
       "      <td>600.0</td>\n",
       "      <td>0.0</td>\n",
       "    </tr>\n",
       "    <tr>\n",
       "      <th>3117</th>\n",
       "      <td>1481</td>\n",
       "      <td>11.0</td>\n",
       "      <td>smart</td>\n",
       "      <td>550.0</td>\n",
       "      <td>1000.0</td>\n",
       "      <td>0.0</td>\n",
       "    </tr>\n",
       "    <tr>\n",
       "      <th>3118</th>\n",
       "      <td>1481</td>\n",
       "      <td>12.0</td>\n",
       "      <td>smart</td>\n",
       "      <td>550.0</td>\n",
       "      <td>400.0</td>\n",
       "      <td>0.0</td>\n",
       "    </tr>\n",
       "  </tbody>\n",
       "</table>\n",
       "</div>"
      ],
      "text/plain": [
       "      user_id  month tariff  rub_monthly_fee  price_inet  price_messages\n",
       "3108     1481    2.0  smart            550.0         0.0             0.0\n",
       "3109     1481    3.0  smart            550.0       600.0             0.0\n",
       "3110     1481    4.0  smart            550.0      1000.0             0.0\n",
       "3111     1481    5.0  smart            550.0       600.0             0.0\n",
       "3112     1481    6.0  smart            550.0         0.0             0.0\n",
       "3113     1481    7.0  smart            550.0       800.0             0.0\n",
       "3114     1481    8.0  smart            550.0      1200.0             0.0\n",
       "3115     1481    9.0  smart            550.0       400.0             0.0\n",
       "3116     1481   10.0  smart            550.0       600.0             0.0\n",
       "3117     1481   11.0  smart            550.0      1000.0             0.0\n",
       "3118     1481   12.0  smart            550.0       400.0             0.0"
      ]
     },
     "execution_count": 35,
     "metadata": {},
     "output_type": "execute_result"
    }
   ],
   "source": [
    "pretotal = final_inet[['user_id','month', 'tariff', 'rub_monthly_fee', 'price_inet']].merge(final_messages[['user_id', 'month','price_messages']], on=['user_id', 'month'], how='outer')\n",
    "pretotal[pretotal['user_id'] ==1481]"
   ]
  },
  {
   "cell_type": "code",
   "execution_count": 36,
   "metadata": {
    "scrolled": true
   },
   "outputs": [
    {
     "data": {
      "text/html": [
       "<div>\n",
       "<style scoped>\n",
       "    .dataframe tbody tr th:only-of-type {\n",
       "        vertical-align: middle;\n",
       "    }\n",
       "\n",
       "    .dataframe tbody tr th {\n",
       "        vertical-align: top;\n",
       "    }\n",
       "\n",
       "    .dataframe thead th {\n",
       "        text-align: right;\n",
       "    }\n",
       "</style>\n",
       "<table border=\"1\" class=\"dataframe\">\n",
       "  <thead>\n",
       "    <tr style=\"text-align: right;\">\n",
       "      <th></th>\n",
       "      <th>user_id</th>\n",
       "      <th>month</th>\n",
       "      <th>tariff_x</th>\n",
       "      <th>rub_monthly_fee_x</th>\n",
       "      <th>price_inet</th>\n",
       "      <th>price_messages</th>\n",
       "      <th>tariff_y</th>\n",
       "      <th>rub_monthly_fee_y</th>\n",
       "      <th>price_calls</th>\n",
       "    </tr>\n",
       "  </thead>\n",
       "  <tbody>\n",
       "    <tr>\n",
       "      <th>0</th>\n",
       "      <td>1000</td>\n",
       "      <td>5.0</td>\n",
       "      <td>ultra</td>\n",
       "      <td>1950.0</td>\n",
       "      <td>0.0</td>\n",
       "      <td>0.0</td>\n",
       "      <td>ultra</td>\n",
       "      <td>1950.0</td>\n",
       "      <td>0.0</td>\n",
       "    </tr>\n",
       "    <tr>\n",
       "      <th>1</th>\n",
       "      <td>1000</td>\n",
       "      <td>6.0</td>\n",
       "      <td>ultra</td>\n",
       "      <td>1950.0</td>\n",
       "      <td>0.0</td>\n",
       "      <td>0.0</td>\n",
       "      <td>ultra</td>\n",
       "      <td>1950.0</td>\n",
       "      <td>0.0</td>\n",
       "    </tr>\n",
       "    <tr>\n",
       "      <th>2</th>\n",
       "      <td>1000</td>\n",
       "      <td>7.0</td>\n",
       "      <td>ultra</td>\n",
       "      <td>1950.0</td>\n",
       "      <td>0.0</td>\n",
       "      <td>0.0</td>\n",
       "      <td>ultra</td>\n",
       "      <td>1950.0</td>\n",
       "      <td>0.0</td>\n",
       "    </tr>\n",
       "    <tr>\n",
       "      <th>3</th>\n",
       "      <td>1000</td>\n",
       "      <td>8.0</td>\n",
       "      <td>ultra</td>\n",
       "      <td>1950.0</td>\n",
       "      <td>0.0</td>\n",
       "      <td>0.0</td>\n",
       "      <td>ultra</td>\n",
       "      <td>1950.0</td>\n",
       "      <td>0.0</td>\n",
       "    </tr>\n",
       "    <tr>\n",
       "      <th>4</th>\n",
       "      <td>1000</td>\n",
       "      <td>9.0</td>\n",
       "      <td>ultra</td>\n",
       "      <td>1950.0</td>\n",
       "      <td>0.0</td>\n",
       "      <td>0.0</td>\n",
       "      <td>ultra</td>\n",
       "      <td>1950.0</td>\n",
       "      <td>0.0</td>\n",
       "    </tr>\n",
       "    <tr>\n",
       "      <th>...</th>\n",
       "      <td>...</td>\n",
       "      <td>...</td>\n",
       "      <td>...</td>\n",
       "      <td>...</td>\n",
       "      <td>...</td>\n",
       "      <td>...</td>\n",
       "      <td>...</td>\n",
       "      <td>...</td>\n",
       "      <td>...</td>\n",
       "    </tr>\n",
       "    <tr>\n",
       "      <th>3209</th>\n",
       "      <td>1273</td>\n",
       "      <td>11.0</td>\n",
       "      <td>NaN</td>\n",
       "      <td>NaN</td>\n",
       "      <td>NaN</td>\n",
       "      <td>0.0</td>\n",
       "      <td>ultra</td>\n",
       "      <td>1950.0</td>\n",
       "      <td>0.0</td>\n",
       "    </tr>\n",
       "    <tr>\n",
       "      <th>3210</th>\n",
       "      <td>1273</td>\n",
       "      <td>12.0</td>\n",
       "      <td>NaN</td>\n",
       "      <td>NaN</td>\n",
       "      <td>NaN</td>\n",
       "      <td>0.0</td>\n",
       "      <td>ultra</td>\n",
       "      <td>1950.0</td>\n",
       "      <td>0.0</td>\n",
       "    </tr>\n",
       "    <tr>\n",
       "      <th>3211</th>\n",
       "      <td>1377</td>\n",
       "      <td>2.0</td>\n",
       "      <td>NaN</td>\n",
       "      <td>NaN</td>\n",
       "      <td>NaN</td>\n",
       "      <td>0.0</td>\n",
       "      <td>ultra</td>\n",
       "      <td>1950.0</td>\n",
       "      <td>0.0</td>\n",
       "    </tr>\n",
       "    <tr>\n",
       "      <th>3212</th>\n",
       "      <td>1392</td>\n",
       "      <td>2.0</td>\n",
       "      <td>NaN</td>\n",
       "      <td>NaN</td>\n",
       "      <td>NaN</td>\n",
       "      <td>0.0</td>\n",
       "      <td>ultra</td>\n",
       "      <td>1950.0</td>\n",
       "      <td>0.0</td>\n",
       "    </tr>\n",
       "    <tr>\n",
       "      <th>3213</th>\n",
       "      <td>1446</td>\n",
       "      <td>8.0</td>\n",
       "      <td>NaN</td>\n",
       "      <td>NaN</td>\n",
       "      <td>NaN</td>\n",
       "      <td>0.0</td>\n",
       "      <td>smart</td>\n",
       "      <td>550.0</td>\n",
       "      <td>0.0</td>\n",
       "    </tr>\n",
       "  </tbody>\n",
       "</table>\n",
       "<p>3214 rows × 9 columns</p>\n",
       "</div>"
      ],
      "text/plain": [
       "      user_id  month tariff_x  rub_monthly_fee_x  price_inet  price_messages  \\\n",
       "0        1000    5.0    ultra             1950.0         0.0             0.0   \n",
       "1        1000    6.0    ultra             1950.0         0.0             0.0   \n",
       "2        1000    7.0    ultra             1950.0         0.0             0.0   \n",
       "3        1000    8.0    ultra             1950.0         0.0             0.0   \n",
       "4        1000    9.0    ultra             1950.0         0.0             0.0   \n",
       "...       ...    ...      ...                ...         ...             ...   \n",
       "3209     1273   11.0      NaN                NaN         NaN             0.0   \n",
       "3210     1273   12.0      NaN                NaN         NaN             0.0   \n",
       "3211     1377    2.0      NaN                NaN         NaN             0.0   \n",
       "3212     1392    2.0      NaN                NaN         NaN             0.0   \n",
       "3213     1446    8.0      NaN                NaN         NaN             0.0   \n",
       "\n",
       "     tariff_y  rub_monthly_fee_y  price_calls  \n",
       "0       ultra             1950.0          0.0  \n",
       "1       ultra             1950.0          0.0  \n",
       "2       ultra             1950.0          0.0  \n",
       "3       ultra             1950.0          0.0  \n",
       "4       ultra             1950.0          0.0  \n",
       "...       ...                ...          ...  \n",
       "3209    ultra             1950.0          0.0  \n",
       "3210    ultra             1950.0          0.0  \n",
       "3211    ultra             1950.0          0.0  \n",
       "3212    ultra             1950.0          0.0  \n",
       "3213    smart              550.0          0.0  \n",
       "\n",
       "[3214 rows x 9 columns]"
      ]
     },
     "execution_count": 36,
     "metadata": {},
     "output_type": "execute_result"
    }
   ],
   "source": [
    "total = pretotal.merge(final_calls[['user_id','month', 'tariff', 'rub_monthly_fee','price_calls']], on=['user_id', 'month'], how='outer')\n",
    "total"
   ]
  },
  {
   "cell_type": "code",
   "execution_count": 37,
   "metadata": {},
   "outputs": [
    {
     "data": {
      "text/plain": [
       "498"
      ]
     },
     "execution_count": 37,
     "metadata": {},
     "output_type": "execute_result"
    }
   ],
   "source": [
    "total.user_id.nunique()"
   ]
  },
  {
   "cell_type": "code",
   "execution_count": 38,
   "metadata": {},
   "outputs": [
    {
     "data": {
      "text/html": [
       "<div>\n",
       "<style scoped>\n",
       "    .dataframe tbody tr th:only-of-type {\n",
       "        vertical-align: middle;\n",
       "    }\n",
       "\n",
       "    .dataframe tbody tr th {\n",
       "        vertical-align: top;\n",
       "    }\n",
       "\n",
       "    .dataframe thead th {\n",
       "        text-align: right;\n",
       "    }\n",
       "</style>\n",
       "<table border=\"1\" class=\"dataframe\">\n",
       "  <thead>\n",
       "    <tr style=\"text-align: right;\">\n",
       "      <th></th>\n",
       "      <th>user_id</th>\n",
       "      <th>month</th>\n",
       "      <th>tariff_x</th>\n",
       "      <th>rub_monthly_fee_x</th>\n",
       "      <th>price_inet</th>\n",
       "      <th>price_messages</th>\n",
       "      <th>tariff_y</th>\n",
       "      <th>rub_monthly_fee_y</th>\n",
       "      <th>price_calls</th>\n",
       "    </tr>\n",
       "  </thead>\n",
       "  <tbody>\n",
       "    <tr>\n",
       "      <th>0</th>\n",
       "      <td>1000</td>\n",
       "      <td>5.0</td>\n",
       "      <td>ultra</td>\n",
       "      <td>1950.0</td>\n",
       "      <td>0.0</td>\n",
       "      <td>0.0</td>\n",
       "      <td>ultra</td>\n",
       "      <td>1950.0</td>\n",
       "      <td>0.0</td>\n",
       "    </tr>\n",
       "    <tr>\n",
       "      <th>1</th>\n",
       "      <td>1000</td>\n",
       "      <td>6.0</td>\n",
       "      <td>ultra</td>\n",
       "      <td>1950.0</td>\n",
       "      <td>0.0</td>\n",
       "      <td>0.0</td>\n",
       "      <td>ultra</td>\n",
       "      <td>1950.0</td>\n",
       "      <td>0.0</td>\n",
       "    </tr>\n",
       "    <tr>\n",
       "      <th>2</th>\n",
       "      <td>1000</td>\n",
       "      <td>7.0</td>\n",
       "      <td>ultra</td>\n",
       "      <td>1950.0</td>\n",
       "      <td>0.0</td>\n",
       "      <td>0.0</td>\n",
       "      <td>ultra</td>\n",
       "      <td>1950.0</td>\n",
       "      <td>0.0</td>\n",
       "    </tr>\n",
       "    <tr>\n",
       "      <th>3</th>\n",
       "      <td>1000</td>\n",
       "      <td>8.0</td>\n",
       "      <td>ultra</td>\n",
       "      <td>1950.0</td>\n",
       "      <td>0.0</td>\n",
       "      <td>0.0</td>\n",
       "      <td>ultra</td>\n",
       "      <td>1950.0</td>\n",
       "      <td>0.0</td>\n",
       "    </tr>\n",
       "    <tr>\n",
       "      <th>4</th>\n",
       "      <td>1000</td>\n",
       "      <td>9.0</td>\n",
       "      <td>ultra</td>\n",
       "      <td>1950.0</td>\n",
       "      <td>0.0</td>\n",
       "      <td>0.0</td>\n",
       "      <td>ultra</td>\n",
       "      <td>1950.0</td>\n",
       "      <td>0.0</td>\n",
       "    </tr>\n",
       "    <tr>\n",
       "      <th>...</th>\n",
       "      <td>...</td>\n",
       "      <td>...</td>\n",
       "      <td>...</td>\n",
       "      <td>...</td>\n",
       "      <td>...</td>\n",
       "      <td>...</td>\n",
       "      <td>...</td>\n",
       "      <td>...</td>\n",
       "      <td>...</td>\n",
       "    </tr>\n",
       "    <tr>\n",
       "      <th>3209</th>\n",
       "      <td>1273</td>\n",
       "      <td>11.0</td>\n",
       "      <td>ultra</td>\n",
       "      <td>1950.0</td>\n",
       "      <td>0.0</td>\n",
       "      <td>0.0</td>\n",
       "      <td>ultra</td>\n",
       "      <td>1950.0</td>\n",
       "      <td>0.0</td>\n",
       "    </tr>\n",
       "    <tr>\n",
       "      <th>3210</th>\n",
       "      <td>1273</td>\n",
       "      <td>12.0</td>\n",
       "      <td>ultra</td>\n",
       "      <td>1950.0</td>\n",
       "      <td>0.0</td>\n",
       "      <td>0.0</td>\n",
       "      <td>ultra</td>\n",
       "      <td>1950.0</td>\n",
       "      <td>0.0</td>\n",
       "    </tr>\n",
       "    <tr>\n",
       "      <th>3211</th>\n",
       "      <td>1377</td>\n",
       "      <td>2.0</td>\n",
       "      <td>ultra</td>\n",
       "      <td>1950.0</td>\n",
       "      <td>0.0</td>\n",
       "      <td>0.0</td>\n",
       "      <td>ultra</td>\n",
       "      <td>1950.0</td>\n",
       "      <td>0.0</td>\n",
       "    </tr>\n",
       "    <tr>\n",
       "      <th>3212</th>\n",
       "      <td>1392</td>\n",
       "      <td>2.0</td>\n",
       "      <td>ultra</td>\n",
       "      <td>1950.0</td>\n",
       "      <td>0.0</td>\n",
       "      <td>0.0</td>\n",
       "      <td>ultra</td>\n",
       "      <td>1950.0</td>\n",
       "      <td>0.0</td>\n",
       "    </tr>\n",
       "    <tr>\n",
       "      <th>3213</th>\n",
       "      <td>1446</td>\n",
       "      <td>8.0</td>\n",
       "      <td>smart</td>\n",
       "      <td>550.0</td>\n",
       "      <td>0.0</td>\n",
       "      <td>0.0</td>\n",
       "      <td>smart</td>\n",
       "      <td>550.0</td>\n",
       "      <td>0.0</td>\n",
       "    </tr>\n",
       "  </tbody>\n",
       "</table>\n",
       "<p>3214 rows × 9 columns</p>\n",
       "</div>"
      ],
      "text/plain": [
       "      user_id  month tariff_x  rub_monthly_fee_x  price_inet  price_messages  \\\n",
       "0        1000    5.0    ultra             1950.0         0.0             0.0   \n",
       "1        1000    6.0    ultra             1950.0         0.0             0.0   \n",
       "2        1000    7.0    ultra             1950.0         0.0             0.0   \n",
       "3        1000    8.0    ultra             1950.0         0.0             0.0   \n",
       "4        1000    9.0    ultra             1950.0         0.0             0.0   \n",
       "...       ...    ...      ...                ...         ...             ...   \n",
       "3209     1273   11.0    ultra             1950.0         0.0             0.0   \n",
       "3210     1273   12.0    ultra             1950.0         0.0             0.0   \n",
       "3211     1377    2.0    ultra             1950.0         0.0             0.0   \n",
       "3212     1392    2.0    ultra             1950.0         0.0             0.0   \n",
       "3213     1446    8.0    smart              550.0         0.0             0.0   \n",
       "\n",
       "     tariff_y  rub_monthly_fee_y  price_calls  \n",
       "0       ultra             1950.0          0.0  \n",
       "1       ultra             1950.0          0.0  \n",
       "2       ultra             1950.0          0.0  \n",
       "3       ultra             1950.0          0.0  \n",
       "4       ultra             1950.0          0.0  \n",
       "...       ...                ...          ...  \n",
       "3209    ultra             1950.0          0.0  \n",
       "3210    ultra             1950.0          0.0  \n",
       "3211    ultra             1950.0          0.0  \n",
       "3212    ultra             1950.0          0.0  \n",
       "3213    smart              550.0          0.0  \n",
       "\n",
       "[3214 rows x 9 columns]"
      ]
     },
     "execution_count": 38,
     "metadata": {},
     "output_type": "execute_result"
    }
   ],
   "source": [
    "total = total.fillna(0)\n",
    "total.loc[total['tariff_x'] == 0, 'tariff_x'] = total['tariff_y']\n",
    "total.loc[total['rub_monthly_fee_x'] == 0, 'rub_monthly_fee_x'] = total['rub_monthly_fee_y']\n",
    "total.drop(columns=['tariff_y', 'rub_monthly_fee_y'])\n",
    "total"
   ]
  },
  {
   "cell_type": "code",
   "execution_count": 39,
   "metadata": {
    "scrolled": true
   },
   "outputs": [
    {
     "data": {
      "text/html": [
       "<div>\n",
       "<style scoped>\n",
       "    .dataframe tbody tr th:only-of-type {\n",
       "        vertical-align: middle;\n",
       "    }\n",
       "\n",
       "    .dataframe tbody tr th {\n",
       "        vertical-align: top;\n",
       "    }\n",
       "\n",
       "    .dataframe thead th {\n",
       "        text-align: right;\n",
       "    }\n",
       "</style>\n",
       "<table border=\"1\" class=\"dataframe\">\n",
       "  <thead>\n",
       "    <tr style=\"text-align: right;\">\n",
       "      <th></th>\n",
       "      <th>user_id</th>\n",
       "      <th>month</th>\n",
       "      <th>tariff_x</th>\n",
       "      <th>rub_monthly_fee_x</th>\n",
       "      <th>price_inet</th>\n",
       "      <th>price_messages</th>\n",
       "      <th>price_calls</th>\n",
       "    </tr>\n",
       "  </thead>\n",
       "  <tbody>\n",
       "    <tr>\n",
       "      <th>0</th>\n",
       "      <td>1000</td>\n",
       "      <td>5.0</td>\n",
       "      <td>ultra</td>\n",
       "      <td>1950.0</td>\n",
       "      <td>0.0</td>\n",
       "      <td>0.0</td>\n",
       "      <td>0.0</td>\n",
       "    </tr>\n",
       "    <tr>\n",
       "      <th>1</th>\n",
       "      <td>1000</td>\n",
       "      <td>6.0</td>\n",
       "      <td>ultra</td>\n",
       "      <td>1950.0</td>\n",
       "      <td>0.0</td>\n",
       "      <td>0.0</td>\n",
       "      <td>0.0</td>\n",
       "    </tr>\n",
       "    <tr>\n",
       "      <th>2</th>\n",
       "      <td>1000</td>\n",
       "      <td>7.0</td>\n",
       "      <td>ultra</td>\n",
       "      <td>1950.0</td>\n",
       "      <td>0.0</td>\n",
       "      <td>0.0</td>\n",
       "      <td>0.0</td>\n",
       "    </tr>\n",
       "    <tr>\n",
       "      <th>3</th>\n",
       "      <td>1000</td>\n",
       "      <td>8.0</td>\n",
       "      <td>ultra</td>\n",
       "      <td>1950.0</td>\n",
       "      <td>0.0</td>\n",
       "      <td>0.0</td>\n",
       "      <td>0.0</td>\n",
       "    </tr>\n",
       "    <tr>\n",
       "      <th>4</th>\n",
       "      <td>1000</td>\n",
       "      <td>9.0</td>\n",
       "      <td>ultra</td>\n",
       "      <td>1950.0</td>\n",
       "      <td>0.0</td>\n",
       "      <td>0.0</td>\n",
       "      <td>0.0</td>\n",
       "    </tr>\n",
       "    <tr>\n",
       "      <th>...</th>\n",
       "      <td>...</td>\n",
       "      <td>...</td>\n",
       "      <td>...</td>\n",
       "      <td>...</td>\n",
       "      <td>...</td>\n",
       "      <td>...</td>\n",
       "      <td>...</td>\n",
       "    </tr>\n",
       "    <tr>\n",
       "      <th>3209</th>\n",
       "      <td>1273</td>\n",
       "      <td>11.0</td>\n",
       "      <td>ultra</td>\n",
       "      <td>1950.0</td>\n",
       "      <td>0.0</td>\n",
       "      <td>0.0</td>\n",
       "      <td>0.0</td>\n",
       "    </tr>\n",
       "    <tr>\n",
       "      <th>3210</th>\n",
       "      <td>1273</td>\n",
       "      <td>12.0</td>\n",
       "      <td>ultra</td>\n",
       "      <td>1950.0</td>\n",
       "      <td>0.0</td>\n",
       "      <td>0.0</td>\n",
       "      <td>0.0</td>\n",
       "    </tr>\n",
       "    <tr>\n",
       "      <th>3211</th>\n",
       "      <td>1377</td>\n",
       "      <td>2.0</td>\n",
       "      <td>ultra</td>\n",
       "      <td>1950.0</td>\n",
       "      <td>0.0</td>\n",
       "      <td>0.0</td>\n",
       "      <td>0.0</td>\n",
       "    </tr>\n",
       "    <tr>\n",
       "      <th>3212</th>\n",
       "      <td>1392</td>\n",
       "      <td>2.0</td>\n",
       "      <td>ultra</td>\n",
       "      <td>1950.0</td>\n",
       "      <td>0.0</td>\n",
       "      <td>0.0</td>\n",
       "      <td>0.0</td>\n",
       "    </tr>\n",
       "    <tr>\n",
       "      <th>3213</th>\n",
       "      <td>1446</td>\n",
       "      <td>8.0</td>\n",
       "      <td>smart</td>\n",
       "      <td>550.0</td>\n",
       "      <td>0.0</td>\n",
       "      <td>0.0</td>\n",
       "      <td>0.0</td>\n",
       "    </tr>\n",
       "  </tbody>\n",
       "</table>\n",
       "<p>3214 rows × 7 columns</p>\n",
       "</div>"
      ],
      "text/plain": [
       "      user_id  month tariff_x  rub_monthly_fee_x  price_inet  price_messages  \\\n",
       "0        1000    5.0    ultra             1950.0         0.0             0.0   \n",
       "1        1000    6.0    ultra             1950.0         0.0             0.0   \n",
       "2        1000    7.0    ultra             1950.0         0.0             0.0   \n",
       "3        1000    8.0    ultra             1950.0         0.0             0.0   \n",
       "4        1000    9.0    ultra             1950.0         0.0             0.0   \n",
       "...       ...    ...      ...                ...         ...             ...   \n",
       "3209     1273   11.0    ultra             1950.0         0.0             0.0   \n",
       "3210     1273   12.0    ultra             1950.0         0.0             0.0   \n",
       "3211     1377    2.0    ultra             1950.0         0.0             0.0   \n",
       "3212     1392    2.0    ultra             1950.0         0.0             0.0   \n",
       "3213     1446    8.0    smart              550.0         0.0             0.0   \n",
       "\n",
       "      price_calls  \n",
       "0             0.0  \n",
       "1             0.0  \n",
       "2             0.0  \n",
       "3             0.0  \n",
       "4             0.0  \n",
       "...           ...  \n",
       "3209          0.0  \n",
       "3210          0.0  \n",
       "3211          0.0  \n",
       "3212          0.0  \n",
       "3213          0.0  \n",
       "\n",
       "[3214 rows x 7 columns]"
      ]
     },
     "execution_count": 39,
     "metadata": {},
     "output_type": "execute_result"
    }
   ],
   "source": [
    "total = total[['user_id','month','tariff_x','rub_monthly_fee_x','price_inet','price_messages','price_calls']]\n",
    "total"
   ]
  },
  {
   "cell_type": "markdown",
   "metadata": {},
   "source": [
    "Заменили недостающие данные по названию тарифа и месячной стоимости, которые возникли при объединении датафреймов."
   ]
  },
  {
   "cell_type": "markdown",
   "metadata": {},
   "source": [
    "Теперь посчитаем затраты каждого клиента в месяц, с учетом абнонентской платы и платы за услуги сверх лимита по условиям тарифа, если таковые имеются:"
   ]
  },
  {
   "cell_type": "code",
   "execution_count": 40,
   "metadata": {
    "scrolled": true
   },
   "outputs": [
    {
     "name": "stderr",
     "output_type": "stream",
     "text": [
      "/tmp/ipykernel_36/2194486047.py:1: SettingWithCopyWarning: \n",
      "A value is trying to be set on a copy of a slice from a DataFrame.\n",
      "Try using .loc[row_indexer,col_indexer] = value instead\n",
      "\n",
      "See the caveats in the documentation: https://pandas.pydata.org/pandas-docs/stable/user_guide/indexing.html#returning-a-view-versus-a-copy\n",
      "  total['final_price'] = total['rub_monthly_fee_x'] + total['price_inet'] + total['price_messages'] + total['price_calls']\n"
     ]
    },
    {
     "data": {
      "text/html": [
       "<div>\n",
       "<style scoped>\n",
       "    .dataframe tbody tr th:only-of-type {\n",
       "        vertical-align: middle;\n",
       "    }\n",
       "\n",
       "    .dataframe tbody tr th {\n",
       "        vertical-align: top;\n",
       "    }\n",
       "\n",
       "    .dataframe thead th {\n",
       "        text-align: right;\n",
       "    }\n",
       "</style>\n",
       "<table border=\"1\" class=\"dataframe\">\n",
       "  <thead>\n",
       "    <tr style=\"text-align: right;\">\n",
       "      <th></th>\n",
       "      <th>user_id</th>\n",
       "      <th>month</th>\n",
       "      <th>tariff_x</th>\n",
       "      <th>rub_monthly_fee_x</th>\n",
       "      <th>price_inet</th>\n",
       "      <th>price_messages</th>\n",
       "      <th>price_calls</th>\n",
       "      <th>final_price</th>\n",
       "    </tr>\n",
       "  </thead>\n",
       "  <tbody>\n",
       "    <tr>\n",
       "      <th>0</th>\n",
       "      <td>1000</td>\n",
       "      <td>5.0</td>\n",
       "      <td>ultra</td>\n",
       "      <td>1950.0</td>\n",
       "      <td>0.0</td>\n",
       "      <td>0.0</td>\n",
       "      <td>0.0</td>\n",
       "      <td>1950.0</td>\n",
       "    </tr>\n",
       "    <tr>\n",
       "      <th>1</th>\n",
       "      <td>1000</td>\n",
       "      <td>6.0</td>\n",
       "      <td>ultra</td>\n",
       "      <td>1950.0</td>\n",
       "      <td>0.0</td>\n",
       "      <td>0.0</td>\n",
       "      <td>0.0</td>\n",
       "      <td>1950.0</td>\n",
       "    </tr>\n",
       "    <tr>\n",
       "      <th>2</th>\n",
       "      <td>1000</td>\n",
       "      <td>7.0</td>\n",
       "      <td>ultra</td>\n",
       "      <td>1950.0</td>\n",
       "      <td>0.0</td>\n",
       "      <td>0.0</td>\n",
       "      <td>0.0</td>\n",
       "      <td>1950.0</td>\n",
       "    </tr>\n",
       "    <tr>\n",
       "      <th>3</th>\n",
       "      <td>1000</td>\n",
       "      <td>8.0</td>\n",
       "      <td>ultra</td>\n",
       "      <td>1950.0</td>\n",
       "      <td>0.0</td>\n",
       "      <td>0.0</td>\n",
       "      <td>0.0</td>\n",
       "      <td>1950.0</td>\n",
       "    </tr>\n",
       "    <tr>\n",
       "      <th>4</th>\n",
       "      <td>1000</td>\n",
       "      <td>9.0</td>\n",
       "      <td>ultra</td>\n",
       "      <td>1950.0</td>\n",
       "      <td>0.0</td>\n",
       "      <td>0.0</td>\n",
       "      <td>0.0</td>\n",
       "      <td>1950.0</td>\n",
       "    </tr>\n",
       "    <tr>\n",
       "      <th>...</th>\n",
       "      <td>...</td>\n",
       "      <td>...</td>\n",
       "      <td>...</td>\n",
       "      <td>...</td>\n",
       "      <td>...</td>\n",
       "      <td>...</td>\n",
       "      <td>...</td>\n",
       "      <td>...</td>\n",
       "    </tr>\n",
       "    <tr>\n",
       "      <th>3209</th>\n",
       "      <td>1273</td>\n",
       "      <td>11.0</td>\n",
       "      <td>ultra</td>\n",
       "      <td>1950.0</td>\n",
       "      <td>0.0</td>\n",
       "      <td>0.0</td>\n",
       "      <td>0.0</td>\n",
       "      <td>1950.0</td>\n",
       "    </tr>\n",
       "    <tr>\n",
       "      <th>3210</th>\n",
       "      <td>1273</td>\n",
       "      <td>12.0</td>\n",
       "      <td>ultra</td>\n",
       "      <td>1950.0</td>\n",
       "      <td>0.0</td>\n",
       "      <td>0.0</td>\n",
       "      <td>0.0</td>\n",
       "      <td>1950.0</td>\n",
       "    </tr>\n",
       "    <tr>\n",
       "      <th>3211</th>\n",
       "      <td>1377</td>\n",
       "      <td>2.0</td>\n",
       "      <td>ultra</td>\n",
       "      <td>1950.0</td>\n",
       "      <td>0.0</td>\n",
       "      <td>0.0</td>\n",
       "      <td>0.0</td>\n",
       "      <td>1950.0</td>\n",
       "    </tr>\n",
       "    <tr>\n",
       "      <th>3212</th>\n",
       "      <td>1392</td>\n",
       "      <td>2.0</td>\n",
       "      <td>ultra</td>\n",
       "      <td>1950.0</td>\n",
       "      <td>0.0</td>\n",
       "      <td>0.0</td>\n",
       "      <td>0.0</td>\n",
       "      <td>1950.0</td>\n",
       "    </tr>\n",
       "    <tr>\n",
       "      <th>3213</th>\n",
       "      <td>1446</td>\n",
       "      <td>8.0</td>\n",
       "      <td>smart</td>\n",
       "      <td>550.0</td>\n",
       "      <td>0.0</td>\n",
       "      <td>0.0</td>\n",
       "      <td>0.0</td>\n",
       "      <td>550.0</td>\n",
       "    </tr>\n",
       "  </tbody>\n",
       "</table>\n",
       "<p>3214 rows × 8 columns</p>\n",
       "</div>"
      ],
      "text/plain": [
       "      user_id  month tariff_x  rub_monthly_fee_x  price_inet  price_messages  \\\n",
       "0        1000    5.0    ultra             1950.0         0.0             0.0   \n",
       "1        1000    6.0    ultra             1950.0         0.0             0.0   \n",
       "2        1000    7.0    ultra             1950.0         0.0             0.0   \n",
       "3        1000    8.0    ultra             1950.0         0.0             0.0   \n",
       "4        1000    9.0    ultra             1950.0         0.0             0.0   \n",
       "...       ...    ...      ...                ...         ...             ...   \n",
       "3209     1273   11.0    ultra             1950.0         0.0             0.0   \n",
       "3210     1273   12.0    ultra             1950.0         0.0             0.0   \n",
       "3211     1377    2.0    ultra             1950.0         0.0             0.0   \n",
       "3212     1392    2.0    ultra             1950.0         0.0             0.0   \n",
       "3213     1446    8.0    smart              550.0         0.0             0.0   \n",
       "\n",
       "      price_calls  final_price  \n",
       "0             0.0       1950.0  \n",
       "1             0.0       1950.0  \n",
       "2             0.0       1950.0  \n",
       "3             0.0       1950.0  \n",
       "4             0.0       1950.0  \n",
       "...           ...          ...  \n",
       "3209          0.0       1950.0  \n",
       "3210          0.0       1950.0  \n",
       "3211          0.0       1950.0  \n",
       "3212          0.0       1950.0  \n",
       "3213          0.0        550.0  \n",
       "\n",
       "[3214 rows x 8 columns]"
      ]
     },
     "execution_count": 40,
     "metadata": {},
     "output_type": "execute_result"
    }
   ],
   "source": [
    "total['final_price'] = total['rub_monthly_fee_x'] + total['price_inet'] + total['price_messages'] + total['price_calls']\n",
    "total"
   ]
  },
  {
   "cell_type": "code",
   "execution_count": 41,
   "metadata": {},
   "outputs": [
    {
     "data": {
      "text/html": [
       "<div>\n",
       "<style scoped>\n",
       "    .dataframe tbody tr th:only-of-type {\n",
       "        vertical-align: middle;\n",
       "    }\n",
       "\n",
       "    .dataframe tbody tr th {\n",
       "        vertical-align: top;\n",
       "    }\n",
       "\n",
       "    .dataframe thead th {\n",
       "        text-align: right;\n",
       "    }\n",
       "</style>\n",
       "<table border=\"1\" class=\"dataframe\">\n",
       "  <thead>\n",
       "    <tr style=\"text-align: right;\">\n",
       "      <th></th>\n",
       "      <th>tariff</th>\n",
       "      <th>final_price_sum</th>\n",
       "      <th>count</th>\n",
       "      <th>mean</th>\n",
       "    </tr>\n",
       "  </thead>\n",
       "  <tbody>\n",
       "    <tr>\n",
       "      <th>0</th>\n",
       "      <td>smart</td>\n",
       "      <td>2875351.0</td>\n",
       "      <td>2229</td>\n",
       "      <td>1289.973531</td>\n",
       "    </tr>\n",
       "    <tr>\n",
       "      <th>1</th>\n",
       "      <td>ultra</td>\n",
       "      <td>2039100.0</td>\n",
       "      <td>985</td>\n",
       "      <td>2070.152284</td>\n",
       "    </tr>\n",
       "  </tbody>\n",
       "</table>\n",
       "</div>"
      ],
      "text/plain": [
       "  tariff  final_price_sum  count         mean\n",
       "0  smart        2875351.0   2229  1289.973531\n",
       "1  ultra        2039100.0    985  2070.152284"
      ]
     },
     "execution_count": 41,
     "metadata": {},
     "output_type": "execute_result"
    }
   ],
   "source": [
    "total_p = total.pivot_table(index='tariff_x', values=['final_price'], aggfunc=['sum', 'count', 'mean']).reset_index()\n",
    "total_p.columns=['tariff','final_price_sum','count', 'mean']\n",
    "total_p"
   ]
  },
  {
   "cell_type": "markdown",
   "metadata": {},
   "source": [
    "Тариф **smart** приносит больше дохода, количество пользователей в 2 раза выше, но средний чек ниже, чем у тарифа **ultra**"
   ]
  },
  {
   "cell_type": "markdown",
   "metadata": {},
   "source": [
    "## 3. Проанализируем данные\n",
    "\n",
    "Опишем поведение клиентов оператора, исходя из выборки. Сколько минут разговора, сколько сообщений и какой объём интернет-трафика требуется пользователям каждого тарифа в месяц. Посчитаем среднее количество, дисперсию и стандартное отклонение. Построим гистограммы. Опишим распределения"
   ]
  },
  {
   "cell_type": "markdown",
   "metadata": {},
   "source": [
    "Проанализируем базу со **звонками:**"
   ]
  },
  {
   "cell_type": "code",
   "execution_count": 42,
   "metadata": {
    "scrolled": true
   },
   "outputs": [
    {
     "data": {
      "text/html": [
       "<div>\n",
       "<style scoped>\n",
       "    .dataframe tbody tr th:only-of-type {\n",
       "        vertical-align: middle;\n",
       "    }\n",
       "\n",
       "    .dataframe tbody tr th {\n",
       "        vertical-align: top;\n",
       "    }\n",
       "\n",
       "    .dataframe thead th {\n",
       "        text-align: right;\n",
       "    }\n",
       "</style>\n",
       "<table border=\"1\" class=\"dataframe\">\n",
       "  <thead>\n",
       "    <tr style=\"text-align: right;\">\n",
       "      <th></th>\n",
       "      <th>tariff</th>\n",
       "      <th>duration</th>\n",
       "    </tr>\n",
       "  </thead>\n",
       "  <tbody>\n",
       "    <tr>\n",
       "      <th>0</th>\n",
       "      <td>smart</td>\n",
       "      <td>419.062978</td>\n",
       "    </tr>\n",
       "    <tr>\n",
       "      <th>1</th>\n",
       "      <td>ultra</td>\n",
       "      <td>545.451104</td>\n",
       "    </tr>\n",
       "  </tbody>\n",
       "</table>\n",
       "</div>"
      ],
      "text/plain": [
       "  tariff    duration\n",
       "0  smart  419.062978\n",
       "1  ultra  545.451104"
      ]
     },
     "execution_count": 42,
     "metadata": {},
     "output_type": "execute_result"
    }
   ],
   "source": [
    "final_calls.pivot_table(index='tariff', values='duration', aggfunc='mean').reset_index()"
   ]
  },
  {
   "cell_type": "markdown",
   "metadata": {},
   "source": [
    "В среднем пользователи тарифа **smart** говорят 419 минут в месяц, а пользователи тарифа **ultra** 545 минут в месяц."
   ]
  },
  {
   "cell_type": "markdown",
   "metadata": {},
   "source": [
    "Посчитаем дисперсию значений столбца **duration** для тарифа **smart**:"
   ]
  },
  {
   "cell_type": "code",
   "execution_count": 43,
   "metadata": {},
   "outputs": [
    {
     "data": {
      "text/plain": [
       "35828.06530953033"
      ]
     },
     "execution_count": 43,
     "metadata": {},
     "output_type": "execute_result"
    }
   ],
   "source": [
    "variance_calls_smart = np.var(final_calls[final_calls['tariff'] =='smart']['duration'])\n",
    "variance_calls_smart"
   ]
  },
  {
   "cell_type": "markdown",
   "metadata": {},
   "source": [
    "Посчитаем дисперсию значений столбца **duration** для тарифа **ultra**:"
   ]
  },
  {
   "cell_type": "code",
   "execution_count": 44,
   "metadata": {},
   "outputs": [
    {
     "data": {
      "text/plain": [
       "94104.36117385984"
      ]
     },
     "execution_count": 44,
     "metadata": {},
     "output_type": "execute_result"
    }
   ],
   "source": [
    "variance_calls_ultra = np.var(final_calls[final_calls['tariff'] =='ultra']['duration'])\n",
    "variance_calls_ultra"
   ]
  },
  {
   "cell_type": "markdown",
   "metadata": {},
   "source": [
    "У тарифа **ultra** дисперсия выше почти в 3 раза!"
   ]
  },
  {
   "cell_type": "markdown",
   "metadata": {},
   "source": [
    "Посчитаем стандартное отклонение:"
   ]
  },
  {
   "cell_type": "code",
   "execution_count": 45,
   "metadata": {},
   "outputs": [
    {
     "data": {
      "text/plain": [
       "189.2830296395594"
      ]
     },
     "execution_count": 45,
     "metadata": {},
     "output_type": "execute_result"
    }
   ],
   "source": [
    "standard_deviation_calls_smart = np.std(final_calls[final_calls['tariff'] =='smart']['duration'])\n",
    "standard_deviation_calls_smart"
   ]
  },
  {
   "cell_type": "code",
   "execution_count": 46,
   "metadata": {
    "scrolled": true
   },
   "outputs": [
    {
     "data": {
      "text/plain": [
       "306.76434143143143"
      ]
     },
     "execution_count": 46,
     "metadata": {},
     "output_type": "execute_result"
    }
   ],
   "source": [
    "standard_deviation_calls_ultra = np.sqrt(variance_calls_ultra)\n",
    "standard_deviation_calls_ultra"
   ]
  },
  {
   "cell_type": "markdown",
   "metadata": {},
   "source": [
    "Ожидаемо, стандартное отклонение выше у тарифа **ultra**"
   ]
  },
  {
   "cell_type": "code",
   "execution_count": 47,
   "metadata": {
    "scrolled": false
   },
   "outputs": [
    {
     "data": {
      "image/png": "[encoded data removed]",
      "text/plain": [
       "<Figure size 432x288 with 1 Axes>"
      ]
     },
     "metadata": {
      "needs_background": "light"
     },
     "output_type": "display_data"
    }
   ],
   "source": [
    "final_calls[final_calls['tariff'] =='smart']['duration'].hist(bins=30);"
   ]
  },
  {
   "cell_type": "code",
   "execution_count": 48,
   "metadata": {},
   "outputs": [
    {
     "data": {
      "image/png": "[encoded data removed]",
      "text/plain": [
       "<Figure size 432x288 with 1 Axes>"
      ]
     },
     "metadata": {
      "needs_background": "light"
     },
     "output_type": "display_data"
    }
   ],
   "source": [
    "final_calls[final_calls['tariff'] =='ultra']['duration'].hist(bins=30);"
   ]
  },
  {
   "cell_type": "markdown",
   "metadata": {},
   "source": [
    "Гистограмма наглядно показывает симметричное распределение у обоих тарифов."
   ]
  },
  {
   "cell_type": "markdown",
   "metadata": {},
   "source": [
    "Проанализруем базу с **сообщениями:**"
   ]
  },
  {
   "cell_type": "code",
   "execution_count": 49,
   "metadata": {},
   "outputs": [
    {
     "data": {
      "text/html": [
       "<div>\n",
       "<style scoped>\n",
       "    .dataframe tbody tr th:only-of-type {\n",
       "        vertical-align: middle;\n",
       "    }\n",
       "\n",
       "    .dataframe tbody tr th {\n",
       "        vertical-align: top;\n",
       "    }\n",
       "\n",
       "    .dataframe thead th {\n",
       "        text-align: right;\n",
       "    }\n",
       "</style>\n",
       "<table border=\"1\" class=\"dataframe\">\n",
       "  <thead>\n",
       "    <tr style=\"text-align: right;\">\n",
       "      <th></th>\n",
       "      <th>tariff</th>\n",
       "      <th>message_date</th>\n",
       "    </tr>\n",
       "  </thead>\n",
       "  <tbody>\n",
       "    <tr>\n",
       "      <th>0</th>\n",
       "      <td>smart</td>\n",
       "      <td>74413</td>\n",
       "    </tr>\n",
       "    <tr>\n",
       "      <th>1</th>\n",
       "      <td>ultra</td>\n",
       "      <td>48623</td>\n",
       "    </tr>\n",
       "  </tbody>\n",
       "</table>\n",
       "</div>"
      ],
      "text/plain": [
       "  tariff  message_date\n",
       "0  smart         74413\n",
       "1  ultra         48623"
      ]
     },
     "execution_count": 49,
     "metadata": {},
     "output_type": "execute_result"
    }
   ],
   "source": [
    "final_messages.pivot_table(index='tariff', values='message_date', aggfunc='sum').reset_index()"
   ]
  },
  {
   "cell_type": "markdown",
   "metadata": {},
   "source": [
    "На тарифе **smart** люди явно чаще пользуются отправкой сообщений."
   ]
  },
  {
   "cell_type": "markdown",
   "metadata": {},
   "source": [
    "Посчитаем дисперсию значений для столбца **message_date** тарифа **smart:**"
   ]
  },
  {
   "cell_type": "code",
   "execution_count": 50,
   "metadata": {},
   "outputs": [
    {
     "data": {
      "text/plain": [
       "717.220843110227"
      ]
     },
     "execution_count": 50,
     "metadata": {},
     "output_type": "execute_result"
    }
   ],
   "source": [
    "variance_messages_smart = np.var(final_messages[final_messages['tariff'] =='smart']['message_date'])\n",
    "variance_messages_smart"
   ]
  },
  {
   "cell_type": "markdown",
   "metadata": {},
   "source": [
    "Посчитаем дисперсию значений для столбца **message_date** тарифа **ultra:**"
   ]
  },
  {
   "cell_type": "code",
   "execution_count": 51,
   "metadata": {},
   "outputs": [
    {
     "data": {
      "text/plain": [
       "2107.0055235156838"
      ]
     },
     "execution_count": 51,
     "metadata": {},
     "output_type": "execute_result"
    }
   ],
   "source": [
    "variance_messages_ultra = np.var(final_messages[final_messages['tariff'] =='ultra']['message_date'])\n",
    "variance_messages_ultra"
   ]
  },
  {
   "cell_type": "markdown",
   "metadata": {},
   "source": [
    "Посчитаем стандартное отклонение:"
   ]
  },
  {
   "cell_type": "code",
   "execution_count": 52,
   "metadata": {},
   "outputs": [
    {
     "data": {
      "text/plain": [
       "26.780979129042816"
      ]
     },
     "execution_count": 52,
     "metadata": {},
     "output_type": "execute_result"
    }
   ],
   "source": [
    "standard_deviation_messages_smart = np.std(final_messages[final_messages['tariff'] =='smart']['message_date'])\n",
    "standard_deviation_messages_smart"
   ]
  },
  {
   "cell_type": "code",
   "execution_count": 53,
   "metadata": {},
   "outputs": [
    {
     "data": {
      "text/plain": [
       "45.90212983637779"
      ]
     },
     "execution_count": 53,
     "metadata": {},
     "output_type": "execute_result"
    }
   ],
   "source": [
    "standard_deviation_messages_ultra = np.std(final_messages[final_messages['tariff'] =='ultra']['message_date'])\n",
    "standard_deviation_messages_ultra"
   ]
  },
  {
   "cell_type": "markdown",
   "metadata": {},
   "source": [
    "И дисперсия и стандартное отклонение выше у тарифа **ultra.**"
   ]
  },
  {
   "cell_type": "code",
   "execution_count": 54,
   "metadata": {
    "scrolled": false
   },
   "outputs": [
    {
     "data": {
      "image/png": "[encoded data removed]",
      "text/plain": [
       "<Figure size 432x288 with 1 Axes>"
      ]
     },
     "metadata": {
      "needs_background": "light"
     },
     "output_type": "display_data"
    }
   ],
   "source": [
    "final_messages[final_messages['tariff'] =='smart']['message_date'].hist(bins=15);"
   ]
  },
  {
   "cell_type": "code",
   "execution_count": 55,
   "metadata": {},
   "outputs": [
    {
     "data": {
      "image/png": "[encoded data removed]",
      "text/plain": [
       "<Figure size 432x288 with 1 Axes>"
      ]
     },
     "metadata": {
      "needs_background": "light"
     },
     "output_type": "display_data"
    }
   ],
   "source": [
    "final_messages[final_messages['tariff'] =='ultra']['message_date'].hist(bins=100);"
   ]
  },
  {
   "cell_type": "markdown",
   "metadata": {},
   "source": [
    "Здесь мы видим, что датасет по столбцу с сообщениями скошен влево в обоих тарифах"
   ]
  },
  {
   "cell_type": "markdown",
   "metadata": {},
   "source": [
    "Проанализруем базу с **интернет трафиком:**"
   ]
  },
  {
   "cell_type": "code",
   "execution_count": 56,
   "metadata": {},
   "outputs": [],
   "source": [
    "it = final_inet.pivot_table(index='tariff', values='mb_used', aggfunc='sum').reset_index()"
   ]
  },
  {
   "cell_type": "code",
   "execution_count": 57,
   "metadata": {},
   "outputs": [],
   "source": [
    "it['mb_used'] = it['mb_used'] / 1024 "
   ]
  },
  {
   "cell_type": "code",
   "execution_count": 58,
   "metadata": {},
   "outputs": [
    {
     "data": {
      "text/html": [
       "<div>\n",
       "<style scoped>\n",
       "    .dataframe tbody tr th:only-of-type {\n",
       "        vertical-align: middle;\n",
       "    }\n",
       "\n",
       "    .dataframe tbody tr th {\n",
       "        vertical-align: top;\n",
       "    }\n",
       "\n",
       "    .dataframe thead th {\n",
       "        text-align: right;\n",
       "    }\n",
       "</style>\n",
       "<table border=\"1\" class=\"dataframe\">\n",
       "  <thead>\n",
       "    <tr style=\"text-align: right;\">\n",
       "      <th></th>\n",
       "      <th>tariff</th>\n",
       "      <th>gb_used</th>\n",
       "    </tr>\n",
       "  </thead>\n",
       "  <tbody>\n",
       "    <tr>\n",
       "      <th>0</th>\n",
       "      <td>smart</td>\n",
       "      <td>35281.733008</td>\n",
       "    </tr>\n",
       "    <tr>\n",
       "      <th>1</th>\n",
       "      <td>ultra</td>\n",
       "      <td>18727.317510</td>\n",
       "    </tr>\n",
       "  </tbody>\n",
       "</table>\n",
       "</div>"
      ],
      "text/plain": [
       "  tariff       gb_used\n",
       "0  smart  35281.733008\n",
       "1  ultra  18727.317510"
      ]
     },
     "execution_count": 58,
     "metadata": {},
     "output_type": "execute_result"
    }
   ],
   "source": [
    "it.columns = ['tariff', 'gb_used']\n",
    "it"
   ]
  },
  {
   "cell_type": "markdown",
   "metadata": {},
   "source": [
    "На тарифе **smart** пользователи почти в 2 раза больше потребляют интернет трафика, чем на тарифе **ultra**"
   ]
  },
  {
   "cell_type": "markdown",
   "metadata": {},
   "source": [
    "Посчитаем дисперсию значений для столбцов **mb_used** для обоих тарифов:"
   ]
  },
  {
   "cell_type": "code",
   "execution_count": 59,
   "metadata": {},
   "outputs": [
    {
     "data": {
      "text/plain": [
       "34344529.80091768"
      ]
     },
     "execution_count": 59,
     "metadata": {},
     "output_type": "execute_result"
    }
   ],
   "source": [
    "variance_inet_smart = np.var(final_inet[final_inet['tariff'] =='smart']['mb_used'])\n",
    "variance_inet_smart"
   ]
  },
  {
   "cell_type": "code",
   "execution_count": 60,
   "metadata": {},
   "outputs": [
    {
     "data": {
      "text/plain": [
       "98762849.72293653"
      ]
     },
     "execution_count": 60,
     "metadata": {},
     "output_type": "execute_result"
    }
   ],
   "source": [
    "variance_inet_ultra = np.var(final_inet[final_inet['tariff'] =='ultra']['mb_used'])\n",
    "variance_inet_ultra"
   ]
  },
  {
   "cell_type": "markdown",
   "metadata": {},
   "source": [
    "Посчитаем стандартное отклонение:"
   ]
  },
  {
   "cell_type": "code",
   "execution_count": 61,
   "metadata": {},
   "outputs": [
    {
     "data": {
      "text/plain": [
       "5860.420616382213"
      ]
     },
     "execution_count": 61,
     "metadata": {},
     "output_type": "execute_result"
    }
   ],
   "source": [
    "standard_deviation_inet_smart = np.std(final_inet[final_inet['tariff'] =='smart']['mb_used'])\n",
    "standard_deviation_inet_smart"
   ]
  },
  {
   "cell_type": "code",
   "execution_count": 62,
   "metadata": {},
   "outputs": [
    {
     "data": {
      "text/plain": [
       "9937.949975872112"
      ]
     },
     "execution_count": 62,
     "metadata": {},
     "output_type": "execute_result"
    }
   ],
   "source": [
    "standard_deviation_inet_ultra = np.std(final_inet[final_inet['tariff'] =='ultra']['mb_used'])\n",
    "standard_deviation_inet_ultra"
   ]
  },
  {
   "cell_type": "markdown",
   "metadata": {},
   "source": [
    "Дисперсия и стандартное отклонение выше у тарифа **ultra**"
   ]
  },
  {
   "cell_type": "code",
   "execution_count": 63,
   "metadata": {},
   "outputs": [
    {
     "data": {
      "image/png": "[encoded data removed]",
      "text/plain": [
       "<Figure size 432x288 with 1 Axes>"
      ]
     },
     "metadata": {
      "needs_background": "light"
     },
     "output_type": "display_data"
    }
   ],
   "source": [
    "final_inet[final_inet['tariff'] =='ultra']['mb_used'].hist(bins=100);"
   ]
  },
  {
   "cell_type": "code",
   "execution_count": 64,
   "metadata": {},
   "outputs": [
    {
     "data": {
      "image/png": "[encoded data removed]",
      "text/plain": [
       "<Figure size 432x288 with 1 Axes>"
      ]
     },
     "metadata": {
      "needs_background": "light"
     },
     "output_type": "display_data"
    }
   ],
   "source": [
    "final_inet[final_inet['tariff'] =='smart']['mb_used'].hist(bins=100);"
   ]
  },
  {
   "cell_type": "markdown",
   "metadata": {},
   "source": [
    "Гистограмма расхода трафика показывает нам симметричное распределение у обоих тарифов."
   ]
  },
  {
   "cell_type": "markdown",
   "metadata": {},
   "source": [
    "##  4. Проверим гипотезы\n",
    "\n",
    "1. Средняя выручка пользователей тарифов **«Ультра» и «Смарт»** различаются.   \n",
    "2. Средняя выручка пользователи из **Москвы** отличается от выручки пользователей из других регионов.    \n",
    "\n",
    "Пороговое значение **alpha** зададим **0.05**"
   ]
  },
  {
   "cell_type": "markdown",
   "metadata": {},
   "source": [
    "Сформируем **нулевую** и **альтернативную** гипотезу для каждого задания:\n",
    "1. **Нулевая** гипотеза гласит - средняя выручка пользователей тарифов тарифов **ultra** и **smart** не различаются.  \n",
    "   **Альтернативная** гипотеза - различаются.\n",
    "2. **Нулевая** гипотеза гласит - средняя выручка пользователей из Москвы одинакова с выручкой пользователей из других регионов. **Альтернативная** гипотеза - различаются."
   ]
  },
  {
   "cell_type": "markdown",
   "metadata": {},
   "source": [
    "Различается ли выручка спользователей разных тарифов:"
   ]
  },
  {
   "cell_type": "code",
   "execution_count": 65,
   "metadata": {},
   "outputs": [
    {
     "name": "stdout",
     "output_type": "stream",
     "text": [
      "p-значение:  4.2606313931076085e-250\n",
      "Отвергаем нулевую гипотезу\n"
     ]
    }
   ],
   "source": [
    "ultra = total[total['tariff_x'] =='ultra']['final_price']\n",
    "smart = total[total['tariff_x'] =='smart']['final_price']\n",
    "alpha = 0.05\n",
    "results = st.ttest_ind(ultra, smart, equal_var = False)\n",
    "\n",
    "print('p-значение: ', results.pvalue)\n",
    "\n",
    "if results.pvalue < alpha:\n",
    "    print(\"Отвергаем нулевую гипотезу\")\n",
    "else:\n",
    "    print(\"Не получилось отвергнуть нулевую гипотезу\")"
   ]
  },
  {
   "cell_type": "markdown",
   "metadata": {},
   "source": [
    "Как мы видим средняя выручка пользователей тарифов «Ультра» и «Смарт»  действительно различаются, отвергаем нулевую гипотезу о равенстве."
   ]
  },
  {
   "cell_type": "markdown",
   "metadata": {},
   "source": [
    "Различается ли выручка в зависимости от города:"
   ]
  },
  {
   "cell_type": "code",
   "execution_count": 66,
   "metadata": {},
   "outputs": [
    {
     "data": {
      "text/html": [
       "<div>\n",
       "<style scoped>\n",
       "    .dataframe tbody tr th:only-of-type {\n",
       "        vertical-align: middle;\n",
       "    }\n",
       "\n",
       "    .dataframe tbody tr th {\n",
       "        vertical-align: top;\n",
       "    }\n",
       "\n",
       "    .dataframe thead th {\n",
       "        text-align: right;\n",
       "    }\n",
       "</style>\n",
       "<table border=\"1\" class=\"dataframe\">\n",
       "  <thead>\n",
       "    <tr style=\"text-align: right;\">\n",
       "      <th></th>\n",
       "      <th>user_id</th>\n",
       "      <th>month</th>\n",
       "      <th>tariff_x</th>\n",
       "      <th>rub_monthly_fee_x</th>\n",
       "      <th>price_inet</th>\n",
       "      <th>price_messages</th>\n",
       "      <th>price_calls</th>\n",
       "      <th>final_price</th>\n",
       "      <th>city</th>\n",
       "    </tr>\n",
       "  </thead>\n",
       "  <tbody>\n",
       "    <tr>\n",
       "      <th>0</th>\n",
       "      <td>1000</td>\n",
       "      <td>5.0</td>\n",
       "      <td>ultra</td>\n",
       "      <td>1950.0</td>\n",
       "      <td>0.0</td>\n",
       "      <td>0.0</td>\n",
       "      <td>0.0</td>\n",
       "      <td>1950.0</td>\n",
       "      <td>Краснодар</td>\n",
       "    </tr>\n",
       "    <tr>\n",
       "      <th>1</th>\n",
       "      <td>1000</td>\n",
       "      <td>6.0</td>\n",
       "      <td>ultra</td>\n",
       "      <td>1950.0</td>\n",
       "      <td>0.0</td>\n",
       "      <td>0.0</td>\n",
       "      <td>0.0</td>\n",
       "      <td>1950.0</td>\n",
       "      <td>Краснодар</td>\n",
       "    </tr>\n",
       "    <tr>\n",
       "      <th>2</th>\n",
       "      <td>1000</td>\n",
       "      <td>7.0</td>\n",
       "      <td>ultra</td>\n",
       "      <td>1950.0</td>\n",
       "      <td>0.0</td>\n",
       "      <td>0.0</td>\n",
       "      <td>0.0</td>\n",
       "      <td>1950.0</td>\n",
       "      <td>Краснодар</td>\n",
       "    </tr>\n",
       "    <tr>\n",
       "      <th>3</th>\n",
       "      <td>1000</td>\n",
       "      <td>8.0</td>\n",
       "      <td>ultra</td>\n",
       "      <td>1950.0</td>\n",
       "      <td>0.0</td>\n",
       "      <td>0.0</td>\n",
       "      <td>0.0</td>\n",
       "      <td>1950.0</td>\n",
       "      <td>Краснодар</td>\n",
       "    </tr>\n",
       "    <tr>\n",
       "      <th>4</th>\n",
       "      <td>1000</td>\n",
       "      <td>9.0</td>\n",
       "      <td>ultra</td>\n",
       "      <td>1950.0</td>\n",
       "      <td>0.0</td>\n",
       "      <td>0.0</td>\n",
       "      <td>0.0</td>\n",
       "      <td>1950.0</td>\n",
       "      <td>Краснодар</td>\n",
       "    </tr>\n",
       "    <tr>\n",
       "      <th>...</th>\n",
       "      <td>...</td>\n",
       "      <td>...</td>\n",
       "      <td>...</td>\n",
       "      <td>...</td>\n",
       "      <td>...</td>\n",
       "      <td>...</td>\n",
       "      <td>...</td>\n",
       "      <td>...</td>\n",
       "      <td>...</td>\n",
       "    </tr>\n",
       "    <tr>\n",
       "      <th>3209</th>\n",
       "      <td>1273</td>\n",
       "      <td>8.0</td>\n",
       "      <td>ultra</td>\n",
       "      <td>1950.0</td>\n",
       "      <td>0.0</td>\n",
       "      <td>0.0</td>\n",
       "      <td>0.0</td>\n",
       "      <td>1950.0</td>\n",
       "      <td>Курган</td>\n",
       "    </tr>\n",
       "    <tr>\n",
       "      <th>3210</th>\n",
       "      <td>1273</td>\n",
       "      <td>9.0</td>\n",
       "      <td>ultra</td>\n",
       "      <td>1950.0</td>\n",
       "      <td>0.0</td>\n",
       "      <td>0.0</td>\n",
       "      <td>0.0</td>\n",
       "      <td>1950.0</td>\n",
       "      <td>Курган</td>\n",
       "    </tr>\n",
       "    <tr>\n",
       "      <th>3211</th>\n",
       "      <td>1273</td>\n",
       "      <td>10.0</td>\n",
       "      <td>ultra</td>\n",
       "      <td>1950.0</td>\n",
       "      <td>0.0</td>\n",
       "      <td>0.0</td>\n",
       "      <td>0.0</td>\n",
       "      <td>1950.0</td>\n",
       "      <td>Курган</td>\n",
       "    </tr>\n",
       "    <tr>\n",
       "      <th>3212</th>\n",
       "      <td>1273</td>\n",
       "      <td>11.0</td>\n",
       "      <td>ultra</td>\n",
       "      <td>1950.0</td>\n",
       "      <td>0.0</td>\n",
       "      <td>0.0</td>\n",
       "      <td>0.0</td>\n",
       "      <td>1950.0</td>\n",
       "      <td>Курган</td>\n",
       "    </tr>\n",
       "    <tr>\n",
       "      <th>3213</th>\n",
       "      <td>1273</td>\n",
       "      <td>12.0</td>\n",
       "      <td>ultra</td>\n",
       "      <td>1950.0</td>\n",
       "      <td>0.0</td>\n",
       "      <td>0.0</td>\n",
       "      <td>0.0</td>\n",
       "      <td>1950.0</td>\n",
       "      <td>Курган</td>\n",
       "    </tr>\n",
       "  </tbody>\n",
       "</table>\n",
       "<p>3214 rows × 9 columns</p>\n",
       "</div>"
      ],
      "text/plain": [
       "      user_id  month tariff_x  rub_monthly_fee_x  price_inet  price_messages  \\\n",
       "0        1000    5.0    ultra             1950.0         0.0             0.0   \n",
       "1        1000    6.0    ultra             1950.0         0.0             0.0   \n",
       "2        1000    7.0    ultra             1950.0         0.0             0.0   \n",
       "3        1000    8.0    ultra             1950.0         0.0             0.0   \n",
       "4        1000    9.0    ultra             1950.0         0.0             0.0   \n",
       "...       ...    ...      ...                ...         ...             ...   \n",
       "3209     1273    8.0    ultra             1950.0         0.0             0.0   \n",
       "3210     1273    9.0    ultra             1950.0         0.0             0.0   \n",
       "3211     1273   10.0    ultra             1950.0         0.0             0.0   \n",
       "3212     1273   11.0    ultra             1950.0         0.0             0.0   \n",
       "3213     1273   12.0    ultra             1950.0         0.0             0.0   \n",
       "\n",
       "      price_calls  final_price       city  \n",
       "0             0.0       1950.0  Краснодар  \n",
       "1             0.0       1950.0  Краснодар  \n",
       "2             0.0       1950.0  Краснодар  \n",
       "3             0.0       1950.0  Краснодар  \n",
       "4             0.0       1950.0  Краснодар  \n",
       "...           ...          ...        ...  \n",
       "3209          0.0       1950.0     Курган  \n",
       "3210          0.0       1950.0     Курган  \n",
       "3211          0.0       1950.0     Курган  \n",
       "3212          0.0       1950.0     Курган  \n",
       "3213          0.0       1950.0     Курган  \n",
       "\n",
       "[3214 rows x 9 columns]"
      ]
     },
     "execution_count": 66,
     "metadata": {},
     "output_type": "execute_result"
    }
   ],
   "source": [
    "city_group = total.merge(users[['user_id','city']], on='user_id')\n",
    "city_group"
   ]
  },
  {
   "cell_type": "code",
   "execution_count": 67,
   "metadata": {},
   "outputs": [
    {
     "name": "stdout",
     "output_type": "stream",
     "text": [
      "p-значение:  0.5257376663729298\n",
      "Не получилось отвергнуть нулевую гипотезу\n"
     ]
    }
   ],
   "source": [
    "moscow = city_group[city_group['city'] =='Москва']['final_price']\n",
    "another = city_group[city_group['city'] !='Москва']['final_price']\n",
    "alpha = 0.05\n",
    "results = st.ttest_ind(moscow, another, equal_var = False)\n",
    "\n",
    "print('p-значение: ', results.pvalue)\n",
    "\n",
    "if results.pvalue < alpha:\n",
    "    print(\"Отвергаем нулевую гипотезу\")\n",
    "else:\n",
    "    print(\"Не получилось отвергнуть нулевую гипотезу\")"
   ]
  },
  {
   "cell_type": "markdown",
   "metadata": {},
   "source": [
    "Нулевая гипотеза о равенстве средних подтверждена, Москва или периферия - разницы нет."
   ]
  },
  {
   "cell_type": "markdown",
   "metadata": {},
   "source": [
    "## 5. Общий вывод"
   ]
  },
  {
   "cell_type": "code",
   "execution_count": 68,
   "metadata": {},
   "outputs": [
    {
     "data": {
      "text/html": [
       "<style  type=\"text/css\" >\n",
       "</style><table id=\"T_93a51_\" ><thead>    <tr>        <th class=\"col_heading level0 col0\" >tariff</th>        <th class=\"col_heading level0 col1\" >final_price_sum</th>        <th class=\"col_heading level0 col2\" >count</th>        <th class=\"col_heading level0 col3\" >mean</th>    </tr></thead><tbody>\n",
       "                <tr>\n",
       "                                <td id=\"T_93a51_row0_col0\" class=\"data row0 col0\" >smart</td>\n",
       "                        <td id=\"T_93a51_row0_col1\" class=\"data row0 col1\" >2875351.000000</td>\n",
       "                        <td id=\"T_93a51_row0_col2\" class=\"data row0 col2\" >2229</td>\n",
       "                        <td id=\"T_93a51_row0_col3\" class=\"data row0 col3\" >1289.973531</td>\n",
       "            </tr>\n",
       "            <tr>\n",
       "                                <td id=\"T_93a51_row1_col0\" class=\"data row1 col0\" >ultra</td>\n",
       "                        <td id=\"T_93a51_row1_col1\" class=\"data row1 col1\" >2039100.000000</td>\n",
       "                        <td id=\"T_93a51_row1_col2\" class=\"data row1 col2\" >985</td>\n",
       "                        <td id=\"T_93a51_row1_col3\" class=\"data row1 col3\" >2070.152284</td>\n",
       "            </tr>\n",
       "    </tbody></table>"
      ],
      "text/plain": [
       "<pandas.io.formats.style.Styler at 0x7fc1c2cfea90>"
      ]
     },
     "execution_count": 68,
     "metadata": {},
     "output_type": "execute_result"
    }
   ],
   "source": [
    "total_p = total_p.style.hide_index()\n",
    "total_p"
   ]
  },
  {
   "cell_type": "markdown",
   "metadata": {},
   "source": [
    "Тариф **smart** приносит больше прибыли, в основном за счет большего количества пользователей (больше, чем у **ultra** более чем в 2 раза), так же пользователи тарифа **smart** переплачивают(1290-550=740р) больше сверх стоимости тарифа.\n",
    "Пользователи тарифа **smart** много пользуются интернетом и отправляют больше сообщений, чем пользователи **ultra**.\n",
    "Абоненты **ultra** в основном много говорят, реже пользуются остальными услугами и зачастую не выходят за рамки ежемесячной стоимости тарифа в 1950 рублей."
   ]
  },
  {
   "cell_type": "code",
   "execution_count": null,
   "metadata": {},
   "outputs": [],
   "source": []
  }
 ],
 "metadata": {
  "ExecuteTimeLog": [
   {
    "duration": -474,
    "start_time": "2021-09-06T18:27:35.791Z"
   },
   {
    "duration": 2286,
    "start_time": "2021-09-06T18:27:35.927Z"
   },
   {
    "duration": 227,
    "start_time": "2021-09-06T18:29:18.488Z"
   },
   {
    "duration": 570,
    "start_time": "2021-09-06T18:31:17.747Z"
   },
   {
    "duration": 20,
    "start_time": "2021-09-06T18:31:26.848Z"
   },
   {
    "duration": 14,
    "start_time": "2021-09-06T18:31:34.632Z"
   },
   {
    "duration": 402,
    "start_time": "2021-09-07T06:30:22.642Z"
   },
   {
    "duration": 1345,
    "start_time": "2021-09-07T06:30:25.306Z"
   },
   {
    "duration": 29,
    "start_time": "2021-09-07T06:30:26.654Z"
   },
   {
    "duration": 393,
    "start_time": "2021-09-07T06:30:41.387Z"
   },
   {
    "duration": 636,
    "start_time": "2021-09-07T06:30:44.361Z"
   },
   {
    "duration": 25,
    "start_time": "2021-09-07T06:30:47.798Z"
   },
   {
    "duration": 108,
    "start_time": "2021-09-07T06:31:02.861Z"
   },
   {
    "duration": 99,
    "start_time": "2021-09-07T06:31:06.792Z"
   },
   {
    "duration": 159,
    "start_time": "2021-09-07T06:31:14.088Z"
   },
   {
    "duration": 63,
    "start_time": "2021-09-07T06:31:23.021Z"
   },
   {
    "duration": 9,
    "start_time": "2021-09-07T06:31:33.460Z"
   },
   {
    "duration": 11,
    "start_time": "2021-09-07T06:31:39.916Z"
   },
   {
    "duration": 419,
    "start_time": "2021-09-07T06:31:54.703Z"
   },
   {
    "duration": 340,
    "start_time": "2021-09-07T06:32:08.679Z"
   },
   {
    "duration": 408,
    "start_time": "2021-09-07T06:32:11.267Z"
   },
   {
    "duration": 588,
    "start_time": "2021-09-07T06:32:14.768Z"
   },
   {
    "duration": 338,
    "start_time": "2021-09-07T06:32:15.689Z"
   },
   {
    "duration": 19,
    "start_time": "2021-09-07T06:32:20.456Z"
   },
   {
    "duration": 396,
    "start_time": "2021-09-07T06:32:49.901Z"
   },
   {
    "duration": 9,
    "start_time": "2021-09-07T06:32:55.291Z"
   },
   {
    "duration": 6,
    "start_time": "2021-09-07T06:33:05.238Z"
   },
   {
    "duration": 6,
    "start_time": "2021-09-07T06:33:13.211Z"
   },
   {
    "duration": 522,
    "start_time": "2021-09-07T06:37:31.554Z"
   },
   {
    "duration": 606,
    "start_time": "2021-09-07T06:37:35.588Z"
   },
   {
    "duration": 258,
    "start_time": "2021-09-07T06:37:36.197Z"
   },
   {
    "duration": 22,
    "start_time": "2021-09-07T06:37:36.462Z"
   },
   {
    "duration": 385,
    "start_time": "2021-09-07T06:37:46.185Z"
   },
   {
    "duration": 16,
    "start_time": "2021-09-07T06:37:47.418Z"
   },
   {
    "duration": 963,
    "start_time": "2021-09-07T06:38:12.754Z"
   },
   {
    "duration": 25,
    "start_time": "2021-09-07T06:38:25.653Z"
   },
   {
    "duration": 19,
    "start_time": "2021-09-07T10:07:30.718Z"
   },
   {
    "duration": 15,
    "start_time": "2021-09-07T10:07:37.793Z"
   },
   {
    "duration": 16,
    "start_time": "2021-09-07T10:07:45.250Z"
   },
   {
    "duration": 15,
    "start_time": "2021-09-07T10:07:45.740Z"
   },
   {
    "duration": 398,
    "start_time": "2021-09-07T10:08:28.305Z"
   },
   {
    "duration": 5,
    "start_time": "2021-09-07T10:08:35.706Z"
   },
   {
    "duration": 7,
    "start_time": "2021-09-07T10:08:49.257Z"
   },
   {
    "duration": 9,
    "start_time": "2021-09-07T10:09:12.935Z"
   },
   {
    "duration": 7,
    "start_time": "2021-09-07T10:09:28.859Z"
   },
   {
    "duration": 27,
    "start_time": "2021-09-07T10:23:51.657Z"
   },
   {
    "duration": 296,
    "start_time": "2021-09-07T10:24:01.480Z"
   },
   {
    "duration": 39,
    "start_time": "2021-09-07T10:28:11.699Z"
   },
   {
    "duration": 461,
    "start_time": "2021-09-07T12:15:09.118Z"
   },
   {
    "duration": -9,
    "start_time": "2021-09-07T12:15:10.198Z"
   },
   {
    "duration": 12,
    "start_time": "2021-09-07T12:33:57.642Z"
   },
   {
    "duration": 1190,
    "start_time": "2021-09-07T12:34:57.801Z"
   },
   {
    "duration": 42,
    "start_time": "2021-09-07T12:35:23.430Z"
   },
   {
    "duration": 122,
    "start_time": "2021-09-07T18:27:31.228Z"
   },
   {
    "duration": 338,
    "start_time": "2021-09-09T09:13:38.535Z"
   },
   {
    "duration": 575,
    "start_time": "2021-09-09T09:13:40.725Z"
   },
   {
    "duration": 19,
    "start_time": "2021-09-09T09:13:41.302Z"
   },
   {
    "duration": 396,
    "start_time": "2021-09-09T09:14:24.347Z"
   },
   {
    "duration": 323,
    "start_time": "2021-09-09T09:14:30.554Z"
   },
   {
    "duration": 7,
    "start_time": "2021-09-09T09:14:39.648Z"
   },
   {
    "duration": 6,
    "start_time": "2021-09-09T09:14:50.553Z"
   },
   {
    "duration": 21,
    "start_time": "2021-09-09T09:15:07.384Z"
   },
   {
    "duration": 9,
    "start_time": "2021-09-09T09:15:27.945Z"
   },
   {
    "duration": 7,
    "start_time": "2021-09-09T09:15:35.503Z"
   },
   {
    "duration": 19,
    "start_time": "2021-09-09T09:15:46.285Z"
   },
   {
    "duration": 13,
    "start_time": "2021-09-09T09:16:00.595Z"
   },
   {
    "duration": 26,
    "start_time": "2021-09-09T09:16:14.644Z"
   },
   {
    "duration": 19,
    "start_time": "2021-09-09T09:16:26.856Z"
   },
   {
    "duration": 7,
    "start_time": "2021-09-09T09:20:53.931Z"
   },
   {
    "duration": 424,
    "start_time": "2021-09-09T09:21:40.020Z"
   },
   {
    "duration": 299,
    "start_time": "2021-09-09T09:29:19.044Z"
   },
   {
    "duration": 1579,
    "start_time": "2021-09-09T09:38:05.445Z"
   },
   {
    "duration": 9,
    "start_time": "2021-09-09T09:38:35.848Z"
   },
   {
    "duration": 34,
    "start_time": "2021-09-09T09:38:52.039Z"
   },
   {
    "duration": 469,
    "start_time": "2021-09-09T09:39:54.168Z"
   },
   {
    "duration": 1507,
    "start_time": "2021-09-09T09:40:05.526Z"
   },
   {
    "duration": 346,
    "start_time": "2021-09-09T09:45:04.535Z"
   },
   {
    "duration": 600,
    "start_time": "2021-09-09T09:45:06.221Z"
   },
   {
    "duration": 490,
    "start_time": "2021-09-09T09:45:06.823Z"
   },
   {
    "duration": 354,
    "start_time": "2021-09-09T09:49:52.019Z"
   },
   {
    "duration": 571,
    "start_time": "2021-09-09T09:50:20.064Z"
   },
   {
    "duration": 373,
    "start_time": "2021-09-09T09:50:20.638Z"
   },
   {
    "duration": 395,
    "start_time": "2021-09-09T09:50:32.556Z"
   },
   {
    "duration": 360,
    "start_time": "2021-09-09T10:01:29.317Z"
   },
   {
    "duration": 78,
    "start_time": "2021-09-09T10:05:09.279Z"
   },
   {
    "duration": 16,
    "start_time": "2021-09-09T10:06:01.572Z"
   },
   {
    "duration": 19,
    "start_time": "2021-09-09T10:06:09.391Z"
   },
   {
    "duration": 16,
    "start_time": "2021-09-09T10:06:13.679Z"
   },
   {
    "duration": 93,
    "start_time": "2021-09-09T10:19:04.050Z"
   },
   {
    "duration": 187,
    "start_time": "2021-09-09T10:24:55.204Z"
   },
   {
    "duration": 71,
    "start_time": "2021-09-09T10:25:17.298Z"
   },
   {
    "duration": 85,
    "start_time": "2021-09-09T10:26:21.186Z"
   },
   {
    "duration": 486,
    "start_time": "2021-09-09T10:26:38.747Z"
   },
   {
    "duration": 86,
    "start_time": "2021-09-09T10:29:05.175Z"
   },
   {
    "duration": 296,
    "start_time": "2021-09-09T10:29:24.176Z"
   },
   {
    "duration": 330,
    "start_time": "2021-09-09T10:29:36.523Z"
   },
   {
    "duration": 87,
    "start_time": "2021-09-09T10:29:41.979Z"
   },
   {
    "duration": 1389,
    "start_time": "2021-09-09T10:30:30.238Z"
   },
   {
    "duration": 125,
    "start_time": "2021-09-09T10:30:51.194Z"
   },
   {
    "duration": 379,
    "start_time": "2021-09-09T10:30:56.510Z"
   },
   {
    "duration": 1327,
    "start_time": "2021-09-09T10:31:01.915Z"
   },
   {
    "duration": 3751,
    "start_time": "2021-09-09T10:31:11.775Z"
   },
   {
    "duration": 1411,
    "start_time": "2021-09-09T10:31:22.578Z"
   },
   {
    "duration": 1649,
    "start_time": "2021-09-09T10:31:28.400Z"
   },
   {
    "duration": 101,
    "start_time": "2021-09-09T10:31:30.052Z"
   },
   {
    "duration": 1441,
    "start_time": "2021-09-09T10:31:32.590Z"
   },
   {
    "duration": 83,
    "start_time": "2021-09-09T10:31:36.453Z"
   },
   {
    "duration": 1700,
    "start_time": "2021-09-09T10:32:06.646Z"
   },
   {
    "duration": 67,
    "start_time": "2021-09-09T10:32:15.682Z"
   },
   {
    "duration": 541,
    "start_time": "2021-09-09T10:32:18.010Z"
   },
   {
    "duration": 75,
    "start_time": "2021-09-09T10:32:18.553Z"
   },
   {
    "duration": 2187,
    "start_time": "2021-09-09T10:32:32.387Z"
   },
   {
    "duration": 80,
    "start_time": "2021-09-09T10:32:34.576Z"
   },
   {
    "duration": 4454,
    "start_time": "2021-09-09T10:32:55.397Z"
   },
   {
    "duration": 1544,
    "start_time": "2021-09-09T10:33:01.552Z"
   },
   {
    "duration": 2874,
    "start_time": "2021-09-09T10:33:04.215Z"
   },
   {
    "duration": 102,
    "start_time": "2021-09-09T10:33:07.092Z"
   },
   {
    "duration": 1999,
    "start_time": "2021-09-09T10:33:37.832Z"
   },
   {
    "duration": 3072,
    "start_time": "2021-09-09T10:33:40.800Z"
   },
   {
    "duration": 101,
    "start_time": "2021-09-09T10:33:43.875Z"
   },
   {
    "duration": 20,
    "start_time": "2021-09-09T10:33:47.946Z"
   },
   {
    "duration": 87,
    "start_time": "2021-09-09T10:35:06.289Z"
   },
   {
    "duration": 30,
    "start_time": "2021-09-09T11:34:06.194Z"
   },
   {
    "duration": 373,
    "start_time": "2021-09-10T10:22:09.847Z"
   },
   {
    "duration": 4179,
    "start_time": "2021-09-10T10:22:13.609Z"
   },
   {
    "duration": 726,
    "start_time": "2021-09-10T10:22:17.790Z"
   },
   {
    "duration": 555,
    "start_time": "2021-09-10T10:22:34.986Z"
   },
   {
    "duration": 39,
    "start_time": "2021-09-10T10:22:36.634Z"
   },
   {
    "duration": 31,
    "start_time": "2021-09-10T10:23:30.128Z"
   },
   {
    "duration": 25,
    "start_time": "2021-09-10T10:23:30.905Z"
   },
   {
    "duration": 17,
    "start_time": "2021-09-10T10:23:31.097Z"
   },
   {
    "duration": 22,
    "start_time": "2021-09-10T10:23:31.273Z"
   },
   {
    "duration": 583,
    "start_time": "2021-09-10T10:24:18.475Z"
   },
   {
    "duration": 454,
    "start_time": "2021-09-10T10:24:26.892Z"
   },
   {
    "duration": 603,
    "start_time": "2021-09-10T10:24:35.768Z"
   },
   {
    "duration": 541,
    "start_time": "2021-09-10T10:24:37.376Z"
   },
   {
    "duration": 627,
    "start_time": "2021-09-10T10:24:44.312Z"
   },
   {
    "duration": 386,
    "start_time": "2021-09-10T10:24:45.767Z"
   },
   {
    "duration": 34,
    "start_time": "2021-09-10T10:25:00.877Z"
   },
   {
    "duration": 361,
    "start_time": "2021-09-10T10:25:05.360Z"
   },
   {
    "duration": 46,
    "start_time": "2021-09-10T10:31:06.302Z"
   },
   {
    "duration": 25,
    "start_time": "2021-09-10T10:31:12.683Z"
   },
   {
    "duration": 13,
    "start_time": "2021-09-10T10:34:18.099Z"
   },
   {
    "duration": 552,
    "start_time": "2021-09-10T10:36:09.883Z"
   },
   {
    "duration": 40,
    "start_time": "2021-09-10T10:36:10.438Z"
   },
   {
    "duration": 32,
    "start_time": "2021-09-10T10:36:10.481Z"
   },
   {
    "duration": 52,
    "start_time": "2021-09-10T10:36:10.516Z"
   },
   {
    "duration": 18,
    "start_time": "2021-09-10T10:36:10.571Z"
   },
   {
    "duration": 33,
    "start_time": "2021-09-10T10:36:10.591Z"
   },
   {
    "duration": 91,
    "start_time": "2021-09-10T10:36:10.627Z"
   },
   {
    "duration": 15,
    "start_time": "2021-09-10T10:36:10.723Z"
   },
   {
    "duration": 132,
    "start_time": "2021-09-10T10:36:10.741Z"
   },
   {
    "duration": 95,
    "start_time": "2021-09-10T10:36:10.876Z"
   },
   {
    "duration": 20,
    "start_time": "2021-09-10T10:36:10.973Z"
   },
   {
    "duration": -4,
    "start_time": "2021-09-10T10:36:47.654Z"
   },
   {
    "duration": 26,
    "start_time": "2021-09-10T10:37:09.887Z"
   },
   {
    "duration": 2951,
    "start_time": "2021-09-10T10:37:11.622Z"
   },
   {
    "duration": 12,
    "start_time": "2021-09-10T10:40:35.901Z"
   },
   {
    "duration": 411,
    "start_time": "2021-09-10T10:49:28.565Z"
   },
   {
    "duration": 22,
    "start_time": "2021-09-10T10:51:50.555Z"
   },
   {
    "duration": 11,
    "start_time": "2021-09-10T10:51:58.706Z"
   },
   {
    "duration": 7,
    "start_time": "2021-09-10T10:52:56.501Z"
   },
   {
    "duration": 7,
    "start_time": "2021-09-10T10:53:10.321Z"
   },
   {
    "duration": 8,
    "start_time": "2021-09-10T10:53:29.066Z"
   },
   {
    "duration": 571,
    "start_time": "2021-09-10T10:54:00.024Z"
   },
   {
    "duration": 35,
    "start_time": "2021-09-10T10:54:00.914Z"
   },
   {
    "duration": 31,
    "start_time": "2021-09-10T10:54:02.328Z"
   },
   {
    "duration": 11,
    "start_time": "2021-09-10T10:54:07.804Z"
   },
   {
    "duration": 11,
    "start_time": "2021-09-10T10:54:35.234Z"
   },
   {
    "duration": 12,
    "start_time": "2021-09-10T10:54:43.674Z"
   },
   {
    "duration": 15,
    "start_time": "2021-09-10T10:55:16.708Z"
   },
   {
    "duration": 8,
    "start_time": "2021-09-10T10:55:39.258Z"
   },
   {
    "duration": 37,
    "start_time": "2021-09-10T10:57:27.262Z"
   },
   {
    "duration": 591,
    "start_time": "2021-09-10T10:57:34.208Z"
   },
   {
    "duration": 37,
    "start_time": "2021-09-10T10:57:34.802Z"
   },
   {
    "duration": 44,
    "start_time": "2021-09-10T10:57:34.843Z"
   },
   {
    "duration": 26,
    "start_time": "2021-09-10T10:57:34.895Z"
   },
   {
    "duration": 15,
    "start_time": "2021-09-10T10:57:34.924Z"
   },
   {
    "duration": 25,
    "start_time": "2021-09-10T10:57:34.962Z"
   },
   {
    "duration": 69,
    "start_time": "2021-09-10T10:57:34.993Z"
   },
   {
    "duration": 22,
    "start_time": "2021-09-10T10:57:35.066Z"
   },
   {
    "duration": 29,
    "start_time": "2021-09-10T10:57:35.091Z"
   },
   {
    "duration": 135,
    "start_time": "2021-09-10T10:57:35.124Z"
   },
   {
    "duration": 100,
    "start_time": "2021-09-10T10:57:35.261Z"
   },
   {
    "duration": 20,
    "start_time": "2021-09-10T10:57:35.365Z"
   },
   {
    "duration": 14,
    "start_time": "2021-09-10T10:57:44.502Z"
   },
   {
    "duration": 548,
    "start_time": "2021-09-10T10:57:56.670Z"
   },
   {
    "duration": 35,
    "start_time": "2021-09-10T10:57:57.220Z"
   },
   {
    "duration": 31,
    "start_time": "2021-09-10T10:57:57.259Z"
   },
   {
    "duration": 25,
    "start_time": "2021-09-10T10:57:57.292Z"
   },
   {
    "duration": 51,
    "start_time": "2021-09-10T10:57:57.319Z"
   },
   {
    "duration": 20,
    "start_time": "2021-09-10T10:57:57.373Z"
   },
   {
    "duration": 100,
    "start_time": "2021-09-10T10:57:57.397Z"
   },
   {
    "duration": 16,
    "start_time": "2021-09-10T10:57:57.501Z"
   },
   {
    "duration": 47,
    "start_time": "2021-09-10T10:57:57.519Z"
   },
   {
    "duration": 120,
    "start_time": "2021-09-10T10:57:57.569Z"
   },
   {
    "duration": 98,
    "start_time": "2021-09-10T10:57:57.692Z"
   },
   {
    "duration": 19,
    "start_time": "2021-09-10T10:57:57.793Z"
   },
   {
    "duration": 34,
    "start_time": "2021-09-10T12:59:16.448Z"
   },
   {
    "duration": 37,
    "start_time": "2021-09-10T12:59:58.897Z"
   },
   {
    "duration": 55,
    "start_time": "2021-09-10T13:09:36.058Z"
   },
   {
    "duration": 10,
    "start_time": "2021-09-10T13:27:45.869Z"
   },
   {
    "duration": 309,
    "start_time": "2021-09-10T13:27:57.430Z"
   },
   {
    "duration": 507,
    "start_time": "2021-09-10T13:28:23.086Z"
   },
   {
    "duration": 33,
    "start_time": "2021-09-10T13:28:23.596Z"
   },
   {
    "duration": 36,
    "start_time": "2021-09-10T13:28:23.633Z"
   },
   {
    "duration": 32,
    "start_time": "2021-09-10T13:28:23.671Z"
   },
   {
    "duration": 62,
    "start_time": "2021-09-10T13:28:23.705Z"
   },
   {
    "duration": 26,
    "start_time": "2021-09-10T13:28:23.769Z"
   },
   {
    "duration": 21,
    "start_time": "2021-09-10T13:28:23.798Z"
   },
   {
    "duration": 57,
    "start_time": "2021-09-10T13:28:23.823Z"
   },
   {
    "duration": 74,
    "start_time": "2021-09-10T13:28:23.883Z"
   },
   {
    "duration": 13,
    "start_time": "2021-09-10T13:28:23.960Z"
   },
   {
    "duration": 28,
    "start_time": "2021-09-10T13:28:23.975Z"
   },
   {
    "duration": 22,
    "start_time": "2021-09-10T13:28:24.005Z"
   },
   {
    "duration": 131,
    "start_time": "2021-09-10T13:28:24.030Z"
   },
   {
    "duration": 75,
    "start_time": "2021-09-10T13:28:24.164Z"
   },
   {
    "duration": 38,
    "start_time": "2021-09-10T13:28:24.242Z"
   },
   {
    "duration": 808,
    "start_time": "2021-09-10T13:33:15.975Z"
   },
   {
    "duration": 34,
    "start_time": "2021-09-10T13:33:19.758Z"
   },
   {
    "duration": 36,
    "start_time": "2021-09-10T13:34:17.358Z"
   },
   {
    "duration": 29,
    "start_time": "2021-09-10T13:35:27.461Z"
   },
   {
    "duration": 488,
    "start_time": "2021-09-10T13:36:18.773Z"
   },
   {
    "duration": 36,
    "start_time": "2021-09-10T13:36:19.263Z"
   },
   {
    "duration": 61,
    "start_time": "2021-09-10T13:36:19.302Z"
   },
   {
    "duration": 32,
    "start_time": "2021-09-10T13:36:19.367Z"
   },
   {
    "duration": 72,
    "start_time": "2021-09-10T13:36:19.402Z"
   },
   {
    "duration": 27,
    "start_time": "2021-09-10T13:36:19.476Z"
   },
   {
    "duration": 17,
    "start_time": "2021-09-10T13:36:19.505Z"
   },
   {
    "duration": 52,
    "start_time": "2021-09-10T13:36:19.525Z"
   },
   {
    "duration": 95,
    "start_time": "2021-09-10T13:36:19.581Z"
   },
   {
    "duration": 15,
    "start_time": "2021-09-10T13:36:19.678Z"
   },
   {
    "duration": 56,
    "start_time": "2021-09-10T13:36:19.726Z"
   },
   {
    "duration": 147,
    "start_time": "2021-09-10T13:36:19.784Z"
   },
   {
    "duration": 98,
    "start_time": "2021-09-10T13:36:19.933Z"
   },
   {
    "duration": 34,
    "start_time": "2021-09-10T13:36:20.033Z"
   },
   {
    "duration": 22,
    "start_time": "2021-09-10T13:36:20.070Z"
   },
   {
    "duration": 119,
    "start_time": "2021-09-10T13:39:01.564Z"
   },
   {
    "duration": 2419,
    "start_time": "2021-09-10T13:40:23.905Z"
   },
   {
    "duration": 1442,
    "start_time": "2021-09-10T13:40:40.051Z"
   },
   {
    "duration": 37,
    "start_time": "2021-09-10T13:45:16.580Z"
   },
   {
    "duration": 38,
    "start_time": "2021-09-10T13:45:34.159Z"
   },
   {
    "duration": 62,
    "start_time": "2021-09-10T13:45:43.757Z"
   },
   {
    "duration": 120,
    "start_time": "2021-09-10T13:47:03.143Z"
   },
   {
    "duration": 78,
    "start_time": "2021-09-10T13:53:36.169Z"
   },
   {
    "duration": 115,
    "start_time": "2021-09-10T13:54:05.394Z"
   },
   {
    "duration": 354,
    "start_time": "2021-09-10T13:54:11.336Z"
   },
   {
    "duration": 513,
    "start_time": "2021-09-10T13:54:32.953Z"
   },
   {
    "duration": 37,
    "start_time": "2021-09-10T13:54:33.468Z"
   },
   {
    "duration": 57,
    "start_time": "2021-09-10T13:54:33.507Z"
   },
   {
    "duration": 31,
    "start_time": "2021-09-10T13:54:33.566Z"
   },
   {
    "duration": 64,
    "start_time": "2021-09-10T13:54:33.599Z"
   },
   {
    "duration": 25,
    "start_time": "2021-09-10T13:54:33.665Z"
   },
   {
    "duration": 15,
    "start_time": "2021-09-10T13:54:33.692Z"
   },
   {
    "duration": 56,
    "start_time": "2021-09-10T13:54:33.710Z"
   },
   {
    "duration": 129,
    "start_time": "2021-09-10T13:54:33.770Z"
   },
   {
    "duration": 13,
    "start_time": "2021-09-10T13:54:33.902Z"
   },
   {
    "duration": 23,
    "start_time": "2021-09-10T13:54:33.918Z"
   },
   {
    "duration": 22,
    "start_time": "2021-09-10T13:54:33.963Z"
   },
   {
    "duration": 141,
    "start_time": "2021-09-10T13:54:33.988Z"
   },
   {
    "duration": 59,
    "start_time": "2021-09-10T13:54:34.131Z"
   },
   {
    "duration": 122,
    "start_time": "2021-09-10T13:54:34.193Z"
   },
   {
    "duration": 99,
    "start_time": "2021-09-10T13:54:34.318Z"
   },
   {
    "duration": 18,
    "start_time": "2021-09-10T13:54:34.420Z"
   },
   {
    "duration": 105,
    "start_time": "2021-09-10T13:55:47.552Z"
   },
   {
    "duration": 97,
    "start_time": "2021-09-10T13:56:53.333Z"
   },
   {
    "duration": 75,
    "start_time": "2021-09-10T13:57:05.660Z"
   },
   {
    "duration": 159,
    "start_time": "2021-09-10T13:58:36.435Z"
   },
   {
    "duration": 129,
    "start_time": "2021-09-10T13:58:47.859Z"
   },
   {
    "duration": 75,
    "start_time": "2021-09-10T13:58:53.499Z"
   },
   {
    "duration": 113,
    "start_time": "2021-09-10T14:01:47.829Z"
   },
   {
    "duration": 105,
    "start_time": "2021-09-10T14:03:05.226Z"
   },
   {
    "duration": 27,
    "start_time": "2021-09-10T14:04:10.830Z"
   },
   {
    "duration": 535,
    "start_time": "2021-09-10T14:04:15.358Z"
   },
   {
    "duration": -16,
    "start_time": "2021-09-10T14:04:15.914Z"
   },
   {
    "duration": 81,
    "start_time": "2021-09-10T14:04:16.006Z"
   },
   {
    "duration": 108,
    "start_time": "2021-09-10T14:04:16.181Z"
   },
   {
    "duration": 100,
    "start_time": "2021-09-10T14:04:17.718Z"
   },
   {
    "duration": 21,
    "start_time": "2021-09-10T14:04:17.910Z"
   },
   {
    "duration": 554,
    "start_time": "2021-09-10T14:04:31.297Z"
   },
   {
    "duration": 42,
    "start_time": "2021-09-10T14:04:31.854Z"
   },
   {
    "duration": 35,
    "start_time": "2021-09-10T14:04:31.899Z"
   },
   {
    "duration": 41,
    "start_time": "2021-09-10T14:04:31.962Z"
   },
   {
    "duration": 61,
    "start_time": "2021-09-10T14:04:32.006Z"
   },
   {
    "duration": 28,
    "start_time": "2021-09-10T14:04:32.071Z"
   },
   {
    "duration": 19,
    "start_time": "2021-09-10T14:04:32.103Z"
   },
   {
    "duration": 57,
    "start_time": "2021-09-10T14:04:32.126Z"
   },
   {
    "duration": 108,
    "start_time": "2021-09-10T14:04:32.186Z"
   },
   {
    "duration": 14,
    "start_time": "2021-09-10T14:04:32.297Z"
   },
   {
    "duration": 51,
    "start_time": "2021-09-10T14:04:32.314Z"
   },
   {
    "duration": 25,
    "start_time": "2021-09-10T14:04:32.367Z"
   },
   {
    "duration": 127,
    "start_time": "2021-09-10T14:04:32.394Z"
   },
   {
    "duration": 58,
    "start_time": "2021-09-10T14:04:32.523Z"
   },
   {
    "duration": 151,
    "start_time": "2021-09-10T14:04:32.583Z"
   },
   {
    "duration": 95,
    "start_time": "2021-09-10T14:04:32.736Z"
   },
   {
    "duration": 36,
    "start_time": "2021-09-10T14:04:32.833Z"
   },
   {
    "duration": 123,
    "start_time": "2021-09-10T14:05:00.029Z"
   },
   {
    "duration": 428,
    "start_time": "2021-09-10T14:08:51.261Z"
   },
   {
    "duration": 861,
    "start_time": "2021-09-10T14:09:00.217Z"
   },
   {
    "duration": 326,
    "start_time": "2021-09-10T14:09:40.709Z"
   },
   {
    "duration": 46,
    "start_time": "2021-09-10T14:09:51.233Z"
   },
   {
    "duration": 106,
    "start_time": "2021-09-10T14:09:52.074Z"
   },
   {
    "duration": 302,
    "start_time": "2021-09-10T14:11:24.464Z"
   },
   {
    "duration": 296,
    "start_time": "2021-09-10T14:11:31.242Z"
   },
   {
    "duration": 81,
    "start_time": "2021-09-10T14:11:36.088Z"
   },
   {
    "duration": 20,
    "start_time": "2021-09-10T14:11:37.151Z"
   },
   {
    "duration": 34,
    "start_time": "2021-09-10T14:12:08.992Z"
   },
   {
    "duration": 360,
    "start_time": "2021-09-10T14:13:08.971Z"
   },
   {
    "duration": 286,
    "start_time": "2021-09-10T14:13:34.785Z"
   },
   {
    "duration": 600,
    "start_time": "2021-09-10T14:13:55.938Z"
   },
   {
    "duration": 100,
    "start_time": "2021-09-10T14:14:47.355Z"
   },
   {
    "duration": 123,
    "start_time": "2021-09-10T14:15:32.593Z"
   },
   {
    "duration": 105,
    "start_time": "2021-09-10T14:15:43.767Z"
   },
   {
    "duration": 117,
    "start_time": "2021-09-10T14:15:47.383Z"
   },
   {
    "duration": 167,
    "start_time": "2021-09-10T14:15:54.841Z"
   },
   {
    "duration": 124,
    "start_time": "2021-09-10T14:16:19.823Z"
   },
   {
    "duration": 123,
    "start_time": "2021-09-10T14:16:24.287Z"
   },
   {
    "duration": 128,
    "start_time": "2021-09-10T14:16:28.503Z"
   },
   {
    "duration": 142,
    "start_time": "2021-09-10T14:16:36.027Z"
   },
   {
    "duration": 148,
    "start_time": "2021-09-10T14:16:39.444Z"
   },
   {
    "duration": 138,
    "start_time": "2021-09-10T14:16:43.373Z"
   },
   {
    "duration": 2277,
    "start_time": "2021-09-10T14:17:05.932Z"
   },
   {
    "duration": 138,
    "start_time": "2021-09-10T14:17:36.339Z"
   },
   {
    "duration": 86,
    "start_time": "2021-09-10T14:17:45.385Z"
   },
   {
    "duration": 384,
    "start_time": "2021-09-10T14:19:34.244Z"
   },
   {
    "duration": 433,
    "start_time": "2021-09-10T14:19:37.922Z"
   },
   {
    "duration": 402,
    "start_time": "2021-09-10T14:20:01.155Z"
   },
   {
    "duration": 392,
    "start_time": "2021-09-10T14:20:05.328Z"
   },
   {
    "duration": 348,
    "start_time": "2021-09-10T14:20:08.315Z"
   },
   {
    "duration": 99,
    "start_time": "2021-09-10T14:20:22.426Z"
   },
   {
    "duration": 47,
    "start_time": "2021-09-10T14:20:22.753Z"
   },
   {
    "duration": 146,
    "start_time": "2021-09-10T14:20:23.425Z"
   },
   {
    "duration": 153,
    "start_time": "2021-09-10T14:25:47.056Z"
   },
   {
    "duration": 111,
    "start_time": "2021-09-10T14:26:18.959Z"
   },
   {
    "duration": 53,
    "start_time": "2021-09-10T14:30:53.941Z"
   },
   {
    "duration": 68,
    "start_time": "2021-09-10T14:31:13.207Z"
   },
   {
    "duration": -8,
    "start_time": "2021-09-10T14:32:17.164Z"
   },
   {
    "duration": -13,
    "start_time": "2021-09-10T14:32:17.170Z"
   },
   {
    "duration": -15,
    "start_time": "2021-09-10T14:32:17.174Z"
   },
   {
    "duration": -18,
    "start_time": "2021-09-10T14:32:17.178Z"
   },
   {
    "duration": -20,
    "start_time": "2021-09-10T14:32:17.181Z"
   },
   {
    "duration": -23,
    "start_time": "2021-09-10T14:32:17.186Z"
   },
   {
    "duration": -26,
    "start_time": "2021-09-10T14:32:17.190Z"
   },
   {
    "duration": -30,
    "start_time": "2021-09-10T14:32:17.195Z"
   },
   {
    "duration": -37,
    "start_time": "2021-09-10T14:32:17.203Z"
   },
   {
    "duration": -37,
    "start_time": "2021-09-10T14:32:17.205Z"
   },
   {
    "duration": -39,
    "start_time": "2021-09-10T14:32:17.209Z"
   },
   {
    "duration": -41,
    "start_time": "2021-09-10T14:32:17.212Z"
   },
   {
    "duration": -56,
    "start_time": "2021-09-10T14:32:17.228Z"
   },
   {
    "duration": -56,
    "start_time": "2021-09-10T14:32:17.230Z"
   },
   {
    "duration": -59,
    "start_time": "2021-09-10T14:32:17.234Z"
   },
   {
    "duration": -59,
    "start_time": "2021-09-10T14:32:17.236Z"
   },
   {
    "duration": -61,
    "start_time": "2021-09-10T14:32:17.239Z"
   },
   {
    "duration": -62,
    "start_time": "2021-09-10T14:32:17.241Z"
   },
   {
    "duration": -62,
    "start_time": "2021-09-10T14:32:17.243Z"
   },
   {
    "duration": 468,
    "start_time": "2021-09-10T14:33:21.509Z"
   },
   {
    "duration": 38,
    "start_time": "2021-09-10T14:33:21.981Z"
   },
   {
    "duration": 50,
    "start_time": "2021-09-10T14:33:22.023Z"
   },
   {
    "duration": 34,
    "start_time": "2021-09-10T14:33:22.077Z"
   },
   {
    "duration": 72,
    "start_time": "2021-09-10T14:33:22.115Z"
   },
   {
    "duration": 28,
    "start_time": "2021-09-10T14:33:22.190Z"
   },
   {
    "duration": 47,
    "start_time": "2021-09-10T14:33:22.221Z"
   },
   {
    "duration": 32,
    "start_time": "2021-09-10T14:33:22.271Z"
   },
   {
    "duration": 99,
    "start_time": "2021-09-10T14:33:22.307Z"
   },
   {
    "duration": 13,
    "start_time": "2021-09-10T14:33:22.409Z"
   },
   {
    "duration": 43,
    "start_time": "2021-09-10T14:33:22.425Z"
   },
   {
    "duration": 23,
    "start_time": "2021-09-10T14:33:22.470Z"
   },
   {
    "duration": 116,
    "start_time": "2021-09-10T14:33:22.495Z"
   },
   {
    "duration": 53,
    "start_time": "2021-09-10T14:33:22.614Z"
   },
   {
    "duration": 149,
    "start_time": "2021-09-10T14:33:22.669Z"
   },
   {
    "duration": 75,
    "start_time": "2021-09-10T14:33:22.820Z"
   },
   {
    "duration": -13,
    "start_time": "2021-09-10T14:35:09.649Z"
   },
   {
    "duration": -16,
    "start_time": "2021-09-10T14:35:09.654Z"
   },
   {
    "duration": -17,
    "start_time": "2021-09-10T14:35:09.658Z"
   },
   {
    "duration": -22,
    "start_time": "2021-09-10T14:35:09.665Z"
   },
   {
    "duration": -22,
    "start_time": "2021-09-10T14:35:09.667Z"
   },
   {
    "duration": -23,
    "start_time": "2021-09-10T14:35:09.670Z"
   },
   {
    "duration": -24,
    "start_time": "2021-09-10T14:35:09.673Z"
   },
   {
    "duration": -25,
    "start_time": "2021-09-10T14:35:09.676Z"
   },
   {
    "duration": -30,
    "start_time": "2021-09-10T14:35:09.683Z"
   },
   {
    "duration": -25,
    "start_time": "2021-09-10T14:35:09.686Z"
   },
   {
    "duration": -25,
    "start_time": "2021-09-10T14:35:09.688Z"
   },
   {
    "duration": -26,
    "start_time": "2021-09-10T14:35:09.691Z"
   },
   {
    "duration": -25,
    "start_time": "2021-09-10T14:35:09.693Z"
   },
   {
    "duration": -31,
    "start_time": "2021-09-10T14:35:09.701Z"
   },
   {
    "duration": -32,
    "start_time": "2021-09-10T14:35:09.704Z"
   },
   {
    "duration": -34,
    "start_time": "2021-09-10T14:35:09.708Z"
   },
   {
    "duration": -34,
    "start_time": "2021-09-10T14:35:09.710Z"
   },
   {
    "duration": -35,
    "start_time": "2021-09-10T14:35:09.713Z"
   },
   {
    "duration": -34,
    "start_time": "2021-09-10T14:35:09.715Z"
   },
   {
    "duration": 531,
    "start_time": "2021-09-10T14:35:22.153Z"
   },
   {
    "duration": 40,
    "start_time": "2021-09-10T14:35:22.687Z"
   },
   {
    "duration": 50,
    "start_time": "2021-09-10T14:35:22.731Z"
   },
   {
    "duration": 31,
    "start_time": "2021-09-10T14:35:22.783Z"
   },
   {
    "duration": 62,
    "start_time": "2021-09-10T14:35:22.817Z"
   },
   {
    "duration": 26,
    "start_time": "2021-09-10T14:35:22.882Z"
   },
   {
    "duration": 22,
    "start_time": "2021-09-10T14:35:22.911Z"
   },
   {
    "duration": 20,
    "start_time": "2021-09-10T14:35:22.963Z"
   },
   {
    "duration": 103,
    "start_time": "2021-09-10T14:35:22.987Z"
   },
   {
    "duration": 15,
    "start_time": "2021-09-10T14:35:23.093Z"
   },
   {
    "duration": 26,
    "start_time": "2021-09-10T14:35:23.110Z"
   },
   {
    "duration": 23,
    "start_time": "2021-09-10T14:35:23.162Z"
   },
   {
    "duration": 128,
    "start_time": "2021-09-10T14:35:23.188Z"
   },
   {
    "duration": 59,
    "start_time": "2021-09-10T14:35:23.319Z"
   },
   {
    "duration": 152,
    "start_time": "2021-09-10T14:35:23.381Z"
   },
   {
    "duration": 75,
    "start_time": "2021-09-10T14:35:23.535Z"
   },
   {
    "duration": 35,
    "start_time": "2021-09-10T14:35:23.612Z"
   },
   {
    "duration": 113,
    "start_time": "2021-09-10T14:35:23.649Z"
   },
   {
    "duration": 20,
    "start_time": "2021-09-10T14:35:23.765Z"
   },
   {
    "duration": 1140,
    "start_time": "2021-09-10T14:39:19.088Z"
   },
   {
    "duration": 34,
    "start_time": "2021-09-10T14:39:25.099Z"
   },
   {
    "duration": 75,
    "start_time": "2021-09-10T14:41:03.073Z"
   },
   {
    "duration": 331,
    "start_time": "2021-09-13T07:46:54.421Z"
   },
   {
    "duration": 1415,
    "start_time": "2021-09-13T07:46:59.851Z"
   },
   {
    "duration": 46,
    "start_time": "2021-09-13T07:47:01.269Z"
   },
   {
    "duration": 57,
    "start_time": "2021-09-13T07:47:01.318Z"
   },
   {
    "duration": 34,
    "start_time": "2021-09-13T07:47:01.378Z"
   },
   {
    "duration": 61,
    "start_time": "2021-09-13T07:47:01.414Z"
   },
   {
    "duration": 26,
    "start_time": "2021-09-13T07:47:01.478Z"
   },
   {
    "duration": 39,
    "start_time": "2021-09-13T07:47:01.507Z"
   },
   {
    "duration": 35,
    "start_time": "2021-09-13T07:47:01.558Z"
   },
   {
    "duration": 107,
    "start_time": "2021-09-13T07:47:01.596Z"
   },
   {
    "duration": 15,
    "start_time": "2021-09-13T07:47:01.706Z"
   },
   {
    "duration": 47,
    "start_time": "2021-09-13T07:47:01.724Z"
   },
   {
    "duration": 26,
    "start_time": "2021-09-13T07:47:01.773Z"
   },
   {
    "duration": 131,
    "start_time": "2021-09-13T07:47:01.802Z"
   },
   {
    "duration": 60,
    "start_time": "2021-09-13T07:47:01.936Z"
   },
   {
    "duration": 181,
    "start_time": "2021-09-13T07:47:01.999Z"
   },
   {
    "duration": 94,
    "start_time": "2021-09-13T07:47:02.183Z"
   },
   {
    "duration": 43,
    "start_time": "2021-09-13T07:47:02.280Z"
   },
   {
    "duration": 91,
    "start_time": "2021-09-13T07:47:02.325Z"
   },
   {
    "duration": 90,
    "start_time": "2021-09-13T07:47:02.418Z"
   },
   {
    "duration": 21,
    "start_time": "2021-09-13T07:47:02.510Z"
   },
   {
    "duration": 7586,
    "start_time": "2021-09-13T07:47:33.035Z"
   },
   {
    "duration": 42,
    "start_time": "2021-09-13T07:47:51.795Z"
   },
   {
    "duration": 93,
    "start_time": "2021-09-13T07:58:34.267Z"
   },
   {
    "duration": 105,
    "start_time": "2021-09-13T08:29:38.102Z"
   },
   {
    "duration": 54,
    "start_time": "2021-09-13T08:29:48.453Z"
   },
   {
    "duration": 89,
    "start_time": "2021-09-13T08:53:18.899Z"
   },
   {
    "duration": 94,
    "start_time": "2021-09-13T08:53:23.912Z"
   },
   {
    "duration": 5,
    "start_time": "2021-09-13T08:53:41.374Z"
   },
   {
    "duration": 271,
    "start_time": "2021-09-13T08:53:47.243Z"
   },
   {
    "duration": 32,
    "start_time": "2021-09-13T08:53:51.259Z"
   },
   {
    "duration": 53,
    "start_time": "2021-09-13T08:55:36.738Z"
   },
   {
    "duration": 36,
    "start_time": "2021-09-13T10:23:26.865Z"
   },
   {
    "duration": 12,
    "start_time": "2021-09-13T10:23:33.682Z"
   },
   {
    "duration": 1099,
    "start_time": "2021-09-13T10:26:45.657Z"
   },
   {
    "duration": 21,
    "start_time": "2021-09-13T10:29:48.032Z"
   },
   {
    "duration": 9,
    "start_time": "2021-09-13T10:29:57.993Z"
   },
   {
    "duration": 4,
    "start_time": "2021-09-13T10:30:28.042Z"
   },
   {
    "duration": 23,
    "start_time": "2021-09-13T10:30:36.063Z"
   },
   {
    "duration": 21,
    "start_time": "2021-09-13T10:32:09.391Z"
   },
   {
    "duration": 7,
    "start_time": "2021-09-13T10:32:30.720Z"
   },
   {
    "duration": 12,
    "start_time": "2021-09-13T10:32:36.639Z"
   },
   {
    "duration": 265,
    "start_time": "2021-09-13T10:37:12.275Z"
   },
   {
    "duration": 12,
    "start_time": "2021-09-13T10:37:30.121Z"
   },
   {
    "duration": 9,
    "start_time": "2021-09-13T10:37:36.060Z"
   },
   {
    "duration": 8,
    "start_time": "2021-09-13T10:38:05.208Z"
   },
   {
    "duration": 258,
    "start_time": "2021-09-13T10:38:28.871Z"
   },
   {
    "duration": 10,
    "start_time": "2021-09-13T10:38:43.272Z"
   },
   {
    "duration": 307,
    "start_time": "2021-09-13T10:38:51.121Z"
   },
   {
    "duration": 53,
    "start_time": "2021-09-13T11:05:20.348Z"
   },
   {
    "duration": 7,
    "start_time": "2021-09-13T11:07:06.240Z"
   },
   {
    "duration": 10,
    "start_time": "2021-09-13T11:07:17.139Z"
   },
   {
    "duration": 9,
    "start_time": "2021-09-13T15:15:24.675Z"
   },
   {
    "duration": 9,
    "start_time": "2021-09-13T15:15:28.343Z"
   },
   {
    "duration": 269,
    "start_time": "2021-09-13T15:23:49.067Z"
   },
   {
    "duration": 293,
    "start_time": "2021-09-13T15:24:05.438Z"
   },
   {
    "duration": 584,
    "start_time": "2021-09-13T15:24:23.793Z"
   },
   {
    "duration": 283,
    "start_time": "2021-09-13T15:25:25.645Z"
   },
   {
    "duration": 5,
    "start_time": "2021-09-13T17:16:44.669Z"
   },
   {
    "duration": 24,
    "start_time": "2021-09-13T17:16:54.004Z"
   },
   {
    "duration": 5,
    "start_time": "2021-09-13T17:17:50.092Z"
   },
   {
    "duration": 24,
    "start_time": "2021-09-13T17:17:54.616Z"
   },
   {
    "duration": 24,
    "start_time": "2021-09-13T17:18:10.800Z"
   },
   {
    "duration": 22,
    "start_time": "2021-09-13T17:18:16.873Z"
   },
   {
    "duration": 25,
    "start_time": "2021-09-13T17:19:00.361Z"
   },
   {
    "duration": 278,
    "start_time": "2021-09-13T17:24:06.839Z"
   },
   {
    "duration": 273,
    "start_time": "2021-09-13T17:26:08.956Z"
   },
   {
    "duration": 4,
    "start_time": "2021-09-13T17:27:15.968Z"
   },
   {
    "duration": 22,
    "start_time": "2021-09-13T17:27:25.391Z"
   },
   {
    "duration": 51,
    "start_time": "2021-09-13T17:32:08.125Z"
   },
   {
    "duration": 311,
    "start_time": "2021-09-13T17:33:20.492Z"
   },
   {
    "duration": 12,
    "start_time": "2021-09-13T17:33:35.060Z"
   },
   {
    "duration": 5,
    "start_time": "2021-09-13T17:36:23.095Z"
   },
   {
    "duration": 12,
    "start_time": "2021-09-13T17:36:27.206Z"
   },
   {
    "duration": 27,
    "start_time": "2021-09-13T17:36:37.002Z"
   },
   {
    "duration": 24,
    "start_time": "2021-09-13T17:36:51.978Z"
   },
   {
    "duration": 26,
    "start_time": "2021-09-13T17:36:54.563Z"
   },
   {
    "duration": 24,
    "start_time": "2021-09-13T17:37:13.066Z"
   },
   {
    "duration": 255,
    "start_time": "2021-09-13T17:38:33.000Z"
   },
   {
    "duration": 300,
    "start_time": "2021-09-13T17:38:42.087Z"
   },
   {
    "duration": 105,
    "start_time": "2021-09-13T17:39:59.163Z"
   },
   {
    "duration": 191,
    "start_time": "2021-09-13T17:41:29.448Z"
   },
   {
    "duration": 113,
    "start_time": "2021-09-13T17:42:20.404Z"
   },
   {
    "duration": 253,
    "start_time": "2021-09-13T17:59:22.310Z"
   },
   {
    "duration": 79,
    "start_time": "2021-09-13T17:59:28.634Z"
   },
   {
    "duration": 511,
    "start_time": "2021-09-13T17:59:58.483Z"
   },
   {
    "duration": 38,
    "start_time": "2021-09-13T17:59:58.997Z"
   },
   {
    "duration": 39,
    "start_time": "2021-09-13T17:59:59.040Z"
   },
   {
    "duration": 35,
    "start_time": "2021-09-13T17:59:59.083Z"
   },
   {
    "duration": 40,
    "start_time": "2021-09-13T17:59:59.157Z"
   },
   {
    "duration": 60,
    "start_time": "2021-09-13T17:59:59.200Z"
   },
   {
    "duration": 22,
    "start_time": "2021-09-13T17:59:59.263Z"
   },
   {
    "duration": 22,
    "start_time": "2021-09-13T17:59:59.288Z"
   },
   {
    "duration": 99,
    "start_time": "2021-09-13T17:59:59.357Z"
   },
   {
    "duration": 3,
    "start_time": "2021-09-13T17:59:59.459Z"
   },
   {
    "duration": 122,
    "start_time": "2021-09-13T17:59:59.464Z"
   },
   {
    "duration": 24,
    "start_time": "2021-09-13T17:59:59.589Z"
   },
   {
    "duration": 135,
    "start_time": "2021-09-13T17:59:59.615Z"
   },
   {
    "duration": 46,
    "start_time": "2021-09-13T17:59:59.752Z"
   },
   {
    "duration": 172,
    "start_time": "2021-09-13T17:59:59.801Z"
   },
   {
    "duration": 87,
    "start_time": "2021-09-13T17:59:59.976Z"
   },
   {
    "duration": 37,
    "start_time": "2021-09-13T18:00:00.066Z"
   },
   {
    "duration": 96,
    "start_time": "2021-09-13T18:00:00.106Z"
   },
   {
    "duration": 102,
    "start_time": "2021-09-13T18:00:00.205Z"
   },
   {
    "duration": 63,
    "start_time": "2021-09-13T18:00:00.311Z"
   },
   {
    "duration": 37,
    "start_time": "2021-09-13T18:00:00.378Z"
   },
   {
    "duration": 140,
    "start_time": "2021-09-13T18:00:00.418Z"
   },
   {
    "duration": 6,
    "start_time": "2021-09-13T18:00:00.561Z"
   },
   {
    "duration": 40,
    "start_time": "2021-09-13T18:00:00.570Z"
   },
   {
    "duration": 174,
    "start_time": "2021-09-13T18:00:00.613Z"
   },
   {
    "duration": 58,
    "start_time": "2021-09-13T18:01:41.273Z"
   },
   {
    "duration": 5,
    "start_time": "2021-09-13T18:01:48.512Z"
   },
   {
    "duration": 10,
    "start_time": "2021-09-13T18:01:48.834Z"
   },
   {
    "duration": 111,
    "start_time": "2021-09-13T18:01:49.512Z"
   },
   {
    "duration": 24,
    "start_time": "2021-09-13T18:02:07.904Z"
   },
   {
    "duration": 27,
    "start_time": "2021-09-13T18:02:27.264Z"
   },
   {
    "duration": 24,
    "start_time": "2021-09-13T18:02:42.888Z"
   },
   {
    "duration": 283,
    "start_time": "2021-09-13T18:03:35.383Z"
   },
   {
    "duration": 24,
    "start_time": "2021-09-13T18:03:44.783Z"
   },
   {
    "duration": 22,
    "start_time": "2021-09-13T18:04:22.615Z"
   },
   {
    "duration": 34,
    "start_time": "2021-09-13T18:05:08.735Z"
   },
   {
    "duration": 98,
    "start_time": "2021-09-13T18:57:44.793Z"
   },
   {
    "duration": 7887,
    "start_time": "2021-09-13T18:58:00.364Z"
   },
   {
    "duration": -42,
    "start_time": "2021-09-13T18:58:08.296Z"
   },
   {
    "duration": 24,
    "start_time": "2021-09-13T18:58:08.327Z"
   },
   {
    "duration": 7689,
    "start_time": "2021-09-13T18:58:45.007Z"
   },
   {
    "duration": 15,
    "start_time": "2021-09-13T18:59:44.067Z"
   },
   {
    "duration": 7269,
    "start_time": "2021-09-13T18:59:49.903Z"
   },
   {
    "duration": 98,
    "start_time": "2021-09-13T19:00:44.590Z"
   },
   {
    "duration": 29,
    "start_time": "2021-09-13T19:00:55.478Z"
   },
   {
    "duration": 7,
    "start_time": "2021-09-13T19:02:48.796Z"
   },
   {
    "duration": 26,
    "start_time": "2021-09-13T19:02:54.652Z"
   },
   {
    "duration": 5,
    "start_time": "2021-09-13T19:03:48.251Z"
   },
   {
    "duration": 6,
    "start_time": "2021-09-13T19:04:07.271Z"
   },
   {
    "duration": 26,
    "start_time": "2021-09-13T19:04:14.483Z"
   },
   {
    "duration": 95,
    "start_time": "2021-09-13T19:06:04.370Z"
   },
   {
    "duration": 30,
    "start_time": "2021-09-13T19:06:05.618Z"
   },
   {
    "duration": 32,
    "start_time": "2021-09-13T19:06:21.521Z"
   },
   {
    "duration": 98,
    "start_time": "2021-09-13T19:06:54.000Z"
   },
   {
    "duration": 29,
    "start_time": "2021-09-13T19:06:55.121Z"
   },
   {
    "duration": 6,
    "start_time": "2021-09-13T19:07:37.904Z"
   },
   {
    "duration": 28,
    "start_time": "2021-09-13T19:07:39.328Z"
   },
   {
    "duration": 7,
    "start_time": "2021-09-13T19:07:53.032Z"
   },
   {
    "duration": 28,
    "start_time": "2021-09-13T19:07:54.592Z"
   },
   {
    "duration": 124,
    "start_time": "2021-09-13T19:08:22.312Z"
   },
   {
    "duration": 33,
    "start_time": "2021-09-13T19:09:01.591Z"
   },
   {
    "duration": 270,
    "start_time": "2021-09-13T19:12:21.436Z"
   },
   {
    "duration": 8174,
    "start_time": "2021-09-13T19:12:31.869Z"
   },
   {
    "duration": 26,
    "start_time": "2021-09-13T19:12:40.255Z"
   },
   {
    "duration": 8204,
    "start_time": "2021-09-13T19:13:17.436Z"
   },
   {
    "duration": -52,
    "start_time": "2021-09-13T19:13:25.697Z"
   },
   {
    "duration": 98,
    "start_time": "2021-09-13T19:14:08.419Z"
   },
   {
    "duration": 28,
    "start_time": "2021-09-13T19:14:14.059Z"
   },
   {
    "duration": 95,
    "start_time": "2021-09-13T19:14:37.176Z"
   },
   {
    "duration": 27,
    "start_time": "2021-09-13T19:14:37.682Z"
   },
   {
    "duration": 439,
    "start_time": "2021-09-13T19:14:47.970Z"
   },
   {
    "duration": 26,
    "start_time": "2021-09-13T19:14:48.490Z"
   },
   {
    "duration": 99,
    "start_time": "2021-09-13T19:15:17.714Z"
   },
   {
    "duration": 26,
    "start_time": "2021-09-13T19:15:18.290Z"
   },
   {
    "duration": 513,
    "start_time": "2021-09-13T19:15:53.742Z"
   },
   {
    "duration": 34,
    "start_time": "2021-09-13T19:15:54.258Z"
   },
   {
    "duration": 62,
    "start_time": "2021-09-13T19:15:54.295Z"
   },
   {
    "duration": 30,
    "start_time": "2021-09-13T19:15:54.360Z"
   },
   {
    "duration": 65,
    "start_time": "2021-09-13T19:15:54.393Z"
   },
   {
    "duration": 27,
    "start_time": "2021-09-13T19:15:54.460Z"
   },
   {
    "duration": 19,
    "start_time": "2021-09-13T19:15:54.489Z"
   },
   {
    "duration": 59,
    "start_time": "2021-09-13T19:15:54.510Z"
   },
   {
    "duration": 111,
    "start_time": "2021-09-13T19:15:54.574Z"
   },
   {
    "duration": 115,
    "start_time": "2021-09-13T19:15:54.688Z"
   },
   {
    "duration": 24,
    "start_time": "2021-09-13T19:15:54.806Z"
   },
   {
    "duration": 125,
    "start_time": "2021-09-13T19:15:54.832Z"
   },
   {
    "duration": 48,
    "start_time": "2021-09-13T19:15:54.960Z"
   },
   {
    "duration": 169,
    "start_time": "2021-09-13T19:15:55.010Z"
   },
   {
    "duration": 83,
    "start_time": "2021-09-13T19:15:55.181Z"
   },
   {
    "duration": 36,
    "start_time": "2021-09-13T19:15:55.266Z"
   },
   {
    "duration": 101,
    "start_time": "2021-09-13T19:15:55.306Z"
   },
   {
    "duration": 93,
    "start_time": "2021-09-13T19:15:55.409Z"
   },
   {
    "duration": 57,
    "start_time": "2021-09-13T19:15:55.505Z"
   },
   {
    "duration": 33,
    "start_time": "2021-09-13T19:15:55.565Z"
   },
   {
    "duration": 118,
    "start_time": "2021-09-13T19:15:55.600Z"
   },
   {
    "duration": 4,
    "start_time": "2021-09-13T19:15:55.720Z"
   },
   {
    "duration": 39,
    "start_time": "2021-09-13T19:15:55.728Z"
   },
   {
    "duration": 30,
    "start_time": "2021-09-13T19:15:55.769Z"
   },
   {
    "duration": 128,
    "start_time": "2021-09-13T19:15:55.802Z"
   },
   {
    "duration": 36,
    "start_time": "2021-09-13T19:15:55.933Z"
   },
   {
    "duration": 115,
    "start_time": "2021-09-13T19:15:55.974Z"
   },
   {
    "duration": 26,
    "start_time": "2021-09-13T19:15:56.092Z"
   },
   {
    "duration": 520,
    "start_time": "2021-09-13T19:22:41.877Z"
   },
   {
    "duration": 36,
    "start_time": "2021-09-13T19:22:42.400Z"
   },
   {
    "duration": 35,
    "start_time": "2021-09-13T19:22:42.440Z"
   },
   {
    "duration": 32,
    "start_time": "2021-09-13T19:22:42.479Z"
   },
   {
    "duration": 69,
    "start_time": "2021-09-13T19:22:42.513Z"
   },
   {
    "duration": 25,
    "start_time": "2021-09-13T19:22:42.585Z"
   },
   {
    "duration": 46,
    "start_time": "2021-09-13T19:22:42.612Z"
   },
   {
    "duration": 26,
    "start_time": "2021-09-13T19:22:42.660Z"
   },
   {
    "duration": 118,
    "start_time": "2021-09-13T19:22:42.690Z"
   },
   {
    "duration": 112,
    "start_time": "2021-09-13T19:22:42.811Z"
   },
   {
    "duration": 35,
    "start_time": "2021-09-13T19:22:42.926Z"
   },
   {
    "duration": 119,
    "start_time": "2021-09-13T19:22:42.963Z"
   },
   {
    "duration": 46,
    "start_time": "2021-09-13T19:22:43.084Z"
   },
   {
    "duration": 152,
    "start_time": "2021-09-13T19:22:43.132Z"
   },
   {
    "duration": 82,
    "start_time": "2021-09-13T19:22:43.286Z"
   },
   {
    "duration": 36,
    "start_time": "2021-09-13T19:22:43.370Z"
   },
   {
    "duration": 90,
    "start_time": "2021-09-13T19:22:43.408Z"
   },
   {
    "duration": 90,
    "start_time": "2021-09-13T19:22:43.500Z"
   },
   {
    "duration": 38,
    "start_time": "2021-09-13T19:22:43.593Z"
   },
   {
    "duration": 97,
    "start_time": "2021-09-13T19:22:43.634Z"
   },
   {
    "duration": 5,
    "start_time": "2021-09-13T19:22:43.733Z"
   },
   {
    "duration": 11,
    "start_time": "2021-09-13T19:22:43.757Z"
   },
   {
    "duration": 18,
    "start_time": "2021-09-13T19:22:43.770Z"
   },
   {
    "duration": 147,
    "start_time": "2021-09-13T19:22:43.790Z"
   },
   {
    "duration": 35,
    "start_time": "2021-09-13T19:22:43.940Z"
   },
   {
    "duration": 121,
    "start_time": "2021-09-13T19:22:43.977Z"
   },
   {
    "duration": 28,
    "start_time": "2021-09-13T19:22:44.103Z"
   },
   {
    "duration": 13,
    "start_time": "2021-09-13T19:23:54.698Z"
   },
   {
    "duration": 50,
    "start_time": "2021-09-13T19:49:19.236Z"
   },
   {
    "duration": 98,
    "start_time": "2021-09-13T19:49:48.207Z"
   },
   {
    "duration": 93,
    "start_time": "2021-09-13T19:52:59.021Z"
   },
   {
    "duration": 644,
    "start_time": "2021-09-13T19:54:53.002Z"
   },
   {
    "duration": 102,
    "start_time": "2021-09-13T19:55:04.498Z"
   },
   {
    "duration": 12,
    "start_time": "2021-09-13T19:55:16.570Z"
   },
   {
    "duration": 20,
    "start_time": "2021-09-13T19:55:17.162Z"
   },
   {
    "duration": 487,
    "start_time": "2021-09-13T19:55:38.139Z"
   },
   {
    "duration": 34,
    "start_time": "2021-09-13T19:55:38.629Z"
   },
   {
    "duration": 36,
    "start_time": "2021-09-13T19:55:38.666Z"
   },
   {
    "duration": 57,
    "start_time": "2021-09-13T19:55:38.705Z"
   },
   {
    "duration": 37,
    "start_time": "2021-09-13T19:55:38.764Z"
   },
   {
    "duration": 58,
    "start_time": "2021-09-13T19:55:38.803Z"
   },
   {
    "duration": 18,
    "start_time": "2021-09-13T19:55:38.863Z"
   },
   {
    "duration": 32,
    "start_time": "2021-09-13T19:55:38.883Z"
   },
   {
    "duration": 112,
    "start_time": "2021-09-13T19:55:38.920Z"
   },
   {
    "duration": 109,
    "start_time": "2021-09-13T19:55:39.035Z"
   },
   {
    "duration": 25,
    "start_time": "2021-09-13T19:55:39.157Z"
   },
   {
    "duration": 128,
    "start_time": "2021-09-13T19:55:39.184Z"
   },
   {
    "duration": 58,
    "start_time": "2021-09-13T19:55:39.315Z"
   },
   {
    "duration": 148,
    "start_time": "2021-09-13T19:55:39.376Z"
   },
   {
    "duration": 12,
    "start_time": "2021-09-13T19:55:39.526Z"
   },
   {
    "duration": 30,
    "start_time": "2021-09-13T19:55:39.540Z"
   },
   {
    "duration": 91,
    "start_time": "2021-09-13T19:55:39.573Z"
   },
   {
    "duration": 37,
    "start_time": "2021-09-13T19:55:39.667Z"
   },
   {
    "duration": 101,
    "start_time": "2021-09-13T19:55:39.707Z"
   },
   {
    "duration": 110,
    "start_time": "2021-09-13T19:55:39.811Z"
   },
   {
    "duration": 58,
    "start_time": "2021-09-13T19:55:39.924Z"
   },
   {
    "duration": 105,
    "start_time": "2021-09-13T19:55:39.985Z"
   },
   {
    "duration": 15,
    "start_time": "2021-09-13T19:55:40.093Z"
   },
   {
    "duration": 150,
    "start_time": "2021-09-13T19:55:40.111Z"
   },
   {
    "duration": 30,
    "start_time": "2021-09-13T19:55:40.264Z"
   },
   {
    "duration": 136,
    "start_time": "2021-09-13T19:55:40.297Z"
   },
   {
    "duration": 31,
    "start_time": "2021-09-13T19:55:40.438Z"
   },
   {
    "duration": 46,
    "start_time": "2021-09-13T19:55:57.841Z"
   },
   {
    "duration": 36,
    "start_time": "2021-09-13T19:56:44.905Z"
   },
   {
    "duration": 48,
    "start_time": "2021-09-13T19:57:33.584Z"
   },
   {
    "duration": 46,
    "start_time": "2021-09-13T19:57:36.457Z"
   },
   {
    "duration": 44,
    "start_time": "2021-09-13T19:58:38.271Z"
   },
   {
    "duration": 44,
    "start_time": "2021-09-13T19:58:43.543Z"
   },
   {
    "duration": 44,
    "start_time": "2021-09-13T19:58:54.519Z"
   },
   {
    "duration": 30,
    "start_time": "2021-09-13T19:59:50.110Z"
   },
   {
    "duration": 46,
    "start_time": "2021-09-13T20:00:44.660Z"
   },
   {
    "duration": 71,
    "start_time": "2021-09-13T20:05:36.109Z"
   },
   {
    "duration": 81,
    "start_time": "2021-09-13T20:05:57.776Z"
   },
   {
    "duration": 97,
    "start_time": "2021-09-13T20:06:05.680Z"
   },
   {
    "duration": 84,
    "start_time": "2021-09-13T20:06:09.127Z"
   },
   {
    "duration": 92,
    "start_time": "2021-09-13T20:06:14.655Z"
   },
   {
    "duration": 78,
    "start_time": "2021-09-13T20:06:16.983Z"
   },
   {
    "duration": 171,
    "start_time": "2021-09-13T20:06:18.831Z"
   },
   {
    "duration": 89,
    "start_time": "2021-09-13T20:08:08.118Z"
   },
   {
    "duration": 89,
    "start_time": "2021-09-13T20:08:17.229Z"
   },
   {
    "duration": 95,
    "start_time": "2021-09-13T20:08:37.117Z"
   },
   {
    "duration": 113,
    "start_time": "2021-09-13T20:12:07.971Z"
   },
   {
    "duration": 116,
    "start_time": "2021-09-13T20:13:12.393Z"
   },
   {
    "duration": 115,
    "start_time": "2021-09-13T20:14:50.993Z"
   },
   {
    "duration": 93,
    "start_time": "2021-09-13T20:19:35.389Z"
   },
   {
    "duration": 114,
    "start_time": "2021-09-13T20:19:41.020Z"
   },
   {
    "duration": 56,
    "start_time": "2021-09-13T20:23:24.162Z"
   },
   {
    "duration": 88,
    "start_time": "2021-09-13T20:27:03.335Z"
   },
   {
    "duration": 101,
    "start_time": "2021-09-13T20:27:10.127Z"
   },
   {
    "duration": 114,
    "start_time": "2021-09-13T20:30:25.020Z"
   },
   {
    "duration": 339,
    "start_time": "2021-09-13T20:36:45.944Z"
   },
   {
    "duration": 1078,
    "start_time": "2021-09-13T20:37:02.955Z"
   },
   {
    "duration": 284,
    "start_time": "2021-09-13T20:37:12.719Z"
   },
   {
    "duration": 286,
    "start_time": "2021-09-13T20:37:30.262Z"
   },
   {
    "duration": 10,
    "start_time": "2021-09-13T20:43:28.154Z"
   },
   {
    "duration": 45,
    "start_time": "2021-09-13T20:43:34.585Z"
   },
   {
    "duration": 48,
    "start_time": "2021-09-13T20:45:00.201Z"
   },
   {
    "duration": 46,
    "start_time": "2021-09-13T20:45:05.825Z"
   },
   {
    "duration": 45,
    "start_time": "2021-09-13T20:45:32.033Z"
   },
   {
    "duration": 55,
    "start_time": "2021-09-13T20:47:32.365Z"
   },
   {
    "duration": 7,
    "start_time": "2021-09-14T08:06:24.128Z"
   },
   {
    "duration": 19,
    "start_time": "2021-09-14T08:06:28.513Z"
   },
   {
    "duration": 17,
    "start_time": "2021-09-14T08:08:02.995Z"
   },
   {
    "duration": 23,
    "start_time": "2021-09-14T08:08:10.145Z"
   },
   {
    "duration": 540,
    "start_time": "2021-09-14T08:09:16.072Z"
   },
   {
    "duration": 35,
    "start_time": "2021-09-14T08:09:16.615Z"
   },
   {
    "duration": 34,
    "start_time": "2021-09-14T08:09:16.653Z"
   },
   {
    "duration": 32,
    "start_time": "2021-09-14T08:09:16.690Z"
   },
   {
    "duration": 57,
    "start_time": "2021-09-14T08:09:16.725Z"
   },
   {
    "duration": 25,
    "start_time": "2021-09-14T08:09:16.784Z"
   },
   {
    "duration": 15,
    "start_time": "2021-09-14T08:09:16.812Z"
   },
   {
    "duration": 19,
    "start_time": "2021-09-14T08:09:16.858Z"
   },
   {
    "duration": 106,
    "start_time": "2021-09-14T08:09:16.880Z"
   },
   {
    "duration": 110,
    "start_time": "2021-09-14T08:09:16.989Z"
   },
   {
    "duration": 32,
    "start_time": "2021-09-14T08:09:17.102Z"
   },
   {
    "duration": 109,
    "start_time": "2021-09-14T08:09:17.157Z"
   },
   {
    "duration": 47,
    "start_time": "2021-09-14T08:09:17.269Z"
   },
   {
    "duration": 156,
    "start_time": "2021-09-14T08:09:17.319Z"
   },
   {
    "duration": 13,
    "start_time": "2021-09-14T08:09:17.477Z"
   },
   {
    "duration": 109,
    "start_time": "2021-09-14T08:09:17.493Z"
   },
   {
    "duration": 124,
    "start_time": "2021-09-14T08:09:17.604Z"
   },
   {
    "duration": 131,
    "start_time": "2021-09-14T08:09:17.730Z"
   },
   {
    "duration": 66,
    "start_time": "2021-09-14T08:09:17.863Z"
   },
   {
    "duration": 50,
    "start_time": "2021-09-14T08:09:17.932Z"
   },
   {
    "duration": 77,
    "start_time": "2021-09-14T08:09:17.985Z"
   },
   {
    "duration": 59,
    "start_time": "2021-09-14T08:09:18.065Z"
   },
   {
    "duration": 127,
    "start_time": "2021-09-14T08:09:18.128Z"
   },
   {
    "duration": 111,
    "start_time": "2021-09-14T08:09:18.258Z"
   },
   {
    "duration": 94,
    "start_time": "2021-09-14T08:09:18.371Z"
   },
   {
    "duration": 39,
    "start_time": "2021-09-14T08:09:18.468Z"
   },
   {
    "duration": 88,
    "start_time": "2021-09-14T08:09:18.509Z"
   },
   {
    "duration": 32,
    "start_time": "2021-09-14T08:09:18.600Z"
   },
   {
    "duration": 146,
    "start_time": "2021-09-14T08:09:18.635Z"
   },
   {
    "duration": 27,
    "start_time": "2021-09-14T08:09:18.784Z"
   },
   {
    "duration": 117,
    "start_time": "2021-09-14T08:09:18.813Z"
   },
   {
    "duration": 36,
    "start_time": "2021-09-14T08:09:18.932Z"
   },
   {
    "duration": 274,
    "start_time": "2021-09-14T08:09:18.970Z"
   },
   {
    "duration": -75,
    "start_time": "2021-09-14T08:09:19.322Z"
   },
   {
    "duration": 16,
    "start_time": "2021-09-14T08:09:38.028Z"
   },
   {
    "duration": 25,
    "start_time": "2021-09-14T08:09:40.033Z"
   },
   {
    "duration": 88,
    "start_time": "2021-09-14T08:11:22.425Z"
   },
   {
    "duration": 90,
    "start_time": "2021-09-14T08:11:31.645Z"
   },
   {
    "duration": 14,
    "start_time": "2021-09-14T08:12:07.163Z"
   },
   {
    "duration": 280,
    "start_time": "2021-09-14T08:13:03.549Z"
   },
   {
    "duration": 15,
    "start_time": "2021-09-14T08:13:19.531Z"
   },
   {
    "duration": 14,
    "start_time": "2021-09-14T08:13:22.294Z"
   },
   {
    "duration": 15,
    "start_time": "2021-09-14T08:13:37.982Z"
   },
   {
    "duration": 25,
    "start_time": "2021-09-14T08:13:40.039Z"
   },
   {
    "duration": 280,
    "start_time": "2021-09-14T08:15:42.412Z"
   },
   {
    "duration": 1587,
    "start_time": "2021-09-14T08:15:50.004Z"
   },
   {
    "duration": 37,
    "start_time": "2021-09-14T08:15:51.594Z"
   },
   {
    "duration": 36,
    "start_time": "2021-09-14T08:15:51.635Z"
   },
   {
    "duration": 31,
    "start_time": "2021-09-14T08:15:51.674Z"
   },
   {
    "duration": 61,
    "start_time": "2021-09-14T08:15:51.708Z"
   },
   {
    "duration": 27,
    "start_time": "2021-09-14T08:15:51.772Z"
   },
   {
    "duration": 18,
    "start_time": "2021-09-14T08:15:51.801Z"
   },
   {
    "duration": 23,
    "start_time": "2021-09-14T08:15:51.855Z"
   },
   {
    "duration": 116,
    "start_time": "2021-09-14T08:15:51.882Z"
   },
   {
    "duration": 135,
    "start_time": "2021-09-14T08:15:52.001Z"
   },
   {
    "duration": 40,
    "start_time": "2021-09-14T08:15:52.139Z"
   },
   {
    "duration": 126,
    "start_time": "2021-09-14T08:15:52.181Z"
   },
   {
    "duration": 59,
    "start_time": "2021-09-14T08:15:52.309Z"
   },
   {
    "duration": 154,
    "start_time": "2021-09-14T08:15:52.370Z"
   },
   {
    "duration": 13,
    "start_time": "2021-09-14T08:15:52.527Z"
   },
   {
    "duration": 83,
    "start_time": "2021-09-14T08:15:52.557Z"
   },
   {
    "duration": 136,
    "start_time": "2021-09-14T08:15:52.643Z"
   },
   {
    "duration": 151,
    "start_time": "2021-09-14T08:15:52.782Z"
   },
   {
    "duration": 81,
    "start_time": "2021-09-14T08:15:52.935Z"
   },
   {
    "duration": 48,
    "start_time": "2021-09-14T08:15:53.018Z"
   },
   {
    "duration": 63,
    "start_time": "2021-09-14T08:15:53.068Z"
   },
   {
    "duration": 75,
    "start_time": "2021-09-14T08:15:53.133Z"
   },
   {
    "duration": 141,
    "start_time": "2021-09-14T08:15:53.212Z"
   },
   {
    "duration": 116,
    "start_time": "2021-09-14T08:15:53.357Z"
   },
   {
    "duration": 96,
    "start_time": "2021-09-14T08:15:53.477Z"
   },
   {
    "duration": 40,
    "start_time": "2021-09-14T08:15:53.575Z"
   },
   {
    "duration": 111,
    "start_time": "2021-09-14T08:15:53.617Z"
   },
   {
    "duration": 46,
    "start_time": "2021-09-14T08:15:53.730Z"
   },
   {
    "duration": 135,
    "start_time": "2021-09-14T08:15:53.779Z"
   },
   {
    "duration": 42,
    "start_time": "2021-09-14T08:15:53.917Z"
   },
   {
    "duration": 115,
    "start_time": "2021-09-14T08:15:53.961Z"
   },
   {
    "duration": 32,
    "start_time": "2021-09-14T08:15:54.078Z"
   },
   {
    "duration": 46,
    "start_time": "2021-09-14T08:15:54.113Z"
   },
   {
    "duration": 50,
    "start_time": "2021-09-14T08:15:54.161Z"
   },
   {
    "duration": 125,
    "start_time": "2021-09-14T08:17:31.009Z"
   },
   {
    "duration": 7,
    "start_time": "2021-09-14T08:17:38.292Z"
   },
   {
    "duration": 27,
    "start_time": "2021-09-14T08:17:42.038Z"
   },
   {
    "duration": 71,
    "start_time": "2021-09-14T08:20:32.616Z"
   },
   {
    "duration": 87,
    "start_time": "2021-09-14T08:20:48.151Z"
   },
   {
    "duration": 88,
    "start_time": "2021-09-14T08:20:57.705Z"
   },
   {
    "duration": 91,
    "start_time": "2021-09-14T08:21:09.017Z"
   },
   {
    "duration": 81,
    "start_time": "2021-09-14T08:22:29.123Z"
   },
   {
    "duration": 94,
    "start_time": "2021-09-14T08:22:48.894Z"
   },
   {
    "duration": 286,
    "start_time": "2021-09-14T08:22:57.338Z"
   },
   {
    "duration": 16,
    "start_time": "2021-09-14T08:23:09.032Z"
   },
   {
    "duration": 37,
    "start_time": "2021-09-14T08:23:21.658Z"
   },
   {
    "duration": 40,
    "start_time": "2021-09-14T08:23:41.496Z"
   },
   {
    "duration": 40,
    "start_time": "2021-09-14T08:24:32.747Z"
   },
   {
    "duration": 36,
    "start_time": "2021-09-14T08:25:07.323Z"
   },
   {
    "duration": 36,
    "start_time": "2021-09-14T08:25:17.190Z"
   },
   {
    "duration": 6,
    "start_time": "2021-09-14T08:26:01.711Z"
   },
   {
    "duration": 25,
    "start_time": "2021-09-14T08:26:03.391Z"
   },
   {
    "duration": 8,
    "start_time": "2021-09-14T08:27:48.764Z"
   },
   {
    "duration": 18,
    "start_time": "2021-09-14T08:28:03.290Z"
   },
   {
    "duration": 17,
    "start_time": "2021-09-14T08:28:58.860Z"
   },
   {
    "duration": 18,
    "start_time": "2021-09-14T08:29:34.062Z"
   },
   {
    "duration": 12,
    "start_time": "2021-09-14T08:29:44.101Z"
   },
   {
    "duration": 51,
    "start_time": "2021-09-14T08:30:57.218Z"
   },
   {
    "duration": 259,
    "start_time": "2021-09-14T08:31:36.174Z"
   },
   {
    "duration": 40,
    "start_time": "2021-09-14T08:31:40.649Z"
   },
   {
    "duration": 273,
    "start_time": "2021-09-14T08:32:31.093Z"
   },
   {
    "duration": 39,
    "start_time": "2021-09-14T08:32:33.772Z"
   },
   {
    "duration": 40,
    "start_time": "2021-09-14T08:44:01.163Z"
   },
   {
    "duration": 7,
    "start_time": "2021-09-14T08:44:55.849Z"
   },
   {
    "duration": 29,
    "start_time": "2021-09-14T08:44:57.393Z"
   },
   {
    "duration": 276,
    "start_time": "2021-09-14T08:45:19.527Z"
   },
   {
    "duration": 39,
    "start_time": "2021-09-14T08:45:23.564Z"
   },
   {
    "duration": 38,
    "start_time": "2021-09-14T08:45:27.405Z"
   },
   {
    "duration": 6,
    "start_time": "2021-09-14T08:46:43.887Z"
   },
   {
    "duration": 8,
    "start_time": "2021-09-14T08:46:58.736Z"
   },
   {
    "duration": 8,
    "start_time": "2021-09-14T08:47:13.151Z"
   },
   {
    "duration": 6,
    "start_time": "2021-09-14T08:47:27.582Z"
   },
   {
    "duration": 255,
    "start_time": "2021-09-14T08:47:57.764Z"
   },
   {
    "duration": 13,
    "start_time": "2021-09-14T08:48:03.045Z"
   },
   {
    "duration": 109,
    "start_time": "2021-09-14T08:48:12.186Z"
   },
   {
    "duration": 13,
    "start_time": "2021-09-14T08:48:15.427Z"
   },
   {
    "duration": -43,
    "start_time": "2021-09-14T08:48:35.043Z"
   },
   {
    "duration": 7884,
    "start_time": "2021-09-14T08:48:59.738Z"
   },
   {
    "duration": -36,
    "start_time": "2021-09-14T08:49:33.514Z"
   },
   {
    "duration": 12,
    "start_time": "2021-09-14T08:50:18.883Z"
   },
   {
    "duration": 8311,
    "start_time": "2021-09-14T08:51:00.041Z"
   },
   {
    "duration": 29,
    "start_time": "2021-09-14T08:53:06.683Z"
   },
   {
    "duration": 247,
    "start_time": "2021-09-14T08:53:20.799Z"
   },
   {
    "duration": 14,
    "start_time": "2021-09-14T08:53:27.491Z"
   },
   {
    "duration": 13,
    "start_time": "2021-09-14T08:53:39.028Z"
   },
   {
    "duration": 267,
    "start_time": "2021-09-14T08:57:53.942Z"
   },
   {
    "duration": 28,
    "start_time": "2021-09-14T08:59:01.055Z"
   },
   {
    "duration": 274,
    "start_time": "2021-09-14T09:03:13.738Z"
   },
   {
    "duration": 581,
    "start_time": "2021-09-14T09:03:40.435Z"
   },
   {
    "duration": 34,
    "start_time": "2021-09-14T09:03:41.019Z"
   },
   {
    "duration": 35,
    "start_time": "2021-09-14T09:03:41.055Z"
   },
   {
    "duration": 29,
    "start_time": "2021-09-14T09:03:41.093Z"
   },
   {
    "duration": 61,
    "start_time": "2021-09-14T09:03:41.124Z"
   },
   {
    "duration": 24,
    "start_time": "2021-09-14T09:03:41.187Z"
   },
   {
    "duration": 43,
    "start_time": "2021-09-14T09:03:41.213Z"
   },
   {
    "duration": 20,
    "start_time": "2021-09-14T09:03:41.260Z"
   },
   {
    "duration": 110,
    "start_time": "2021-09-14T09:03:41.283Z"
   },
   {
    "duration": 111,
    "start_time": "2021-09-14T09:03:41.395Z"
   },
   {
    "duration": 23,
    "start_time": "2021-09-14T09:03:41.508Z"
   },
   {
    "duration": 127,
    "start_time": "2021-09-14T09:03:41.534Z"
   },
   {
    "duration": 47,
    "start_time": "2021-09-14T09:03:41.664Z"
   },
   {
    "duration": 146,
    "start_time": "2021-09-14T09:03:41.713Z"
   },
   {
    "duration": 12,
    "start_time": "2021-09-14T09:03:41.862Z"
   },
   {
    "duration": 94,
    "start_time": "2021-09-14T09:03:41.876Z"
   },
   {
    "duration": 135,
    "start_time": "2021-09-14T09:03:41.972Z"
   },
   {
    "duration": 136,
    "start_time": "2021-09-14T09:03:42.110Z"
   },
   {
    "duration": 73,
    "start_time": "2021-09-14T09:03:42.249Z"
   },
   {
    "duration": 53,
    "start_time": "2021-09-14T09:03:42.324Z"
   },
   {
    "duration": 63,
    "start_time": "2021-09-14T09:03:42.379Z"
   },
   {
    "duration": 57,
    "start_time": "2021-09-14T09:03:42.456Z"
   },
   {
    "duration": 121,
    "start_time": "2021-09-14T09:03:42.520Z"
   },
   {
    "duration": 115,
    "start_time": "2021-09-14T09:03:42.645Z"
   },
   {
    "duration": 96,
    "start_time": "2021-09-14T09:03:42.763Z"
   },
   {
    "duration": 41,
    "start_time": "2021-09-14T09:03:42.862Z"
   },
   {
    "duration": 94,
    "start_time": "2021-09-14T09:03:42.905Z"
   },
   {
    "duration": 32,
    "start_time": "2021-09-14T09:03:43.001Z"
   },
   {
    "duration": 143,
    "start_time": "2021-09-14T09:03:43.035Z"
   },
   {
    "duration": 30,
    "start_time": "2021-09-14T09:03:43.180Z"
   },
   {
    "duration": 117,
    "start_time": "2021-09-14T09:03:43.213Z"
   },
   {
    "duration": 36,
    "start_time": "2021-09-14T09:03:43.332Z"
   },
   {
    "duration": 18,
    "start_time": "2021-09-14T09:03:43.370Z"
   },
   {
    "duration": 26,
    "start_time": "2021-09-14T09:03:43.390Z"
   },
   {
    "duration": 42,
    "start_time": "2021-09-14T09:03:43.419Z"
   },
   {
    "duration": 268,
    "start_time": "2021-09-14T09:03:43.463Z"
   },
   {
    "duration": -38,
    "start_time": "2021-09-14T09:03:43.771Z"
   },
   {
    "duration": -40,
    "start_time": "2021-09-14T09:03:43.775Z"
   },
   {
    "duration": -43,
    "start_time": "2021-09-14T09:03:43.779Z"
   },
   {
    "duration": 34,
    "start_time": "2021-09-14T09:03:53.051Z"
   },
   {
    "duration": 18,
    "start_time": "2021-09-14T09:04:48.131Z"
   },
   {
    "duration": 20,
    "start_time": "2021-09-14T09:05:02.085Z"
   },
   {
    "duration": 23,
    "start_time": "2021-09-14T09:05:13.861Z"
   },
   {
    "duration": 33,
    "start_time": "2021-09-14T09:08:27.526Z"
   },
   {
    "duration": 268,
    "start_time": "2021-09-14T09:09:11.914Z"
   },
   {
    "duration": 283,
    "start_time": "2021-09-14T09:09:13.940Z"
   },
   {
    "duration": 34,
    "start_time": "2021-09-14T09:09:20.274Z"
   },
   {
    "duration": 294,
    "start_time": "2021-09-14T09:22:03.879Z"
   },
   {
    "duration": 39,
    "start_time": "2021-09-14T09:22:19.410Z"
   },
   {
    "duration": 29,
    "start_time": "2021-09-14T09:23:18.923Z"
   },
   {
    "duration": 7316,
    "start_time": "2021-09-14T09:23:21.072Z"
   },
   {
    "duration": 31,
    "start_time": "2021-09-14T09:25:08.391Z"
   },
   {
    "duration": 8,
    "start_time": "2021-09-14T09:25:45.619Z"
   },
   {
    "duration": 6,
    "start_time": "2021-09-14T09:26:07.484Z"
   },
   {
    "duration": 32,
    "start_time": "2021-09-14T09:26:08.846Z"
   },
   {
    "duration": 34,
    "start_time": "2021-09-14T09:27:48.503Z"
   },
   {
    "duration": 32,
    "start_time": "2021-09-14T09:28:15.547Z"
   },
   {
    "duration": 33,
    "start_time": "2021-09-14T09:28:59.077Z"
   },
   {
    "duration": 548,
    "start_time": "2021-09-14T09:29:10.430Z"
   },
   {
    "duration": 33,
    "start_time": "2021-09-14T09:29:10.981Z"
   },
   {
    "duration": 34,
    "start_time": "2021-09-14T09:29:11.017Z"
   },
   {
    "duration": 31,
    "start_time": "2021-09-14T09:29:11.056Z"
   },
   {
    "duration": 36,
    "start_time": "2021-09-14T09:29:11.090Z"
   },
   {
    "duration": 50,
    "start_time": "2021-09-14T09:29:11.128Z"
   },
   {
    "duration": 23,
    "start_time": "2021-09-14T09:29:11.181Z"
   },
   {
    "duration": 53,
    "start_time": "2021-09-14T09:29:11.208Z"
   },
   {
    "duration": 96,
    "start_time": "2021-09-14T09:29:11.264Z"
   },
   {
    "duration": 105,
    "start_time": "2021-09-14T09:29:11.363Z"
   },
   {
    "duration": 24,
    "start_time": "2021-09-14T09:29:11.471Z"
   },
   {
    "duration": 127,
    "start_time": "2021-09-14T09:29:11.497Z"
   },
   {
    "duration": 57,
    "start_time": "2021-09-14T09:29:11.626Z"
   },
   {
    "duration": 138,
    "start_time": "2021-09-14T09:29:11.685Z"
   },
   {
    "duration": 12,
    "start_time": "2021-09-14T09:29:11.826Z"
   },
   {
    "duration": 71,
    "start_time": "2021-09-14T09:29:11.857Z"
   },
   {
    "duration": 148,
    "start_time": "2021-09-14T09:29:11.931Z"
   },
   {
    "duration": 134,
    "start_time": "2021-09-14T09:29:12.082Z"
   },
   {
    "duration": 93,
    "start_time": "2021-09-14T09:29:12.219Z"
   },
   {
    "duration": 55,
    "start_time": "2021-09-14T09:29:12.315Z"
   },
   {
    "duration": 82,
    "start_time": "2021-09-14T09:29:12.373Z"
   },
   {
    "duration": 62,
    "start_time": "2021-09-14T09:29:12.458Z"
   },
   {
    "duration": 128,
    "start_time": "2021-09-14T09:29:12.527Z"
   },
   {
    "duration": 117,
    "start_time": "2021-09-14T09:29:12.659Z"
   },
   {
    "duration": 101,
    "start_time": "2021-09-14T09:29:12.779Z"
   },
   {
    "duration": 41,
    "start_time": "2021-09-14T09:29:12.883Z"
   },
   {
    "duration": 98,
    "start_time": "2021-09-14T09:29:12.928Z"
   },
   {
    "duration": 56,
    "start_time": "2021-09-14T09:29:13.029Z"
   },
   {
    "duration": 141,
    "start_time": "2021-09-14T09:29:13.088Z"
   },
   {
    "duration": 40,
    "start_time": "2021-09-14T09:29:13.232Z"
   },
   {
    "duration": 118,
    "start_time": "2021-09-14T09:29:13.275Z"
   },
   {
    "duration": 29,
    "start_time": "2021-09-14T09:29:13.396Z"
   },
   {
    "duration": 43,
    "start_time": "2021-09-14T09:29:13.428Z"
   },
   {
    "duration": 25,
    "start_time": "2021-09-14T09:29:13.474Z"
   },
   {
    "duration": 55,
    "start_time": "2021-09-14T09:29:13.502Z"
   },
   {
    "duration": 34,
    "start_time": "2021-09-14T09:29:13.560Z"
   },
   {
    "duration": 61,
    "start_time": "2021-09-14T09:29:13.596Z"
   },
   {
    "duration": 30,
    "start_time": "2021-09-14T09:29:13.660Z"
   },
   {
    "duration": 6,
    "start_time": "2021-09-14T09:29:13.692Z"
   },
   {
    "duration": 57,
    "start_time": "2021-09-14T09:29:13.700Z"
   },
   {
    "duration": 88,
    "start_time": "2021-09-14T09:52:08.896Z"
   },
   {
    "duration": 31,
    "start_time": "2021-09-14T09:52:21.534Z"
   },
   {
    "duration": 293,
    "start_time": "2021-09-14T09:52:53.511Z"
   },
   {
    "duration": 33,
    "start_time": "2021-09-14T09:53:05.619Z"
   },
   {
    "duration": 119,
    "start_time": "2021-09-14T11:36:01.326Z"
   },
   {
    "duration": 21,
    "start_time": "2021-09-14T11:36:09.672Z"
   },
   {
    "duration": 18,
    "start_time": "2021-09-14T11:36:22.107Z"
   },
   {
    "duration": 28,
    "start_time": "2021-09-14T11:36:39.311Z"
   },
   {
    "duration": 18,
    "start_time": "2021-09-14T11:37:56.481Z"
   },
   {
    "duration": 21,
    "start_time": "2021-09-14T11:39:52.490Z"
   },
   {
    "duration": 5,
    "start_time": "2021-09-14T11:42:56.758Z"
   },
   {
    "duration": 7,
    "start_time": "2021-09-14T11:43:10.451Z"
   },
   {
    "duration": 13,
    "start_time": "2021-09-14T11:44:07.346Z"
   },
   {
    "duration": 13,
    "start_time": "2021-09-14T11:46:55.731Z"
   },
   {
    "duration": 8,
    "start_time": "2021-09-14T11:49:12.405Z"
   },
   {
    "duration": 8,
    "start_time": "2021-09-14T11:49:21.721Z"
   },
   {
    "duration": 10,
    "start_time": "2021-09-14T11:52:26.924Z"
   },
   {
    "duration": 8,
    "start_time": "2021-09-14T11:55:31.907Z"
   },
   {
    "duration": 10,
    "start_time": "2021-09-14T11:56:41.657Z"
   },
   {
    "duration": 6,
    "start_time": "2021-09-14T12:09:33.516Z"
   },
   {
    "duration": 521,
    "start_time": "2021-09-14T14:55:19.897Z"
   },
   {
    "duration": 355,
    "start_time": "2021-09-14T14:55:28.308Z"
   },
   {
    "duration": 3337,
    "start_time": "2021-09-14T15:00:47.655Z"
   },
   {
    "duration": 288,
    "start_time": "2021-09-14T15:01:01.022Z"
   },
   {
    "duration": 357,
    "start_time": "2021-09-14T15:01:08.921Z"
   },
   {
    "duration": 348,
    "start_time": "2021-09-14T15:01:13.328Z"
   },
   {
    "duration": 21,
    "start_time": "2021-09-14T15:03:17.818Z"
   },
   {
    "duration": 20,
    "start_time": "2021-09-14T15:03:31.891Z"
   },
   {
    "duration": 21,
    "start_time": "2021-09-14T15:03:46.870Z"
   },
   {
    "duration": 312,
    "start_time": "2021-09-14T15:11:51.523Z"
   },
   {
    "duration": 9,
    "start_time": "2021-09-14T15:12:02.634Z"
   },
   {
    "duration": 9,
    "start_time": "2021-09-14T15:16:10.478Z"
   },
   {
    "duration": 9,
    "start_time": "2021-09-14T15:17:01.939Z"
   },
   {
    "duration": 9,
    "start_time": "2021-09-14T15:17:02.975Z"
   },
   {
    "duration": 9,
    "start_time": "2021-09-14T15:18:15.178Z"
   },
   {
    "duration": 17,
    "start_time": "2021-09-14T15:20:32.512Z"
   },
   {
    "duration": 9,
    "start_time": "2021-09-14T15:20:57.401Z"
   },
   {
    "duration": 325,
    "start_time": "2021-09-14T15:21:50.334Z"
   },
   {
    "duration": 535,
    "start_time": "2021-09-14T17:15:24.454Z"
   },
   {
    "duration": 451,
    "start_time": "2021-09-14T17:18:01.312Z"
   },
   {
    "duration": 28,
    "start_time": "2021-09-14T17:22:09.509Z"
   },
   {
    "duration": 27,
    "start_time": "2021-09-14T17:22:42.205Z"
   },
   {
    "duration": 282,
    "start_time": "2021-09-14T17:24:56.799Z"
   },
   {
    "duration": 15,
    "start_time": "2021-09-14T17:25:01.182Z"
   },
   {
    "duration": 4,
    "start_time": "2021-09-14T17:25:02.883Z"
   },
   {
    "duration": 13,
    "start_time": "2021-09-14T17:25:07.098Z"
   },
   {
    "duration": 4,
    "start_time": "2021-09-14T17:25:20.051Z"
   },
   {
    "duration": 11,
    "start_time": "2021-09-14T17:25:20.497Z"
   },
   {
    "duration": 5,
    "start_time": "2021-09-14T17:25:28.354Z"
   },
   {
    "duration": 5,
    "start_time": "2021-09-14T17:25:30.018Z"
   },
   {
    "duration": 10,
    "start_time": "2021-09-14T17:25:30.370Z"
   },
   {
    "duration": 13,
    "start_time": "2021-09-14T17:25:32.210Z"
   },
   {
    "duration": 17,
    "start_time": "2021-09-14T17:25:34.650Z"
   },
   {
    "duration": 6,
    "start_time": "2021-09-14T17:25:35.089Z"
   },
   {
    "duration": 10,
    "start_time": "2021-09-14T17:25:35.465Z"
   },
   {
    "duration": 280,
    "start_time": "2021-09-14T17:26:53.520Z"
   },
   {
    "duration": 4,
    "start_time": "2021-09-14T17:27:10.504Z"
   },
   {
    "duration": 10,
    "start_time": "2021-09-14T17:27:14.888Z"
   },
   {
    "duration": 8,
    "start_time": "2021-09-14T17:33:21.152Z"
   },
   {
    "duration": 8,
    "start_time": "2021-09-14T17:33:23.356Z"
   },
   {
    "duration": 8,
    "start_time": "2021-09-14T17:35:09.327Z"
   },
   {
    "duration": 9,
    "start_time": "2021-09-14T17:35:10.409Z"
   },
   {
    "duration": 9,
    "start_time": "2021-09-14T17:35:30.062Z"
   },
   {
    "duration": 9,
    "start_time": "2021-09-14T17:35:31.521Z"
   },
   {
    "duration": 535,
    "start_time": "2021-09-14T17:36:23.056Z"
   },
   {
    "duration": 86,
    "start_time": "2021-09-14T17:48:52.008Z"
   },
   {
    "duration": 1109,
    "start_time": "2021-09-14T18:06:17.515Z"
   },
   {
    "duration": 34,
    "start_time": "2021-09-14T18:06:18.627Z"
   },
   {
    "duration": 36,
    "start_time": "2021-09-14T18:06:18.664Z"
   },
   {
    "duration": 67,
    "start_time": "2021-09-14T18:06:18.703Z"
   },
   {
    "duration": 39,
    "start_time": "2021-09-14T18:06:18.772Z"
   },
   {
    "duration": 59,
    "start_time": "2021-09-14T18:06:18.814Z"
   },
   {
    "duration": 16,
    "start_time": "2021-09-14T18:06:18.876Z"
   },
   {
    "duration": 62,
    "start_time": "2021-09-14T18:06:18.894Z"
   },
   {
    "duration": 103,
    "start_time": "2021-09-14T18:06:18.960Z"
   },
   {
    "duration": 119,
    "start_time": "2021-09-14T18:06:19.067Z"
   },
   {
    "duration": 24,
    "start_time": "2021-09-14T18:06:19.189Z"
   },
   {
    "duration": 157,
    "start_time": "2021-09-14T18:06:19.216Z"
   },
   {
    "duration": 63,
    "start_time": "2021-09-14T18:06:19.376Z"
   },
   {
    "duration": 176,
    "start_time": "2021-09-14T18:06:19.457Z"
   },
   {
    "duration": 22,
    "start_time": "2021-09-14T18:06:19.635Z"
   },
   {
    "duration": 73,
    "start_time": "2021-09-14T18:06:19.659Z"
   },
   {
    "duration": 137,
    "start_time": "2021-09-14T18:06:19.755Z"
   },
   {
    "duration": 137,
    "start_time": "2021-09-14T18:06:19.895Z"
   },
   {
    "duration": 81,
    "start_time": "2021-09-14T18:06:20.034Z"
   },
   {
    "duration": 56,
    "start_time": "2021-09-14T18:06:20.117Z"
   },
   {
    "duration": 62,
    "start_time": "2021-09-14T18:06:20.175Z"
   },
   {
    "duration": 61,
    "start_time": "2021-09-14T18:06:20.255Z"
   },
   {
    "duration": 130,
    "start_time": "2021-09-14T18:06:20.318Z"
   },
   {
    "duration": 115,
    "start_time": "2021-09-14T18:06:20.455Z"
   },
   {
    "duration": 106,
    "start_time": "2021-09-14T18:06:20.575Z"
   },
   {
    "duration": 42,
    "start_time": "2021-09-14T18:06:20.684Z"
   },
   {
    "duration": 124,
    "start_time": "2021-09-14T18:06:20.732Z"
   },
   {
    "duration": 33,
    "start_time": "2021-09-14T18:06:20.860Z"
   },
   {
    "duration": 144,
    "start_time": "2021-09-14T18:06:20.895Z"
   },
   {
    "duration": 42,
    "start_time": "2021-09-14T18:06:21.041Z"
   },
   {
    "duration": 127,
    "start_time": "2021-09-14T18:06:21.086Z"
   },
   {
    "duration": 41,
    "start_time": "2021-09-14T18:06:21.216Z"
   },
   {
    "duration": 39,
    "start_time": "2021-09-14T18:06:21.260Z"
   },
   {
    "duration": 80,
    "start_time": "2021-09-14T18:06:21.303Z"
   },
   {
    "duration": 29,
    "start_time": "2021-09-14T18:06:21.386Z"
   },
   {
    "duration": 6,
    "start_time": "2021-09-14T18:06:21.417Z"
   },
   {
    "duration": 35,
    "start_time": "2021-09-14T18:06:21.457Z"
   },
   {
    "duration": 18,
    "start_time": "2021-09-14T18:06:21.495Z"
   },
   {
    "duration": 45,
    "start_time": "2021-09-14T18:06:21.515Z"
   },
   {
    "duration": 8,
    "start_time": "2021-09-14T18:06:21.563Z"
   },
   {
    "duration": 28,
    "start_time": "2021-09-14T18:06:21.574Z"
   },
   {
    "duration": 40,
    "start_time": "2021-09-14T18:06:21.605Z"
   },
   {
    "duration": 354,
    "start_time": "2021-09-14T18:06:21.648Z"
   },
   {
    "duration": 21,
    "start_time": "2021-09-14T18:06:22.005Z"
   },
   {
    "duration": 31,
    "start_time": "2021-09-14T18:06:22.028Z"
   },
   {
    "duration": 36,
    "start_time": "2021-09-14T18:06:22.061Z"
   },
   {
    "duration": 25,
    "start_time": "2021-09-14T18:06:22.099Z"
   },
   {
    "duration": 22,
    "start_time": "2021-09-14T18:06:22.127Z"
   },
   {
    "duration": 526,
    "start_time": "2021-09-14T18:06:22.152Z"
   },
   {
    "duration": 20,
    "start_time": "2021-09-14T18:06:22.681Z"
   },
   {
    "duration": 20,
    "start_time": "2021-09-14T18:06:22.703Z"
   },
   {
    "duration": 33,
    "start_time": "2021-09-14T18:06:22.726Z"
   },
   {
    "duration": 10,
    "start_time": "2021-09-14T18:06:22.762Z"
   },
   {
    "duration": 7,
    "start_time": "2021-09-14T18:06:22.774Z"
   },
   {
    "duration": 10,
    "start_time": "2021-09-14T18:06:22.784Z"
   },
   {
    "duration": 61,
    "start_time": "2021-09-14T18:06:22.796Z"
   },
   {
    "duration": 643,
    "start_time": "2021-09-14T18:06:22.859Z"
   },
   {
    "duration": 651,
    "start_time": "2021-09-14T18:07:36.018Z"
   },
   {
    "duration": 687,
    "start_time": "2021-09-14T18:08:02.694Z"
   },
   {
    "duration": 102,
    "start_time": "2021-09-14T18:08:33.118Z"
   },
   {
    "duration": 517,
    "start_time": "2021-09-14T18:08:39.606Z"
   },
   {
    "duration": 524,
    "start_time": "2021-09-14T18:08:52.470Z"
   },
   {
    "duration": 521,
    "start_time": "2021-09-14T18:08:55.605Z"
   },
   {
    "duration": 365,
    "start_time": "2021-09-14T18:09:38.765Z"
   },
   {
    "duration": 321,
    "start_time": "2021-09-14T18:09:42.661Z"
   },
   {
    "duration": 34,
    "start_time": "2021-09-14T18:17:29.346Z"
   },
   {
    "duration": 35,
    "start_time": "2021-09-14T18:17:46.055Z"
   },
   {
    "duration": 9,
    "start_time": "2021-09-14T18:18:54.903Z"
   },
   {
    "duration": 947,
    "start_time": "2021-09-14T18:20:45.449Z"
   },
   {
    "duration": 13,
    "start_time": "2021-09-14T18:23:33.649Z"
   },
   {
    "duration": 12,
    "start_time": "2021-09-14T18:32:36.002Z"
   },
   {
    "duration": 8,
    "start_time": "2021-09-14T18:48:37.497Z"
   },
   {
    "duration": 8,
    "start_time": "2021-09-14T18:48:44.516Z"
   },
   {
    "duration": 14,
    "start_time": "2021-09-15T06:40:52.214Z"
   },
   {
    "duration": 13,
    "start_time": "2021-09-15T06:40:58.001Z"
   },
   {
    "duration": 14,
    "start_time": "2021-09-15T06:41:00.708Z"
   },
   {
    "duration": 11,
    "start_time": "2021-09-15T06:41:08.696Z"
   },
   {
    "duration": 3,
    "start_time": "2021-09-15T06:48:09.806Z"
   },
   {
    "duration": 324,
    "start_time": "2021-09-15T06:48:31.861Z"
   },
   {
    "duration": 5,
    "start_time": "2021-09-15T06:48:39.989Z"
   },
   {
    "duration": 48,
    "start_time": "2021-09-15T07:34:22.890Z"
   },
   {
    "duration": 342,
    "start_time": "2021-09-15T07:34:51.655Z"
   },
   {
    "duration": 325,
    "start_time": "2021-09-15T07:35:31.173Z"
   },
   {
    "duration": 38,
    "start_time": "2021-09-15T07:35:47.494Z"
   },
   {
    "duration": 12,
    "start_time": "2021-09-15T07:36:37.890Z"
   },
   {
    "duration": 33,
    "start_time": "2021-09-15T07:37:30.819Z"
   },
   {
    "duration": 7,
    "start_time": "2021-09-15T07:37:49.632Z"
   },
   {
    "duration": 8,
    "start_time": "2021-09-15T07:38:11.075Z"
   },
   {
    "duration": 38,
    "start_time": "2021-09-15T07:39:32.274Z"
   },
   {
    "duration": 12,
    "start_time": "2021-09-15T07:40:29.739Z"
   },
   {
    "duration": 37,
    "start_time": "2021-09-15T07:54:11.981Z"
   },
   {
    "duration": 859,
    "start_time": "2021-09-15T07:54:20.254Z"
   },
   {
    "duration": 58,
    "start_time": "2021-09-15T07:54:28.049Z"
   },
   {
    "duration": 36,
    "start_time": "2021-09-15T07:54:49.842Z"
   },
   {
    "duration": 39,
    "start_time": "2021-09-15T07:55:11.546Z"
   },
   {
    "duration": 67,
    "start_time": "2021-09-15T07:55:23.753Z"
   },
   {
    "duration": 30,
    "start_time": "2021-09-15T07:58:19.529Z"
   },
   {
    "duration": 6,
    "start_time": "2021-09-15T07:58:33.887Z"
   },
   {
    "duration": 12,
    "start_time": "2021-09-15T07:58:46.952Z"
   },
   {
    "duration": 33,
    "start_time": "2021-09-15T07:59:28.976Z"
   },
   {
    "duration": 299,
    "start_time": "2021-09-15T08:01:19.846Z"
   },
   {
    "duration": 34,
    "start_time": "2021-09-15T08:01:26.256Z"
   },
   {
    "duration": 32,
    "start_time": "2021-09-15T08:01:55.108Z"
   },
   {
    "duration": 12,
    "start_time": "2021-09-15T08:03:17.634Z"
   },
   {
    "duration": 35,
    "start_time": "2021-09-15T08:03:46.289Z"
   },
   {
    "duration": 34,
    "start_time": "2021-09-15T08:03:56.653Z"
   },
   {
    "duration": 278,
    "start_time": "2021-09-15T08:05:18.925Z"
   },
   {
    "duration": 25,
    "start_time": "2021-09-15T08:05:25.754Z"
   },
   {
    "duration": 22,
    "start_time": "2021-09-15T08:05:28.774Z"
   },
   {
    "duration": 37,
    "start_time": "2021-09-15T08:05:48.230Z"
   },
   {
    "duration": 34,
    "start_time": "2021-09-15T08:06:21.806Z"
   },
   {
    "duration": 30,
    "start_time": "2021-09-15T08:07:06.319Z"
   },
   {
    "duration": 31,
    "start_time": "2021-09-15T08:07:15.682Z"
   },
   {
    "duration": 24,
    "start_time": "2021-09-15T08:07:19.402Z"
   },
   {
    "duration": 666,
    "start_time": "2021-09-15T08:07:30.371Z"
   },
   {
    "duration": 41,
    "start_time": "2021-09-15T08:07:31.040Z"
   },
   {
    "duration": 46,
    "start_time": "2021-09-15T08:07:31.084Z"
   },
   {
    "duration": 53,
    "start_time": "2021-09-15T08:07:31.132Z"
   },
   {
    "duration": 38,
    "start_time": "2021-09-15T08:07:31.188Z"
   },
   {
    "duration": 32,
    "start_time": "2021-09-15T08:07:31.257Z"
   },
   {
    "duration": 28,
    "start_time": "2021-09-15T08:07:31.293Z"
   },
   {
    "duration": 54,
    "start_time": "2021-09-15T08:07:31.324Z"
   },
   {
    "duration": 103,
    "start_time": "2021-09-15T08:07:31.381Z"
   },
   {
    "duration": 123,
    "start_time": "2021-09-15T08:07:31.486Z"
   },
   {
    "duration": 24,
    "start_time": "2021-09-15T08:07:31.612Z"
   },
   {
    "duration": 119,
    "start_time": "2021-09-15T08:07:31.656Z"
   },
   {
    "duration": 48,
    "start_time": "2021-09-15T08:07:31.777Z"
   },
   {
    "duration": 161,
    "start_time": "2021-09-15T08:07:31.827Z"
   },
   {
    "duration": 13,
    "start_time": "2021-09-15T08:07:31.990Z"
   },
   {
    "duration": 94,
    "start_time": "2021-09-15T08:07:32.005Z"
   },
   {
    "duration": 142,
    "start_time": "2021-09-15T08:07:32.101Z"
   },
   {
    "duration": 153,
    "start_time": "2021-09-15T08:07:32.246Z"
   },
   {
    "duration": 83,
    "start_time": "2021-09-15T08:07:32.402Z"
   },
   {
    "duration": 36,
    "start_time": "2021-09-15T08:07:32.487Z"
   },
   {
    "duration": 86,
    "start_time": "2021-09-15T08:07:32.526Z"
   },
   {
    "duration": 74,
    "start_time": "2021-09-15T08:07:32.614Z"
   },
   {
    "duration": 120,
    "start_time": "2021-09-15T08:07:32.694Z"
   },
   {
    "duration": 124,
    "start_time": "2021-09-15T08:07:32.817Z"
   },
   {
    "duration": 95,
    "start_time": "2021-09-15T08:07:32.943Z"
   },
   {
    "duration": 57,
    "start_time": "2021-09-15T08:07:33.040Z"
   },
   {
    "duration": 97,
    "start_time": "2021-09-15T08:07:33.099Z"
   },
   {
    "duration": 32,
    "start_time": "2021-09-15T08:07:33.198Z"
   },
   {
    "duration": 149,
    "start_time": "2021-09-15T08:07:33.232Z"
   },
   {
    "duration": 28,
    "start_time": "2021-09-15T08:07:33.384Z"
   },
   {
    "duration": 125,
    "start_time": "2021-09-15T08:07:33.415Z"
   },
   {
    "duration": 39,
    "start_time": "2021-09-15T08:07:33.542Z"
   },
   {
    "duration": 29,
    "start_time": "2021-09-15T08:07:33.584Z"
   },
   {
    "duration": 56,
    "start_time": "2021-09-15T08:07:33.615Z"
   },
   {
    "duration": 32,
    "start_time": "2021-09-15T08:07:33.675Z"
   },
   {
    "duration": 5,
    "start_time": "2021-09-15T08:07:33.710Z"
   },
   {
    "duration": 82,
    "start_time": "2021-09-15T08:07:33.717Z"
   },
   {
    "duration": 18,
    "start_time": "2021-09-15T08:07:33.801Z"
   },
   {
    "duration": 8,
    "start_time": "2021-09-15T08:07:33.822Z"
   },
   {
    "duration": 30,
    "start_time": "2021-09-15T08:07:33.832Z"
   },
   {
    "duration": 15,
    "start_time": "2021-09-15T08:07:33.865Z"
   },
   {
    "duration": 17,
    "start_time": "2021-09-15T08:07:33.883Z"
   },
   {
    "duration": 508,
    "start_time": "2021-09-15T08:07:33.902Z"
   },
   {
    "duration": 387,
    "start_time": "2021-09-15T08:07:34.412Z"
   },
   {
    "duration": 20,
    "start_time": "2021-09-15T08:07:34.802Z"
   },
   {
    "duration": 37,
    "start_time": "2021-09-15T08:07:34.824Z"
   },
   {
    "duration": 16,
    "start_time": "2021-09-15T08:07:34.866Z"
   },
   {
    "duration": 17,
    "start_time": "2021-09-15T08:07:34.884Z"
   },
   {
    "duration": 15,
    "start_time": "2021-09-15T08:07:34.904Z"
   },
   {
    "duration": 576,
    "start_time": "2021-09-15T08:07:34.922Z"
   },
   {
    "duration": 544,
    "start_time": "2021-09-15T08:07:35.501Z"
   },
   {
    "duration": 20,
    "start_time": "2021-09-15T08:07:36.056Z"
   },
   {
    "duration": 17,
    "start_time": "2021-09-15T08:07:36.078Z"
   },
   {
    "duration": 37,
    "start_time": "2021-09-15T08:07:36.097Z"
   },
   {
    "duration": 30,
    "start_time": "2021-09-15T08:07:36.137Z"
   },
   {
    "duration": 22,
    "start_time": "2021-09-15T08:07:36.170Z"
   },
   {
    "duration": 28,
    "start_time": "2021-09-15T08:07:36.194Z"
   },
   {
    "duration": 21,
    "start_time": "2021-09-15T08:07:36.224Z"
   },
   {
    "duration": 575,
    "start_time": "2021-09-15T08:07:36.248Z"
   },
   {
    "duration": 621,
    "start_time": "2021-09-15T08:07:36.826Z"
   },
   {
    "duration": 20,
    "start_time": "2021-09-15T08:07:37.455Z"
   },
   {
    "duration": 55,
    "start_time": "2021-09-15T08:07:37.479Z"
   },
   {
    "duration": 32,
    "start_time": "2021-09-15T08:07:37.536Z"
   },
   {
    "duration": 16,
    "start_time": "2021-09-15T08:07:37.571Z"
   },
   {
    "duration": 332,
    "start_time": "2021-09-15T08:09:16.282Z"
   },
   {
    "duration": 41,
    "start_time": "2021-09-15T08:09:37.865Z"
   },
   {
    "duration": 603,
    "start_time": "2021-09-15T08:10:09.041Z"
   },
   {
    "duration": 40,
    "start_time": "2021-09-15T08:10:09.647Z"
   },
   {
    "duration": 39,
    "start_time": "2021-09-15T08:10:09.691Z"
   },
   {
    "duration": 38,
    "start_time": "2021-09-15T08:10:09.755Z"
   },
   {
    "duration": 73,
    "start_time": "2021-09-15T08:10:09.796Z"
   },
   {
    "duration": 28,
    "start_time": "2021-09-15T08:10:09.872Z"
   },
   {
    "duration": 21,
    "start_time": "2021-09-15T08:10:09.903Z"
   },
   {
    "duration": 27,
    "start_time": "2021-09-15T08:10:09.958Z"
   },
   {
    "duration": 117,
    "start_time": "2021-09-15T08:10:09.988Z"
   },
   {
    "duration": 116,
    "start_time": "2021-09-15T08:10:10.107Z"
   },
   {
    "duration": 37,
    "start_time": "2021-09-15T08:10:10.225Z"
   },
   {
    "duration": 130,
    "start_time": "2021-09-15T08:10:10.266Z"
   },
   {
    "duration": 47,
    "start_time": "2021-09-15T08:10:10.398Z"
   },
   {
    "duration": 161,
    "start_time": "2021-09-15T08:10:10.456Z"
   },
   {
    "duration": 12,
    "start_time": "2021-09-15T08:10:10.620Z"
   },
   {
    "duration": 98,
    "start_time": "2021-09-15T08:10:10.634Z"
   },
   {
    "duration": 145,
    "start_time": "2021-09-15T08:10:10.735Z"
   },
   {
    "duration": 138,
    "start_time": "2021-09-15T08:10:10.882Z"
   },
   {
    "duration": 82,
    "start_time": "2021-09-15T08:10:11.022Z"
   },
   {
    "duration": 35,
    "start_time": "2021-09-15T08:10:11.106Z"
   },
   {
    "duration": 67,
    "start_time": "2021-09-15T08:10:11.155Z"
   },
   {
    "duration": 84,
    "start_time": "2021-09-15T08:10:11.224Z"
   },
   {
    "duration": 126,
    "start_time": "2021-09-15T08:10:11.314Z"
   },
   {
    "duration": 128,
    "start_time": "2021-09-15T08:10:11.443Z"
   },
   {
    "duration": 95,
    "start_time": "2021-09-15T08:10:11.574Z"
   },
   {
    "duration": 41,
    "start_time": "2021-09-15T08:10:11.671Z"
   },
   {
    "duration": 98,
    "start_time": "2021-09-15T08:10:11.715Z"
   },
   {
    "duration": 42,
    "start_time": "2021-09-15T08:10:11.816Z"
   },
   {
    "duration": 137,
    "start_time": "2021-09-15T08:10:11.864Z"
   },
   {
    "duration": 30,
    "start_time": "2021-09-15T08:10:12.004Z"
   },
   {
    "duration": 146,
    "start_time": "2021-09-15T08:10:12.036Z"
   },
   {
    "duration": 31,
    "start_time": "2021-09-15T08:10:12.185Z"
   },
   {
    "duration": 65,
    "start_time": "2021-09-15T08:10:12.219Z"
   },
   {
    "duration": 40,
    "start_time": "2021-09-15T08:10:12.287Z"
   },
   {
    "duration": 301,
    "start_time": "2021-09-15T08:10:12.330Z"
   },
   {
    "duration": -72,
    "start_time": "2021-09-15T08:10:12.705Z"
   },
   {
    "duration": -94,
    "start_time": "2021-09-15T08:10:12.729Z"
   },
   {
    "duration": -110,
    "start_time": "2021-09-15T08:10:12.746Z"
   },
   {
    "duration": -127,
    "start_time": "2021-09-15T08:10:12.764Z"
   },
   {
    "duration": -157,
    "start_time": "2021-09-15T08:10:12.796Z"
   },
   {
    "duration": -181,
    "start_time": "2021-09-15T08:10:12.821Z"
   },
   {
    "duration": -187,
    "start_time": "2021-09-15T08:10:12.828Z"
   },
   {
    "duration": -192,
    "start_time": "2021-09-15T08:10:12.835Z"
   },
   {
    "duration": -199,
    "start_time": "2021-09-15T08:10:12.843Z"
   },
   {
    "duration": -202,
    "start_time": "2021-09-15T08:10:12.847Z"
   },
   {
    "duration": -205,
    "start_time": "2021-09-15T08:10:12.852Z"
   },
   {
    "duration": -208,
    "start_time": "2021-09-15T08:10:12.856Z"
   },
   {
    "duration": -213,
    "start_time": "2021-09-15T08:10:12.862Z"
   },
   {
    "duration": -215,
    "start_time": "2021-09-15T08:10:12.865Z"
   },
   {
    "duration": -217,
    "start_time": "2021-09-15T08:10:12.869Z"
   },
   {
    "duration": -220,
    "start_time": "2021-09-15T08:10:12.873Z"
   },
   {
    "duration": -223,
    "start_time": "2021-09-15T08:10:12.878Z"
   },
   {
    "duration": -226,
    "start_time": "2021-09-15T08:10:12.882Z"
   },
   {
    "duration": -228,
    "start_time": "2021-09-15T08:10:12.886Z"
   },
   {
    "duration": -229,
    "start_time": "2021-09-15T08:10:12.889Z"
   },
   {
    "duration": -231,
    "start_time": "2021-09-15T08:10:12.893Z"
   },
   {
    "duration": -233,
    "start_time": "2021-09-15T08:10:12.897Z"
   },
   {
    "duration": -236,
    "start_time": "2021-09-15T08:10:12.902Z"
   },
   {
    "duration": -239,
    "start_time": "2021-09-15T08:10:12.906Z"
   },
   {
    "duration": -242,
    "start_time": "2021-09-15T08:10:12.911Z"
   },
   {
    "duration": -243,
    "start_time": "2021-09-15T08:10:12.915Z"
   },
   {
    "duration": -245,
    "start_time": "2021-09-15T08:10:12.919Z"
   },
   {
    "duration": -260,
    "start_time": "2021-09-15T08:10:12.935Z"
   },
   {
    "duration": -265,
    "start_time": "2021-09-15T08:10:12.941Z"
   },
   {
    "duration": 30,
    "start_time": "2021-09-15T08:10:36.422Z"
   },
   {
    "duration": 339,
    "start_time": "2021-09-15T08:10:54.092Z"
   },
   {
    "duration": 278,
    "start_time": "2021-09-15T08:11:08.758Z"
   },
   {
    "duration": 282,
    "start_time": "2021-09-15T08:12:15.633Z"
   },
   {
    "duration": 12,
    "start_time": "2021-09-15T08:12:41.640Z"
   },
   {
    "duration": 10,
    "start_time": "2021-09-15T08:16:25.181Z"
   },
   {
    "duration": 11,
    "start_time": "2021-09-15T08:16:59.384Z"
   },
   {
    "duration": 24,
    "start_time": "2021-09-15T08:18:17.163Z"
   },
   {
    "duration": 35,
    "start_time": "2021-09-15T08:18:56.813Z"
   },
   {
    "duration": 36,
    "start_time": "2021-09-15T08:19:01.380Z"
   },
   {
    "duration": 304,
    "start_time": "2021-09-15T08:21:14.852Z"
   },
   {
    "duration": 289,
    "start_time": "2021-09-15T08:21:34.054Z"
   },
   {
    "duration": 344,
    "start_time": "2021-09-15T08:21:48.429Z"
   },
   {
    "duration": 103,
    "start_time": "2021-09-15T08:34:03.651Z"
   },
   {
    "duration": 19,
    "start_time": "2021-09-15T08:34:34.029Z"
   },
   {
    "duration": 15,
    "start_time": "2021-09-15T08:36:38.999Z"
   },
   {
    "duration": 18,
    "start_time": "2021-09-15T08:38:22.270Z"
   },
   {
    "duration": 33,
    "start_time": "2021-09-15T08:38:39.934Z"
   },
   {
    "duration": 34,
    "start_time": "2021-09-15T08:39:52.900Z"
   },
   {
    "duration": 7,
    "start_time": "2021-09-15T08:39:54.165Z"
   },
   {
    "duration": 33,
    "start_time": "2021-09-15T08:39:56.609Z"
   },
   {
    "duration": 6,
    "start_time": "2021-09-15T08:39:57.150Z"
   },
   {
    "duration": 24,
    "start_time": "2021-09-15T08:40:11.201Z"
   },
   {
    "duration": 38,
    "start_time": "2021-09-15T08:40:15.203Z"
   },
   {
    "duration": 6,
    "start_time": "2021-09-15T08:41:25.717Z"
   },
   {
    "duration": 40,
    "start_time": "2021-09-15T08:41:26.101Z"
   },
   {
    "duration": 566,
    "start_time": "2021-09-15T08:43:08.093Z"
   },
   {
    "duration": 35,
    "start_time": "2021-09-15T08:43:08.663Z"
   },
   {
    "duration": 59,
    "start_time": "2021-09-15T08:43:08.701Z"
   },
   {
    "duration": 32,
    "start_time": "2021-09-15T08:43:08.763Z"
   },
   {
    "duration": 63,
    "start_time": "2021-09-15T08:43:08.797Z"
   },
   {
    "duration": 31,
    "start_time": "2021-09-15T08:43:08.863Z"
   },
   {
    "duration": 25,
    "start_time": "2021-09-15T08:43:08.897Z"
   },
   {
    "duration": 51,
    "start_time": "2021-09-15T08:43:08.926Z"
   },
   {
    "duration": 105,
    "start_time": "2021-09-15T08:43:08.980Z"
   },
   {
    "duration": 110,
    "start_time": "2021-09-15T08:43:09.088Z"
   },
   {
    "duration": 23,
    "start_time": "2021-09-15T08:43:09.200Z"
   },
   {
    "duration": 130,
    "start_time": "2021-09-15T08:43:09.226Z"
   },
   {
    "duration": 49,
    "start_time": "2021-09-15T08:43:09.360Z"
   },
   {
    "duration": 158,
    "start_time": "2021-09-15T08:43:09.412Z"
   },
   {
    "duration": 13,
    "start_time": "2021-09-15T08:43:09.572Z"
   },
   {
    "duration": 97,
    "start_time": "2021-09-15T08:43:09.587Z"
   },
   {
    "duration": 138,
    "start_time": "2021-09-15T08:43:09.686Z"
   },
   {
    "duration": 146,
    "start_time": "2021-09-15T08:43:09.827Z"
   },
   {
    "duration": 80,
    "start_time": "2021-09-15T08:43:09.975Z"
   },
   {
    "duration": 39,
    "start_time": "2021-09-15T08:43:10.058Z"
   },
   {
    "duration": 88,
    "start_time": "2021-09-15T08:43:10.100Z"
   },
   {
    "duration": 72,
    "start_time": "2021-09-15T08:43:10.190Z"
   },
   {
    "duration": 129,
    "start_time": "2021-09-15T08:43:10.272Z"
   },
   {
    "duration": 126,
    "start_time": "2021-09-15T08:43:10.404Z"
   },
   {
    "duration": 99,
    "start_time": "2021-09-15T08:43:10.532Z"
   },
   {
    "duration": 52,
    "start_time": "2021-09-15T08:43:10.633Z"
   },
   {
    "duration": 96,
    "start_time": "2021-09-15T08:43:10.687Z"
   },
   {
    "duration": 35,
    "start_time": "2021-09-15T08:43:10.786Z"
   },
   {
    "duration": 161,
    "start_time": "2021-09-15T08:43:10.824Z"
   },
   {
    "duration": 28,
    "start_time": "2021-09-15T08:43:10.988Z"
   },
   {
    "duration": 127,
    "start_time": "2021-09-15T08:43:11.018Z"
   },
   {
    "duration": 38,
    "start_time": "2021-09-15T08:43:11.147Z"
   },
   {
    "duration": 30,
    "start_time": "2021-09-15T08:43:11.187Z"
   },
   {
    "duration": 71,
    "start_time": "2021-09-15T08:43:11.219Z"
   },
   {
    "duration": 35,
    "start_time": "2021-09-15T08:43:11.293Z"
   },
   {
    "duration": 26,
    "start_time": "2021-09-15T08:43:11.331Z"
   },
   {
    "duration": 53,
    "start_time": "2021-09-15T08:43:11.360Z"
   },
   {
    "duration": 20,
    "start_time": "2021-09-15T08:43:11.415Z"
   },
   {
    "duration": 29,
    "start_time": "2021-09-15T08:43:11.438Z"
   },
   {
    "duration": 13,
    "start_time": "2021-09-15T08:43:11.471Z"
   },
   {
    "duration": 17,
    "start_time": "2021-09-15T08:43:11.487Z"
   },
   {
    "duration": 19,
    "start_time": "2021-09-15T08:43:11.507Z"
   },
   {
    "duration": 373,
    "start_time": "2021-09-15T08:43:11.528Z"
   },
   {
    "duration": 552,
    "start_time": "2021-09-15T08:43:11.904Z"
   },
   {
    "duration": 24,
    "start_time": "2021-09-15T08:43:12.459Z"
   },
   {
    "duration": 24,
    "start_time": "2021-09-15T08:43:12.485Z"
   },
   {
    "duration": 18,
    "start_time": "2021-09-15T08:43:12.511Z"
   },
   {
    "duration": 12,
    "start_time": "2021-09-15T08:43:12.531Z"
   },
   {
    "duration": 12,
    "start_time": "2021-09-15T08:43:12.557Z"
   },
   {
    "duration": 571,
    "start_time": "2021-09-15T08:43:12.573Z"
   },
   {
    "duration": 567,
    "start_time": "2021-09-15T08:43:13.147Z"
   },
   {
    "duration": 15,
    "start_time": "2021-09-15T08:43:13.717Z"
   },
   {
    "duration": 22,
    "start_time": "2021-09-15T08:43:13.735Z"
   },
   {
    "duration": 14,
    "start_time": "2021-09-15T08:43:13.761Z"
   },
   {
    "duration": 16,
    "start_time": "2021-09-15T08:43:13.778Z"
   },
   {
    "duration": 8,
    "start_time": "2021-09-15T08:43:13.797Z"
   },
   {
    "duration": 8,
    "start_time": "2021-09-15T08:43:13.807Z"
   },
   {
    "duration": 48,
    "start_time": "2021-09-15T08:43:13.817Z"
   },
   {
    "duration": 677,
    "start_time": "2021-09-15T08:43:13.869Z"
   },
   {
    "duration": 617,
    "start_time": "2021-09-15T08:43:14.557Z"
   },
   {
    "duration": 12,
    "start_time": "2021-09-15T08:43:15.176Z"
   },
   {
    "duration": 45,
    "start_time": "2021-09-15T08:43:15.190Z"
   },
   {
    "duration": 33,
    "start_time": "2021-09-15T08:43:15.237Z"
   },
   {
    "duration": 29,
    "start_time": "2021-09-15T08:43:15.273Z"
   },
   {
    "duration": 35,
    "start_time": "2021-09-15T08:43:19.440Z"
   },
   {
    "duration": 308,
    "start_time": "2021-09-15T08:44:03.358Z"
   },
   {
    "duration": 37,
    "start_time": "2021-09-15T08:45:36.607Z"
   },
   {
    "duration": 110,
    "start_time": "2021-09-15T08:46:08.650Z"
   },
   {
    "duration": 36,
    "start_time": "2021-09-15T08:46:14.809Z"
   },
   {
    "duration": 364,
    "start_time": "2021-09-15T09:00:34.371Z"
   },
   {
    "duration": 315,
    "start_time": "2021-09-15T09:00:45.145Z"
   },
   {
    "duration": 31,
    "start_time": "2021-09-15T09:07:06.616Z"
   },
   {
    "duration": 4,
    "start_time": "2021-09-15T09:20:52.451Z"
   },
   {
    "duration": 6,
    "start_time": "2021-09-15T09:20:56.831Z"
   },
   {
    "duration": 9,
    "start_time": "2021-09-15T09:22:11.202Z"
   },
   {
    "duration": 29,
    "start_time": "2021-09-15T09:22:17.677Z"
   },
   {
    "duration": 6,
    "start_time": "2021-09-15T09:22:39.924Z"
   },
   {
    "duration": 38,
    "start_time": "2021-09-15T09:22:40.315Z"
   },
   {
    "duration": 34,
    "start_time": "2021-09-15T09:22:57.684Z"
   },
   {
    "duration": 676,
    "start_time": "2021-09-15T10:06:43.596Z"
   },
   {
    "duration": 41,
    "start_time": "2021-09-15T10:08:27.979Z"
   },
   {
    "duration": 292,
    "start_time": "2021-09-15T10:09:45.692Z"
   },
   {
    "duration": 45,
    "start_time": "2021-09-15T10:09:52.732Z"
   },
   {
    "duration": 48,
    "start_time": "2021-09-15T11:02:24.918Z"
   },
   {
    "duration": 531,
    "start_time": "2021-09-15T11:03:09.802Z"
   },
   {
    "duration": 41,
    "start_time": "2021-09-15T11:03:18.074Z"
   },
   {
    "duration": 11,
    "start_time": "2021-09-15T11:08:47.296Z"
   },
   {
    "duration": 1001,
    "start_time": "2021-09-15T11:10:01.307Z"
   },
   {
    "duration": 2024,
    "start_time": "2021-09-15T14:51:47.583Z"
   },
   {
    "duration": 46,
    "start_time": "2021-09-15T14:51:49.610Z"
   },
   {
    "duration": 40,
    "start_time": "2021-09-15T14:51:49.660Z"
   },
   {
    "duration": 32,
    "start_time": "2021-09-15T14:51:49.703Z"
   },
   {
    "duration": 59,
    "start_time": "2021-09-15T14:51:49.738Z"
   },
   {
    "duration": 27,
    "start_time": "2021-09-15T14:51:49.800Z"
   },
   {
    "duration": 47,
    "start_time": "2021-09-15T14:51:49.830Z"
   },
   {
    "duration": 23,
    "start_time": "2021-09-15T14:51:49.881Z"
   },
   {
    "duration": 133,
    "start_time": "2021-09-15T14:51:49.911Z"
   },
   {
    "duration": 129,
    "start_time": "2021-09-15T14:51:50.047Z"
   },
   {
    "duration": 29,
    "start_time": "2021-09-15T14:51:50.179Z"
   },
   {
    "duration": 135,
    "start_time": "2021-09-15T14:51:50.210Z"
   },
   {
    "duration": 53,
    "start_time": "2021-09-15T14:51:50.347Z"
   },
   {
    "duration": 183,
    "start_time": "2021-09-15T14:51:50.404Z"
   },
   {
    "duration": 13,
    "start_time": "2021-09-15T14:51:50.589Z"
   },
   {
    "duration": 95,
    "start_time": "2021-09-15T14:51:50.604Z"
   },
   {
    "duration": 134,
    "start_time": "2021-09-15T14:51:50.702Z"
   },
   {
    "duration": 235,
    "start_time": "2021-09-15T14:51:50.838Z"
   },
   {
    "duration": 95,
    "start_time": "2021-09-15T14:51:51.076Z"
   },
   {
    "duration": 50,
    "start_time": "2021-09-15T14:51:51.174Z"
   },
   {
    "duration": 117,
    "start_time": "2021-09-15T14:51:51.228Z"
   },
   {
    "duration": 74,
    "start_time": "2021-09-15T14:51:51.348Z"
   },
   {
    "duration": 120,
    "start_time": "2021-09-15T14:51:51.424Z"
   },
   {
    "duration": 116,
    "start_time": "2021-09-15T14:51:51.546Z"
   },
   {
    "duration": 84,
    "start_time": "2021-09-15T14:51:51.664Z"
   },
   {
    "duration": 44,
    "start_time": "2021-09-15T14:51:51.763Z"
   },
   {
    "duration": 125,
    "start_time": "2021-09-15T14:51:51.813Z"
   },
   {
    "duration": 49,
    "start_time": "2021-09-15T14:51:51.941Z"
   },
   {
    "duration": 199,
    "start_time": "2021-09-15T14:51:51.992Z"
   },
   {
    "duration": 31,
    "start_time": "2021-09-15T14:51:52.194Z"
   },
   {
    "duration": 136,
    "start_time": "2021-09-15T14:51:52.227Z"
   },
   {
    "duration": 31,
    "start_time": "2021-09-15T14:51:52.366Z"
   },
   {
    "duration": 34,
    "start_time": "2021-09-15T14:51:52.400Z"
   },
   {
    "duration": 65,
    "start_time": "2021-09-15T14:51:52.436Z"
   },
   {
    "duration": 33,
    "start_time": "2021-09-15T14:51:52.504Z"
   },
   {
    "duration": 496,
    "start_time": "2021-09-15T14:51:52.563Z"
   },
   {
    "duration": 62,
    "start_time": "2021-09-15T14:51:53.000Z"
   },
   {
    "duration": 60,
    "start_time": "2021-09-15T14:51:53.003Z"
   },
   {
    "duration": 59,
    "start_time": "2021-09-15T14:51:53.006Z"
   },
   {
    "duration": 58,
    "start_time": "2021-09-15T14:51:53.008Z"
   },
   {
    "duration": 56,
    "start_time": "2021-09-15T14:51:53.011Z"
   },
   {
    "duration": 50,
    "start_time": "2021-09-15T14:51:53.019Z"
   },
   {
    "duration": 20,
    "start_time": "2021-09-15T14:51:53.050Z"
   },
   {
    "duration": 18,
    "start_time": "2021-09-15T14:51:53.053Z"
   },
   {
    "duration": 17,
    "start_time": "2021-09-15T14:51:53.056Z"
   },
   {
    "duration": 6,
    "start_time": "2021-09-15T14:51:53.068Z"
   },
   {
    "duration": 4,
    "start_time": "2021-09-15T14:51:53.072Z"
   },
   {
    "duration": -2,
    "start_time": "2021-09-15T14:51:53.079Z"
   },
   {
    "duration": -4,
    "start_time": "2021-09-15T14:51:53.082Z"
   },
   {
    "duration": -6,
    "start_time": "2021-09-15T14:51:53.085Z"
   },
   {
    "duration": -8,
    "start_time": "2021-09-15T14:51:53.088Z"
   },
   {
    "duration": -9,
    "start_time": "2021-09-15T14:51:53.091Z"
   },
   {
    "duration": -20,
    "start_time": "2021-09-15T14:51:53.103Z"
   },
   {
    "duration": -22,
    "start_time": "2021-09-15T14:51:53.106Z"
   },
   {
    "duration": -24,
    "start_time": "2021-09-15T14:51:53.110Z"
   },
   {
    "duration": -26,
    "start_time": "2021-09-15T14:51:53.113Z"
   },
   {
    "duration": -28,
    "start_time": "2021-09-15T14:51:53.116Z"
   },
   {
    "duration": -28,
    "start_time": "2021-09-15T14:51:53.118Z"
   },
   {
    "duration": -29,
    "start_time": "2021-09-15T14:51:53.120Z"
   },
   {
    "duration": -34,
    "start_time": "2021-09-15T14:51:53.126Z"
   },
   {
    "duration": -36,
    "start_time": "2021-09-15T14:51:53.130Z"
   },
   {
    "duration": -38,
    "start_time": "2021-09-15T14:51:53.133Z"
   },
   {
    "duration": -40,
    "start_time": "2021-09-15T14:51:53.136Z"
   },
   {
    "duration": -42,
    "start_time": "2021-09-15T14:51:53.139Z"
   },
   {
    "duration": -44,
    "start_time": "2021-09-15T14:51:53.143Z"
   },
   {
    "duration": 7,
    "start_time": "2021-09-15T14:55:15.283Z"
   },
   {
    "duration": 6,
    "start_time": "2021-09-15T14:56:28.374Z"
   },
   {
    "duration": 1831,
    "start_time": "2021-09-15T15:01:10.804Z"
   },
   {
    "duration": 48,
    "start_time": "2021-09-15T15:01:12.638Z"
   },
   {
    "duration": 39,
    "start_time": "2021-09-15T15:01:12.688Z"
   },
   {
    "duration": 56,
    "start_time": "2021-09-15T15:01:12.730Z"
   },
   {
    "duration": 41,
    "start_time": "2021-09-15T15:01:12.788Z"
   },
   {
    "duration": 54,
    "start_time": "2021-09-15T15:01:12.831Z"
   },
   {
    "duration": 17,
    "start_time": "2021-09-15T15:01:12.887Z"
   },
   {
    "duration": 29,
    "start_time": "2021-09-15T15:01:12.965Z"
   },
   {
    "duration": 115,
    "start_time": "2021-09-15T15:01:12.998Z"
   },
   {
    "duration": 117,
    "start_time": "2021-09-15T15:01:13.116Z"
   },
   {
    "duration": 35,
    "start_time": "2021-09-15T15:01:13.235Z"
   },
   {
    "duration": 120,
    "start_time": "2021-09-15T15:01:13.272Z"
   },
   {
    "duration": 49,
    "start_time": "2021-09-15T15:01:13.394Z"
   },
   {
    "duration": 166,
    "start_time": "2021-09-15T15:01:13.446Z"
   },
   {
    "duration": 13,
    "start_time": "2021-09-15T15:01:13.614Z"
   },
   {
    "duration": 86,
    "start_time": "2021-09-15T15:01:13.630Z"
   },
   {
    "duration": 120,
    "start_time": "2021-09-15T15:01:13.718Z"
   },
   {
    "duration": 126,
    "start_time": "2021-09-15T15:01:13.840Z"
   },
   {
    "duration": 63,
    "start_time": "2021-09-15T15:01:13.968Z"
   },
   {
    "duration": 45,
    "start_time": "2021-09-15T15:01:14.033Z"
   },
   {
    "duration": 72,
    "start_time": "2021-09-15T15:01:14.081Z"
   },
   {
    "duration": 63,
    "start_time": "2021-09-15T15:01:14.155Z"
   },
   {
    "duration": 107,
    "start_time": "2021-09-15T15:01:14.224Z"
   },
   {
    "duration": 106,
    "start_time": "2021-09-15T15:01:14.334Z"
   },
   {
    "duration": 83,
    "start_time": "2021-09-15T15:01:14.442Z"
   },
   {
    "duration": 40,
    "start_time": "2021-09-15T15:01:14.527Z"
   },
   {
    "duration": 95,
    "start_time": "2021-09-15T15:01:14.569Z"
   },
   {
    "duration": 34,
    "start_time": "2021-09-15T15:01:14.667Z"
   },
   {
    "duration": 128,
    "start_time": "2021-09-15T15:01:14.703Z"
   },
   {
    "duration": 33,
    "start_time": "2021-09-15T15:01:14.834Z"
   },
   {
    "duration": 113,
    "start_time": "2021-09-15T15:01:14.869Z"
   },
   {
    "duration": 29,
    "start_time": "2021-09-15T15:01:14.984Z"
   },
   {
    "duration": 51,
    "start_time": "2021-09-15T15:01:15.015Z"
   },
   {
    "duration": 39,
    "start_time": "2021-09-15T15:01:15.068Z"
   },
   {
    "duration": 6,
    "start_time": "2021-09-15T15:01:15.110Z"
   },
   {
    "duration": 39,
    "start_time": "2021-09-15T15:01:15.118Z"
   },
   {
    "duration": 501,
    "start_time": "2021-09-15T15:01:15.159Z"
   },
   {
    "duration": -227,
    "start_time": "2021-09-15T15:01:15.890Z"
   },
   {
    "duration": -230,
    "start_time": "2021-09-15T15:01:15.894Z"
   },
   {
    "duration": -234,
    "start_time": "2021-09-15T15:01:15.900Z"
   },
   {
    "duration": -238,
    "start_time": "2021-09-15T15:01:15.905Z"
   },
   {
    "duration": -305,
    "start_time": "2021-09-15T15:01:15.974Z"
   },
   {
    "duration": -308,
    "start_time": "2021-09-15T15:01:15.978Z"
   },
   {
    "duration": -312,
    "start_time": "2021-09-15T15:01:15.983Z"
   },
   {
    "duration": -315,
    "start_time": "2021-09-15T15:01:15.987Z"
   },
   {
    "duration": -319,
    "start_time": "2021-09-15T15:01:15.993Z"
   },
   {
    "duration": -328,
    "start_time": "2021-09-15T15:01:16.003Z"
   },
   {
    "duration": -333,
    "start_time": "2021-09-15T15:01:16.009Z"
   },
   {
    "duration": -335,
    "start_time": "2021-09-15T15:01:16.013Z"
   },
   {
    "duration": -338,
    "start_time": "2021-09-15T15:01:16.017Z"
   },
   {
    "duration": -401,
    "start_time": "2021-09-15T15:01:16.082Z"
   },
   {
    "duration": -407,
    "start_time": "2021-09-15T15:01:16.089Z"
   },
   {
    "duration": -412,
    "start_time": "2021-09-15T15:01:16.095Z"
   },
   {
    "duration": -414,
    "start_time": "2021-09-15T15:01:16.099Z"
   },
   {
    "duration": -416,
    "start_time": "2021-09-15T15:01:16.103Z"
   },
   {
    "duration": -422,
    "start_time": "2021-09-15T15:01:16.110Z"
   },
   {
    "duration": -424,
    "start_time": "2021-09-15T15:01:16.114Z"
   },
   {
    "duration": -427,
    "start_time": "2021-09-15T15:01:16.118Z"
   },
   {
    "duration": -430,
    "start_time": "2021-09-15T15:01:16.122Z"
   },
   {
    "duration": -434,
    "start_time": "2021-09-15T15:01:16.127Z"
   },
   {
    "duration": -437,
    "start_time": "2021-09-15T15:01:16.132Z"
   },
   {
    "duration": -440,
    "start_time": "2021-09-15T15:01:16.136Z"
   },
   {
    "duration": -442,
    "start_time": "2021-09-15T15:01:16.139Z"
   },
   {
    "duration": -446,
    "start_time": "2021-09-15T15:01:16.145Z"
   },
   {
    "duration": -449,
    "start_time": "2021-09-15T15:01:16.149Z"
   },
   {
    "duration": -451,
    "start_time": "2021-09-15T15:01:16.153Z"
   },
   {
    "duration": 343,
    "start_time": "2021-09-15T15:01:44.989Z"
   },
   {
    "duration": 435,
    "start_time": "2021-09-15T15:01:53.813Z"
   },
   {
    "duration": 44,
    "start_time": "2021-09-15T15:02:16.185Z"
   },
   {
    "duration": 25,
    "start_time": "2021-09-15T15:02:38.802Z"
   },
   {
    "duration": 568,
    "start_time": "2021-09-15T15:02:59.870Z"
   },
   {
    "duration": 38,
    "start_time": "2021-09-15T15:03:00.441Z"
   },
   {
    "duration": 37,
    "start_time": "2021-09-15T15:03:00.484Z"
   },
   {
    "duration": 62,
    "start_time": "2021-09-15T15:03:00.524Z"
   },
   {
    "duration": 44,
    "start_time": "2021-09-15T15:03:00.590Z"
   },
   {
    "duration": 44,
    "start_time": "2021-09-15T15:03:00.638Z"
   },
   {
    "duration": 23,
    "start_time": "2021-09-15T15:03:00.685Z"
   },
   {
    "duration": 52,
    "start_time": "2021-09-15T15:03:00.714Z"
   },
   {
    "duration": 114,
    "start_time": "2021-09-15T15:03:00.770Z"
   },
   {
    "duration": 105,
    "start_time": "2021-09-15T15:03:00.887Z"
   },
   {
    "duration": 24,
    "start_time": "2021-09-15T15:03:00.994Z"
   },
   {
    "duration": 151,
    "start_time": "2021-09-15T15:03:01.020Z"
   },
   {
    "duration": 49,
    "start_time": "2021-09-15T15:03:01.174Z"
   },
   {
    "duration": 176,
    "start_time": "2021-09-15T15:03:01.225Z"
   },
   {
    "duration": 14,
    "start_time": "2021-09-15T15:03:01.404Z"
   },
   {
    "duration": 131,
    "start_time": "2021-09-15T15:03:01.421Z"
   },
   {
    "duration": 201,
    "start_time": "2021-09-15T15:03:01.563Z"
   },
   {
    "duration": 205,
    "start_time": "2021-09-15T15:03:01.767Z"
   },
   {
    "duration": 90,
    "start_time": "2021-09-15T15:03:01.975Z"
   },
   {
    "duration": 47,
    "start_time": "2021-09-15T15:03:02.068Z"
   },
   {
    "duration": 110,
    "start_time": "2021-09-15T15:03:02.118Z"
   },
   {
    "duration": 84,
    "start_time": "2021-09-15T15:03:02.231Z"
   },
   {
    "duration": 119,
    "start_time": "2021-09-15T15:03:02.321Z"
   },
   {
    "duration": 115,
    "start_time": "2021-09-15T15:03:02.443Z"
   },
   {
    "duration": 102,
    "start_time": "2021-09-15T15:03:02.562Z"
   },
   {
    "duration": 42,
    "start_time": "2021-09-15T15:03:02.666Z"
   },
   {
    "duration": 98,
    "start_time": "2021-09-15T15:03:02.711Z"
   },
   {
    "duration": 51,
    "start_time": "2021-09-15T15:03:02.811Z"
   },
   {
    "duration": 132,
    "start_time": "2021-09-15T15:03:02.865Z"
   },
   {
    "duration": 32,
    "start_time": "2021-09-15T15:03:02.999Z"
   },
   {
    "duration": 117,
    "start_time": "2021-09-15T15:03:03.033Z"
   },
   {
    "duration": 33,
    "start_time": "2021-09-15T15:03:03.152Z"
   },
   {
    "duration": 31,
    "start_time": "2021-09-15T15:03:03.187Z"
   },
   {
    "duration": 70,
    "start_time": "2021-09-15T15:03:03.221Z"
   },
   {
    "duration": 5,
    "start_time": "2021-09-15T15:03:03.294Z"
   },
   {
    "duration": 82,
    "start_time": "2021-09-15T15:03:03.301Z"
   },
   {
    "duration": 36,
    "start_time": "2021-09-15T15:03:03.386Z"
   },
   {
    "duration": 27,
    "start_time": "2021-09-15T15:03:03.425Z"
   },
   {
    "duration": 56,
    "start_time": "2021-09-15T15:03:03.464Z"
   },
   {
    "duration": 54,
    "start_time": "2021-09-15T15:03:03.523Z"
   },
   {
    "duration": 23,
    "start_time": "2021-09-15T15:03:03.580Z"
   },
   {
    "duration": 18,
    "start_time": "2021-09-15T15:03:03.606Z"
   },
   {
    "duration": 35,
    "start_time": "2021-09-15T15:03:03.627Z"
   },
   {
    "duration": 28,
    "start_time": "2021-09-15T15:03:03.665Z"
   },
   {
    "duration": 552,
    "start_time": "2021-09-15T15:03:03.695Z"
   },
   {
    "duration": 468,
    "start_time": "2021-09-15T15:03:04.250Z"
   },
   {
    "duration": 47,
    "start_time": "2021-09-15T15:03:04.722Z"
   },
   {
    "duration": 32,
    "start_time": "2021-09-15T15:03:04.772Z"
   },
   {
    "duration": 25,
    "start_time": "2021-09-15T15:03:04.806Z"
   },
   {
    "duration": 35,
    "start_time": "2021-09-15T15:03:04.834Z"
   },
   {
    "duration": 48,
    "start_time": "2021-09-15T15:03:04.872Z"
   },
   {
    "duration": 356,
    "start_time": "2021-09-15T15:03:04.922Z"
   },
   {
    "duration": 593,
    "start_time": "2021-09-15T15:03:05.281Z"
   },
   {
    "duration": 21,
    "start_time": "2021-09-15T15:03:05.876Z"
   },
   {
    "duration": 26,
    "start_time": "2021-09-15T15:03:05.900Z"
   },
   {
    "duration": 35,
    "start_time": "2021-09-15T15:03:05.928Z"
   },
   {
    "duration": 36,
    "start_time": "2021-09-15T15:03:05.966Z"
   },
   {
    "duration": 25,
    "start_time": "2021-09-15T15:03:06.005Z"
   },
   {
    "duration": 34,
    "start_time": "2021-09-15T15:03:06.033Z"
   },
   {
    "duration": 24,
    "start_time": "2021-09-15T15:03:06.069Z"
   },
   {
    "duration": 588,
    "start_time": "2021-09-15T15:03:06.095Z"
   },
   {
    "duration": 881,
    "start_time": "2021-09-15T15:03:06.686Z"
   },
   {
    "duration": 13,
    "start_time": "2021-09-15T15:03:07.570Z"
   },
   {
    "duration": 39,
    "start_time": "2021-09-15T15:03:07.586Z"
   },
   {
    "duration": 40,
    "start_time": "2021-09-15T15:03:07.628Z"
   },
   {
    "duration": 19,
    "start_time": "2021-09-15T15:03:07.670Z"
   },
   {
    "duration": 7,
    "start_time": "2021-09-15T15:05:58.658Z"
   },
   {
    "duration": 547,
    "start_time": "2021-09-15T15:06:39.811Z"
   },
   {
    "duration": 37,
    "start_time": "2021-09-15T15:06:40.361Z"
   },
   {
    "duration": 36,
    "start_time": "2021-09-15T15:06:40.401Z"
   },
   {
    "duration": 31,
    "start_time": "2021-09-15T15:06:40.463Z"
   },
   {
    "duration": 37,
    "start_time": "2021-09-15T15:06:40.497Z"
   },
   {
    "duration": 52,
    "start_time": "2021-09-15T15:06:40.536Z"
   },
   {
    "duration": 19,
    "start_time": "2021-09-15T15:06:40.591Z"
   },
   {
    "duration": 57,
    "start_time": "2021-09-15T15:06:40.614Z"
   },
   {
    "duration": 102,
    "start_time": "2021-09-15T15:06:40.675Z"
   },
   {
    "duration": 115,
    "start_time": "2021-09-15T15:06:40.780Z"
   },
   {
    "duration": 25,
    "start_time": "2021-09-15T15:06:40.897Z"
   },
   {
    "duration": 130,
    "start_time": "2021-09-15T15:06:40.924Z"
   },
   {
    "duration": 47,
    "start_time": "2021-09-15T15:06:41.057Z"
   },
   {
    "duration": 187,
    "start_time": "2021-09-15T15:06:41.107Z"
   },
   {
    "duration": 13,
    "start_time": "2021-09-15T15:06:41.296Z"
   },
   {
    "duration": 97,
    "start_time": "2021-09-15T15:06:41.312Z"
   },
   {
    "duration": 133,
    "start_time": "2021-09-15T15:06:41.412Z"
   },
   {
    "duration": 137,
    "start_time": "2021-09-15T15:06:41.547Z"
   },
   {
    "duration": 95,
    "start_time": "2021-09-15T15:06:41.687Z"
   },
   {
    "duration": 48,
    "start_time": "2021-09-15T15:06:41.784Z"
   },
   {
    "duration": 110,
    "start_time": "2021-09-15T15:06:41.835Z"
   },
   {
    "duration": 91,
    "start_time": "2021-09-15T15:06:41.948Z"
   },
   {
    "duration": 187,
    "start_time": "2021-09-15T15:06:42.047Z"
   },
   {
    "duration": 172,
    "start_time": "2021-09-15T15:06:42.239Z"
   },
   {
    "duration": 114,
    "start_time": "2021-09-15T15:06:42.414Z"
   },
   {
    "duration": 65,
    "start_time": "2021-09-15T15:06:42.531Z"
   },
   {
    "duration": 116,
    "start_time": "2021-09-15T15:06:42.599Z"
   },
   {
    "duration": 63,
    "start_time": "2021-09-15T15:06:42.718Z"
   },
   {
    "duration": 213,
    "start_time": "2021-09-15T15:06:42.784Z"
   },
   {
    "duration": 44,
    "start_time": "2021-09-15T15:06:43.000Z"
   },
   {
    "duration": 162,
    "start_time": "2021-09-15T15:06:43.063Z"
   },
   {
    "duration": 39,
    "start_time": "2021-09-15T15:06:43.228Z"
   },
   {
    "duration": 33,
    "start_time": "2021-09-15T15:06:43.270Z"
   },
   {
    "duration": 75,
    "start_time": "2021-09-15T15:06:43.306Z"
   },
   {
    "duration": 6,
    "start_time": "2021-09-15T15:06:43.384Z"
   },
   {
    "duration": 41,
    "start_time": "2021-09-15T15:06:43.392Z"
   },
   {
    "duration": 50,
    "start_time": "2021-09-15T15:06:43.437Z"
   },
   {
    "duration": 6,
    "start_time": "2021-09-15T15:06:43.490Z"
   },
   {
    "duration": 73,
    "start_time": "2021-09-15T15:06:43.499Z"
   },
   {
    "duration": 22,
    "start_time": "2021-09-15T15:06:43.575Z"
   },
   {
    "duration": 9,
    "start_time": "2021-09-15T15:06:43.599Z"
   },
   {
    "duration": 8,
    "start_time": "2021-09-15T15:06:43.611Z"
   },
   {
    "duration": 48,
    "start_time": "2021-09-15T15:06:43.621Z"
   },
   {
    "duration": 6,
    "start_time": "2021-09-15T15:06:43.672Z"
   },
   {
    "duration": 384,
    "start_time": "2021-09-15T15:06:43.680Z"
   },
   {
    "duration": 386,
    "start_time": "2021-09-15T15:06:44.066Z"
   },
   {
    "duration": 43,
    "start_time": "2021-09-15T15:06:44.455Z"
   },
   {
    "duration": 15,
    "start_time": "2021-09-15T15:06:44.500Z"
   },
   {
    "duration": 10,
    "start_time": "2021-09-15T15:06:44.518Z"
   },
   {
    "duration": 9,
    "start_time": "2021-09-15T15:06:44.530Z"
   },
   {
    "duration": 27,
    "start_time": "2021-09-15T15:06:44.542Z"
   },
   {
    "duration": 350,
    "start_time": "2021-09-15T15:06:44.572Z"
   },
   {
    "duration": 573,
    "start_time": "2021-09-15T15:06:44.925Z"
   },
   {
    "duration": 16,
    "start_time": "2021-09-15T15:06:45.501Z"
   },
   {
    "duration": 8,
    "start_time": "2021-09-15T15:06:45.520Z"
   },
   {
    "duration": 38,
    "start_time": "2021-09-15T15:06:45.530Z"
   },
   {
    "duration": 9,
    "start_time": "2021-09-15T15:06:45.570Z"
   },
   {
    "duration": 18,
    "start_time": "2021-09-15T15:06:45.583Z"
   },
   {
    "duration": 10,
    "start_time": "2021-09-15T15:06:45.604Z"
   },
   {
    "duration": 48,
    "start_time": "2021-09-15T15:06:45.617Z"
   },
   {
    "duration": 555,
    "start_time": "2021-09-15T15:06:45.668Z"
   },
   {
    "duration": 575,
    "start_time": "2021-09-15T15:06:46.226Z"
   },
   {
    "duration": 13,
    "start_time": "2021-09-15T15:06:46.803Z"
   },
   {
    "duration": 57,
    "start_time": "2021-09-15T15:06:46.818Z"
   },
   {
    "duration": 12,
    "start_time": "2021-09-15T15:06:46.878Z"
   },
   {
    "duration": 10,
    "start_time": "2021-09-15T15:06:46.892Z"
   },
   {
    "duration": 7,
    "start_time": "2021-09-15T15:08:56.959Z"
   },
   {
    "duration": 42,
    "start_time": "2021-09-15T15:08:57.699Z"
   },
   {
    "duration": 6,
    "start_time": "2021-09-15T15:08:58.512Z"
   },
   {
    "duration": 6,
    "start_time": "2021-09-15T15:09:43.855Z"
   },
   {
    "duration": 6,
    "start_time": "2021-09-15T15:10:24.342Z"
   },
   {
    "duration": 6,
    "start_time": "2021-09-15T15:12:04.182Z"
   },
   {
    "duration": 6,
    "start_time": "2021-09-15T15:13:55.811Z"
   },
   {
    "duration": 51,
    "start_time": "2021-09-15T15:13:56.412Z"
   },
   {
    "duration": 6,
    "start_time": "2021-09-15T15:14:02.603Z"
   },
   {
    "duration": 6,
    "start_time": "2021-09-15T15:14:19.557Z"
   },
   {
    "duration": 159,
    "start_time": "2021-09-15T15:14:23.273Z"
   },
   {
    "duration": 31,
    "start_time": "2021-09-15T15:14:50.057Z"
   },
   {
    "duration": 46,
    "start_time": "2021-09-15T15:14:50.704Z"
   },
   {
    "duration": 28,
    "start_time": "2021-09-15T15:15:06.293Z"
   },
   {
    "duration": 30,
    "start_time": "2021-09-15T15:15:11.495Z"
   },
   {
    "duration": 26,
    "start_time": "2021-09-15T15:15:15.831Z"
   },
   {
    "duration": 690,
    "start_time": "2021-09-15T15:15:20.538Z"
   },
   {
    "duration": 36,
    "start_time": "2021-09-15T15:15:21.230Z"
   },
   {
    "duration": 52,
    "start_time": "2021-09-15T15:15:21.269Z"
   },
   {
    "duration": 39,
    "start_time": "2021-09-15T15:15:21.324Z"
   },
   {
    "duration": 39,
    "start_time": "2021-09-15T15:15:21.366Z"
   },
   {
    "duration": 25,
    "start_time": "2021-09-15T15:15:21.408Z"
   },
   {
    "duration": 24,
    "start_time": "2021-09-15T15:15:21.463Z"
   },
   {
    "duration": 37,
    "start_time": "2021-09-15T15:15:21.492Z"
   },
   {
    "duration": 116,
    "start_time": "2021-09-15T15:15:21.534Z"
   },
   {
    "duration": 119,
    "start_time": "2021-09-15T15:15:21.661Z"
   },
   {
    "duration": 27,
    "start_time": "2021-09-15T15:15:21.783Z"
   },
   {
    "duration": 124,
    "start_time": "2021-09-15T15:15:21.813Z"
   },
   {
    "duration": 61,
    "start_time": "2021-09-15T15:15:21.940Z"
   },
   {
    "duration": 201,
    "start_time": "2021-09-15T15:15:22.003Z"
   },
   {
    "duration": 21,
    "start_time": "2021-09-15T15:15:22.207Z"
   },
   {
    "duration": 103,
    "start_time": "2021-09-15T15:15:22.230Z"
   },
   {
    "duration": 136,
    "start_time": "2021-09-15T15:15:22.335Z"
   },
   {
    "duration": 140,
    "start_time": "2021-09-15T15:15:22.474Z"
   },
   {
    "duration": 84,
    "start_time": "2021-09-15T15:15:22.616Z"
   },
   {
    "duration": 38,
    "start_time": "2021-09-15T15:15:22.702Z"
   },
   {
    "duration": 84,
    "start_time": "2021-09-15T15:15:22.742Z"
   },
   {
    "duration": 74,
    "start_time": "2021-09-15T15:15:22.828Z"
   },
   {
    "duration": 121,
    "start_time": "2021-09-15T15:15:22.908Z"
   },
   {
    "duration": 158,
    "start_time": "2021-09-15T15:15:23.032Z"
   },
   {
    "duration": 98,
    "start_time": "2021-09-15T15:15:23.193Z"
   },
   {
    "duration": 40,
    "start_time": "2021-09-15T15:15:23.294Z"
   },
   {
    "duration": 98,
    "start_time": "2021-09-15T15:15:23.337Z"
   },
   {
    "duration": 53,
    "start_time": "2021-09-15T15:15:23.437Z"
   },
   {
    "duration": 135,
    "start_time": "2021-09-15T15:15:23.493Z"
   },
   {
    "duration": 37,
    "start_time": "2021-09-15T15:15:23.630Z"
   },
   {
    "duration": 114,
    "start_time": "2021-09-15T15:15:23.670Z"
   },
   {
    "duration": 30,
    "start_time": "2021-09-15T15:15:23.786Z"
   },
   {
    "duration": 60,
    "start_time": "2021-09-15T15:15:23.818Z"
   },
   {
    "duration": 42,
    "start_time": "2021-09-15T15:15:23.880Z"
   },
   {
    "duration": 5,
    "start_time": "2021-09-15T15:15:23.924Z"
   },
   {
    "duration": 67,
    "start_time": "2021-09-15T15:15:23.931Z"
   },
   {
    "duration": 38,
    "start_time": "2021-09-15T15:15:24.001Z"
   },
   {
    "duration": 47,
    "start_time": "2021-09-15T15:15:24.042Z"
   },
   {
    "duration": 40,
    "start_time": "2021-09-15T15:15:24.092Z"
   },
   {
    "duration": 46,
    "start_time": "2021-09-15T15:15:24.134Z"
   },
   {
    "duration": 8,
    "start_time": "2021-09-15T15:15:24.182Z"
   },
   {
    "duration": 13,
    "start_time": "2021-09-15T15:15:24.193Z"
   },
   {
    "duration": 9,
    "start_time": "2021-09-15T15:15:24.208Z"
   },
   {
    "duration": 60,
    "start_time": "2021-09-15T15:15:24.220Z"
   },
   {
    "duration": 537,
    "start_time": "2021-09-15T15:15:24.282Z"
   },
   {
    "duration": 559,
    "start_time": "2021-09-15T15:15:24.822Z"
   },
   {
    "duration": 28,
    "start_time": "2021-09-15T15:15:25.385Z"
   },
   {
    "duration": 11,
    "start_time": "2021-09-15T15:15:25.415Z"
   },
   {
    "duration": 38,
    "start_time": "2021-09-15T15:15:25.429Z"
   },
   {
    "duration": 16,
    "start_time": "2021-09-15T15:15:25.470Z"
   },
   {
    "duration": 11,
    "start_time": "2021-09-15T15:15:25.489Z"
   },
   {
    "duration": 417,
    "start_time": "2021-09-15T15:15:25.503Z"
   },
   {
    "duration": 626,
    "start_time": "2021-09-15T15:15:25.923Z"
   },
   {
    "duration": 23,
    "start_time": "2021-09-15T15:15:26.552Z"
   },
   {
    "duration": 6,
    "start_time": "2021-09-15T15:15:26.577Z"
   },
   {
    "duration": 12,
    "start_time": "2021-09-15T15:15:26.586Z"
   },
   {
    "duration": 10,
    "start_time": "2021-09-15T15:15:26.601Z"
   },
   {
    "duration": 51,
    "start_time": "2021-09-15T15:15:26.614Z"
   },
   {
    "duration": 12,
    "start_time": "2021-09-15T15:15:26.667Z"
   },
   {
    "duration": 13,
    "start_time": "2021-09-15T15:15:26.682Z"
   },
   {
    "duration": 578,
    "start_time": "2021-09-15T15:15:26.698Z"
   },
   {
    "duration": 685,
    "start_time": "2021-09-15T15:15:27.279Z"
   },
   {
    "duration": 13,
    "start_time": "2021-09-15T15:15:27.967Z"
   },
   {
    "duration": 59,
    "start_time": "2021-09-15T15:15:27.983Z"
   },
   {
    "duration": 21,
    "start_time": "2021-09-15T15:15:28.045Z"
   },
   {
    "duration": 13,
    "start_time": "2021-09-15T15:15:28.068Z"
   },
   {
    "duration": 32,
    "start_time": "2021-09-15T15:17:12.510Z"
   },
   {
    "duration": 139,
    "start_time": "2021-09-15T15:17:27.448Z"
   },
   {
    "duration": 119,
    "start_time": "2021-09-15T15:17:29.607Z"
   },
   {
    "duration": 28,
    "start_time": "2021-09-15T15:17:31.486Z"
   },
   {
    "duration": 43,
    "start_time": "2021-09-15T15:18:41.377Z"
   },
   {
    "duration": 27,
    "start_time": "2021-09-15T15:18:43.832Z"
   },
   {
    "duration": 583,
    "start_time": "2021-09-15T15:18:52.880Z"
   },
   {
    "duration": 35,
    "start_time": "2021-09-15T15:18:53.465Z"
   },
   {
    "duration": 60,
    "start_time": "2021-09-15T15:18:53.503Z"
   },
   {
    "duration": 34,
    "start_time": "2021-09-15T15:18:53.566Z"
   },
   {
    "duration": 68,
    "start_time": "2021-09-15T15:18:53.602Z"
   },
   {
    "duration": 27,
    "start_time": "2021-09-15T15:18:53.672Z"
   },
   {
    "duration": 22,
    "start_time": "2021-09-15T15:18:53.701Z"
   },
   {
    "duration": 55,
    "start_time": "2021-09-15T15:18:53.728Z"
   },
   {
    "duration": 107,
    "start_time": "2021-09-15T15:18:53.787Z"
   },
   {
    "duration": 114,
    "start_time": "2021-09-15T15:18:53.897Z"
   },
   {
    "duration": 25,
    "start_time": "2021-09-15T15:18:54.013Z"
   },
   {
    "duration": 128,
    "start_time": "2021-09-15T15:18:54.042Z"
   },
   {
    "duration": 48,
    "start_time": "2021-09-15T15:18:54.173Z"
   },
   {
    "duration": 155,
    "start_time": "2021-09-15T15:18:54.224Z"
   },
   {
    "duration": 23,
    "start_time": "2021-09-15T15:18:54.381Z"
   },
   {
    "duration": 88,
    "start_time": "2021-09-15T15:18:54.406Z"
   },
   {
    "duration": 134,
    "start_time": "2021-09-15T15:18:54.496Z"
   },
   {
    "duration": 139,
    "start_time": "2021-09-15T15:18:54.633Z"
   },
   {
    "duration": 67,
    "start_time": "2021-09-15T15:18:54.775Z"
   },
   {
    "duration": 52,
    "start_time": "2021-09-15T15:18:54.845Z"
   },
   {
    "duration": 93,
    "start_time": "2021-09-15T15:18:54.900Z"
   },
   {
    "duration": 73,
    "start_time": "2021-09-15T15:18:54.996Z"
   },
   {
    "duration": 119,
    "start_time": "2021-09-15T15:18:55.077Z"
   },
   {
    "duration": 124,
    "start_time": "2021-09-15T15:18:55.201Z"
   },
   {
    "duration": 98,
    "start_time": "2021-09-15T15:18:55.328Z"
   },
   {
    "duration": 58,
    "start_time": "2021-09-15T15:18:55.429Z"
   },
   {
    "duration": 94,
    "start_time": "2021-09-15T15:18:55.491Z"
   },
   {
    "duration": 37,
    "start_time": "2021-09-15T15:18:55.588Z"
   },
   {
    "duration": 162,
    "start_time": "2021-09-15T15:18:55.627Z"
   },
   {
    "duration": 32,
    "start_time": "2021-09-15T15:18:55.791Z"
   },
   {
    "duration": 127,
    "start_time": "2021-09-15T15:18:55.825Z"
   },
   {
    "duration": 31,
    "start_time": "2021-09-15T15:18:55.955Z"
   },
   {
    "duration": 36,
    "start_time": "2021-09-15T15:18:55.988Z"
   },
   {
    "duration": 63,
    "start_time": "2021-09-15T15:18:56.026Z"
   },
   {
    "duration": 6,
    "start_time": "2021-09-15T15:18:56.091Z"
   },
   {
    "duration": 41,
    "start_time": "2021-09-15T15:18:56.099Z"
   },
   {
    "duration": 24,
    "start_time": "2021-09-15T15:18:56.162Z"
   },
   {
    "duration": 43,
    "start_time": "2021-09-15T15:18:56.188Z"
   },
   {
    "duration": 70,
    "start_time": "2021-09-15T15:18:56.234Z"
   },
   {
    "duration": 21,
    "start_time": "2021-09-15T15:18:56.307Z"
   },
   {
    "duration": 32,
    "start_time": "2021-09-15T15:18:56.331Z"
   },
   {
    "duration": 8,
    "start_time": "2021-09-15T15:18:56.365Z"
   },
   {
    "duration": 22,
    "start_time": "2021-09-15T15:18:56.375Z"
   },
   {
    "duration": 19,
    "start_time": "2021-09-15T15:18:56.400Z"
   },
   {
    "duration": 474,
    "start_time": "2021-09-15T15:18:56.422Z"
   },
   {
    "duration": 520,
    "start_time": "2021-09-15T15:18:56.899Z"
   },
   {
    "duration": 40,
    "start_time": "2021-09-15T15:18:57.422Z"
   },
   {
    "duration": 10,
    "start_time": "2021-09-15T15:18:57.465Z"
   },
   {
    "duration": 21,
    "start_time": "2021-09-15T15:18:57.478Z"
   },
   {
    "duration": 14,
    "start_time": "2021-09-15T15:18:57.502Z"
   },
   {
    "duration": 47,
    "start_time": "2021-09-15T15:18:57.518Z"
   },
   {
    "duration": 330,
    "start_time": "2021-09-15T15:18:57.568Z"
   },
   {
    "duration": 592,
    "start_time": "2021-09-15T15:18:57.901Z"
   },
   {
    "duration": 17,
    "start_time": "2021-09-15T15:18:58.495Z"
   },
   {
    "duration": 8,
    "start_time": "2021-09-15T15:18:58.514Z"
   },
   {
    "duration": 13,
    "start_time": "2021-09-15T15:18:58.524Z"
   },
   {
    "duration": 8,
    "start_time": "2021-09-15T15:18:58.563Z"
   },
   {
    "duration": 16,
    "start_time": "2021-09-15T15:18:58.574Z"
   },
   {
    "duration": 20,
    "start_time": "2021-09-15T15:18:58.592Z"
   },
   {
    "duration": 14,
    "start_time": "2021-09-15T15:18:58.615Z"
   },
   {
    "duration": 561,
    "start_time": "2021-09-15T15:18:58.631Z"
   },
   {
    "duration": 596,
    "start_time": "2021-09-15T15:18:59.195Z"
   },
   {
    "duration": 13,
    "start_time": "2021-09-15T15:18:59.793Z"
   },
   {
    "duration": 65,
    "start_time": "2021-09-15T15:18:59.809Z"
   },
   {
    "duration": 12,
    "start_time": "2021-09-15T15:18:59.876Z"
   },
   {
    "duration": 10,
    "start_time": "2021-09-15T15:18:59.891Z"
   },
   {
    "duration": 574,
    "start_time": "2021-09-15T15:24:35.908Z"
   },
   {
    "duration": 38,
    "start_time": "2021-09-15T15:24:36.485Z"
   },
   {
    "duration": 51,
    "start_time": "2021-09-15T15:24:36.527Z"
   },
   {
    "duration": 34,
    "start_time": "2021-09-15T15:24:36.581Z"
   },
   {
    "duration": 69,
    "start_time": "2021-09-15T15:24:36.618Z"
   },
   {
    "duration": 25,
    "start_time": "2021-09-15T15:24:36.690Z"
   },
   {
    "duration": 45,
    "start_time": "2021-09-15T15:24:36.717Z"
   },
   {
    "duration": 20,
    "start_time": "2021-09-15T15:24:36.765Z"
   },
   {
    "duration": 114,
    "start_time": "2021-09-15T15:24:36.788Z"
   },
   {
    "duration": 106,
    "start_time": "2021-09-15T15:24:36.904Z"
   },
   {
    "duration": 25,
    "start_time": "2021-09-15T15:24:37.013Z"
   },
   {
    "duration": 126,
    "start_time": "2021-09-15T15:24:37.040Z"
   },
   {
    "duration": 49,
    "start_time": "2021-09-15T15:24:37.168Z"
   },
   {
    "duration": 159,
    "start_time": "2021-09-15T15:24:37.219Z"
   },
   {
    "duration": 12,
    "start_time": "2021-09-15T15:24:37.381Z"
   },
   {
    "duration": 92,
    "start_time": "2021-09-15T15:24:37.395Z"
   },
   {
    "duration": 140,
    "start_time": "2021-09-15T15:24:37.489Z"
   },
   {
    "duration": 139,
    "start_time": "2021-09-15T15:24:37.631Z"
   },
   {
    "duration": 68,
    "start_time": "2021-09-15T15:24:37.772Z"
   },
   {
    "duration": 54,
    "start_time": "2021-09-15T15:24:37.842Z"
   },
   {
    "duration": 89,
    "start_time": "2021-09-15T15:24:37.898Z"
   },
   {
    "duration": 57,
    "start_time": "2021-09-15T15:24:37.989Z"
   },
   {
    "duration": 126,
    "start_time": "2021-09-15T15:24:38.067Z"
   },
   {
    "duration": 117,
    "start_time": "2021-09-15T15:24:38.196Z"
   },
   {
    "duration": 97,
    "start_time": "2021-09-15T15:24:38.315Z"
   },
   {
    "duration": 49,
    "start_time": "2021-09-15T15:24:38.414Z"
   },
   {
    "duration": 73,
    "start_time": "2021-09-15T15:24:38.465Z"
   },
   {
    "duration": 53,
    "start_time": "2021-09-15T15:24:38.540Z"
   },
   {
    "duration": 137,
    "start_time": "2021-09-15T15:24:38.595Z"
   },
   {
    "duration": 38,
    "start_time": "2021-09-15T15:24:38.735Z"
   },
   {
    "duration": 115,
    "start_time": "2021-09-15T15:24:38.775Z"
   },
   {
    "duration": 29,
    "start_time": "2021-09-15T15:24:38.892Z"
   },
   {
    "duration": 55,
    "start_time": "2021-09-15T15:24:38.924Z"
   },
   {
    "duration": 40,
    "start_time": "2021-09-15T15:24:38.981Z"
   },
   {
    "duration": 7,
    "start_time": "2021-09-15T15:24:39.023Z"
   },
   {
    "duration": 41,
    "start_time": "2021-09-15T15:24:39.061Z"
   },
   {
    "duration": 27,
    "start_time": "2021-09-15T15:24:39.104Z"
   },
   {
    "duration": 58,
    "start_time": "2021-09-15T15:24:39.134Z"
   },
   {
    "duration": 68,
    "start_time": "2021-09-15T15:24:39.194Z"
   },
   {
    "duration": 20,
    "start_time": "2021-09-15T15:24:39.265Z"
   },
   {
    "duration": 9,
    "start_time": "2021-09-15T15:24:39.288Z"
   },
   {
    "duration": 13,
    "start_time": "2021-09-15T15:24:39.300Z"
   },
   {
    "duration": 50,
    "start_time": "2021-09-15T15:24:39.315Z"
   },
   {
    "duration": 8,
    "start_time": "2021-09-15T15:24:39.367Z"
   },
   {
    "duration": 353,
    "start_time": "2021-09-15T15:24:39.377Z"
   },
   {
    "duration": 485,
    "start_time": "2021-09-15T15:24:39.733Z"
   },
   {
    "duration": 40,
    "start_time": "2021-09-15T15:24:40.221Z"
   },
   {
    "duration": 9,
    "start_time": "2021-09-15T15:24:40.264Z"
   },
   {
    "duration": 14,
    "start_time": "2021-09-15T15:24:40.276Z"
   },
   {
    "duration": 8,
    "start_time": "2021-09-15T15:24:40.293Z"
   },
   {
    "duration": 8,
    "start_time": "2021-09-15T15:24:40.304Z"
   },
   {
    "duration": 375,
    "start_time": "2021-09-15T15:24:40.315Z"
   },
   {
    "duration": 570,
    "start_time": "2021-09-15T15:24:40.692Z"
   },
   {
    "duration": 15,
    "start_time": "2021-09-15T15:24:41.264Z"
   },
   {
    "duration": 7,
    "start_time": "2021-09-15T15:24:41.282Z"
   },
   {
    "duration": 13,
    "start_time": "2021-09-15T15:24:41.292Z"
   },
   {
    "duration": 11,
    "start_time": "2021-09-15T15:24:41.308Z"
   },
   {
    "duration": 45,
    "start_time": "2021-09-15T15:24:41.322Z"
   },
   {
    "duration": 9,
    "start_time": "2021-09-15T15:24:41.369Z"
   },
   {
    "duration": 9,
    "start_time": "2021-09-15T15:24:41.380Z"
   },
   {
    "duration": 590,
    "start_time": "2021-09-15T15:24:41.391Z"
   },
   {
    "duration": 898,
    "start_time": "2021-09-15T15:24:41.983Z"
   },
   {
    "duration": 16,
    "start_time": "2021-09-15T15:24:42.884Z"
   },
   {
    "duration": 76,
    "start_time": "2021-09-15T15:24:42.903Z"
   },
   {
    "duration": 18,
    "start_time": "2021-09-15T15:24:42.982Z"
   },
   {
    "duration": 31,
    "start_time": "2021-09-15T15:24:43.003Z"
   },
   {
    "duration": 414,
    "start_time": "2021-09-16T07:56:59.522Z"
   },
   {
    "duration": 377,
    "start_time": "2021-09-16T08:35:06.317Z"
   },
   {
    "duration": 1754,
    "start_time": "2021-09-16T08:35:09.687Z"
   },
   {
    "duration": 46,
    "start_time": "2021-09-16T08:35:11.444Z"
   },
   {
    "duration": 44,
    "start_time": "2021-09-16T08:35:11.494Z"
   },
   {
    "duration": 52,
    "start_time": "2021-09-16T08:35:11.541Z"
   },
   {
    "duration": 45,
    "start_time": "2021-09-16T08:35:11.596Z"
   },
   {
    "duration": 47,
    "start_time": "2021-09-16T08:35:11.643Z"
   },
   {
    "duration": 17,
    "start_time": "2021-09-16T08:35:11.692Z"
   },
   {
    "duration": 64,
    "start_time": "2021-09-16T08:35:11.713Z"
   },
   {
    "duration": 155,
    "start_time": "2021-09-16T08:35:11.781Z"
   },
   {
    "duration": 184,
    "start_time": "2021-09-16T08:35:11.939Z"
   },
   {
    "duration": 36,
    "start_time": "2021-09-16T08:35:12.126Z"
   },
   {
    "duration": 170,
    "start_time": "2021-09-16T08:35:12.164Z"
   },
   {
    "duration": 53,
    "start_time": "2021-09-16T08:35:12.336Z"
   },
   {
    "duration": 186,
    "start_time": "2021-09-16T08:35:12.391Z"
   },
   {
    "duration": 12,
    "start_time": "2021-09-16T08:35:12.582Z"
   },
   {
    "duration": 92,
    "start_time": "2021-09-16T08:35:12.597Z"
   },
   {
    "duration": 137,
    "start_time": "2021-09-16T08:35:12.691Z"
   },
   {
    "duration": 135,
    "start_time": "2021-09-16T08:35:12.830Z"
   },
   {
    "duration": 73,
    "start_time": "2021-09-16T08:35:12.967Z"
   },
   {
    "duration": 52,
    "start_time": "2021-09-16T08:35:13.043Z"
   },
   {
    "duration": 84,
    "start_time": "2021-09-16T08:35:13.098Z"
   },
   {
    "duration": 58,
    "start_time": "2021-09-16T08:35:13.184Z"
   },
   {
    "duration": 123,
    "start_time": "2021-09-16T08:35:13.248Z"
   },
   {
    "duration": 121,
    "start_time": "2021-09-16T08:35:13.374Z"
   },
   {
    "duration": 101,
    "start_time": "2021-09-16T08:35:13.497Z"
   },
   {
    "duration": 41,
    "start_time": "2021-09-16T08:35:13.600Z"
   },
   {
    "duration": 116,
    "start_time": "2021-09-16T08:35:13.643Z"
   },
   {
    "duration": 46,
    "start_time": "2021-09-16T08:35:13.761Z"
   },
   {
    "duration": 138,
    "start_time": "2021-09-16T08:35:13.809Z"
   },
   {
    "duration": 43,
    "start_time": "2021-09-16T08:35:13.950Z"
   },
   {
    "duration": 136,
    "start_time": "2021-09-16T08:35:13.996Z"
   },
   {
    "duration": 27,
    "start_time": "2021-09-16T08:35:14.134Z"
   },
   {
    "duration": 47,
    "start_time": "2021-09-16T08:35:14.163Z"
   },
   {
    "duration": 39,
    "start_time": "2021-09-16T08:35:14.212Z"
   },
   {
    "duration": 29,
    "start_time": "2021-09-16T08:35:14.253Z"
   },
   {
    "duration": 39,
    "start_time": "2021-09-16T08:35:14.285Z"
   },
   {
    "duration": 23,
    "start_time": "2021-09-16T08:35:14.326Z"
   },
   {
    "duration": 31,
    "start_time": "2021-09-16T08:35:14.382Z"
   },
   {
    "duration": 42,
    "start_time": "2021-09-16T08:35:14.417Z"
   },
   {
    "duration": 21,
    "start_time": "2021-09-16T08:35:14.483Z"
   },
   {
    "duration": 8,
    "start_time": "2021-09-16T08:35:14.506Z"
   },
   {
    "duration": 14,
    "start_time": "2021-09-16T08:35:14.516Z"
   },
   {
    "duration": 22,
    "start_time": "2021-09-16T08:35:14.532Z"
   },
   {
    "duration": 29,
    "start_time": "2021-09-16T08:35:14.556Z"
   },
   {
    "duration": 520,
    "start_time": "2021-09-16T08:35:14.587Z"
   },
   {
    "duration": 490,
    "start_time": "2021-09-16T08:35:15.109Z"
   },
   {
    "duration": 22,
    "start_time": "2021-09-16T08:35:15.601Z"
   },
   {
    "duration": 19,
    "start_time": "2021-09-16T08:35:15.625Z"
   },
   {
    "duration": 47,
    "start_time": "2021-09-16T08:35:15.646Z"
   },
   {
    "duration": 8,
    "start_time": "2021-09-16T08:35:15.696Z"
   },
   {
    "duration": 11,
    "start_time": "2021-09-16T08:35:15.706Z"
   },
   {
    "duration": 322,
    "start_time": "2021-09-16T08:35:15.719Z"
   },
   {
    "duration": 551,
    "start_time": "2021-09-16T08:35:16.044Z"
   },
   {
    "duration": 19,
    "start_time": "2021-09-16T08:35:16.598Z"
   },
   {
    "duration": 8,
    "start_time": "2021-09-16T08:35:16.620Z"
   },
   {
    "duration": 21,
    "start_time": "2021-09-16T08:35:16.630Z"
   },
   {
    "duration": 28,
    "start_time": "2021-09-16T08:35:16.654Z"
   },
   {
    "duration": 11,
    "start_time": "2021-09-16T08:35:16.685Z"
   },
   {
    "duration": 12,
    "start_time": "2021-09-16T08:35:16.698Z"
   },
   {
    "duration": 11,
    "start_time": "2021-09-16T08:35:16.712Z"
   },
   {
    "duration": 697,
    "start_time": "2021-09-16T08:35:16.726Z"
   },
   {
    "duration": 864,
    "start_time": "2021-09-16T08:35:17.425Z"
   },
   {
    "duration": 13,
    "start_time": "2021-09-16T08:35:18.292Z"
   },
   {
    "duration": 42,
    "start_time": "2021-09-16T08:35:18.307Z"
   },
   {
    "duration": 32,
    "start_time": "2021-09-16T08:35:18.352Z"
   },
   {
    "duration": 10,
    "start_time": "2021-09-16T08:35:18.387Z"
   },
   {
    "duration": 38,
    "start_time": "2021-09-16T08:36:06.127Z"
   },
   {
    "duration": 40,
    "start_time": "2021-09-16T08:36:12.588Z"
   },
   {
    "duration": 38,
    "start_time": "2021-09-16T08:36:20.226Z"
   },
   {
    "duration": 376,
    "start_time": "2022-01-12T15:56:15.759Z"
   },
   {
    "duration": 2079,
    "start_time": "2022-01-12T15:56:18.249Z"
   },
   {
    "duration": 65,
    "start_time": "2022-01-12T15:56:20.336Z"
   },
   {
    "duration": 76,
    "start_time": "2022-01-12T15:56:20.405Z"
   },
   {
    "duration": 48,
    "start_time": "2022-01-12T15:56:20.485Z"
   },
   {
    "duration": 80,
    "start_time": "2022-01-12T15:56:20.537Z"
   },
   {
    "duration": 59,
    "start_time": "2022-01-12T15:56:20.620Z"
   },
   {
    "duration": 32,
    "start_time": "2022-01-12T15:56:20.682Z"
   },
   {
    "duration": 50,
    "start_time": "2022-01-12T15:56:20.720Z"
   },
   {
    "duration": 155,
    "start_time": "2022-01-12T15:56:20.774Z"
   },
   {
    "duration": 174,
    "start_time": "2022-01-12T15:56:20.932Z"
   },
   {
    "duration": 39,
    "start_time": "2022-01-12T15:56:21.109Z"
   },
   {
    "duration": 143,
    "start_time": "2022-01-12T15:56:21.167Z"
   },
   {
    "duration": 70,
    "start_time": "2022-01-12T15:56:21.312Z"
   },
   {
    "duration": 213,
    "start_time": "2022-01-12T15:56:21.386Z"
   },
   {
    "duration": 15,
    "start_time": "2022-01-12T15:56:21.602Z"
   },
   {
    "duration": 119,
    "start_time": "2022-01-12T15:56:21.620Z"
   },
   {
    "duration": 155,
    "start_time": "2022-01-12T15:56:21.743Z"
   },
   {
    "duration": 206,
    "start_time": "2022-01-12T15:56:21.901Z"
   },
   {
    "duration": 97,
    "start_time": "2022-01-12T15:56:22.109Z"
   },
   {
    "duration": 64,
    "start_time": "2022-01-12T15:56:22.209Z"
   },
   {
    "duration": 120,
    "start_time": "2022-01-12T15:56:22.276Z"
   },
   {
    "duration": 85,
    "start_time": "2022-01-12T15:56:22.399Z"
   },
   {
    "duration": 175,
    "start_time": "2022-01-12T15:56:22.494Z"
   },
   {
    "duration": 184,
    "start_time": "2022-01-12T15:56:22.672Z"
   },
   {
    "duration": 117,
    "start_time": "2022-01-12T15:56:22.860Z"
   },
   {
    "duration": 47,
    "start_time": "2022-01-12T15:56:22.981Z"
   },
   {
    "duration": 139,
    "start_time": "2022-01-12T15:56:23.031Z"
   },
   {
    "duration": 53,
    "start_time": "2022-01-12T15:56:23.175Z"
   },
   {
    "duration": 221,
    "start_time": "2022-01-12T15:56:23.232Z"
   },
   {
    "duration": 44,
    "start_time": "2022-01-12T15:56:23.457Z"
   },
   {
    "duration": 153,
    "start_time": "2022-01-12T15:56:23.504Z"
   },
   {
    "duration": 40,
    "start_time": "2022-01-12T15:56:23.661Z"
   },
   {
    "duration": 40,
    "start_time": "2022-01-12T15:56:23.704Z"
   },
   {
    "duration": 59,
    "start_time": "2022-01-12T15:56:23.768Z"
   },
   {
    "duration": 12,
    "start_time": "2022-01-12T15:56:23.830Z"
   },
   {
    "duration": 50,
    "start_time": "2022-01-12T15:56:23.866Z"
   },
   {
    "duration": 50,
    "start_time": "2022-01-12T15:56:23.919Z"
   },
   {
    "duration": 34,
    "start_time": "2022-01-12T15:56:23.971Z"
   },
   {
    "duration": 73,
    "start_time": "2022-01-12T15:56:24.008Z"
   },
   {
    "duration": 25,
    "start_time": "2022-01-12T15:56:24.085Z"
   },
   {
    "duration": 10,
    "start_time": "2022-01-12T15:56:24.113Z"
   },
   {
    "duration": 51,
    "start_time": "2022-01-12T15:56:24.126Z"
   },
   {
    "duration": 20,
    "start_time": "2022-01-12T15:56:24.181Z"
   },
   {
    "duration": 5,
    "start_time": "2022-01-12T15:56:24.205Z"
   },
   {
    "duration": 636,
    "start_time": "2022-01-12T15:56:24.213Z"
   },
   {
    "duration": 436,
    "start_time": "2022-01-12T15:56:24.852Z"
   },
   {
    "duration": 30,
    "start_time": "2022-01-12T15:56:25.290Z"
   },
   {
    "duration": 15,
    "start_time": "2022-01-12T15:56:25.323Z"
   },
   {
    "duration": 9,
    "start_time": "2022-01-12T15:56:25.368Z"
   },
   {
    "duration": 12,
    "start_time": "2022-01-12T15:56:25.380Z"
   },
   {
    "duration": 9,
    "start_time": "2022-01-12T15:56:25.395Z"
   },
   {
    "duration": 439,
    "start_time": "2022-01-12T15:56:25.407Z"
   },
   {
    "duration": 671,
    "start_time": "2022-01-12T15:56:25.849Z"
   },
   {
    "duration": 17,
    "start_time": "2022-01-12T15:56:26.522Z"
   },
   {
    "duration": 25,
    "start_time": "2022-01-12T15:56:26.543Z"
   },
   {
    "duration": 17,
    "start_time": "2022-01-12T15:56:26.571Z"
   },
   {
    "duration": 10,
    "start_time": "2022-01-12T15:56:26.590Z"
   },
   {
    "duration": 14,
    "start_time": "2022-01-12T15:56:26.603Z"
   },
   {
    "duration": 48,
    "start_time": "2022-01-12T15:56:26.620Z"
   },
   {
    "duration": 11,
    "start_time": "2022-01-12T15:56:26.670Z"
   },
   {
    "duration": 573,
    "start_time": "2022-01-12T15:56:26.684Z"
   },
   {
    "duration": 672,
    "start_time": "2022-01-12T15:56:27.267Z"
   },
   {
    "duration": 25,
    "start_time": "2022-01-12T15:56:27.942Z"
   },
   {
    "duration": 40,
    "start_time": "2022-01-12T15:56:27.970Z"
   },
   {
    "duration": 13,
    "start_time": "2022-01-12T15:56:28.013Z"
   },
   {
    "duration": 618,
    "start_time": "2022-01-12T15:56:28.028Z"
   },
   {
    "duration": 791,
    "start_time": "2022-04-10T14:40:33.221Z"
   },
   {
    "duration": 414,
    "start_time": "2022-04-10T14:40:34.014Z"
   },
   {
    "duration": 33,
    "start_time": "2022-04-10T14:40:34.429Z"
   },
   {
    "duration": 25,
    "start_time": "2022-04-10T14:40:34.464Z"
   },
   {
    "duration": 25,
    "start_time": "2022-04-10T14:40:34.490Z"
   },
   {
    "duration": 25,
    "start_time": "2022-04-10T14:40:34.517Z"
   },
   {
    "duration": 45,
    "start_time": "2022-04-10T14:40:34.544Z"
   },
   {
    "duration": 13,
    "start_time": "2022-04-10T14:40:34.591Z"
   },
   {
    "duration": 16,
    "start_time": "2022-04-10T14:40:34.605Z"
   },
   {
    "duration": 86,
    "start_time": "2022-04-10T14:40:34.624Z"
   },
   {
    "duration": 55,
    "start_time": "2022-04-10T14:40:34.712Z"
   },
   {
    "duration": 17,
    "start_time": "2022-04-10T14:40:34.781Z"
   },
   {
    "duration": 60,
    "start_time": "2022-04-10T14:40:34.800Z"
   },
   {
    "duration": 43,
    "start_time": "2022-04-10T14:40:34.862Z"
   },
   {
    "duration": 124,
    "start_time": "2022-04-10T14:40:34.907Z"
   },
   {
    "duration": 7,
    "start_time": "2022-04-10T14:40:35.033Z"
   },
   {
    "duration": 51,
    "start_time": "2022-04-10T14:40:35.042Z"
   },
   {
    "duration": 41,
    "start_time": "2022-04-10T14:40:35.095Z"
   },
   {
    "duration": 57,
    "start_time": "2022-04-10T14:40:35.138Z"
   },
   {
    "duration": 36,
    "start_time": "2022-04-10T14:40:35.196Z"
   },
   {
    "duration": 22,
    "start_time": "2022-04-10T14:40:35.234Z"
   },
   {
    "duration": 60,
    "start_time": "2022-04-10T14:40:35.257Z"
   },
   {
    "duration": 33,
    "start_time": "2022-04-10T14:40:35.318Z"
   },
   {
    "duration": 51,
    "start_time": "2022-04-10T14:40:35.352Z"
   },
   {
    "duration": 38,
    "start_time": "2022-04-10T14:40:35.405Z"
   },
   {
    "duration": 62,
    "start_time": "2022-04-10T14:40:35.444Z"
   },
   {
    "duration": 26,
    "start_time": "2022-04-10T14:40:35.507Z"
   },
   {
    "duration": 69,
    "start_time": "2022-04-10T14:40:35.537Z"
   },
   {
    "duration": 17,
    "start_time": "2022-04-10T14:40:35.608Z"
   },
   {
    "duration": 55,
    "start_time": "2022-04-10T14:40:35.626Z"
   },
   {
    "duration": 14,
    "start_time": "2022-04-10T14:40:35.683Z"
   },
   {
    "duration": 34,
    "start_time": "2022-04-10T14:40:35.699Z"
   },
   {
    "duration": 14,
    "start_time": "2022-04-10T14:40:35.734Z"
   },
   {
    "duration": 32,
    "start_time": "2022-04-10T14:40:35.750Z"
   },
   {
    "duration": 20,
    "start_time": "2022-04-10T14:40:35.784Z"
   },
   {
    "duration": 3,
    "start_time": "2022-04-10T14:40:35.806Z"
   },
   {
    "duration": 24,
    "start_time": "2022-04-10T14:40:35.810Z"
   },
   {
    "duration": 15,
    "start_time": "2022-04-10T14:40:35.835Z"
   },
   {
    "duration": 43,
    "start_time": "2022-04-10T14:40:35.851Z"
   },
   {
    "duration": 21,
    "start_time": "2022-04-10T14:40:35.895Z"
   },
   {
    "duration": 11,
    "start_time": "2022-04-10T14:40:35.917Z"
   },
   {
    "duration": 6,
    "start_time": "2022-04-10T14:40:35.930Z"
   },
   {
    "duration": 6,
    "start_time": "2022-04-10T14:40:35.937Z"
   },
   {
    "duration": 39,
    "start_time": "2022-04-10T14:40:35.944Z"
   },
   {
    "duration": 5,
    "start_time": "2022-04-10T14:40:35.984Z"
   },
   {
    "duration": 492,
    "start_time": "2022-04-10T14:40:35.990Z"
   },
   {
    "duration": 139,
    "start_time": "2022-04-10T14:40:36.484Z"
   },
   {
    "duration": 12,
    "start_time": "2022-04-10T14:40:36.625Z"
   },
   {
    "duration": 9,
    "start_time": "2022-04-10T14:40:36.639Z"
   },
   {
    "duration": 8,
    "start_time": "2022-04-10T14:40:36.649Z"
   },
   {
    "duration": 25,
    "start_time": "2022-04-10T14:40:36.658Z"
   },
   {
    "duration": 5,
    "start_time": "2022-04-10T14:40:36.684Z"
   },
   {
    "duration": 126,
    "start_time": "2022-04-10T14:40:36.691Z"
   },
   {
    "duration": 196,
    "start_time": "2022-04-10T14:40:36.818Z"
   },
   {
    "duration": 10,
    "start_time": "2022-04-10T14:40:37.016Z"
   },
   {
    "duration": 9,
    "start_time": "2022-04-10T14:40:37.028Z"
   },
   {
    "duration": 8,
    "start_time": "2022-04-10T14:40:37.038Z"
   },
   {
    "duration": 7,
    "start_time": "2022-04-10T14:40:37.048Z"
   },
   {
    "duration": 25,
    "start_time": "2022-04-10T14:40:37.056Z"
   },
   {
    "duration": 6,
    "start_time": "2022-04-10T14:40:37.082Z"
   },
   {
    "duration": 6,
    "start_time": "2022-04-10T14:40:37.089Z"
   },
   {
    "duration": 196,
    "start_time": "2022-04-10T14:40:37.096Z"
   },
   {
    "duration": 204,
    "start_time": "2022-04-10T14:40:37.293Z"
   },
   {
    "duration": 7,
    "start_time": "2022-04-10T14:40:37.499Z"
   },
   {
    "duration": 19,
    "start_time": "2022-04-10T14:40:37.507Z"
   },
   {
    "duration": 6,
    "start_time": "2022-04-10T14:40:37.528Z"
   },
   {
    "duration": 55,
    "start_time": "2022-04-10T14:40:37.535Z"
   },
   {
    "duration": 73,
    "start_time": "2022-04-14T15:12:36.185Z"
   },
   {
    "duration": 1040,
    "start_time": "2022-04-14T15:12:39.172Z"
   },
   {
    "duration": 611,
    "start_time": "2022-04-14T15:12:40.217Z"
   },
   {
    "duration": 53,
    "start_time": "2022-04-14T15:12:40.834Z"
   },
   {
    "duration": 51,
    "start_time": "2022-04-14T15:12:40.890Z"
   },
   {
    "duration": 38,
    "start_time": "2022-04-14T15:12:40.943Z"
   },
   {
    "duration": 48,
    "start_time": "2022-04-14T15:12:40.982Z"
   },
   {
    "duration": 41,
    "start_time": "2022-04-14T15:12:41.032Z"
   },
   {
    "duration": 18,
    "start_time": "2022-04-14T15:12:41.075Z"
   },
   {
    "duration": 47,
    "start_time": "2022-04-14T15:12:41.095Z"
   },
   {
    "duration": 118,
    "start_time": "2022-04-14T15:12:41.145Z"
   },
   {
    "duration": 97,
    "start_time": "2022-04-14T15:12:41.265Z"
   },
   {
    "duration": 21,
    "start_time": "2022-04-14T15:12:41.364Z"
   },
   {
    "duration": 99,
    "start_time": "2022-04-14T15:12:41.386Z"
   },
   {
    "duration": 49,
    "start_time": "2022-04-14T15:12:41.487Z"
   },
   {
    "duration": 155,
    "start_time": "2022-04-14T15:12:41.538Z"
   },
   {
    "duration": 10,
    "start_time": "2022-04-14T15:12:41.696Z"
   },
   {
    "duration": 85,
    "start_time": "2022-04-14T15:12:41.709Z"
   },
   {
    "duration": 96,
    "start_time": "2022-04-14T15:12:41.797Z"
   },
   {
    "duration": 99,
    "start_time": "2022-04-14T15:12:41.896Z"
   },
   {
    "duration": 66,
    "start_time": "2022-04-14T15:12:41.998Z"
   },
   {
    "duration": 38,
    "start_time": "2022-04-14T15:12:42.066Z"
   },
   {
    "duration": 74,
    "start_time": "2022-04-14T15:12:42.118Z"
   },
   {
    "duration": 75,
    "start_time": "2022-04-14T15:12:42.194Z"
   },
   {
    "duration": 80,
    "start_time": "2022-04-14T15:12:42.271Z"
   },
   {
    "duration": 48,
    "start_time": "2022-04-14T15:12:42.353Z"
   },
   {
    "duration": 62,
    "start_time": "2022-04-14T15:12:42.424Z"
   },
   {
    "duration": 54,
    "start_time": "2022-04-14T15:12:42.488Z"
   },
   {
    "duration": 84,
    "start_time": "2022-04-14T15:12:42.551Z"
   },
   {
    "duration": 31,
    "start_time": "2022-04-14T15:12:42.637Z"
   },
   {
    "duration": 67,
    "start_time": "2022-04-14T15:12:42.671Z"
   },
   {
    "duration": 26,
    "start_time": "2022-04-14T15:12:42.740Z"
   },
   {
    "duration": 59,
    "start_time": "2022-04-14T15:12:42.768Z"
   },
   {
    "duration": 28,
    "start_time": "2022-04-14T15:12:42.829Z"
   },
   {
    "duration": 24,
    "start_time": "2022-04-14T15:12:42.859Z"
   },
   {
    "duration": 44,
    "start_time": "2022-04-14T15:12:42.885Z"
   },
   {
    "duration": 5,
    "start_time": "2022-04-14T15:12:42.931Z"
   },
   {
    "duration": 41,
    "start_time": "2022-04-14T15:12:42.938Z"
   },
   {
    "duration": 19,
    "start_time": "2022-04-14T15:12:42.981Z"
   },
   {
    "duration": 42,
    "start_time": "2022-04-14T15:12:43.002Z"
   },
   {
    "duration": 34,
    "start_time": "2022-04-14T15:12:43.046Z"
   },
   {
    "duration": 18,
    "start_time": "2022-04-14T15:12:43.082Z"
   },
   {
    "duration": 38,
    "start_time": "2022-04-14T15:12:43.103Z"
   },
   {
    "duration": 15,
    "start_time": "2022-04-14T15:12:43.145Z"
   },
   {
    "duration": 17,
    "start_time": "2022-04-14T15:12:43.162Z"
   },
   {
    "duration": 12,
    "start_time": "2022-04-14T15:12:43.180Z"
   },
   {
    "duration": 987,
    "start_time": "2022-04-14T15:12:43.194Z"
   },
   {
    "duration": 202,
    "start_time": "2022-04-14T15:12:44.184Z"
   },
   {
    "duration": 17,
    "start_time": "2022-04-14T15:12:44.388Z"
   },
   {
    "duration": 21,
    "start_time": "2022-04-14T15:12:44.419Z"
   },
   {
    "duration": 28,
    "start_time": "2022-04-14T15:12:44.449Z"
   },
   {
    "duration": 13,
    "start_time": "2022-04-14T15:12:44.480Z"
   },
   {
    "duration": 13,
    "start_time": "2022-04-14T15:12:44.495Z"
   },
   {
    "duration": 186,
    "start_time": "2022-04-14T15:12:44.510Z"
   },
   {
    "duration": 246,
    "start_time": "2022-04-14T15:12:44.697Z"
   },
   {
    "duration": 13,
    "start_time": "2022-04-14T15:12:44.945Z"
   },
   {
    "duration": 42,
    "start_time": "2022-04-14T15:12:44.959Z"
   },
   {
    "duration": 74,
    "start_time": "2022-04-14T15:12:45.003Z"
   },
   {
    "duration": 17,
    "start_time": "2022-04-14T15:12:45.079Z"
   },
   {
    "duration": 33,
    "start_time": "2022-04-14T15:12:45.098Z"
   },
   {
    "duration": 27,
    "start_time": "2022-04-14T15:12:45.135Z"
   },
   {
    "duration": 14,
    "start_time": "2022-04-14T15:12:45.164Z"
   },
   {
    "duration": 255,
    "start_time": "2022-04-14T15:12:45.181Z"
   },
   {
    "duration": 364,
    "start_time": "2022-04-14T15:12:45.437Z"
   },
   {
    "duration": 23,
    "start_time": "2022-04-14T15:12:45.803Z"
   },
   {
    "duration": 43,
    "start_time": "2022-04-14T15:12:45.828Z"
   },
   {
    "duration": 14,
    "start_time": "2022-04-14T15:12:45.873Z"
   },
   {
    "duration": 80,
    "start_time": "2022-04-14T15:12:45.891Z"
   },
   {
    "duration": 4,
    "start_time": "2022-04-14T15:14:35.453Z"
   },
   {
    "duration": 592,
    "start_time": "2022-04-14T15:14:36.061Z"
   },
   {
    "duration": 36,
    "start_time": "2022-04-14T15:14:36.789Z"
   },
   {
    "duration": 98,
    "start_time": "2022-04-14T15:14:41.884Z"
   },
   {
    "duration": 14,
    "start_time": "2022-04-14T15:14:50.676Z"
   },
   {
    "duration": 6,
    "start_time": "2022-04-14T15:15:19.268Z"
   },
   {
    "duration": 15,
    "start_time": "2022-04-14T15:15:26.769Z"
   },
   {
    "duration": 85,
    "start_time": "2022-04-14T15:16:30.886Z"
   }
  ],
  "kernelspec": {
   "display_name": "Python 3 (ipykernel)",
   "language": "python",
   "name": "python3"
  },
  "language_info": {
   "codemirror_mode": {
    "name": "ipython",
    "version": 3
   },
   "file_extension": ".py",
   "mimetype": "text/x-python",
   "name": "python",
   "nbconvert_exporter": "python",
   "pygments_lexer": "ipython3",
   "version": "3.9.7"
  },
  "toc": {
   "base_numbering": 1,
   "nav_menu": {},
   "number_sections": false,
   "sideBar": true,
   "skip_h1_title": true,
   "title_cell": "Table of Contents",
   "title_sidebar": "Contents",
   "toc_cell": false,
   "toc_position": {},
   "toc_section_display": true,
   "toc_window_display": true
  }
 },
 "nbformat": 4,
 "nbformat_minor": 2
}
